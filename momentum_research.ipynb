{
  "nbformat": 4,
  "nbformat_minor": 0,
  "metadata": {
    "colab": {
      "name": "momentum_research.ipynb",
      "provenance": [],
      "collapsed_sections": [],
      "mount_file_id": "1x2qbpBgre0ogzI-jKnVwkevTcTtI7uOA",
      "authorship_tag": "ABX9TyNDqcfcS2IyKR00iEc9uRxm",
      "include_colab_link": true
    },
    "kernelspec": {
      "display_name": "Python 3",
      "name": "python3"
    }
  },
  "cells": [
    {
      "cell_type": "markdown",
      "metadata": {
        "id": "view-in-github",
        "colab_type": "text"
      },
      "source": [
        "<a href=\"https://colab.research.google.com/github/ivoytov/manhattan/blob/master/momentum_research.ipynb\" target=\"_parent\"><img src=\"https://colab.research.google.com/assets/colab-badge.svg\" alt=\"Open In Colab\"/></a>"
      ]
    },
    {
      "cell_type": "code",
      "metadata": {
        "id": "sBPemmImCQ5Q"
      },
      "source": [
        "import numpy as np\n",
        "import pandas as pd\n",
        "import datetime\n",
        "import matplotlib.pyplot as plt\n",
        "from sklearn.base import BaseEstimator, TransformerMixin\n",
        "from sklearn.compose import ColumnTransformer\n",
        "from sklearn.ensemble import RandomForestClassifier, BaggingClassifier\n",
        "from sklearn.impute import SimpleImputer\n",
        "from sklearn.metrics import precision_score, recall_score, confusion_matrix, roc_auc_score, roc_curve\n",
        "from sklearn.model_selection import train_test_split\n",
        "from sklearn.pipeline import Pipeline, FeatureUnion\n",
        "from sklearn.preprocessing import StandardScaler, OneHotEncoder\n",
        "from sklearn.tree import DecisionTreeClassifier\n",
        "from typing import Tuple"
      ],
      "execution_count": 148,
      "outputs": []
    },
    {
      "cell_type": "markdown",
      "metadata": {
        "id": "zGwN_DLlCj8J"
      },
      "source": [
        "### Data Sources ###\r\n",
        "Loan data is from Bloomberg BVAL, based on end of day price valuation. Loan list is compiled by screening for:\r\n",
        "\r\n",
        "1.   Active Loans\r\n",
        "2.   First Lien Rank\r\n",
        "3.   Incorporated in the U.S.\r\n",
        "4.   Denominated in USD\r\n",
        "5.   \\>= $1B outstanding\r\n",
        "6.   Non-Investment Grade Rating from either S&P *or* Moody's\r\n",
        "\r\n",
        "The screen is run as of the last day of every quarter (3/31, 6/30, 9/30, and 12/31). Loans that mature or expire during a quarter are included in that quarterly period, but are removed from the screen for the following quarter.\r\n",
        "\r\n",
        "### Data Format\r\n",
        "\r\n",
        "* `loan_data` - Loan IDs are arranged as separate columns, with the first column containing the date index. Price is listed as values in XX.XX format (% of par). If price is unavailable, then #N/A is listed. Trading days only. There are two files, one for loans from 12-31-2018 to 10-15-2020 period, and one for the 12-31-2015 to 12-31-2018 period.\r\n",
        "\r\n",
        "* `loan_desc` - Loan IDs are arranged in the first column, with subsequent columns containing metadata on the loan.\r\n",
        "\r\n",
        "* `periods` - Quarters are listed as separate columns. Loan IDs from the above-mentioned screen are listed under the column header with the `as of` date."
      ]
    },
    {
      "cell_type": "code",
      "metadata": {
        "id": "DC8gVkkgHmoA",
        "colab": {
          "base_uri": "https://localhost:8080/"
        },
        "outputId": "cb40ddcb-5cad-4715-cabd-c047d9177e09"
      },
      "source": [
        "# read in historical prices\r\n",
        "prices_2020 = pd.read_csv('/content/drive/MyDrive/loans/price_data_2020_stub.csv', parse_dates=['Dates'], index_col='Dates')\r\n",
        "prices_2019_2020 = pd.read_csv('/content/drive/MyDrive/loans/price_data_2019-2020.csv', parse_dates=['Dates'], index_col='Dates')\r\n",
        "prices_2016_2018 = pd.read_csv('/content/drive/MyDrive/loans/price_data_2016-2018.csv', parse_dates=['Dates'], index_col='Dates')\r\n",
        "prices_2013_2015 = pd.read_csv('/content/drive/MyDrive/loans/price_data_2013-2015.csv', parse_dates=['Dates'], index_col='Dates')\r\n",
        "\r\n",
        "prices = pd.concat([prices_2013_2015, prices_2016_2018, prices_2019_2020, prices_2020], join=\"outer\", verify_integrity=True)\r\n",
        "print(\"(# dates, # tickers)\", prices.shape)\r\n",
        "prices = prices.fillna(method=\"pad\")"
      ],
      "execution_count": 149,
      "outputs": [
        {
          "output_type": "stream",
          "text": [
            "(# dates, # tickers) (2000, 1266)\n"
          ],
          "name": "stdout"
        }
      ]
    },
    {
      "cell_type": "markdown",
      "metadata": {
        "id": "VYns5E6xc3xt"
      },
      "source": [
        "Below is a price graph of the trading history of every loan that breached price of ~85 for the first time, for a 10 trading period before the breach and 10 day period after the breach. The mean is shown in thick blue. There is a slight upward momentum observed in loans that breach 85 for the following 5-7 trading days."
      ]
    },
    {
      "cell_type": "code",
      "metadata": {
        "id": "53leB7E1D35Q"
      },
      "source": [
        "def plotPricesAfterBigMove(prices: pd.DataFrame, trgtPrice: float, priceRange: float = 2., bigMove: float = 3.,  numDays: int = 10) -> None:\n",
        "  out = pd.DataFrame()\n",
        "  for ticker in prices:\n",
        "    close = prices[ticker]\n",
        "    try:\n",
        "      if bigMove > 0:\n",
        "        t0 = close[(close.diff(periods=numDays) > bigMove) & (close > trgtPrice - priceRange) & (close < trgtPrice + priceRange)].index[0]\n",
        "      else:\n",
        "        t0 = close[(close.diff(periods=numDays) < bigMove) & (close > trgtPrice - priceRange) & (close < trgtPrice + priceRange)].index[0]\n",
        "    except:\n",
        "      # loan never met criteria, skip\n",
        "      continue\n",
        "    yx = close.iloc[close.index.get_loc(t0) - numDays:close.index.get_loc(t0) + numDays]\n",
        "    yx.index = range(-numDays,len(yx.index)-numDays)\n",
        "    out = pd.concat([out, yx], axis=1)\n",
        "    \n",
        "  out.plot(kind=\"line\", legend=False, colormap=\"binary\", linewidth=.3)  \n",
        "  out.T.mean().plot(linewidth=3)"
      ],
      "execution_count": 150,
      "outputs": []
    },
    {
      "cell_type": "code",
      "metadata": {
        "id": "Kgt1N9RZlfQm"
      },
      "source": [
        "HOLD_DAYS = 10\n",
        "BIG_MOVE = 3\n",
        "LOOKBACK_DAYS = 10\n",
        "TARGET_PRICES = [85, 90]\n",
        "PRICE_RANGE=2"
      ],
      "execution_count": 151,
      "outputs": []
    },
    {
      "cell_type": "code",
      "metadata": {
        "colab": {
          "base_uri": "https://localhost:8080/",
          "height": 265
        },
        "id": "Oucbgq2KBkXf",
        "outputId": "f1fb8d9e-5991-44f3-bde3-8bd7b15a9132"
      },
      "source": [
        "plotPricesAfterBigMove(prices, trgtPrice=TARGET_PRICES[0], priceRange=PRICE_RANGE, bigMove=BIG_MOVE, numDays=LOOKBACK_DAYS)"
      ],
      "execution_count": 152,
      "outputs": [
        {
          "output_type": "display_data",
          "data": {
            "image/png": "[encoded data removed]",
            "text/plain": [
              "<Figure size 432x288 with 1 Axes>"
            ]
          },
          "metadata": {
            "tags": [],
            "needs_background": "light"
          }
        }
      ]
    },
    {
      "cell_type": "markdown",
      "metadata": {
        "id": "JMRhdw1qfK-g"
      },
      "source": [
        "Same analysis, but for loans that decline in price below 91. There is a stronger negative momentum effect, most likely due to a few cases that declined by 20% or more. The trend reverts sligtly after 5 days but is still meaningful."
      ]
    },
    {
      "cell_type": "code",
      "metadata": {
        "colab": {
          "base_uri": "https://localhost:8080/",
          "height": 265
        },
        "id": "0JB2UGpi4Pi2",
        "outputId": "e627e0f2-5003-4bb5-db22-2bdbdfc2b64f"
      },
      "source": [
        "plotPricesAfterBigMove(prices, trgtPrice=TARGET_PRICES[1], priceRange=PRICE_RANGE, bigMove=-BIG_MOVE, numDays=LOOKBACK_DAYS)"
      ],
      "execution_count": 153,
      "outputs": [
        {
          "output_type": "display_data",
          "data": {
            "image/png": "[encoded data removed]",
            "text/plain": [
              "<Figure size 432x288 with 1 Axes>"
            ]
          },
          "metadata": {
            "tags": [],
            "needs_background": "light"
          }
        }
      ]
    },
    {
      "cell_type": "markdown",
      "metadata": {
        "id": "h5VaHR7JO5Ex"
      },
      "source": [
        "The trading strategy is to buy every loan that has appreciated by at least 3% (`BIG_MOVE`) and traded into 83-87 price range (`BUY_PRICE_RANGE`) and to short every loan that traded into 88-92 price range while declining by the big move amount. To calculate the decline, we compare the price from 10 days ago (`LOOKBACK_DAYS`) to today, and put the trade on in the following trading session. To smooth out and reduce amount of spurious trading, we use a geometric moving average of the price to determine the signal but with only a 2 day span (given the very short term nature of this signal, a longer span period means we miss the period when the alpha is realized). We hold the position for a maximum of 10 days (`HOLD_DAYS`) - unless the position moves by 3% in either direction, when we stop loss or take profit early."
      ]
    },
    {
      "cell_type": "code",
      "metadata": {
        "id": "GpLULDX7Pzli"
      },
      "source": [
        "def getLabels(prices: pd.DataFrame, trgtPrices: Tuple[float, float], priceRange: float = 2., lookbackDays: int = 10, bigMove: float = 3.) -> pd.DataFrame:\n",
        "  prices_ma = prices.ewm(span=2).mean()\n",
        "  price_chg = prices_ma.diff(periods=lookbackDays)\n",
        "  buy = (price_chg.shift(1) > bigMove) & (prices > trgtPrices[0] - priceRange) & (prices < trgtPrices[0] + priceRange)\n",
        "  sell = (price_chg.shift(1) < -bigMove) & (prices > trgtPrices[1] - priceRange) & (prices < trgtPrices[1] + priceRange)\n",
        "  return buy*1.0 - sell*1.0"
      ],
      "execution_count": 154,
      "outputs": []
    },
    {
      "cell_type": "code",
      "metadata": {
        "id": "sucN2LvPmoKj"
      },
      "source": [
        "labels = getLabels(prices, trgtPrices=TARGET_PRICES, priceRange=PRICE_RANGE, lookbackDays=HOLD_DAYS, bigMove=BIG_MOVE)"
      ],
      "execution_count": 155,
      "outputs": []
    },
    {
      "cell_type": "markdown",
      "metadata": {
        "id": "sSyVlSWzJOD_"
      },
      "source": [
        "Functions to:\r\n",
        "* Generate labels between {-1, 0, 1} that mean we are short, neutral, or long the loan ID for that entire period\r\n",
        "\r\n",
        "* Generate bins between {0, 1} that mean that the trade was good (\\>$0 PNL, or `1`) or bad (negative PNL, or `0`) based on the side we picked in `labels` and the actual price change in the following period. Ignores interest income."
      ]
    },
    {
      "cell_type": "code",
      "metadata": {
        "id": "Pl7A7tu-U2-e"
      },
      "source": [
        "# triple barrier method function\n",
        "# close:  a pandas series of prices\n",
        "# events: a pandas dataframe wiht columns\n",
        "#   - t1:   the timestamp of vertical barrier. When np.nan, no vertical barrier\n",
        "#.  - trgt: the unit width of the horizontal barriers\n",
        "# ptSl: a list of two non negative floats\n",
        "#   - ptSl[0] the factor that multiplies trgt to set the width of the upper barrier. if 0, no upper barrier\n",
        "#   - ptSl[1] the factor tha multiplesi trgt ot set the width of the lower barrier. if 0, no lower barrier\n",
        "# molecule a list with the subset of event indices that will be processed by single thread\n",
        "\n",
        "def applyPtSlOnT1(close, events, ptSl, molecule):\n",
        "    # apply stop loss/profit taking, if it takes place before t1 (end of event)\n",
        "    events_ = events.loc[molecule]\n",
        "    out = events_[['t1']].copy(deep=True)\n",
        "    if ptSl[0]>0:\n",
        "        pt = ptSl[0] * events_['trgt']\n",
        "    else:\n",
        "        pt = pd.Series(index=events.index) #NaNs\n",
        "\n",
        "    if ptSl[1] > 0:\n",
        "        sl = -ptSl[1] * events_['trgt']\n",
        "    else:\n",
        "        sl = pd.Series(index = events.index) #NaNs\n",
        "\n",
        "    for loc, t1 in events_['t1'].fillna(close.index[-1]).iteritems():\n",
        "        df0 = close[loc:t1] #path prices\n",
        "        df0 = (df0 / close[loc] -1) * events_.at[loc,'side'] # path returns\n",
        "        out.loc[loc, 'sl'] = df0[df0 < sl[loc]].index.min() # earliest stop loss\n",
        "        out.loc[loc, 'pt'] = df0[df0 > pt[loc]].index.min() # earliest profit taking\n",
        "    return out\n",
        "\n",
        "def getVertBarrier(gRaw, tEvents, numDays: int) -> pd.Series:\n",
        "    t1 = gRaw.index.searchsorted(tEvents + pd.Timedelta(days = numDays))\n",
        "    t1 = t1[t1 < gRaw.shape[0]]\n",
        "    t1 = pd.Series(gRaw.index[t1], index=tEvents[:t1.shape[0]]) #NaNs at the end\n",
        "    t1 = t1.rename('t1')\n",
        "    return t1\n",
        "\n",
        "def getBins(events: pd.DataFrame, close: pd.Series) -> pd.DataFrame:\n",
        "    '''\n",
        "    Compute event's outcome (including side info, if provided)\n",
        "    events is a dataframe where:\n",
        "    -events.index is event's starttime\n",
        "    -events['t1'] is event's endtime\n",
        "    -events['trgt'] is event's target return\n",
        "    -events['side'] (optional) implies the algo's position side\n",
        "    Case 1: ('side' not in events) bin in (-1, 1) <- label by price action\n",
        "    Case 2: ('side' in events) bin in (0,1) <- label by pnl (meta labeling)\n",
        "    '''\n",
        "    #1) prices aligned with events\n",
        "    events_ = events.dropna(subset=['t1'])\n",
        "    px = events_.index.union(events_['t1']).drop_duplicates()\n",
        "    px = close.reindex(px, method='bfill')\n",
        "\n",
        "    #2) create out object\n",
        "    out = pd.DataFrame(index = events_.index)\n",
        "    out['ret'] = px.loc[events_['t1']].values / px.loc[events_.index] - 1 \n",
        "    out['t1'] = events_['t1']\n",
        "    if 'side' in events_:\n",
        "        out['ret'] *= events_['side']     # meta-labeling\n",
        "\n",
        "    out['bin'] = np.sign(out['ret'])\n",
        "    if 'side' in events_:\n",
        "        out.loc[out['ret'] <= 0, 'bin'] = 0    # meta-labeling\n",
        "        out['side'] = events_['side']\n",
        "    return out\n",
        "\n",
        "# find the time of the first barrier touch\n",
        "#  close: pandas series of prices\n",
        "#  tEvents pandas timeindex of timestamps that will seed every ttriple barrier\n",
        "#  ptSl a non negative flat that sets the width of th two barriers (symm)\n",
        "# t1 pandas series with the timestamps of the vert barriers. pass false to disable\n",
        "# trgt: pandas series of targets, expressed in terms of absolute returns\n",
        "# minRet minimum target return required for running a triple barrier search\n",
        "# numThreads  not used yet\n",
        "\n",
        "# output:\n",
        "# - t1: timestamp of when the first barrier is touched\n",
        "# - trgt: the target that was used to generate the horizontal barrier\n",
        "\n",
        "def getEvents(close, tEvents, ptSl, trgt, minRet, numThreads, t1=False, side=None):\n",
        "    #1) get target\n",
        "    trgt = trgt.loc[tEvents]\n",
        "    trgt = trgt[trgt > minRet]\n",
        "\n",
        "    #2) get t1 (max holding period)\n",
        "    if t1 is False:\n",
        "        t1 = pd.Series(pd.NaT, index=tEvents, dtype='datetime64')\n",
        "\n",
        "    #3) form events object, apply stop loss on t1\n",
        "    if side is None:\n",
        "        side_ = pd.Series(1., index=trgt.index)\n",
        "        ptSl_ = [ptSl, ptSl]\n",
        "    else:\n",
        "        side_ = side.loc[trgt.index]\n",
        "        ptSl_ = ptSl[:2]\n",
        "\n",
        "    events = pd.concat({'t1': t1, 'trgt': trgt, 'side': side_ }, axis = 1).dropna(subset=['trgt'])\n",
        "\n",
        "    df0 = applyPtSlOnT1(close, events, ptSl_, events.index)\n",
        "    events['t1'] = df0.dropna(how='all').apply(lambda x: x.min(),axis=1)\n",
        "    if side is None:\n",
        "        events = events.drop('side', axis = 1)\n",
        "    events = events.dropna(subset=['t1'])\n",
        "    return events\n",
        "\n",
        "# daily vol, reindexed to close\n",
        "def getDailyVol(close, span=14):\n",
        "    df0 = close.index.searchsorted(close.index - pd.Timedelta(days = 1))\n",
        "    df0 = df0[df0 > 0]\n",
        "    df0 = pd.Series(close.index[df0 - 1], index=close.index[close.shape[0] - df0.shape[0]:])\n",
        "    df0 = close.loc[df0.index] / close.loc[df0].values - 1 # daily returns\n",
        "    df0 = df0.ewm(span=span).std().rename('trgt')\n",
        "    return df0\n",
        "\n",
        "def getBins(events, close):\n",
        "    '''\n",
        "    Compute event's outcome (including side info, if provided)\n",
        "    events is a dataframe where:\n",
        "    -events.index is event's starttime\n",
        "    -events['t1'] is event's endtime\n",
        "    -events['trgt'] is event's target return\n",
        "    -events['side'] (optional) implies the algo's position side\n",
        "    Case 1: ('side' not in events) bin in (-1, 1) <- label by price action\n",
        "    Case 2: ('side' in events) bin in (0,1) <- label by pnl (meta labeling)\n",
        "    '''\n",
        "    #1) prices aligned with events\n",
        "    events_ = events.dropna(subset=['t1'])\n",
        "    px = events_.index.union(events_['t1']).drop_duplicates()\n",
        "    px = close.reindex(px, method='bfill')\n",
        "\n",
        "    #2) create out object\n",
        "    out = pd.DataFrame(index = events_.index)\n",
        "    out['ret'] = px.loc[events_['t1']].values / px.loc[events_.index] - 1 \n",
        "    out['t1'] = events_['t1']\n",
        "    if 'side' in events_:\n",
        "        out['ret'] *= events_['side']     # meta-labeling\n",
        "\n",
        "    out['bin'] = np.sign(out['ret'])\n",
        "    if 'side' in events_:\n",
        "        out.loc[out['ret'] <= 0, 'bin'] = 0    # meta-labeling\n",
        "        out['side'] = events_['side']\n",
        "    return out"
      ],
      "execution_count": 156,
      "outputs": []
    },
    {
      "cell_type": "markdown",
      "metadata": {
        "id": "pmq-p8VMOZy7"
      },
      "source": [
        "The trading strategy is to observer trading prices of loans trading below 85 (`PRICE_RANGE`), when one of them gains 3 percent (`BIG_MOVE`) in any 5 day period (`LOOKBACK_DAYS`), then we buy the loan on the following days close. We hold the loan for 5 days (`HOLD_DAYS`) and sell. If the position moves in our favor or against us by 3%, then we stop loss or harvest early.\n",
        "\n",
        "The `getBins` function returns a table of trade outcomes for each loan in {0,1} - 1 if trade made money, 0 if the trade lost money. "
      ]
    },
    {
      "cell_type": "code",
      "metadata": {
        "colab": {
          "base_uri": "https://localhost:8080/",
          "height": 450
        },
        "id": "QaoH9GTFWa78",
        "outputId": "307d7fe3-1e42-4120-ce9f-af5294138674"
      },
      "source": [
        "out = pd.DataFrame()\n",
        "for ticker in labels.columns:\n",
        "  dates = labels[ticker][labels[ticker] != 0].index\n",
        "  t1 = getVertBarrier(prices[ticker], dates, HOLD_DAYS)\n",
        "  trgt = getDailyVol(prices[ticker])\n",
        "  events = getEvents(prices[ticker], dates, ptSl=[.03,.03], trgt=trgt, minRet=0.015, numThreads=1, t1=t1, side=labels[ticker])\n",
        "  bins = getBins(events, prices[ticker])\n",
        "  bins['ticker'] = ticker   \n",
        "  out = pd.concat([out, bins])\n",
        "\n",
        "bins = out.set_index('ticker', append=True).swaplevel()\n",
        "bins"
      ],
      "execution_count": 157,
      "outputs": [
        {
          "output_type": "execute_result",
          "data": {
            "text/html": [
              "<div>\n",
              "<style scoped>\n",
              "    .dataframe tbody tr th:only-of-type {\n",
              "        vertical-align: middle;\n",
              "    }\n",
              "\n",
              "    .dataframe tbody tr th {\n",
              "        vertical-align: top;\n",
              "    }\n",
              "\n",
              "    .dataframe thead th {\n",
              "        text-align: right;\n",
              "    }\n",
              "</style>\n",
              "<table border=\"1\" class=\"dataframe\">\n",
              "  <thead>\n",
              "    <tr style=\"text-align: right;\">\n",
              "      <th></th>\n",
              "      <th></th>\n",
              "      <th>ret</th>\n",
              "      <th>t1</th>\n",
              "      <th>bin</th>\n",
              "      <th>side</th>\n",
              "    </tr>\n",
              "    <tr>\n",
              "      <th>ticker</th>\n",
              "      <th>Dates</th>\n",
              "      <th></th>\n",
              "      <th></th>\n",
              "      <th></th>\n",
              "      <th></th>\n",
              "    </tr>\n",
              "  </thead>\n",
              "  <tbody>\n",
              "    <tr>\n",
              "      <th>BL101755</th>\n",
              "      <th>2016-12-01</th>\n",
              "      <td>-0.008415</td>\n",
              "      <td>2016-12-05</td>\n",
              "      <td>0.0</td>\n",
              "      <td>-1.0</td>\n",
              "    </tr>\n",
              "    <tr>\n",
              "      <th rowspan=\"4\" valign=\"top\">BL055917</th>\n",
              "      <th>2014-10-17</th>\n",
              "      <td>0.007708</td>\n",
              "      <td>2014-10-20</td>\n",
              "      <td>1.0</td>\n",
              "      <td>-1.0</td>\n",
              "    </tr>\n",
              "    <tr>\n",
              "      <th>2014-10-20</th>\n",
              "      <td>-0.005654</td>\n",
              "      <td>2014-10-21</td>\n",
              "      <td>0.0</td>\n",
              "      <td>-1.0</td>\n",
              "    </tr>\n",
              "    <tr>\n",
              "      <th>2016-10-03</th>\n",
              "      <td>0.008863</td>\n",
              "      <td>2016-10-04</td>\n",
              "      <td>1.0</td>\n",
              "      <td>1.0</td>\n",
              "    </tr>\n",
              "    <tr>\n",
              "      <th>2016-10-04</th>\n",
              "      <td>0.008059</td>\n",
              "      <td>2016-10-05</td>\n",
              "      <td>1.0</td>\n",
              "      <td>1.0</td>\n",
              "    </tr>\n",
              "    <tr>\n",
              "      <th>...</th>\n",
              "      <th>...</th>\n",
              "      <td>...</td>\n",
              "      <td>...</td>\n",
              "      <td>...</td>\n",
              "      <td>...</td>\n",
              "    </tr>\n",
              "    <tr>\n",
              "      <th rowspan=\"5\" valign=\"top\">BL323453</th>\n",
              "      <th>2020-03-18</th>\n",
              "      <td>0.009136</td>\n",
              "      <td>2020-03-19</td>\n",
              "      <td>1.0</td>\n",
              "      <td>-1.0</td>\n",
              "    </tr>\n",
              "    <tr>\n",
              "      <th>2020-03-19</th>\n",
              "      <td>0.063875</td>\n",
              "      <td>2020-03-20</td>\n",
              "      <td>1.0</td>\n",
              "      <td>-1.0</td>\n",
              "    </tr>\n",
              "    <tr>\n",
              "      <th>2020-03-26</th>\n",
              "      <td>-0.004819</td>\n",
              "      <td>2020-03-30</td>\n",
              "      <td>0.0</td>\n",
              "      <td>-1.0</td>\n",
              "    </tr>\n",
              "    <tr>\n",
              "      <th>2020-03-27</th>\n",
              "      <td>-0.006206</td>\n",
              "      <td>2020-03-30</td>\n",
              "      <td>0.0</td>\n",
              "      <td>-1.0</td>\n",
              "    </tr>\n",
              "    <tr>\n",
              "      <th>2020-03-30</th>\n",
              "      <td>-0.032241</td>\n",
              "      <td>2020-03-31</td>\n",
              "      <td>0.0</td>\n",
              "      <td>-1.0</td>\n",
              "    </tr>\n",
              "  </tbody>\n",
              "</table>\n",
              "<p>1904 rows × 4 columns</p>\n",
              "</div>"
            ],
            "text/plain": [
              "                          ret         t1  bin  side\n",
              "ticker   Dates                                     \n",
              "BL101755 2016-12-01 -0.008415 2016-12-05  0.0  -1.0\n",
              "BL055917 2014-10-17  0.007708 2014-10-20  1.0  -1.0\n",
              "         2014-10-20 -0.005654 2014-10-21  0.0  -1.0\n",
              "         2016-10-03  0.008863 2016-10-04  1.0   1.0\n",
              "         2016-10-04  0.008059 2016-10-05  1.0   1.0\n",
              "...                       ...        ...  ...   ...\n",
              "BL323453 2020-03-18  0.009136 2020-03-19  1.0  -1.0\n",
              "         2020-03-19  0.063875 2020-03-20  1.0  -1.0\n",
              "         2020-03-26 -0.004819 2020-03-30  0.0  -1.0\n",
              "         2020-03-27 -0.006206 2020-03-30  0.0  -1.0\n",
              "         2020-03-30 -0.032241 2020-03-31  0.0  -1.0\n",
              "\n",
              "[1904 rows x 4 columns]"
            ]
          },
          "metadata": {
            "tags": []
          },
          "execution_count": 157
        }
      ]
    },
    {
      "cell_type": "markdown",
      "metadata": {
        "id": "m8jXy6aJCciI"
      },
      "source": [
        "Group the events by side and calculate how often the trade makes money. Both events triggered thousands of times so this is a robust sample - but do note that there is some overlap in the events. There were more long than short events. Most of the long trades generated a positive return, while it was roughly 50/50 for the short trades. "
      ]
    },
    {
      "cell_type": "code",
      "metadata": {
        "colab": {
          "base_uri": "https://localhost:8080/",
          "height": 173
        },
        "id": "e9o_A5ng5MvS",
        "outputId": "269a05bd-9852-4a60-e707-569a378c55e4"
      },
      "source": [
        "pd.pivot_table(bins, index=['side'], columns=['bin'], values='ret', aggfunc=[len])"
      ],
      "execution_count": 158,
      "outputs": [
        {
          "output_type": "execute_result",
          "data": {
            "text/html": [
              "<div>\n",
              "<style scoped>\n",
              "    .dataframe tbody tr th:only-of-type {\n",
              "        vertical-align: middle;\n",
              "    }\n",
              "\n",
              "    .dataframe tbody tr th {\n",
              "        vertical-align: top;\n",
              "    }\n",
              "\n",
              "    .dataframe thead tr th {\n",
              "        text-align: left;\n",
              "    }\n",
              "\n",
              "    .dataframe thead tr:last-of-type th {\n",
              "        text-align: right;\n",
              "    }\n",
              "</style>\n",
              "<table border=\"1\" class=\"dataframe\">\n",
              "  <thead>\n",
              "    <tr>\n",
              "      <th></th>\n",
              "      <th colspan=\"2\" halign=\"left\">len</th>\n",
              "    </tr>\n",
              "    <tr>\n",
              "      <th>bin</th>\n",
              "      <th>0.0</th>\n",
              "      <th>1.0</th>\n",
              "    </tr>\n",
              "    <tr>\n",
              "      <th>side</th>\n",
              "      <th></th>\n",
              "      <th></th>\n",
              "    </tr>\n",
              "  </thead>\n",
              "  <tbody>\n",
              "    <tr>\n",
              "      <th>-1.0</th>\n",
              "      <td>624.0</td>\n",
              "      <td>548.0</td>\n",
              "    </tr>\n",
              "    <tr>\n",
              "      <th>1.0</th>\n",
              "      <td>302.0</td>\n",
              "      <td>430.0</td>\n",
              "    </tr>\n",
              "  </tbody>\n",
              "</table>\n",
              "</div>"
            ],
            "text/plain": [
              "        len       \n",
              "bin     0.0    1.0\n",
              "side              \n",
              "-1.0  624.0  548.0\n",
              " 1.0  302.0  430.0"
            ]
          },
          "metadata": {
            "tags": []
          },
          "execution_count": 158
        }
      ]
    },
    {
      "cell_type": "markdown",
      "metadata": {
        "id": "dQALup8f7Yq_"
      },
      "source": [
        "Let's take a look at the types of return that each trade produces. The long trades generated a median return of 32 bps in the reasonably short holding period, while the short trades lost 47 bps. This is before trading fees, which on a $1B+ loan can be estimated at ~30 bps each side (60bps round trip)."
      ]
    },
    {
      "cell_type": "code",
      "metadata": {
        "colab": {
          "base_uri": "https://localhost:8080/",
          "height": 173
        },
        "id": "sPNqAFfqUEJI",
        "outputId": "46f7c24c-584c-405f-97ce-79e5658d2daf"
      },
      "source": [
        "def percentile(n):\n",
        "    def percentile_(x):\n",
        "        return np.percentile(x, n)\n",
        "    percentile_.__name__ = 'percentile_%s' % n\n",
        "    return percentile_\n",
        "\n",
        "pd.pivot_table(bins, index=['side'], values='ret', aggfunc=[len, np.mean,  percentile(25), \n",
        "                                                            percentile(50), percentile(75), \n",
        "                                                            max, min, np.sum])"
      ],
      "execution_count": 159,
      "outputs": [
        {
          "output_type": "execute_result",
          "data": {
            "text/html": [
              "<div>\n",
              "<style scoped>\n",
              "    .dataframe tbody tr th:only-of-type {\n",
              "        vertical-align: middle;\n",
              "    }\n",
              "\n",
              "    .dataframe tbody tr th {\n",
              "        vertical-align: top;\n",
              "    }\n",
              "\n",
              "    .dataframe thead tr th {\n",
              "        text-align: left;\n",
              "    }\n",
              "\n",
              "    .dataframe thead tr:last-of-type th {\n",
              "        text-align: right;\n",
              "    }\n",
              "</style>\n",
              "<table border=\"1\" class=\"dataframe\">\n",
              "  <thead>\n",
              "    <tr>\n",
              "      <th></th>\n",
              "      <th>len</th>\n",
              "      <th>mean</th>\n",
              "      <th>percentile_25</th>\n",
              "      <th>percentile_50</th>\n",
              "      <th>percentile_75</th>\n",
              "      <th>max</th>\n",
              "      <th>min</th>\n",
              "      <th>sum</th>\n",
              "    </tr>\n",
              "    <tr>\n",
              "      <th></th>\n",
              "      <th>ret</th>\n",
              "      <th>ret</th>\n",
              "      <th>ret</th>\n",
              "      <th>ret</th>\n",
              "      <th>ret</th>\n",
              "      <th>ret</th>\n",
              "      <th>ret</th>\n",
              "      <th>ret</th>\n",
              "    </tr>\n",
              "    <tr>\n",
              "      <th>side</th>\n",
              "      <th></th>\n",
              "      <th></th>\n",
              "      <th></th>\n",
              "      <th></th>\n",
              "      <th></th>\n",
              "      <th></th>\n",
              "      <th></th>\n",
              "      <th></th>\n",
              "    </tr>\n",
              "  </thead>\n",
              "  <tbody>\n",
              "    <tr>\n",
              "      <th>-1.0</th>\n",
              "      <td>1172.0</td>\n",
              "      <td>0.004118</td>\n",
              "      <td>-0.006351</td>\n",
              "      <td>-0.000701</td>\n",
              "      <td>0.007810</td>\n",
              "      <td>0.507671</td>\n",
              "      <td>-0.098058</td>\n",
              "      <td>4.825878</td>\n",
              "    </tr>\n",
              "    <tr>\n",
              "      <th>1.0</th>\n",
              "      <td>732.0</td>\n",
              "      <td>0.004513</td>\n",
              "      <td>-0.002842</td>\n",
              "      <td>0.001486</td>\n",
              "      <td>0.006658</td>\n",
              "      <td>0.125006</td>\n",
              "      <td>-0.066322</td>\n",
              "      <td>3.303462</td>\n",
              "    </tr>\n",
              "  </tbody>\n",
              "</table>\n",
              "</div>"
            ],
            "text/plain": [
              "         len      mean percentile_25  ...       max       min       sum\n",
              "         ret       ret           ret  ...       ret       ret       ret\n",
              "side                                  ...                              \n",
              "-1.0  1172.0  0.004118     -0.006351  ...  0.507671 -0.098058  4.825878\n",
              " 1.0   732.0  0.004513     -0.002842  ...  0.125006 -0.066322  3.303462\n",
              "\n",
              "[2 rows x 8 columns]"
            ]
          },
          "metadata": {
            "tags": []
          },
          "execution_count": 159
        }
      ]
    },
    {
      "cell_type": "markdown",
      "metadata": {
        "id": "oaaMF4pnqh9_"
      },
      "source": [
        "Plot the histogram of the returns from the long trades and then the short trades. We clip the histogram window at +/- 10% return to avoid showing the huge outliers."
      ]
    },
    {
      "cell_type": "code",
      "metadata": {
        "colab": {
          "base_uri": "https://localhost:8080/",
          "height": 282
        },
        "id": "uLzRrJCLR-NE",
        "outputId": "996d325b-cc8a-47ac-fbb1-9fccc89f6284"
      },
      "source": [
        "bins[(bins.side == 1) & (bins.ret <.1) & (bins.ret >-.1)].ret.plot.hist(bins=20)"
      ],
      "execution_count": 160,
      "outputs": [
        {
          "output_type": "execute_result",
          "data": {
            "text/plain": [
              "<matplotlib.axes._subplots.AxesSubplot at 0x7f8c776a6898>"
            ]
          },
          "metadata": {
            "tags": []
          },
          "execution_count": 160
        },
        {
          "output_type": "display_data",
          "data": {
            "image/png": "[encoded data removed]",
            "text/plain": [
              "<Figure size 432x288 with 1 Axes>"
            ]
          },
          "metadata": {
            "tags": [],
            "needs_background": "light"
          }
        }
      ]
    },
    {
      "cell_type": "code",
      "metadata": {
        "colab": {
          "base_uri": "https://localhost:8080/",
          "height": 282
        },
        "id": "EwmL6y-lf6H4",
        "outputId": "f37aa26c-9ccd-4db5-a703-4abc5dbb7529"
      },
      "source": [
        "bins[(bins.side == -1) & (bins.ret <.1) & (bins.ret >-.1)].ret.plot.hist(bins=20)"
      ],
      "execution_count": 161,
      "outputs": [
        {
          "output_type": "execute_result",
          "data": {
            "text/plain": [
              "<matplotlib.axes._subplots.AxesSubplot at 0x7f8c779647b8>"
            ]
          },
          "metadata": {
            "tags": []
          },
          "execution_count": 161
        },
        {
          "output_type": "display_data",
          "data": {
            "image/png": "[encoded data removed]",
            "text/plain": [
              "<Figure size 432x288 with 1 Axes>"
            ]
          },
          "metadata": {
            "tags": [],
            "needs_background": "light"
          }
        }
      ]
    },
    {
      "cell_type": "code",
      "metadata": {
        "id": "MEeNuS1yS0fa"
      },
      "source": [
        "def getWeights(events, prices):\n",
        "    numCoEvents = mpNumCoEvents(prices.index, events['t1'], events.index)\n",
        "    numCoEvents = numCoEvents.loc[~numCoEvents.index.duplicated(keep='last')]\n",
        "    numCoEvents = numCoEvents.reindex(prices.index).fillna(0)\n",
        "    retW = mpSampleW(events['t1'], numCoEvents, prices, events.index)\n",
        "    return getTimeDecay(retW, clfLastW=.5)\n",
        "    \n",
        "def mpNumCoEvents(closeIdx, t1, molecule):\n",
        "    '''\n",
        "    Compute the number of concurrent events per bar.\n",
        "    +molecule[0] is the date of the first event on which the weight will be computed\n",
        "    +molecule[-1] is the date of the last event on which the weight will be computed\n",
        "\n",
        "    Any event that starts before t1[modelcule].max() impacts the count.\n",
        "    '''\n",
        "    #1) find events that span the period [molecule[0],molecule[-1]]\n",
        "    t1 = t1.fillna(closeIdx[-1]) # unclosed events still must impact other weights\n",
        "    t1 = t1[t1 >= molecule[0]] # events that end at or after molecule[0]\n",
        "    t1=t1.loc[:t1[molecule].max()] # events that start at or before t1[molecule].max()\n",
        "    #2) count events spanning a bar\n",
        "    iloc=closeIdx.searchsorted(pd.to_datetime([t1.index[0],t1.max()]))\n",
        "    count=pd.Series(0,index=closeIdx[iloc[0]:iloc[1]+1])\n",
        "    for tIn,tOut in t1.iteritems():\n",
        "        count.loc[tIn:tOut]+=1.\n",
        "    return count.loc[molecule[0]:t1[molecule].max()]\n",
        "\n",
        "def mpSampleW(t1, numCoEvents, close, molecule):\n",
        "    # Derive sample weight by return attribution\n",
        "    ret=np.log(close).diff() # log-returns, so that they are additive\n",
        "    wght=pd.Series(index=molecule, dtype='float64')\n",
        "    for tIn,tOut in t1.loc[wght.index].iteritems():\n",
        "        beg, end = ret.index.get_loc(tIn), ret.index.get_loc(tOut)\n",
        "        wght.loc[tIn]=(ret.iloc[beg:end]/numCoEvents.iloc[beg:end]).sum()\n",
        "    return wght.abs()\n",
        "\n",
        "def getTimeDecay(tW,clfLastW=1.):\n",
        "    # apply piecewise-linear decay to observed uniqueness (tW)\n",
        "    # newest observation gets weight=1, oldest observation gets weight=clfLastW\n",
        "    clfW=tW.sort_index().cumsum()\n",
        "    # if none of the weights are above zero, make sure the last weight is '1'\n",
        "    if not clfW.iloc[-1]:\n",
        "      clfW.iloc[-1] = 1\n",
        "    if clfLastW>=0: \n",
        "        slope=(1.-clfLastW)/clfW.iloc[-1]\n",
        "    else: \n",
        "        slope = 1./((clfLastW + 1) * clfW.iloc[-1])\n",
        "    const=1. - slope * clfW.iloc[-1]\n",
        "    clfW=const + slope * clfW\n",
        "    clfW[clfW < 0] = 0\n",
        "    return clfW"
      ],
      "execution_count": 162,
      "outputs": []
    },
    {
      "cell_type": "code",
      "metadata": {
        "colab": {
          "base_uri": "https://localhost:8080/",
          "height": 450
        },
        "id": "QPgPb7ltTfPm",
        "outputId": "877c21d9-a10e-4054-f8c0-2ee5c89375a1"
      },
      "source": [
        "out = pd.DataFrame()\n",
        "for ticker in bins.index.unique('ticker'):\n",
        "    clfW = getWeights(bins.loc[ticker], prices[ticker])\n",
        "    clfW.index = pd.MultiIndex.from_tuples([(ticker, a) for a in clfW.index], names=['ticker','Dates'])\n",
        "    out = pd.concat([out, clfW])\n",
        "out.columns = ['clfW']\n",
        "bins = pd.concat([bins, out], axis=1)\n",
        "bins"
      ],
      "execution_count": 163,
      "outputs": [
        {
          "output_type": "execute_result",
          "data": {
            "text/html": [
              "<div>\n",
              "<style scoped>\n",
              "    .dataframe tbody tr th:only-of-type {\n",
              "        vertical-align: middle;\n",
              "    }\n",
              "\n",
              "    .dataframe tbody tr th {\n",
              "        vertical-align: top;\n",
              "    }\n",
              "\n",
              "    .dataframe thead th {\n",
              "        text-align: right;\n",
              "    }\n",
              "</style>\n",
              "<table border=\"1\" class=\"dataframe\">\n",
              "  <thead>\n",
              "    <tr style=\"text-align: right;\">\n",
              "      <th></th>\n",
              "      <th></th>\n",
              "      <th>ret</th>\n",
              "      <th>t1</th>\n",
              "      <th>bin</th>\n",
              "      <th>side</th>\n",
              "      <th>clfW</th>\n",
              "    </tr>\n",
              "    <tr>\n",
              "      <th>ticker</th>\n",
              "      <th>Dates</th>\n",
              "      <th></th>\n",
              "      <th></th>\n",
              "      <th></th>\n",
              "      <th></th>\n",
              "      <th></th>\n",
              "    </tr>\n",
              "  </thead>\n",
              "  <tbody>\n",
              "    <tr>\n",
              "      <th>BL101755</th>\n",
              "      <th>2016-12-01</th>\n",
              "      <td>-0.008415</td>\n",
              "      <td>2016-12-05</td>\n",
              "      <td>0.0</td>\n",
              "      <td>-1.0</td>\n",
              "      <td>1.000000</td>\n",
              "    </tr>\n",
              "    <tr>\n",
              "      <th rowspan=\"4\" valign=\"top\">BL055917</th>\n",
              "      <th>2014-10-17</th>\n",
              "      <td>0.007708</td>\n",
              "      <td>2014-10-20</td>\n",
              "      <td>1.0</td>\n",
              "      <td>-1.0</td>\n",
              "      <td>0.573606</td>\n",
              "    </tr>\n",
              "    <tr>\n",
              "      <th>2014-10-20</th>\n",
              "      <td>-0.005654</td>\n",
              "      <td>2014-10-21</td>\n",
              "      <td>0.0</td>\n",
              "      <td>-1.0</td>\n",
              "      <td>0.582909</td>\n",
              "    </tr>\n",
              "    <tr>\n",
              "      <th>2016-10-03</th>\n",
              "      <td>0.008863</td>\n",
              "      <td>2016-10-04</td>\n",
              "      <td>1.0</td>\n",
              "      <td>1.0</td>\n",
              "      <td>0.979743</td>\n",
              "    </tr>\n",
              "    <tr>\n",
              "      <th>2016-10-04</th>\n",
              "      <td>0.008059</td>\n",
              "      <td>2016-10-05</td>\n",
              "      <td>1.0</td>\n",
              "      <td>1.0</td>\n",
              "      <td>0.990351</td>\n",
              "    </tr>\n",
              "    <tr>\n",
              "      <th>...</th>\n",
              "      <th>...</th>\n",
              "      <td>...</td>\n",
              "      <td>...</td>\n",
              "      <td>...</td>\n",
              "      <td>...</td>\n",
              "      <td>...</td>\n",
              "    </tr>\n",
              "    <tr>\n",
              "      <th rowspan=\"5\" valign=\"top\">BL323453</th>\n",
              "      <th>2020-03-18</th>\n",
              "      <td>0.009136</td>\n",
              "      <td>2020-03-19</td>\n",
              "      <td>1.0</td>\n",
              "      <td>-1.0</td>\n",
              "      <td>0.634727</td>\n",
              "    </tr>\n",
              "    <tr>\n",
              "      <th>2020-03-19</th>\n",
              "      <td>0.063875</td>\n",
              "      <td>2020-03-20</td>\n",
              "      <td>1.0</td>\n",
              "      <td>-1.0</td>\n",
              "      <td>0.653834</td>\n",
              "    </tr>\n",
              "    <tr>\n",
              "      <th>2020-03-26</th>\n",
              "      <td>-0.004819</td>\n",
              "      <td>2020-03-30</td>\n",
              "      <td>0.0</td>\n",
              "      <td>-1.0</td>\n",
              "      <td>0.988543</td>\n",
              "    </tr>\n",
              "    <tr>\n",
              "      <th>2020-03-27</th>\n",
              "      <td>-0.006206</td>\n",
              "      <td>2020-03-30</td>\n",
              "      <td>0.0</td>\n",
              "      <td>-1.0</td>\n",
              "      <td>0.991414</td>\n",
              "    </tr>\n",
              "    <tr>\n",
              "      <th>2020-03-30</th>\n",
              "      <td>-0.032241</td>\n",
              "      <td>2020-03-31</td>\n",
              "      <td>0.0</td>\n",
              "      <td>-1.0</td>\n",
              "      <td>1.000000</td>\n",
              "    </tr>\n",
              "  </tbody>\n",
              "</table>\n",
              "<p>1904 rows × 5 columns</p>\n",
              "</div>"
            ],
            "text/plain": [
              "                          ret         t1  bin  side      clfW\n",
              "ticker   Dates                                               \n",
              "BL101755 2016-12-01 -0.008415 2016-12-05  0.0  -1.0  1.000000\n",
              "BL055917 2014-10-17  0.007708 2014-10-20  1.0  -1.0  0.573606\n",
              "         2014-10-20 -0.005654 2014-10-21  0.0  -1.0  0.582909\n",
              "         2016-10-03  0.008863 2016-10-04  1.0   1.0  0.979743\n",
              "         2016-10-04  0.008059 2016-10-05  1.0   1.0  0.990351\n",
              "...                       ...        ...  ...   ...       ...\n",
              "BL323453 2020-03-18  0.009136 2020-03-19  1.0  -1.0  0.634727\n",
              "         2020-03-19  0.063875 2020-03-20  1.0  -1.0  0.653834\n",
              "         2020-03-26 -0.004819 2020-03-30  0.0  -1.0  0.988543\n",
              "         2020-03-27 -0.006206 2020-03-30  0.0  -1.0  0.991414\n",
              "         2020-03-30 -0.032241 2020-03-31  0.0  -1.0  1.000000\n",
              "\n",
              "[1904 rows x 5 columns]"
            ]
          },
          "metadata": {
            "tags": []
          },
          "execution_count": 163
        }
      ]
    },
    {
      "cell_type": "markdown",
      "metadata": {
        "id": "u3dvd9QV_vOb"
      },
      "source": [
        "## Incorporating loan information into the model"
      ]
    },
    {
      "cell_type": "code",
      "metadata": {
        "id": "r6nFppfx_tzD"
      },
      "source": [
        "desc = pd.read_csv('/content/drive/MyDrive/loans/loans_desc.csv', parse_dates=['date_issued', 'maturity', ], index_col='id').rename_axis('ticker')\r\n",
        "desc = desc.rename(columns={'ticker': 'name'})"
      ],
      "execution_count": 164,
      "outputs": []
    },
    {
      "cell_type": "code",
      "metadata": {
        "colab": {
          "base_uri": "https://localhost:8080/",
          "height": 450
        },
        "id": "APihmkodag1G",
        "outputId": "d1440f8a-dd98-429a-c03c-c7f0e56bf5ff"
      },
      "source": [
        "# some basic data cleaning steps to make the data ready for the pipeline\n",
        "desc = desc[['name', 'cpn', 'date_issued', 'maturity', 'amt_out', 'covi_lite', 'loan_type']]\n",
        "desc.cpn = pd.to_numeric(desc.cpn, errors='coerce')\n",
        "t = pd.Series({'Y': True, 'N': False})\n",
        "desc.covi_lite = desc.covi_lite.map(t).astype(bool)\n",
        "desc.maturity = pd.to_datetime(desc.maturity, errors='coerce')\n",
        "desc.date_issued = pd.to_datetime(desc.date_issued, errors='coerce')\n",
        "desc"
      ],
      "execution_count": 165,
      "outputs": [
        {
          "output_type": "execute_result",
          "data": {
            "text/html": [
              "<div>\n",
              "<style scoped>\n",
              "    .dataframe tbody tr th:only-of-type {\n",
              "        vertical-align: middle;\n",
              "    }\n",
              "\n",
              "    .dataframe tbody tr th {\n",
              "        vertical-align: top;\n",
              "    }\n",
              "\n",
              "    .dataframe thead th {\n",
              "        text-align: right;\n",
              "    }\n",
              "</style>\n",
              "<table border=\"1\" class=\"dataframe\">\n",
              "  <thead>\n",
              "    <tr style=\"text-align: right;\">\n",
              "      <th></th>\n",
              "      <th>name</th>\n",
              "      <th>cpn</th>\n",
              "      <th>date_issued</th>\n",
              "      <th>maturity</th>\n",
              "      <th>amt_out</th>\n",
              "      <th>covi_lite</th>\n",
              "      <th>loan_type</th>\n",
              "    </tr>\n",
              "    <tr>\n",
              "      <th>ticker</th>\n",
              "      <th></th>\n",
              "      <th></th>\n",
              "      <th></th>\n",
              "      <th></th>\n",
              "      <th></th>\n",
              "      <th></th>\n",
              "      <th></th>\n",
              "    </tr>\n",
              "  </thead>\n",
              "  <tbody>\n",
              "    <tr>\n",
              "      <th>BL029150</th>\n",
              "      <td>HCA</td>\n",
              "      <td>150.0</td>\n",
              "      <td>2011-09-30</td>\n",
              "      <td>2022-06-28</td>\n",
              "      <td>3.750000e+09</td>\n",
              "      <td>False</td>\n",
              "      <td>ASSET-BASED REV</td>\n",
              "    </tr>\n",
              "    <tr>\n",
              "      <th>BL049152</th>\n",
              "      <td>CZR</td>\n",
              "      <td>525.0</td>\n",
              "      <td>2012-03-01</td>\n",
              "      <td>2017-03-01</td>\n",
              "      <td>5.469243e+09</td>\n",
              "      <td>False</td>\n",
              "      <td>TERM</td>\n",
              "    </tr>\n",
              "    <tr>\n",
              "      <th>BL055917</th>\n",
              "      <td>ARCH</td>\n",
              "      <td>450.0</td>\n",
              "      <td>2012-05-16</td>\n",
              "      <td>2018-05-16</td>\n",
              "      <td>1.950000e+09</td>\n",
              "      <td>True</td>\n",
              "      <td>TERM</td>\n",
              "    </tr>\n",
              "    <tr>\n",
              "      <th>BL078201</th>\n",
              "      <td>ABEGET</td>\n",
              "      <td>350.0</td>\n",
              "      <td>2012-10-18</td>\n",
              "      <td>2019-10-18</td>\n",
              "      <td>1.954560e+09</td>\n",
              "      <td>True</td>\n",
              "      <td>TERM</td>\n",
              "    </tr>\n",
              "    <tr>\n",
              "      <th>BL083751</th>\n",
              "      <td>ROYPHA</td>\n",
              "      <td>200.0</td>\n",
              "      <td>2012-11-02</td>\n",
              "      <td>2016-08-10</td>\n",
              "      <td>2.000000e+09</td>\n",
              "      <td>False</td>\n",
              "      <td>TERM</td>\n",
              "    </tr>\n",
              "    <tr>\n",
              "      <th>...</th>\n",
              "      <td>...</td>\n",
              "      <td>...</td>\n",
              "      <td>...</td>\n",
              "      <td>...</td>\n",
              "      <td>...</td>\n",
              "      <td>...</td>\n",
              "      <td>...</td>\n",
              "    </tr>\n",
              "    <tr>\n",
              "      <th>BL787561</th>\n",
              "      <td>TXU</td>\n",
              "      <td>350.0</td>\n",
              "      <td>2011-04-07</td>\n",
              "      <td>2014-10-10</td>\n",
              "      <td>2.263638e+10</td>\n",
              "      <td>False</td>\n",
              "      <td>TERM</td>\n",
              "    </tr>\n",
              "    <tr>\n",
              "      <th>LN333526</th>\n",
              "      <td>ENDENR</td>\n",
              "      <td>200.0</td>\n",
              "      <td>2007-05-01</td>\n",
              "      <td>2023-01-02</td>\n",
              "      <td>2.000000e+09</td>\n",
              "      <td>False</td>\n",
              "      <td>REV</td>\n",
              "    </tr>\n",
              "    <tr>\n",
              "      <th>LN365372</th>\n",
              "      <td>BBEP</td>\n",
              "      <td>NaN</td>\n",
              "      <td>2006-10-10</td>\n",
              "      <td>2019-11-19</td>\n",
              "      <td>1.400000e+09</td>\n",
              "      <td>False</td>\n",
              "      <td>RESERVE-BASED REV</td>\n",
              "    </tr>\n",
              "    <tr>\n",
              "      <th>LN376634</th>\n",
              "      <td>SOGC</td>\n",
              "      <td>200.0</td>\n",
              "      <td>2007-11-30</td>\n",
              "      <td>2016-04-07</td>\n",
              "      <td>2.000000e+09</td>\n",
              "      <td>True</td>\n",
              "      <td>ASSET-BASED REV</td>\n",
              "    </tr>\n",
              "    <tr>\n",
              "      <th>LN472360</th>\n",
              "      <td>SHLD</td>\n",
              "      <td>400.0</td>\n",
              "      <td>2009-05-21</td>\n",
              "      <td>2016-04-08</td>\n",
              "      <td>4.275000e+09</td>\n",
              "      <td>False</td>\n",
              "      <td>ASSET-BASED REV</td>\n",
              "    </tr>\n",
              "  </tbody>\n",
              "</table>\n",
              "<p>1266 rows × 7 columns</p>\n",
              "</div>"
            ],
            "text/plain": [
              "            name    cpn date_issued  ...       amt_out  covi_lite          loan_type\n",
              "ticker                               ...                                            \n",
              "BL029150     HCA  150.0  2011-09-30  ...  3.750000e+09      False    ASSET-BASED REV\n",
              "BL049152     CZR  525.0  2012-03-01  ...  5.469243e+09      False               TERM\n",
              "BL055917    ARCH  450.0  2012-05-16  ...  1.950000e+09       True               TERM\n",
              "BL078201  ABEGET  350.0  2012-10-18  ...  1.954560e+09       True               TERM\n",
              "BL083751  ROYPHA  200.0  2012-11-02  ...  2.000000e+09      False               TERM\n",
              "...          ...    ...         ...  ...           ...        ...                ...\n",
              "BL787561     TXU  350.0  2011-04-07  ...  2.263638e+10      False               TERM\n",
              "LN333526  ENDENR  200.0  2007-05-01  ...  2.000000e+09      False                REV\n",
              "LN365372    BBEP    NaN  2006-10-10  ...  1.400000e+09      False  RESERVE-BASED REV\n",
              "LN376634    SOGC  200.0  2007-11-30  ...  2.000000e+09       True    ASSET-BASED REV\n",
              "LN472360    SHLD  400.0  2009-05-21  ...  4.275000e+09      False    ASSET-BASED REV\n",
              "\n",
              "[1266 rows x 7 columns]"
            ]
          },
          "metadata": {
            "tags": []
          },
          "execution_count": 165
        }
      ]
    },
    {
      "cell_type": "markdown",
      "metadata": {
        "id": "bZvTrm8Aqpn8"
      },
      "source": [
        "## Training the model with loan features"
      ]
    },
    {
      "cell_type": "code",
      "metadata": {
        "id": "AbcZCt9ckurh",
        "colab": {
          "base_uri": "https://localhost:8080/",
          "height": 450
        },
        "outputId": "303d46b7-f8b0-4eb7-fbcf-4242bbaf8012"
      },
      "source": [
        "df = bins.join(desc).drop(columns='name')\n",
        "df"
      ],
      "execution_count": 166,
      "outputs": [
        {
          "output_type": "execute_result",
          "data": {
            "text/html": [
              "<div>\n",
              "<style scoped>\n",
              "    .dataframe tbody tr th:only-of-type {\n",
              "        vertical-align: middle;\n",
              "    }\n",
              "\n",
              "    .dataframe tbody tr th {\n",
              "        vertical-align: top;\n",
              "    }\n",
              "\n",
              "    .dataframe thead th {\n",
              "        text-align: right;\n",
              "    }\n",
              "</style>\n",
              "<table border=\"1\" class=\"dataframe\">\n",
              "  <thead>\n",
              "    <tr style=\"text-align: right;\">\n",
              "      <th></th>\n",
              "      <th></th>\n",
              "      <th>ret</th>\n",
              "      <th>t1</th>\n",
              "      <th>bin</th>\n",
              "      <th>side</th>\n",
              "      <th>clfW</th>\n",
              "      <th>cpn</th>\n",
              "      <th>date_issued</th>\n",
              "      <th>maturity</th>\n",
              "      <th>amt_out</th>\n",
              "      <th>covi_lite</th>\n",
              "      <th>loan_type</th>\n",
              "    </tr>\n",
              "    <tr>\n",
              "      <th>ticker</th>\n",
              "      <th>Dates</th>\n",
              "      <th></th>\n",
              "      <th></th>\n",
              "      <th></th>\n",
              "      <th></th>\n",
              "      <th></th>\n",
              "      <th></th>\n",
              "      <th></th>\n",
              "      <th></th>\n",
              "      <th></th>\n",
              "      <th></th>\n",
              "      <th></th>\n",
              "    </tr>\n",
              "  </thead>\n",
              "  <tbody>\n",
              "    <tr>\n",
              "      <th>BL101755</th>\n",
              "      <th>2016-12-01</th>\n",
              "      <td>-0.008415</td>\n",
              "      <td>2016-12-05</td>\n",
              "      <td>0.0</td>\n",
              "      <td>-1.0</td>\n",
              "      <td>1.000000</td>\n",
              "      <td>400.0</td>\n",
              "      <td>2013-06-07</td>\n",
              "      <td>2019-06-07</td>\n",
              "      <td>9.046651e+08</td>\n",
              "      <td>True</td>\n",
              "      <td>TERM</td>\n",
              "    </tr>\n",
              "    <tr>\n",
              "      <th rowspan=\"4\" valign=\"top\">BL055917</th>\n",
              "      <th>2014-10-17</th>\n",
              "      <td>0.007708</td>\n",
              "      <td>2014-10-20</td>\n",
              "      <td>1.0</td>\n",
              "      <td>-1.0</td>\n",
              "      <td>0.573606</td>\n",
              "      <td>450.0</td>\n",
              "      <td>2012-05-16</td>\n",
              "      <td>2018-05-16</td>\n",
              "      <td>1.950000e+09</td>\n",
              "      <td>True</td>\n",
              "      <td>TERM</td>\n",
              "    </tr>\n",
              "    <tr>\n",
              "      <th>2014-10-20</th>\n",
              "      <td>-0.005654</td>\n",
              "      <td>2014-10-21</td>\n",
              "      <td>0.0</td>\n",
              "      <td>-1.0</td>\n",
              "      <td>0.582909</td>\n",
              "      <td>450.0</td>\n",
              "      <td>2012-05-16</td>\n",
              "      <td>2018-05-16</td>\n",
              "      <td>1.950000e+09</td>\n",
              "      <td>True</td>\n",
              "      <td>TERM</td>\n",
              "    </tr>\n",
              "    <tr>\n",
              "      <th>2016-10-03</th>\n",
              "      <td>0.008863</td>\n",
              "      <td>2016-10-04</td>\n",
              "      <td>1.0</td>\n",
              "      <td>1.0</td>\n",
              "      <td>0.979743</td>\n",
              "      <td>450.0</td>\n",
              "      <td>2012-05-16</td>\n",
              "      <td>2018-05-16</td>\n",
              "      <td>1.950000e+09</td>\n",
              "      <td>True</td>\n",
              "      <td>TERM</td>\n",
              "    </tr>\n",
              "    <tr>\n",
              "      <th>2016-10-04</th>\n",
              "      <td>0.008059</td>\n",
              "      <td>2016-10-05</td>\n",
              "      <td>1.0</td>\n",
              "      <td>1.0</td>\n",
              "      <td>0.990351</td>\n",
              "      <td>450.0</td>\n",
              "      <td>2012-05-16</td>\n",
              "      <td>2018-05-16</td>\n",
              "      <td>1.950000e+09</td>\n",
              "      <td>True</td>\n",
              "      <td>TERM</td>\n",
              "    </tr>\n",
              "    <tr>\n",
              "      <th>...</th>\n",
              "      <th>...</th>\n",
              "      <td>...</td>\n",
              "      <td>...</td>\n",
              "      <td>...</td>\n",
              "      <td>...</td>\n",
              "      <td>...</td>\n",
              "      <td>...</td>\n",
              "      <td>...</td>\n",
              "      <td>...</td>\n",
              "      <td>...</td>\n",
              "      <td>...</td>\n",
              "      <td>...</td>\n",
              "    </tr>\n",
              "    <tr>\n",
              "      <th rowspan=\"5\" valign=\"top\">BL323453</th>\n",
              "      <th>2020-03-18</th>\n",
              "      <td>0.009136</td>\n",
              "      <td>2020-03-19</td>\n",
              "      <td>1.0</td>\n",
              "      <td>-1.0</td>\n",
              "      <td>0.634727</td>\n",
              "      <td>200.0</td>\n",
              "      <td>2019-12-17</td>\n",
              "      <td>2026-07-01</td>\n",
              "      <td>7.062035e+09</td>\n",
              "      <td>True</td>\n",
              "      <td>TERM</td>\n",
              "    </tr>\n",
              "    <tr>\n",
              "      <th>2020-03-19</th>\n",
              "      <td>0.063875</td>\n",
              "      <td>2020-03-20</td>\n",
              "      <td>1.0</td>\n",
              "      <td>-1.0</td>\n",
              "      <td>0.653834</td>\n",
              "      <td>200.0</td>\n",
              "      <td>2019-12-17</td>\n",
              "      <td>2026-07-01</td>\n",
              "      <td>7.062035e+09</td>\n",
              "      <td>True</td>\n",
              "      <td>TERM</td>\n",
              "    </tr>\n",
              "    <tr>\n",
              "      <th>2020-03-26</th>\n",
              "      <td>-0.004819</td>\n",
              "      <td>2020-03-30</td>\n",
              "      <td>0.0</td>\n",
              "      <td>-1.0</td>\n",
              "      <td>0.988543</td>\n",
              "      <td>200.0</td>\n",
              "      <td>2019-12-17</td>\n",
              "      <td>2026-07-01</td>\n",
              "      <td>7.062035e+09</td>\n",
              "      <td>True</td>\n",
              "      <td>TERM</td>\n",
              "    </tr>\n",
              "    <tr>\n",
              "      <th>2020-03-27</th>\n",
              "      <td>-0.006206</td>\n",
              "      <td>2020-03-30</td>\n",
              "      <td>0.0</td>\n",
              "      <td>-1.0</td>\n",
              "      <td>0.991414</td>\n",
              "      <td>200.0</td>\n",
              "      <td>2019-12-17</td>\n",
              "      <td>2026-07-01</td>\n",
              "      <td>7.062035e+09</td>\n",
              "      <td>True</td>\n",
              "      <td>TERM</td>\n",
              "    </tr>\n",
              "    <tr>\n",
              "      <th>2020-03-30</th>\n",
              "      <td>-0.032241</td>\n",
              "      <td>2020-03-31</td>\n",
              "      <td>0.0</td>\n",
              "      <td>-1.0</td>\n",
              "      <td>1.000000</td>\n",
              "      <td>200.0</td>\n",
              "      <td>2019-12-17</td>\n",
              "      <td>2026-07-01</td>\n",
              "      <td>7.062035e+09</td>\n",
              "      <td>True</td>\n",
              "      <td>TERM</td>\n",
              "    </tr>\n",
              "  </tbody>\n",
              "</table>\n",
              "<p>1904 rows × 11 columns</p>\n",
              "</div>"
            ],
            "text/plain": [
              "                          ret         t1  ...  covi_lite  loan_type\n",
              "ticker   Dates                            ...                      \n",
              "BL101755 2016-12-01 -0.008415 2016-12-05  ...       True       TERM\n",
              "BL055917 2014-10-17  0.007708 2014-10-20  ...       True       TERM\n",
              "         2014-10-20 -0.005654 2014-10-21  ...       True       TERM\n",
              "         2016-10-03  0.008863 2016-10-04  ...       True       TERM\n",
              "         2016-10-04  0.008059 2016-10-05  ...       True       TERM\n",
              "...                       ...        ...  ...        ...        ...\n",
              "BL323453 2020-03-18  0.009136 2020-03-19  ...       True       TERM\n",
              "         2020-03-19  0.063875 2020-03-20  ...       True       TERM\n",
              "         2020-03-26 -0.004819 2020-03-30  ...       True       TERM\n",
              "         2020-03-27 -0.006206 2020-03-30  ...       True       TERM\n",
              "         2020-03-30 -0.032241 2020-03-31  ...       True       TERM\n",
              "\n",
              "[1904 rows x 11 columns]"
            ]
          },
          "metadata": {
            "tags": []
          },
          "execution_count": 166
        }
      ]
    },
    {
      "cell_type": "code",
      "metadata": {
        "id": "xRpHgy5qbQ9z"
      },
      "source": [
        "class DayCounterAdder(BaseEstimator, TransformerMixin):\n",
        "    def fit(self, X, y=None):\n",
        "        return self\n",
        "    def transform(self, X, y=None):\n",
        "      X.maturity = (X.maturity - X.index.get_level_values('Dates')).dt.days\n",
        "      X.date_issued = (X.index.get_level_values('Dates') - X.date_issued).dt.days\n",
        "      return X"
      ],
      "execution_count": 167,
      "outputs": []
    },
    {
      "cell_type": "markdown",
      "metadata": {
        "id": "l2K9cln7iRAe"
      },
      "source": [
        "Process the data, train the model, output the most important features, and predict labels"
      ]
    },
    {
      "cell_type": "code",
      "metadata": {
        "id": "LptOllJEe14b"
      },
      "source": [
        "def getIndMatrix(barIx, t1):\n",
        "  # Get indicator matrix\n",
        "  indM = pd.DataFrame(0, index=barIx, columns=range(t1.shape[0]))\n",
        "  for i, (t0, t1) in enumerate(t1.iteritems()):\n",
        "    t1 = (t1, t0[1])\n",
        "    indM.loc[t0:t1, i] = 1.\n",
        "  return indM\n",
        "\n",
        "def getAvgUniqueness(indM):\n",
        "  # average uniqueness from indicator matrix\n",
        "  c = indM.sum(axis=1) # concurrency\n",
        "  u = indM.div(c, axis=0) # uniqueness\n",
        "  return u[u>0].mean().mean() # average uniqueness\n",
        "  \n",
        "\n",
        "def trainModel(num_attribs, cat_attribs, bool_attribs, df):\n",
        "  num_pipeline = Pipeline([\n",
        "      ('day_counter', DayCounterAdder()),\n",
        "      ('imputer', SimpleImputer(strategy='median')),\n",
        "      ('std_scaler', StandardScaler()),\n",
        "  ])\n",
        "\n",
        "  bin_pipeline = ColumnTransformer([\n",
        "          (\"cat\", OneHotEncoder(), cat_attribs),\n",
        "          (\"num\", num_pipeline, num_attribs),\n",
        "          (\"covi_lite\", \"passthrough\", bool_attribs )\n",
        "      ])\n",
        "\n",
        "  df = df.swaplevel().sort_index()\n",
        "\n",
        "  X = df.drop(columns=['bin', 'ret', 'clfW', 't1'])\n",
        "  y = df[['bin', 'ret', 't1']]\n",
        "  clfW = df.clfW\n",
        "  avgU = getAvgUniqueness(getIndMatrix(X.index, y.t1))\n",
        "  print(\"average feature uniqueness:\", avgU)\n",
        "\n",
        "  X_train_df, X_test_df, y_train, y_test, W_train, W_test = train_test_split(X, y, clfW, test_size=0.3, shuffle=False)\n",
        "  X_train = bin_pipeline.fit_transform(X_train_df.copy())\n",
        "  X_test = bin_pipeline.fit_transform(X_test_df.copy())\n",
        "\n",
        "  #clf1 = DecisionTreeClassifier(criterion='entropy', max_features='auto', class_weight='balanced')\n",
        "  #rf = BaggingClassifier(base_estimator=clf1, n_estimators=1000, max_samples=avgU)\n",
        "\n",
        "  clf2=RandomForestClassifier(n_estimators=1, criterion='entropy', bootstrap=False, class_weight='balanced_subsample')\n",
        "  rf = BaggingClassifier(base_estimator=clf2, n_estimators=1000, max_samples=avgU, max_features=1.)\n",
        "\n",
        "  rf.fit(X_train, y_train.bin, W_train)\n",
        "  print(f\"Train Score: {rf.score(X_train, y_train.bin):2.2f}, Test Score: {rf.score(X_test, y_test.bin):2.2f}\")\n",
        "  y_pred_train, y_pred_test = rf.predict(X_train), rf.predict(X_test)\n",
        "  y_score_train, y_score_test = rf.predict_proba(X_train)[:,1], rf.predict_proba(X_test)[:,1]\n",
        "\n",
        "  cat_columns = [item for sublist in bin_pipeline.named_transformers_['cat'].categories_[1:] for item in sublist]\n",
        "  columns = ['side_sell', 'side_buy', *cat_columns, 'cpn', 'date_issued', 'maturity', 'amt_out', 'covi_lite',]\n",
        "  #print(*sorted(zip(rf.feature_importances_, columns), reverse=True), sep=\"\\n\")\n",
        "\n",
        "  return X_train, X_test, y_train, y_test, y_pred_train, y_pred_test, y_score_train, y_score_test"
      ],
      "execution_count": 168,
      "outputs": []
    },
    {
      "cell_type": "markdown",
      "metadata": {
        "id": "BxG1dKdkEVQD"
      },
      "source": [
        "Print out statistics on the training set"
      ]
    },
    {
      "cell_type": "code",
      "metadata": {
        "colab": {
          "base_uri": "https://localhost:8080/"
        },
        "id": "WbriNGwyssS5",
        "outputId": "5c1c98cd-cd96-4569-b5bb-f7edd0c78cce"
      },
      "source": [
        "num_attribs = ['cpn', 'date_issued', 'maturity', 'amt_out']\r\n",
        "cat_attribs = ['side', 'loan_type']\r\n",
        "\r\n",
        "X_train, X_test, y_train, y_test, y_pred_train, y_pred_test, y_score_train, y_score_test = trainModel(num_attribs, cat_attribs, ['covi_lite'], df)"
      ],
      "execution_count": 169,
      "outputs": [
        {
          "output_type": "stream",
          "text": [
            "average feature uniqueness: 0.13939385904878573\n",
            "Train Score: 0.82, Test Score: 0.53\n"
          ],
          "name": "stdout"
        }
      ]
    },
    {
      "cell_type": "code",
      "metadata": {
        "colab": {
          "base_uri": "https://localhost:8080/",
          "height": 334
        },
        "id": "jTFekSTaudaw",
        "outputId": "00eb6b9f-549b-4ff1-b84c-05eba0e6e7cf"
      },
      "source": [
        "def printCurve(X, y, y_pred, y_score):\r\n",
        "  print(f\"Precision: {precision_score(y, y_pred):2.2f}, Recall: {recall_score(y, y_pred):2.2f}, Area under curve: {roc_auc_score(y, y_pred):2.2f}\")\r\n",
        "  print(confusion_matrix(y, y_pred))\r\n",
        "\r\n",
        "  fpr, tpr, thresholds = roc_curve(y, y_score)\r\n",
        "\r\n",
        "  def plot_roc_curve(fpr, tpr, label=None):\r\n",
        "    plt.plot(fpr, tpr, linewidth=2, label=label)\r\n",
        "    plt.plot([0,1],[0,1], 'k--')\r\n",
        "    plt.axis([0,1,0,1])\r\n",
        "    plt.xlabel('False Positive Rate')\r\n",
        "    plt.ylabel('True Positive Rate')\r\n",
        "\r\n",
        "  plot_roc_curve(fpr, tpr)\r\n",
        "  plt.show()\r\n",
        "\r\n",
        "printCurve(X_train, y_train.bin, y_pred_train, y_score_train)"
      ],
      "execution_count": 170,
      "outputs": [
        {
          "output_type": "stream",
          "text": [
            "Precision: 0.82, Recall: 0.84, Area under curve: 0.82\n",
            "[[510 131]\n",
            " [113 578]]\n"
          ],
          "name": "stdout"
        },
        {
          "output_type": "display_data",
          "data": {
            "image/png": "[encoded data removed]",
            "text/plain": [
              "<Figure size 432x288 with 1 Axes>"
            ]
          },
          "metadata": {
            "tags": [],
            "needs_background": "light"
          }
        }
      ]
    },
    {
      "cell_type": "markdown",
      "metadata": {
        "id": "hZwIQYePEYLL"
      },
      "source": [
        "Statistics on the testing set show that the meta-labeling model is just a toss up at predicting which trade to take or not - we need more metadata about each loan and event to accurately predict this."
      ]
    },
    {
      "cell_type": "code",
      "metadata": {
        "colab": {
          "base_uri": "https://localhost:8080/",
          "height": 334
        },
        "id": "Eio1HauLEZ0z",
        "outputId": "889e31e2-1797-4e80-cf51-dc9439fe6991"
      },
      "source": [
        "printCurve(X_test, y_test.bin, y_pred_test, y_score_test)"
      ],
      "execution_count": 171,
      "outputs": [
        {
          "output_type": "stream",
          "text": [
            "Precision: 0.52, Recall: 0.83, Area under curve: 0.53\n",
            "[[ 67 218]\n",
            " [ 49 238]]\n"
          ],
          "name": "stdout"
        },
        {
          "output_type": "display_data",
          "data": {
            "image/png": "[encoded data removed]",
            "text/plain": [
              "<Figure size 432x288 with 1 Axes>"
            ]
          },
          "metadata": {
            "tags": [],
            "needs_background": "light"
          }
        }
      ]
    },
    {
      "cell_type": "markdown",
      "metadata": {
        "id": "ueUXYVyBWBYu"
      },
      "source": [
        "# Ratings"
      ]
    },
    {
      "cell_type": "markdown",
      "metadata": {
        "id": "9Rlyvg2Z-XJp"
      },
      "source": [
        "Let's improve our model by incorporating ratings on our loans. We have S&P and Moody's corporate ratings on each borrower. Our data is sampled quarterly, so we can only assign a rating for each event that was current as of the previous quarter end."
      ]
    },
    {
      "cell_type": "code",
      "metadata": {
        "id": "oqOVCPajHBhn",
        "colab": {
          "base_uri": "https://localhost:8080/"
        },
        "outputId": "ed45f761-bbfe-46ac-a60f-b34044104d0a"
      },
      "source": [
        "moody = pd.read_csv('/content/drive/MyDrive/loans/loans_moody.csv', index_col='id').rename_axis('ticker').rename_axis('month',axis=1).unstack().rename('moody')\n",
        "snp = pd.read_csv('/content/drive/MyDrive/loans/loans_snp.csv', index_col='id').rename_axis('ticker').rename_axis('month',axis=1).unstack().rename('snp')\n",
        "moody.index.set_levels(pd.PeriodIndex(pd.to_datetime(moody.index.levels[0]), freq='M'), level=0, inplace=True)\n",
        "snp.index.set_levels(pd.PeriodIndex(pd.to_datetime(snp.index.levels[0]), freq='M'), level=0, inplace=True)\n",
        "print(moody.unique(), snp.unique())"
      ],
      "execution_count": 172,
      "outputs": [
        {
          "output_type": "stream",
          "text": [
            "[nan 'B2' 'Ba3' 'B1' 'Baa2' 'Ba2' 'Caa1' 'Baa3' 'Caa3' '(P)Ba2' 'Ba1' 'B3'\n",
            " '(P)Ba1' '(P)Ba3' 'Caa2' 'WR' 'A3' '(P)B1' 'NR' '(P)Baa2' 'Ca' '(P)Baa3'\n",
            " '(P)B2' 'Baa1' 'A2' 'C' 'B2u'] ['BB' 'B' nan 'B+' 'BB-' 'BB+' 'B-' 'BBB-' 'BBB' 'CCC' 'CCC+' 'CCC-' 'CC'\n",
            " 'NR' 'A' 'D' 'A-' 'BB+u' '(P)BB-' 'BBB+' 'C' '(P)B+']\n"
          ],
          "name": "stdout"
        }
      ]
    },
    {
      "cell_type": "code",
      "metadata": {
        "id": "G0gTcnRwX4X6"
      },
      "source": [
        "moody_scale = {\r\n",
        "    'A1': 1,\r\n",
        "    'A2': 1,\r\n",
        "    'A3': 1,\r\n",
        "    'Baa1': 2,\r\n",
        "    'Baa2': 2,\r\n",
        "    '(P)Baa2': 2,\r\n",
        "    'Baa3': 2,\r\n",
        "    '(P)Baa3': 2,\r\n",
        "    'Ba1': 3,\r\n",
        "    'Ba1u': 3,\r\n",
        "    '(P)Ba1': 3,\r\n",
        "    '(P)Ba2': 3,\r\n",
        "    'Ba2': 3,\r\n",
        "    'Ba2u': 3,\r\n",
        "    '(P)Ba3': 3,\r\n",
        "    'Ba3': 3,\r\n",
        "    'B1': 4,\r\n",
        "    '(P)B1': 4,\r\n",
        "    'B2':  5,\r\n",
        "    'B2u': 5,\r\n",
        "    '(P)B2': 5,\r\n",
        "    'B3': 6,\r\n",
        "    'Caa1': 7,\r\n",
        "    'Caa2' : 7,\r\n",
        "    'Caa3': 7,\r\n",
        "    'Ca': 7,\r\n",
        "    'C': 7,\r\n",
        "}\r\n",
        "\r\n",
        "snp_scale = {\r\n",
        "    'A+': 1,\r\n",
        "    'A': 1,\r\n",
        "    'A-': 1,\r\n",
        "    'BBB+': 2,\r\n",
        "    'BBB': 2,\r\n",
        "    'BBB-': 2,\r\n",
        "    'BB+': 3,\r\n",
        "    'BB+u': 3,\r\n",
        "    'BB': 3,\r\n",
        "    'BB-': 3,\r\n",
        "    '(P)BB-': 3,\r\n",
        "    'B+': 4,\r\n",
        "    '(P)B+': 4,\r\n",
        "    'B': 5,\r\n",
        "    'B-': 6,\r\n",
        "    'CCC+': 7,\r\n",
        "    'CCC': 7,\r\n",
        "    'CCC-': 7,\r\n",
        "    'CC': 7,\r\n",
        "    'C': 7,\r\n",
        "    'D': 7,\r\n",
        "}\r\n",
        "\r\n",
        "moody_num = moody.map(moody_scale).fillna(5)\r\n",
        "snp_num = snp.map(snp_scale).fillna(5)\r\n",
        "avg_rating = pd.concat([moody_num,snp_num],axis=1).mean(axis=1).rename('avg_rating')"
      ],
      "execution_count": 173,
      "outputs": []
    },
    {
      "cell_type": "code",
      "metadata": {
        "id": "9hS6j-k7Pr4i",
        "colab": {
          "base_uri": "https://localhost:8080/",
          "height": 450
        },
        "outputId": "9c2e72ce-b281-474b-afe6-4892b8818871"
      },
      "source": [
        "df_rating = df.reset_index(level='ticker')\r\n",
        "df_rating['month'] = pd.PeriodIndex(df_rating.index, freq='M') - 1\r\n",
        "df_rating = df_rating.set_index('ticker', append=True).swaplevel()\r\n",
        "df_rating = df_rating.join(avg_rating, on=['month', 'ticker'])\r\n",
        "df_rating"
      ],
      "execution_count": 174,
      "outputs": [
        {
          "output_type": "execute_result",
          "data": {
            "text/html": [
              "<div>\n",
              "<style scoped>\n",
              "    .dataframe tbody tr th:only-of-type {\n",
              "        vertical-align: middle;\n",
              "    }\n",
              "\n",
              "    .dataframe tbody tr th {\n",
              "        vertical-align: top;\n",
              "    }\n",
              "\n",
              "    .dataframe thead th {\n",
              "        text-align: right;\n",
              "    }\n",
              "</style>\n",
              "<table border=\"1\" class=\"dataframe\">\n",
              "  <thead>\n",
              "    <tr style=\"text-align: right;\">\n",
              "      <th></th>\n",
              "      <th></th>\n",
              "      <th>ret</th>\n",
              "      <th>t1</th>\n",
              "      <th>bin</th>\n",
              "      <th>side</th>\n",
              "      <th>clfW</th>\n",
              "      <th>cpn</th>\n",
              "      <th>date_issued</th>\n",
              "      <th>maturity</th>\n",
              "      <th>amt_out</th>\n",
              "      <th>covi_lite</th>\n",
              "      <th>loan_type</th>\n",
              "      <th>month</th>\n",
              "      <th>avg_rating</th>\n",
              "    </tr>\n",
              "    <tr>\n",
              "      <th>ticker</th>\n",
              "      <th>Dates</th>\n",
              "      <th></th>\n",
              "      <th></th>\n",
              "      <th></th>\n",
              "      <th></th>\n",
              "      <th></th>\n",
              "      <th></th>\n",
              "      <th></th>\n",
              "      <th></th>\n",
              "      <th></th>\n",
              "      <th></th>\n",
              "      <th></th>\n",
              "      <th></th>\n",
              "      <th></th>\n",
              "    </tr>\n",
              "  </thead>\n",
              "  <tbody>\n",
              "    <tr>\n",
              "      <th>BL101755</th>\n",
              "      <th>2016-12-01</th>\n",
              "      <td>-0.008415</td>\n",
              "      <td>2016-12-05</td>\n",
              "      <td>0.0</td>\n",
              "      <td>-1.0</td>\n",
              "      <td>1.000000</td>\n",
              "      <td>400.0</td>\n",
              "      <td>2013-06-07</td>\n",
              "      <td>2019-06-07</td>\n",
              "      <td>9.046651e+08</td>\n",
              "      <td>True</td>\n",
              "      <td>TERM</td>\n",
              "      <td>2016-11</td>\n",
              "      <td>4.0</td>\n",
              "    </tr>\n",
              "    <tr>\n",
              "      <th rowspan=\"4\" valign=\"top\">BL055917</th>\n",
              "      <th>2014-10-17</th>\n",
              "      <td>0.007708</td>\n",
              "      <td>2014-10-20</td>\n",
              "      <td>1.0</td>\n",
              "      <td>-1.0</td>\n",
              "      <td>0.573606</td>\n",
              "      <td>450.0</td>\n",
              "      <td>2012-05-16</td>\n",
              "      <td>2018-05-16</td>\n",
              "      <td>1.950000e+09</td>\n",
              "      <td>True</td>\n",
              "      <td>TERM</td>\n",
              "      <td>2014-09</td>\n",
              "      <td>4.0</td>\n",
              "    </tr>\n",
              "    <tr>\n",
              "      <th>2014-10-20</th>\n",
              "      <td>-0.005654</td>\n",
              "      <td>2014-10-21</td>\n",
              "      <td>0.0</td>\n",
              "      <td>-1.0</td>\n",
              "      <td>0.582909</td>\n",
              "      <td>450.0</td>\n",
              "      <td>2012-05-16</td>\n",
              "      <td>2018-05-16</td>\n",
              "      <td>1.950000e+09</td>\n",
              "      <td>True</td>\n",
              "      <td>TERM</td>\n",
              "      <td>2014-09</td>\n",
              "      <td>4.0</td>\n",
              "    </tr>\n",
              "    <tr>\n",
              "      <th>2016-10-03</th>\n",
              "      <td>0.008863</td>\n",
              "      <td>2016-10-04</td>\n",
              "      <td>1.0</td>\n",
              "      <td>1.0</td>\n",
              "      <td>0.979743</td>\n",
              "      <td>450.0</td>\n",
              "      <td>2012-05-16</td>\n",
              "      <td>2018-05-16</td>\n",
              "      <td>1.950000e+09</td>\n",
              "      <td>True</td>\n",
              "      <td>TERM</td>\n",
              "      <td>2016-09</td>\n",
              "      <td>6.0</td>\n",
              "    </tr>\n",
              "    <tr>\n",
              "      <th>2016-10-04</th>\n",
              "      <td>0.008059</td>\n",
              "      <td>2016-10-05</td>\n",
              "      <td>1.0</td>\n",
              "      <td>1.0</td>\n",
              "      <td>0.990351</td>\n",
              "      <td>450.0</td>\n",
              "      <td>2012-05-16</td>\n",
              "      <td>2018-05-16</td>\n",
              "      <td>1.950000e+09</td>\n",
              "      <td>True</td>\n",
              "      <td>TERM</td>\n",
              "      <td>2016-09</td>\n",
              "      <td>6.0</td>\n",
              "    </tr>\n",
              "    <tr>\n",
              "      <th>...</th>\n",
              "      <th>...</th>\n",
              "      <td>...</td>\n",
              "      <td>...</td>\n",
              "      <td>...</td>\n",
              "      <td>...</td>\n",
              "      <td>...</td>\n",
              "      <td>...</td>\n",
              "      <td>...</td>\n",
              "      <td>...</td>\n",
              "      <td>...</td>\n",
              "      <td>...</td>\n",
              "      <td>...</td>\n",
              "      <td>...</td>\n",
              "      <td>...</td>\n",
              "    </tr>\n",
              "    <tr>\n",
              "      <th rowspan=\"5\" valign=\"top\">BL323453</th>\n",
              "      <th>2020-03-18</th>\n",
              "      <td>0.009136</td>\n",
              "      <td>2020-03-19</td>\n",
              "      <td>1.0</td>\n",
              "      <td>-1.0</td>\n",
              "      <td>0.634727</td>\n",
              "      <td>200.0</td>\n",
              "      <td>2019-12-17</td>\n",
              "      <td>2026-07-01</td>\n",
              "      <td>7.062035e+09</td>\n",
              "      <td>True</td>\n",
              "      <td>TERM</td>\n",
              "      <td>2020-02</td>\n",
              "      <td>2.5</td>\n",
              "    </tr>\n",
              "    <tr>\n",
              "      <th>2020-03-19</th>\n",
              "      <td>0.063875</td>\n",
              "      <td>2020-03-20</td>\n",
              "      <td>1.0</td>\n",
              "      <td>-1.0</td>\n",
              "      <td>0.653834</td>\n",
              "      <td>200.0</td>\n",
              "      <td>2019-12-17</td>\n",
              "      <td>2026-07-01</td>\n",
              "      <td>7.062035e+09</td>\n",
              "      <td>True</td>\n",
              "      <td>TERM</td>\n",
              "      <td>2020-02</td>\n",
              "      <td>2.5</td>\n",
              "    </tr>\n",
              "    <tr>\n",
              "      <th>2020-03-26</th>\n",
              "      <td>-0.004819</td>\n",
              "      <td>2020-03-30</td>\n",
              "      <td>0.0</td>\n",
              "      <td>-1.0</td>\n",
              "      <td>0.988543</td>\n",
              "      <td>200.0</td>\n",
              "      <td>2019-12-17</td>\n",
              "      <td>2026-07-01</td>\n",
              "      <td>7.062035e+09</td>\n",
              "      <td>True</td>\n",
              "      <td>TERM</td>\n",
              "      <td>2020-02</td>\n",
              "      <td>2.5</td>\n",
              "    </tr>\n",
              "    <tr>\n",
              "      <th>2020-03-27</th>\n",
              "      <td>-0.006206</td>\n",
              "      <td>2020-03-30</td>\n",
              "      <td>0.0</td>\n",
              "      <td>-1.0</td>\n",
              "      <td>0.991414</td>\n",
              "      <td>200.0</td>\n",
              "      <td>2019-12-17</td>\n",
              "      <td>2026-07-01</td>\n",
              "      <td>7.062035e+09</td>\n",
              "      <td>True</td>\n",
              "      <td>TERM</td>\n",
              "      <td>2020-02</td>\n",
              "      <td>2.5</td>\n",
              "    </tr>\n",
              "    <tr>\n",
              "      <th>2020-03-30</th>\n",
              "      <td>-0.032241</td>\n",
              "      <td>2020-03-31</td>\n",
              "      <td>0.0</td>\n",
              "      <td>-1.0</td>\n",
              "      <td>1.000000</td>\n",
              "      <td>200.0</td>\n",
              "      <td>2019-12-17</td>\n",
              "      <td>2026-07-01</td>\n",
              "      <td>7.062035e+09</td>\n",
              "      <td>True</td>\n",
              "      <td>TERM</td>\n",
              "      <td>2020-02</td>\n",
              "      <td>2.5</td>\n",
              "    </tr>\n",
              "  </tbody>\n",
              "</table>\n",
              "<p>1904 rows × 13 columns</p>\n",
              "</div>"
            ],
            "text/plain": [
              "                          ret         t1  bin  ...  loan_type    month  avg_rating\n",
              "ticker   Dates                                 ...                                \n",
              "BL101755 2016-12-01 -0.008415 2016-12-05  0.0  ...       TERM  2016-11         4.0\n",
              "BL055917 2014-10-17  0.007708 2014-10-20  1.0  ...       TERM  2014-09         4.0\n",
              "         2014-10-20 -0.005654 2014-10-21  0.0  ...       TERM  2014-09         4.0\n",
              "         2016-10-03  0.008863 2016-10-04  1.0  ...       TERM  2016-09         6.0\n",
              "         2016-10-04  0.008059 2016-10-05  1.0  ...       TERM  2016-09         6.0\n",
              "...                       ...        ...  ...  ...        ...      ...         ...\n",
              "BL323453 2020-03-18  0.009136 2020-03-19  1.0  ...       TERM  2020-02         2.5\n",
              "         2020-03-19  0.063875 2020-03-20  1.0  ...       TERM  2020-02         2.5\n",
              "         2020-03-26 -0.004819 2020-03-30  0.0  ...       TERM  2020-02         2.5\n",
              "         2020-03-27 -0.006206 2020-03-30  0.0  ...       TERM  2020-02         2.5\n",
              "         2020-03-30 -0.032241 2020-03-31  0.0  ...       TERM  2020-02         2.5\n",
              "\n",
              "[1904 rows x 13 columns]"
            ]
          },
          "metadata": {
            "tags": []
          },
          "execution_count": 174
        }
      ]
    },
    {
      "cell_type": "code",
      "metadata": {
        "colab": {
          "base_uri": "https://localhost:8080/"
        },
        "id": "0OTIbOMaP7MY",
        "outputId": "0e3d37a1-f81b-408a-c761-6842e53996c9"
      },
      "source": [
        "num_attribs = ['cpn', 'date_issued', 'maturity', 'amt_out']\r\n",
        "cat_attribs = ['side', 'loan_type', 'avg_rating']\r\n",
        "\r\n",
        "X_train, X_test, y_train, y_test, y_pred_train, y_pred_test, y_score_train, y_score_test = trainModel(num_attribs, cat_attribs, ['covi_lite'], df_rating)"
      ],
      "execution_count": 175,
      "outputs": [
        {
          "output_type": "stream",
          "text": [
            "average feature uniqueness: 0.13939385904878573\n",
            "Train Score: 0.81, Test Score: 0.52\n"
          ],
          "name": "stdout"
        }
      ]
    },
    {
      "cell_type": "code",
      "metadata": {
        "colab": {
          "base_uri": "https://localhost:8080/",
          "height": 334
        },
        "id": "YkFUQaQgUENs",
        "outputId": "86923358-aff7-4886-b541-432e07de041f"
      },
      "source": [
        "printCurve(X_train, y_train.bin, y_pred_train, y_score_train)"
      ],
      "execution_count": 176,
      "outputs": [
        {
          "output_type": "stream",
          "text": [
            "Precision: 0.80, Recall: 0.84, Area under curve: 0.81\n",
            "[[497 144]\n",
            " [111 580]]\n"
          ],
          "name": "stdout"
        },
        {
          "output_type": "display_data",
          "data": {
            "image/png": "[encoded data removed]",
            "text/plain": [
              "<Figure size 432x288 with 1 Axes>"
            ]
          },
          "metadata": {
            "tags": [],
            "needs_background": "light"
          }
        }
      ]
    },
    {
      "cell_type": "markdown",
      "metadata": {
        "id": "OYY-UNAnnixj"
      },
      "source": [
        "As a result of adding credit ratings, the accuracy of the labeling model did not improve"
      ]
    },
    {
      "cell_type": "code",
      "metadata": {
        "colab": {
          "base_uri": "https://localhost:8080/",
          "height": 334
        },
        "id": "hsUg3Tl2UlV4",
        "outputId": "99b92b7b-16cc-4e8c-e937-154d945deebe"
      },
      "source": [
        "printCurve(X_test, y_test.bin, y_pred_test, y_score_test)"
      ],
      "execution_count": 177,
      "outputs": [
        {
          "output_type": "stream",
          "text": [
            "Precision: 0.51, Recall: 0.82, Area under curve: 0.52\n",
            "[[ 62 223]\n",
            " [ 52 235]]\n"
          ],
          "name": "stdout"
        },
        {
          "output_type": "display_data",
          "data": {
            "image/png": "[encoded data removed]",
            "text/plain": [
              "<Figure size 432x288 with 1 Axes>"
            ]
          },
          "metadata": {
            "tags": [],
            "needs_background": "light"
          }
        }
      ]
    },
    {
      "cell_type": "markdown",
      "metadata": {
        "id": "y4msnhdKoVBd"
      },
      "source": [
        "# Bond Dataset"
      ]
    },
    {
      "cell_type": "code",
      "metadata": {
        "colab": {
          "base_uri": "https://localhost:8080/"
        },
        "id": "Pj_1IiCnoWfP",
        "outputId": "6abd8cdd-6f41-4b56-e861-f4366fe8040a"
      },
      "source": [
        "# read in historical prices\n",
        "prices_2019_2020 = pd.read_csv('/content/drive/MyDrive/bonds/bonds_data_2019_2020.csv', parse_dates=['Dates'], index_col='Dates')\n",
        "prices_2017_2018 = pd.read_csv('/content/drive/MyDrive/bonds/bonds_data_2017_2018.csv', parse_dates=['Dates'], index_col='Dates')\n",
        "prices_2015_2016 = pd.read_csv('/content/drive/MyDrive/bonds/bonds_data_2015_2016.csv', parse_dates=['Dates'], index_col='Dates')\n",
        "\n",
        "prices = pd.concat([prices_2015_2016, prices_2017_2018, prices_2019_2020], join=\"outer\", verify_integrity=True)\n",
        "print(\"(# dates, # tickers)\", prices.shape)\n",
        "prices = prices.fillna(method=\"pad\")"
      ],
      "execution_count": 178,
      "outputs": [
        {
          "output_type": "stream",
          "text": [
            "(# dates, # tickers) (1533, 702)\n"
          ],
          "name": "stdout"
        }
      ]
    },
    {
      "cell_type": "code",
      "metadata": {
        "id": "1HtT5SSEpnWl",
        "colab": {
          "base_uri": "https://localhost:8080/",
          "height": 265
        },
        "outputId": "c1ece45d-1457-4c51-fc13-63286a995759"
      },
      "source": [
        "TARGET_PRICES = [90, 100]\n",
        "plotPricesAfterBigMove(prices, trgtPrice=TARGET_PRICES[0], priceRange=PRICE_RANGE, bigMove=BIG_MOVE, numDays=LOOKBACK_DAYS)"
      ],
      "execution_count": 179,
      "outputs": [
        {
          "output_type": "display_data",
          "data": {
            "image/png": "[encoded data removed]",
            "text/plain": [
              "<Figure size 432x288 with 1 Axes>"
            ]
          },
          "metadata": {
            "tags": [],
            "needs_background": "light"
          }
        }
      ]
    },
    {
      "cell_type": "code",
      "metadata": {
        "colab": {
          "base_uri": "https://localhost:8080/",
          "height": 265
        },
        "id": "tr2Z2JCKBUn-",
        "outputId": "b7e1ef95-f480-42ef-dec4-62f29cf070f0"
      },
      "source": [
        "plotPricesAfterBigMove(prices, trgtPrice=TARGET_PRICES[1], priceRange=PRICE_RANGE, bigMove=-BIG_MOVE, numDays=LOOKBACK_DAYS)"
      ],
      "execution_count": 180,
      "outputs": [
        {
          "output_type": "display_data",
          "data": {
            "image/png": "[encoded data removed]",
            "text/plain": [
              "<Figure size 432x288 with 1 Axes>"
            ]
          },
          "metadata": {
            "tags": [],
            "needs_background": "light"
          }
        }
      ]
    },
    {
      "cell_type": "code",
      "metadata": {
        "id": "FpD_5MH4B97L"
      },
      "source": [
        "labels = getLabels(prices, trgtPrices=TARGET_PRICES, priceRange=PRICE_RANGE, lookbackDays=HOLD_DAYS, bigMove=BIG_MOVE)"
      ],
      "execution_count": 181,
      "outputs": []
    },
    {
      "cell_type": "code",
      "metadata": {
        "colab": {
          "base_uri": "https://localhost:8080/",
          "height": 450
        },
        "id": "Ew8eKVKUnjbB",
        "outputId": "380095c2-dc09-494b-9637-769a9f7f1244"
      },
      "source": [
        "out = pd.DataFrame()\n",
        "for ticker in labels.columns:\n",
        "  dates = labels[ticker][labels[ticker] != 0].index\n",
        "  t1 = getVertBarrier(prices[ticker], dates, HOLD_DAYS)\n",
        "  trgt = getDailyVol(prices[ticker])\n",
        "  events = getEvents(prices[ticker], dates, ptSl=[.03,.03], trgt=trgt, minRet=0.015, numThreads=1, t1=t1, side=labels[ticker])\n",
        "  bins = getBins(events, prices[ticker])\n",
        "  bins['ticker'] = ticker   \n",
        "  out = pd.concat([out, bins])\n",
        "\n",
        "bins = out.set_index('ticker', append=True).swaplevel()\n",
        "bins"
      ],
      "execution_count": 182,
      "outputs": [
        {
          "output_type": "execute_result",
          "data": {
            "text/html": [
              "<div>\n",
              "<style scoped>\n",
              "    .dataframe tbody tr th:only-of-type {\n",
              "        vertical-align: middle;\n",
              "    }\n",
              "\n",
              "    .dataframe tbody tr th {\n",
              "        vertical-align: top;\n",
              "    }\n",
              "\n",
              "    .dataframe thead th {\n",
              "        text-align: right;\n",
              "    }\n",
              "</style>\n",
              "<table border=\"1\" class=\"dataframe\">\n",
              "  <thead>\n",
              "    <tr style=\"text-align: right;\">\n",
              "      <th></th>\n",
              "      <th></th>\n",
              "      <th>ret</th>\n",
              "      <th>t1</th>\n",
              "      <th>bin</th>\n",
              "      <th>side</th>\n",
              "    </tr>\n",
              "    <tr>\n",
              "      <th>ticker</th>\n",
              "      <th>Dates</th>\n",
              "      <th></th>\n",
              "      <th></th>\n",
              "      <th></th>\n",
              "      <th></th>\n",
              "    </tr>\n",
              "  </thead>\n",
              "  <tbody>\n",
              "    <tr>\n",
              "      <th rowspan=\"2\" valign=\"top\">EJ379173</th>\n",
              "      <th>2015-02-17</th>\n",
              "      <td>0.004340</td>\n",
              "      <td>2015-02-18</td>\n",
              "      <td>1.0</td>\n",
              "      <td>1.0</td>\n",
              "    </tr>\n",
              "    <tr>\n",
              "      <th>2015-02-18</th>\n",
              "      <td>-0.004819</td>\n",
              "      <td>2015-02-19</td>\n",
              "      <td>0.0</td>\n",
              "      <td>1.0</td>\n",
              "    </tr>\n",
              "    <tr>\n",
              "      <th rowspan=\"3\" valign=\"top\">EK474593</th>\n",
              "      <th>2015-02-06</th>\n",
              "      <td>-0.001260</td>\n",
              "      <td>2015-02-09</td>\n",
              "      <td>0.0</td>\n",
              "      <td>1.0</td>\n",
              "    </tr>\n",
              "    <tr>\n",
              "      <th>2015-02-17</th>\n",
              "      <td>0.007605</td>\n",
              "      <td>2015-02-18</td>\n",
              "      <td>1.0</td>\n",
              "      <td>1.0</td>\n",
              "    </tr>\n",
              "    <tr>\n",
              "      <th>2015-02-18</th>\n",
              "      <td>-0.016436</td>\n",
              "      <td>2015-02-19</td>\n",
              "      <td>0.0</td>\n",
              "      <td>1.0</td>\n",
              "    </tr>\n",
              "    <tr>\n",
              "      <th>...</th>\n",
              "      <th>...</th>\n",
              "      <td>...</td>\n",
              "      <td>...</td>\n",
              "      <td>...</td>\n",
              "      <td>...</td>\n",
              "    </tr>\n",
              "    <tr>\n",
              "      <th rowspan=\"2\" valign=\"top\">BK256707</th>\n",
              "      <th>2020-11-02</th>\n",
              "      <td>-0.023381</td>\n",
              "      <td>2020-11-03</td>\n",
              "      <td>0.0</td>\n",
              "      <td>-1.0</td>\n",
              "    </tr>\n",
              "    <tr>\n",
              "      <th>2020-11-03</th>\n",
              "      <td>-0.028419</td>\n",
              "      <td>2020-11-04</td>\n",
              "      <td>0.0</td>\n",
              "      <td>-1.0</td>\n",
              "    </tr>\n",
              "    <tr>\n",
              "      <th rowspan=\"2\" valign=\"top\">BK912979</th>\n",
              "      <th>2020-09-17</th>\n",
              "      <td>0.002057</td>\n",
              "      <td>2020-09-18</td>\n",
              "      <td>1.0</td>\n",
              "      <td>-1.0</td>\n",
              "    </tr>\n",
              "    <tr>\n",
              "      <th>2020-09-18</th>\n",
              "      <td>0.013854</td>\n",
              "      <td>2020-09-21</td>\n",
              "      <td>1.0</td>\n",
              "      <td>-1.0</td>\n",
              "    </tr>\n",
              "    <tr>\n",
              "      <th>BK731780</th>\n",
              "      <th>2020-11-03</th>\n",
              "      <td>-0.015129</td>\n",
              "      <td>2020-11-04</td>\n",
              "      <td>0.0</td>\n",
              "      <td>-1.0</td>\n",
              "    </tr>\n",
              "  </tbody>\n",
              "</table>\n",
              "<p>2084 rows × 4 columns</p>\n",
              "</div>"
            ],
            "text/plain": [
              "                          ret         t1  bin  side\n",
              "ticker   Dates                                     \n",
              "EJ379173 2015-02-17  0.004340 2015-02-18  1.0   1.0\n",
              "         2015-02-18 -0.004819 2015-02-19  0.0   1.0\n",
              "EK474593 2015-02-06 -0.001260 2015-02-09  0.0   1.0\n",
              "         2015-02-17  0.007605 2015-02-18  1.0   1.0\n",
              "         2015-02-18 -0.016436 2015-02-19  0.0   1.0\n",
              "...                       ...        ...  ...   ...\n",
              "BK256707 2020-11-02 -0.023381 2020-11-03  0.0  -1.0\n",
              "         2020-11-03 -0.028419 2020-11-04  0.0  -1.0\n",
              "BK912979 2020-09-17  0.002057 2020-09-18  1.0  -1.0\n",
              "         2020-09-18  0.013854 2020-09-21  1.0  -1.0\n",
              "BK731780 2020-11-03 -0.015129 2020-11-04  0.0  -1.0\n",
              "\n",
              "[2084 rows x 4 columns]"
            ]
          },
          "metadata": {
            "tags": []
          },
          "execution_count": 182
        }
      ]
    },
    {
      "cell_type": "code",
      "metadata": {
        "colab": {
          "base_uri": "https://localhost:8080/",
          "height": 173
        },
        "id": "DUGpvOqnnyuR",
        "outputId": "3313d457-1414-43df-c481-988913faedfe"
      },
      "source": [
        "pd.pivot_table(bins, index=['side'], columns=['bin'], values='ret', aggfunc=[len])"
      ],
      "execution_count": 183,
      "outputs": [
        {
          "output_type": "execute_result",
          "data": {
            "text/html": [
              "<div>\n",
              "<style scoped>\n",
              "    .dataframe tbody tr th:only-of-type {\n",
              "        vertical-align: middle;\n",
              "    }\n",
              "\n",
              "    .dataframe tbody tr th {\n",
              "        vertical-align: top;\n",
              "    }\n",
              "\n",
              "    .dataframe thead tr th {\n",
              "        text-align: left;\n",
              "    }\n",
              "\n",
              "    .dataframe thead tr:last-of-type th {\n",
              "        text-align: right;\n",
              "    }\n",
              "</style>\n",
              "<table border=\"1\" class=\"dataframe\">\n",
              "  <thead>\n",
              "    <tr>\n",
              "      <th></th>\n",
              "      <th colspan=\"2\" halign=\"left\">len</th>\n",
              "    </tr>\n",
              "    <tr>\n",
              "      <th>bin</th>\n",
              "      <th>0.0</th>\n",
              "      <th>1.0</th>\n",
              "    </tr>\n",
              "    <tr>\n",
              "      <th>side</th>\n",
              "      <th></th>\n",
              "      <th></th>\n",
              "    </tr>\n",
              "  </thead>\n",
              "  <tbody>\n",
              "    <tr>\n",
              "      <th>-1.0</th>\n",
              "      <td>414.0</td>\n",
              "      <td>381.0</td>\n",
              "    </tr>\n",
              "    <tr>\n",
              "      <th>1.0</th>\n",
              "      <td>561.0</td>\n",
              "      <td>728.0</td>\n",
              "    </tr>\n",
              "  </tbody>\n",
              "</table>\n",
              "</div>"
            ],
            "text/plain": [
              "        len       \n",
              "bin     0.0    1.0\n",
              "side              \n",
              "-1.0  414.0  381.0\n",
              " 1.0  561.0  728.0"
            ]
          },
          "metadata": {
            "tags": []
          },
          "execution_count": 183
        }
      ]
    },
    {
      "cell_type": "code",
      "metadata": {
        "colab": {
          "base_uri": "https://localhost:8080/",
          "height": 173
        },
        "id": "l098x0E_n4Cv",
        "outputId": "6bb0cab7-1960-4a14-e8d3-7d7e44f534ac"
      },
      "source": [
        "pd.pivot_table(bins, index=['side'], values='ret', aggfunc=[len, np.mean,  percentile(25), \n",
        "                                                            percentile(50), percentile(75), \n",
        "                                                            max, min, np.sum])"
      ],
      "execution_count": 184,
      "outputs": [
        {
          "output_type": "execute_result",
          "data": {
            "text/html": [
              "<div>\n",
              "<style scoped>\n",
              "    .dataframe tbody tr th:only-of-type {\n",
              "        vertical-align: middle;\n",
              "    }\n",
              "\n",
              "    .dataframe tbody tr th {\n",
              "        vertical-align: top;\n",
              "    }\n",
              "\n",
              "    .dataframe thead tr th {\n",
              "        text-align: left;\n",
              "    }\n",
              "\n",
              "    .dataframe thead tr:last-of-type th {\n",
              "        text-align: right;\n",
              "    }\n",
              "</style>\n",
              "<table border=\"1\" class=\"dataframe\">\n",
              "  <thead>\n",
              "    <tr>\n",
              "      <th></th>\n",
              "      <th>len</th>\n",
              "      <th>mean</th>\n",
              "      <th>percentile_25</th>\n",
              "      <th>percentile_50</th>\n",
              "      <th>percentile_75</th>\n",
              "      <th>max</th>\n",
              "      <th>min</th>\n",
              "      <th>sum</th>\n",
              "    </tr>\n",
              "    <tr>\n",
              "      <th></th>\n",
              "      <th>ret</th>\n",
              "      <th>ret</th>\n",
              "      <th>ret</th>\n",
              "      <th>ret</th>\n",
              "      <th>ret</th>\n",
              "      <th>ret</th>\n",
              "      <th>ret</th>\n",
              "      <th>ret</th>\n",
              "    </tr>\n",
              "    <tr>\n",
              "      <th>side</th>\n",
              "      <th></th>\n",
              "      <th></th>\n",
              "      <th></th>\n",
              "      <th></th>\n",
              "      <th></th>\n",
              "      <th></th>\n",
              "      <th></th>\n",
              "      <th></th>\n",
              "    </tr>\n",
              "  </thead>\n",
              "  <tbody>\n",
              "    <tr>\n",
              "      <th>-1.0</th>\n",
              "      <td>795.0</td>\n",
              "      <td>0.003669</td>\n",
              "      <td>-0.008504</td>\n",
              "      <td>-0.000000</td>\n",
              "      <td>0.011005</td>\n",
              "      <td>0.244127</td>\n",
              "      <td>-0.106211</td>\n",
              "      <td>2.916675</td>\n",
              "    </tr>\n",
              "    <tr>\n",
              "      <th>1.0</th>\n",
              "      <td>1289.0</td>\n",
              "      <td>0.003172</td>\n",
              "      <td>-0.005025</td>\n",
              "      <td>0.001771</td>\n",
              "      <td>0.010098</td>\n",
              "      <td>0.130367</td>\n",
              "      <td>-0.102533</td>\n",
              "      <td>4.088382</td>\n",
              "    </tr>\n",
              "  </tbody>\n",
              "</table>\n",
              "</div>"
            ],
            "text/plain": [
              "         len      mean percentile_25  ...       max       min       sum\n",
              "         ret       ret           ret  ...       ret       ret       ret\n",
              "side                                  ...                              \n",
              "-1.0   795.0  0.003669     -0.008504  ...  0.244127 -0.106211  2.916675\n",
              " 1.0  1289.0  0.003172     -0.005025  ...  0.130367 -0.102533  4.088382\n",
              "\n",
              "[2 rows x 8 columns]"
            ]
          },
          "metadata": {
            "tags": []
          },
          "execution_count": 184
        }
      ]
    },
    {
      "cell_type": "code",
      "metadata": {
        "colab": {
          "base_uri": "https://localhost:8080/",
          "height": 282
        },
        "id": "HfqQ7HSFn_gF",
        "outputId": "cf41ea9c-5d78-4177-ca39-4911d2f60071"
      },
      "source": [
        "bins[(bins.side == 1) & (bins.ret <.1) & (bins.ret >-.1)].ret.plot.hist(bins=20)"
      ],
      "execution_count": 185,
      "outputs": [
        {
          "output_type": "execute_result",
          "data": {
            "text/plain": [
              "<matplotlib.axes._subplots.AxesSubplot at 0x7f8c840c85c0>"
            ]
          },
          "metadata": {
            "tags": []
          },
          "execution_count": 185
        },
        {
          "output_type": "display_data",
          "data": {
            "image/png": "[encoded data removed]",
            "text/plain": [
              "<Figure size 432x288 with 1 Axes>"
            ]
          },
          "metadata": {
            "tags": [],
            "needs_background": "light"
          }
        }
      ]
    },
    {
      "cell_type": "code",
      "metadata": {
        "colab": {
          "base_uri": "https://localhost:8080/",
          "height": 282
        },
        "id": "AktY3G5esnRX",
        "outputId": "c2c27a50-bad9-4812-8037-f6c844f90f97"
      },
      "source": [
        "bins[(bins.side == -1) & (bins.ret <.1) & (bins.ret >-.1)].ret.plot.hist(bins=20)"
      ],
      "execution_count": 186,
      "outputs": [
        {
          "output_type": "execute_result",
          "data": {
            "text/plain": [
              "<matplotlib.axes._subplots.AxesSubplot at 0x7f8c795f8f98>"
            ]
          },
          "metadata": {
            "tags": []
          },
          "execution_count": 186
        },
        {
          "output_type": "display_data",
          "data": {
            "image/png": "[encoded data removed]",
            "text/plain": [
              "<Figure size 432x288 with 1 Axes>"
            ]
          },
          "metadata": {
            "tags": [],
            "needs_background": "light"
          }
        }
      ]
    },
    {
      "cell_type": "code",
      "metadata": {
        "colab": {
          "base_uri": "https://localhost:8080/",
          "height": 450
        },
        "id": "76iF-f9vsqgE",
        "outputId": "c00d7f79-7544-46d0-93dc-43527a0fc683"
      },
      "source": [
        "out = pd.DataFrame()\n",
        "for ticker in bins.index.unique('ticker'):\n",
        "    clfW = getWeights(bins.loc[ticker], prices[ticker])\n",
        "    clfW.index = pd.MultiIndex.from_tuples([(ticker, a) for a in clfW.index], names=['ticker','Dates'])\n",
        "    out = pd.concat([out, clfW])\n",
        "out.columns = ['clfW']\n",
        "bins = pd.concat([bins, out], axis=1)\n",
        "bins"
      ],
      "execution_count": 187,
      "outputs": [
        {
          "output_type": "execute_result",
          "data": {
            "text/html": [
              "<div>\n",
              "<style scoped>\n",
              "    .dataframe tbody tr th:only-of-type {\n",
              "        vertical-align: middle;\n",
              "    }\n",
              "\n",
              "    .dataframe tbody tr th {\n",
              "        vertical-align: top;\n",
              "    }\n",
              "\n",
              "    .dataframe thead th {\n",
              "        text-align: right;\n",
              "    }\n",
              "</style>\n",
              "<table border=\"1\" class=\"dataframe\">\n",
              "  <thead>\n",
              "    <tr style=\"text-align: right;\">\n",
              "      <th></th>\n",
              "      <th></th>\n",
              "      <th>ret</th>\n",
              "      <th>t1</th>\n",
              "      <th>bin</th>\n",
              "      <th>side</th>\n",
              "      <th>clfW</th>\n",
              "    </tr>\n",
              "    <tr>\n",
              "      <th>ticker</th>\n",
              "      <th>Dates</th>\n",
              "      <th></th>\n",
              "      <th></th>\n",
              "      <th></th>\n",
              "      <th></th>\n",
              "      <th></th>\n",
              "    </tr>\n",
              "  </thead>\n",
              "  <tbody>\n",
              "    <tr>\n",
              "      <th rowspan=\"2\" valign=\"top\">EJ379173</th>\n",
              "      <th>2015-02-17</th>\n",
              "      <td>0.004340</td>\n",
              "      <td>2015-02-18</td>\n",
              "      <td>1.0</td>\n",
              "      <td>1.0</td>\n",
              "      <td>0.891124</td>\n",
              "    </tr>\n",
              "    <tr>\n",
              "      <th>2015-02-18</th>\n",
              "      <td>-0.004819</td>\n",
              "      <td>2015-02-19</td>\n",
              "      <td>0.0</td>\n",
              "      <td>1.0</td>\n",
              "      <td>1.000000</td>\n",
              "    </tr>\n",
              "    <tr>\n",
              "      <th rowspan=\"3\" valign=\"top\">EK474593</th>\n",
              "      <th>2015-02-06</th>\n",
              "      <td>-0.001260</td>\n",
              "      <td>2015-02-09</td>\n",
              "      <td>0.0</td>\n",
              "      <td>1.0</td>\n",
              "      <td>0.624713</td>\n",
              "    </tr>\n",
              "    <tr>\n",
              "      <th>2015-02-17</th>\n",
              "      <td>0.007605</td>\n",
              "      <td>2015-02-18</td>\n",
              "      <td>1.0</td>\n",
              "      <td>1.0</td>\n",
              "      <td>0.739330</td>\n",
              "    </tr>\n",
              "    <tr>\n",
              "      <th>2015-02-18</th>\n",
              "      <td>-0.016436</td>\n",
              "      <td>2015-02-19</td>\n",
              "      <td>0.0</td>\n",
              "      <td>1.0</td>\n",
              "      <td>0.771307</td>\n",
              "    </tr>\n",
              "    <tr>\n",
              "      <th>...</th>\n",
              "      <th>...</th>\n",
              "      <td>...</td>\n",
              "      <td>...</td>\n",
              "      <td>...</td>\n",
              "      <td>...</td>\n",
              "      <td>...</td>\n",
              "    </tr>\n",
              "    <tr>\n",
              "      <th rowspan=\"2\" valign=\"top\">BK256707</th>\n",
              "      <th>2020-11-02</th>\n",
              "      <td>-0.023381</td>\n",
              "      <td>2020-11-03</td>\n",
              "      <td>0.0</td>\n",
              "      <td>-1.0</td>\n",
              "      <td>0.820394</td>\n",
              "    </tr>\n",
              "    <tr>\n",
              "      <th>2020-11-03</th>\n",
              "      <td>-0.028419</td>\n",
              "      <td>2020-11-04</td>\n",
              "      <td>0.0</td>\n",
              "      <td>-1.0</td>\n",
              "      <td>1.000000</td>\n",
              "    </tr>\n",
              "    <tr>\n",
              "      <th rowspan=\"2\" valign=\"top\">BK912979</th>\n",
              "      <th>2020-09-17</th>\n",
              "      <td>0.002057</td>\n",
              "      <td>2020-09-18</td>\n",
              "      <td>1.0</td>\n",
              "      <td>-1.0</td>\n",
              "      <td>0.930281</td>\n",
              "    </tr>\n",
              "    <tr>\n",
              "      <th>2020-09-18</th>\n",
              "      <td>0.013854</td>\n",
              "      <td>2020-09-21</td>\n",
              "      <td>1.0</td>\n",
              "      <td>-1.0</td>\n",
              "      <td>1.000000</td>\n",
              "    </tr>\n",
              "    <tr>\n",
              "      <th>BK731780</th>\n",
              "      <th>2020-11-03</th>\n",
              "      <td>-0.015129</td>\n",
              "      <td>2020-11-04</td>\n",
              "      <td>0.0</td>\n",
              "      <td>-1.0</td>\n",
              "      <td>1.000000</td>\n",
              "    </tr>\n",
              "  </tbody>\n",
              "</table>\n",
              "<p>2084 rows × 5 columns</p>\n",
              "</div>"
            ],
            "text/plain": [
              "                          ret         t1  bin  side      clfW\n",
              "ticker   Dates                                               \n",
              "EJ379173 2015-02-17  0.004340 2015-02-18  1.0   1.0  0.891124\n",
              "         2015-02-18 -0.004819 2015-02-19  0.0   1.0  1.000000\n",
              "EK474593 2015-02-06 -0.001260 2015-02-09  0.0   1.0  0.624713\n",
              "         2015-02-17  0.007605 2015-02-18  1.0   1.0  0.739330\n",
              "         2015-02-18 -0.016436 2015-02-19  0.0   1.0  0.771307\n",
              "...                       ...        ...  ...   ...       ...\n",
              "BK256707 2020-11-02 -0.023381 2020-11-03  0.0  -1.0  0.820394\n",
              "         2020-11-03 -0.028419 2020-11-04  0.0  -1.0  1.000000\n",
              "BK912979 2020-09-17  0.002057 2020-09-18  1.0  -1.0  0.930281\n",
              "         2020-09-18  0.013854 2020-09-21  1.0  -1.0  1.000000\n",
              "BK731780 2020-11-03 -0.015129 2020-11-04  0.0  -1.0  1.000000\n",
              "\n",
              "[2084 rows x 5 columns]"
            ]
          },
          "metadata": {
            "tags": []
          },
          "execution_count": 187
        }
      ]
    },
    {
      "cell_type": "markdown",
      "metadata": {
        "id": "Q_ebLH0Js6t1"
      },
      "source": [
        "## Incorporating Bond Metadata into the Dataset"
      ]
    },
    {
      "cell_type": "code",
      "metadata": {
        "id": "hOMbAc_Qs1Py"
      },
      "source": [
        "desc = pd.read_csv('/content/drive/MyDrive/bonds/bonds_desc.csv', parse_dates=['date_issued', 'maturity', ], index_col='id').rename_axis('ticker')\n",
        "desc = desc.rename(columns={'ticker': 'name'})"
      ],
      "execution_count": 188,
      "outputs": []
    },
    {
      "cell_type": "code",
      "metadata": {
        "colab": {
          "base_uri": "https://localhost:8080/",
          "height": 450
        },
        "id": "ZaCr4T-wtGNV",
        "outputId": "defeb947-343e-4349-d827-489be730ff32"
      },
      "source": [
        "# some basic data cleaning steps to make the data ready for the pipeline\n",
        "desc = desc[['name', 'cpn', 'date_issued', 'maturity', 'amt_out']]\n",
        "desc.cpn = pd.to_numeric(desc.cpn, errors='coerce')\n",
        "desc.maturity = pd.to_datetime(desc.maturity, errors='coerce')\n",
        "desc.date_issued = pd.to_datetime(desc.date_issued, errors='coerce')\n",
        "desc"
      ],
      "execution_count": 189,
      "outputs": [
        {
          "output_type": "execute_result",
          "data": {
            "text/html": [
              "<div>\n",
              "<style scoped>\n",
              "    .dataframe tbody tr th:only-of-type {\n",
              "        vertical-align: middle;\n",
              "    }\n",
              "\n",
              "    .dataframe tbody tr th {\n",
              "        vertical-align: top;\n",
              "    }\n",
              "\n",
              "    .dataframe thead th {\n",
              "        text-align: right;\n",
              "    }\n",
              "</style>\n",
              "<table border=\"1\" class=\"dataframe\">\n",
              "  <thead>\n",
              "    <tr style=\"text-align: right;\">\n",
              "      <th></th>\n",
              "      <th>name</th>\n",
              "      <th>cpn</th>\n",
              "      <th>date_issued</th>\n",
              "      <th>maturity</th>\n",
              "      <th>amt_out</th>\n",
              "    </tr>\n",
              "    <tr>\n",
              "      <th>ticker</th>\n",
              "      <th></th>\n",
              "      <th></th>\n",
              "      <th></th>\n",
              "      <th></th>\n",
              "      <th></th>\n",
              "    </tr>\n",
              "  </thead>\n",
              "  <tbody>\n",
              "    <tr>\n",
              "      <th>EK718211</th>\n",
              "      <td>SNEC</td>\n",
              "      <td>6.125</td>\n",
              "      <td>2015-01-23</td>\n",
              "      <td>2023-01-15</td>\n",
              "      <td>1150000000</td>\n",
              "    </tr>\n",
              "    <tr>\n",
              "      <th>QZ888409</th>\n",
              "      <td>RAX</td>\n",
              "      <td>8.625</td>\n",
              "      <td>2016-10-25</td>\n",
              "      <td>2024-11-15</td>\n",
              "      <td>1200000000</td>\n",
              "    </tr>\n",
              "    <tr>\n",
              "      <th>AR871586</th>\n",
              "      <td>MDR</td>\n",
              "      <td>10.625</td>\n",
              "      <td>2018-04-04</td>\n",
              "      <td>2024-05-01</td>\n",
              "      <td>1300000000</td>\n",
              "    </tr>\n",
              "    <tr>\n",
              "      <th>JK964020</th>\n",
              "      <td>FTR</td>\n",
              "      <td>11.000</td>\n",
              "      <td>2016-04-28</td>\n",
              "      <td>2025-09-15</td>\n",
              "      <td>3598050000</td>\n",
              "    </tr>\n",
              "    <tr>\n",
              "      <th>AP362087</th>\n",
              "      <td>WSTC</td>\n",
              "      <td>8.500</td>\n",
              "      <td>2017-10-03</td>\n",
              "      <td>2025-10-15</td>\n",
              "      <td>1150000000</td>\n",
              "    </tr>\n",
              "    <tr>\n",
              "      <th>...</th>\n",
              "      <td>...</td>\n",
              "      <td>...</td>\n",
              "      <td>...</td>\n",
              "      <td>...</td>\n",
              "      <td>...</td>\n",
              "    </tr>\n",
              "    <tr>\n",
              "      <th>EH880957</th>\n",
              "      <td>TWC</td>\n",
              "      <td>6.750</td>\n",
              "      <td>2009-06-24</td>\n",
              "      <td>2039-06-15</td>\n",
              "      <td>1500000000</td>\n",
              "    </tr>\n",
              "    <tr>\n",
              "      <th>EG874835</th>\n",
              "      <td>TWC</td>\n",
              "      <td>6.550</td>\n",
              "      <td>2007-09-25</td>\n",
              "      <td>2037-05-01</td>\n",
              "      <td>1500000000</td>\n",
              "    </tr>\n",
              "    <tr>\n",
              "      <th>EI807807</th>\n",
              "      <td>TWC</td>\n",
              "      <td>5.500</td>\n",
              "      <td>2011-09-07</td>\n",
              "      <td>2041-09-01</td>\n",
              "      <td>1250000000</td>\n",
              "    </tr>\n",
              "    <tr>\n",
              "      <th>EH624588</th>\n",
              "      <td>TWC</td>\n",
              "      <td>8.750</td>\n",
              "      <td>2008-11-13</td>\n",
              "      <td>2019-02-14</td>\n",
              "      <td>1250000000</td>\n",
              "    </tr>\n",
              "    <tr>\n",
              "      <th>88731EAJ</th>\n",
              "      <td>TWC</td>\n",
              "      <td>8.375</td>\n",
              "      <td>1994-02-03</td>\n",
              "      <td>2033-07-15</td>\n",
              "      <td>1000000000</td>\n",
              "    </tr>\n",
              "  </tbody>\n",
              "</table>\n",
              "<p>701 rows × 5 columns</p>\n",
              "</div>"
            ],
            "text/plain": [
              "          name     cpn date_issued   maturity     amt_out\n",
              "ticker                                                   \n",
              "EK718211  SNEC   6.125  2015-01-23 2023-01-15  1150000000\n",
              "QZ888409   RAX   8.625  2016-10-25 2024-11-15  1200000000\n",
              "AR871586   MDR  10.625  2018-04-04 2024-05-01  1300000000\n",
              "JK964020   FTR  11.000  2016-04-28 2025-09-15  3598050000\n",
              "AP362087  WSTC   8.500  2017-10-03 2025-10-15  1150000000\n",
              "...        ...     ...         ...        ...         ...\n",
              "EH880957   TWC   6.750  2009-06-24 2039-06-15  1500000000\n",
              "EG874835   TWC   6.550  2007-09-25 2037-05-01  1500000000\n",
              "EI807807   TWC   5.500  2011-09-07 2041-09-01  1250000000\n",
              "EH624588   TWC   8.750  2008-11-13 2019-02-14  1250000000\n",
              "88731EAJ   TWC   8.375  1994-02-03 2033-07-15  1000000000\n",
              "\n",
              "[701 rows x 5 columns]"
            ]
          },
          "metadata": {
            "tags": []
          },
          "execution_count": 189
        }
      ]
    },
    {
      "cell_type": "code",
      "metadata": {
        "colab": {
          "base_uri": "https://localhost:8080/",
          "height": 450
        },
        "id": "lUz4ZPAQtGjW",
        "outputId": "3177ba56-3d3a-46e4-cf77-708772bf1c9f"
      },
      "source": [
        "df = bins.join(desc).drop(columns='name')\n",
        "df"
      ],
      "execution_count": 190,
      "outputs": [
        {
          "output_type": "execute_result",
          "data": {
            "text/html": [
              "<div>\n",
              "<style scoped>\n",
              "    .dataframe tbody tr th:only-of-type {\n",
              "        vertical-align: middle;\n",
              "    }\n",
              "\n",
              "    .dataframe tbody tr th {\n",
              "        vertical-align: top;\n",
              "    }\n",
              "\n",
              "    .dataframe thead th {\n",
              "        text-align: right;\n",
              "    }\n",
              "</style>\n",
              "<table border=\"1\" class=\"dataframe\">\n",
              "  <thead>\n",
              "    <tr style=\"text-align: right;\">\n",
              "      <th></th>\n",
              "      <th></th>\n",
              "      <th>ret</th>\n",
              "      <th>t1</th>\n",
              "      <th>bin</th>\n",
              "      <th>side</th>\n",
              "      <th>clfW</th>\n",
              "      <th>cpn</th>\n",
              "      <th>date_issued</th>\n",
              "      <th>maturity</th>\n",
              "      <th>amt_out</th>\n",
              "    </tr>\n",
              "    <tr>\n",
              "      <th>ticker</th>\n",
              "      <th>Dates</th>\n",
              "      <th></th>\n",
              "      <th></th>\n",
              "      <th></th>\n",
              "      <th></th>\n",
              "      <th></th>\n",
              "      <th></th>\n",
              "      <th></th>\n",
              "      <th></th>\n",
              "      <th></th>\n",
              "    </tr>\n",
              "  </thead>\n",
              "  <tbody>\n",
              "    <tr>\n",
              "      <th rowspan=\"2\" valign=\"top\">EJ379173</th>\n",
              "      <th>2015-02-17</th>\n",
              "      <td>0.004340</td>\n",
              "      <td>2015-02-18</td>\n",
              "      <td>1.0</td>\n",
              "      <td>1.0</td>\n",
              "      <td>0.891124</td>\n",
              "      <td>6.500</td>\n",
              "      <td>2012-09-24</td>\n",
              "      <td>2019-05-15</td>\n",
              "      <td>1200000000</td>\n",
              "    </tr>\n",
              "    <tr>\n",
              "      <th>2015-02-18</th>\n",
              "      <td>-0.004819</td>\n",
              "      <td>2015-02-19</td>\n",
              "      <td>0.0</td>\n",
              "      <td>1.0</td>\n",
              "      <td>1.000000</td>\n",
              "      <td>6.500</td>\n",
              "      <td>2012-09-24</td>\n",
              "      <td>2019-05-15</td>\n",
              "      <td>1200000000</td>\n",
              "    </tr>\n",
              "    <tr>\n",
              "      <th rowspan=\"3\" valign=\"top\">EK474593</th>\n",
              "      <th>2015-02-06</th>\n",
              "      <td>-0.001260</td>\n",
              "      <td>2015-02-09</td>\n",
              "      <td>0.0</td>\n",
              "      <td>1.0</td>\n",
              "      <td>0.624713</td>\n",
              "      <td>6.000</td>\n",
              "      <td>2014-09-11</td>\n",
              "      <td>2024-11-15</td>\n",
              "      <td>2250000000</td>\n",
              "    </tr>\n",
              "    <tr>\n",
              "      <th>2015-02-17</th>\n",
              "      <td>0.007605</td>\n",
              "      <td>2015-02-18</td>\n",
              "      <td>1.0</td>\n",
              "      <td>1.0</td>\n",
              "      <td>0.739330</td>\n",
              "      <td>6.000</td>\n",
              "      <td>2014-09-11</td>\n",
              "      <td>2024-11-15</td>\n",
              "      <td>2250000000</td>\n",
              "    </tr>\n",
              "    <tr>\n",
              "      <th>2015-02-18</th>\n",
              "      <td>-0.016436</td>\n",
              "      <td>2015-02-19</td>\n",
              "      <td>0.0</td>\n",
              "      <td>1.0</td>\n",
              "      <td>0.771307</td>\n",
              "      <td>6.000</td>\n",
              "      <td>2014-09-11</td>\n",
              "      <td>2024-11-15</td>\n",
              "      <td>2250000000</td>\n",
              "    </tr>\n",
              "    <tr>\n",
              "      <th>...</th>\n",
              "      <th>...</th>\n",
              "      <td>...</td>\n",
              "      <td>...</td>\n",
              "      <td>...</td>\n",
              "      <td>...</td>\n",
              "      <td>...</td>\n",
              "      <td>...</td>\n",
              "      <td>...</td>\n",
              "      <td>...</td>\n",
              "      <td>...</td>\n",
              "    </tr>\n",
              "    <tr>\n",
              "      <th rowspan=\"2\" valign=\"top\">BK256707</th>\n",
              "      <th>2020-11-02</th>\n",
              "      <td>-0.023381</td>\n",
              "      <td>2020-11-03</td>\n",
              "      <td>0.0</td>\n",
              "      <td>-1.0</td>\n",
              "      <td>0.820394</td>\n",
              "      <td>8.875</td>\n",
              "      <td>2020-06-26</td>\n",
              "      <td>2030-07-15</td>\n",
              "      <td>1000000000</td>\n",
              "    </tr>\n",
              "    <tr>\n",
              "      <th>2020-11-03</th>\n",
              "      <td>-0.028419</td>\n",
              "      <td>2020-11-04</td>\n",
              "      <td>0.0</td>\n",
              "      <td>-1.0</td>\n",
              "      <td>1.000000</td>\n",
              "      <td>8.875</td>\n",
              "      <td>2020-06-26</td>\n",
              "      <td>2030-07-15</td>\n",
              "      <td>1000000000</td>\n",
              "    </tr>\n",
              "    <tr>\n",
              "      <th rowspan=\"2\" valign=\"top\">BK912979</th>\n",
              "      <th>2020-09-17</th>\n",
              "      <td>0.002057</td>\n",
              "      <td>2020-09-18</td>\n",
              "      <td>1.0</td>\n",
              "      <td>-1.0</td>\n",
              "      <td>0.930281</td>\n",
              "      <td>6.625</td>\n",
              "      <td>2020-08-12</td>\n",
              "      <td>2030-09-01</td>\n",
              "      <td>1500000000</td>\n",
              "    </tr>\n",
              "    <tr>\n",
              "      <th>2020-09-18</th>\n",
              "      <td>0.013854</td>\n",
              "      <td>2020-09-21</td>\n",
              "      <td>1.0</td>\n",
              "      <td>-1.0</td>\n",
              "      <td>1.000000</td>\n",
              "      <td>6.625</td>\n",
              "      <td>2020-08-12</td>\n",
              "      <td>2030-09-01</td>\n",
              "      <td>1500000000</td>\n",
              "    </tr>\n",
              "    <tr>\n",
              "      <th>BK731780</th>\n",
              "      <th>2020-11-03</th>\n",
              "      <td>-0.015129</td>\n",
              "      <td>2020-11-04</td>\n",
              "      <td>0.0</td>\n",
              "      <td>-1.0</td>\n",
              "      <td>1.000000</td>\n",
              "      <td>6.875</td>\n",
              "      <td>2020-07-30</td>\n",
              "      <td>2028-08-15</td>\n",
              "      <td>1775000000</td>\n",
              "    </tr>\n",
              "  </tbody>\n",
              "</table>\n",
              "<p>2084 rows × 9 columns</p>\n",
              "</div>"
            ],
            "text/plain": [
              "                          ret         t1  ...   maturity     amt_out\n",
              "ticker   Dates                            ...                       \n",
              "EJ379173 2015-02-17  0.004340 2015-02-18  ... 2019-05-15  1200000000\n",
              "         2015-02-18 -0.004819 2015-02-19  ... 2019-05-15  1200000000\n",
              "EK474593 2015-02-06 -0.001260 2015-02-09  ... 2024-11-15  2250000000\n",
              "         2015-02-17  0.007605 2015-02-18  ... 2024-11-15  2250000000\n",
              "         2015-02-18 -0.016436 2015-02-19  ... 2024-11-15  2250000000\n",
              "...                       ...        ...  ...        ...         ...\n",
              "BK256707 2020-11-02 -0.023381 2020-11-03  ... 2030-07-15  1000000000\n",
              "         2020-11-03 -0.028419 2020-11-04  ... 2030-07-15  1000000000\n",
              "BK912979 2020-09-17  0.002057 2020-09-18  ... 2030-09-01  1500000000\n",
              "         2020-09-18  0.013854 2020-09-21  ... 2030-09-01  1500000000\n",
              "BK731780 2020-11-03 -0.015129 2020-11-04  ... 2028-08-15  1775000000\n",
              "\n",
              "[2084 rows x 9 columns]"
            ]
          },
          "metadata": {
            "tags": []
          },
          "execution_count": 190
        }
      ]
    },
    {
      "cell_type": "markdown",
      "metadata": {
        "id": "naZImeVUxP3X"
      },
      "source": [
        "## Train model with bond features"
      ]
    },
    {
      "cell_type": "code",
      "metadata": {
        "colab": {
          "base_uri": "https://localhost:8080/"
        },
        "id": "WiOTLVc9vmSO",
        "outputId": "e735188d-de58-49dd-aa8e-0d3ea07eb5fc"
      },
      "source": [
        "num_attribs = ['cpn', 'date_issued', 'maturity', 'amt_out']\n",
        "cat_attribs = ['side',]\n",
        "\n",
        "X_train, X_test, y_train, y_test, y_pred_train, y_pred_test, y_score_train, y_score_test = trainModel(num_attribs, cat_attribs, [], df)"
      ],
      "execution_count": 191,
      "outputs": [
        {
          "output_type": "stream",
          "text": [
            "average feature uniqueness: 0.19273654505085128\n",
            "Train Score: 0.82, Test Score: 0.53\n"
          ],
          "name": "stdout"
        }
      ]
    },
    {
      "cell_type": "code",
      "metadata": {
        "colab": {
          "base_uri": "https://localhost:8080/",
          "height": 334
        },
        "id": "XUYgeFOXxVND",
        "outputId": "461fb512-0172-42b0-93ec-ab7c48542f0c"
      },
      "source": [
        "printCurve(X_train, y_train.bin, y_pred_train, y_score_train)"
      ],
      "execution_count": 192,
      "outputs": [
        {
          "output_type": "stream",
          "text": [
            "Precision: 0.83, Recall: 0.84, Area under curve: 0.82\n",
            "[[562 132]\n",
            " [125 639]]\n"
          ],
          "name": "stdout"
        },
        {
          "output_type": "display_data",
          "data": {
            "image/png": "[encoded data removed]",
            "text/plain": [
              "<Figure size 432x288 with 1 Axes>"
            ]
          },
          "metadata": {
            "tags": [],
            "needs_background": "light"
          }
        }
      ]
    },
    {
      "cell_type": "code",
      "metadata": {
        "colab": {
          "base_uri": "https://localhost:8080/",
          "height": 334
        },
        "id": "qtJP6TaJy0jS",
        "outputId": "63446b62-17e2-401b-a257-679d04fe6e98"
      },
      "source": [
        "printCurve(X_test, y_test.bin, y_pred_test, y_score_test)"
      ],
      "execution_count": 193,
      "outputs": [
        {
          "output_type": "stream",
          "text": [
            "Precision: 0.55, Recall: 0.79, Area under curve: 0.50\n",
            "[[ 58 223]\n",
            " [ 74 271]]\n"
          ],
          "name": "stdout"
        },
        {
          "output_type": "display_data",
          "data": {
            "image/png": "[encoded data removed]",
            "text/plain": [
              "<Figure size 432x288 with 1 Axes>"
            ]
          },
          "metadata": {
            "tags": [],
            "needs_background": "light"
          }
        }
      ]
    },
    {
      "cell_type": "markdown",
      "metadata": {
        "id": "8MyPSOo71ROd"
      },
      "source": [
        "## Incorporating ratings into the model"
      ]
    },
    {
      "cell_type": "code",
      "metadata": {
        "colab": {
          "base_uri": "https://localhost:8080/"
        },
        "id": "OaK0Yeaky6ak",
        "outputId": "71ff0c51-0c7c-4826-98e2-34e7cd8bd09c"
      },
      "source": [
        "moody = pd.read_csv('/content/drive/MyDrive/bonds/bonds_moody.csv', index_col='id').rename_axis('ticker').rename_axis('month',axis=1).unstack().rename('moody')\n",
        "#snp = pd.read_csv('/content/drive/MyDrive/bonds/bonds_snp.csv', index_col='id').rename_axis('ticker').rename_axis('month',axis=1).unstack().rename('snp')\n",
        "moody.index.set_levels(pd.PeriodIndex(pd.to_datetime(moody.index.levels[0]), freq='M'), level=0, inplace=True)\n",
        "#snp.index.set_levels(pd.PeriodIndex(pd.to_datetime(snp.index.levels[0]), freq='M'), level=0, inplace=True)\n",
        "print(moody.unique()) #, snp.unique())"
      ],
      "execution_count": 194,
      "outputs": [
        {
          "output_type": "stream",
          "text": [
            "['B3' nan 'Baa2' 'Ba1' 'Caa1' 'B2' 'Baa3' 'A1' 'Ba3' 'B1' 'Ba2' 'Baa1'\n",
            " '(P)Baa2' 'A3' 'A2' 'Ca' 'WR' 'Caa2' 'Caa3' 'C' '(P)Ba2' 'Ba2u' 'Ba1u']\n"
          ],
          "name": "stdout"
        }
      ]
    },
    {
      "cell_type": "code",
      "metadata": {
        "id": "Tai_wU4v2Pve"
      },
      "source": [
        "moody_num = moody.map(moody_scale).fillna(5)\n",
        "#snp_num = snp.map(snp_scale).fillna(5)\n",
        "avg_rating = pd.concat([moody_num,],axis=1).mean(axis=1).rename('avg_rating')"
      ],
      "execution_count": 195,
      "outputs": []
    },
    {
      "cell_type": "code",
      "metadata": {
        "colab": {
          "base_uri": "https://localhost:8080/",
          "height": 450
        },
        "id": "rPYDNMky2SeT",
        "outputId": "5eb64fbb-8d84-404f-cbc3-f2d1eb867a83"
      },
      "source": [
        "df_rating = df.reset_index(level='ticker')\n",
        "df_rating['month'] = pd.PeriodIndex(df_rating.index, freq='M') - 1\n",
        "df_rating = df_rating.set_index('ticker', append=True).swaplevel()\n",
        "df_rating = df_rating.join(avg_rating, on=['month', 'ticker'])\n",
        "df_rating"
      ],
      "execution_count": 198,
      "outputs": [
        {
          "output_type": "execute_result",
          "data": {
            "text/html": [
              "<div>\n",
              "<style scoped>\n",
              "    .dataframe tbody tr th:only-of-type {\n",
              "        vertical-align: middle;\n",
              "    }\n",
              "\n",
              "    .dataframe tbody tr th {\n",
              "        vertical-align: top;\n",
              "    }\n",
              "\n",
              "    .dataframe thead th {\n",
              "        text-align: right;\n",
              "    }\n",
              "</style>\n",
              "<table border=\"1\" class=\"dataframe\">\n",
              "  <thead>\n",
              "    <tr style=\"text-align: right;\">\n",
              "      <th></th>\n",
              "      <th></th>\n",
              "      <th>ret</th>\n",
              "      <th>t1</th>\n",
              "      <th>bin</th>\n",
              "      <th>side</th>\n",
              "      <th>clfW</th>\n",
              "      <th>cpn</th>\n",
              "      <th>date_issued</th>\n",
              "      <th>maturity</th>\n",
              "      <th>amt_out</th>\n",
              "      <th>month</th>\n",
              "      <th>avg_rating</th>\n",
              "    </tr>\n",
              "    <tr>\n",
              "      <th>ticker</th>\n",
              "      <th>Dates</th>\n",
              "      <th></th>\n",
              "      <th></th>\n",
              "      <th></th>\n",
              "      <th></th>\n",
              "      <th></th>\n",
              "      <th></th>\n",
              "      <th></th>\n",
              "      <th></th>\n",
              "      <th></th>\n",
              "      <th></th>\n",
              "      <th></th>\n",
              "    </tr>\n",
              "  </thead>\n",
              "  <tbody>\n",
              "    <tr>\n",
              "      <th rowspan=\"2\" valign=\"top\">EJ379173</th>\n",
              "      <th>2015-02-17</th>\n",
              "      <td>0.004340</td>\n",
              "      <td>2015-02-18</td>\n",
              "      <td>1.0</td>\n",
              "      <td>1.0</td>\n",
              "      <td>0.891124</td>\n",
              "      <td>6.500</td>\n",
              "      <td>2012-09-24</td>\n",
              "      <td>2019-05-15</td>\n",
              "      <td>1200000000</td>\n",
              "      <td>2015-01</td>\n",
              "      <td>NaN</td>\n",
              "    </tr>\n",
              "    <tr>\n",
              "      <th>2015-02-18</th>\n",
              "      <td>-0.004819</td>\n",
              "      <td>2015-02-19</td>\n",
              "      <td>0.0</td>\n",
              "      <td>1.0</td>\n",
              "      <td>1.000000</td>\n",
              "      <td>6.500</td>\n",
              "      <td>2012-09-24</td>\n",
              "      <td>2019-05-15</td>\n",
              "      <td>1200000000</td>\n",
              "      <td>2015-01</td>\n",
              "      <td>NaN</td>\n",
              "    </tr>\n",
              "    <tr>\n",
              "      <th rowspan=\"3\" valign=\"top\">EK474593</th>\n",
              "      <th>2015-02-06</th>\n",
              "      <td>-0.001260</td>\n",
              "      <td>2015-02-09</td>\n",
              "      <td>0.0</td>\n",
              "      <td>1.0</td>\n",
              "      <td>0.624713</td>\n",
              "      <td>6.000</td>\n",
              "      <td>2014-09-11</td>\n",
              "      <td>2024-11-15</td>\n",
              "      <td>2250000000</td>\n",
              "      <td>2015-01</td>\n",
              "      <td>NaN</td>\n",
              "    </tr>\n",
              "    <tr>\n",
              "      <th>2015-02-17</th>\n",
              "      <td>0.007605</td>\n",
              "      <td>2015-02-18</td>\n",
              "      <td>1.0</td>\n",
              "      <td>1.0</td>\n",
              "      <td>0.739330</td>\n",
              "      <td>6.000</td>\n",
              "      <td>2014-09-11</td>\n",
              "      <td>2024-11-15</td>\n",
              "      <td>2250000000</td>\n",
              "      <td>2015-01</td>\n",
              "      <td>NaN</td>\n",
              "    </tr>\n",
              "    <tr>\n",
              "      <th>2015-02-18</th>\n",
              "      <td>-0.016436</td>\n",
              "      <td>2015-02-19</td>\n",
              "      <td>0.0</td>\n",
              "      <td>1.0</td>\n",
              "      <td>0.771307</td>\n",
              "      <td>6.000</td>\n",
              "      <td>2014-09-11</td>\n",
              "      <td>2024-11-15</td>\n",
              "      <td>2250000000</td>\n",
              "      <td>2015-01</td>\n",
              "      <td>NaN</td>\n",
              "    </tr>\n",
              "    <tr>\n",
              "      <th>...</th>\n",
              "      <th>...</th>\n",
              "      <td>...</td>\n",
              "      <td>...</td>\n",
              "      <td>...</td>\n",
              "      <td>...</td>\n",
              "      <td>...</td>\n",
              "      <td>...</td>\n",
              "      <td>...</td>\n",
              "      <td>...</td>\n",
              "      <td>...</td>\n",
              "      <td>...</td>\n",
              "      <td>...</td>\n",
              "    </tr>\n",
              "    <tr>\n",
              "      <th rowspan=\"2\" valign=\"top\">BK256707</th>\n",
              "      <th>2020-11-02</th>\n",
              "      <td>-0.023381</td>\n",
              "      <td>2020-11-03</td>\n",
              "      <td>0.0</td>\n",
              "      <td>-1.0</td>\n",
              "      <td>0.820394</td>\n",
              "      <td>8.875</td>\n",
              "      <td>2020-06-26</td>\n",
              "      <td>2030-07-15</td>\n",
              "      <td>1000000000</td>\n",
              "      <td>2020-10</td>\n",
              "      <td>NaN</td>\n",
              "    </tr>\n",
              "    <tr>\n",
              "      <th>2020-11-03</th>\n",
              "      <td>-0.028419</td>\n",
              "      <td>2020-11-04</td>\n",
              "      <td>0.0</td>\n",
              "      <td>-1.0</td>\n",
              "      <td>1.000000</td>\n",
              "      <td>8.875</td>\n",
              "      <td>2020-06-26</td>\n",
              "      <td>2030-07-15</td>\n",
              "      <td>1000000000</td>\n",
              "      <td>2020-10</td>\n",
              "      <td>NaN</td>\n",
              "    </tr>\n",
              "    <tr>\n",
              "      <th rowspan=\"2\" valign=\"top\">BK912979</th>\n",
              "      <th>2020-09-17</th>\n",
              "      <td>0.002057</td>\n",
              "      <td>2020-09-18</td>\n",
              "      <td>1.0</td>\n",
              "      <td>-1.0</td>\n",
              "      <td>0.930281</td>\n",
              "      <td>6.625</td>\n",
              "      <td>2020-08-12</td>\n",
              "      <td>2030-09-01</td>\n",
              "      <td>1500000000</td>\n",
              "      <td>2020-08</td>\n",
              "      <td>NaN</td>\n",
              "    </tr>\n",
              "    <tr>\n",
              "      <th>2020-09-18</th>\n",
              "      <td>0.013854</td>\n",
              "      <td>2020-09-21</td>\n",
              "      <td>1.0</td>\n",
              "      <td>-1.0</td>\n",
              "      <td>1.000000</td>\n",
              "      <td>6.625</td>\n",
              "      <td>2020-08-12</td>\n",
              "      <td>2030-09-01</td>\n",
              "      <td>1500000000</td>\n",
              "      <td>2020-08</td>\n",
              "      <td>NaN</td>\n",
              "    </tr>\n",
              "    <tr>\n",
              "      <th>BK731780</th>\n",
              "      <th>2020-11-03</th>\n",
              "      <td>-0.015129</td>\n",
              "      <td>2020-11-04</td>\n",
              "      <td>0.0</td>\n",
              "      <td>-1.0</td>\n",
              "      <td>1.000000</td>\n",
              "      <td>6.875</td>\n",
              "      <td>2020-07-30</td>\n",
              "      <td>2028-08-15</td>\n",
              "      <td>1775000000</td>\n",
              "      <td>2020-10</td>\n",
              "      <td>NaN</td>\n",
              "    </tr>\n",
              "  </tbody>\n",
              "</table>\n",
              "<p>2084 rows × 11 columns</p>\n",
              "</div>"
            ],
            "text/plain": [
              "                          ret         t1  bin  ...     amt_out    month  avg_rating\n",
              "ticker   Dates                                 ...                                 \n",
              "EJ379173 2015-02-17  0.004340 2015-02-18  1.0  ...  1200000000  2015-01         NaN\n",
              "         2015-02-18 -0.004819 2015-02-19  0.0  ...  1200000000  2015-01         NaN\n",
              "EK474593 2015-02-06 -0.001260 2015-02-09  0.0  ...  2250000000  2015-01         NaN\n",
              "         2015-02-17  0.007605 2015-02-18  1.0  ...  2250000000  2015-01         NaN\n",
              "         2015-02-18 -0.016436 2015-02-19  0.0  ...  2250000000  2015-01         NaN\n",
              "...                       ...        ...  ...  ...         ...      ...         ...\n",
              "BK256707 2020-11-02 -0.023381 2020-11-03  0.0  ...  1000000000  2020-10         NaN\n",
              "         2020-11-03 -0.028419 2020-11-04  0.0  ...  1000000000  2020-10         NaN\n",
              "BK912979 2020-09-17  0.002057 2020-09-18  1.0  ...  1500000000  2020-08         NaN\n",
              "         2020-09-18  0.013854 2020-09-21  1.0  ...  1500000000  2020-08         NaN\n",
              "BK731780 2020-11-03 -0.015129 2020-11-04  0.0  ...  1775000000  2020-10         NaN\n",
              "\n",
              "[2084 rows x 11 columns]"
            ]
          },
          "metadata": {
            "tags": []
          },
          "execution_count": 198
        }
      ]
    },
    {
      "cell_type": "code",
      "metadata": {
        "colab": {
          "base_uri": "https://localhost:8080/",
          "height": 358
        },
        "id": "yoTS6P2y2jUL",
        "outputId": "ffcf304d-20d1-4624-e245-663e288eb68c"
      },
      "source": [
        "num_attribs = ['cpn', 'date_issued', 'maturity', 'amt_out']\n",
        "cat_attribs = ['side', 'avg_rating']\n",
        "\n",
        "X_train, X_test, y_train, y_test, y_pred_train, y_pred_test, y_score_train, y_score_test = trainModel(num_attribs, cat_attribs, [], df_rating)"
      ],
      "execution_count": 200,
      "outputs": [
        {
          "output_type": "stream",
          "text": [
            "average feature uniqueness: 0.19273654505085128\n"
          ],
          "name": "stdout"
        },
        {
          "output_type": "error",
          "ename": "ValueError",
          "evalue": "ignored",
          "traceback": [
            "\u001b[0;31m---------------------------------------------------------------------------\u001b[0m",
            "\u001b[0;31mValueError\u001b[0m                                Traceback (most recent call last)",
            "\u001b[0;32m<ipython-input-200-7b992bd32847>\u001b[0m in \u001b[0;36m<module>\u001b[0;34m()\u001b[0m\n\u001b[1;32m      2\u001b[0m \u001b[0mcat_attribs\u001b[0m \u001b[0;34m=\u001b[0m \u001b[0;34m[\u001b[0m\u001b[0;34m'side'\u001b[0m\u001b[0;34m,\u001b[0m \u001b[0;34m'avg_rating'\u001b[0m\u001b[0;34m]\u001b[0m\u001b[0;34m\u001b[0m\u001b[0;34m\u001b[0m\u001b[0m\n\u001b[1;32m      3\u001b[0m \u001b[0;34m\u001b[0m\u001b[0m\n\u001b[0;32m----> 4\u001b[0;31m \u001b[0mX_train\u001b[0m\u001b[0;34m,\u001b[0m \u001b[0mX_test\u001b[0m\u001b[0;34m,\u001b[0m \u001b[0my_train\u001b[0m\u001b[0;34m,\u001b[0m \u001b[0my_test\u001b[0m\u001b[0;34m,\u001b[0m \u001b[0my_pred_train\u001b[0m\u001b[0;34m,\u001b[0m \u001b[0my_pred_test\u001b[0m\u001b[0;34m,\u001b[0m \u001b[0my_score_train\u001b[0m\u001b[0;34m,\u001b[0m \u001b[0my_score_test\u001b[0m \u001b[0;34m=\u001b[0m \u001b[0mtrainModel\u001b[0m\u001b[0;34m(\u001b[0m\u001b[0mnum_attribs\u001b[0m\u001b[0;34m,\u001b[0m \u001b[0mcat_attribs\u001b[0m\u001b[0;34m,\u001b[0m \u001b[0;34m[\u001b[0m\u001b[0;34m]\u001b[0m\u001b[0;34m,\u001b[0m \u001b[0mdf_rating\u001b[0m\u001b[0;34m)\u001b[0m\u001b[0;34m\u001b[0m\u001b[0;34m\u001b[0m\u001b[0m\n\u001b[0m",
            "\u001b[0;32m<ipython-input-168-472170c5f877>\u001b[0m in \u001b[0;36mtrainModel\u001b[0;34m(num_attribs, cat_attribs, bool_attribs, df)\u001b[0m\n\u001b[1;32m     36\u001b[0m \u001b[0;34m\u001b[0m\u001b[0m\n\u001b[1;32m     37\u001b[0m   \u001b[0mX_train_df\u001b[0m\u001b[0;34m,\u001b[0m \u001b[0mX_test_df\u001b[0m\u001b[0;34m,\u001b[0m \u001b[0my_train\u001b[0m\u001b[0;34m,\u001b[0m \u001b[0my_test\u001b[0m\u001b[0;34m,\u001b[0m \u001b[0mW_train\u001b[0m\u001b[0;34m,\u001b[0m \u001b[0mW_test\u001b[0m \u001b[0;34m=\u001b[0m \u001b[0mtrain_test_split\u001b[0m\u001b[0;34m(\u001b[0m\u001b[0mX\u001b[0m\u001b[0;34m,\u001b[0m \u001b[0my\u001b[0m\u001b[0;34m,\u001b[0m \u001b[0mclfW\u001b[0m\u001b[0;34m,\u001b[0m \u001b[0mtest_size\u001b[0m\u001b[0;34m=\u001b[0m\u001b[0;36m0.3\u001b[0m\u001b[0;34m,\u001b[0m \u001b[0mshuffle\u001b[0m\u001b[0;34m=\u001b[0m\u001b[0;32mFalse\u001b[0m\u001b[0;34m)\u001b[0m\u001b[0;34m\u001b[0m\u001b[0;34m\u001b[0m\u001b[0m\n\u001b[0;32m---> 38\u001b[0;31m   \u001b[0mX_train\u001b[0m \u001b[0;34m=\u001b[0m \u001b[0mbin_pipeline\u001b[0m\u001b[0;34m.\u001b[0m\u001b[0mfit_transform\u001b[0m\u001b[0;34m(\u001b[0m\u001b[0mX_train_df\u001b[0m\u001b[0;34m.\u001b[0m\u001b[0mcopy\u001b[0m\u001b[0;34m(\u001b[0m\u001b[0;34m)\u001b[0m\u001b[0;34m)\u001b[0m\u001b[0;34m\u001b[0m\u001b[0;34m\u001b[0m\u001b[0m\n\u001b[0m\u001b[1;32m     39\u001b[0m   \u001b[0mX_test\u001b[0m \u001b[0;34m=\u001b[0m \u001b[0mbin_pipeline\u001b[0m\u001b[0;34m.\u001b[0m\u001b[0mfit_transform\u001b[0m\u001b[0;34m(\u001b[0m\u001b[0mX_test_df\u001b[0m\u001b[0;34m.\u001b[0m\u001b[0mcopy\u001b[0m\u001b[0;34m(\u001b[0m\u001b[0;34m)\u001b[0m\u001b[0;34m)\u001b[0m\u001b[0;34m\u001b[0m\u001b[0;34m\u001b[0m\u001b[0m\n\u001b[1;32m     40\u001b[0m \u001b[0;34m\u001b[0m\u001b[0m\n",
            "\u001b[0;32m/usr/local/lib/python3.6/dist-packages/sklearn/compose/_column_transformer.py\u001b[0m in \u001b[0;36mfit_transform\u001b[0;34m(self, X, y)\u001b[0m\n\u001b[1;32m    516\u001b[0m         \u001b[0mself\u001b[0m\u001b[0;34m.\u001b[0m\u001b[0m_validate_remainder\u001b[0m\u001b[0;34m(\u001b[0m\u001b[0mX\u001b[0m\u001b[0;34m)\u001b[0m\u001b[0;34m\u001b[0m\u001b[0;34m\u001b[0m\u001b[0m\n\u001b[1;32m    517\u001b[0m \u001b[0;34m\u001b[0m\u001b[0m\n\u001b[0;32m--> 518\u001b[0;31m         \u001b[0mresult\u001b[0m \u001b[0;34m=\u001b[0m \u001b[0mself\u001b[0m\u001b[0;34m.\u001b[0m\u001b[0m_fit_transform\u001b[0m\u001b[0;34m(\u001b[0m\u001b[0mX\u001b[0m\u001b[0;34m,\u001b[0m \u001b[0my\u001b[0m\u001b[0;34m,\u001b[0m \u001b[0m_fit_transform_one\u001b[0m\u001b[0;34m)\u001b[0m\u001b[0;34m\u001b[0m\u001b[0;34m\u001b[0m\u001b[0m\n\u001b[0m\u001b[1;32m    519\u001b[0m \u001b[0;34m\u001b[0m\u001b[0m\n\u001b[1;32m    520\u001b[0m         \u001b[0;32mif\u001b[0m \u001b[0;32mnot\u001b[0m \u001b[0mresult\u001b[0m\u001b[0;34m:\u001b[0m\u001b[0;34m\u001b[0m\u001b[0;34m\u001b[0m\u001b[0m\n",
            "\u001b[0;32m/usr/local/lib/python3.6/dist-packages/sklearn/compose/_column_transformer.py\u001b[0m in \u001b[0;36m_fit_transform\u001b[0;34m(self, X, y, func, fitted)\u001b[0m\n\u001b[1;32m    455\u001b[0m                     message=self._log_message(name, idx, len(transformers)))\n\u001b[1;32m    456\u001b[0m                 for idx, (name, trans, column, weight) in enumerate(\n\u001b[0;32m--> 457\u001b[0;31m                         self._iter(fitted=fitted, replace_strings=True), 1))\n\u001b[0m\u001b[1;32m    458\u001b[0m         \u001b[0;32mexcept\u001b[0m \u001b[0mValueError\u001b[0m \u001b[0;32mas\u001b[0m \u001b[0me\u001b[0m\u001b[0;34m:\u001b[0m\u001b[0;34m\u001b[0m\u001b[0;34m\u001b[0m\u001b[0m\n\u001b[1;32m    459\u001b[0m             \u001b[0;32mif\u001b[0m \u001b[0;34m\"Expected 2D array, got 1D array instead\"\u001b[0m \u001b[0;32min\u001b[0m \u001b[0mstr\u001b[0m\u001b[0;34m(\u001b[0m\u001b[0me\u001b[0m\u001b[0;34m)\u001b[0m\u001b[0;34m:\u001b[0m\u001b[0;34m\u001b[0m\u001b[0;34m\u001b[0m\u001b[0m\n",
            "\u001b[0;32m/usr/local/lib/python3.6/dist-packages/joblib/parallel.py\u001b[0m in \u001b[0;36m__call__\u001b[0;34m(self, iterable)\u001b[0m\n\u001b[1;32m   1039\u001b[0m             \u001b[0;31m# remaining jobs.\u001b[0m\u001b[0;34m\u001b[0m\u001b[0;34m\u001b[0m\u001b[0;34m\u001b[0m\u001b[0m\n\u001b[1;32m   1040\u001b[0m             \u001b[0mself\u001b[0m\u001b[0;34m.\u001b[0m\u001b[0m_iterating\u001b[0m \u001b[0;34m=\u001b[0m \u001b[0;32mFalse\u001b[0m\u001b[0;34m\u001b[0m\u001b[0;34m\u001b[0m\u001b[0m\n\u001b[0;32m-> 1041\u001b[0;31m             \u001b[0;32mif\u001b[0m \u001b[0mself\u001b[0m\u001b[0;34m.\u001b[0m\u001b[0mdispatch_one_batch\u001b[0m\u001b[0;34m(\u001b[0m\u001b[0miterator\u001b[0m\u001b[0;34m)\u001b[0m\u001b[0;34m:\u001b[0m\u001b[0;34m\u001b[0m\u001b[0;34m\u001b[0m\u001b[0m\n\u001b[0m\u001b[1;32m   1042\u001b[0m                 \u001b[0mself\u001b[0m\u001b[0;34m.\u001b[0m\u001b[0m_iterating\u001b[0m \u001b[0;34m=\u001b[0m \u001b[0mself\u001b[0m\u001b[0;34m.\u001b[0m\u001b[0m_original_iterator\u001b[0m \u001b[0;32mis\u001b[0m \u001b[0;32mnot\u001b[0m \u001b[0;32mNone\u001b[0m\u001b[0;34m\u001b[0m\u001b[0;34m\u001b[0m\u001b[0m\n\u001b[1;32m   1043\u001b[0m \u001b[0;34m\u001b[0m\u001b[0m\n",
            "\u001b[0;32m/usr/local/lib/python3.6/dist-packages/joblib/parallel.py\u001b[0m in \u001b[0;36mdispatch_one_batch\u001b[0;34m(self, iterator)\u001b[0m\n\u001b[1;32m    857\u001b[0m                 \u001b[0;32mreturn\u001b[0m \u001b[0;32mFalse\u001b[0m\u001b[0;34m\u001b[0m\u001b[0;34m\u001b[0m\u001b[0m\n\u001b[1;32m    858\u001b[0m             \u001b[0;32melse\u001b[0m\u001b[0;34m:\u001b[0m\u001b[0;34m\u001b[0m\u001b[0;34m\u001b[0m\u001b[0m\n\u001b[0;32m--> 859\u001b[0;31m                 \u001b[0mself\u001b[0m\u001b[0;34m.\u001b[0m\u001b[0m_dispatch\u001b[0m\u001b[0;34m(\u001b[0m\u001b[0mtasks\u001b[0m\u001b[0;34m)\u001b[0m\u001b[0;34m\u001b[0m\u001b[0;34m\u001b[0m\u001b[0m\n\u001b[0m\u001b[1;32m    860\u001b[0m                 \u001b[0;32mreturn\u001b[0m \u001b[0;32mTrue\u001b[0m\u001b[0;34m\u001b[0m\u001b[0;34m\u001b[0m\u001b[0m\n\u001b[1;32m    861\u001b[0m \u001b[0;34m\u001b[0m\u001b[0m\n",
            "\u001b[0;32m/usr/local/lib/python3.6/dist-packages/joblib/parallel.py\u001b[0m in \u001b[0;36m_dispatch\u001b[0;34m(self, batch)\u001b[0m\n\u001b[1;32m    775\u001b[0m         \u001b[0;32mwith\u001b[0m \u001b[0mself\u001b[0m\u001b[0;34m.\u001b[0m\u001b[0m_lock\u001b[0m\u001b[0;34m:\u001b[0m\u001b[0;34m\u001b[0m\u001b[0;34m\u001b[0m\u001b[0m\n\u001b[1;32m    776\u001b[0m             \u001b[0mjob_idx\u001b[0m \u001b[0;34m=\u001b[0m \u001b[0mlen\u001b[0m\u001b[0;34m(\u001b[0m\u001b[0mself\u001b[0m\u001b[0;34m.\u001b[0m\u001b[0m_jobs\u001b[0m\u001b[0;34m)\u001b[0m\u001b[0;34m\u001b[0m\u001b[0;34m\u001b[0m\u001b[0m\n\u001b[0;32m--> 777\u001b[0;31m             \u001b[0mjob\u001b[0m \u001b[0;34m=\u001b[0m \u001b[0mself\u001b[0m\u001b[0;34m.\u001b[0m\u001b[0m_backend\u001b[0m\u001b[0;34m.\u001b[0m\u001b[0mapply_async\u001b[0m\u001b[0;34m(\u001b[0m\u001b[0mbatch\u001b[0m\u001b[0;34m,\u001b[0m \u001b[0mcallback\u001b[0m\u001b[0;34m=\u001b[0m\u001b[0mcb\u001b[0m\u001b[0;34m)\u001b[0m\u001b[0;34m\u001b[0m\u001b[0;34m\u001b[0m\u001b[0m\n\u001b[0m\u001b[1;32m    778\u001b[0m             \u001b[0;31m# A job can complete so quickly than its callback is\u001b[0m\u001b[0;34m\u001b[0m\u001b[0;34m\u001b[0m\u001b[0;34m\u001b[0m\u001b[0m\n\u001b[1;32m    779\u001b[0m             \u001b[0;31m# called before we get here, causing self._jobs to\u001b[0m\u001b[0;34m\u001b[0m\u001b[0;34m\u001b[0m\u001b[0;34m\u001b[0m\u001b[0m\n",
            "\u001b[0;32m/usr/local/lib/python3.6/dist-packages/joblib/_parallel_backends.py\u001b[0m in \u001b[0;36mapply_async\u001b[0;34m(self, func, callback)\u001b[0m\n\u001b[1;32m    206\u001b[0m     \u001b[0;32mdef\u001b[0m \u001b[0mapply_async\u001b[0m\u001b[0;34m(\u001b[0m\u001b[0mself\u001b[0m\u001b[0;34m,\u001b[0m \u001b[0mfunc\u001b[0m\u001b[0;34m,\u001b[0m \u001b[0mcallback\u001b[0m\u001b[0;34m=\u001b[0m\u001b[0;32mNone\u001b[0m\u001b[0;34m)\u001b[0m\u001b[0;34m:\u001b[0m\u001b[0;34m\u001b[0m\u001b[0;34m\u001b[0m\u001b[0m\n\u001b[1;32m    207\u001b[0m         \u001b[0;34m\"\"\"Schedule a func to be run\"\"\"\u001b[0m\u001b[0;34m\u001b[0m\u001b[0;34m\u001b[0m\u001b[0m\n\u001b[0;32m--> 208\u001b[0;31m         \u001b[0mresult\u001b[0m \u001b[0;34m=\u001b[0m \u001b[0mImmediateResult\u001b[0m\u001b[0;34m(\u001b[0m\u001b[0mfunc\u001b[0m\u001b[0;34m)\u001b[0m\u001b[0;34m\u001b[0m\u001b[0;34m\u001b[0m\u001b[0m\n\u001b[0m\u001b[1;32m    209\u001b[0m         \u001b[0;32mif\u001b[0m \u001b[0mcallback\u001b[0m\u001b[0;34m:\u001b[0m\u001b[0;34m\u001b[0m\u001b[0;34m\u001b[0m\u001b[0m\n\u001b[1;32m    210\u001b[0m             \u001b[0mcallback\u001b[0m\u001b[0;34m(\u001b[0m\u001b[0mresult\u001b[0m\u001b[0;34m)\u001b[0m\u001b[0;34m\u001b[0m\u001b[0;34m\u001b[0m\u001b[0m\n",
            "\u001b[0;32m/usr/local/lib/python3.6/dist-packages/joblib/_parallel_backends.py\u001b[0m in \u001b[0;36m__init__\u001b[0;34m(self, batch)\u001b[0m\n\u001b[1;32m    570\u001b[0m         \u001b[0;31m# Don't delay the application, to avoid keeping the input\u001b[0m\u001b[0;34m\u001b[0m\u001b[0;34m\u001b[0m\u001b[0;34m\u001b[0m\u001b[0m\n\u001b[1;32m    571\u001b[0m         \u001b[0;31m# arguments in memory\u001b[0m\u001b[0;34m\u001b[0m\u001b[0;34m\u001b[0m\u001b[0;34m\u001b[0m\u001b[0m\n\u001b[0;32m--> 572\u001b[0;31m         \u001b[0mself\u001b[0m\u001b[0;34m.\u001b[0m\u001b[0mresults\u001b[0m \u001b[0;34m=\u001b[0m \u001b[0mbatch\u001b[0m\u001b[0;34m(\u001b[0m\u001b[0;34m)\u001b[0m\u001b[0;34m\u001b[0m\u001b[0;34m\u001b[0m\u001b[0m\n\u001b[0m\u001b[1;32m    573\u001b[0m \u001b[0;34m\u001b[0m\u001b[0m\n\u001b[1;32m    574\u001b[0m     \u001b[0;32mdef\u001b[0m \u001b[0mget\u001b[0m\u001b[0;34m(\u001b[0m\u001b[0mself\u001b[0m\u001b[0;34m)\u001b[0m\u001b[0;34m:\u001b[0m\u001b[0;34m\u001b[0m\u001b[0;34m\u001b[0m\u001b[0m\n",
            "\u001b[0;32m/usr/local/lib/python3.6/dist-packages/joblib/parallel.py\u001b[0m in \u001b[0;36m__call__\u001b[0;34m(self)\u001b[0m\n\u001b[1;32m    261\u001b[0m         \u001b[0;32mwith\u001b[0m \u001b[0mparallel_backend\u001b[0m\u001b[0;34m(\u001b[0m\u001b[0mself\u001b[0m\u001b[0;34m.\u001b[0m\u001b[0m_backend\u001b[0m\u001b[0;34m,\u001b[0m \u001b[0mn_jobs\u001b[0m\u001b[0;34m=\u001b[0m\u001b[0mself\u001b[0m\u001b[0;34m.\u001b[0m\u001b[0m_n_jobs\u001b[0m\u001b[0;34m)\u001b[0m\u001b[0;34m:\u001b[0m\u001b[0;34m\u001b[0m\u001b[0;34m\u001b[0m\u001b[0m\n\u001b[1;32m    262\u001b[0m             return [func(*args, **kwargs)\n\u001b[0;32m--> 263\u001b[0;31m                     for func, args, kwargs in self.items]\n\u001b[0m\u001b[1;32m    264\u001b[0m \u001b[0;34m\u001b[0m\u001b[0m\n\u001b[1;32m    265\u001b[0m     \u001b[0;32mdef\u001b[0m \u001b[0m__reduce__\u001b[0m\u001b[0;34m(\u001b[0m\u001b[0mself\u001b[0m\u001b[0;34m)\u001b[0m\u001b[0;34m:\u001b[0m\u001b[0;34m\u001b[0m\u001b[0;34m\u001b[0m\u001b[0m\n",
            "\u001b[0;32m/usr/local/lib/python3.6/dist-packages/joblib/parallel.py\u001b[0m in \u001b[0;36m<listcomp>\u001b[0;34m(.0)\u001b[0m\n\u001b[1;32m    261\u001b[0m         \u001b[0;32mwith\u001b[0m \u001b[0mparallel_backend\u001b[0m\u001b[0;34m(\u001b[0m\u001b[0mself\u001b[0m\u001b[0;34m.\u001b[0m\u001b[0m_backend\u001b[0m\u001b[0;34m,\u001b[0m \u001b[0mn_jobs\u001b[0m\u001b[0;34m=\u001b[0m\u001b[0mself\u001b[0m\u001b[0;34m.\u001b[0m\u001b[0m_n_jobs\u001b[0m\u001b[0;34m)\u001b[0m\u001b[0;34m:\u001b[0m\u001b[0;34m\u001b[0m\u001b[0;34m\u001b[0m\u001b[0m\n\u001b[1;32m    262\u001b[0m             return [func(*args, **kwargs)\n\u001b[0;32m--> 263\u001b[0;31m                     for func, args, kwargs in self.items]\n\u001b[0m\u001b[1;32m    264\u001b[0m \u001b[0;34m\u001b[0m\u001b[0m\n\u001b[1;32m    265\u001b[0m     \u001b[0;32mdef\u001b[0m \u001b[0m__reduce__\u001b[0m\u001b[0;34m(\u001b[0m\u001b[0mself\u001b[0m\u001b[0;34m)\u001b[0m\u001b[0;34m:\u001b[0m\u001b[0;34m\u001b[0m\u001b[0;34m\u001b[0m\u001b[0m\n",
            "\u001b[0;32m/usr/local/lib/python3.6/dist-packages/sklearn/pipeline.py\u001b[0m in \u001b[0;36m_fit_transform_one\u001b[0;34m(transformer, X, y, weight, message_clsname, message, **fit_params)\u001b[0m\n\u001b[1;32m    726\u001b[0m     \u001b[0;32mwith\u001b[0m \u001b[0m_print_elapsed_time\u001b[0m\u001b[0;34m(\u001b[0m\u001b[0mmessage_clsname\u001b[0m\u001b[0;34m,\u001b[0m \u001b[0mmessage\u001b[0m\u001b[0;34m)\u001b[0m\u001b[0;34m:\u001b[0m\u001b[0;34m\u001b[0m\u001b[0;34m\u001b[0m\u001b[0m\n\u001b[1;32m    727\u001b[0m         \u001b[0;32mif\u001b[0m \u001b[0mhasattr\u001b[0m\u001b[0;34m(\u001b[0m\u001b[0mtransformer\u001b[0m\u001b[0;34m,\u001b[0m \u001b[0;34m'fit_transform'\u001b[0m\u001b[0;34m)\u001b[0m\u001b[0;34m:\u001b[0m\u001b[0;34m\u001b[0m\u001b[0;34m\u001b[0m\u001b[0m\n\u001b[0;32m--> 728\u001b[0;31m             \u001b[0mres\u001b[0m \u001b[0;34m=\u001b[0m \u001b[0mtransformer\u001b[0m\u001b[0;34m.\u001b[0m\u001b[0mfit_transform\u001b[0m\u001b[0;34m(\u001b[0m\u001b[0mX\u001b[0m\u001b[0;34m,\u001b[0m \u001b[0my\u001b[0m\u001b[0;34m,\u001b[0m \u001b[0;34m**\u001b[0m\u001b[0mfit_params\u001b[0m\u001b[0;34m)\u001b[0m\u001b[0;34m\u001b[0m\u001b[0;34m\u001b[0m\u001b[0m\n\u001b[0m\u001b[1;32m    729\u001b[0m         \u001b[0;32melse\u001b[0m\u001b[0;34m:\u001b[0m\u001b[0;34m\u001b[0m\u001b[0;34m\u001b[0m\u001b[0m\n\u001b[1;32m    730\u001b[0m             \u001b[0mres\u001b[0m \u001b[0;34m=\u001b[0m \u001b[0mtransformer\u001b[0m\u001b[0;34m.\u001b[0m\u001b[0mfit\u001b[0m\u001b[0;34m(\u001b[0m\u001b[0mX\u001b[0m\u001b[0;34m,\u001b[0m \u001b[0my\u001b[0m\u001b[0;34m,\u001b[0m \u001b[0;34m**\u001b[0m\u001b[0mfit_params\u001b[0m\u001b[0;34m)\u001b[0m\u001b[0;34m.\u001b[0m\u001b[0mtransform\u001b[0m\u001b[0;34m(\u001b[0m\u001b[0mX\u001b[0m\u001b[0;34m)\u001b[0m\u001b[0;34m\u001b[0m\u001b[0;34m\u001b[0m\u001b[0m\n",
            "\u001b[0;32m/usr/local/lib/python3.6/dist-packages/sklearn/preprocessing/_encoders.py\u001b[0m in \u001b[0;36mfit_transform\u001b[0;34m(self, X, y)\u001b[0m\n\u001b[1;32m    370\u001b[0m         \"\"\"\n\u001b[1;32m    371\u001b[0m         \u001b[0mself\u001b[0m\u001b[0;34m.\u001b[0m\u001b[0m_validate_keywords\u001b[0m\u001b[0;34m(\u001b[0m\u001b[0;34m)\u001b[0m\u001b[0;34m\u001b[0m\u001b[0;34m\u001b[0m\u001b[0m\n\u001b[0;32m--> 372\u001b[0;31m         \u001b[0;32mreturn\u001b[0m \u001b[0msuper\u001b[0m\u001b[0;34m(\u001b[0m\u001b[0;34m)\u001b[0m\u001b[0;34m.\u001b[0m\u001b[0mfit_transform\u001b[0m\u001b[0;34m(\u001b[0m\u001b[0mX\u001b[0m\u001b[0;34m,\u001b[0m \u001b[0my\u001b[0m\u001b[0;34m)\u001b[0m\u001b[0;34m\u001b[0m\u001b[0;34m\u001b[0m\u001b[0m\n\u001b[0m\u001b[1;32m    373\u001b[0m \u001b[0;34m\u001b[0m\u001b[0m\n\u001b[1;32m    374\u001b[0m     \u001b[0;32mdef\u001b[0m \u001b[0mtransform\u001b[0m\u001b[0;34m(\u001b[0m\u001b[0mself\u001b[0m\u001b[0;34m,\u001b[0m \u001b[0mX\u001b[0m\u001b[0;34m)\u001b[0m\u001b[0;34m:\u001b[0m\u001b[0;34m\u001b[0m\u001b[0;34m\u001b[0m\u001b[0m\n",
            "\u001b[0;32m/usr/local/lib/python3.6/dist-packages/sklearn/base.py\u001b[0m in \u001b[0;36mfit_transform\u001b[0;34m(self, X, y, **fit_params)\u001b[0m\n\u001b[1;32m    569\u001b[0m         \u001b[0;32mif\u001b[0m \u001b[0my\u001b[0m \u001b[0;32mis\u001b[0m \u001b[0;32mNone\u001b[0m\u001b[0;34m:\u001b[0m\u001b[0;34m\u001b[0m\u001b[0;34m\u001b[0m\u001b[0m\n\u001b[1;32m    570\u001b[0m             \u001b[0;31m# fit method of arity 1 (unsupervised transformation)\u001b[0m\u001b[0;34m\u001b[0m\u001b[0;34m\u001b[0m\u001b[0;34m\u001b[0m\u001b[0m\n\u001b[0;32m--> 571\u001b[0;31m             \u001b[0;32mreturn\u001b[0m \u001b[0mself\u001b[0m\u001b[0;34m.\u001b[0m\u001b[0mfit\u001b[0m\u001b[0;34m(\u001b[0m\u001b[0mX\u001b[0m\u001b[0;34m,\u001b[0m \u001b[0;34m**\u001b[0m\u001b[0mfit_params\u001b[0m\u001b[0;34m)\u001b[0m\u001b[0;34m.\u001b[0m\u001b[0mtransform\u001b[0m\u001b[0;34m(\u001b[0m\u001b[0mX\u001b[0m\u001b[0;34m)\u001b[0m\u001b[0;34m\u001b[0m\u001b[0;34m\u001b[0m\u001b[0m\n\u001b[0m\u001b[1;32m    572\u001b[0m         \u001b[0;32melse\u001b[0m\u001b[0;34m:\u001b[0m\u001b[0;34m\u001b[0m\u001b[0;34m\u001b[0m\u001b[0m\n\u001b[1;32m    573\u001b[0m             \u001b[0;31m# fit method of arity 2 (supervised transformation)\u001b[0m\u001b[0;34m\u001b[0m\u001b[0;34m\u001b[0m\u001b[0;34m\u001b[0m\u001b[0m\n",
            "\u001b[0;32m/usr/local/lib/python3.6/dist-packages/sklearn/preprocessing/_encoders.py\u001b[0m in \u001b[0;36mfit\u001b[0;34m(self, X, y)\u001b[0m\n\u001b[1;32m    345\u001b[0m         \"\"\"\n\u001b[1;32m    346\u001b[0m         \u001b[0mself\u001b[0m\u001b[0;34m.\u001b[0m\u001b[0m_validate_keywords\u001b[0m\u001b[0;34m(\u001b[0m\u001b[0;34m)\u001b[0m\u001b[0;34m\u001b[0m\u001b[0;34m\u001b[0m\u001b[0m\n\u001b[0;32m--> 347\u001b[0;31m         \u001b[0mself\u001b[0m\u001b[0;34m.\u001b[0m\u001b[0m_fit\u001b[0m\u001b[0;34m(\u001b[0m\u001b[0mX\u001b[0m\u001b[0;34m,\u001b[0m \u001b[0mhandle_unknown\u001b[0m\u001b[0;34m=\u001b[0m\u001b[0mself\u001b[0m\u001b[0;34m.\u001b[0m\u001b[0mhandle_unknown\u001b[0m\u001b[0;34m)\u001b[0m\u001b[0;34m\u001b[0m\u001b[0;34m\u001b[0m\u001b[0m\n\u001b[0m\u001b[1;32m    348\u001b[0m         \u001b[0mself\u001b[0m\u001b[0;34m.\u001b[0m\u001b[0mdrop_idx_\u001b[0m \u001b[0;34m=\u001b[0m \u001b[0mself\u001b[0m\u001b[0;34m.\u001b[0m\u001b[0m_compute_drop_idx\u001b[0m\u001b[0;34m(\u001b[0m\u001b[0;34m)\u001b[0m\u001b[0;34m\u001b[0m\u001b[0;34m\u001b[0m\u001b[0m\n\u001b[1;32m    349\u001b[0m         \u001b[0;32mreturn\u001b[0m \u001b[0mself\u001b[0m\u001b[0;34m\u001b[0m\u001b[0;34m\u001b[0m\u001b[0m\n",
            "\u001b[0;32m/usr/local/lib/python3.6/dist-packages/sklearn/preprocessing/_encoders.py\u001b[0m in \u001b[0;36m_fit\u001b[0;34m(self, X, handle_unknown)\u001b[0m\n\u001b[1;32m     72\u001b[0m \u001b[0;34m\u001b[0m\u001b[0m\n\u001b[1;32m     73\u001b[0m     \u001b[0;32mdef\u001b[0m \u001b[0m_fit\u001b[0m\u001b[0;34m(\u001b[0m\u001b[0mself\u001b[0m\u001b[0;34m,\u001b[0m \u001b[0mX\u001b[0m\u001b[0;34m,\u001b[0m \u001b[0mhandle_unknown\u001b[0m\u001b[0;34m=\u001b[0m\u001b[0;34m'error'\u001b[0m\u001b[0;34m)\u001b[0m\u001b[0;34m:\u001b[0m\u001b[0;34m\u001b[0m\u001b[0;34m\u001b[0m\u001b[0m\n\u001b[0;32m---> 74\u001b[0;31m         \u001b[0mX_list\u001b[0m\u001b[0;34m,\u001b[0m \u001b[0mn_samples\u001b[0m\u001b[0;34m,\u001b[0m \u001b[0mn_features\u001b[0m \u001b[0;34m=\u001b[0m \u001b[0mself\u001b[0m\u001b[0;34m.\u001b[0m\u001b[0m_check_X\u001b[0m\u001b[0;34m(\u001b[0m\u001b[0mX\u001b[0m\u001b[0;34m)\u001b[0m\u001b[0;34m\u001b[0m\u001b[0;34m\u001b[0m\u001b[0m\n\u001b[0m\u001b[1;32m     75\u001b[0m \u001b[0;34m\u001b[0m\u001b[0m\n\u001b[1;32m     76\u001b[0m         \u001b[0;32mif\u001b[0m \u001b[0mself\u001b[0m\u001b[0;34m.\u001b[0m\u001b[0mcategories\u001b[0m \u001b[0;34m!=\u001b[0m \u001b[0;34m'auto'\u001b[0m\u001b[0;34m:\u001b[0m\u001b[0;34m\u001b[0m\u001b[0;34m\u001b[0m\u001b[0m\n",
            "\u001b[0;32m/usr/local/lib/python3.6/dist-packages/sklearn/preprocessing/_encoders.py\u001b[0m in \u001b[0;36m_check_X\u001b[0;34m(self, X)\u001b[0m\n\u001b[1;32m     59\u001b[0m             \u001b[0mXi\u001b[0m \u001b[0;34m=\u001b[0m \u001b[0mself\u001b[0m\u001b[0;34m.\u001b[0m\u001b[0m_get_feature\u001b[0m\u001b[0;34m(\u001b[0m\u001b[0mX\u001b[0m\u001b[0;34m,\u001b[0m \u001b[0mfeature_idx\u001b[0m\u001b[0;34m=\u001b[0m\u001b[0mi\u001b[0m\u001b[0;34m)\u001b[0m\u001b[0;34m\u001b[0m\u001b[0;34m\u001b[0m\u001b[0m\n\u001b[1;32m     60\u001b[0m             Xi = check_array(Xi, ensure_2d=False, dtype=None,\n\u001b[0;32m---> 61\u001b[0;31m                              force_all_finite=needs_validation)\n\u001b[0m\u001b[1;32m     62\u001b[0m             \u001b[0mX_columns\u001b[0m\u001b[0;34m.\u001b[0m\u001b[0mappend\u001b[0m\u001b[0;34m(\u001b[0m\u001b[0mXi\u001b[0m\u001b[0;34m)\u001b[0m\u001b[0;34m\u001b[0m\u001b[0;34m\u001b[0m\u001b[0m\n\u001b[1;32m     63\u001b[0m \u001b[0;34m\u001b[0m\u001b[0m\n",
            "\u001b[0;32m/usr/local/lib/python3.6/dist-packages/sklearn/utils/validation.py\u001b[0m in \u001b[0;36mcheck_array\u001b[0;34m(array, accept_sparse, accept_large_sparse, dtype, order, copy, force_all_finite, ensure_2d, allow_nd, ensure_min_samples, ensure_min_features, warn_on_dtype, estimator)\u001b[0m\n\u001b[1;32m    576\u001b[0m         \u001b[0;32mif\u001b[0m \u001b[0mforce_all_finite\u001b[0m\u001b[0;34m:\u001b[0m\u001b[0;34m\u001b[0m\u001b[0;34m\u001b[0m\u001b[0m\n\u001b[1;32m    577\u001b[0m             _assert_all_finite(array,\n\u001b[0;32m--> 578\u001b[0;31m                                allow_nan=force_all_finite == 'allow-nan')\n\u001b[0m\u001b[1;32m    579\u001b[0m \u001b[0;34m\u001b[0m\u001b[0m\n\u001b[1;32m    580\u001b[0m     \u001b[0;32mif\u001b[0m \u001b[0mensure_min_samples\u001b[0m \u001b[0;34m>\u001b[0m \u001b[0;36m0\u001b[0m\u001b[0;34m:\u001b[0m\u001b[0;34m\u001b[0m\u001b[0;34m\u001b[0m\u001b[0m\n",
            "\u001b[0;32m/usr/local/lib/python3.6/dist-packages/sklearn/utils/validation.py\u001b[0m in \u001b[0;36m_assert_all_finite\u001b[0;34m(X, allow_nan, msg_dtype)\u001b[0m\n\u001b[1;32m     58\u001b[0m                     \u001b[0mmsg_err\u001b[0m\u001b[0;34m.\u001b[0m\u001b[0mformat\u001b[0m\u001b[0;34m\u001b[0m\u001b[0;34m\u001b[0m\u001b[0m\n\u001b[1;32m     59\u001b[0m                     (type_err,\n\u001b[0;32m---> 60\u001b[0;31m                      msg_dtype if msg_dtype is not None else X.dtype)\n\u001b[0m\u001b[1;32m     61\u001b[0m             )\n\u001b[1;32m     62\u001b[0m     \u001b[0;31m# for object dtype data, we only check for NaNs (GH-13254)\u001b[0m\u001b[0;34m\u001b[0m\u001b[0;34m\u001b[0m\u001b[0;34m\u001b[0m\u001b[0m\n",
            "\u001b[0;31mValueError\u001b[0m: Input contains NaN, infinity or a value too large for dtype('float64')."
          ]
        }
      ]
    },
    {
      "cell_type": "code",
      "metadata": {
        "id": "xWSwQRG42qhj"
      },
      "source": [
        ""
      ],
      "execution_count": null,
      "outputs": []
    }
  ]
}