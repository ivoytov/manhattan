{
 "cells": [
  {
   "cell_type": "markdown",
   "metadata": {
    "id": "9mUv5Qz9k1to"
   },
   "source": [
    "# Calculating Housing Price Index for NYC from Transaction Data"
   ]
  },
  {
   "cell_type": "markdown",
   "metadata": {
    "id": "3_0hry8arJN1"
   },
   "source": [
    "## Setup and Prepare the dataframe\n",
    "\n",
    "In this section we import the data and clean it up. If you trust that we've one everything correctly, feel free to skip to the next section, where we use the historical transaction data to construct the first housing price index."
   ]
  },
  {
   "cell_type": "code",
   "execution_count": null,
   "metadata": {
    "id": "RKahawVnsdCe"
   },
   "outputs": [
    {
     "name": "stdout",
     "output_type": "stream",
     "text": [
      "\u001b[33mDEPRECATION: Configuring installation scheme with distutils config files is deprecated and will no longer work in the near future. If you are using a Homebrew or Linuxbrew Python, please see discussion at https://github.com/Homebrew/homebrew-core/issues/76621\u001b[0m\n",
      "Collecting geopandas\n",
      "  Downloading geopandas-0.9.0-py2.py3-none-any.whl (994 kB)\n",
      "\u001b[K     |████████████████████████████████| 994 kB 4.0 MB/s eta 0:00:01\n",
      "\u001b[?25hCollecting shapely>=1.6\n",
      "  Downloading Shapely-1.7.1.tar.gz (383 kB)\n",
      "\u001b[K     |████████████████████████████████| 383 kB 42.9 MB/s eta 0:00:01\n",
      "\u001b[31m    ERROR: Command errored out with exit status 1:\n",
      "     command: /opt/homebrew/opt/python@3.8/bin/python3.8 -c 'import io, os, sys, setuptools, tokenize; sys.argv[0] = '\"'\"'/private/var/folders/0p/y9v6h7xd3tgdp8cg8_5649n40000gn/T/pip-install-8dxelv5y/shapely_95d3327d41414fc88d4a2c3fee9d7a35/setup.py'\"'\"'; __file__='\"'\"'/private/var/folders/0p/y9v6h7xd3tgdp8cg8_5649n40000gn/T/pip-install-8dxelv5y/shapely_95d3327d41414fc88d4a2c3fee9d7a35/setup.py'\"'\"';f = getattr(tokenize, '\"'\"'open'\"'\"', open)(__file__) if os.path.exists(__file__) else io.StringIO('\"'\"'from setuptools import setup; setup()'\"'\"');code = f.read().replace('\"'\"'\\r\\n'\"'\"', '\"'\"'\\n'\"'\"');f.close();exec(compile(code, __file__, '\"'\"'exec'\"'\"'))' egg_info --egg-base /private/var/folders/0p/y9v6h7xd3tgdp8cg8_5649n40000gn/T/pip-pip-egg-info-s7n9vk1_\n",
      "         cwd: /private/var/folders/0p/y9v6h7xd3tgdp8cg8_5649n40000gn/T/pip-install-8dxelv5y/shapely_95d3327d41414fc88d4a2c3fee9d7a35/\n",
      "    Complete output (18 lines):\n",
      "    cannot open shared object from 'geos-config --clibs': '-L/usr/local/Cellar/geos/3.8.1_2/lib -lgeos_c'\n",
      "    there were 3 guess(es) for this path:\n",
      "    \t/usr/local/Cellar/geos/3.8.1_2/lib/libgeos_c.dylib\n",
      "    \t/usr/local/Cellar/geos/3.8.1_2/lib/geos_c.dylib\n",
      "    \t/usr/local/Cellar/geos/3.8.1_2/lib/geos_c.framework/geos_c\n",
      "    Failed `CDLL(/usr/local/lib/libgeos_c.dylib)`\n",
      "    Failed `CDLL(/Library/Frameworks/GEOS.framework/Versions/Current/GEOS)`\n",
      "    Failed `CDLL(/opt/local/lib/libgeos_c.dylib)`\n",
      "    Failed `CDLL(/usr/local/lib/libgeos_c.dylib)`\n",
      "    Traceback (most recent call last):\n",
      "      File \"<string>\", line 1, in <module>\n",
      "      File \"/private/var/folders/0p/y9v6h7xd3tgdp8cg8_5649n40000gn/T/pip-install-8dxelv5y/shapely_95d3327d41414fc88d4a2c3fee9d7a35/setup.py\", line 85, in <module>\n",
      "        from shapely._buildcfg import geos_version_string, geos_version, \\\n",
      "      File \"/private/var/folders/0p/y9v6h7xd3tgdp8cg8_5649n40000gn/T/pip-install-8dxelv5y/shapely_95d3327d41414fc88d4a2c3fee9d7a35/shapely/_buildcfg.py\", line 190, in <module>\n",
      "        lgeos = load_dll('geos_c', fallbacks=alt_paths)\n",
      "      File \"/private/var/folders/0p/y9v6h7xd3tgdp8cg8_5649n40000gn/T/pip-install-8dxelv5y/shapely_95d3327d41414fc88d4a2c3fee9d7a35/shapely/_buildcfg.py\", line 162, in load_dll\n",
      "        raise OSError(\n",
      "    OSError: Could not find library geos_c or load any of its variants ['/Library/Frameworks/GEOS.framework/Versions/Current/GEOS', '/opt/local/lib/libgeos_c.dylib', '/usr/local/lib/libgeos_c.dylib']\n",
      "    ----------------------------------------\u001b[0m\n",
      "\u001b[33mWARNING: Discarding https://files.pythonhosted.org/packages/42/f3/0e1bc2c4f15e05e30c6b99322b9ddaa2babb3f43bc7df2698efdc1553439/Shapely-1.7.1.tar.gz#sha256=1641724c1055459a7e2b8bbe47ba25bdc89554582e62aec23cb3f3ca25f9b129 (from https://pypi.org/simple/shapely/). Command errored out with exit status 1: python setup.py egg_info Check the logs for full command output.\u001b[0m\n",
      "\u001b[?25h  Downloading Shapely-1.7.0.tar.gz (349 kB)\n",
      "\u001b[K     |████████████████████████████████| 349 kB 30.7 MB/s eta 0:00:01\n",
      "\u001b[31m    ERROR: Command errored out with exit status 1:\n",
      "     command: /opt/homebrew/opt/python@3.8/bin/python3.8 -c 'import io, os, sys, setuptools, tokenize; sys.argv[0] = '\"'\"'/private/var/folders/0p/y9v6h7xd3tgdp8cg8_5649n40000gn/T/pip-install-8dxelv5y/shapely_c948947feffd47688ad37de1b339c199/setup.py'\"'\"'; __file__='\"'\"'/private/var/folders/0p/y9v6h7xd3tgdp8cg8_5649n40000gn/T/pip-install-8dxelv5y/shapely_c948947feffd47688ad37de1b339c199/setup.py'\"'\"';f = getattr(tokenize, '\"'\"'open'\"'\"', open)(__file__) if os.path.exists(__file__) else io.StringIO('\"'\"'from setuptools import setup; setup()'\"'\"');code = f.read().replace('\"'\"'\\r\\n'\"'\"', '\"'\"'\\n'\"'\"');f.close();exec(compile(code, __file__, '\"'\"'exec'\"'\"'))' egg_info --egg-base /private/var/folders/0p/y9v6h7xd3tgdp8cg8_5649n40000gn/T/pip-pip-egg-info-m0f5dgxj\n",
      "         cwd: /private/var/folders/0p/y9v6h7xd3tgdp8cg8_5649n40000gn/T/pip-install-8dxelv5y/shapely_c948947feffd47688ad37de1b339c199/\n",
      "    Complete output (18 lines):\n",
      "    cannot open shared object from 'geos-config --clibs': '-L/usr/local/Cellar/geos/3.8.1_2/lib -lgeos_c'\n",
      "    there were 3 guess(es) for this path:\n",
      "    \t/usr/local/Cellar/geos/3.8.1_2/lib/libgeos_c.dylib\n",
      "    \t/usr/local/Cellar/geos/3.8.1_2/lib/geos_c.dylib\n",
      "    \t/usr/local/Cellar/geos/3.8.1_2/lib/geos_c.framework/geos_c\n",
      "    Failed `CDLL(/usr/local/lib/libgeos_c.dylib)`\n",
      "    Failed `CDLL(/Library/Frameworks/GEOS.framework/Versions/Current/GEOS)`\n",
      "    Failed `CDLL(/opt/local/lib/libgeos_c.dylib)`\n",
      "    Failed `CDLL(/usr/local/lib/libgeos_c.dylib)`\n",
      "    Traceback (most recent call last):\n",
      "      File \"<string>\", line 1, in <module>\n",
      "      File \"/private/var/folders/0p/y9v6h7xd3tgdp8cg8_5649n40000gn/T/pip-install-8dxelv5y/shapely_c948947feffd47688ad37de1b339c199/setup.py\", line 85, in <module>\n",
      "        from shapely._buildcfg import geos_version_string, geos_version, \\\n",
      "      File \"/private/var/folders/0p/y9v6h7xd3tgdp8cg8_5649n40000gn/T/pip-install-8dxelv5y/shapely_c948947feffd47688ad37de1b339c199/shapely/_buildcfg.py\", line 190, in <module>\n",
      "        lgeos = load_dll('geos_c', fallbacks=alt_paths)\n",
      "      File \"/private/var/folders/0p/y9v6h7xd3tgdp8cg8_5649n40000gn/T/pip-install-8dxelv5y/shapely_c948947feffd47688ad37de1b339c199/shapely/_buildcfg.py\", line 162, in load_dll\n",
      "        raise OSError(\n",
      "    OSError: Could not find library geos_c or load any of its variants ['/Library/Frameworks/GEOS.framework/Versions/Current/GEOS', '/opt/local/lib/libgeos_c.dylib', '/usr/local/lib/libgeos_c.dylib']\n",
      "    ----------------------------------------\u001b[0m\n",
      "\u001b[33mWARNING: Discarding https://files.pythonhosted.org/packages/44/ec/4eddbf9d17a917c51fb4ad159aa7137f506681e91ab559cf87d120e1d78d/Shapely-1.7.0.tar.gz#sha256=e21a9fe1a416463ff11ae037766fe410526c95700b9e545372475d2361cc951e (from https://pypi.org/simple/shapely/). Command errored out with exit status 1: python setup.py egg_info Check the logs for full command output.\u001b[0m\n",
      "\u001b[?25h  Downloading Shapely-1.6.4.post2.tar.gz (225 kB)\n",
      "\u001b[K     |████████████████████████████████| 225 kB 35.4 MB/s eta 0:00:01\n",
      "\u001b[31m    ERROR: Command errored out with exit status 1:\n",
      "     command: /opt/homebrew/opt/python@3.8/bin/python3.8 -c 'import io, os, sys, setuptools, tokenize; sys.argv[0] = '\"'\"'/private/var/folders/0p/y9v6h7xd3tgdp8cg8_5649n40000gn/T/pip-install-8dxelv5y/shapely_e9c989d2a1bb45408a209fe13ef33878/setup.py'\"'\"'; __file__='\"'\"'/private/var/folders/0p/y9v6h7xd3tgdp8cg8_5649n40000gn/T/pip-install-8dxelv5y/shapely_e9c989d2a1bb45408a209fe13ef33878/setup.py'\"'\"';f = getattr(tokenize, '\"'\"'open'\"'\"', open)(__file__) if os.path.exists(__file__) else io.StringIO('\"'\"'from setuptools import setup; setup()'\"'\"');code = f.read().replace('\"'\"'\\r\\n'\"'\"', '\"'\"'\\n'\"'\"');f.close();exec(compile(code, __file__, '\"'\"'exec'\"'\"'))' egg_info --egg-base /private/var/folders/0p/y9v6h7xd3tgdp8cg8_5649n40000gn/T/pip-pip-egg-info-63x8450v\n",
      "         cwd: /private/var/folders/0p/y9v6h7xd3tgdp8cg8_5649n40000gn/T/pip-install-8dxelv5y/shapely_e9c989d2a1bb45408a209fe13ef33878/\n",
      "    Complete output (17 lines):\n",
      "    cannot open shared object from 'geos-config --clibs': '-L/usr/local/Cellar/geos/3.8.1_2/lib -lgeos_c'\n",
      "    there were 3 guess(es) for this path:\n",
      "    \t/usr/local/Cellar/geos/3.8.1_2/lib/libgeos_c.dylib\n",
      "    \t/usr/local/Cellar/geos/3.8.1_2/lib/geos_c.dylib\n",
      "    \t/usr/local/Cellar/geos/3.8.1_2/lib/geos_c.framework/geos_c\n",
      "    Failed `CDLL(/usr/local/lib/libgeos_c.dylib)`\n",
      "    Failed `CDLL(/Library/Frameworks/GEOS.framework/Versions/Current/GEOS)`\n",
      "    Failed `CDLL(/opt/local/lib/libgeos_c.dylib)`\n",
      "    Traceback (most recent call last):\n",
      "      File \"<string>\", line 1, in <module>\n",
      "      File \"/private/var/folders/0p/y9v6h7xd3tgdp8cg8_5649n40000gn/T/pip-install-8dxelv5y/shapely_e9c989d2a1bb45408a209fe13ef33878/setup.py\", line 80, in <module>\n",
      "        from shapely._buildcfg import geos_version_string, geos_version, \\\n",
      "      File \"/private/var/folders/0p/y9v6h7xd3tgdp8cg8_5649n40000gn/T/pip-install-8dxelv5y/shapely_e9c989d2a1bb45408a209fe13ef33878/shapely/_buildcfg.py\", line 185, in <module>\n",
      "        lgeos = load_dll('geos_c', fallbacks=alt_paths)\n",
      "      File \"/private/var/folders/0p/y9v6h7xd3tgdp8cg8_5649n40000gn/T/pip-install-8dxelv5y/shapely_e9c989d2a1bb45408a209fe13ef33878/shapely/_buildcfg.py\", line 159, in load_dll\n",
      "        raise OSError(\n",
      "    OSError: Could not find library geos_c or load any of its variants ['/Library/Frameworks/GEOS.framework/Versions/Current/GEOS', '/opt/local/lib/libgeos_c.dylib']\n",
      "    ----------------------------------------\u001b[0m\n",
      "\u001b[33mWARNING: Discarding https://files.pythonhosted.org/packages/a2/fb/7a7af9ef7a35d16fa23b127abee272cfc483ca89029b73e92e93cdf36e6b/Shapely-1.6.4.post2.tar.gz#sha256=c4b87bb61fc3de59fc1f85e71a79b0c709dc68364d9584473697aad4aa13240f (from https://pypi.org/simple/shapely/). Command errored out with exit status 1: python setup.py egg_info Check the logs for full command output.\u001b[0m\n"
     ]
    },
    {
     "name": "stdout",
     "output_type": "stream",
     "text": [
      "\u001b[?25h  Downloading Shapely-1.6.4.post1.tar.gz (224 kB)\n",
      "\u001b[K     |████████████████████████████████| 224 kB 103.3 MB/s eta 0:00:01\n",
      "\u001b[31m    ERROR: Command errored out with exit status 1:\n",
      "     command: /opt/homebrew/opt/python@3.8/bin/python3.8 -c 'import io, os, sys, setuptools, tokenize; sys.argv[0] = '\"'\"'/private/var/folders/0p/y9v6h7xd3tgdp8cg8_5649n40000gn/T/pip-install-8dxelv5y/shapely_e8e6fb811f454f1a85bc5dc0a2424bbb/setup.py'\"'\"'; __file__='\"'\"'/private/var/folders/0p/y9v6h7xd3tgdp8cg8_5649n40000gn/T/pip-install-8dxelv5y/shapely_e8e6fb811f454f1a85bc5dc0a2424bbb/setup.py'\"'\"';f = getattr(tokenize, '\"'\"'open'\"'\"', open)(__file__) if os.path.exists(__file__) else io.StringIO('\"'\"'from setuptools import setup; setup()'\"'\"');code = f.read().replace('\"'\"'\\r\\n'\"'\"', '\"'\"'\\n'\"'\"');f.close();exec(compile(code, __file__, '\"'\"'exec'\"'\"'))' egg_info --egg-base /private/var/folders/0p/y9v6h7xd3tgdp8cg8_5649n40000gn/T/pip-pip-egg-info-ptr8de1j\n",
      "         cwd: /private/var/folders/0p/y9v6h7xd3tgdp8cg8_5649n40000gn/T/pip-install-8dxelv5y/shapely_e8e6fb811f454f1a85bc5dc0a2424bbb/\n",
      "    Complete output (17 lines):\n",
      "    cannot open shared object from 'geos-config --clibs': '-L/usr/local/Cellar/geos/3.8.1_2/lib -lgeos_c'\n",
      "    there were 3 guess(es) for this path:\n",
      "    \t/usr/local/Cellar/geos/3.8.1_2/lib/libgeos_c.dylib\n",
      "    \t/usr/local/Cellar/geos/3.8.1_2/lib/geos_c.dylib\n",
      "    \t/usr/local/Cellar/geos/3.8.1_2/lib/geos_c.framework/geos_c\n",
      "    Failed `CDLL(/usr/local/lib/libgeos_c.dylib)`\n",
      "    Failed `CDLL(/Library/Frameworks/GEOS.framework/Versions/Current/GEOS)`\n",
      "    Failed `CDLL(/opt/local/lib/libgeos_c.dylib)`\n",
      "    Traceback (most recent call last):\n",
      "      File \"<string>\", line 1, in <module>\n",
      "      File \"/private/var/folders/0p/y9v6h7xd3tgdp8cg8_5649n40000gn/T/pip-install-8dxelv5y/shapely_e8e6fb811f454f1a85bc5dc0a2424bbb/setup.py\", line 80, in <module>\n",
      "        from shapely._buildcfg import geos_version_string, geos_version, \\\n",
      "      File \"/private/var/folders/0p/y9v6h7xd3tgdp8cg8_5649n40000gn/T/pip-install-8dxelv5y/shapely_e8e6fb811f454f1a85bc5dc0a2424bbb/shapely/_buildcfg.py\", line 185, in <module>\n",
      "        lgeos = load_dll('geos_c', fallbacks=alt_paths)\n",
      "      File \"/private/var/folders/0p/y9v6h7xd3tgdp8cg8_5649n40000gn/T/pip-install-8dxelv5y/shapely_e8e6fb811f454f1a85bc5dc0a2424bbb/shapely/_buildcfg.py\", line 159, in load_dll\n",
      "        raise OSError(\n",
      "    OSError: Could not find library geos_c or load any of its variants ['/Library/Frameworks/GEOS.framework/Versions/Current/GEOS', '/opt/local/lib/libgeos_c.dylib']\n",
      "    ----------------------------------------\u001b[0m\n",
      "\u001b[33mWARNING: Discarding https://files.pythonhosted.org/packages/7d/3c/0f09841db07aabf9cc387662be646f181d07ed196e6f60ce8be5f4a8f0bd/Shapely-1.6.4.post1.tar.gz#sha256=30df7572d311514802df8dc0e229d1660bc4cbdcf027a8281e79c5fc2fcf02f2 (from https://pypi.org/simple/shapely/). Command errored out with exit status 1: python setup.py egg_info Check the logs for full command output.\u001b[0m\n",
      "\u001b[?25h  Downloading Shapely-1.6.4.tar.gz (224 kB)\n",
      "\u001b[K     |████████████████████████████████| 224 kB 122.8 MB/s eta 0:00:01\n",
      "\u001b[31m    ERROR: Command errored out with exit status 1:\n",
      "     command: /opt/homebrew/opt/python@3.8/bin/python3.8 -c 'import io, os, sys, setuptools, tokenize; sys.argv[0] = '\"'\"'/private/var/folders/0p/y9v6h7xd3tgdp8cg8_5649n40000gn/T/pip-install-8dxelv5y/shapely_789b0edb0ed44d4fb54a4e1b0dfe89f7/setup.py'\"'\"'; __file__='\"'\"'/private/var/folders/0p/y9v6h7xd3tgdp8cg8_5649n40000gn/T/pip-install-8dxelv5y/shapely_789b0edb0ed44d4fb54a4e1b0dfe89f7/setup.py'\"'\"';f = getattr(tokenize, '\"'\"'open'\"'\"', open)(__file__) if os.path.exists(__file__) else io.StringIO('\"'\"'from setuptools import setup; setup()'\"'\"');code = f.read().replace('\"'\"'\\r\\n'\"'\"', '\"'\"'\\n'\"'\"');f.close();exec(compile(code, __file__, '\"'\"'exec'\"'\"'))' egg_info --egg-base /private/var/folders/0p/y9v6h7xd3tgdp8cg8_5649n40000gn/T/pip-pip-egg-info-e9jkab3n\n",
      "         cwd: /private/var/folders/0p/y9v6h7xd3tgdp8cg8_5649n40000gn/T/pip-install-8dxelv5y/shapely_789b0edb0ed44d4fb54a4e1b0dfe89f7/\n",
      "    Complete output (17 lines):\n",
      "    cannot open shared object from 'geos-config --clibs': '-L/usr/local/Cellar/geos/3.8.1_2/lib -lgeos_c'\n",
      "    there were 3 guess(es) for this path:\n",
      "    \t/usr/local/Cellar/geos/3.8.1_2/lib/libgeos_c.dylib\n",
      "    \t/usr/local/Cellar/geos/3.8.1_2/lib/geos_c.dylib\n",
      "    \t/usr/local/Cellar/geos/3.8.1_2/lib/geos_c.framework/geos_c\n",
      "    Failed `CDLL(/usr/local/lib/libgeos_c.dylib)`\n",
      "    Failed `CDLL(/Library/Frameworks/GEOS.framework/Versions/Current/GEOS)`\n",
      "    Failed `CDLL(/opt/local/lib/libgeos_c.dylib)`\n",
      "    Traceback (most recent call last):\n",
      "      File \"<string>\", line 1, in <module>\n",
      "      File \"/private/var/folders/0p/y9v6h7xd3tgdp8cg8_5649n40000gn/T/pip-install-8dxelv5y/shapely_789b0edb0ed44d4fb54a4e1b0dfe89f7/setup.py\", line 80, in <module>\n",
      "        from shapely._buildcfg import geos_version_string, geos_version, \\\n",
      "      File \"/private/var/folders/0p/y9v6h7xd3tgdp8cg8_5649n40000gn/T/pip-install-8dxelv5y/shapely_789b0edb0ed44d4fb54a4e1b0dfe89f7/shapely/_buildcfg.py\", line 185, in <module>\n",
      "        lgeos = load_dll('geos_c', fallbacks=alt_paths)\n",
      "      File \"/private/var/folders/0p/y9v6h7xd3tgdp8cg8_5649n40000gn/T/pip-install-8dxelv5y/shapely_789b0edb0ed44d4fb54a4e1b0dfe89f7/shapely/_buildcfg.py\", line 159, in load_dll\n",
      "        raise OSError(\n",
      "    OSError: Could not find library geos_c or load any of its variants ['/Library/Frameworks/GEOS.framework/Versions/Current/GEOS', '/opt/local/lib/libgeos_c.dylib']\n",
      "    ----------------------------------------\u001b[0m\n",
      "\u001b[33mWARNING: Discarding https://files.pythonhosted.org/packages/55/60/d04f6cf9834125f1d205cd43d14ebcf58d2cbc74d6e702d1ea59b0bbe2dd/Shapely-1.6.4.tar.gz#sha256=b10bc4199cfefcf1c0e5d932eac89369550320ca4bdf40559328d85f1ca4f655 (from https://pypi.org/simple/shapely/). Command errored out with exit status 1: python setup.py egg_info Check the logs for full command output.\u001b[0m\n",
      "\u001b[?25h  Downloading Shapely-1.6.3.tar.gz (223 kB)\n",
      "\u001b[K     |████████████████████████████████| 223 kB 113.5 MB/s eta 0:00:01\n",
      "\u001b[31m    ERROR: Command errored out with exit status 1:\n",
      "     command: /opt/homebrew/opt/python@3.8/bin/python3.8 -c 'import io, os, sys, setuptools, tokenize; sys.argv[0] = '\"'\"'/private/var/folders/0p/y9v6h7xd3tgdp8cg8_5649n40000gn/T/pip-install-8dxelv5y/shapely_e3038cb0d61e47338ac6e4381ed98513/setup.py'\"'\"'; __file__='\"'\"'/private/var/folders/0p/y9v6h7xd3tgdp8cg8_5649n40000gn/T/pip-install-8dxelv5y/shapely_e3038cb0d61e47338ac6e4381ed98513/setup.py'\"'\"';f = getattr(tokenize, '\"'\"'open'\"'\"', open)(__file__) if os.path.exists(__file__) else io.StringIO('\"'\"'from setuptools import setup; setup()'\"'\"');code = f.read().replace('\"'\"'\\r\\n'\"'\"', '\"'\"'\\n'\"'\"');f.close();exec(compile(code, __file__, '\"'\"'exec'\"'\"'))' egg_info --egg-base /private/var/folders/0p/y9v6h7xd3tgdp8cg8_5649n40000gn/T/pip-pip-egg-info-otjhy0pk\n",
      "         cwd: /private/var/folders/0p/y9v6h7xd3tgdp8cg8_5649n40000gn/T/pip-install-8dxelv5y/shapely_e3038cb0d61e47338ac6e4381ed98513/\n",
      "    Complete output (17 lines):\n",
      "    cannot open shared object from 'geos-config --clibs': '-L/usr/local/Cellar/geos/3.8.1_2/lib -lgeos_c'\n",
      "    there were 3 guess(es) for this path:\n",
      "    \t/usr/local/Cellar/geos/3.8.1_2/lib/libgeos_c.dylib\n",
      "    \t/usr/local/Cellar/geos/3.8.1_2/lib/geos_c.dylib\n",
      "    \t/usr/local/Cellar/geos/3.8.1_2/lib/geos_c.framework/geos_c\n",
      "    Failed `CDLL(/usr/local/lib/libgeos_c.dylib)`\n",
      "    Failed `CDLL(/Library/Frameworks/GEOS.framework/Versions/Current/GEOS)`\n",
      "    Failed `CDLL(/opt/local/lib/libgeos_c.dylib)`\n",
      "    Traceback (most recent call last):\n",
      "      File \"<string>\", line 1, in <module>\n",
      "      File \"/private/var/folders/0p/y9v6h7xd3tgdp8cg8_5649n40000gn/T/pip-install-8dxelv5y/shapely_e3038cb0d61e47338ac6e4381ed98513/setup.py\", line 80, in <module>\n",
      "        from shapely._buildcfg import geos_version_string, geos_version, \\\n",
      "      File \"/private/var/folders/0p/y9v6h7xd3tgdp8cg8_5649n40000gn/T/pip-install-8dxelv5y/shapely_e3038cb0d61e47338ac6e4381ed98513/shapely/_buildcfg.py\", line 185, in <module>\n",
      "        lgeos = load_dll('geos_c', fallbacks=alt_paths)\n",
      "      File \"/private/var/folders/0p/y9v6h7xd3tgdp8cg8_5649n40000gn/T/pip-install-8dxelv5y/shapely_e3038cb0d61e47338ac6e4381ed98513/shapely/_buildcfg.py\", line 159, in load_dll\n",
      "        raise OSError(\n",
      "    OSError: Could not find library geos_c or load any of its variants ['/Library/Frameworks/GEOS.framework/Versions/Current/GEOS', '/opt/local/lib/libgeos_c.dylib']\n",
      "    ----------------------------------------\u001b[0m\n",
      "\u001b[33mWARNING: Discarding https://files.pythonhosted.org/packages/c0/10/1457c46e20b509108a32a5776141d78d410161dae8ab8da74efe67c530eb/Shapely-1.6.3.tar.gz#sha256=14152f111c7711fc6756fd538ec12fc8cdde7419f869b244922f71f61b2a6c6b (from https://pypi.org/simple/shapely/). Command errored out with exit status 1: python setup.py egg_info Check the logs for full command output.\u001b[0m\n",
      "\u001b[?25h  Downloading Shapely-1.6.2.post1.tar.gz (221 kB)\n"
     ]
    },
    {
     "name": "stdout",
     "output_type": "stream",
     "text": [
      "\u001b[K     |████████████████████████████████| 221 kB 116.1 MB/s eta 0:00:01\n",
      "\u001b[31m    ERROR: Command errored out with exit status 1:\n",
      "     command: /opt/homebrew/opt/python@3.8/bin/python3.8 -c 'import io, os, sys, setuptools, tokenize; sys.argv[0] = '\"'\"'/private/var/folders/0p/y9v6h7xd3tgdp8cg8_5649n40000gn/T/pip-install-8dxelv5y/shapely_00f74e330f254ca4a4cebc18309bcfa2/setup.py'\"'\"'; __file__='\"'\"'/private/var/folders/0p/y9v6h7xd3tgdp8cg8_5649n40000gn/T/pip-install-8dxelv5y/shapely_00f74e330f254ca4a4cebc18309bcfa2/setup.py'\"'\"';f = getattr(tokenize, '\"'\"'open'\"'\"', open)(__file__) if os.path.exists(__file__) else io.StringIO('\"'\"'from setuptools import setup; setup()'\"'\"');code = f.read().replace('\"'\"'\\r\\n'\"'\"', '\"'\"'\\n'\"'\"');f.close();exec(compile(code, __file__, '\"'\"'exec'\"'\"'))' egg_info --egg-base /private/var/folders/0p/y9v6h7xd3tgdp8cg8_5649n40000gn/T/pip-pip-egg-info-0_mq3ext\n",
      "         cwd: /private/var/folders/0p/y9v6h7xd3tgdp8cg8_5649n40000gn/T/pip-install-8dxelv5y/shapely_00f74e330f254ca4a4cebc18309bcfa2/\n",
      "    Complete output (17 lines):\n",
      "    cannot open shared object from 'geos-config --clibs': '-L/usr/local/Cellar/geos/3.8.1_2/lib -lgeos_c'\n",
      "    there were 3 guess(es) for this path:\n",
      "    \t/usr/local/Cellar/geos/3.8.1_2/lib/libgeos_c.dylib\n",
      "    \t/usr/local/Cellar/geos/3.8.1_2/lib/geos_c.dylib\n",
      "    \t/usr/local/Cellar/geos/3.8.1_2/lib/geos_c.framework/geos_c\n",
      "    Failed `CDLL(/usr/local/lib/libgeos_c.dylib)`\n",
      "    Failed `CDLL(/Library/Frameworks/GEOS.framework/Versions/Current/GEOS)`\n",
      "    Failed `CDLL(/opt/local/lib/libgeos_c.dylib)`\n",
      "    Traceback (most recent call last):\n",
      "      File \"<string>\", line 1, in <module>\n",
      "      File \"/private/var/folders/0p/y9v6h7xd3tgdp8cg8_5649n40000gn/T/pip-install-8dxelv5y/shapely_00f74e330f254ca4a4cebc18309bcfa2/setup.py\", line 80, in <module>\n",
      "        from shapely._buildcfg import geos_version_string, geos_version, \\\n",
      "      File \"/private/var/folders/0p/y9v6h7xd3tgdp8cg8_5649n40000gn/T/pip-install-8dxelv5y/shapely_00f74e330f254ca4a4cebc18309bcfa2/shapely/_buildcfg.py\", line 185, in <module>\n",
      "        lgeos = load_dll('geos_c', fallbacks=alt_paths)\n",
      "      File \"/private/var/folders/0p/y9v6h7xd3tgdp8cg8_5649n40000gn/T/pip-install-8dxelv5y/shapely_00f74e330f254ca4a4cebc18309bcfa2/shapely/_buildcfg.py\", line 159, in load_dll\n",
      "        raise OSError(\n",
      "    OSError: Could not find library geos_c or load any of its variants ['/Library/Frameworks/GEOS.framework/Versions/Current/GEOS', '/opt/local/lib/libgeos_c.dylib']\n",
      "    ----------------------------------------\u001b[0m\n",
      "\u001b[33mWARNING: Discarding https://files.pythonhosted.org/packages/60/c4/392aff1cb73f20d3cf4bb01a9eeb3eb5db7a167c094d69beca402b9a5846/Shapely-1.6.2.post1.tar.gz#sha256=07fba518e76b3276558f62a5829bdfa476f790cdef752383ccdc8c66b04b0899 (from https://pypi.org/simple/shapely/). Command errored out with exit status 1: python setup.py egg_info Check the logs for full command output.\u001b[0m\n",
      "\u001b[?25h  Downloading Shapely-1.6.2.tar.gz (220 kB)\n",
      "\u001b[K     |████████████████████████████████| 220 kB 60.1 MB/s eta 0:00:01\n",
      "\u001b[31m    ERROR: Command errored out with exit status 1:\n",
      "     command: /opt/homebrew/opt/python@3.8/bin/python3.8 -c 'import io, os, sys, setuptools, tokenize; sys.argv[0] = '\"'\"'/private/var/folders/0p/y9v6h7xd3tgdp8cg8_5649n40000gn/T/pip-install-8dxelv5y/shapely_580126c753464b678d849dc0d15399e0/setup.py'\"'\"'; __file__='\"'\"'/private/var/folders/0p/y9v6h7xd3tgdp8cg8_5649n40000gn/T/pip-install-8dxelv5y/shapely_580126c753464b678d849dc0d15399e0/setup.py'\"'\"';f = getattr(tokenize, '\"'\"'open'\"'\"', open)(__file__) if os.path.exists(__file__) else io.StringIO('\"'\"'from setuptools import setup; setup()'\"'\"');code = f.read().replace('\"'\"'\\r\\n'\"'\"', '\"'\"'\\n'\"'\"');f.close();exec(compile(code, __file__, '\"'\"'exec'\"'\"'))' egg_info --egg-base /private/var/folders/0p/y9v6h7xd3tgdp8cg8_5649n40000gn/T/pip-pip-egg-info-tk1d16ri\n",
      "         cwd: /private/var/folders/0p/y9v6h7xd3tgdp8cg8_5649n40000gn/T/pip-install-8dxelv5y/shapely_580126c753464b678d849dc0d15399e0/\n",
      "    Complete output (17 lines):\n",
      "    cannot open shared object from 'geos-config --clibs': '-L/usr/local/Cellar/geos/3.8.1_2/lib -lgeos_c'\n",
      "    there were 3 guess(es) for this path:\n",
      "    \t/usr/local/Cellar/geos/3.8.1_2/lib/libgeos_c.dylib\n",
      "    \t/usr/local/Cellar/geos/3.8.1_2/lib/geos_c.dylib\n",
      "    \t/usr/local/Cellar/geos/3.8.1_2/lib/geos_c.framework/geos_c\n",
      "    Failed `CDLL(/usr/local/lib/libgeos_c.dylib)`\n",
      "    Failed `CDLL(/Library/Frameworks/GEOS.framework/Versions/Current/GEOS)`\n",
      "    Failed `CDLL(/opt/local/lib/libgeos_c.dylib)`\n",
      "    Traceback (most recent call last):\n",
      "      File \"<string>\", line 1, in <module>\n",
      "      File \"/private/var/folders/0p/y9v6h7xd3tgdp8cg8_5649n40000gn/T/pip-install-8dxelv5y/shapely_580126c753464b678d849dc0d15399e0/setup.py\", line 80, in <module>\n",
      "        from shapely._buildcfg import geos_version_string, geos_version, \\\n",
      "      File \"/private/var/folders/0p/y9v6h7xd3tgdp8cg8_5649n40000gn/T/pip-install-8dxelv5y/shapely_580126c753464b678d849dc0d15399e0/shapely/_buildcfg.py\", line 185, in <module>\n",
      "        lgeos = load_dll('geos_c', fallbacks=alt_paths)\n",
      "      File \"/private/var/folders/0p/y9v6h7xd3tgdp8cg8_5649n40000gn/T/pip-install-8dxelv5y/shapely_580126c753464b678d849dc0d15399e0/shapely/_buildcfg.py\", line 159, in load_dll\n",
      "        raise OSError(\n",
      "    OSError: Could not find library geos_c or load any of its variants ['/Library/Frameworks/GEOS.framework/Versions/Current/GEOS', '/opt/local/lib/libgeos_c.dylib']\n",
      "    ----------------------------------------\u001b[0m\n",
      "\u001b[33mWARNING: Discarding https://files.pythonhosted.org/packages/bf/66/302e857b29457ab683ba8f476a385dca1212b6958ed105c2b195d3f87fdb/Shapely-1.6.2.tar.gz#sha256=0ed0db2ddc10e092de30c2ddae28cc8bd2543601b6af83877b76c3280f2537c6 (from https://pypi.org/simple/shapely/). Command errored out with exit status 1: python setup.py egg_info Check the logs for full command output.\u001b[0m\n",
      "\u001b[?25h  Downloading Shapely-1.6.1.tar.gz (216 kB)\n",
      "\u001b[K     |████████████████████████████████| 216 kB 38.3 MB/s eta 0:00:01\n",
      "\u001b[31m    ERROR: Command errored out with exit status 1:\n",
      "     command: /opt/homebrew/opt/python@3.8/bin/python3.8 -c 'import io, os, sys, setuptools, tokenize; sys.argv[0] = '\"'\"'/private/var/folders/0p/y9v6h7xd3tgdp8cg8_5649n40000gn/T/pip-install-8dxelv5y/shapely_57d504e1742342a9a3806c4fcf7e92c2/setup.py'\"'\"'; __file__='\"'\"'/private/var/folders/0p/y9v6h7xd3tgdp8cg8_5649n40000gn/T/pip-install-8dxelv5y/shapely_57d504e1742342a9a3806c4fcf7e92c2/setup.py'\"'\"';f = getattr(tokenize, '\"'\"'open'\"'\"', open)(__file__) if os.path.exists(__file__) else io.StringIO('\"'\"'from setuptools import setup; setup()'\"'\"');code = f.read().replace('\"'\"'\\r\\n'\"'\"', '\"'\"'\\n'\"'\"');f.close();exec(compile(code, __file__, '\"'\"'exec'\"'\"'))' egg_info --egg-base /private/var/folders/0p/y9v6h7xd3tgdp8cg8_5649n40000gn/T/pip-pip-egg-info-bsc8knzt\n",
      "         cwd: /private/var/folders/0p/y9v6h7xd3tgdp8cg8_5649n40000gn/T/pip-install-8dxelv5y/shapely_57d504e1742342a9a3806c4fcf7e92c2/\n",
      "    Complete output (17 lines):\n",
      "    cannot open shared object from 'geos-config --clibs': '-L/usr/local/Cellar/geos/3.8.1_2/lib -lgeos_c'\n",
      "    there were 3 guess(es) for this path:\n",
      "    \t/usr/local/Cellar/geos/3.8.1_2/lib/libgeos_c.dylib\n",
      "    \t/usr/local/Cellar/geos/3.8.1_2/lib/geos_c.dylib\n",
      "    \t/usr/local/Cellar/geos/3.8.1_2/lib/geos_c.framework/geos_c\n",
      "    Failed `CDLL(/usr/local/lib/libgeos_c.dylib)`\n",
      "    Failed `CDLL(/Library/Frameworks/GEOS.framework/Versions/Current/GEOS)`\n",
      "    Failed `CDLL(/opt/local/lib/libgeos_c.dylib)`\n",
      "    Traceback (most recent call last):\n",
      "      File \"<string>\", line 1, in <module>\n",
      "      File \"/private/var/folders/0p/y9v6h7xd3tgdp8cg8_5649n40000gn/T/pip-install-8dxelv5y/shapely_57d504e1742342a9a3806c4fcf7e92c2/setup.py\", line 80, in <module>\n",
      "        from shapely._buildcfg import geos_version_string, geos_version, \\\n",
      "      File \"/private/var/folders/0p/y9v6h7xd3tgdp8cg8_5649n40000gn/T/pip-install-8dxelv5y/shapely_57d504e1742342a9a3806c4fcf7e92c2/shapely/_buildcfg.py\", line 185, in <module>\n",
      "        lgeos = load_dll('geos_c', fallbacks=alt_paths)\n",
      "      File \"/private/var/folders/0p/y9v6h7xd3tgdp8cg8_5649n40000gn/T/pip-install-8dxelv5y/shapely_57d504e1742342a9a3806c4fcf7e92c2/shapely/_buildcfg.py\", line 159, in load_dll\n",
      "        raise OSError(\n",
      "    OSError: Could not find library geos_c or load any of its variants ['/Library/Frameworks/GEOS.framework/Versions/Current/GEOS', '/opt/local/lib/libgeos_c.dylib']\n",
      "    ----------------------------------------\u001b[0m\n",
      "\u001b[33mWARNING: Discarding https://files.pythonhosted.org/packages/97/33/d299b42241bf80fce900c6da3a8f4e40f909e2c936e690f749c2ac2fb05d/Shapely-1.6.1.tar.gz#sha256=5ae137eb95ff615be399a285cf447913f845b0224e03d1167f638867eaccd0c7 (from https://pypi.org/simple/shapely/). Command errored out with exit status 1: python setup.py egg_info Check the logs for full command output.\u001b[0m\n",
      "\u001b[?25h  Downloading Shapely-1.6.0.tar.gz (214 kB)\n",
      "\u001b[K     |████████████████████████████████| 214 kB 71.8 MB/s eta 0:00:01\n"
     ]
    },
    {
     "name": "stdout",
     "output_type": "stream",
     "text": [
      "\u001b[31m    ERROR: Command errored out with exit status 1:\n",
      "     command: /opt/homebrew/opt/python@3.8/bin/python3.8 -c 'import io, os, sys, setuptools, tokenize; sys.argv[0] = '\"'\"'/private/var/folders/0p/y9v6h7xd3tgdp8cg8_5649n40000gn/T/pip-install-8dxelv5y/shapely_18dc760785d144409f3912d66fc08804/setup.py'\"'\"'; __file__='\"'\"'/private/var/folders/0p/y9v6h7xd3tgdp8cg8_5649n40000gn/T/pip-install-8dxelv5y/shapely_18dc760785d144409f3912d66fc08804/setup.py'\"'\"';f = getattr(tokenize, '\"'\"'open'\"'\"', open)(__file__) if os.path.exists(__file__) else io.StringIO('\"'\"'from setuptools import setup; setup()'\"'\"');code = f.read().replace('\"'\"'\\r\\n'\"'\"', '\"'\"'\\n'\"'\"');f.close();exec(compile(code, __file__, '\"'\"'exec'\"'\"'))' egg_info --egg-base /private/var/folders/0p/y9v6h7xd3tgdp8cg8_5649n40000gn/T/pip-pip-egg-info-pdf7b4mv\n",
      "         cwd: /private/var/folders/0p/y9v6h7xd3tgdp8cg8_5649n40000gn/T/pip-install-8dxelv5y/shapely_18dc760785d144409f3912d66fc08804/\n",
      "    Complete output (17 lines):\n",
      "    cannot open shared object from 'geos-config --clibs': '-L/usr/local/Cellar/geos/3.8.1_2/lib -lgeos_c'\n",
      "    there were 3 guess(es) for this path:\n",
      "    \t/usr/local/Cellar/geos/3.8.1_2/lib/libgeos_c.dylib\n",
      "    \t/usr/local/Cellar/geos/3.8.1_2/lib/geos_c.dylib\n",
      "    \t/usr/local/Cellar/geos/3.8.1_2/lib/geos_c.framework/geos_c\n",
      "    Failed `CDLL(/usr/local/lib/libgeos_c.dylib)`\n",
      "    Failed `CDLL(/Library/Frameworks/GEOS.framework/Versions/Current/GEOS)`\n",
      "    Failed `CDLL(/opt/local/lib/libgeos_c.dylib)`\n",
      "    Traceback (most recent call last):\n",
      "      File \"<string>\", line 1, in <module>\n",
      "      File \"/private/var/folders/0p/y9v6h7xd3tgdp8cg8_5649n40000gn/T/pip-install-8dxelv5y/shapely_18dc760785d144409f3912d66fc08804/setup.py\", line 80, in <module>\n",
      "        from shapely._buildcfg import geos_version_string, geos_version, \\\n",
      "      File \"/private/var/folders/0p/y9v6h7xd3tgdp8cg8_5649n40000gn/T/pip-install-8dxelv5y/shapely_18dc760785d144409f3912d66fc08804/shapely/_buildcfg.py\", line 185, in <module>\n",
      "        lgeos = load_dll('geos_c', fallbacks=alt_paths)\n",
      "      File \"/private/var/folders/0p/y9v6h7xd3tgdp8cg8_5649n40000gn/T/pip-install-8dxelv5y/shapely_18dc760785d144409f3912d66fc08804/shapely/_buildcfg.py\", line 159, in load_dll\n",
      "        raise OSError(\n",
      "    OSError: Could not find library geos_c or load any of its variants ['/Library/Frameworks/GEOS.framework/Versions/Current/GEOS', '/opt/local/lib/libgeos_c.dylib']\n",
      "    ----------------------------------------\u001b[0m\n",
      "\u001b[33mWARNING: Discarding https://files.pythonhosted.org/packages/8b/18/d01334652244d5b9e3964b305ae9ce3e6d747345ec0767c4e0ea482d077a/Shapely-1.6.0.tar.gz#sha256=34d07cb277a5acf9ca5583a5b926678c58fb512d4fb4fcccbf3992e995b7ef60 (from https://pypi.org/simple/shapely/). Command errored out with exit status 1: python setup.py egg_info Check the logs for full command output.\u001b[0m\n",
      "\u001b[?25hCollecting geopandas\n",
      "  Downloading geopandas-0.8.2-py2.py3-none-any.whl (962 kB)\n",
      "\u001b[K     |████████████████████████████████| 962 kB 132.2 MB/s eta 0:00:01\n",
      "\u001b[?25hCollecting shapely\n",
      "  Downloading Shapely-1.5.17.tar.gz (180 kB)\n",
      "\u001b[K     |████████████████████████████████| 180 kB 50.9 MB/s eta 0:00:01\n",
      "\u001b[31m    ERROR: Command errored out with exit status 1:\n",
      "     command: /opt/homebrew/opt/python@3.8/bin/python3.8 -c 'import io, os, sys, setuptools, tokenize; sys.argv[0] = '\"'\"'/private/var/folders/0p/y9v6h7xd3tgdp8cg8_5649n40000gn/T/pip-install-8dxelv5y/shapely_fe543f91bc9c41b8a3097e18021e3a4e/setup.py'\"'\"'; __file__='\"'\"'/private/var/folders/0p/y9v6h7xd3tgdp8cg8_5649n40000gn/T/pip-install-8dxelv5y/shapely_fe543f91bc9c41b8a3097e18021e3a4e/setup.py'\"'\"';f = getattr(tokenize, '\"'\"'open'\"'\"', open)(__file__) if os.path.exists(__file__) else io.StringIO('\"'\"'from setuptools import setup; setup()'\"'\"');code = f.read().replace('\"'\"'\\r\\n'\"'\"', '\"'\"'\\n'\"'\"');f.close();exec(compile(code, __file__, '\"'\"'exec'\"'\"'))' egg_info --egg-base /private/var/folders/0p/y9v6h7xd3tgdp8cg8_5649n40000gn/T/pip-pip-egg-info-ogy6pdt1\n",
      "         cwd: /private/var/folders/0p/y9v6h7xd3tgdp8cg8_5649n40000gn/T/pip-install-8dxelv5y/shapely_fe543f91bc9c41b8a3097e18021e3a4e/\n",
      "    Complete output (17 lines):\n",
      "    cannot open shared object from 'geos-config --clibs': '-L/usr/local/Cellar/geos/3.8.1_2/lib -lgeos_c'\n",
      "    there were 3 guess(es) for this path:\n",
      "    \t/usr/local/Cellar/geos/3.8.1_2/lib/libgeos_c.dylib\n",
      "    \t/usr/local/Cellar/geos/3.8.1_2/lib/geos_c.dylib\n",
      "    \t/usr/local/Cellar/geos/3.8.1_2/lib/geos_c.framework/geos_c\n",
      "    Failed `CDLL(/usr/local/lib/libgeos_c.dylib)`\n",
      "    Failed `CDLL(/Library/Frameworks/GEOS.framework/Versions/Current/GEOS)`\n",
      "    Failed `CDLL(/opt/local/lib/libgeos_c.dylib)`\n",
      "    Traceback (most recent call last):\n",
      "      File \"<string>\", line 1, in <module>\n",
      "      File \"/private/var/folders/0p/y9v6h7xd3tgdp8cg8_5649n40000gn/T/pip-install-8dxelv5y/shapely_fe543f91bc9c41b8a3097e18021e3a4e/setup.py\", line 38, in <module>\n",
      "        from shapely._buildcfg import geos_version_string, geos_version, \\\n",
      "      File \"/private/var/folders/0p/y9v6h7xd3tgdp8cg8_5649n40000gn/T/pip-install-8dxelv5y/shapely_fe543f91bc9c41b8a3097e18021e3a4e/shapely/_buildcfg.py\", line 185, in <module>\n",
      "        lgeos = load_dll('geos_c', fallbacks=alt_paths)\n",
      "      File \"/private/var/folders/0p/y9v6h7xd3tgdp8cg8_5649n40000gn/T/pip-install-8dxelv5y/shapely_fe543f91bc9c41b8a3097e18021e3a4e/shapely/_buildcfg.py\", line 159, in load_dll\n",
      "        raise OSError(\n",
      "    OSError: Could not find library geos_c or load any of its variants ['/Library/Frameworks/GEOS.framework/Versions/Current/GEOS', '/opt/local/lib/libgeos_c.dylib']\n",
      "    ----------------------------------------\u001b[0m\n",
      "\u001b[33mWARNING: Discarding https://files.pythonhosted.org/packages/e6/23/03ea2c965fe5ded97c0dd97c2cd659f1afb5c21f388ec68012d6d981cb7c/Shapely-1.5.17.tar.gz#sha256=31fee47d9208078a19f40a451c0c99c085d16343e66cbd0dd5af0af6f48cfc3a (from https://pypi.org/simple/shapely/). Command errored out with exit status 1: python setup.py egg_info Check the logs for full command output.\u001b[0m\n",
      "\u001b[?25h  Downloading Shapely-1.5.16.tar.gz (180 kB)\n",
      "\u001b[K     |████████████████████████████████| 180 kB 28.0 MB/s eta 0:00:01\n",
      "\u001b[31m    ERROR: Command errored out with exit status 1:\n",
      "     command: /opt/homebrew/opt/python@3.8/bin/python3.8 -c 'import io, os, sys, setuptools, tokenize; sys.argv[0] = '\"'\"'/private/var/folders/0p/y9v6h7xd3tgdp8cg8_5649n40000gn/T/pip-install-8dxelv5y/shapely_4bb7096481194b92840b164a7a48891e/setup.py'\"'\"'; __file__='\"'\"'/private/var/folders/0p/y9v6h7xd3tgdp8cg8_5649n40000gn/T/pip-install-8dxelv5y/shapely_4bb7096481194b92840b164a7a48891e/setup.py'\"'\"';f = getattr(tokenize, '\"'\"'open'\"'\"', open)(__file__) if os.path.exists(__file__) else io.StringIO('\"'\"'from setuptools import setup; setup()'\"'\"');code = f.read().replace('\"'\"'\\r\\n'\"'\"', '\"'\"'\\n'\"'\"');f.close();exec(compile(code, __file__, '\"'\"'exec'\"'\"'))' egg_info --egg-base /private/var/folders/0p/y9v6h7xd3tgdp8cg8_5649n40000gn/T/pip-pip-egg-info-63n1r0wl\n",
      "         cwd: /private/var/folders/0p/y9v6h7xd3tgdp8cg8_5649n40000gn/T/pip-install-8dxelv5y/shapely_4bb7096481194b92840b164a7a48891e/\n",
      "    Complete output (17 lines):\n",
      "    cannot open shared object from 'geos-config --clibs': '-L/usr/local/Cellar/geos/3.8.1_2/lib -lgeos_c'\n",
      "    there were 3 guess(es) for this path:\n",
      "    \t/usr/local/Cellar/geos/3.8.1_2/lib/libgeos_c.dylib\n",
      "    \t/usr/local/Cellar/geos/3.8.1_2/lib/geos_c.dylib\n",
      "    \t/usr/local/Cellar/geos/3.8.1_2/lib/geos_c.framework/geos_c\n",
      "    Failed `CDLL(/usr/local/lib/libgeos_c.dylib)`\n",
      "    Failed `CDLL(/Library/Frameworks/GEOS.framework/Versions/Current/GEOS)`\n",
      "    Failed `CDLL(/opt/local/lib/libgeos_c.dylib)`\n",
      "    Traceback (most recent call last):\n",
      "      File \"<string>\", line 1, in <module>\n",
      "      File \"/private/var/folders/0p/y9v6h7xd3tgdp8cg8_5649n40000gn/T/pip-install-8dxelv5y/shapely_4bb7096481194b92840b164a7a48891e/setup.py\", line 38, in <module>\n",
      "        from shapely._buildcfg import geos_version_string, geos_version, \\\n",
      "      File \"/private/var/folders/0p/y9v6h7xd3tgdp8cg8_5649n40000gn/T/pip-install-8dxelv5y/shapely_4bb7096481194b92840b164a7a48891e/shapely/_buildcfg.py\", line 185, in <module>\n",
      "        lgeos = load_dll('geos_c', fallbacks=alt_paths)\n",
      "      File \"/private/var/folders/0p/y9v6h7xd3tgdp8cg8_5649n40000gn/T/pip-install-8dxelv5y/shapely_4bb7096481194b92840b164a7a48891e/shapely/_buildcfg.py\", line 159, in load_dll\n",
      "        raise OSError(\n",
      "    OSError: Could not find library geos_c or load any of its variants ['/Library/Frameworks/GEOS.framework/Versions/Current/GEOS', '/opt/local/lib/libgeos_c.dylib']\n",
      "    ----------------------------------------\u001b[0m\n",
      "\u001b[33mWARNING: Discarding https://files.pythonhosted.org/packages/f2/0d/80b8cded75b1ba22ef8f3ef5e156e014f6fd3025f74314e1a22bc3687741/Shapely-1.5.16.tar.gz#sha256=29ad6593909e04a337a4c57d1a7fa234e4e02d53e549e3019a2d0789e6c930fd (from https://pypi.org/simple/shapely/). Command errored out with exit status 1: python setup.py egg_info Check the logs for full command output.\u001b[0m\n"
     ]
    },
    {
     "name": "stdout",
     "output_type": "stream",
     "text": [
      "\u001b[?25h  Downloading Shapely-1.5.15.tar.gz (179 kB)\n",
      "\u001b[K     |████████████████████████████████| 179 kB 45.1 MB/s eta 0:00:01\n",
      "\u001b[31m    ERROR: Command errored out with exit status 1:\n",
      "     command: /opt/homebrew/opt/python@3.8/bin/python3.8 -c 'import io, os, sys, setuptools, tokenize; sys.argv[0] = '\"'\"'/private/var/folders/0p/y9v6h7xd3tgdp8cg8_5649n40000gn/T/pip-install-8dxelv5y/shapely_9a5236f256c949e19328dd8c6bf2df03/setup.py'\"'\"'; __file__='\"'\"'/private/var/folders/0p/y9v6h7xd3tgdp8cg8_5649n40000gn/T/pip-install-8dxelv5y/shapely_9a5236f256c949e19328dd8c6bf2df03/setup.py'\"'\"';f = getattr(tokenize, '\"'\"'open'\"'\"', open)(__file__) if os.path.exists(__file__) else io.StringIO('\"'\"'from setuptools import setup; setup()'\"'\"');code = f.read().replace('\"'\"'\\r\\n'\"'\"', '\"'\"'\\n'\"'\"');f.close();exec(compile(code, __file__, '\"'\"'exec'\"'\"'))' egg_info --egg-base /private/var/folders/0p/y9v6h7xd3tgdp8cg8_5649n40000gn/T/pip-pip-egg-info-zh13a7h2\n",
      "         cwd: /private/var/folders/0p/y9v6h7xd3tgdp8cg8_5649n40000gn/T/pip-install-8dxelv5y/shapely_9a5236f256c949e19328dd8c6bf2df03/\n",
      "    Complete output (17 lines):\n",
      "    cannot open shared object from 'geos-config --clibs': '-L/usr/local/Cellar/geos/3.8.1_2/lib -lgeos_c'\n",
      "    there were 3 guess(es) for this path:\n",
      "    \t/usr/local/Cellar/geos/3.8.1_2/lib/libgeos_c.dylib\n",
      "    \t/usr/local/Cellar/geos/3.8.1_2/lib/geos_c.dylib\n",
      "    \t/usr/local/Cellar/geos/3.8.1_2/lib/geos_c.framework/geos_c\n",
      "    Failed `CDLL(/usr/local/lib/libgeos_c.dylib)`\n",
      "    Failed `CDLL(/Library/Frameworks/GEOS.framework/Versions/Current/GEOS)`\n",
      "    Failed `CDLL(/opt/local/lib/libgeos_c.dylib)`\n",
      "    Traceback (most recent call last):\n",
      "      File \"<string>\", line 1, in <module>\n",
      "      File \"/private/var/folders/0p/y9v6h7xd3tgdp8cg8_5649n40000gn/T/pip-install-8dxelv5y/shapely_9a5236f256c949e19328dd8c6bf2df03/setup.py\", line 38, in <module>\n",
      "        from shapely._buildcfg import geos_version_string, geos_version, \\\n",
      "      File \"/private/var/folders/0p/y9v6h7xd3tgdp8cg8_5649n40000gn/T/pip-install-8dxelv5y/shapely_9a5236f256c949e19328dd8c6bf2df03/shapely/_buildcfg.py\", line 185, in <module>\n",
      "        lgeos = load_dll('geos_c', fallbacks=alt_paths)\n",
      "      File \"/private/var/folders/0p/y9v6h7xd3tgdp8cg8_5649n40000gn/T/pip-install-8dxelv5y/shapely_9a5236f256c949e19328dd8c6bf2df03/shapely/_buildcfg.py\", line 159, in load_dll\n",
      "        raise OSError(\n",
      "    OSError: Could not find library geos_c or load any of its variants ['/Library/Frameworks/GEOS.framework/Versions/Current/GEOS', '/opt/local/lib/libgeos_c.dylib']\n",
      "    ----------------------------------------\u001b[0m\n",
      "\u001b[33mWARNING: Discarding https://files.pythonhosted.org/packages/dc/44/84893410afc713e44a82a8f900de3ea63a80fa460beb3f9a9fed2ded0140/Shapely-1.5.15.tar.gz#sha256=e75d9461ad21ab0750b3e582a9af23de47c47c3aef43fa7f7ac0b63bc7ead851 (from https://pypi.org/simple/shapely/). Command errored out with exit status 1: python setup.py egg_info Check the logs for full command output.\u001b[0m\n",
      "\u001b[?25h  Downloading Shapely-1.5.14.tar.gz (179 kB)\n",
      "\u001b[K     |████████████████████████████████| 179 kB 101.3 MB/s eta 0:00:01\n",
      "\u001b[31m    ERROR: Command errored out with exit status 1:\n",
      "     command: /opt/homebrew/opt/python@3.8/bin/python3.8 -c 'import io, os, sys, setuptools, tokenize; sys.argv[0] = '\"'\"'/private/var/folders/0p/y9v6h7xd3tgdp8cg8_5649n40000gn/T/pip-install-8dxelv5y/shapely_1d31b19040ed440cba5e1766556cad1e/setup.py'\"'\"'; __file__='\"'\"'/private/var/folders/0p/y9v6h7xd3tgdp8cg8_5649n40000gn/T/pip-install-8dxelv5y/shapely_1d31b19040ed440cba5e1766556cad1e/setup.py'\"'\"';f = getattr(tokenize, '\"'\"'open'\"'\"', open)(__file__) if os.path.exists(__file__) else io.StringIO('\"'\"'from setuptools import setup; setup()'\"'\"');code = f.read().replace('\"'\"'\\r\\n'\"'\"', '\"'\"'\\n'\"'\"');f.close();exec(compile(code, __file__, '\"'\"'exec'\"'\"'))' egg_info --egg-base /private/var/folders/0p/y9v6h7xd3tgdp8cg8_5649n40000gn/T/pip-pip-egg-info-zt9mnj7a\n",
      "         cwd: /private/var/folders/0p/y9v6h7xd3tgdp8cg8_5649n40000gn/T/pip-install-8dxelv5y/shapely_1d31b19040ed440cba5e1766556cad1e/\n",
      "    Complete output (17 lines):\n",
      "    cannot open shared object from 'geos-config --clibs': '-L/usr/local/Cellar/geos/3.8.1_2/lib -lgeos_c'\n",
      "    there were 3 guess(es) for this path:\n",
      "    \t/usr/local/Cellar/geos/3.8.1_2/lib/libgeos_c.dylib\n",
      "    \t/usr/local/Cellar/geos/3.8.1_2/lib/geos_c.dylib\n",
      "    \t/usr/local/Cellar/geos/3.8.1_2/lib/geos_c.framework/geos_c\n",
      "    Failed `CDLL(/usr/local/lib/libgeos_c.dylib)`\n",
      "    Failed `CDLL(/Library/Frameworks/GEOS.framework/Versions/Current/GEOS)`\n",
      "    Failed `CDLL(/opt/local/lib/libgeos_c.dylib)`\n",
      "    Traceback (most recent call last):\n",
      "      File \"<string>\", line 1, in <module>\n",
      "      File \"/private/var/folders/0p/y9v6h7xd3tgdp8cg8_5649n40000gn/T/pip-install-8dxelv5y/shapely_1d31b19040ed440cba5e1766556cad1e/setup.py\", line 38, in <module>\n",
      "        from shapely._buildcfg import geos_version_string, geos_version, \\\n",
      "      File \"/private/var/folders/0p/y9v6h7xd3tgdp8cg8_5649n40000gn/T/pip-install-8dxelv5y/shapely_1d31b19040ed440cba5e1766556cad1e/shapely/_buildcfg.py\", line 185, in <module>\n",
      "        lgeos = load_dll('geos_c', fallbacks=alt_paths)\n",
      "      File \"/private/var/folders/0p/y9v6h7xd3tgdp8cg8_5649n40000gn/T/pip-install-8dxelv5y/shapely_1d31b19040ed440cba5e1766556cad1e/shapely/_buildcfg.py\", line 159, in load_dll\n",
      "        raise OSError(\n",
      "    OSError: Could not find library geos_c or load any of its variants ['/Library/Frameworks/GEOS.framework/Versions/Current/GEOS', '/opt/local/lib/libgeos_c.dylib']\n",
      "    ----------------------------------------\u001b[0m\n",
      "\u001b[33mWARNING: Discarding https://files.pythonhosted.org/packages/b5/27/bd2d8e73067fb949b02982a93b9edee295b0f4f6bd3c17693fbac8dc21a4/Shapely-1.5.14.tar.gz#sha256=0e2f49f09abc66575c9bfb7908b7a21f402efc581d212416936476b5818f7f56 (from https://pypi.org/simple/shapely/). Command errored out with exit status 1: python setup.py egg_info Check the logs for full command output.\u001b[0m\n",
      "\u001b[?25h  Downloading Shapely-1.5.13.tar.gz (176 kB)\n",
      "\u001b[K     |████████████████████████████████| 176 kB 81.4 MB/s eta 0:00:01\n",
      "\u001b[31m    ERROR: Command errored out with exit status 1:\n",
      "     command: /opt/homebrew/opt/python@3.8/bin/python3.8 -c 'import io, os, sys, setuptools, tokenize; sys.argv[0] = '\"'\"'/private/var/folders/0p/y9v6h7xd3tgdp8cg8_5649n40000gn/T/pip-install-8dxelv5y/shapely_90e769c74f264c58ac9e632f8b6b0284/setup.py'\"'\"'; __file__='\"'\"'/private/var/folders/0p/y9v6h7xd3tgdp8cg8_5649n40000gn/T/pip-install-8dxelv5y/shapely_90e769c74f264c58ac9e632f8b6b0284/setup.py'\"'\"';f = getattr(tokenize, '\"'\"'open'\"'\"', open)(__file__) if os.path.exists(__file__) else io.StringIO('\"'\"'from setuptools import setup; setup()'\"'\"');code = f.read().replace('\"'\"'\\r\\n'\"'\"', '\"'\"'\\n'\"'\"');f.close();exec(compile(code, __file__, '\"'\"'exec'\"'\"'))' egg_info --egg-base /private/var/folders/0p/y9v6h7xd3tgdp8cg8_5649n40000gn/T/pip-pip-egg-info-7z11yj5_\n",
      "         cwd: /private/var/folders/0p/y9v6h7xd3tgdp8cg8_5649n40000gn/T/pip-install-8dxelv5y/shapely_90e769c74f264c58ac9e632f8b6b0284/\n",
      "    Complete output (17 lines):\n",
      "    cannot open shared object from 'geos-config --clibs': '-L/usr/local/Cellar/geos/3.8.1_2/lib -lgeos_c'\n",
      "    there were 3 guess(es) for this path:\n",
      "    \t/usr/local/Cellar/geos/3.8.1_2/lib/libgeos_c.dylib\n",
      "    \t/usr/local/Cellar/geos/3.8.1_2/lib/geos_c.dylib\n",
      "    \t/usr/local/Cellar/geos/3.8.1_2/lib/geos_c.framework/geos_c\n",
      "    Failed `CDLL(/usr/local/lib/libgeos_c.dylib)`\n",
      "    Failed `CDLL(/Library/Frameworks/GEOS.framework/Versions/Current/GEOS)`\n",
      "    Failed `CDLL(/opt/local/lib/libgeos_c.dylib)`\n",
      "    Traceback (most recent call last):\n",
      "      File \"<string>\", line 1, in <module>\n",
      "      File \"/private/var/folders/0p/y9v6h7xd3tgdp8cg8_5649n40000gn/T/pip-install-8dxelv5y/shapely_90e769c74f264c58ac9e632f8b6b0284/setup.py\", line 38, in <module>\n",
      "        from shapely._buildcfg import geos_version_string, geos_version, \\\n",
      "      File \"/private/var/folders/0p/y9v6h7xd3tgdp8cg8_5649n40000gn/T/pip-install-8dxelv5y/shapely_90e769c74f264c58ac9e632f8b6b0284/shapely/_buildcfg.py\", line 185, in <module>\n",
      "        lgeos = load_dll('geos_c', fallbacks=alt_paths)\n",
      "      File \"/private/var/folders/0p/y9v6h7xd3tgdp8cg8_5649n40000gn/T/pip-install-8dxelv5y/shapely_90e769c74f264c58ac9e632f8b6b0284/shapely/_buildcfg.py\", line 159, in load_dll\n",
      "        raise OSError(\n",
      "    OSError: Could not find library geos_c or load any of its variants ['/Library/Frameworks/GEOS.framework/Versions/Current/GEOS', '/opt/local/lib/libgeos_c.dylib']\n",
      "    ----------------------------------------\u001b[0m\n",
      "\u001b[33mWARNING: Discarding https://files.pythonhosted.org/packages/ad/f9/4640d50324635fbdc7b109f8ef37de5f04456b89ed175cf2f71ae05efd8f/Shapely-1.5.13.tar.gz#sha256=68f8efb43112e8ef1f7e56e2c9eef64e0cbc1c19528c627696fb07345075a348 (from https://pypi.org/simple/shapely/). Command errored out with exit status 1: python setup.py egg_info Check the logs for full command output.\u001b[0m\n",
      "\u001b[?25h  Downloading Shapely-1.5.12.tar.gz (174 kB)\n"
     ]
    },
    {
     "name": "stdout",
     "output_type": "stream",
     "text": [
      "\u001b[K     |████████████████████████████████| 174 kB 19.6 MB/s eta 0:00:01\n",
      "\u001b[31m    ERROR: Command errored out with exit status 1:\n",
      "     command: /opt/homebrew/opt/python@3.8/bin/python3.8 -c 'import io, os, sys, setuptools, tokenize; sys.argv[0] = '\"'\"'/private/var/folders/0p/y9v6h7xd3tgdp8cg8_5649n40000gn/T/pip-install-8dxelv5y/shapely_da74ea932a2b423498b99bf77f6213f0/setup.py'\"'\"'; __file__='\"'\"'/private/var/folders/0p/y9v6h7xd3tgdp8cg8_5649n40000gn/T/pip-install-8dxelv5y/shapely_da74ea932a2b423498b99bf77f6213f0/setup.py'\"'\"';f = getattr(tokenize, '\"'\"'open'\"'\"', open)(__file__) if os.path.exists(__file__) else io.StringIO('\"'\"'from setuptools import setup; setup()'\"'\"');code = f.read().replace('\"'\"'\\r\\n'\"'\"', '\"'\"'\\n'\"'\"');f.close();exec(compile(code, __file__, '\"'\"'exec'\"'\"'))' egg_info --egg-base /private/var/folders/0p/y9v6h7xd3tgdp8cg8_5649n40000gn/T/pip-pip-egg-info-71f9se4o\n",
      "         cwd: /private/var/folders/0p/y9v6h7xd3tgdp8cg8_5649n40000gn/T/pip-install-8dxelv5y/shapely_da74ea932a2b423498b99bf77f6213f0/\n",
      "    Complete output (14 lines):\n",
      "    cannot open shared object from 'geos-config --clibs': '-L/usr/local/Cellar/geos/3.8.1_2/lib -lgeos_c'\n",
      "    there were 3 guess(es) for this path:\n",
      "    \t/usr/local/Cellar/geos/3.8.1_2/lib/libgeos_c.dylib\n",
      "    \t/usr/local/Cellar/geos/3.8.1_2/lib/geos_c.dylib\n",
      "    \t/usr/local/Cellar/geos/3.8.1_2/lib/geos_c.framework/geos_c\n",
      "    Traceback (most recent call last):\n",
      "      File \"<string>\", line 1, in <module>\n",
      "      File \"/private/var/folders/0p/y9v6h7xd3tgdp8cg8_5649n40000gn/T/pip-install-8dxelv5y/shapely_da74ea932a2b423498b99bf77f6213f0/setup.py\", line 38, in <module>\n",
      "        from shapely.libgeos import geos_version_string, geos_version, \\\n",
      "      File \"/private/var/folders/0p/y9v6h7xd3tgdp8cg8_5649n40000gn/T/pip-install-8dxelv5y/shapely_da74ea932a2b423498b99bf77f6213f0/shapely/libgeos.py\", line 172, in <module>\n",
      "        lgeos = load_dll('geos_c', fallbacks=alt_paths)\n",
      "      File \"/private/var/folders/0p/y9v6h7xd3tgdp8cg8_5649n40000gn/T/pip-install-8dxelv5y/shapely_da74ea932a2b423498b99bf77f6213f0/shapely/libgeos.py\", line 141, in load_dll\n",
      "        raise OSError(\n",
      "    OSError: Could not find library geos_c or load any of its variants ['/Library/Frameworks/GEOS.framework/Versions/Current/GEOS', '/opt/local/lib/libgeos_c.dylib']\n",
      "    ----------------------------------------\u001b[0m\n",
      "\u001b[33mWARNING: Discarding https://files.pythonhosted.org/packages/62/06/ac45106f509001b880dc1e2ade29edbac21078dc36c4f3ceb924bbea79d7/Shapely-1.5.12.tar.gz#sha256=dcb88e52146f29344fe7d05cbc1a50a20ce7d65659ea610b99c944ec622971b7 (from https://pypi.org/simple/shapely/). Command errored out with exit status 1: python setup.py egg_info Check the logs for full command output.\u001b[0m\n",
      "\u001b[?25h  Downloading Shapely-1.5.11.tar.gz (174 kB)\n",
      "\u001b[K     |████████████████████████████████| 174 kB 149.5 MB/s eta 0:00:01\n",
      "\u001b[31m    ERROR: Command errored out with exit status 1:\n",
      "     command: /opt/homebrew/opt/python@3.8/bin/python3.8 -c 'import io, os, sys, setuptools, tokenize; sys.argv[0] = '\"'\"'/private/var/folders/0p/y9v6h7xd3tgdp8cg8_5649n40000gn/T/pip-install-8dxelv5y/shapely_f8c7c0dad6ae491faa15bd337c48b506/setup.py'\"'\"'; __file__='\"'\"'/private/var/folders/0p/y9v6h7xd3tgdp8cg8_5649n40000gn/T/pip-install-8dxelv5y/shapely_f8c7c0dad6ae491faa15bd337c48b506/setup.py'\"'\"';f = getattr(tokenize, '\"'\"'open'\"'\"', open)(__file__) if os.path.exists(__file__) else io.StringIO('\"'\"'from setuptools import setup; setup()'\"'\"');code = f.read().replace('\"'\"'\\r\\n'\"'\"', '\"'\"'\\n'\"'\"');f.close();exec(compile(code, __file__, '\"'\"'exec'\"'\"'))' egg_info --egg-base /private/var/folders/0p/y9v6h7xd3tgdp8cg8_5649n40000gn/T/pip-pip-egg-info-ksdzqwqx\n",
      "         cwd: /private/var/folders/0p/y9v6h7xd3tgdp8cg8_5649n40000gn/T/pip-install-8dxelv5y/shapely_f8c7c0dad6ae491faa15bd337c48b506/\n",
      "    Complete output (14 lines):\n",
      "    WARNING:shapely.libgeos:cannot open shared object from 'geos-config --clibs': '-L/usr/local/Cellar/geos/3.8.1_2/lib -lgeos_c'\n",
      "    WARNING:shapely.libgeos:there were 3 guess(es) for this path:\n",
      "    \t/usr/local/Cellar/geos/3.8.1_2/lib/libgeos_c.dylib\n",
      "    \t/usr/local/Cellar/geos/3.8.1_2/lib/geos_c.dylib\n",
      "    \t/usr/local/Cellar/geos/3.8.1_2/lib/geos_c.framework/geos_c\n",
      "    Traceback (most recent call last):\n",
      "      File \"<string>\", line 1, in <module>\n",
      "      File \"/private/var/folders/0p/y9v6h7xd3tgdp8cg8_5649n40000gn/T/pip-install-8dxelv5y/shapely_f8c7c0dad6ae491faa15bd337c48b506/setup.py\", line 38, in <module>\n",
      "        from shapely.libgeos import geos_version_string, geos_version, \\\n",
      "      File \"/private/var/folders/0p/y9v6h7xd3tgdp8cg8_5649n40000gn/T/pip-install-8dxelv5y/shapely_f8c7c0dad6ae491faa15bd337c48b506/shapely/libgeos.py\", line 173, in <module>\n",
      "        lgeos = load_dll('geos_c', fallbacks=alt_paths)\n",
      "      File \"/private/var/folders/0p/y9v6h7xd3tgdp8cg8_5649n40000gn/T/pip-install-8dxelv5y/shapely_f8c7c0dad6ae491faa15bd337c48b506/shapely/libgeos.py\", line 142, in load_dll\n",
      "        raise OSError(\n",
      "    OSError: Could not find library geos_c or load any of its variants ['/Library/Frameworks/GEOS.framework/Versions/Current/GEOS', '/opt/local/lib/libgeos_c.dylib']\n",
      "    ----------------------------------------\u001b[0m\n",
      "\u001b[33mWARNING: Discarding https://files.pythonhosted.org/packages/50/00/c2b76fe79a975408b66e6563f7bfda9079ebd63f501fda0cc7af713cdbb1/Shapely-1.5.11.tar.gz#sha256=500d56e4a93fd7024dd75718f48c8a06ff6d121193f5f92f7ee54a9771ae6851 (from https://pypi.org/simple/shapely/). Command errored out with exit status 1: python setup.py egg_info Check the logs for full command output.\u001b[0m\n",
      "\u001b[?25h  Downloading Shapely-1.5.10.tar.gz (173 kB)\n",
      "\u001b[K     |████████████████████████████████| 173 kB 43.9 MB/s eta 0:00:01\n",
      "\u001b[31m    ERROR: Command errored out with exit status 1:\n",
      "     command: /opt/homebrew/opt/python@3.8/bin/python3.8 -c 'import io, os, sys, setuptools, tokenize; sys.argv[0] = '\"'\"'/private/var/folders/0p/y9v6h7xd3tgdp8cg8_5649n40000gn/T/pip-install-8dxelv5y/shapely_a6c74e1078cb43e38e70d49822540544/setup.py'\"'\"'; __file__='\"'\"'/private/var/folders/0p/y9v6h7xd3tgdp8cg8_5649n40000gn/T/pip-install-8dxelv5y/shapely_a6c74e1078cb43e38e70d49822540544/setup.py'\"'\"';f = getattr(tokenize, '\"'\"'open'\"'\"', open)(__file__) if os.path.exists(__file__) else io.StringIO('\"'\"'from setuptools import setup; setup()'\"'\"');code = f.read().replace('\"'\"'\\r\\n'\"'\"', '\"'\"'\\n'\"'\"');f.close();exec(compile(code, __file__, '\"'\"'exec'\"'\"'))' egg_info --egg-base /private/var/folders/0p/y9v6h7xd3tgdp8cg8_5649n40000gn/T/pip-pip-egg-info-8hvkr8jv\n",
      "         cwd: /private/var/folders/0p/y9v6h7xd3tgdp8cg8_5649n40000gn/T/pip-install-8dxelv5y/shapely_a6c74e1078cb43e38e70d49822540544/\n",
      "    Complete output (5 lines):\n",
      "    Traceback (most recent call last):\n",
      "      File \"<string>\", line 1, in <module>\n",
      "      File \"/private/var/folders/0p/y9v6h7xd3tgdp8cg8_5649n40000gn/T/pip-install-8dxelv5y/shapely_a6c74e1078cb43e38e70d49822540544/setup.py\", line 34, in <module>\n",
      "        from packaging.version import Version\n",
      "    ModuleNotFoundError: No module named 'packaging'\n",
      "    ----------------------------------------\u001b[0m\n",
      "\u001b[33mWARNING: Discarding https://files.pythonhosted.org/packages/a5/43/161b5040e745b396918c6465daaf22aaf5820dee802e685c69cd152470f8/Shapely-1.5.10.tar.gz#sha256=878da9a4f9220d7f0394a4d3f5a12defbd9d541f9f1f3e5eb74878edbee42a66 (from https://pypi.org/simple/shapely/). Command errored out with exit status 1: python setup.py egg_info Check the logs for full command output.\u001b[0m\n",
      "\u001b[?25h  Downloading Shapely-1.5.9.tar.gz (165 kB)\n",
      "\u001b[K     |████████████████████████████████| 165 kB 145.2 MB/s eta 0:00:01\n",
      "\u001b[?25hCollecting fiona\n",
      "  Downloading Fiona-1.8.20.tar.gz (1.3 MB)\n",
      "\u001b[K     |████████████████████████████████| 1.3 MB 127.7 MB/s eta 0:00:01\n",
      "\u001b[?25hCollecting pandas>=0.23.0\n",
      "  Downloading pandas-1.3.3.tar.gz (4.7 MB)\n",
      "\u001b[K     |████████████████████████████████| 4.7 MB 55.7 MB/s eta 0:00:01\n",
      "\u001b[?25h  Installing build dependencies ... \u001b[?25ldone\n",
      "\u001b[?25h  Getting requirements to build wheel ... \u001b[?25ldone\n",
      "\u001b[?25h    Preparing wheel metadata ... \u001b[?25ldone\n",
      "\u001b[?25hCollecting pyproj>=2.2.0\n",
      "  Downloading pyproj-3.2.1.tar.gz (213 kB)\n",
      "\u001b[K     |████████████████████████████████| 213 kB 189.2 MB/s eta 0:00:01\n",
      "\u001b[?25h  Installing build dependencies ... \u001b[?25ldone\n",
      "\u001b[?25h  Getting requirements to build wheel ... \u001b[?25ldone\n"
     ]
    },
    {
     "name": "stdout",
     "output_type": "stream",
     "text": [
      "\u001b[?25h    Preparing wheel metadata ... \u001b[?25ldone\n",
      "\u001b[?25hCollecting numpy>=1.17.3\n",
      "  Using cached numpy-1.21.2-cp38-cp38-macosx_11_0_arm64.whl (12.3 MB)\n",
      "Requirement already satisfied: pytz>=2017.3 in /opt/homebrew/lib/python3.8/site-packages (from pandas>=0.23.0->geopandas) (2021.1)\n",
      "Collecting python-dateutil>=2.7.3\n",
      "  Using cached python_dateutil-2.8.2-py2.py3-none-any.whl (247 kB)\n",
      "Requirement already satisfied: certifi in /opt/homebrew/lib/python3.8/site-packages (from pyproj>=2.2.0->geopandas) (2020.12.5)\n",
      "Collecting six>=1.5\n",
      "  Using cached six-1.16.0-py2.py3-none-any.whl (11 kB)\n",
      "Collecting attrs>=17\n",
      "  Using cached attrs-21.2.0-py2.py3-none-any.whl (53 kB)\n",
      "Collecting click>=4.0\n",
      "  Downloading click-8.0.1-py3-none-any.whl (97 kB)\n",
      "\u001b[K     |████████████████████████████████| 97 kB 34.8 MB/s eta 0:00:01\n",
      "\u001b[?25hCollecting cligj>=0.5\n",
      "  Downloading cligj-0.7.2-py3-none-any.whl (7.1 kB)\n",
      "Collecting click-plugins>=1.0\n",
      "  Using cached click_plugins-1.1.1-py2.py3-none-any.whl (7.5 kB)\n",
      "Collecting munch\n",
      "  Downloading munch-2.5.0-py2.py3-none-any.whl (10 kB)\n",
      "Requirement already satisfied: setuptools in /opt/homebrew/lib/python3.8/site-packages (from fiona->geopandas) (53.0.0)\n",
      "Building wheels for collected packages: pandas, pyproj, fiona, shapely\n",
      "  Building wheel for pandas (PEP 517) ... \u001b[?25l\\"
     ]
    }
   ],
   "source": [
    "!pip install geopandas\n",
    "import pandas as pd\n",
    "import geopandas as gpd\n",
    "from pandas.api.types import CategoricalDtype\n",
    "import numpy as np\n",
    "from sklearn.linear_model import LinearRegression\n",
    "from scipy import sparse\n",
    "\n",
    "from matplotlib import pyplot as plt\n",
    "from matplotlib.dates import date2num, num2date\n",
    "from matplotlib import dates as mdates\n",
    "from matplotlib import ticker\n",
    "from matplotlib.colors import ListedColormap\n",
    "from matplotlib.patches import Patch\n",
    "import seaborn as sns\n",
    "sns.set_theme()\n",
    "%pdb\n",
    "\n",
    "%matplotlib inline\n",
    "%config InlineBackend.figure_format = 'retina'"
   ]
  },
  {
   "cell_type": "code",
   "execution_count": null,
   "metadata": {
    "id": "tN6UJpoPsdC-"
   },
   "outputs": [],
   "source": [
    "cols = ['BOROUGH', 'NEIGHBORHOOD', 'BUILDING CLASS CATEGORY',\n",
    "       'TAX CLASS AT PRESENT', 'BLOCK', 'LOT', 'EASE-MENT',\n",
    "       'BUILDING CLASS AT PRESENT', 'ADDRESS', 'APARTMENT NUMBER', 'ZIP CODE',\n",
    "       'RESideNTIAL UNITS', 'COMMERCIAL UNITS', 'TOTAL UNITS',\n",
    "       'LAND SQUARE FEET', 'GROSS SQUARE FEET', 'YEAR BUILT',\n",
    "       'TAX CLASS AT TIME OF SALE', 'BUILDING CLASS AT TIME OF SALE',\n",
    "       'SALE PRICE', 'SALE DATE']\n",
    "cols = [col.lower().replace(\" \",\"_\") for col in cols]"
   ]
  },
  {
   "cell_type": "markdown",
   "metadata": {
    "id": "9K0AWrHck1uG"
   },
   "source": [
    "Download all real estate transaction data from [NYC.gov](https://www1.nyc.gov/site/finance/taxes/property-annualized-sales-update.page) for January 2003 to July 2020. Only closed transactions are included. Column names are the same in all files. "
   ]
  },
  {
   "cell_type": "code",
   "execution_count": null,
   "metadata": {
    "id": "TebaJ6YdsdDL"
   },
   "outputs": [],
   "source": [
    "# ex: https://www1.nyc.gov/assets/finance/downloads/pdf/rolling_sales/annualized-sales/2019/2019_manhattan.xlsx\n",
    "url_prefix = 'https://www1.nyc.gov/assets/finance/downloads/pdf/rolling_sales'\n",
    "years = range(2010,2020)\n",
    "boroughs = ['manhattan', 'brooklyn', 'queens', 'bronx', 'statenisland']\n",
    "links = []\n",
    "for borough in boroughs:\n",
    "  links += [f\"{url_prefix}/annualized-sales/{year}/{year}_{borough}.xls{'x' if year > 2017 else ''}\" for year in years ]\n",
    "  links += [url_prefix + f\"/rollingsales_{borough}.xlsx\", url_prefix + f\"/annualized-sales/2009_{borough}.xls\",\n",
    "          f\"https://www1.nyc.gov/assets/finance/downloads/pdf/09pdf/rolling_sales/sales_2008_{borough}.xls\", \n",
    "          f\"https://www1.nyc.gov/assets/finance/downloads/excel/rolling_sales/sales_2007_{borough}.xls\",\n",
    "          *[f\"https://www1.nyc.gov/assets/finance/downloads/sales_{borough if borough != 'statenisland' else 'si'}_0{n}.xls\" for n in range(3,7)] ]"
   ]
  },
  {
   "cell_type": "markdown",
   "metadata": {
    "id": "NlJGbvQrk1uP"
   },
   "source": [
    "\n",
    "Exclude any transaction with sale price under \\$100,000 as it might not be an arms length transaction or just bad data. The very last file we downloaded covers period of the last twelve months, so we need to remove duplicates in the overlapping period from the prior year.\n",
    "\n",
    "Filter transactions to only include following categories:\n",
    "* Coops\n",
    "  * `09  coops - walkup apartments`\n",
    "  * `10  coops - elevator apartments`\n",
    "  * `17  condo coops`\n",
    "* Condos\n",
    "  * `12  condos - walkup apartments`\n",
    "  * `13  condos - elevator apartments`"
   ]
  },
  {
   "cell_type": "code",
   "execution_count": null,
   "metadata": {
    "id": "NDF3IalDsdDt"
   },
   "outputs": [],
   "source": [
    "df = pd.DataFrame()\n",
    "for link in links:\n",
    "    df = df.append(pd.read_excel(link, skiprows=4, names=cols, parse_dates=[20]), ignore_index=True)\n",
    "    \n",
    "df = df[['borough', 'neighborhood', 'building_class_category', 'block','lot', 'address', 'apartment_number', \\\n",
    "         'gross_square_feet', 'sale_price', 'year_built', 'sale_date']]\n",
    "df.neighborhood = df.neighborhood.str.strip().str.title()\n",
    "borough_type = CategoricalDtype(categories=['Manhattan', 'Bronx', 'Brooklyn', 'Queens', 'Staten Island'], ordered=True)\n",
    "df['borough'] = df.borough.map({1:\"Manhattan\", 2: \"Bronx\", 3: \"Brooklyn\", 4: \"Queens\", 5: \"Staten Island\"}).astype(borough_type)"
   ]
  },
  {
   "cell_type": "markdown",
   "metadata": {
    "id": "bS2UQIAhE6OI"
   },
   "source": [
    "Read a GeoJSON file containing the geometry of every single block in New York. We only care about the center of each lot, so we discard the complex lot geometry. The file also contains lot areas which could be useful in future analysis."
   ]
  },
  {
   "cell_type": "code",
   "execution_count": null,
   "metadata": {
    "id": "bjflACgMBeXl"
   },
   "outputs": [],
   "source": [
    "print(\"latest transaction in file:\", df.sale_date.sort_values().iloc[-1])\n",
    "SFH_CATEGORIES = \"01\"\n",
    "COOP_CATEGORIES = \"09|[^-]10|17\" \n",
    "CONDO_CATEGORIES = \"12|13\"\n",
    "\n",
    "sfh = df.building_class_category.str.contains(SFH_CATEGORIES)\n",
    "coops = df.building_class_category.str.contains(COOP_CATEGORIES)\n",
    "condos = df.building_class_category.str.contains(CONDO_CATEGORIES)\n",
    "\n",
    "df['house_class'] = 'Condo'\n",
    "df.loc[coops, 'house_class'] = 'Coop'\n",
    "df.loc[sfh, 'house_class'] = 'SFH'\n",
    "\n",
    "prop_type = CategoricalDtype(categories=['Condo', 'Coop', 'SFH', ], ordered=True)\n",
    "df['house_class'] = df['house_class'].astype(prop_type)\n",
    "\n",
    "df = df[coops | condos | sfh]\n",
    "df = df[(df.sale_price > 100000)].drop_duplicates()"
   ]
  },
  {
   "cell_type": "markdown",
   "metadata": {
    "id": "q6isTKcZOGHe"
   },
   "source": [
    "Combine lat/long coordinates of every block with the transaction dataset"
   ]
  },
  {
   "cell_type": "code",
   "execution_count": null,
   "metadata": {
    "id": "M397wbjYLSDT"
   },
   "outputs": [],
   "source": [
    "#df = df.set_index(['borough', 'block']).join(lotblock).reset_index()"
   ]
  },
  {
   "cell_type": "markdown",
   "metadata": {
    "id": "N7PCYk1BK9uy"
   },
   "source": [
    "Calculate the center point of each neighborhood"
   ]
  },
  {
   "cell_type": "code",
   "execution_count": null,
   "metadata": {
    "id": "ZR_oIIM6OPna"
   },
   "outputs": [],
   "source": []
  },
  {
   "cell_type": "markdown",
   "metadata": {
    "id": "_FHFyCfbN0Z5"
   },
   "source": [
    "We need to create a unique ID to track unique houses. For condos, that is the block/lot number combination. But all Coops in the same building share the exact same lot number, so it's not a unique ID. We extract the apartment number from the ending of the address."
   ]
  },
  {
   "cell_type": "code",
   "execution_count": null,
   "metadata": {
    "id": "lxcbrWj6Mn7P"
   },
   "outputs": [],
   "source": [
    "df.loc[condos | sfh, \"uid\"] = df[condos | sfh].block.map(str) + '_' + df[condos | sfh].lot.map(str)\n",
    "df.loc[coops, \"uid\"] = df[coops].block.map(str) + '_' + \\\n",
    "               df[coops].address.str.rsplit(',',n=1,expand=True)[1] \\\n",
    "                                .str.lower() \\\n",
    "                                .str.replace('(?:unit)?(?:apt)?[^a-z0-9\\n]', '', regex=True)"
   ]
  },
  {
   "cell_type": "markdown",
   "metadata": {
    "id": "Y7g7vnU0k1ud"
   },
   "source": [
    "We convert transaction periods to quarters (our index will be quarterly as a result). If the same house sold multiple times in the same quarter, remove the first transaction(s) and only keep the last transaction. This most likely represents a contractor flip."
   ]
  },
  {
   "cell_type": "code",
   "execution_count": null,
   "metadata": {
    "id": "gOihtJQ8sdEE"
   },
   "outputs": [],
   "source": [
    "df['period'] = pd.PeriodIndex(df.sale_date, freq='Q')\n",
    "df = df.drop_duplicates(subset=['period','uid'],keep='last')\n",
    "df.groupby('period').house_class.value_counts().unstack().plot(kind='line', stacked=True,title=\"Stacked Transactions by Type\")"
   ]
  },
  {
   "cell_type": "code",
   "execution_count": null,
   "metadata": {
    "id": "BsU8uyc7Tw5b"
   },
   "outputs": [],
   "source": [
    "df[(df.borough == \"Manhattan\") & (df.block==886) & (df.apartment_number=='1B')].sort_values('sale_date')"
   ]
  },
  {
   "cell_type": "code",
   "execution_count": null,
   "metadata": {
    "id": "HLHmpYZwD1UJ"
   },
   "outputs": [],
   "source": [
    "lotblock = gpd.read_file('https://drive.google.com/uc?export=download&id=1T12uhUyAwBdwZ4EKzAjXb3X1PiY3RBIp')\n",
    "lotblock = lotblock[['BORO', 'BLOCK', 'SHAPE_AREA', 'geometry']].dropna()\n",
    "lotblock.BORO = lotblock.BORO.astype(int).map({1:\"Manhattan\", 2: \"Bronx\", 3: \"Brooklyn\", 4: \"Queens\", 5: \"Staten Island\"}).astype(borough_type)\n",
    "lotblock.BLOCK = lotblock.BLOCK.astype(int)\n",
    "lotblock.columns = ['borough', 'block', 'area', 'geometry']\n",
    "lotblock = lotblock.set_index(['borough', 'block']).to_crs(epsg=3395)\n",
    "lotblock = lotblock.join(df.set_index(['borough', 'block'])[['neighborhood', 'sale_price', 'sale_date']]).dropna()\n",
    "hoods = lotblock.dissolve(by=['borough', 'neighborhood'], aggfunc='count').set_crs(epsg=3395)\n",
    "hoods.plot(column='sale_price', linewidth=0, legend=True)"
   ]
  },
  {
   "cell_type": "markdown",
   "metadata": {
    "id": "ChDHNy03eoa8"
   },
   "source": [
    "Plot median sale prices across all of New York (hard to tell differences as Manhattan is so much more expensive)"
   ]
  },
  {
   "cell_type": "markdown",
   "metadata": {
    "id": "6SUvyMFNei49"
   },
   "source": [
    "Plot the median sale price of each neighborhood in Manhattan"
   ]
  },
  {
   "cell_type": "code",
   "execution_count": null,
   "metadata": {
    "id": "-PySQOFEcxLr"
   },
   "outputs": [],
   "source": [
    "med_px.loc['Manhattan'].plot(column=\"sale_price\", linewidth=0, legend=True)\n"
   ]
  },
  {
   "cell_type": "markdown",
   "metadata": {
    "id": "9Y0az-aZ6p3d"
   },
   "source": [
    "This loop iterates through every borough and combines neighborhoods into top 10 largest. It does this by taking the smallest neighborhood (by # of transaction) and merging it with geographically closest neighborhood (by centroid). Then it repeats until only 10 neighborhoods are left."
   ]
  },
  {
   "cell_type": "code",
   "execution_count": null,
   "metadata": {
    "id": "JqiN08HUlliA"
   },
   "outputs": [],
   "source": [
    "hood_dict = {}\n",
    "for boro in hoods.index.levels[0]:\n",
    "  print(\"Merging neighborhoods in\", boro)\n",
    "  while len(hoods.loc[boro].index) > 10:\n",
    "    smallest = hoods.loc[boro].sale_date.sort_values(ascending=True).index[0]\n",
    "    smallest_center = hoods.loc[boro].centroid.loc[smallest]\n",
    "    nearest_hood = hoods.loc[boro].centroid.distance(smallest_center).sort_values().index[1]\n",
    "    hood_dict[smallest] = nearest_hood\n",
    "    for key, value in hood_dict.items():\n",
    "      if value == smallest:\n",
    "        hood_dict[key] = nearest_hood\n",
    "    old_cnt = hoods.loc[(boro, nearest_hood), 'sale_date']\n",
    "    poly = hoods.loc[boro].loc[[nearest_hood, smallest]].unary_union\n",
    "    hoods.loc[(boro, nearest_hood), 'geometry'] = hoods.loc[(boro, nearest_hood), 'geometry'] =gpd.GeoDataFrame(geometry=[poly]).geometry.values\n",
    "    hoods.loc[(boro, nearest_hood), 'sale_date'] += hoods.loc[(boro, smallest), 'sale_date']\n",
    "    new_cnt = hoods.loc[(boro, nearest_hood), 'sale_date']\n",
    "    hoods.drop(smallest, level='neighborhood', inplace=True)"
   ]
  },
  {
   "cell_type": "code",
   "execution_count": null,
   "metadata": {
    "id": "5bKOdtKtwlZX"
   },
   "outputs": [],
   "source": [
    "hoods.plot(column='sale_date', linewidth=0, legend=True, figsize=(20,10))"
   ]
  },
  {
   "cell_type": "code",
   "execution_count": null,
   "metadata": {
    "id": "-Ia3PIHgbZQ5"
   },
   "outputs": [],
   "source": [
    "lotblock.replace({'neighborhood': hoods_dict})\n",
    "med_px = lotblock[lotblock.sale_date >= \"2020-08-31\"].dissolve(by=['borough', 'neighborhood'], aggfunc='median')\n",
    "med_px.geometry = med_px.convex_hull\n",
    "med_px.plot(column=\"sale_price\", linewidth=0, legend=True)"
   ]
  },
  {
   "cell_type": "code",
   "execution_count": null,
   "metadata": {
    "id": "F7vNUnyh6uAG"
   },
   "outputs": [],
   "source": [
    "qtr_offset = -1  # change this to -1 for latest quarter, -2 for the one before that and so on\n",
    "mr_period = np.sort(df.period.unique())[qtr_offset]\n",
    "print(\"Most recent period is\", mr_period, \"and # of transaction in this period:\")\n",
    "df[df.period == mr_period].house_class.value_counts()"
   ]
  },
  {
   "cell_type": "code",
   "execution_count": null,
   "metadata": {
    "id": "IDIvrpf8sdEY"
   },
   "outputs": [],
   "source": [
    "''' Function takes in DataFrame rpt_sales with columns `uid`, `period`, and `sale_price`. \n",
    "    Returns:\n",
    "        design matrices X, W, and Z as specified in the Case Shiller index methodology\n",
    "        array deltaT:    number of periods elapsed between each sale pair\n",
    "        array uid_key:   for each row of matrices, which house it represents\n",
    "        array periods:   list of all unique periods, so columns can be converted to Periods \n",
    "'''\n",
    "def createDesignMatrices(rpt_sales):\n",
    "    grouped = rpt_sales.groupby('uid')\n",
    "    S = np.sum(grouped.size()-1)\n",
    "    periods = list(rpt_sales.period.unique())\n",
    "    T = len(periods)\n",
    "\n",
    "    # construct blank design matrices\n",
    "    X = np.zeros((S, T))\n",
    "    deltaT = np.zeros((S,1))\n",
    "    \n",
    "    uid_key = []\n",
    "    row = 0\n",
    "    for house, group in grouped:\n",
    "      for i in range(len(group)-1):\n",
    "        first = (group.iloc[i].sale_price, periods.index(group.iloc[i].period))\n",
    "        second = (group.iloc[i+1].sale_price, periods.index(group.iloc[i+1].period))\n",
    "\n",
    "        X[row,first[1]] = -first[0]\n",
    "        X[row,second[1]] = second[0]\n",
    "        deltaT[row] = second[1] - first[1]\n",
    "\n",
    "        uid_key.append(house)\n",
    "        row += 1\n",
    "\n",
    "    W = np.reshape(-X[:,0],(-1,1))\n",
    "    X = X[:,1:]\n",
    "    Z = np.sign(X)\n",
    "\n",
    "    return sparse.csr_matrix(X), W, sparse.csr_matrix(Z), deltaT, uid_key, periods\n",
    "\n",
    "'''\n",
    "    Constructs Case Shiller repeat sales index\n",
    "    inputs: X,Z,W - design matrices as specified in the Case Shiller methodology. X and Z are sparse matrices\n",
    "            periods - array of all periods in the sample\n",
    "    outputs: DataFrame with index of periods and columns `weighted` and `unweighted` for the house price index\n",
    "            first period index value is guaranteed to be 1.0 by convention\n",
    "'''\n",
    "def buildIndex(X, Z, W, deltaT, periods):\n",
    "    #1) Estimate b by running regression using instrumental variables b = (Z'X)^-1 x X'w\n",
    "    coeff = sparse.linalg.inv(Z.T * X) * Z.T * W\n",
    "    #coeff = np.linalg.inv(Z.T.dot(X)).dot(Z.T).dot(W)\n",
    "    idx = 1/(coeff.reshape(X.shape[1]))\n",
    "    unweighted = pd.DataFrame([1,*idx], index=periods, columns=['unweighted'])\n",
    "\n",
    "    #2) Calculate weights for each observation \n",
    "    resid = W - X.dot(coeff)\n",
    "    reg = LinearRegression().fit(deltaT, resid**2)\n",
    "    weights = np.sqrt(reg.predict(deltaT).clip(min=0.00001))\n",
    "    Omega = sparse.diags(np.reshape(1/weights,X.shape[0]))\n",
    "\n",
    "    #3) Estimate b again incorporating weights b = (Z'OmegaX)^-1 x Z'Omega w\n",
    "    coeff_weighted = sparse.linalg.inv(Z.T * Omega * X) * Z.T * Omega * W\n",
    "    idx_weighted = 1/(coeff_weighted.reshape(X.shape[1]))\n",
    "    weighted = pd.DataFrame([1,*idx_weighted],index=periods, columns=['weighted'])\n",
    "\n",
    "    return pd.concat([unweighted, weighted], axis=1), weights\n",
    "\n",
    "'''\n",
    "    Function generates unweighted, weighted, and smoothed (rolling) values for price index\n",
    "    Takes in DataFrame and column key, an index will be returned for each unique value in df.key\n",
    "'''\n",
    "def generateIndexValues(df, key):\n",
    "    grouped = df.groupby(key)\n",
    "    results = None\n",
    "    for name, group in grouped:\n",
    "        X, W, Z, deltaT, uid_key, periods = createDesignMatrices(group)\n",
    "        try:\n",
    "            idx,weights = buildIndex(X,Z,W, deltaT, periods)\n",
    "            idx[key] = name\n",
    "            \n",
    "            smoothed = idx.weighted.rolling(4,\n",
    "                win_type='gaussian',\n",
    "                min_periods=1,\n",
    "                center=True).mean(std=2).rename(\"smoothed\")\n",
    "            \n",
    "            idx = pd.concat([idx,smoothed], axis=1)\n",
    "            \n",
    "            if results is None:\n",
    "                results = idx\n",
    "            else:\n",
    "                results = pd.concat([results, idx])\n",
    "            \n",
    "        except Exception as e:\n",
    "            print(name, e)\n",
    "      \n",
    "    return results\n",
    "\n",
    "def plot_standings(data, title, figsize=(15,2.5)):\n",
    "    fig, ax = plt.subplots(figsize=figsize)\n",
    "    ax.set_title(title)\n",
    "    bars = ax.bar(data.index, data, width=.825, capsize=2, color=[.7,.7,.7])\n",
    "\n",
    "    ax.axhline(0.0, linestyle=':', color='k', lw=1)\n",
    "\n",
    "    ax.yaxis.set_major_formatter(ticker.StrMethodFormatter(\"{x:.1%}\"))\n",
    "\n",
    "    ax.spines['top'].set_visible(False)\n",
    "    ax.spines['left'].set_visible(False)\n",
    "    ax.spines['bottom'].set_visible(False)\n",
    "    ax.spines['right'].set_visible(False)\n",
    "\n",
    "    ax.set_xticklabels(data.index, rotation=90, fontsize=11)\n",
    "    fig.set_facecolor('w')\n",
    "\n",
    "''' Helper function to create a time series index plot. \n",
    "Result is a dataframe with cols weighted and smoothed'''\n",
    "def plot_idx(result, ax, area_name, ylim=(0.5,3.0)):\n",
    "    index = result.index.to_timestamp()\n",
    "    ax.set_title(f\"{area_name} House Price Index\")\n",
    "\n",
    "    ax.plot(index, result.weighted.values, \n",
    "                   c='k',\n",
    "                   linestyle=':',\n",
    "                   alpha=.5, label=\"Actual\")\n",
    "\n",
    "    ax.plot(index, result.smoothed.values, label=\"Smoothed\")\n",
    "    \n",
    "    ax.axhline(1.0, c='k', lw=1, alpha=.25)\n",
    "    ax.legend(frameon=False)\n",
    "    ax.grid(which='major', axis='y', c='k', alpha=.1, zorder=-2)\n",
    "    \n",
    "    ax.spines['top'].set_visible(False)\n",
    "    ax.spines['left'].set_visible(False)\n",
    "    ax.spines['bottom'].set_visible(False)\n",
    "    ax.spines['right'].set_visible(False)\n",
    "    \n",
    "    ax.yaxis.set_major_locator(ticker.MultipleLocator(0.5))\n",
    "    ax.yaxis.set_major_formatter(ticker.StrMethodFormatter(\"{x:.1f}\"))\n",
    "    \n",
    "    ax.set_ylim(ylim[0],ylim[1])\n",
    "    ax.margins(0)"
   ]
  },
  {
   "cell_type": "markdown",
   "metadata": {
    "id": "f-HZVuOCrSiH"
   },
   "source": [
    "## Calculate the index values for NYC"
   ]
  },
  {
   "cell_type": "markdown",
   "metadata": {
    "id": "2FpQcpXxk1vM"
   },
   "source": [
    "Filter for only homes that have sold more than once (not technically required but reduces memory usage), sort by date"
   ]
  },
  {
   "cell_type": "code",
   "execution_count": null,
   "metadata": {
    "id": "l8FLUpBpsdEM"
   },
   "outputs": [],
   "source": [
    "rpt_sales = df[['period', 'uid', 'sale_price', 'borough', 'neighborhood', 'sale_date', 'house_class']] \\\n",
    "                .groupby('uid') \\\n",
    "                .filter(lambda x: len(x) >= 2) \\\n",
    "                .sort_values('sale_date')\n",
    "\n",
    "rpt_sales.groupby('period').house_class.value_counts().unstack().plot(kind='line', stacked=True,title=\"Repeat Transactions Only by Type\")"
   ]
  },
  {
   "cell_type": "markdown",
   "metadata": {
    "id": "f0R6dmVZ8XDW"
   },
   "source": [
    "Number of repeat transactions in the most recent period"
   ]
  },
  {
   "cell_type": "code",
   "execution_count": null,
   "metadata": {
    "id": "B7obfAz-8RQ_"
   },
   "outputs": [],
   "source": [
    "rpt_sales[rpt_sales.period == mr_period].house_class.value_counts()"
   ]
  },
  {
   "cell_type": "markdown",
   "metadata": {
    "id": "c8OZ166hk1vS"
   },
   "source": [
    "Build design matrices, and construct the index values. Indices are constructed using the repeat sales methodology, meaning that we only look at homes that have sold several times and track the percentage change in price between the first sale and the next sale, which ideally represents an apples-to-apples comparison. See Case Shiller methodology for full description. Known issues is that if the house was remodeled or otherwise improved, we don't have this information so it wouldn't get incorporated. But homes also on average lose value to depreciation/age, and with thousands of transactions this represents the best price comparison possible."
   ]
  },
  {
   "cell_type": "code",
   "execution_count": null,
   "metadata": {
    "id": "R1kyj2kDk1vS"
   },
   "outputs": [],
   "source": [
    "X, W, Z, deltaT, uid_key, periods = createDesignMatrices(rpt_sales)\n",
    "idx_all, weights = buildIndex(X, Z, W, deltaT, periods)"
   ]
  },
  {
   "cell_type": "markdown",
   "metadata": {
    "id": "p3hoaQ2Ok1vm"
   },
   "source": [
    "Plot the weighted house price index along with a 1-year/4-quarter rolling average."
   ]
  },
  {
   "cell_type": "code",
   "execution_count": null,
   "metadata": {
    "id": "CgW2dNWBBHqG",
    "scrolled": false
   },
   "outputs": [],
   "source": [
    "smoothed = idx_all.weighted.rolling(4,\n",
    "        win_type='gaussian',\n",
    "        min_periods=1,\n",
    "        center=True).mean(std=2).rename(\"smoothed\")\n",
    "\n",
    "fig, ax = plt.subplots(figsize=(600/72,400/72))\n",
    "idx_all = pd.concat([idx_all, smoothed], axis=1)\n",
    "plot_idx(idx_all, ax, \"NYC\")"
   ]
  },
  {
   "cell_type": "markdown",
   "metadata": {
    "id": "uWR61-232l5w"
   },
   "source": [
    "# Borough"
   ]
  },
  {
   "cell_type": "markdown",
   "metadata": {
    "id": "rNJeazES3I69"
   },
   "source": [
    "Create a separate index for each borough, like Manhattan and Brooklyn"
   ]
  },
  {
   "cell_type": "code",
   "execution_count": null,
   "metadata": {
    "id": "xDfnMD5w2SC7"
   },
   "outputs": [],
   "source": [
    "borough_idx = generateIndexValues(rpt_sales,'borough')"
   ]
  },
  {
   "cell_type": "code",
   "execution_count": null,
   "metadata": {
    "id": "VEL8xF412Wj2"
   },
   "outputs": [],
   "source": [
    "fig, axes = plt.subplots(nrows=2, ncols=3, figsize=(15, 6), sharey=True)\n",
    "\n",
    "plot_idx(idx_all, axes.flat[0], \"All\", ylim=(1,3.5))\n",
    "\n",
    "for row, (name, idx) in enumerate(borough_idx.groupby('borough'),1):\n",
    "    plot_idx(idx, axes.flat[row], name, ylim=(1,3.5))\n",
    "                                  \n",
    "fig.tight_layout()"
   ]
  },
  {
   "cell_type": "code",
   "execution_count": null,
   "metadata": {
    "id": "GcyhdK_r2YSy"
   },
   "outputs": [],
   "source": [
    "mr = borough_idx.set_index('borough',append=True).smoothed.unstack('borough').pct_change(4).iloc[qtr_offset]\n",
    "mr.loc['All'] = idx_all.smoothed.pct_change(4).iloc[qtr_offset:].values[0]\n",
    "plot_standings(mr, title=f\"Change in Housing Prices, {idx_all.index[qtr_offset]} YoY\", figsize=(5,2.5))\n",
    "mr.map(\"{:,.0%}\".format)"
   ]
  },
  {
   "cell_type": "code",
   "execution_count": null,
   "metadata": {
    "id": "VcEnmM3l2bAE"
   },
   "outputs": [],
   "source": [
    "mr = borough_idx.set_index('borough',append=True).smoothed.unstack('borough').pct_change().iloc[qtr_offset]\n",
    "mr.loc['All'] = idx_all.smoothed.pct_change().iloc[qtr_offset:].values[0]\n",
    "plot_standings(mr, title=f\"Change in Housing Prices, {idx_all.index[qtr_offset]} QoQ\", figsize=(5,2.5))\n",
    "mr.map(\"{:,.0%}\".format)"
   ]
  },
  {
   "cell_type": "markdown",
   "metadata": {
    "id": "MRcpxBFPIbUA"
   },
   "source": [
    "## Calculate index values for SFH, Condos, and Coops"
   ]
  },
  {
   "cell_type": "markdown",
   "metadata": {
    "id": "iCLgvFfVi9co"
   },
   "source": [
    "We use the same methodology to generate separate indexes for Condos and Coops in Manhattan. As shown above, there are 4x more condo transactions than coop transactions in our dataset, so the condo index has higher statistical validity. "
   ]
  },
  {
   "cell_type": "code",
   "execution_count": null,
   "metadata": {
    "id": "ieeL9eJzIaQF"
   },
   "outputs": [],
   "source": [
    "house_class_idx = generateIndexValues(rpt_sales,'house_class')"
   ]
  },
  {
   "cell_type": "code",
   "execution_count": null,
   "metadata": {
    "id": "CGKemRQUPFzo"
   },
   "outputs": [],
   "source": [
    "fig, axes = plt.subplots(nrows=1, ncols=4, figsize=(15, 6), sharey=True)\n",
    "\n",
    "plot_idx(idx_all, axes.flat[0], \"All\", ylim=(1,3.5))\n",
    "\n",
    "for row, (name, idx) in enumerate(house_class_idx.groupby('house_class'),1):\n",
    "    plot_idx(idx, axes.flat[row], name, ylim=(1,3.5))\n",
    "                                  \n",
    "fig.tight_layout()"
   ]
  },
  {
   "cell_type": "markdown",
   "metadata": {
    "id": "BLj0ZWSvClRz"
   },
   "source": [
    "Show the year over year change in prices:"
   ]
  },
  {
   "cell_type": "code",
   "execution_count": null,
   "metadata": {
    "id": "xkabz8XSfPqm"
   },
   "outputs": [],
   "source": [
    "mr = house_class_idx.set_index('house_class',append=True).smoothed.unstack('house_class').pct_change(4).iloc[qtr_offset]\n",
    "mr.loc['All'] = idx_all.smoothed.pct_change(4).iloc[qtr_offset:].values[0]\n",
    "plot_standings(mr, title=f\"Change in Housing Prices, {idx_all.index[qtr_offset]} YoY\", figsize=(5,2.5))\n",
    "mr.map(\"{:,.0%}\".format)"
   ]
  },
  {
   "cell_type": "markdown",
   "metadata": {
    "id": "_i9pbI-yCiyV"
   },
   "source": [
    "Show the Quarter over Quarter change:"
   ]
  },
  {
   "cell_type": "code",
   "execution_count": null,
   "metadata": {
    "id": "YL6P81ajCaUG"
   },
   "outputs": [],
   "source": [
    "mr = house_class_idx.set_index('house_class',append=True).smoothed.unstack('house_class').pct_change().iloc[qtr_offset]\n",
    "mr.loc['All'] = idx_all.smoothed.pct_change().iloc[qtr_offset:].values[0]\n",
    "plot_standings(mr, title=f\"Change in Housing Prices, {idx_all.index[qtr_offset]} QoQ\", figsize=(5,2.5))\n",
    "mr.map(\"{:,.0%}\".format)"
   ]
  },
  {
   "cell_type": "markdown",
   "metadata": {
    "id": "Ke5zyzkcrYJN"
   },
   "source": [
    "## Calculate index values for each neighborhood"
   ]
  },
  {
   "cell_type": "markdown",
   "metadata": {
    "id": "QtejnwsJk1wC"
   },
   "source": [
    "Combine some of the smaller neighborhoods together and eliminate very tiny neighborhoods. \n",
    "\n",
    "Here are the reasons why certain neighborhoods were combined:\n",
    "* All UES and UWS subdivions merged together as some were too few or generating volatile values\n",
    "* Chinatown and Little Italy both had way too few data transactions on their own. Lower East Side was generating too volatile index values and is adjancent to both - merged together\n",
    "* Javits Center (now known as \"Hudson Yards\") only had 119 datapoints in last 10 years. Midtown CBD has very few transactions as well. Fashion district and Gramercy were generating volatile index values. All three merged together as Midtown South.\n",
    "* Southbridge and Civic Center are tiny neighborhoods below Tribeca with few transactions, merged with Financial District.\n",
    "* Harlem, East, West and Upper had too few transactions and generated volatile values on their own, merged together\n",
    "* Kips Bay was generating very volatile index values. Kips Bay merged with Flatiron (I debated merging with Murray Hill or Gramercy). \n",
    "* Manhattan Valley, Morningside, and Inwood merged together as too few values\n",
    "\n",
    "Brooklyn has a LOT of different neighborhoods and much lower transaction volume per neighborhood. Many need to be removed or grouped to generate valid results.\n",
    "* Marine Park, Bush Terminal, and Navy Yard have zero datapoints and must be excluded (otherwise model returns infinite values)\n",
    "* Red Hook is a singular matrix due to very few listings, must be classified with others\n",
    "\n"
   ]
  },
  {
   "cell_type": "code",
   "execution_count": null,
   "metadata": {
    "id": "Zo6UBSyMk1wC"
   },
   "outputs": [],
   "source": [
    "# exclude neighborhoods with very few datapoints\n",
    "FILTERED_NEIGHBORHOODS=['Manhattan-Unknown',\n",
    "                        'Brooklyn-Unknown',\n",
    "                        'Roosevelt Island',\n",
    "                        'Bush Terminal',\n",
    "                        'Navy Yard',\n",
    "                        'Staten Island Unknown',\n",
    "                        ]\n",
    "COMBINED_NEIGHBORHOODS = {\n",
    "    'Chinatown':                 'Chinatown/Little Italy/LES',\n",
    "    'Little Italy':              'Chinatown/Little Italy/LES',\n",
    "    'Lower East Side':           'Chinatown/Little Italy/LES',\n",
    "    'East Village':              'East Village/Alphabet City',\n",
    "    'Alphabet City':             'East Village/Alphabet City',\n",
    "    'Civic Center':              'Financial',\n",
    "    'Southbridge':               'Financial',\n",
    "    'Kips Bay':                  'Flatiron/Kips Bay',\n",
    "    'Flatiron':                  'Flatiron/Kips Bay',\n",
    "    'Greenwich Village-West':    'Greenwich Village',\n",
    "    'Greenwich Village-Central': 'Greenwich Village',\n",
    "    'Harlem-West':               'Harlem',\n",
    "    'Harlem-Upper':              'Harlem',\n",
    "    'Harlem-East':               'Harlem',\n",
    "    'Harlem-Central':            'Harlem',\n",
    "    'Javits Center':             'Midtown South',\n",
    "    'Fashion':                   'Midtown South',\n",
    "    'Midtown Cbd':               'Midtown South',\n",
    "    'Gramercy':                  'Midtown South',\n",
    "    'Murray Hill':               'Midtown South',\n",
    "    'Upper East Side (96-110)':  'Upper East Side',\n",
    "    'Upper East Side (79-96)':   'Upper East Side',\n",
    "    'Upper East Side (59-79)':   'Upper East Side',\n",
    "    'Upper West Side (59-79)':   'Upper West Side',\n",
    "    'Upper West Side (79-96)':   'Upper West Side',\n",
    "    'Upper West Side (96-116)':  'Upper West Side',\n",
    "    'Manhattan Valley':          'Washington Heights',\n",
    "    'Morningside Heights':       'Washington Heights',\n",
    "    'Inwood':                    'Washington Heights',\n",
    "    'Washington Heights Upper':  'Washington Heights',\n",
    "    'Washington Heights Lower':  'Washington Heights',\n",
    "    'Manhattan Beach':           'Brooklyn South',\n",
    "    'Gowanus':                   'Brooklyn Other',\n",
    "    'Marine Park':               'Brooklyn South',\n",
    "    'Bush Terminal':             'Brooklyn Other',\n",
    "    'Flatbush-Lefferts Garden':  'Flatbush',\n",
    "    'Navy Yard':                 'Brooklyn Other',\n",
    "    'Ocean Parkway-South':       'Brooklyn Other',\n",
    "    'Ocean Parkway-North':       'Brooklyn Other',\n",
    "    'Wyckoff Heights':           'Brooklyn Other',\n",
    "    'Old Mill Basin':            'Brooklyn Other',\n",
    "    'Ocean Hill':                'Brooklyn Other',\n",
    "    'Bushwick':                  'Brooklyn Other',\n",
    "    'Midwood':                   'Brooklyn Other',\n",
    "    'Canarsie':                  'Brooklyn Other',\n",
    "    'Bath Beach':                'Bay Ridge',\n",
    "    'Bensonhurst':               'Bay Ridge',\n",
    "    'Dyker Heights':             'Bay Ridge',\n",
    "    'Borough Park':              'Bay Ridge',\n",
    "    'Kensington':                'Brooklyn Other',\n",
    "    'Coney Island':              'Brooklyn South',\n",
    "    'Red Hook':                  'Brooklyn Other',\n",
    "    'Manhattan Beach':           'Brooklyn South',\n",
    "    'Sheepshead Bay':            'Brooklyn South',\n",
    "    'Bergen Beach':              'Brooklyn South',\n",
    "    'Madison':                   'Brooklyn South',\n",
    "    'Gravesend':                 'Brooklyn South',\n",
    "    'Marine Park':               'Brooklyn South',\n",
    "    'Brighton Beach':            'Brooklyn South',\n",
    "    'Flatbush-East':             'Flatbush',\n",
    "    'Flatbush-Central':          'Flatbush',\n",
    "    'Flatbush-North':            'Flatbush',\n",
    "    'Flatbush-Lefferts Garden':  'Flatbush',\n",
    "    'Williamsburg-Central':      'Williamsburg',\n",
    "    'Williamsburg-East':         'Williamsburg',\n",
    "    'Williamsburg-North':        'Williamsburg',\n",
    "    'Williamsburg-South':        'Williamsburg',\n",
    "    'Cobble Hill-West':          'Brooklyn-Downtown',\n",
    "    'Park Slope South':          'Park Slope',\n",
    "    'Windsor Terrace':           'Park Slope',\n",
    "    'Downtown-Fulton Mall':      'Brooklyn-Downtown',\n",
    "    'Downtown-Metrotech':        'Brooklyn-Downtown',\n",
    "    'Downtown-Fulton Ferry':     'Brooklyn-Downtown',\n",
    "    'Boerum Hill':               'Brooklyn-Downtown',\n",
    "    'Clinton Hill':              'Brooklyn-Downtown',\n",
    "    'Cobble Hill':               'Brooklyn-Downtown',\n",
    "    'Brooklyn Heights':          'Brooklyn-Downtown',\n",
    "    'Gowanus':                   'Brooklyn-Downtown',\n",
    "}\n",
    "filtered = rpt_sales.neighborhood.isin(FILTERED_NEIGHBORHOODS)\n",
    "neighborhood_sales = rpt_sales[~filtered].replace({\"neighborhood\": hoods_dict})\n",
    "neighborhood_sales.groupby('neighborhood').size().sort_values().plot.bar(figsize=(15,3), title=\"Number of repeat sales in dataset\")"
   ]
  },
  {
   "cell_type": "markdown",
   "metadata": {
    "id": "gIzWv30K8rFt"
   },
   "source": [
    "Show the number of repeat transactions in each neighborhood for the most recent period."
   ]
  },
  {
   "cell_type": "code",
   "execution_count": null,
   "metadata": {
    "id": "Dc-6wlf_6OKX"
   },
   "outputs": [],
   "source": [
    "neighborhood_sales[neighborhood_sales.period==mr_period].groupby('neighborhood').size().sort_values(ascending=False)"
   ]
  },
  {
   "cell_type": "markdown",
   "metadata": {
    "collapsed": true,
    "id": "I_ikbvjTk1wM"
   },
   "source": [
    "Create index values for every neighborhood, along with rolling averages"
   ]
  },
  {
   "cell_type": "code",
   "execution_count": null,
   "metadata": {
    "id": "aFfxycWDk1wN",
    "scrolled": false
   },
   "outputs": [],
   "source": [
    "neighborhood_idx = generateIndexValues(neighborhood_sales,'neighborhood')"
   ]
  },
  {
   "cell_type": "markdown",
   "metadata": {
    "id": "rPGEsN9Wk1wT"
   },
   "source": [
    "Display graph indices for all neighborhoods, in alphabetical order"
   ]
  },
  {
   "cell_type": "code",
   "execution_count": null,
   "metadata": {
    "id": "rv7u1Rxak1wU",
    "scrolled": false
   },
   "outputs": [],
   "source": [
    "ncols = 3\n",
    "nrows = int(np.ceil(len(neighborhood_idx.groupby('neighborhood').groups) / ncols))\n",
    "\n",
    "fig, axes = plt.subplots(nrows=nrows, ncols=ncols, figsize=(15, nrows*3), sharey=False)\n",
    "\n",
    "for row, (name, idx) in enumerate(neighborhood_idx.groupby('neighborhood')):\n",
    "    ylim = (0, max(4.0, idx.smoothed.max()))\n",
    "    plot_idx(idx, axes.flat[row], name, ylim=ylim)\n",
    "                                  \n",
    "fig.tight_layout()"
   ]
  },
  {
   "cell_type": "markdown",
   "metadata": {
    "id": "x0ZeLVtuk1wf"
   },
   "source": [
    "Calculate the year over year price change for each neighborhood, sort values, and plot:"
   ]
  },
  {
   "cell_type": "code",
   "execution_count": null,
   "metadata": {
    "id": "Ichm906Lk1wf"
   },
   "outputs": [],
   "source": [
    "mr = neighborhood_idx.set_index('neighborhood',append=True).smoothed.unstack('neighborhood').pct_change(4).iloc[qtr_offset]\n",
    "mr.sort_values(inplace=True)\n",
    "plot_standings(mr, title=f\"Change in Housing Prices, {neighborhood_idx.index[qtr_offset]} YoY\")"
   ]
  },
  {
   "cell_type": "markdown",
   "metadata": {
    "id": "IcQX_5Muk1wk"
   },
   "source": [
    "Print the percent change in house values as well for reference:"
   ]
  },
  {
   "cell_type": "code",
   "execution_count": null,
   "metadata": {
    "id": "SqAIR0eRk1wk"
   },
   "outputs": [],
   "source": [
    "mr.map('{:,.0%}'.format)"
   ]
  },
  {
   "cell_type": "markdown",
   "metadata": {
    "id": "FIcmPbE7Cx_K"
   },
   "source": [
    "Show the Quarter over Quarter change:"
   ]
  },
  {
   "cell_type": "code",
   "execution_count": null,
   "metadata": {
    "id": "Vmu3YQONSgmM"
   },
   "outputs": [],
   "source": [
    "mr = neighborhood_idx.set_index('neighborhood',append=True).smoothed.unstack('neighborhood').pct_change().iloc[qtr_offset]\n",
    "mr.sort_values(inplace=True)\n",
    "plot_standings(mr, title=f\"Change in Housing Prices, {neighborhood_idx.index[qtr_offset]} QoQ\")"
   ]
  },
  {
   "cell_type": "code",
   "execution_count": null,
   "metadata": {
    "id": "D0BSHeOxCwjC"
   },
   "outputs": [],
   "source": [
    "mr.map('{:,.0%}'.format)"
   ]
  },
  {
   "cell_type": "code",
   "execution_count": null,
   "metadata": {
    "id": "eenIlnGc1cj3"
   },
   "outputs": [],
   "source": []
  }
 ],
 "metadata": {
  "colab": {
   "collapsed_sections": [],
   "name": "NYC_price_index_on_voytov.ipynb",
   "provenance": []
  },
  "kernelspec": {
   "display_name": "Python 3",
   "language": "python",
   "name": "python3"
  },
  "language_info": {
   "codemirror_mode": {
    "name": "ipython",
    "version": 3
   },
   "file_extension": ".py",
   "mimetype": "text/x-python",
   "name": "python",
   "nbconvert_exporter": "python",
   "pygments_lexer": "ipython3",
   "version": "3.9.2"
  }
 },
 "nbformat": 4,
 "nbformat_minor": 1
}
