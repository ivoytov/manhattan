{
 "cells": [
  {
   "cell_type": "code",
   "execution_count": 1,
   "id": "abandoned-lease",
   "metadata": {},
   "outputs": [],
   "source": [
    "using CSV, DataFrames, LinearAlgebra, Dates, Statistics, VegaLite, Plots, CategoricalArrays, StatsPlots, URIParser\n",
    "using FilePaths, URIParser, Distributions"
   ]
  },
  {
   "cell_type": "code",
   "execution_count": 2,
   "id": "according-driver",
   "metadata": {},
   "outputs": [
    {
     "data": {
      "text/plain": [
       "pct_change (generic function with 1 method)"
      ]
     },
     "execution_count": 2,
     "metadata": {},
     "output_type": "execute_result"
    }
   ],
   "source": [
    "function pct_change(input, t)\n",
    "    res = @view(input[t + 1:end]) ./ @view(input[1:end - t]) .- 1\n",
    "    [repeat([missing], t)..., res]'\n",
    "end"
   ]
  },
  {
   "cell_type": "code",
   "execution_count": 4,
   "id": "enclosed-appraisal",
   "metadata": {},
   "outputs": [
    {
     "data": {
      "text/plain": [
       "\"nyc_lotblock.geojson\""
      ]
     },
     "execution_count": 4,
     "metadata": {},
     "output_type": "execute_result"
    }
   ],
   "source": [
    "transactions = \"https://drive.google.com/uc?export=download&id=1qY0aUZd98KS0J7JOqWdPoa27DbiwPz1i\"\n",
    "geojson = \"https://drive.google.com/uc?export=download&id=1T12uhUyAwBdwZ4EKzAjXb3X1PiY3RBIp\"\n",
    "transactions_filename = \"nyc_real_estate_211231.csv\"\n",
    "geojson_filename = \"nyc_lotblock.geojson\"\n",
    "\n",
    "#download(transactions, transactions_filename)\n",
    "#download(geojson, geojson_filename)"
   ]
  },
  {
   "cell_type": "code",
   "execution_count": 149,
   "id": "cross-trick",
   "metadata": {},
   "outputs": [
    {
     "data": {
      "text/plain": [
       "calc_index (generic function with 1 method)"
      ]
     },
     "execution_count": 149,
     "metadata": {},
     "output_type": "execute_result"
    }
   ],
   "source": [
    "df = CSV.read(transactions_filename, \n",
    "    DataFrame; select=[:block, :lot, :uid, :sale_price, :sale_date, :borough, :house_class, :neighborhood],\n",
    "    types=Dict(:uid=>String, :sale_price=>Int64, :sale_date=>Date)) |> \n",
    "    df -> sort(df, [:uid, :sale_date]) |>\n",
    "    df -> df #[df.sale_date .> Date(\"2018-12-31\"), :]\n",
    "df.sale_date = Dates.lastdayofquarter.(df.sale_date)\n",
    "dropmissing!(df)\n",
    "\n",
    "grouped = groupby(df, [:borough, :uid])\n",
    "df = df[combine(grouped, :sale_price => (x -> median(x) / 4 .< x .< median(x) * 4) => :is_clean).is_clean, :]\n",
    "grouped = groupby(df, [:borough, :uid])\n",
    "grouped = grouped[combine(grouped, nrow).nrow .> 1]\n",
    "df = combine(grouped, names(df)...)\n",
    "\n",
    "function calc_index(df)\n",
    "    grouped = groupby(df, [:borough, :uid])\n",
    "\n",
    "    rng = sort(unique(df.sale_date))\n",
    "\n",
    "    n = sum(combine(grouped, gp -> nrow(gp) - 1).x1)\n",
    "    p = size(rng, 1)  # degrees of freedom aka num of periods\n",
    "    X = zeros(Int64, (n, p))   # first column of X will become Y vector\n",
    "    Δ = zeros(Int64, (n, 1))\n",
    "    row = 1\n",
    "\n",
    "    for group in grouped\n",
    "        for i in 1:size(group,1)-1\n",
    "            buy = group[i, :]\n",
    "            sell = group[i+1, :]\n",
    "            q₁ = findfirst(rng .== buy.sale_date)\n",
    "            q₂ = findfirst(rng .== sell.sale_date)\n",
    "            X[row, q₁] = -buy.sale_price\n",
    "            X[row, q₂] = sell.sale_price\n",
    "            Δ[row] = q₂ - q₁ \n",
    "            row += 1\n",
    "        end\n",
    "    end\n",
    "\n",
    "    Y = -X[:, 1]\n",
    "    X = X[:, 2:end]\n",
    "    Z = sign.(X)\n",
    "    \n",
    "    # check for periods with no transactions (leads to singular matrix)\n",
    "    s = sum(Z, dims=1)\n",
    "    skip = [i for (i, k) in enumerate(s) if k == 0]\n",
    "    X = X[:, setdiff(1:end, skip)]\n",
    "    Z = Z[:, setdiff(1:end, skip)]\n",
    "    rng = rng[setdiff(1:end, skip)]\n",
    "\n",
    "    β = inv(Z'X)Z'Y\n",
    "\n",
    "    e = (Y - X * β)[:]\n",
    "    h = inv(Δ' * Δ) * Δ' * e.^2\n",
    "    h = max.(h, 0)\n",
    "\n",
    "    w = sqrt.(Δ * h)[:]\n",
    "    ω = 1 ./ w\n",
    "    Ω = Diagonal(w)\n",
    "\n",
    "    β = inv(Z' * inv(Ω) * X) * Z' * inv(Ω) * Y\n",
    "    \n",
    "    # compute confidence interval\n",
    "    û = Y - X * β\n",
    "    V = Z' * û * û' * Z\n",
    "    Var = inv(Z' * X) * V * inv(X' * Z)\n",
    "    t = quantile(TDist(p), 0.68)\n",
    "    se = sqrt.(diag(Var))\n",
    "    insert!(β, 1, 1)    # index starts at 1\n",
    "    insert!(se, 1, 0)   # std error of first period is 0\n",
    "    return DataFrame(index=1 ./ β, \n",
    "        ci₀ = 1 ./ (β - t * se), \n",
    "        ci₁ = 1 ./ (β + t * se), \n",
    "        dates=rng)\n",
    "end"
   ]
  },
  {
   "cell_type": "code",
   "execution_count": 150,
   "id": "stuck-youth",
   "metadata": {
    "scrolled": false
   },
   "outputs": [
    {
     "data": {
      "application/vnd.vegalite.v4+json": {
       "data": {
        "values": [
         {
          "ci₀": 1,
          "ci₁": 1,
          "dates": "2003-03-31",
          "index": 1
         },
         {
          "ci₀": 1.0646974842905903,
          "ci₁": 1.0502083582324104,
          "dates": "2003-06-30",
          "index": 1.057403289081734
         },
         {
          "ci₀": 1.121939546216794,
          "ci₁": 1.0988747378774557,
          "dates": "2003-09-30",
          "index": 1.1102873694512037
         },
         {
          "ci₀": 1.1726465340622239,
          "ci₁": 1.141960587186834,
          "dates": "2003-12-31",
          "index": 1.1571001508693712
         },
         {
          "ci₀": 1.228698432715925,
          "ci₁": 1.1829739997609456,
          "dates": "2004-03-31",
          "index": 1.205402756921801
         },
         {
          "ci₀": 1.3123905410439591,
          "ci₁": 1.2571773213633877,
          "dates": "2004-06-30",
          "index": 1.2841907381473439
         },
         {
          "ci₀": 1.3856398372951386,
          "ci₁": 1.3295353153746832,
          "dates": "2004-09-30",
          "index": 1.3570079236048047
         },
         {
          "ci₀": 1.4060849488176688,
          "ci₁": 1.3462529118723359,
          "dates": "2004-12-31",
          "index": 1.3755185972779476
         },
         {
          "ci₀": 1.4751315657385928,
          "ci₁": 1.4084077369479562,
          "dates": "2005-03-31",
          "index": 1.4409976713455794
         },
         {
          "ci₀": 1.5620458777976687,
          "ci₁": 1.4762705120011668,
          "dates": "2005-06-30",
          "index": 1.5179474234665566
         },
         {
          "ci₀": 1.6384532615045595,
          "ci₁": 1.5546216165121867,
          "dates": "2005-09-30",
          "index": 1.5954369723781492
         },
         {
          "ci₀": 1.7159118300998866,
          "ci₁": 1.6280537716446493,
          "dates": "2005-12-31",
          "index": 1.670828626554282
         },
         {
          "ci₀": 1.6787809266643918,
          "ci₁": 1.6112156658489174,
          "dates": "2006-03-31",
          "index": 1.6443045167434096
         },
         {
          "ci₀": 1.7436854448591166,
          "ci₁": 1.6563290647620077,
          "dates": "2006-06-30",
          "index": 1.6988850335491417
         },
         {
          "ci₀": 1.8405617018003126,
          "ci₁": 1.7367820298625776,
          "dates": "2006-09-30",
          "index": 1.787166528196124
         },
         {
          "ci₀": 1.7949282146320051,
          "ci₁": 1.7261121674931668,
          "dates": "2006-12-31",
          "index": 1.7598477125008722
         },
         {
          "ci₀": 1.838902596064436,
          "ci₁": 1.7106950266470116,
          "dates": "2007-03-31",
          "index": 1.7724834530245774
         },
         {
          "ci₀": 1.8386106080647457,
          "ci₁": 1.7330960754522309,
          "dates": "2007-06-30",
          "index": 1.7842947988014453
         },
         {
          "ci₀": 1.8878402852975356,
          "ci₁": 1.7705719078807132,
          "dates": "2007-09-30",
          "index": 1.8273266101321832
         },
         {
          "ci₀": 1.8243299720305868,
          "ci₁": 1.7240730270239417,
          "dates": "2007-12-31",
          "index": 1.77278516448517
         },
         {
          "ci₀": 1.9128207525038647,
          "ci₁": 1.7623638873170466,
          "dates": "2008-03-31",
          "index": 1.834512574196925
         },
         {
          "ci₀": 1.863635459269528,
          "ci₁": 1.746542104447598,
          "dates": "2008-06-30",
          "index": 1.8031898650460976
         },
         {
          "ci₀": 1.9341473693516145,
          "ci₁": 1.791523978183118,
          "dates": "2008-09-30",
          "index": 1.8601057722528564
         },
         {
          "ci₀": 1.852544044036487,
          "ci₁": 1.7350356627508963,
          "dates": "2008-12-31",
          "index": 1.791865405604248
         },
         {
          "ci₀": 1.725855190586077,
          "ci₁": 1.6194511583137894,
          "dates": "2009-03-31",
          "index": 1.6709609799387302
         },
         {
          "ci₀": 1.6973294673002348,
          "ci₁": 1.5998630737468038,
          "dates": "2009-06-30",
          "index": 1.6471556967999574
         },
         {
          "ci₀": 1.6895398522820566,
          "ci₁": 1.5942440595778709,
          "dates": "2009-09-30",
          "index": 1.6405092084120285
         },
         {
          "ci₀": 1.7033893943481502,
          "ci₁": 1.6042532448668334,
          "dates": "2009-12-31",
          "index": 1.6523356729996233
         },
         {
          "ci₀": 1.6965644889130425,
          "ci₁": 1.5994179558191917,
          "dates": "2010-03-31",
          "index": 1.6465595629063954
         },
         {
          "ci₀": 1.7366003274384012,
          "ci₁": 1.6341486917757189,
          "dates": "2010-06-30",
          "index": 1.683817535535403
         },
         {
          "ci₀": 1.756896194959346,
          "ci₁": 1.6492246664575516,
          "dates": "2010-09-30",
          "index": 1.701358618218288
         },
         {
          "ci₀": 1.7113017716471997,
          "ci₁": 1.6270931994054205,
          "dates": "2010-12-31",
          "index": 1.6681354356939078
         },
         {
          "ci₀": 1.7339624716197233,
          "ci₁": 1.6336466536347938,
          "dates": "2011-03-31",
          "index": 1.6823104368300394
         },
         {
          "ci₀": 1.7923749962694653,
          "ci₁": 1.6713397097689282,
          "dates": "2011-06-30",
          "index": 1.729742637775368
         },
         {
          "ci₀": 1.7772754730960965,
          "ci₁": 1.6841172945624885,
          "dates": "2011-09-30",
          "index": 1.729442777721834
         },
         {
          "ci₀": 1.784421005662297,
          "ci₁": 1.679628608971293,
          "dates": "2011-12-31",
          "index": 1.7304397482636777
         },
         {
          "ci₀": 1.8098533586769965,
          "ci₁": 1.7066864930594665,
          "dates": "2012-03-31",
          "index": 1.7567565913675447
         },
         {
          "ci₀": 1.8548331888806524,
          "ci₁": 1.7383626017875917,
          "dates": "2012-06-30",
          "index": 1.7947102445563616
         },
         {
          "ci₀": 1.9183779896906838,
          "ci₁": 1.7856929039742966,
          "dates": "2012-09-30",
          "index": 1.8496589626240378
         },
         {
          "ci₀": 1.9221810891182567,
          "ci₁": 1.8121066818111442,
          "dates": "2012-12-31",
          "index": 1.8655215714001103
         },
         {
          "ci₀": 1.9065409246697667,
          "ci₁": 1.7921200882264572,
          "dates": "2013-03-31",
          "index": 1.847560659499887
         },
         {
          "ci₀": 1.9951397874808485,
          "ci₁": 1.8781461565268043,
          "dates": "2013-06-30",
          "index": 1.934876060151503
         },
         {
          "ci₀": 2.114710902905205,
          "ci₁": 1.974208236034577,
          "dates": "2013-09-30",
          "index": 2.0420456064240384
         },
         {
          "ci₀": 2.052137026324736,
          "ci₁": 1.934432420319962,
          "dates": "2013-12-31",
          "index": 1.9915470922011351
         },
         {
          "ci₀": 2.200695399442737,
          "ci₁": 2.076579672351386,
          "dates": "2014-03-31",
          "index": 2.136836773325933
         },
         {
          "ci₀": 2.2679042596611008,
          "ci₁": 2.118443567009427,
          "dates": "2014-06-30",
          "index": 2.1906275467986096
         },
         {
          "ci₀": 2.302894456549468,
          "ci₁": 2.1600896812697767,
          "dates": "2014-09-30",
          "index": 2.229207363966368
         },
         {
          "ci₀": 2.3252804653088472,
          "ci₁": 2.178851902659773,
          "dates": "2014-12-31",
          "index": 2.2496860003875807
         },
         {
          "ci₀": 2.347031482508663,
          "ci₁": 2.209630163781001,
          "dates": "2015-03-31",
          "index": 2.2762592273304407
         },
         {
          "ci₀": 2.3791988869122527,
          "ci₁": 2.21581046906643,
          "dates": "2015-06-30",
          "index": 2.294599811750992
         },
         {
          "ci₀": 2.4483557299396166,
          "ci₁": 2.2761065828851805,
          "dates": "2015-09-30",
          "index": 2.3590911410311306
         },
         {
          "ci₀": 2.3893580957121414,
          "ci₁": 2.242228855724018,
          "dates": "2015-12-31",
          "index": 2.3134565862797016
         },
         {
          "ci₀": 2.3909289403751233,
          "ci₁": 2.2148284841572847,
          "dates": "2016-03-31",
          "index": 2.299512124773455
         },
         {
          "ci₀": 2.416226153225515,
          "ci₁": 2.2567609650451304,
          "dates": "2016-06-30",
          "index": 2.3337726928459657
         },
         {
          "ci₀": 2.4731389239501955,
          "ci₁": 2.289324960259792,
          "dates": "2016-09-30",
          "index": 2.3776846634201516
         },
         {
          "ci₀": 2.419644080687888,
          "ci₁": 2.2494307487023932,
          "dates": "2016-12-31",
          "index": 2.3314348109198453
         },
         {
          "ci₀": 2.475257798456555,
          "ci₁": 2.3252666717167227,
          "dates": "2017-03-31",
          "index": 2.3979190183984973
         },
         {
          "ci₀": 2.4924607130195664,
          "ci₁": 2.3099334106486205,
          "dates": "2017-06-30",
          "index": 2.3977283527639006
         },
         {
          "ci₀": 2.4994925804759727,
          "ci₁": 2.3210816217960986,
          "dates": "2017-09-30",
          "index": 2.4069855784499965
         },
         {
          "ci₀": 2.525365530971677,
          "ci₁": 2.3384551417974357,
          "dates": "2017-12-31",
          "index": 2.4283189731403416
         },
         {
          "ci₀": 2.477069716583184,
          "ci₁": 2.294558689732564,
          "dates": "2018-03-31",
          "index": 2.382323751671964
         },
         {
          "ci₀": 2.5802182686394266,
          "ci₁": 2.376631056549308,
          "dates": "2018-06-30",
          "index": 2.474243805944559
         },
         {
          "ci₀": 2.51995187048491,
          "ci₁": 2.3355847471999622,
          "dates": "2018-09-30",
          "index": 2.4242680534819305
         },
         {
          "ci₀": 2.5521843517190135,
          "ci₁": 2.3566867043448503,
          "dates": "2018-12-31",
          "index": 2.450542644139451
         },
         {
          "ci₀": 2.5109623020270315,
          "ci₁": 2.338457255172703,
          "dates": "2019-03-31",
          "index": 2.4216415772574993
         },
         {
          "ci₀": 2.5497622671547107,
          "ci₁": 2.352983003729069,
          "dates": "2019-06-30",
          "index": 2.4474236154158753
         },
         {
          "ci₀": 2.5190844455690673,
          "ci₁": 2.348146732136262,
          "dates": "2019-09-30",
          "index": 2.4306139128682283
         },
         {
          "ci₀": 2.510973125546831,
          "ci₁": 2.3162425683965813,
          "dates": "2019-12-31",
          "index": 2.409680117997877
         },
         {
          "ci₀": 2.562457652164889,
          "ci₁": 2.3549891241836742,
          "dates": "2020-03-31",
          "index": 2.45434680902047
         },
         {
          "ci₀": 2.4080821280656646,
          "ci₁": 2.226220203864318,
          "dates": "2020-06-30",
          "index": 2.3135828015052167
         },
         {
          "ci₀": 2.4583883234393222,
          "ci₁": 2.2334690843283305,
          "dates": "2020-09-30",
          "index": 2.3405375911830744
         },
         {
          "ci₀": 2.4360206616070856,
          "ci₁": 2.255767648150025,
          "dates": "2020-12-31",
          "index": 2.342431600015116
         },
         {
          "ci₀": 2.5173993371869376,
          "ci₁": 2.3309257263074343,
          "dates": "2021-03-31",
          "index": 2.4205765090384097
         },
         {
          "ci₀": 2.6833867004776617,
          "ci₁": 2.4234635078090396,
          "dates": "2021-06-30",
          "index": 2.546810452907113
         },
         {
          "ci₀": 2.7568683229080753,
          "ci₁": 2.4713873053657784,
          "dates": "2021-09-30",
          "index": 2.606333683821622
         },
         {
          "ci₀": 2.7526899902583786,
          "ci₁": 2.5001662853633113,
          "dates": "2021-12-31",
          "index": 2.6203582761786244
         }
        ]
       },
       "encoding": {
        "x": {
         "field": "dates",
         "type": "temporal"
        }
       },
       "layer": [
        {
         "encoding": {
          "y": {
           "field": "ci₀",
           "scale": {
            "zero": false
           },
           "title": "NYC Price Index",
           "type": "quantitative"
          },
          "y2": {
           "field": "ci₁",
           "type": "quantitative"
          }
         },
         "mark": "errorband"
        },
        {
         "encoding": {
          "y": {
           "field": "index",
           "type": "quantitative"
          }
         },
         "height": 400,
         "mark": "line",
         "width": 800
        }
       ]
      },
      "image/png": "[encoded data removed]",
      "image/svg+xml": [
       "<?xml version=\"1.0\" encoding=\"utf-8\"?>\n",
       "<!DOCTYPE svg PUBLIC \"-//W3C//DTD SVG 1.1//EN\" \"http://www.w3.org/Graphics/SVG/1.1/DTD/svg11.dtd\">\n",
       "<svg xmlns=\"http://www.w3.org/2000/svg\" xmlns:xlink=\"http://www.w3.org/1999/xlink\" version=\"1.1\" class=\"marks\" width=\"849\" height=\"447\" viewBox=\"0 0 849 447\"><rect width=\"849\" height=\"447\" fill=\"white\"/><g fill=\"none\" stroke-miterlimit=\"10\" transform=\"translate(42,10)\"><g class=\"mark-group role-frame root\" role=\"graphics-object\" aria-roledescription=\"group mark container\"><g transform=\"translate(0,0)\"><path class=\"background\" aria-hidden=\"true\" d=\"M0.5,0.5h800v400h-800Z\" stroke=\"#ddd\"/><g><g class=\"mark-group role-axis\" aria-hidden=\"true\"><g transform=\"translate(0.5,400.5)\"><path class=\"background\" aria-hidden=\"true\" d=\"M0,0h0v0h0Z\" pointer-events=\"none\"/><g><g class=\"mark-rule role-axis-grid\" pointer-events=\"none\"><line transform=\"translate(32,-400)\" x2=\"0\" y2=\"400\" stroke=\"#ddd\" stroke-width=\"1\" opacity=\"1\"/><line transform=\"translate(75,-400)\" x2=\"0\" y2=\"400\" stroke=\"#ddd\" stroke-width=\"1\" opacity=\"1\"/><line transform=\"translate(118,-400)\" x2=\"0\" y2=\"400\" stroke=\"#ddd\" stroke-width=\"1\" opacity=\"1\"/><line transform=\"translate(160,-400)\" x2=\"0\" y2=\"400\" stroke=\"#ddd\" stroke-width=\"1\" opacity=\"1\"/><line transform=\"translate(203,-400)\" x2=\"0\" y2=\"400\" stroke=\"#ddd\" stroke-width=\"1\" opacity=\"1\"/><line transform=\"translate(246,-400)\" x2=\"0\" y2=\"400\" stroke=\"#ddd\" stroke-width=\"1\" opacity=\"1\"/><line transform=\"translate(288,-400)\" x2=\"0\" y2=\"400\" stroke=\"#ddd\" stroke-width=\"1\" opacity=\"1\"/><line transform=\"translate(331,-400)\" x2=\"0\" y2=\"400\" stroke=\"#ddd\" stroke-width=\"1\" opacity=\"1\"/><line transform=\"translate(374,-400)\" x2=\"0\" y2=\"400\" stroke=\"#ddd\" stroke-width=\"1\" opacity=\"1\"/><line transform=\"translate(416,-400)\" x2=\"0\" y2=\"400\" stroke=\"#ddd\" stroke-width=\"1\" opacity=\"1\"/><line transform=\"translate(459,-400)\" x2=\"0\" y2=\"400\" stroke=\"#ddd\" stroke-width=\"1\" opacity=\"1\"/><line transform=\"translate(502,-400)\" x2=\"0\" y2=\"400\" stroke=\"#ddd\" stroke-width=\"1\" opacity=\"1\"/><line transform=\"translate(544,-400)\" x2=\"0\" y2=\"400\" stroke=\"#ddd\" stroke-width=\"1\" opacity=\"1\"/><line transform=\"translate(587,-400)\" x2=\"0\" y2=\"400\" stroke=\"#ddd\" stroke-width=\"1\" opacity=\"1\"/><line transform=\"translate(630,-400)\" x2=\"0\" y2=\"400\" stroke=\"#ddd\" stroke-width=\"1\" opacity=\"1\"/><line transform=\"translate(672,-400)\" x2=\"0\" y2=\"400\" stroke=\"#ddd\" stroke-width=\"1\" opacity=\"1\"/><line transform=\"translate(715,-400)\" x2=\"0\" y2=\"400\" stroke=\"#ddd\" stroke-width=\"1\" opacity=\"1\"/><line transform=\"translate(758,-400)\" x2=\"0\" y2=\"400\" stroke=\"#ddd\" stroke-width=\"1\" opacity=\"1\"/></g></g><path class=\"foreground\" aria-hidden=\"true\" d=\"\" pointer-events=\"none\" display=\"none\"/></g></g><g class=\"mark-group role-axis\" aria-hidden=\"true\"><g transform=\"translate(0.5,0.5)\"><path class=\"background\" aria-hidden=\"true\" d=\"M0,0h0v0h0Z\" pointer-events=\"none\"/><g><g class=\"mark-rule role-axis-grid\" pointer-events=\"none\"><line transform=\"translate(0,400)\" x2=\"800\" y2=\"0\" stroke=\"#ddd\" stroke-width=\"1\" opacity=\"1\"/><line transform=\"translate(0,356)\" x2=\"800\" y2=\"0\" stroke=\"#ddd\" stroke-width=\"1\" opacity=\"1\"/><line transform=\"translate(0,311)\" x2=\"800\" y2=\"0\" stroke=\"#ddd\" stroke-width=\"1\" opacity=\"1\"/><line transform=\"translate(0,267)\" x2=\"800\" y2=\"0\" stroke=\"#ddd\" stroke-width=\"1\" opacity=\"1\"/><line transform=\"translate(0,222)\" x2=\"800\" y2=\"0\" stroke=\"#ddd\" stroke-width=\"1\" opacity=\"1\"/><line transform=\"translate(0,178)\" x2=\"800\" y2=\"0\" stroke=\"#ddd\" stroke-width=\"1\" opacity=\"1\"/><line transform=\"translate(0,133)\" x2=\"800\" y2=\"0\" stroke=\"#ddd\" stroke-width=\"1\" opacity=\"1\"/><line transform=\"translate(0,89)\" x2=\"800\" y2=\"0\" stroke=\"#ddd\" stroke-width=\"1\" opacity=\"1\"/><line transform=\"translate(0,44)\" x2=\"800\" y2=\"0\" stroke=\"#ddd\" stroke-width=\"1\" opacity=\"1\"/><line transform=\"translate(0,0)\" x2=\"800\" y2=\"0\" stroke=\"#ddd\" stroke-width=\"1\" opacity=\"1\"/></g></g><path class=\"foreground\" aria-hidden=\"true\" d=\"\" pointer-events=\"none\" display=\"none\"/></g></g><g class=\"mark-group role-axis\" role=\"graphics-symbol\" aria-roledescription=\"axis\" aria-label=\"X-axis titled 'dates' for a time scale with values from Sunday, 30 March 2003, 7:00:00 PM to Thursday, 30 December 2021, 7:00:00 PM\"><g transform=\"translate(0.5,400.5)\"><path class=\"background\" aria-hidden=\"true\" d=\"M0,0h0v0h0Z\" pointer-events=\"none\"/><g><g class=\"mark-rule role-axis-tick\" pointer-events=\"none\"><line transform=\"translate(32,0)\" x2=\"0\" y2=\"5\" stroke=\"#888\" stroke-width=\"1\" opacity=\"1\"/><line transform=\"translate(75,0)\" x2=\"0\" y2=\"5\" stroke=\"#888\" stroke-width=\"1\" opacity=\"1\"/><line transform=\"translate(118,0)\" x2=\"0\" y2=\"5\" stroke=\"#888\" stroke-width=\"1\" opacity=\"1\"/><line transform=\"translate(160,0)\" x2=\"0\" y2=\"5\" stroke=\"#888\" stroke-width=\"1\" opacity=\"1\"/><line transform=\"translate(203,0)\" x2=\"0\" y2=\"5\" stroke=\"#888\" stroke-width=\"1\" opacity=\"1\"/><line transform=\"translate(246,0)\" x2=\"0\" y2=\"5\" stroke=\"#888\" stroke-width=\"1\" opacity=\"1\"/><line transform=\"translate(288,0)\" x2=\"0\" y2=\"5\" stroke=\"#888\" stroke-width=\"1\" opacity=\"1\"/><line transform=\"translate(331,0)\" x2=\"0\" y2=\"5\" stroke=\"#888\" stroke-width=\"1\" opacity=\"1\"/><line transform=\"translate(374,0)\" x2=\"0\" y2=\"5\" stroke=\"#888\" stroke-width=\"1\" opacity=\"1\"/><line transform=\"translate(416,0)\" x2=\"0\" y2=\"5\" stroke=\"#888\" stroke-width=\"1\" opacity=\"1\"/><line transform=\"translate(459,0)\" x2=\"0\" y2=\"5\" stroke=\"#888\" stroke-width=\"1\" opacity=\"1\"/><line transform=\"translate(502,0)\" x2=\"0\" y2=\"5\" stroke=\"#888\" stroke-width=\"1\" opacity=\"1\"/><line transform=\"translate(544,0)\" x2=\"0\" y2=\"5\" stroke=\"#888\" stroke-width=\"1\" opacity=\"1\"/><line transform=\"translate(587,0)\" x2=\"0\" y2=\"5\" stroke=\"#888\" stroke-width=\"1\" opacity=\"1\"/><line transform=\"translate(630,0)\" x2=\"0\" y2=\"5\" stroke=\"#888\" stroke-width=\"1\" opacity=\"1\"/><line transform=\"translate(672,0)\" x2=\"0\" y2=\"5\" stroke=\"#888\" stroke-width=\"1\" opacity=\"1\"/><line transform=\"translate(715,0)\" x2=\"0\" y2=\"5\" stroke=\"#888\" stroke-width=\"1\" opacity=\"1\"/><line transform=\"translate(758,0)\" x2=\"0\" y2=\"5\" stroke=\"#888\" stroke-width=\"1\" opacity=\"1\"/></g><g class=\"mark-text role-axis-label\" pointer-events=\"none\"><text text-anchor=\"middle\" transform=\"translate(32.257907542579076,15)\" font-family=\"sans-serif\" font-size=\"10px\" fill=\"#000\" opacity=\"1\">2004</text><text text-anchor=\"middle\" transform=\"translate(75.00243309002434,15)\" font-family=\"sans-serif\" font-size=\"10px\" fill=\"#000\" opacity=\"1\">2005</text><text text-anchor=\"middle\" transform=\"translate(117.6301703163017,15)\" font-family=\"sans-serif\" font-size=\"10px\" fill=\"#000\" opacity=\"1\">2006</text><text text-anchor=\"middle\" transform=\"translate(160.25790754257906,15)\" font-family=\"sans-serif\" font-size=\"10px\" fill=\"#000\" opacity=\"1\">2007</text><text text-anchor=\"middle\" transform=\"translate(202.88564476885648,15)\" font-family=\"sans-serif\" font-size=\"10px\" fill=\"#000\" opacity=\"1\">2008</text><text text-anchor=\"middle\" transform=\"translate(245.6301703163017,15)\" font-family=\"sans-serif\" font-size=\"10px\" fill=\"#000\" opacity=\"1\">2009</text><text text-anchor=\"middle\" transform=\"translate(288.25790754257906,15)\" font-family=\"sans-serif\" font-size=\"10px\" fill=\"#000\" opacity=\"1\">2010</text><text text-anchor=\"middle\" transform=\"translate(330.8856447688564,15)\" font-family=\"sans-serif\" font-size=\"10px\" fill=\"#000\" opacity=\"1\">2011</text><text text-anchor=\"middle\" transform=\"translate(373.51338199513384,15)\" font-family=\"sans-serif\" font-size=\"10px\" fill=\"#000\" opacity=\"1\">2012</text><text text-anchor=\"middle\" transform=\"translate(416.2579075425791,15)\" font-family=\"sans-serif\" font-size=\"10px\" fill=\"#000\" opacity=\"1\">2013</text><text text-anchor=\"middle\" transform=\"translate(458.8856447688564,15)\" font-family=\"sans-serif\" font-size=\"10px\" fill=\"#000\" opacity=\"1\">2014</text><text text-anchor=\"middle\" transform=\"translate(501.51338199513384,15)\" font-family=\"sans-serif\" font-size=\"10px\" fill=\"#000\" opacity=\"1\">2015</text><text text-anchor=\"middle\" transform=\"translate(544.1411192214111,15)\" font-family=\"sans-serif\" font-size=\"10px\" fill=\"#000\" opacity=\"1\">2016</text><text text-anchor=\"middle\" transform=\"translate(586.8856447688564,15)\" font-family=\"sans-serif\" font-size=\"10px\" fill=\"#000\" opacity=\"1\">2017</text><text text-anchor=\"middle\" transform=\"translate(629.5133819951337,15)\" font-family=\"sans-serif\" font-size=\"10px\" fill=\"#000\" opacity=\"1\">2018</text><text text-anchor=\"middle\" transform=\"translate(672.1411192214111,15)\" font-family=\"sans-serif\" font-size=\"10px\" fill=\"#000\" opacity=\"1\">2019</text><text text-anchor=\"middle\" transform=\"translate(714.7688564476886,15)\" font-family=\"sans-serif\" font-size=\"10px\" fill=\"#000\" opacity=\"1\">2020</text><text text-anchor=\"middle\" transform=\"translate(757.5133819951338,15)\" font-family=\"sans-serif\" font-size=\"10px\" fill=\"#000\" opacity=\"1\">2021</text></g><g class=\"mark-rule role-axis-domain\" pointer-events=\"none\"><line transform=\"translate(0,0)\" x2=\"800\" y2=\"0\" stroke=\"#888\" stroke-width=\"1\" opacity=\"1\"/></g><g class=\"mark-text role-axis-title\" pointer-events=\"none\"><text text-anchor=\"middle\" transform=\"translate(400,30)\" font-family=\"sans-serif\" font-size=\"11px\" font-weight=\"bold\" fill=\"#000\" opacity=\"1\">dates</text></g></g><path class=\"foreground\" aria-hidden=\"true\" d=\"\" pointer-events=\"none\" display=\"none\"/></g></g><g class=\"mark-group role-axis\" role=\"graphics-symbol\" aria-roledescription=\"axis\" aria-label=\"Y-axis titled 'NYC Price Index' for a linear scale with values from 1.0 to 2.8\"><g transform=\"translate(0.5,0.5)\"><path class=\"background\" aria-hidden=\"true\" d=\"M0,0h0v0h0Z\" pointer-events=\"none\"/><g><g class=\"mark-rule role-axis-tick\" pointer-events=\"none\"><line transform=\"translate(0,400)\" x2=\"-5\" y2=\"0\" stroke=\"#888\" stroke-width=\"1\" opacity=\"1\"/><line transform=\"translate(0,356)\" x2=\"-5\" y2=\"0\" stroke=\"#888\" stroke-width=\"1\" opacity=\"1\"/><line transform=\"translate(0,311)\" x2=\"-5\" y2=\"0\" stroke=\"#888\" stroke-width=\"1\" opacity=\"1\"/><line transform=\"translate(0,267)\" x2=\"-5\" y2=\"0\" stroke=\"#888\" stroke-width=\"1\" opacity=\"1\"/><line transform=\"translate(0,222)\" x2=\"-5\" y2=\"0\" stroke=\"#888\" stroke-width=\"1\" opacity=\"1\"/><line transform=\"translate(0,178)\" x2=\"-5\" y2=\"0\" stroke=\"#888\" stroke-width=\"1\" opacity=\"1\"/><line transform=\"translate(0,133)\" x2=\"-5\" y2=\"0\" stroke=\"#888\" stroke-width=\"1\" opacity=\"1\"/><line transform=\"translate(0,89)\" x2=\"-5\" y2=\"0\" stroke=\"#888\" stroke-width=\"1\" opacity=\"1\"/><line transform=\"translate(0,44)\" x2=\"-5\" y2=\"0\" stroke=\"#888\" stroke-width=\"1\" opacity=\"1\"/><line transform=\"translate(0,0)\" x2=\"-5\" y2=\"0\" stroke=\"#888\" stroke-width=\"1\" opacity=\"1\"/></g><g class=\"mark-text role-axis-label\" pointer-events=\"none\"><text text-anchor=\"end\" transform=\"translate(-7,403)\" font-family=\"sans-serif\" font-size=\"10px\" fill=\"#000\" opacity=\"1\">1.0</text><text text-anchor=\"end\" transform=\"translate(-7,358.5555555555556)\" font-family=\"sans-serif\" font-size=\"10px\" fill=\"#000\" opacity=\"1\">1.2</text><text text-anchor=\"end\" transform=\"translate(-7,314.11111111111114)\" font-family=\"sans-serif\" font-size=\"10px\" fill=\"#000\" opacity=\"1\">1.4</text><text text-anchor=\"end\" transform=\"translate(-7,269.66666666666663)\" font-family=\"sans-serif\" font-size=\"10px\" fill=\"#000\" opacity=\"1\">1.6</text><text text-anchor=\"end\" transform=\"translate(-7,225.2222222222222)\" font-family=\"sans-serif\" font-size=\"10px\" fill=\"#000\" opacity=\"1\">1.8</text><text text-anchor=\"end\" transform=\"translate(-7,180.77777777777777)\" font-family=\"sans-serif\" font-size=\"10px\" fill=\"#000\" opacity=\"1\">2.0</text><text text-anchor=\"end\" transform=\"translate(-7,136.33333333333326)\" font-family=\"sans-serif\" font-size=\"10px\" fill=\"#000\" opacity=\"1\">2.2</text><text text-anchor=\"end\" transform=\"translate(-7,91.88888888888889)\" font-family=\"sans-serif\" font-size=\"10px\" fill=\"#000\" opacity=\"1\">2.4</text><text text-anchor=\"end\" transform=\"translate(-7,47.44444444444437)\" font-family=\"sans-serif\" font-size=\"10px\" fill=\"#000\" opacity=\"1\">2.6</text><text text-anchor=\"end\" transform=\"translate(-7,3)\" font-family=\"sans-serif\" font-size=\"10px\" fill=\"#000\" opacity=\"1\">2.8</text></g><g class=\"mark-rule role-axis-domain\" pointer-events=\"none\"><line transform=\"translate(0,400)\" x2=\"0\" y2=\"-400\" stroke=\"#888\" stroke-width=\"1\" opacity=\"1\"/></g><g class=\"mark-text role-axis-title\" pointer-events=\"none\"><text text-anchor=\"middle\" transform=\"translate(-26,200) rotate(-90) translate(0,-2)\" font-family=\"sans-serif\" font-size=\"11px\" font-weight=\"bold\" fill=\"#000\" opacity=\"1\">NYC Price Index</text></g></g><path class=\"foreground\" aria-hidden=\"true\" d=\"\" pointer-events=\"none\" display=\"none\"/></g></g><g class=\"mark-area role-mark layer_0_layer_0_marks\" role=\"graphics-object\" aria-roledescription=\"area mark container\"><path aria-label=\"NYC Price Index: 1; upper_ci₀: 1; dates: Mar 30, 2003; ci₁: 1; ci₀: 1\" role=\"graphics-symbol\" aria-roledescription=\"errorband\" d=\"M0,400L10.627737226277373,385.6227812687577L21.37226277372263,372.90232306293467L32.11678832116788,361.63410354172805L42.74452554744526,349.1781260631278L53.372262773722625,330.57987976800905L64.11678832116789,314.3022583788581L74.86131386861314,309.75890026274027L85.37226277372262,294.41520761364603L96,275.1009160449625L106.74452554744525,258.1214974434312L117.48905109489051,240.9084822000252L128,249.15979407457957L138.62773722627736,234.7365678090852L149.3722627737226,213.2085107110416L160.1167883211679,223.34928563733217L170.6277372262774,213.57720087456977L181.25547445255475,213.64208709672315L192,202.70215882276986L202.74452554744525,216.81556177098068L213.37226277372264,197.15094388803004L224.00000000000003,208.081009051216L234.74452554744528,192.4116956996412L245.48905109489053,210.5457679918917L256,238.6988465364273L266.62773722627736,245.03789615550335L277.37226277372264,246.76892171509851L288.1167883211679,243.69124570041106L298.62773722627736,245.20789135265719L309.2554744525547,236.31103834702193L320,231.80084556458976L330.7445255474453,241.9329396339556L341.2554744525548,236.89722852895034L351.8832116788321,223.91666749567437L362.6277372262774,227.27211708975634L373.37226277372264,225.68422096393394L384,220.0325869606674L394.62773722627736,210.03706913763276L405.37226277372264,195.91600229095914L416.11678832116786,195.07086908483183L426.6277372262774,198.54646118449625L437.2554744525547,178.85782500425586L448.00000000000006,152.28646602106556L458.7445255474453,166.19177192783647L469.2554744525547,133.17880012383614L479.88321167883214,118.24349785308867L490.62773722627736,110.46789854456267L501.37226277372264,105.49322993136725L511.88321167883214,100.6596705536304L522.5109489051094,93.51135846394381L533.2554744525547,78.1431711245296L544,91.253756508413L554.6277372262773,90.90467991663927L565.2554744525547,85.28307706099665L576,72.63579467773428L586.7445255474453,84.52353762491379L597.2554744525547,72.16493367632104L607.8832116788321,68.34206377342964L618.6277372262774,66.77942656089493L629.3722627737227,61.02988200629391L639.8832116788321,71.76228520373682L650.5109489051094,48.840384746794065L661.2554744525547,62.2329176700199L672,55.07014406244139L682.5109489051096,64.2305995495485L693.1386861313869,55.60838507673091L703.8832116788321,62.425678762429456L714.6277372262774,64.22819432292641L725.2554744525548,52.78718840780243L735.8832116788321,87.0928604298523L746.6277372262773,75.91370590237281L757.3722627737227,80.88429742064763L767.8832116788321,62.80014729179162L778.5109489051094,25.91406656051958L789.2554744525547,9.584817131538781L800,10.513335498138066L800,66.62971436370854L789.2554744525547,73.02504325204922L778.5109489051094,83.67477604243562L767.8832116788321,104.23872748723677L757.3722627737227,120.94052263332777L746.6277372262773,125.89575903814878L735.8832116788321,127.50662136348487L725.2554744525548,98.89130573696123L714.6277372262774,107.50165146742634L703.8832116788321,100.41183730305283L693.1386861313869,99.33711028242907L682.5109489051096,102.56505440606598L672,98.51406570114433L661.2554744525547,103.20338951111947L650.5109489051094,94.08198743348706L639.8832116788321,112.32029117054134L629.3722627737227,102.56552404501424L618.6277372262774,106.42630626753365L607.8832116788321,108.90368652252876L597.2554744525547,105.49629517406159L586.7445255474453,122.34872251057926L576,113.4833421644907L565.2554744525547,120.71978554552656L554.6277372262773,130.03811463171448L544,123.94914317244039L533.2554744525547,116.42075935884874L522.5109489051094,129.81989576301552L511.88321167883214,131.19329693755532L501.37226277372264,138.0329105200504L490.62773722627736,142.2022930511607L479.88321167883214,151.45698510901616L469.2554744525547,160.76007281080314L458.7445255474453,192.3483510400084L448.00000000000006,183.50928088120511L437.2554744525547,204.85640966071017L426.6277372262774,223.97331372745396L416.11678832116786,219.53184848641237L405.37226277372264,225.4015768946007L394.62773722627736,235.9194218249796L384,242.95855709789632L373.37226277372264,248.97142022860152L362.6277372262774,247.9739345416692L351.8832116788321,250.81339782912707L341.2554744525548,259.1896325256013L330.7445255474453,260.64595568768436L320,255.72785189832183L309.2554744525547,259.0780684942847L298.62773722627736,266.7960098179574L288.1167883211679,265.7215011407037L277.37226277372264,267.94576453825096L266.62773722627736,266.6970947229325L256,262.3441870413801L245.48905109489053,236.6587416109119L234.74452554744528,224.10578262597375L224.00000000000003,234.10175456720043L213.37226277372264,230.58580281843408L202.74452554744525,239.0948828835685L192,228.7617982487304L181.25547445255475,237.08976101061535L170.6277372262774,242.06777185621965L160.1167883211679,238.64174055707403L149.3722627737226,236.2706600305383L138.62773722627736,254.14909671955382L128,264.17429647801833L117.48905109489051,260.43249519007793L106.74452554744525,276.7507518861807L96,294.16210844418515L85.37226277372262,309.2427251226764L74.86131386861314,323.05490847281425L64.11678832116789,326.76992991673706L53.372262773722625,342.8494841414694L42.74452554744526,359.3391111642343L32.11678832116788,368.4532028473702L21.37226277372263,378.02783602723207L10.627737226277373,388.84258705946434L0,400Z\" fill=\"#4c78a8\" opacity=\"0.3\"/></g><g class=\"mark-line role-mark layer_1_marks\" role=\"graphics-object\" aria-roledescription=\"line mark container\"><path aria-label=\"dates: Mar 30, 2003; index: 1\" role=\"graphics-symbol\" aria-roledescription=\"line mark\" d=\"M0,400L10.627737226277373,387.24371353739247L21.37226277372263,375.4916956775103L32.11678832116788,365.0888553623619L42.74452554744526,354.3549429062664L53.372262773722625,336.8465026339236L64.11678832116789,320.66490586559894L74.86131386861314,316.5514228271228L85.37226277372262,302.0005174787601L96,284.9005725629874L106.74452554744525,267.68067280485576L117.48905109489051,250.9269718768262L128,256.82121850146456L138.62773722627736,244.6922147668574L149.3722627737226,225.07410484530575L160.1167883211679,231.14495277758397L170.6277372262774,228.33701043898282L181.25547445255475,225.71226693301213L192,216.14964219284815L202.74452554744525,228.26996344773994L213.37226277372264,214.5527612895722L224.00000000000003,221.5133633230894L234.74452554744528,208.86538394380966L245.48905109489053,224.02990986572266L256,250.8975600136155L266.62773722627736,256.18762293334277L277.37226277372264,257.66462035288254L288.1167883211679,255.0365171111948L298.62773722627736,256.3200971319121L309.2554744525547,248.0405476587993L320,244.14252928482486L330.7445255474453,251.52545873468713L341.2554744525548,248.37545848221345L351.8832116788321,237.83496938325155L362.6277372262774,237.90160495070353L373.37226277372264,237.68005594140496L384,231.83186858499005L394.62773722627736,223.39772343191964L405.37226277372264,211.18689719465823L416.11678832116786,207.6618730221977L426.6277372262774,211.65318677780286L437.2554744525547,192.2497644107771L448.00000000000006,168.434309683547L458.7445255474453,179.65620173308108L469.2554744525547,147.36960592757046L479.88321167883214,135.41610071142009L490.62773722627736,126.84280800747376L501.37226277372264,122.29199991387092L511.88321167883214,116.38683837101316L522.5109489051094,112.31115294422396L533.2554744525547,97.9797464375265L544,108.12075860451071L554.6277372262773,111.21952782812103L565.2554744525547,103.60606825645205L576,93.84785257329962L586.7445255474453,104.1255975733677L597.2554744525547,89.35132924477833L607.8832116788321,89.39369938579982L618.6277372262774,87.33653812222295L629.3722627737227,82.59578374659071L639.8832116788321,92.8169440728968L650.5109489051094,72.39026534565349L661.2554744525547,83.49598811512652L672,77.65719019123307L682.5109489051096,84.07964949833344L693.1386861313869,78.35030768536102L703.8832116788321,82.08579714039371L714.6277372262774,86.73775155602729L725.2554744525548,76.81182021767334L735.8832116788321,108.09271077661849L746.6277372262773,102.10275751487234L757.3722627737227,101.68186666330747L767.8832116788321,84.31633132479783L778.5109489051094,56.26434379841929L789.2554744525547,43.036959150750675L800,39.920383071416765\" stroke=\"#4c78a8\" stroke-width=\"2\"/></g></g><path class=\"foreground\" aria-hidden=\"true\" d=\"\" display=\"none\"/></g></g></g></svg>\n"
      ],
      "text/plain": [
       "@vlplot(\n",
       "    encoding={\n",
       "        x={\n",
       "            field=\"dates\"\n",
       "        }\n",
       "    },\n",
       "    layer=[\n",
       "        {\n",
       "            mark=\"errorband\",\n",
       "            encoding={\n",
       "                y={\n",
       "                    title=\"NYC Price Index\",\n",
       "                    scale={\n",
       "                        zero=false\n",
       "                    },\n",
       "                    field=\"ci₀\"\n",
       "                },\n",
       "                y2={\n",
       "                    field=\"ci₁\"\n",
       "                }\n",
       "            }\n",
       "        },\n",
       "        {\n",
       "            width=800,\n",
       "            height=400,\n",
       "            mark=\"line\",\n",
       "            encoding={\n",
       "                y={\n",
       "                    field=\"index\"\n",
       "                }\n",
       "            }\n",
       "        }\n",
       "    ],\n",
       "    data={\n",
       "        values=...\n",
       "    }\n",
       ")"
      ]
     },
     "execution_count": 150,
     "metadata": {},
     "output_type": "execute_result"
    }
   ],
   "source": [
    "idx = calc_index(df)\n",
    "plot(idx.dates, idx.index, label=\"NYC\", legend=:topleft, title=\"Real Estate Price Index\", palette=:seaborn_colorblind)\n",
    "idx\n",
    "\n",
    "idx |>\n",
    "@vlplot(x=:dates) +\n",
    "@vlplot(\n",
    "    mark=:errorband,\n",
    "    y={\n",
    "        :ci₀,\n",
    "        title=\"NYC Price Index\",\n",
    "        scale= {zero = false }\n",
    "    },\n",
    "    y2={\n",
    "        :ci₁\n",
    "    }\n",
    ") +\n",
    "@vlplot(\n",
    "    :line,\n",
    "    y = :index,\n",
    "    width=800,\n",
    "    height=400\n",
    ")"
   ]
  },
  {
   "cell_type": "code",
   "execution_count": 151,
   "id": "insured-opening",
   "metadata": {
    "scrolled": false
   },
   "outputs": [],
   "source": [
    "gdf = groupby(df[((df.house_class .!= \"Coop\") \n",
    "            .& (df.borough .!= \"Bronx\")\n",
    "            .& .!((df.house_class .== \"SFH\") .& (df.borough .== \"Manhattan\")) \n",
    "            .& .!((df.house_class .== \"Condo\") .& (df.borough .== \"Staten Island\"))\n",
    "            ), :], [:borough, :house_class])\n",
    "idxb = combine(gdf) do sdf\n",
    "    calc_index(sdf)\n",
    "end\n",
    "\n",
    "idxb |> @vlplot(\n",
    "    facet = {row = {field = :borough},\n",
    "             column = {field = :house_class},\n",
    "    },\n",
    "    spec = {\n",
    "        layer = [\n",
    "            {\n",
    "                mark = :errorband,\n",
    "                x = :dates,\n",
    "                y = :ci₀,\n",
    "                y2 =:ci₁,\n",
    "                width=300,\n",
    "                height=150\n",
    "            },\n",
    "            {\n",
    "                mark = :line,\n",
    "                x = :dates,\n",
    "                y = {\n",
    "                    :index,\n",
    "                    title=\"NYC Price Index\",\n",
    "                    scale= {zero = false }\n",
    "                }\n",
    "            }\n",
    "        ]\n",
    "     }\n",
    " ) |> save(\"index.png\")"
   ]
  },
  {
   "cell_type": "code",
   "execution_count": 152,
   "id": "enormous-visiting",
   "metadata": {
    "scrolled": true
   },
   "outputs": [
    {
     "data": {
      "text/html": [
       "<div class=\"data-frame\"><p>905 rows × 8 columns (omitted printing of 1 columns)</p><table class=\"data-frame\"><thead><tr><th></th><th>borough</th><th>uid</th><th>neighborhood</th><th>block</th><th>lot</th><th>sale_price</th><th>sale_date</th></tr><tr><th></th><th title=\"String15\">String15</th><th title=\"String\">String</th><th title=\"String31\">String31</th><th title=\"Int64\">Int64</th><th title=\"Int64\">Int64</th><th title=\"Int64\">Int64</th><th title=\"Date\">Date</th></tr></thead><tbody><tr><th>1</th><td>Manhattan</td><td>1123_114</td><td>Upper West Side (59-79)</td><td>1123</td><td>114</td><td>15000000</td><td>2009-06-30</td></tr><tr><th>2</th><td>Manhattan</td><td>1123_114</td><td>Upper West Side (59-79)</td><td>1123</td><td>114</td><td>15000000</td><td>2017-12-31</td></tr><tr><th>3</th><td>Manhattan</td><td>1123_45</td><td>Upper West Side (59-79)</td><td>1123</td><td>45</td><td>13715675</td><td>2017-12-31</td></tr><tr><th>4</th><td>Manhattan</td><td>1123_45</td><td>Upper West Side (59-79)</td><td>1123</td><td>45</td><td>9500000</td><td>2018-12-31</td></tr><tr><th>5</th><td>Manhattan</td><td>1127_46</td><td>Upper West Side (59-79)</td><td>1127</td><td>46</td><td>14500000</td><td>2007-12-31</td></tr><tr><th>6</th><td>Manhattan</td><td>1127_46</td><td>Upper West Side (59-79)</td><td>1127</td><td>46</td><td>18850000</td><td>2010-09-30</td></tr><tr><th>7</th><td>Manhattan</td><td>1128_49</td><td>Upper West Side (59-79)</td><td>1128</td><td>49</td><td>13100000</td><td>2018-03-31</td></tr><tr><th>8</th><td>Manhattan</td><td>1128_49</td><td>Upper West Side (59-79)</td><td>1128</td><td>49</td><td>13900000</td><td>2021-09-30</td></tr><tr><th>9</th><td>Manhattan</td><td>1128_59</td><td>Upper West Side (59-79)</td><td>1128</td><td>59</td><td>7500000</td><td>2010-03-31</td></tr><tr><th>10</th><td>Manhattan</td><td>1128_59</td><td>Upper West Side (59-79)</td><td>1128</td><td>59</td><td>18500000</td><td>2015-09-30</td></tr><tr><th>11</th><td>Manhattan</td><td>1142_39</td><td>Upper West Side (59-79)</td><td>1142</td><td>39</td><td>11800000</td><td>2013-03-31</td></tr><tr><th>12</th><td>Manhattan</td><td>1142_39</td><td>Upper West Side (59-79)</td><td>1142</td><td>39</td><td>10500000</td><td>2020-12-31</td></tr><tr><th>13</th><td>Manhattan</td><td>1182_117</td><td>Upper West Side (59-79)</td><td>1182</td><td>117</td><td>3465000</td><td>2003-12-31</td></tr><tr><th>14</th><td>Manhattan</td><td>1182_117</td><td>Upper West Side (59-79)</td><td>1182</td><td>117</td><td>4650000</td><td>2007-12-31</td></tr><tr><th>15</th><td>Manhattan</td><td>1182_117</td><td>Upper West Side (59-79)</td><td>1182</td><td>117</td><td>4550000</td><td>2009-06-30</td></tr><tr><th>16</th><td>Manhattan</td><td>1198_108</td><td>Upper West Side (79-96)</td><td>1198</td><td>108</td><td>10700000</td><td>2012-09-30</td></tr><tr><th>17</th><td>Manhattan</td><td>1198_108</td><td>Upper West Side (79-96)</td><td>1198</td><td>108</td><td>8750000</td><td>2019-03-31</td></tr><tr><th>18</th><td>Manhattan</td><td>1198_34</td><td>Upper West Side (79-96)</td><td>1198</td><td>34</td><td>15500000</td><td>2006-12-31</td></tr><tr><th>19</th><td>Manhattan</td><td>1198_34</td><td>Upper West Side (79-96)</td><td>1198</td><td>34</td><td>22375000</td><td>2011-12-31</td></tr><tr><th>20</th><td>Manhattan</td><td>1198_34</td><td>Upper West Side (79-96)</td><td>1198</td><td>34</td><td>25000000</td><td>2015-03-31</td></tr><tr><th>21</th><td>Manhattan</td><td>1198_35</td><td>Upper West Side (79-96)</td><td>1198</td><td>35</td><td>7500000</td><td>2004-03-31</td></tr><tr><th>22</th><td>Manhattan</td><td>1198_35</td><td>Upper West Side (79-96)</td><td>1198</td><td>35</td><td>16250000</td><td>2019-06-30</td></tr><tr><th>23</th><td>Manhattan</td><td>1202_22</td><td>Upper West Side (79-96)</td><td>1202</td><td>22</td><td>6550000</td><td>2007-09-30</td></tr><tr><th>24</th><td>Manhattan</td><td>1202_22</td><td>Upper West Side (79-96)</td><td>1202</td><td>22</td><td>5350000</td><td>2011-09-30</td></tr><tr><th>25</th><td>Manhattan</td><td>1209_15</td><td>Upper West Side (79-96)</td><td>1209</td><td>15</td><td>5750000</td><td>2010-09-30</td></tr><tr><th>26</th><td>Manhattan</td><td>1209_15</td><td>Upper West Side (79-96)</td><td>1209</td><td>15</td><td>6999999</td><td>2013-03-31</td></tr><tr><th>27</th><td>Manhattan</td><td>1216_21</td><td>Upper West Side (79-96)</td><td>1216</td><td>21</td><td>4150000</td><td>2005-06-30</td></tr><tr><th>28</th><td>Manhattan</td><td>1216_21</td><td>Upper West Side (79-96)</td><td>1216</td><td>21</td><td>8000000</td><td>2007-09-30</td></tr><tr><th>29</th><td>Manhattan</td><td>1216_21</td><td>Upper West Side (79-96)</td><td>1216</td><td>21</td><td>7100000</td><td>2020-06-30</td></tr><tr><th>30</th><td>Manhattan</td><td>1218_13</td><td>Upper West Side (79-96)</td><td>1218</td><td>13</td><td>3305000</td><td>2003-03-31</td></tr><tr><th>&vellip;</th><td>&vellip;</td><td>&vellip;</td><td>&vellip;</td><td>&vellip;</td><td>&vellip;</td><td>&vellip;</td><td>&vellip;</td></tr></tbody></table></div>"
      ],
      "text/latex": [
       "\\begin{tabular}{r|cccccccc}\n",
       "\t& borough & uid & neighborhood & block & lot & sale\\_price & sale\\_date & \\\\\n",
       "\t\\hline\n",
       "\t& String15 & String & String31 & Int64 & Int64 & Int64 & Date & \\\\\n",
       "\t\\hline\n",
       "\t1 & Manhattan & 1123\\_114 & Upper West Side (59-79) & 1123 & 114 & 15000000 & 2009-06-30 & $\\dots$ \\\\\n",
       "\t2 & Manhattan & 1123\\_114 & Upper West Side (59-79) & 1123 & 114 & 15000000 & 2017-12-31 & $\\dots$ \\\\\n",
       "\t3 & Manhattan & 1123\\_45 & Upper West Side (59-79) & 1123 & 45 & 13715675 & 2017-12-31 & $\\dots$ \\\\\n",
       "\t4 & Manhattan & 1123\\_45 & Upper West Side (59-79) & 1123 & 45 & 9500000 & 2018-12-31 & $\\dots$ \\\\\n",
       "\t5 & Manhattan & 1127\\_46 & Upper West Side (59-79) & 1127 & 46 & 14500000 & 2007-12-31 & $\\dots$ \\\\\n",
       "\t6 & Manhattan & 1127\\_46 & Upper West Side (59-79) & 1127 & 46 & 18850000 & 2010-09-30 & $\\dots$ \\\\\n",
       "\t7 & Manhattan & 1128\\_49 & Upper West Side (59-79) & 1128 & 49 & 13100000 & 2018-03-31 & $\\dots$ \\\\\n",
       "\t8 & Manhattan & 1128\\_49 & Upper West Side (59-79) & 1128 & 49 & 13900000 & 2021-09-30 & $\\dots$ \\\\\n",
       "\t9 & Manhattan & 1128\\_59 & Upper West Side (59-79) & 1128 & 59 & 7500000 & 2010-03-31 & $\\dots$ \\\\\n",
       "\t10 & Manhattan & 1128\\_59 & Upper West Side (59-79) & 1128 & 59 & 18500000 & 2015-09-30 & $\\dots$ \\\\\n",
       "\t11 & Manhattan & 1142\\_39 & Upper West Side (59-79) & 1142 & 39 & 11800000 & 2013-03-31 & $\\dots$ \\\\\n",
       "\t12 & Manhattan & 1142\\_39 & Upper West Side (59-79) & 1142 & 39 & 10500000 & 2020-12-31 & $\\dots$ \\\\\n",
       "\t13 & Manhattan & 1182\\_117 & Upper West Side (59-79) & 1182 & 117 & 3465000 & 2003-12-31 & $\\dots$ \\\\\n",
       "\t14 & Manhattan & 1182\\_117 & Upper West Side (59-79) & 1182 & 117 & 4650000 & 2007-12-31 & $\\dots$ \\\\\n",
       "\t15 & Manhattan & 1182\\_117 & Upper West Side (59-79) & 1182 & 117 & 4550000 & 2009-06-30 & $\\dots$ \\\\\n",
       "\t16 & Manhattan & 1198\\_108 & Upper West Side (79-96) & 1198 & 108 & 10700000 & 2012-09-30 & $\\dots$ \\\\\n",
       "\t17 & Manhattan & 1198\\_108 & Upper West Side (79-96) & 1198 & 108 & 8750000 & 2019-03-31 & $\\dots$ \\\\\n",
       "\t18 & Manhattan & 1198\\_34 & Upper West Side (79-96) & 1198 & 34 & 15500000 & 2006-12-31 & $\\dots$ \\\\\n",
       "\t19 & Manhattan & 1198\\_34 & Upper West Side (79-96) & 1198 & 34 & 22375000 & 2011-12-31 & $\\dots$ \\\\\n",
       "\t20 & Manhattan & 1198\\_34 & Upper West Side (79-96) & 1198 & 34 & 25000000 & 2015-03-31 & $\\dots$ \\\\\n",
       "\t21 & Manhattan & 1198\\_35 & Upper West Side (79-96) & 1198 & 35 & 7500000 & 2004-03-31 & $\\dots$ \\\\\n",
       "\t22 & Manhattan & 1198\\_35 & Upper West Side (79-96) & 1198 & 35 & 16250000 & 2019-06-30 & $\\dots$ \\\\\n",
       "\t23 & Manhattan & 1202\\_22 & Upper West Side (79-96) & 1202 & 22 & 6550000 & 2007-09-30 & $\\dots$ \\\\\n",
       "\t24 & Manhattan & 1202\\_22 & Upper West Side (79-96) & 1202 & 22 & 5350000 & 2011-09-30 & $\\dots$ \\\\\n",
       "\t25 & Manhattan & 1209\\_15 & Upper West Side (79-96) & 1209 & 15 & 5750000 & 2010-09-30 & $\\dots$ \\\\\n",
       "\t26 & Manhattan & 1209\\_15 & Upper West Side (79-96) & 1209 & 15 & 6999999 & 2013-03-31 & $\\dots$ \\\\\n",
       "\t27 & Manhattan & 1216\\_21 & Upper West Side (79-96) & 1216 & 21 & 4150000 & 2005-06-30 & $\\dots$ \\\\\n",
       "\t28 & Manhattan & 1216\\_21 & Upper West Side (79-96) & 1216 & 21 & 8000000 & 2007-09-30 & $\\dots$ \\\\\n",
       "\t29 & Manhattan & 1216\\_21 & Upper West Side (79-96) & 1216 & 21 & 7100000 & 2020-06-30 & $\\dots$ \\\\\n",
       "\t30 & Manhattan & 1218\\_13 & Upper West Side (79-96) & 1218 & 13 & 3305000 & 2003-03-31 & $\\dots$ \\\\\n",
       "\t$\\dots$ & $\\dots$ & $\\dots$ & $\\dots$ & $\\dots$ & $\\dots$ & $\\dots$ & $\\dots$ &  \\\\\n",
       "\\end{tabular}\n"
      ],
      "text/plain": [
       "\u001b[1m905×8 DataFrame\u001b[0m\n",
       "\u001b[1m Row \u001b[0m│\u001b[1m borough   \u001b[0m\u001b[1m uid      \u001b[0m\u001b[1m neighborhood            \u001b[0m\u001b[1m block \u001b[0m\u001b[1m lot   \u001b[0m\u001b[1m sale_price \u001b[0m\u001b[1m\u001b[0m ⋯\n",
       "\u001b[1m     \u001b[0m│\u001b[90m String15  \u001b[0m\u001b[90m String   \u001b[0m\u001b[90m String31                \u001b[0m\u001b[90m Int64 \u001b[0m\u001b[90m Int64 \u001b[0m\u001b[90m Int64      \u001b[0m\u001b[90m\u001b[0m ⋯\n",
       "─────┼──────────────────────────────────────────────────────────────────────────\n",
       "   1 │ Manhattan  1123_114  Upper West Side (59-79)   1123    114    15000000  ⋯\n",
       "   2 │ Manhattan  1123_114  Upper West Side (59-79)   1123    114    15000000\n",
       "   3 │ Manhattan  1123_45   Upper West Side (59-79)   1123     45    13715675\n",
       "   4 │ Manhattan  1123_45   Upper West Side (59-79)   1123     45     9500000\n",
       "   5 │ Manhattan  1127_46   Upper West Side (59-79)   1127     46    14500000  ⋯\n",
       "   6 │ Manhattan  1127_46   Upper West Side (59-79)   1127     46    18850000\n",
       "   7 │ Manhattan  1128_49   Upper West Side (59-79)   1128     49    13100000\n",
       "   8 │ Manhattan  1128_49   Upper West Side (59-79)   1128     49    13900000\n",
       "   9 │ Manhattan  1128_59   Upper West Side (59-79)   1128     59     7500000  ⋯\n",
       "  10 │ Manhattan  1128_59   Upper West Side (59-79)   1128     59    18500000\n",
       "  11 │ Manhattan  1142_39   Upper West Side (59-79)   1142     39    11800000\n",
       "  ⋮  │     ⋮         ⋮                 ⋮               ⋮      ⋮        ⋮       ⋱\n",
       " 896 │ Manhattan  898_50    Flatiron                   898     50     3550000\n",
       " 897 │ Manhattan  898_50    Flatiron                   898     50     9900000  ⋯\n",
       " 898 │ Manhattan  906_30    Flatiron                   906     30     1400000\n",
       " 899 │ Manhattan  906_30    Flatiron                   906     30     2400500\n",
       " 900 │ Manhattan  909_33    Murray Hill                909     33     5100000\n",
       " 901 │ Manhattan  909_33    Murray Hill                909     33     7425000  ⋯\n",
       " 902 │ Manhattan  913_23    Murray Hill                913     23     3402000\n",
       " 903 │ Manhattan  913_23    Murray Hill                913     23     5200000\n",
       " 904 │ Manhattan  97_44     Financial                   97     44     1550000\n",
       " 905 │ Manhattan  97_44     Financial                   97     44     2131197  ⋯\n",
       "\u001b[36m                                                  2 columns and 884 rows omitted\u001b[0m"
      ]
     },
     "execution_count": 152,
     "metadata": {},
     "output_type": "execute_result"
    }
   ],
   "source": [
    "df[(df.house_class .== \"SFH\") .& (df.borough .== \"Manhattan\"), :]"
   ]
  },
  {
   "cell_type": "code",
   "execution_count": 9,
   "id": "miniature-ready",
   "metadata": {},
   "outputs": [],
   "source": [
    "@vlplot(\n",
    "    :geoshape,\n",
    "    width=500, height=300,\n",
    "    data={\n",
    "        url=URI(geojson),\n",
    "        format={\n",
    "            type=:topojson,\n",
    "            feature=:BORO\n",
    "        }\n",
    "    }, \n",
    "    mark={\n",
    "        :geoshape,\n",
    "        stroke=:black,\n",
    "        strokeWidth=2\n",
    "    },\n",
    "    projection={type=:albersUsa}\n",
    ") |> save(\"blocks.pdf\")"
   ]
  },
  {
   "cell_type": "code",
   "execution_count": 83,
   "id": "6a71b9e4",
   "metadata": {},
   "outputs": [
    {
     "data": {
      "text/html": [
       "<div class=\"data-frame\"><p>71 rows × 4 columns</p><table class=\"data-frame\"><thead><tr><th></th><th>borough</th><th>block</th><th>uid</th><th>sale_price</th></tr><tr><th></th><th title=\"String15\">String15</th><th title=\"Int64\">Int64</th><th title=\"String\">String</th><th title=\"Float64\">Float64</th></tr></thead><tbody><tr><th>1</th><td>Manhattan</td><td>1056</td><td>1056_2a</td><td>-0.1854</td></tr><tr><th>2</th><td>Brooklyn</td><td>1059</td><td>1059_4</td><td>0.263441</td></tr><tr><th>3</th><td>Brooklyn</td><td>1063</td><td>1063_3</td><td>0.0855615</td></tr><tr><th>4</th><td>Queens</td><td>11051</td><td>11051_85</td><td>0.195431</td></tr><tr><th>5</th><td>Queens</td><td>11227</td><td>11227_66</td><td>0.924322</td></tr><tr><th>6</th><td>Staten Island</td><td>1123</td><td>1123_25</td><td>0.761895</td></tr><tr><th>7</th><td>Queens</td><td>11332</td><td>11332_17</td><td>0.548889</td></tr><tr><th>8</th><td>Manhattan</td><td>1158</td><td>1158_7h</td><td>-0.375439</td></tr><tr><th>9</th><td>Manhattan</td><td>1197</td><td>1197_3f</td><td>-0.372727</td></tr><tr><th>10</th><td>Queens</td><td>12186</td><td>12186_18</td><td>0.628571</td></tr><tr><th>11</th><td>Queens</td><td>12359</td><td>12359_3</td><td>2.05742</td></tr><tr><th>12</th><td>Queens</td><td>12362</td><td>12362_45</td><td>1.50667</td></tr><tr><th>13</th><td>Queens</td><td>12366</td><td>12366_6</td><td>1.10909</td></tr><tr><th>14</th><td>Manhattan</td><td>123</td><td>123_1030</td><td>0.1996</td></tr><tr><th>15</th><td>Queens</td><td>12571</td><td>12571_74</td><td>0.621622</td></tr><tr><th>16</th><td>Staten Island</td><td>1260</td><td>1260_154</td><td>1.44</td></tr><tr><th>17</th><td>Queens</td><td>1278</td><td>1278_22</td><td>0.0735294</td></tr><tr><th>18</th><td>Queens</td><td>12892</td><td>12892_3</td><td>2.76984</td></tr><tr><th>19</th><td>Queens</td><td>1332</td><td>1332_96</td><td>0.254167</td></tr><tr><th>20</th><td>Queens</td><td>13575</td><td>13575_4</td><td>1.58586</td></tr><tr><th>21</th><td>Queens</td><td>13649</td><td>13649_47</td><td>0.739683</td></tr><tr><th>22</th><td>Staten Island</td><td>141</td><td>141_40</td><td>0.0714286</td></tr><tr><th>23</th><td>Manhattan</td><td>1527</td><td>1527_1127</td><td>0.248187</td></tr><tr><th>24</th><td>Queens</td><td>16340</td><td>16340_50</td><td>0.631579</td></tr><tr><th>25</th><td>Queens</td><td>16350</td><td>16350_300</td><td>-0.316239</td></tr><tr><th>26</th><td>Queens</td><td>16350</td><td>16350_400</td><td>1.0375</td></tr><tr><th>27</th><td>Brooklyn</td><td>1734</td><td>1734_1306</td><td>0.454376</td></tr><tr><th>28</th><td>Queens</td><td>2186</td><td>2186_3c</td><td>0.0313901</td></tr><tr><th>29</th><td>Brooklyn</td><td>2250</td><td>2250_1013</td><td>0.16129</td></tr><tr><th>30</th><td>Queens</td><td>2296</td><td>2296_8</td><td>0.857143</td></tr><tr><th>&vellip;</th><td>&vellip;</td><td>&vellip;</td><td>&vellip;</td><td>&vellip;</td></tr></tbody></table></div>"
      ],
      "text/latex": [
       "\\begin{tabular}{r|cccc}\n",
       "\t& borough & block & uid & sale\\_price\\\\\n",
       "\t\\hline\n",
       "\t& String15 & Int64 & String & Float64\\\\\n",
       "\t\\hline\n",
       "\t1 & Manhattan & 1056 & 1056\\_2a & -0.1854 \\\\\n",
       "\t2 & Brooklyn & 1059 & 1059\\_4 & 0.263441 \\\\\n",
       "\t3 & Brooklyn & 1063 & 1063\\_3 & 0.0855615 \\\\\n",
       "\t4 & Queens & 11051 & 11051\\_85 & 0.195431 \\\\\n",
       "\t5 & Queens & 11227 & 11227\\_66 & 0.924322 \\\\\n",
       "\t6 & Staten Island & 1123 & 1123\\_25 & 0.761895 \\\\\n",
       "\t7 & Queens & 11332 & 11332\\_17 & 0.548889 \\\\\n",
       "\t8 & Manhattan & 1158 & 1158\\_7h & -0.375439 \\\\\n",
       "\t9 & Manhattan & 1197 & 1197\\_3f & -0.372727 \\\\\n",
       "\t10 & Queens & 12186 & 12186\\_18 & 0.628571 \\\\\n",
       "\t11 & Queens & 12359 & 12359\\_3 & 2.05742 \\\\\n",
       "\t12 & Queens & 12362 & 12362\\_45 & 1.50667 \\\\\n",
       "\t13 & Queens & 12366 & 12366\\_6 & 1.10909 \\\\\n",
       "\t14 & Manhattan & 123 & 123\\_1030 & 0.1996 \\\\\n",
       "\t15 & Queens & 12571 & 12571\\_74 & 0.621622 \\\\\n",
       "\t16 & Staten Island & 1260 & 1260\\_154 & 1.44 \\\\\n",
       "\t17 & Queens & 1278 & 1278\\_22 & 0.0735294 \\\\\n",
       "\t18 & Queens & 12892 & 12892\\_3 & 2.76984 \\\\\n",
       "\t19 & Queens & 1332 & 1332\\_96 & 0.254167 \\\\\n",
       "\t20 & Queens & 13575 & 13575\\_4 & 1.58586 \\\\\n",
       "\t21 & Queens & 13649 & 13649\\_47 & 0.739683 \\\\\n",
       "\t22 & Staten Island & 141 & 141\\_40 & 0.0714286 \\\\\n",
       "\t23 & Manhattan & 1527 & 1527\\_1127 & 0.248187 \\\\\n",
       "\t24 & Queens & 16340 & 16340\\_50 & 0.631579 \\\\\n",
       "\t25 & Queens & 16350 & 16350\\_300 & -0.316239 \\\\\n",
       "\t26 & Queens & 16350 & 16350\\_400 & 1.0375 \\\\\n",
       "\t27 & Brooklyn & 1734 & 1734\\_1306 & 0.454376 \\\\\n",
       "\t28 & Queens & 2186 & 2186\\_3c & 0.0313901 \\\\\n",
       "\t29 & Brooklyn & 2250 & 2250\\_1013 & 0.16129 \\\\\n",
       "\t30 & Queens & 2296 & 2296\\_8 & 0.857143 \\\\\n",
       "\t$\\dots$ & $\\dots$ & $\\dots$ & $\\dots$ & $\\dots$ \\\\\n",
       "\\end{tabular}\n"
      ],
      "text/plain": [
       "\u001b[1m71×4 DataFrame\u001b[0m\n",
       "\u001b[1m Row \u001b[0m│\u001b[1m borough       \u001b[0m\u001b[1m block \u001b[0m\u001b[1m uid      \u001b[0m\u001b[1m sale_price \u001b[0m\n",
       "\u001b[1m     \u001b[0m│\u001b[90m String15      \u001b[0m\u001b[90m Int64 \u001b[0m\u001b[90m String   \u001b[0m\u001b[90m Float64    \u001b[0m\n",
       "─────┼────────────────────────────────────────────\n",
       "   1 │ Manhattan       1056  1056_2a   -0.1854\n",
       "   2 │ Brooklyn        1059  1059_4     0.263441\n",
       "   3 │ Brooklyn        1063  1063_3     0.0855615\n",
       "   4 │ Queens         11051  11051_85   0.195431\n",
       "   5 │ Queens         11227  11227_66   0.924322\n",
       "   6 │ Staten Island   1123  1123_25    0.761895\n",
       "   7 │ Queens         11332  11332_17   0.548889\n",
       "   8 │ Manhattan       1158  1158_7h   -0.375439\n",
       "   9 │ Manhattan       1197  1197_3f   -0.372727\n",
       "  10 │ Queens         12186  12186_18   0.628571\n",
       "  11 │ Queens         12359  12359_3    2.05742\n",
       "  ⋮  │       ⋮          ⋮       ⋮          ⋮\n",
       "  62 │ Manhattan        721  721_14e    0.333692\n",
       "  63 │ Queens          7349  7349_2c    0.347458\n",
       "  64 │ Queens          7680  7680_8     1.0\n",
       "  65 │ Brooklyn        7724  7724_59    0.779144\n",
       "  66 │ Queens          7840  7840_a    -0.275109\n",
       "  67 │ Queens          7844  7844_a    -0.221557\n",
       "  68 │ Brooklyn        7889  7889_13    0.495238\n",
       "  69 │ Manhattan        888  888_1007   0.274194\n",
       "  70 │ Manhattan        915  915_1270  -0.0408674\n",
       "  71 │ Queens          9324  9324_29    0.717391\n",
       "\u001b[36m                                   50 rows omitted\u001b[0m"
      ]
     },
     "execution_count": 83,
     "metadata": {},
     "output_type": "execute_result"
    }
   ],
   "source": [
    "yy = df[(df.sale_date .== Date(\"2021-12-31\")) .| (df.sale_date .== Date(\"2020-12-31\")), :]\n",
    "gdf = groupby(yy, [:borough, :uid])\n",
    "gdf = gdf[combine(gdf, nrow).nrow .> 1]\n",
    "yy = combine(gdf, names(yy)...)\n",
    "combine(groupby(yy, [:borough, :block, :uid]), :sale_price => x -> size(x, 1) > 1 ? (x[2] / x[1] - 1) : nothing => :yy_px; renamecols=false)\n",
    "#gdf[1]"
   ]
  },
  {
   "cell_type": "code",
   "execution_count": 103,
   "id": "academic-palace",
   "metadata": {},
   "outputs": [
    {
     "data": {
      "text/html": [
       "<div class=\"data-frame\"><p>2 rows × 2 columns</p><table class=\"data-frame\"><thead><tr><th></th><th>sale_price</th><th>sale_date</th></tr><tr><th></th><th title=\"Int64\">Int64</th><th title=\"Date\">Date</th></tr></thead><tbody><tr><th>1</th><td>1050000</td><td>2018-09-30</td></tr><tr><th>2</th><td>967338</td><td>2020-12-31</td></tr></tbody></table></div>"
      ],
      "text/latex": [
       "\\begin{tabular}{r|cc}\n",
       "\t& sale\\_price & sale\\_date\\\\\n",
       "\t\\hline\n",
       "\t& Int64 & Date\\\\\n",
       "\t\\hline\n",
       "\t1 & 1050000 & 2018-09-30 \\\\\n",
       "\t2 & 967338 & 2020-12-31 \\\\\n",
       "\\end{tabular}\n"
      ],
      "text/plain": [
       "\u001b[1m2×2 DataFrame\u001b[0m\n",
       "\u001b[1m Row \u001b[0m│\u001b[1m sale_price \u001b[0m\u001b[1m sale_date  \u001b[0m\n",
       "\u001b[1m     \u001b[0m│\u001b[90m Int64      \u001b[0m\u001b[90m Date       \u001b[0m\n",
       "─────┼────────────────────────\n",
       "   1 │    1050000  2018-09-30\n",
       "   2 │     967338  2020-12-31"
      ]
     },
     "execution_count": 103,
     "metadata": {},
     "output_type": "execute_result"
    }
   ],
   "source": [
    "apt = df[(df.block .== 886) .& (df.lot .== 1202), [\"sale_price\", \"sale_date\"]]"
   ]
  },
  {
   "cell_type": "code",
   "execution_count": 153,
   "id": "valid-pavilion",
   "metadata": {},
   "outputs": [
    {
     "data": {
      "text/html": [
       "<div class=\"data-frame\"><p>76 rows × 4 columns</p><table class=\"data-frame\"><thead><tr><th></th><th>index</th><th>ci₀</th><th>ci₁</th><th>dates</th></tr><tr><th></th><th title=\"Float64\">Float64</th><th title=\"Float64\">Float64</th><th title=\"Float64\">Float64</th><th title=\"Date\">Date</th></tr></thead><tbody><tr><th>1</th><td>1.0</td><td>1.0</td><td>1.0</td><td>2003-03-31</td></tr><tr><th>2</th><td>1.08049</td><td>1.0889</td><td>1.07221</td><td>2003-06-30</td></tr><tr><th>3</th><td>1.09995</td><td>1.1047</td><td>1.09524</td><td>2003-09-30</td></tr><tr><th>4</th><td>1.14003</td><td>1.14852</td><td>1.13166</td><td>2003-12-31</td></tr><tr><th>5</th><td>1.22558</td><td>1.24348</td><td>1.20819</td><td>2004-03-31</td></tr><tr><th>6</th><td>1.31709</td><td>1.33703</td><td>1.29773</td><td>2004-06-30</td></tr><tr><th>7</th><td>1.38794</td><td>1.41651</td><td>1.36049</td><td>2004-09-30</td></tr><tr><th>8</th><td>1.3702</td><td>1.39423</td><td>1.34697</td><td>2004-12-31</td></tr><tr><th>9</th><td>1.48511</td><td>1.50946</td><td>1.46154</td><td>2005-03-31</td></tr><tr><th>10</th><td>1.5377</td><td>1.5715</td><td>1.50533</td><td>2005-06-30</td></tr><tr><th>11</th><td>1.6106</td><td>1.64473</td><td>1.57785</td><td>2005-09-30</td></tr><tr><th>12</th><td>1.68617</td><td>1.72069</td><td>1.65301</td><td>2005-12-31</td></tr><tr><th>13</th><td>1.64539</td><td>1.6645</td><td>1.62671</td><td>2006-03-31</td></tr><tr><th>14</th><td>1.70139</td><td>1.72994</td><td>1.67377</td><td>2006-06-30</td></tr><tr><th>15</th><td>1.74371</td><td>1.76344</td><td>1.72441</td><td>2006-09-30</td></tr><tr><th>16</th><td>1.81588</td><td>1.83663</td><td>1.7956</td><td>2006-12-31</td></tr><tr><th>17</th><td>1.79017</td><td>1.82563</td><td>1.75607</td><td>2007-03-31</td></tr><tr><th>18</th><td>1.86403</td><td>1.8978</td><td>1.83145</td><td>2007-06-30</td></tr><tr><th>19</th><td>1.94287</td><td>1.99077</td><td>1.89722</td><td>2007-09-30</td></tr><tr><th>20</th><td>1.78555</td><td>1.79856</td><td>1.77274</td><td>2007-12-31</td></tr><tr><th>21</th><td>1.98055</td><td>2.04641</td><td>1.91879</td><td>2008-03-31</td></tr><tr><th>22</th><td>1.9092</td><td>1.94786</td><td>1.87205</td><td>2008-06-30</td></tr><tr><th>23</th><td>2.04475</td><td>2.11604</td><td>1.97811</td><td>2008-09-30</td></tr><tr><th>24</th><td>1.97763</td><td>2.04279</td><td>1.9165</td><td>2008-12-31</td></tr><tr><th>25</th><td>1.84165</td><td>1.87845</td><td>1.80627</td><td>2009-03-31</td></tr><tr><th>26</th><td>1.82885</td><td>1.87452</td><td>1.78536</td><td>2009-06-30</td></tr><tr><th>27</th><td>1.81256</td><td>1.85692</td><td>1.77027</td><td>2009-09-30</td></tr><tr><th>28</th><td>1.76396</td><td>1.80507</td><td>1.72468</td><td>2009-12-31</td></tr><tr><th>29</th><td>1.78724</td><td>1.82931</td><td>1.74706</td><td>2010-03-31</td></tr><tr><th>30</th><td>1.84848</td><td>1.89459</td><td>1.80457</td><td>2010-06-30</td></tr><tr><th>&vellip;</th><td>&vellip;</td><td>&vellip;</td><td>&vellip;</td><td>&vellip;</td></tr></tbody></table></div>"
      ],
      "text/latex": [
       "\\begin{tabular}{r|cccc}\n",
       "\t& index & ci₀ & ci₁ & dates\\\\\n",
       "\t\\hline\n",
       "\t& Float64 & Float64 & Float64 & Date\\\\\n",
       "\t\\hline\n",
       "\t1 & 1.0 & 1.0 & 1.0 & 2003-03-31 \\\\\n",
       "\t2 & 1.08049 & 1.0889 & 1.07221 & 2003-06-30 \\\\\n",
       "\t3 & 1.09995 & 1.1047 & 1.09524 & 2003-09-30 \\\\\n",
       "\t4 & 1.14003 & 1.14852 & 1.13166 & 2003-12-31 \\\\\n",
       "\t5 & 1.22558 & 1.24348 & 1.20819 & 2004-03-31 \\\\\n",
       "\t6 & 1.31709 & 1.33703 & 1.29773 & 2004-06-30 \\\\\n",
       "\t7 & 1.38794 & 1.41651 & 1.36049 & 2004-09-30 \\\\\n",
       "\t8 & 1.3702 & 1.39423 & 1.34697 & 2004-12-31 \\\\\n",
       "\t9 & 1.48511 & 1.50946 & 1.46154 & 2005-03-31 \\\\\n",
       "\t10 & 1.5377 & 1.5715 & 1.50533 & 2005-06-30 \\\\\n",
       "\t11 & 1.6106 & 1.64473 & 1.57785 & 2005-09-30 \\\\\n",
       "\t12 & 1.68617 & 1.72069 & 1.65301 & 2005-12-31 \\\\\n",
       "\t13 & 1.64539 & 1.6645 & 1.62671 & 2006-03-31 \\\\\n",
       "\t14 & 1.70139 & 1.72994 & 1.67377 & 2006-06-30 \\\\\n",
       "\t15 & 1.74371 & 1.76344 & 1.72441 & 2006-09-30 \\\\\n",
       "\t16 & 1.81588 & 1.83663 & 1.7956 & 2006-12-31 \\\\\n",
       "\t17 & 1.79017 & 1.82563 & 1.75607 & 2007-03-31 \\\\\n",
       "\t18 & 1.86403 & 1.8978 & 1.83145 & 2007-06-30 \\\\\n",
       "\t19 & 1.94287 & 1.99077 & 1.89722 & 2007-09-30 \\\\\n",
       "\t20 & 1.78555 & 1.79856 & 1.77274 & 2007-12-31 \\\\\n",
       "\t21 & 1.98055 & 2.04641 & 1.91879 & 2008-03-31 \\\\\n",
       "\t22 & 1.9092 & 1.94786 & 1.87205 & 2008-06-30 \\\\\n",
       "\t23 & 2.04475 & 2.11604 & 1.97811 & 2008-09-30 \\\\\n",
       "\t24 & 1.97763 & 2.04279 & 1.9165 & 2008-12-31 \\\\\n",
       "\t25 & 1.84165 & 1.87845 & 1.80627 & 2009-03-31 \\\\\n",
       "\t26 & 1.82885 & 1.87452 & 1.78536 & 2009-06-30 \\\\\n",
       "\t27 & 1.81256 & 1.85692 & 1.77027 & 2009-09-30 \\\\\n",
       "\t28 & 1.76396 & 1.80507 & 1.72468 & 2009-12-31 \\\\\n",
       "\t29 & 1.78724 & 1.82931 & 1.74706 & 2010-03-31 \\\\\n",
       "\t30 & 1.84848 & 1.89459 & 1.80457 & 2010-06-30 \\\\\n",
       "\t$\\dots$ & $\\dots$ & $\\dots$ & $\\dots$ & $\\dots$ \\\\\n",
       "\\end{tabular}\n"
      ],
      "text/plain": [
       "\u001b[1m76×4 DataFrame\u001b[0m\n",
       "\u001b[1m Row \u001b[0m│\u001b[1m index   \u001b[0m\u001b[1m ci₀     \u001b[0m\u001b[1m ci₁     \u001b[0m\u001b[1m dates      \u001b[0m\n",
       "\u001b[1m     \u001b[0m│\u001b[90m Float64 \u001b[0m\u001b[90m Float64 \u001b[0m\u001b[90m Float64 \u001b[0m\u001b[90m Date       \u001b[0m\n",
       "─────┼───────────────────────────────────────\n",
       "   1 │ 1.0      1.0      1.0      2003-03-31\n",
       "   2 │ 1.08049  1.0889   1.07221  2003-06-30\n",
       "   3 │ 1.09995  1.1047   1.09524  2003-09-30\n",
       "   4 │ 1.14003  1.14852  1.13166  2003-12-31\n",
       "   5 │ 1.22558  1.24348  1.20819  2004-03-31\n",
       "   6 │ 1.31709  1.33703  1.29773  2004-06-30\n",
       "   7 │ 1.38794  1.41651  1.36049  2004-09-30\n",
       "   8 │ 1.3702   1.39423  1.34697  2004-12-31\n",
       "   9 │ 1.48511  1.50946  1.46154  2005-03-31\n",
       "  10 │ 1.5377   1.5715   1.50533  2005-06-30\n",
       "  11 │ 1.6106   1.64473  1.57785  2005-09-30\n",
       "  ⋮  │    ⋮        ⋮        ⋮         ⋮\n",
       "  67 │ 2.40762  2.47089  2.34751  2019-09-30\n",
       "  68 │ 2.36268  2.42753  2.3012   2019-12-31\n",
       "  69 │ 2.40168  2.45554  2.35013  2020-03-31\n",
       "  70 │ 2.11293  2.13174  2.09446  2020-06-30\n",
       "  71 │ 2.06551  2.11569  2.01765  2020-09-30\n",
       "  72 │ 2.11173  2.15528  2.06991  2020-12-31\n",
       "  73 │ 2.28385  2.3372   2.23289  2021-03-31\n",
       "  74 │ 2.44873  2.53805  2.36549  2021-06-30\n",
       "  75 │ 2.50145  2.60843  2.40291  2021-09-30\n",
       "  76 │ 2.53973  2.62037  2.4639   2021-12-31\n",
       "\u001b[36m                              55 rows omitted\u001b[0m"
      ]
     },
     "execution_count": 153,
     "metadata": {},
     "output_type": "execute_result"
    }
   ],
   "source": [
    "idx = calc_index(df[(df.borough .== \"Manhattan\") .& (df.house_class .== \"Condo\"), :])"
   ]
  },
  {
   "cell_type": "code",
   "execution_count": 111,
   "id": "disturbed-turning",
   "metadata": {},
   "outputs": [
    {
     "data": {
      "image/svg+xml": [
       "<?xml version=\"1.0\" encoding=\"utf-8\"?>\n",
       "<svg xmlns=\"http://www.w3.org/2000/svg\" xmlns:xlink=\"http://www.w3.org/1999/xlink\" width=\"600\" height=\"400\" viewBox=\"0 0 2400 1600\">\n",
       "<defs>\n",
       "  <clipPath id=\"clip530\">\n",
       "    <rect x=\"0\" y=\"0\" width=\"2400\" height=\"1600\"/>\n",
       "  </clipPath>\n",
       "</defs>\n",
       "<path clip-path=\"url(#clip530)\" d=\"\n",
       "M0 1600 L2400 1600 L2400 0 L0 0  Z\n",
       "  \" fill=\"#ffffff\" fill-rule=\"evenodd\" fill-opacity=\"1\"/>\n",
       "<defs>\n",
       "  <clipPath id=\"clip531\">\n",
       "    <rect x=\"480\" y=\"0\" width=\"1681\" height=\"1600\"/>\n",
       "  </clipPath>\n",
       "</defs>\n",
       "<path clip-path=\"url(#clip530)\" d=\"\n",
       "M304.627 1486.45 L2352.76 1486.45 L2352.76 123.472 L304.627 123.472  Z\n",
       "  \" fill=\"#ffffff\" fill-rule=\"evenodd\" fill-opacity=\"1\"/>\n",
       "<defs>\n",
       "  <clipPath id=\"clip532\">\n",
       "    <rect x=\"304\" y=\"123\" width=\"2049\" height=\"1364\"/>\n",
       "  </clipPath>\n",
       "</defs>\n",
       "<polyline clip-path=\"url(#clip532)\" style=\"stroke:#000000; stroke-linecap:butt; stroke-linejoin:round; stroke-width:2; stroke-opacity:0.1; fill:none\" points=\"\n",
       "  337.488,1486.45 337.488,123.472 \n",
       "  \"/>\n",
       "<polyline clip-path=\"url(#clip532)\" style=\"stroke:#000000; stroke-linecap:butt; stroke-linejoin:round; stroke-width:2; stroke-opacity:0.1; fill:none\" points=\"\n",
       "  852.553,1486.45 852.553,123.472 \n",
       "  \"/>\n",
       "<polyline clip-path=\"url(#clip532)\" style=\"stroke:#000000; stroke-linecap:butt; stroke-linejoin:round; stroke-width:2; stroke-opacity:0.1; fill:none\" points=\"\n",
       "  1367.9,1486.45 1367.9,123.472 \n",
       "  \"/>\n",
       "<polyline clip-path=\"url(#clip532)\" style=\"stroke:#000000; stroke-linecap:butt; stroke-linejoin:round; stroke-width:2; stroke-opacity:0.1; fill:none\" points=\"\n",
       "  1882.96,1486.45 1882.96,123.472 \n",
       "  \"/>\n",
       "<polyline clip-path=\"url(#clip530)\" style=\"stroke:#000000; stroke-linecap:butt; stroke-linejoin:round; stroke-width:4; stroke-opacity:1; fill:none\" points=\"\n",
       "  304.627,1486.45 2352.76,1486.45 \n",
       "  \"/>\n",
       "<polyline clip-path=\"url(#clip530)\" style=\"stroke:#000000; stroke-linecap:butt; stroke-linejoin:round; stroke-width:4; stroke-opacity:1; fill:none\" points=\"\n",
       "  337.488,1486.45 337.488,1467.55 \n",
       "  \"/>\n",
       "<polyline clip-path=\"url(#clip530)\" style=\"stroke:#000000; stroke-linecap:butt; stroke-linejoin:round; stroke-width:4; stroke-opacity:1; fill:none\" points=\"\n",
       "  852.553,1486.45 852.553,1467.55 \n",
       "  \"/>\n",
       "<polyline clip-path=\"url(#clip530)\" style=\"stroke:#000000; stroke-linecap:butt; stroke-linejoin:round; stroke-width:4; stroke-opacity:1; fill:none\" points=\"\n",
       "  1367.9,1486.45 1367.9,1467.55 \n",
       "  \"/>\n",
       "<polyline clip-path=\"url(#clip530)\" style=\"stroke:#000000; stroke-linecap:butt; stroke-linejoin:round; stroke-width:4; stroke-opacity:1; fill:none\" points=\"\n",
       "  1882.96,1486.45 1882.96,1467.55 \n",
       "  \"/>\n",
       "<path clip-path=\"url(#clip530)\" d=\"M209.283 1544.91 L225.602 1544.91 L225.602 1548.85 L203.658 1548.85 L203.658 1544.91 Q206.32 1542.16 210.903 1537.53 Q215.51 1532.88 216.69 1531.53 Q218.936 1529.01 219.815 1527.27 Q220.718 1525.51 220.718 1523.82 Q220.718 1521.07 218.774 1519.33 Q216.852 1517.6 213.751 1517.6 Q211.552 1517.6 209.098 1518.36 Q206.667 1519.13 203.89 1520.68 L203.89 1515.95 Q206.714 1514.82 209.167 1514.24 Q211.621 1513.66 213.658 1513.66 Q219.028 1513.66 222.223 1516.35 Q225.417 1519.03 225.417 1523.52 Q225.417 1525.65 224.607 1527.57 Q223.82 1529.47 221.714 1532.07 Q221.135 1532.74 218.033 1535.95 Q214.931 1539.15 209.283 1544.91 Z\" fill=\"#000000\" fill-rule=\"evenodd\" fill-opacity=\"1\" /><path clip-path=\"url(#clip530)\" d=\"M245.417 1517.37 Q241.806 1517.37 239.977 1520.93 Q238.172 1524.47 238.172 1531.6 Q238.172 1538.71 239.977 1542.27 Q241.806 1545.82 245.417 1545.82 Q249.051 1545.82 250.857 1542.27 Q252.686 1538.71 252.686 1531.6 Q252.686 1524.47 250.857 1520.93 Q249.051 1517.37 245.417 1517.37 M245.417 1513.66 Q251.227 1513.66 254.283 1518.27 Q257.362 1522.85 257.362 1531.6 Q257.362 1540.33 254.283 1544.94 Q251.227 1549.52 245.417 1549.52 Q239.607 1549.52 236.528 1544.94 Q233.473 1540.33 233.473 1531.6 Q233.473 1522.85 236.528 1518.27 Q239.607 1513.66 245.417 1513.66 Z\" fill=\"#000000\" fill-rule=\"evenodd\" fill-opacity=\"1\" /><path clip-path=\"url(#clip530)\" d=\"M275.579 1517.37 Q271.968 1517.37 270.139 1520.93 Q268.334 1524.47 268.334 1531.6 Q268.334 1538.71 270.139 1542.27 Q271.968 1545.82 275.579 1545.82 Q279.213 1545.82 281.019 1542.27 Q282.847 1538.71 282.847 1531.6 Q282.847 1524.47 281.019 1520.93 Q279.213 1517.37 275.579 1517.37 M275.579 1513.66 Q281.389 1513.66 284.445 1518.27 Q287.523 1522.85 287.523 1531.6 Q287.523 1540.33 284.445 1544.94 Q281.389 1549.52 275.579 1549.52 Q269.769 1549.52 266.69 1544.94 Q263.635 1540.33 263.635 1531.6 Q263.635 1522.85 266.69 1518.27 Q269.769 1513.66 275.579 1513.66 Z\" fill=\"#000000\" fill-rule=\"evenodd\" fill-opacity=\"1\" /><path clip-path=\"url(#clip530)\" d=\"M309.908 1530.21 Q313.264 1530.93 315.139 1533.2 Q317.037 1535.47 317.037 1538.8 Q317.037 1543.92 313.519 1546.72 Q310 1549.52 303.519 1549.52 Q301.343 1549.52 299.028 1549.08 Q296.736 1548.66 294.283 1547.81 L294.283 1543.29 Q296.227 1544.43 298.542 1545.01 Q300.857 1545.58 303.38 1545.58 Q307.778 1545.58 310.07 1543.85 Q312.384 1542.11 312.384 1538.8 Q312.384 1535.75 310.232 1534.03 Q308.102 1532.3 304.283 1532.3 L300.255 1532.3 L300.255 1528.45 L304.468 1528.45 Q307.917 1528.45 309.746 1527.09 Q311.574 1525.7 311.574 1523.11 Q311.574 1520.45 309.676 1519.03 Q307.801 1517.6 304.283 1517.6 Q302.361 1517.6 300.162 1518.01 Q297.963 1518.43 295.324 1519.31 L295.324 1515.14 Q297.986 1514.4 300.301 1514.03 Q302.639 1513.66 304.699 1513.66 Q310.023 1513.66 313.125 1516.09 Q316.227 1518.5 316.227 1522.62 Q316.227 1525.49 314.583 1527.48 Q312.94 1529.45 309.908 1530.21 Z\" fill=\"#000000\" fill-rule=\"evenodd\" fill-opacity=\"1\" /><path clip-path=\"url(#clip530)\" d=\"M323.148 1533.96 L335.625 1533.96 L335.625 1537.76 L323.148 1537.76 L323.148 1533.96 Z\" fill=\"#000000\" fill-rule=\"evenodd\" fill-opacity=\"1\" /><path clip-path=\"url(#clip530)\" d=\"M353.009 1517.37 Q349.398 1517.37 347.569 1520.93 Q345.764 1524.47 345.764 1531.6 Q345.764 1538.71 347.569 1542.27 Q349.398 1545.82 353.009 1545.82 Q356.643 1545.82 358.449 1542.27 Q360.278 1538.71 360.278 1531.6 Q360.278 1524.47 358.449 1520.93 Q356.643 1517.37 353.009 1517.37 M353.009 1513.66 Q358.819 1513.66 361.875 1518.27 Q364.954 1522.85 364.954 1531.6 Q364.954 1540.33 361.875 1544.94 Q358.819 1549.52 353.009 1549.52 Q347.199 1549.52 344.12 1544.94 Q341.065 1540.33 341.065 1531.6 Q341.065 1522.85 344.12 1518.27 Q347.199 1513.66 353.009 1513.66 Z\" fill=\"#000000\" fill-rule=\"evenodd\" fill-opacity=\"1\" /><path clip-path=\"url(#clip530)\" d=\"M373.981 1544.91 L381.62 1544.91 L381.62 1518.55 L373.31 1520.21 L373.31 1515.95 L381.574 1514.29 L386.25 1514.29 L386.25 1544.91 L393.889 1544.91 L393.889 1548.85 L373.981 1548.85 L373.981 1544.91 Z\" fill=\"#000000\" fill-rule=\"evenodd\" fill-opacity=\"1\" /><path clip-path=\"url(#clip530)\" d=\"M400.578 1533.96 L413.055 1533.96 L413.055 1537.76 L400.578 1537.76 L400.578 1533.96 Z\" fill=\"#000000\" fill-rule=\"evenodd\" fill-opacity=\"1\" /><path clip-path=\"url(#clip530)\" d=\"M430.439 1517.37 Q426.828 1517.37 425 1520.93 Q423.194 1524.47 423.194 1531.6 Q423.194 1538.71 425 1542.27 Q426.828 1545.82 430.439 1545.82 Q434.074 1545.82 435.879 1542.27 Q437.708 1538.71 437.708 1531.6 Q437.708 1524.47 435.879 1520.93 Q434.074 1517.37 430.439 1517.37 M430.439 1513.66 Q436.249 1513.66 439.305 1518.27 Q442.384 1522.85 442.384 1531.6 Q442.384 1540.33 439.305 1544.94 Q436.249 1549.52 430.439 1549.52 Q424.629 1549.52 421.55 1544.94 Q418.495 1540.33 418.495 1531.6 Q418.495 1522.85 421.55 1518.27 Q424.629 1513.66 430.439 1513.66 Z\" fill=\"#000000\" fill-rule=\"evenodd\" fill-opacity=\"1\" /><path clip-path=\"url(#clip530)\" d=\"M451.411 1544.91 L459.05 1544.91 L459.05 1518.55 L450.74 1520.21 L450.74 1515.95 L459.004 1514.29 L463.68 1514.29 L463.68 1544.91 L471.319 1544.91 L471.319 1548.85 L451.411 1548.85 L451.411 1544.91 Z\" fill=\"#000000\" fill-rule=\"evenodd\" fill-opacity=\"1\" /><path clip-path=\"url(#clip530)\" d=\"M724.348 1544.91 L740.667 1544.91 L740.667 1548.85 L718.723 1548.85 L718.723 1544.91 Q721.385 1542.16 725.968 1537.53 Q730.574 1532.88 731.755 1531.53 Q734 1529.01 734.88 1527.27 Q735.783 1525.51 735.783 1523.82 Q735.783 1521.07 733.838 1519.33 Q731.917 1517.6 728.815 1517.6 Q726.616 1517.6 724.162 1518.36 Q721.732 1519.13 718.954 1520.68 L718.954 1515.95 Q721.778 1514.82 724.232 1514.24 Q726.686 1513.66 728.723 1513.66 Q734.093 1513.66 737.287 1516.35 Q740.482 1519.03 740.482 1523.52 Q740.482 1525.65 739.672 1527.57 Q738.885 1529.47 736.778 1532.07 Q736.199 1532.74 733.098 1535.95 Q729.996 1539.15 724.348 1544.91 Z\" fill=\"#000000\" fill-rule=\"evenodd\" fill-opacity=\"1\" /><path clip-path=\"url(#clip530)\" d=\"M760.482 1517.37 Q756.871 1517.37 755.042 1520.93 Q753.236 1524.47 753.236 1531.6 Q753.236 1538.71 755.042 1542.27 Q756.871 1545.82 760.482 1545.82 Q764.116 1545.82 765.921 1542.27 Q767.75 1538.71 767.75 1531.6 Q767.75 1524.47 765.921 1520.93 Q764.116 1517.37 760.482 1517.37 M760.482 1513.66 Q766.292 1513.66 769.347 1518.27 Q772.426 1522.85 772.426 1531.6 Q772.426 1540.33 769.347 1544.94 Q766.292 1549.52 760.482 1549.52 Q754.672 1549.52 751.593 1544.94 Q748.537 1540.33 748.537 1531.6 Q748.537 1522.85 751.593 1518.27 Q754.672 1513.66 760.482 1513.66 Z\" fill=\"#000000\" fill-rule=\"evenodd\" fill-opacity=\"1\" /><path clip-path=\"url(#clip530)\" d=\"M790.644 1517.37 Q787.032 1517.37 785.204 1520.93 Q783.398 1524.47 783.398 1531.6 Q783.398 1538.71 785.204 1542.27 Q787.032 1545.82 790.644 1545.82 Q794.278 1545.82 796.083 1542.27 Q797.912 1538.71 797.912 1531.6 Q797.912 1524.47 796.083 1520.93 Q794.278 1517.37 790.644 1517.37 M790.644 1513.66 Q796.454 1513.66 799.509 1518.27 Q802.588 1522.85 802.588 1531.6 Q802.588 1540.33 799.509 1544.94 Q796.454 1549.52 790.644 1549.52 Q784.833 1549.52 781.755 1544.94 Q778.699 1540.33 778.699 1531.6 Q778.699 1522.85 781.755 1518.27 Q784.833 1513.66 790.644 1513.66 Z\" fill=\"#000000\" fill-rule=\"evenodd\" fill-opacity=\"1\" /><path clip-path=\"url(#clip530)\" d=\"M820.805 1532.44 Q817.472 1532.44 815.551 1534.22 Q813.653 1536 813.653 1539.13 Q813.653 1542.25 815.551 1544.03 Q817.472 1545.82 820.805 1545.82 Q824.139 1545.82 826.06 1544.03 Q827.981 1542.23 827.981 1539.13 Q827.981 1536 826.06 1534.22 Q824.162 1532.44 820.805 1532.44 M816.13 1530.45 Q813.12 1529.7 811.43 1527.64 Q809.764 1525.58 809.764 1522.62 Q809.764 1518.48 812.704 1516.07 Q815.667 1513.66 820.805 1513.66 Q825.967 1513.66 828.907 1516.07 Q831.847 1518.48 831.847 1522.62 Q831.847 1525.58 830.157 1527.64 Q828.491 1529.7 825.504 1530.45 Q828.884 1531.23 830.759 1533.52 Q832.657 1535.82 832.657 1539.13 Q832.657 1544.15 829.579 1546.83 Q826.523 1549.52 820.805 1549.52 Q815.088 1549.52 812.009 1546.83 Q808.954 1544.15 808.954 1539.13 Q808.954 1535.82 810.852 1533.52 Q812.75 1531.23 816.13 1530.45 M814.417 1523.06 Q814.417 1525.75 816.083 1527.25 Q817.773 1528.76 820.805 1528.76 Q823.815 1528.76 825.504 1527.25 Q827.217 1525.75 827.217 1523.06 Q827.217 1520.38 825.504 1518.87 Q823.815 1517.37 820.805 1517.37 Q817.773 1517.37 816.083 1518.87 Q814.417 1520.38 814.417 1523.06 Z\" fill=\"#000000\" fill-rule=\"evenodd\" fill-opacity=\"1\" /><path clip-path=\"url(#clip530)\" d=\"M838.213 1533.96 L850.69 1533.96 L850.69 1537.76 L838.213 1537.76 L838.213 1533.96 Z\" fill=\"#000000\" fill-rule=\"evenodd\" fill-opacity=\"1\" /><path clip-path=\"url(#clip530)\" d=\"M868.074 1517.37 Q864.463 1517.37 862.634 1520.93 Q860.828 1524.47 860.828 1531.6 Q860.828 1538.71 862.634 1542.27 Q864.463 1545.82 868.074 1545.82 Q871.708 1545.82 873.513 1542.27 Q875.342 1538.71 875.342 1531.6 Q875.342 1524.47 873.513 1520.93 Q871.708 1517.37 868.074 1517.37 M868.074 1513.66 Q873.884 1513.66 876.939 1518.27 Q880.018 1522.85 880.018 1531.6 Q880.018 1540.33 876.939 1544.94 Q873.884 1549.52 868.074 1549.52 Q862.264 1549.52 859.185 1544.94 Q856.129 1540.33 856.129 1531.6 Q856.129 1522.85 859.185 1518.27 Q862.264 1513.66 868.074 1513.66 Z\" fill=\"#000000\" fill-rule=\"evenodd\" fill-opacity=\"1\" /><path clip-path=\"url(#clip530)\" d=\"M889.046 1544.91 L896.685 1544.91 L896.685 1518.55 L888.374 1520.21 L888.374 1515.95 L896.638 1514.29 L901.314 1514.29 L901.314 1544.91 L908.953 1544.91 L908.953 1548.85 L889.046 1548.85 L889.046 1544.91 Z\" fill=\"#000000\" fill-rule=\"evenodd\" fill-opacity=\"1\" /><path clip-path=\"url(#clip530)\" d=\"M915.643 1533.96 L928.12 1533.96 L928.12 1537.76 L915.643 1537.76 L915.643 1533.96 Z\" fill=\"#000000\" fill-rule=\"evenodd\" fill-opacity=\"1\" /><path clip-path=\"url(#clip530)\" d=\"M945.504 1517.37 Q941.893 1517.37 940.064 1520.93 Q938.258 1524.47 938.258 1531.6 Q938.258 1538.71 940.064 1542.27 Q941.893 1545.82 945.504 1545.82 Q949.138 1545.82 950.944 1542.27 Q952.772 1538.71 952.772 1531.6 Q952.772 1524.47 950.944 1520.93 Q949.138 1517.37 945.504 1517.37 M945.504 1513.66 Q951.314 1513.66 954.37 1518.27 Q957.448 1522.85 957.448 1531.6 Q957.448 1540.33 954.37 1544.94 Q951.314 1549.52 945.504 1549.52 Q939.694 1549.52 936.615 1544.94 Q933.559 1540.33 933.559 1531.6 Q933.559 1522.85 936.615 1518.27 Q939.694 1513.66 945.504 1513.66 Z\" fill=\"#000000\" fill-rule=\"evenodd\" fill-opacity=\"1\" /><path clip-path=\"url(#clip530)\" d=\"M966.476 1544.91 L974.115 1544.91 L974.115 1518.55 L965.805 1520.21 L965.805 1515.95 L974.068 1514.29 L978.744 1514.29 L978.744 1544.91 L986.383 1544.91 L986.383 1548.85 L966.476 1548.85 L966.476 1544.91 Z\" fill=\"#000000\" fill-rule=\"evenodd\" fill-opacity=\"1\" /><path clip-path=\"url(#clip530)\" d=\"M1239.69 1544.91 L1256.01 1544.91 L1256.01 1548.85 L1234.07 1548.85 L1234.07 1544.91 Q1236.73 1542.16 1241.31 1537.53 Q1245.92 1532.88 1247.1 1531.53 Q1249.35 1529.01 1250.23 1527.27 Q1251.13 1525.51 1251.13 1523.82 Q1251.13 1521.07 1249.18 1519.33 Q1247.26 1517.6 1244.16 1517.6 Q1241.96 1517.6 1239.51 1518.36 Q1237.08 1519.13 1234.3 1520.68 L1234.3 1515.95 Q1237.12 1514.82 1239.58 1514.24 Q1242.03 1513.66 1244.07 1513.66 Q1249.44 1513.66 1252.63 1516.35 Q1255.83 1519.03 1255.83 1523.52 Q1255.83 1525.65 1255.02 1527.57 Q1254.23 1529.47 1252.12 1532.07 Q1251.55 1532.74 1248.44 1535.95 Q1245.34 1539.15 1239.69 1544.91 Z\" fill=\"#000000\" fill-rule=\"evenodd\" fill-opacity=\"1\" /><path clip-path=\"url(#clip530)\" d=\"M1275.83 1517.37 Q1272.22 1517.37 1270.39 1520.93 Q1268.58 1524.47 1268.58 1531.6 Q1268.58 1538.71 1270.39 1542.27 Q1272.22 1545.82 1275.83 1545.82 Q1279.46 1545.82 1281.27 1542.27 Q1283.1 1538.71 1283.1 1531.6 Q1283.1 1524.47 1281.27 1520.93 Q1279.46 1517.37 1275.83 1517.37 M1275.83 1513.66 Q1281.64 1513.66 1284.69 1518.27 Q1287.77 1522.85 1287.77 1531.6 Q1287.77 1540.33 1284.69 1544.94 Q1281.64 1549.52 1275.83 1549.52 Q1270.02 1549.52 1266.94 1544.94 Q1263.88 1540.33 1263.88 1531.6 Q1263.88 1522.85 1266.94 1518.27 Q1270.02 1513.66 1275.83 1513.66 Z\" fill=\"#000000\" fill-rule=\"evenodd\" fill-opacity=\"1\" /><path clip-path=\"url(#clip530)\" d=\"M1296.8 1544.91 L1304.44 1544.91 L1304.44 1518.55 L1296.13 1520.21 L1296.13 1515.95 L1304.39 1514.29 L1309.07 1514.29 L1309.07 1544.91 L1316.71 1544.91 L1316.71 1548.85 L1296.8 1548.85 L1296.8 1544.91 Z\" fill=\"#000000\" fill-rule=\"evenodd\" fill-opacity=\"1\" /><path clip-path=\"url(#clip530)\" d=\"M1340.32 1530.21 Q1343.68 1530.93 1345.55 1533.2 Q1347.45 1535.47 1347.45 1538.8 Q1347.45 1543.92 1343.93 1546.72 Q1340.41 1549.52 1333.93 1549.52 Q1331.75 1549.52 1329.44 1549.08 Q1327.15 1548.66 1324.69 1547.81 L1324.69 1543.29 Q1326.64 1544.43 1328.95 1545.01 Q1331.27 1545.58 1333.79 1545.58 Q1338.19 1545.58 1340.48 1543.85 Q1342.8 1542.11 1342.8 1538.8 Q1342.8 1535.75 1340.64 1534.03 Q1338.51 1532.3 1334.69 1532.3 L1330.67 1532.3 L1330.67 1528.45 L1334.88 1528.45 Q1338.33 1528.45 1340.16 1527.09 Q1341.99 1525.7 1341.99 1523.11 Q1341.99 1520.45 1340.09 1519.03 Q1338.21 1517.6 1334.69 1517.6 Q1332.77 1517.6 1330.57 1518.01 Q1328.37 1518.43 1325.74 1519.31 L1325.74 1515.14 Q1328.4 1514.4 1330.71 1514.03 Q1333.05 1513.66 1335.11 1513.66 Q1340.43 1513.66 1343.54 1516.09 Q1346.64 1518.5 1346.64 1522.62 Q1346.64 1525.49 1344.99 1527.48 Q1343.35 1529.45 1340.32 1530.21 Z\" fill=\"#000000\" fill-rule=\"evenodd\" fill-opacity=\"1\" /><path clip-path=\"url(#clip530)\" d=\"M1353.56 1533.96 L1366.04 1533.96 L1366.04 1537.76 L1353.56 1537.76 L1353.56 1533.96 Z\" fill=\"#000000\" fill-rule=\"evenodd\" fill-opacity=\"1\" /><path clip-path=\"url(#clip530)\" d=\"M1383.42 1517.37 Q1379.81 1517.37 1377.98 1520.93 Q1376.17 1524.47 1376.17 1531.6 Q1376.17 1538.71 1377.98 1542.27 Q1379.81 1545.82 1383.42 1545.82 Q1387.05 1545.82 1388.86 1542.27 Q1390.69 1538.71 1390.69 1531.6 Q1390.69 1524.47 1388.86 1520.93 Q1387.05 1517.37 1383.42 1517.37 M1383.42 1513.66 Q1389.23 1513.66 1392.29 1518.27 Q1395.36 1522.85 1395.36 1531.6 Q1395.36 1540.33 1392.29 1544.94 Q1389.23 1549.52 1383.42 1549.52 Q1377.61 1549.52 1374.53 1544.94 Q1371.48 1540.33 1371.48 1531.6 Q1371.48 1522.85 1374.53 1518.27 Q1377.61 1513.66 1383.42 1513.66 Z\" fill=\"#000000\" fill-rule=\"evenodd\" fill-opacity=\"1\" /><path clip-path=\"url(#clip530)\" d=\"M1404.39 1544.91 L1412.03 1544.91 L1412.03 1518.55 L1403.72 1520.21 L1403.72 1515.95 L1411.98 1514.29 L1416.66 1514.29 L1416.66 1544.91 L1424.3 1544.91 L1424.3 1548.85 L1404.39 1548.85 L1404.39 1544.91 Z\" fill=\"#000000\" fill-rule=\"evenodd\" fill-opacity=\"1\" /><path clip-path=\"url(#clip530)\" d=\"M1430.99 1533.96 L1443.47 1533.96 L1443.47 1537.76 L1430.99 1537.76 L1430.99 1533.96 Z\" fill=\"#000000\" fill-rule=\"evenodd\" fill-opacity=\"1\" /><path clip-path=\"url(#clip530)\" d=\"M1460.85 1517.37 Q1457.24 1517.37 1455.41 1520.93 Q1453.61 1524.47 1453.61 1531.6 Q1453.61 1538.71 1455.41 1542.27 Q1457.24 1545.82 1460.85 1545.82 Q1464.48 1545.82 1466.29 1542.27 Q1468.12 1538.71 1468.12 1531.6 Q1468.12 1524.47 1466.29 1520.93 Q1464.48 1517.37 1460.85 1517.37 M1460.85 1513.66 Q1466.66 1513.66 1469.72 1518.27 Q1472.79 1522.85 1472.79 1531.6 Q1472.79 1540.33 1469.72 1544.94 Q1466.66 1549.52 1460.85 1549.52 Q1455.04 1549.52 1451.96 1544.94 Q1448.91 1540.33 1448.91 1531.6 Q1448.91 1522.85 1451.96 1518.27 Q1455.04 1513.66 1460.85 1513.66 Z\" fill=\"#000000\" fill-rule=\"evenodd\" fill-opacity=\"1\" /><path clip-path=\"url(#clip530)\" d=\"M1481.82 1544.91 L1489.46 1544.91 L1489.46 1518.55 L1481.15 1520.21 L1481.15 1515.95 L1489.42 1514.29 L1494.09 1514.29 L1494.09 1544.91 L1501.73 1544.91 L1501.73 1548.85 L1481.82 1548.85 L1481.82 1544.91 Z\" fill=\"#000000\" fill-rule=\"evenodd\" fill-opacity=\"1\" /><path clip-path=\"url(#clip530)\" d=\"M1754.76 1544.91 L1771.08 1544.91 L1771.08 1548.85 L1749.13 1548.85 L1749.13 1544.91 Q1751.8 1542.16 1756.38 1537.53 Q1760.99 1532.88 1762.17 1531.53 Q1764.41 1529.01 1765.29 1527.27 Q1766.19 1525.51 1766.19 1523.82 Q1766.19 1521.07 1764.25 1519.33 Q1762.33 1517.6 1759.23 1517.6 Q1757.03 1517.6 1754.57 1518.36 Q1752.14 1519.13 1749.37 1520.68 L1749.37 1515.95 Q1752.19 1514.82 1754.64 1514.24 Q1757.1 1513.66 1759.13 1513.66 Q1764.5 1513.66 1767.7 1516.35 Q1770.89 1519.03 1770.89 1523.52 Q1770.89 1525.65 1770.08 1527.57 Q1769.3 1529.47 1767.19 1532.07 Q1766.61 1532.74 1763.51 1535.95 Q1760.41 1539.15 1754.76 1544.91 Z\" fill=\"#000000\" fill-rule=\"evenodd\" fill-opacity=\"1\" /><path clip-path=\"url(#clip530)\" d=\"M1790.89 1517.37 Q1787.28 1517.37 1785.45 1520.93 Q1783.65 1524.47 1783.65 1531.6 Q1783.65 1538.71 1785.45 1542.27 Q1787.28 1545.82 1790.89 1545.82 Q1794.53 1545.82 1796.33 1542.27 Q1798.16 1538.71 1798.16 1531.6 Q1798.16 1524.47 1796.33 1520.93 Q1794.53 1517.37 1790.89 1517.37 M1790.89 1513.66 Q1796.7 1513.66 1799.76 1518.27 Q1802.84 1522.85 1802.84 1531.6 Q1802.84 1540.33 1799.76 1544.94 Q1796.7 1549.52 1790.89 1549.52 Q1785.08 1549.52 1782 1544.94 Q1778.95 1540.33 1778.95 1531.6 Q1778.95 1522.85 1782 1518.27 Q1785.08 1513.66 1790.89 1513.66 Z\" fill=\"#000000\" fill-rule=\"evenodd\" fill-opacity=\"1\" /><path clip-path=\"url(#clip530)\" d=\"M1811.86 1544.91 L1819.5 1544.91 L1819.5 1518.55 L1811.19 1520.21 L1811.19 1515.95 L1819.46 1514.29 L1824.13 1514.29 L1824.13 1544.91 L1831.77 1544.91 L1831.77 1548.85 L1811.86 1548.85 L1811.86 1544.91 Z\" fill=\"#000000\" fill-rule=\"evenodd\" fill-opacity=\"1\" /><path clip-path=\"url(#clip530)\" d=\"M1851.22 1532.44 Q1847.88 1532.44 1845.96 1534.22 Q1844.06 1536 1844.06 1539.13 Q1844.06 1542.25 1845.96 1544.03 Q1847.88 1545.82 1851.22 1545.82 Q1854.55 1545.82 1856.47 1544.03 Q1858.39 1542.23 1858.39 1539.13 Q1858.39 1536 1856.47 1534.22 Q1854.57 1532.44 1851.22 1532.44 M1846.54 1530.45 Q1843.53 1529.7 1841.84 1527.64 Q1840.17 1525.58 1840.17 1522.62 Q1840.17 1518.48 1843.11 1516.07 Q1846.08 1513.66 1851.22 1513.66 Q1856.38 1513.66 1859.32 1516.07 Q1862.26 1518.48 1862.26 1522.62 Q1862.26 1525.58 1860.57 1527.64 Q1858.9 1529.7 1855.92 1530.45 Q1859.3 1531.23 1861.17 1533.52 Q1863.07 1535.82 1863.07 1539.13 Q1863.07 1544.15 1859.99 1546.83 Q1856.93 1549.52 1851.22 1549.52 Q1845.5 1549.52 1842.42 1546.83 Q1839.36 1544.15 1839.36 1539.13 Q1839.36 1535.82 1841.26 1533.52 Q1843.16 1531.23 1846.54 1530.45 M1844.83 1523.06 Q1844.83 1525.75 1846.49 1527.25 Q1848.18 1528.76 1851.22 1528.76 Q1854.23 1528.76 1855.92 1527.25 Q1857.63 1525.75 1857.63 1523.06 Q1857.63 1520.38 1855.92 1518.87 Q1854.23 1517.37 1851.22 1517.37 Q1848.18 1517.37 1846.49 1518.87 Q1844.83 1520.38 1844.83 1523.06 Z\" fill=\"#000000\" fill-rule=\"evenodd\" fill-opacity=\"1\" /><path clip-path=\"url(#clip530)\" d=\"M1868.62 1533.96 L1881.1 1533.96 L1881.1 1537.76 L1868.62 1537.76 L1868.62 1533.96 Z\" fill=\"#000000\" fill-rule=\"evenodd\" fill-opacity=\"1\" /><path clip-path=\"url(#clip530)\" d=\"M1898.48 1517.37 Q1894.87 1517.37 1893.05 1520.93 Q1891.24 1524.47 1891.24 1531.6 Q1891.24 1538.71 1893.05 1542.27 Q1894.87 1545.82 1898.48 1545.82 Q1902.12 1545.82 1903.92 1542.27 Q1905.75 1538.71 1905.75 1531.6 Q1905.75 1524.47 1903.92 1520.93 Q1902.12 1517.37 1898.48 1517.37 M1898.48 1513.66 Q1904.29 1513.66 1907.35 1518.27 Q1910.43 1522.85 1910.43 1531.6 Q1910.43 1540.33 1907.35 1544.94 Q1904.29 1549.52 1898.48 1549.52 Q1892.67 1549.52 1889.6 1544.94 Q1886.54 1540.33 1886.54 1531.6 Q1886.54 1522.85 1889.6 1518.27 Q1892.67 1513.66 1898.48 1513.66 Z\" fill=\"#000000\" fill-rule=\"evenodd\" fill-opacity=\"1\" /><path clip-path=\"url(#clip530)\" d=\"M1919.46 1544.91 L1927.1 1544.91 L1927.1 1518.55 L1918.79 1520.21 L1918.79 1515.95 L1927.05 1514.29 L1931.73 1514.29 L1931.73 1544.91 L1939.36 1544.91 L1939.36 1548.85 L1919.46 1548.85 L1919.46 1544.91 Z\" fill=\"#000000\" fill-rule=\"evenodd\" fill-opacity=\"1\" /><path clip-path=\"url(#clip530)\" d=\"M1946.05 1533.96 L1958.53 1533.96 L1958.53 1537.76 L1946.05 1537.76 L1946.05 1533.96 Z\" fill=\"#000000\" fill-rule=\"evenodd\" fill-opacity=\"1\" /><path clip-path=\"url(#clip530)\" d=\"M1975.91 1517.37 Q1972.3 1517.37 1970.48 1520.93 Q1968.67 1524.47 1968.67 1531.6 Q1968.67 1538.71 1970.48 1542.27 Q1972.3 1545.82 1975.91 1545.82 Q1979.55 1545.82 1981.35 1542.27 Q1983.18 1538.71 1983.18 1531.6 Q1983.18 1524.47 1981.35 1520.93 Q1979.55 1517.37 1975.91 1517.37 M1975.91 1513.66 Q1981.73 1513.66 1984.78 1518.27 Q1987.86 1522.85 1987.86 1531.6 Q1987.86 1540.33 1984.78 1544.94 Q1981.73 1549.52 1975.91 1549.52 Q1970.1 1549.52 1967.03 1544.94 Q1963.97 1540.33 1963.97 1531.6 Q1963.97 1522.85 1967.03 1518.27 Q1970.1 1513.66 1975.91 1513.66 Z\" fill=\"#000000\" fill-rule=\"evenodd\" fill-opacity=\"1\" /><path clip-path=\"url(#clip530)\" d=\"M1996.89 1544.91 L2004.53 1544.91 L2004.53 1518.55 L1996.22 1520.21 L1996.22 1515.95 L2004.48 1514.29 L2009.16 1514.29 L2009.16 1544.91 L2016.79 1544.91 L2016.79 1548.85 L1996.89 1548.85 L1996.89 1544.91 Z\" fill=\"#000000\" fill-rule=\"evenodd\" fill-opacity=\"1\" /><polyline clip-path=\"url(#clip532)\" style=\"stroke:#000000; stroke-linecap:butt; stroke-linejoin:round; stroke-width:2; stroke-opacity:0.1; fill:none\" points=\"\n",
       "  304.627,1298.65 2352.76,1298.65 \n",
       "  \"/>\n",
       "<polyline clip-path=\"url(#clip532)\" style=\"stroke:#000000; stroke-linecap:butt; stroke-linejoin:round; stroke-width:2; stroke-opacity:0.1; fill:none\" points=\"\n",
       "  304.627,1108.3 2352.76,1108.3 \n",
       "  \"/>\n",
       "<polyline clip-path=\"url(#clip532)\" style=\"stroke:#000000; stroke-linecap:butt; stroke-linejoin:round; stroke-width:2; stroke-opacity:0.1; fill:none\" points=\"\n",
       "  304.627,917.951 2352.76,917.951 \n",
       "  \"/>\n",
       "<polyline clip-path=\"url(#clip532)\" style=\"stroke:#000000; stroke-linecap:butt; stroke-linejoin:round; stroke-width:2; stroke-opacity:0.1; fill:none\" points=\"\n",
       "  304.627,727.601 2352.76,727.601 \n",
       "  \"/>\n",
       "<polyline clip-path=\"url(#clip532)\" style=\"stroke:#000000; stroke-linecap:butt; stroke-linejoin:round; stroke-width:2; stroke-opacity:0.1; fill:none\" points=\"\n",
       "  304.627,537.252 2352.76,537.252 \n",
       "  \"/>\n",
       "<polyline clip-path=\"url(#clip532)\" style=\"stroke:#000000; stroke-linecap:butt; stroke-linejoin:round; stroke-width:2; stroke-opacity:0.1; fill:none\" points=\"\n",
       "  304.627,346.902 2352.76,346.902 \n",
       "  \"/>\n",
       "<polyline clip-path=\"url(#clip532)\" style=\"stroke:#000000; stroke-linecap:butt; stroke-linejoin:round; stroke-width:2; stroke-opacity:0.1; fill:none\" points=\"\n",
       "  304.627,156.552 2352.76,156.552 \n",
       "  \"/>\n",
       "<polyline clip-path=\"url(#clip530)\" style=\"stroke:#000000; stroke-linecap:butt; stroke-linejoin:round; stroke-width:4; stroke-opacity:1; fill:none\" points=\"\n",
       "  304.627,1486.45 304.627,123.472 \n",
       "  \"/>\n",
       "<polyline clip-path=\"url(#clip530)\" style=\"stroke:#000000; stroke-linecap:butt; stroke-linejoin:round; stroke-width:4; stroke-opacity:1; fill:none\" points=\"\n",
       "  304.627,1298.65 323.525,1298.65 \n",
       "  \"/>\n",
       "<polyline clip-path=\"url(#clip530)\" style=\"stroke:#000000; stroke-linecap:butt; stroke-linejoin:round; stroke-width:4; stroke-opacity:1; fill:none\" points=\"\n",
       "  304.627,1108.3 323.525,1108.3 \n",
       "  \"/>\n",
       "<polyline clip-path=\"url(#clip530)\" style=\"stroke:#000000; stroke-linecap:butt; stroke-linejoin:round; stroke-width:4; stroke-opacity:1; fill:none\" points=\"\n",
       "  304.627,917.951 323.525,917.951 \n",
       "  \"/>\n",
       "<polyline clip-path=\"url(#clip530)\" style=\"stroke:#000000; stroke-linecap:butt; stroke-linejoin:round; stroke-width:4; stroke-opacity:1; fill:none\" points=\"\n",
       "  304.627,727.601 323.525,727.601 \n",
       "  \"/>\n",
       "<polyline clip-path=\"url(#clip530)\" style=\"stroke:#000000; stroke-linecap:butt; stroke-linejoin:round; stroke-width:4; stroke-opacity:1; fill:none\" points=\"\n",
       "  304.627,537.252 323.525,537.252 \n",
       "  \"/>\n",
       "<polyline clip-path=\"url(#clip530)\" style=\"stroke:#000000; stroke-linecap:butt; stroke-linejoin:round; stroke-width:4; stroke-opacity:1; fill:none\" points=\"\n",
       "  304.627,346.902 323.525,346.902 \n",
       "  \"/>\n",
       "<polyline clip-path=\"url(#clip530)\" style=\"stroke:#000000; stroke-linecap:butt; stroke-linejoin:round; stroke-width:4; stroke-opacity:1; fill:none\" points=\"\n",
       "  304.627,156.552 323.525,156.552 \n",
       "  \"/>\n",
       "<path clip-path=\"url(#clip530)\" d=\"M53.1217 1287.82 L71.4781 1287.82 L71.4781 1291.75 L57.4041 1291.75 L57.4041 1300.23 Q58.4226 1299.88 59.4412 1299.72 Q60.4597 1299.53 61.4782 1299.53 Q67.2652 1299.53 70.6448 1302.7 Q74.0244 1305.87 74.0244 1311.29 Q74.0244 1316.87 70.5522 1319.97 Q67.08 1323.05 60.7606 1323.05 Q58.5847 1323.05 56.3162 1322.68 Q54.0708 1322.31 51.6634 1321.57 L51.6634 1316.87 Q53.7467 1318 55.969 1318.56 Q58.1912 1319.11 60.668 1319.11 Q64.6726 1319.11 67.0106 1317.01 Q69.3485 1314.9 69.3485 1311.29 Q69.3485 1307.68 67.0106 1305.57 Q64.6726 1303.47 60.668 1303.47 Q58.793 1303.47 56.918 1303.88 Q55.0662 1304.3 53.1217 1305.18 L53.1217 1287.82 Z\" fill=\"#000000\" fill-rule=\"evenodd\" fill-opacity=\"1\" /><path clip-path=\"url(#clip530)\" d=\"M83.2373 1316.5 L88.1216 1316.5 L88.1216 1322.38 L83.2373 1322.38 L83.2373 1316.5 Z\" fill=\"#000000\" fill-rule=\"evenodd\" fill-opacity=\"1\" /><path clip-path=\"url(#clip530)\" d=\"M108.307 1290.9 Q104.696 1290.9 102.867 1294.46 Q101.061 1298 101.061 1305.13 Q101.061 1312.24 102.867 1315.8 Q104.696 1319.35 108.307 1319.35 Q111.941 1319.35 113.746 1315.8 Q115.575 1312.24 115.575 1305.13 Q115.575 1298 113.746 1294.46 Q111.941 1290.9 108.307 1290.9 M108.307 1287.19 Q114.117 1287.19 117.172 1291.8 Q120.251 1296.38 120.251 1305.13 Q120.251 1313.86 117.172 1318.47 Q114.117 1323.05 108.307 1323.05 Q102.496 1323.05 99.4178 1318.47 Q96.3623 1313.86 96.3623 1305.13 Q96.3623 1296.38 99.4178 1291.8 Q102.496 1287.19 108.307 1287.19 Z\" fill=\"#000000\" fill-rule=\"evenodd\" fill-opacity=\"1\" /><path clip-path=\"url(#clip530)\" d=\"M138.469 1290.9 Q134.857 1290.9 133.029 1294.46 Q131.223 1298 131.223 1305.13 Q131.223 1312.24 133.029 1315.8 Q134.857 1319.35 138.469 1319.35 Q142.103 1319.35 143.908 1315.8 Q145.737 1312.24 145.737 1305.13 Q145.737 1298 143.908 1294.46 Q142.103 1290.9 138.469 1290.9 M138.469 1287.19 Q144.279 1287.19 147.334 1291.8 Q150.413 1296.38 150.413 1305.13 Q150.413 1313.86 147.334 1318.47 Q144.279 1323.05 138.469 1323.05 Q132.658 1323.05 129.58 1318.47 Q126.524 1313.86 126.524 1305.13 Q126.524 1296.38 129.58 1291.8 Q132.658 1287.19 138.469 1287.19 Z\" fill=\"#000000\" fill-rule=\"evenodd\" fill-opacity=\"1\" /><path clip-path=\"url(#clip530)\" d=\"M186.802 1296.92 L176.223 1307.54 L186.802 1318.12 L184.047 1320.92 L173.422 1310.29 L162.797 1320.92 L160.066 1318.12 L170.621 1307.54 L160.066 1296.92 L162.797 1294.11 L173.422 1304.74 L184.047 1294.11 L186.802 1296.92 Z\" fill=\"#000000\" fill-rule=\"evenodd\" fill-opacity=\"1\" /><path clip-path=\"url(#clip530)\" d=\"M199.163 1318.44 L206.801 1318.44 L206.801 1292.08 L198.491 1293.74 L198.491 1289.48 L206.755 1287.82 L211.431 1287.82 L211.431 1318.44 L219.07 1318.44 L219.07 1322.38 L199.163 1322.38 L199.163 1318.44 Z\" fill=\"#000000\" fill-rule=\"evenodd\" fill-opacity=\"1\" /><path clip-path=\"url(#clip530)\" d=\"M238.514 1290.9 Q234.903 1290.9 233.074 1294.46 Q231.269 1298 231.269 1305.13 Q231.269 1312.24 233.074 1315.8 Q234.903 1319.35 238.514 1319.35 Q242.149 1319.35 243.954 1315.8 Q245.783 1312.24 245.783 1305.13 Q245.783 1298 243.954 1294.46 Q242.149 1290.9 238.514 1290.9 M238.514 1287.19 Q244.324 1287.19 247.38 1291.8 Q250.459 1296.38 250.459 1305.13 Q250.459 1313.86 247.38 1318.47 Q244.324 1323.05 238.514 1323.05 Q232.704 1323.05 229.625 1318.47 Q226.57 1313.86 226.57 1305.13 Q226.57 1296.38 229.625 1291.8 Q232.704 1287.19 238.514 1287.19 Z\" fill=\"#000000\" fill-rule=\"evenodd\" fill-opacity=\"1\" /><path clip-path=\"url(#clip530)\" d=\"M251.644 1266.89 L266.558 1266.89 L266.558 1270.08 L255.123 1270.08 L255.123 1276.97 Q255.951 1276.69 256.778 1276.55 Q257.606 1276.4 258.433 1276.4 Q263.135 1276.4 265.881 1278.98 Q268.627 1281.56 268.627 1285.96 Q268.627 1290.49 265.806 1293.01 Q262.985 1295.51 257.85 1295.51 Q256.082 1295.51 254.239 1295.21 Q252.415 1294.91 250.459 1294.31 L250.459 1290.49 Q252.151 1291.41 253.957 1291.86 Q255.762 1292.32 257.775 1292.32 Q261.029 1292.32 262.928 1290.6 Q264.828 1288.89 264.828 1285.96 Q264.828 1283.02 262.928 1281.31 Q261.029 1279.6 257.775 1279.6 Q256.251 1279.6 254.728 1279.94 Q253.223 1280.28 251.644 1280.99 L251.644 1266.89 Z\" fill=\"#000000\" fill-rule=\"evenodd\" fill-opacity=\"1\" /><path clip-path=\"url(#clip530)\" d=\"M63.6541 1112.88 Q60.506 1112.88 58.6541 1115.04 Q56.8254 1117.19 56.8254 1120.94 Q56.8254 1124.67 58.6541 1126.84 Q60.506 1129 63.6541 1129 Q66.8022 1129 68.6309 1126.84 Q70.4828 1124.67 70.4828 1120.94 Q70.4828 1117.19 68.6309 1115.04 Q66.8022 1112.88 63.6541 1112.88 M72.9365 1098.23 L72.9365 1102.49 Q71.1772 1101.66 69.3717 1101.22 Q67.5893 1100.78 65.83 1100.78 Q61.2004 1100.78 58.7467 1103.9 Q56.3162 1107.03 55.969 1113.35 Q57.3347 1111.33 59.3949 1110.27 Q61.455 1109.18 63.9319 1109.18 Q69.1402 1109.18 72.1494 1112.35 Q75.1818 1115.5 75.1818 1120.94 Q75.1818 1126.26 72.0337 1129.48 Q68.8855 1132.7 63.6541 1132.7 Q57.6588 1132.7 54.4875 1128.12 Q51.3162 1123.51 51.3162 1114.78 Q51.3162 1106.59 55.2051 1101.73 Q59.0939 1096.84 65.6448 1096.84 Q67.4041 1096.84 69.1865 1097.19 Q70.992 1097.54 72.9365 1098.23 Z\" fill=\"#000000\" fill-rule=\"evenodd\" fill-opacity=\"1\" /><path clip-path=\"url(#clip530)\" d=\"M83.2373 1126.15 L88.1216 1126.15 L88.1216 1132.03 L83.2373 1132.03 L83.2373 1126.15 Z\" fill=\"#000000\" fill-rule=\"evenodd\" fill-opacity=\"1\" /><path clip-path=\"url(#clip530)\" d=\"M108.307 1100.55 Q104.696 1100.55 102.867 1104.11 Q101.061 1107.65 101.061 1114.78 Q101.061 1121.89 102.867 1125.45 Q104.696 1129 108.307 1129 Q111.941 1129 113.746 1125.45 Q115.575 1121.89 115.575 1114.78 Q115.575 1107.65 113.746 1104.11 Q111.941 1100.55 108.307 1100.55 M108.307 1096.84 Q114.117 1096.84 117.172 1101.45 Q120.251 1106.03 120.251 1114.78 Q120.251 1123.51 117.172 1128.12 Q114.117 1132.7 108.307 1132.7 Q102.496 1132.7 99.4178 1128.12 Q96.3623 1123.51 96.3623 1114.78 Q96.3623 1106.03 99.4178 1101.45 Q102.496 1096.84 108.307 1096.84 Z\" fill=\"#000000\" fill-rule=\"evenodd\" fill-opacity=\"1\" /><path clip-path=\"url(#clip530)\" d=\"M138.469 1100.55 Q134.857 1100.55 133.029 1104.11 Q131.223 1107.65 131.223 1114.78 Q131.223 1121.89 133.029 1125.45 Q134.857 1129 138.469 1129 Q142.103 1129 143.908 1125.45 Q145.737 1121.89 145.737 1114.78 Q145.737 1107.65 143.908 1104.11 Q142.103 1100.55 138.469 1100.55 M138.469 1096.84 Q144.279 1096.84 147.334 1101.45 Q150.413 1106.03 150.413 1114.78 Q150.413 1123.51 147.334 1128.12 Q144.279 1132.7 138.469 1132.7 Q132.658 1132.7 129.58 1128.12 Q126.524 1123.51 126.524 1114.78 Q126.524 1106.03 129.58 1101.45 Q132.658 1096.84 138.469 1096.84 Z\" fill=\"#000000\" fill-rule=\"evenodd\" fill-opacity=\"1\" /><path clip-path=\"url(#clip530)\" d=\"M186.802 1106.57 L176.223 1117.19 L186.802 1127.77 L184.047 1130.57 L173.422 1119.94 L162.797 1130.57 L160.066 1127.77 L170.621 1117.19 L160.066 1106.57 L162.797 1103.76 L173.422 1114.39 L184.047 1103.76 L186.802 1106.57 Z\" fill=\"#000000\" fill-rule=\"evenodd\" fill-opacity=\"1\" /><path clip-path=\"url(#clip530)\" d=\"M199.163 1128.09 L206.801 1128.09 L206.801 1101.73 L198.491 1103.39 L198.491 1099.13 L206.755 1097.47 L211.431 1097.47 L211.431 1128.09 L219.07 1128.09 L219.07 1132.03 L199.163 1132.03 L199.163 1128.09 Z\" fill=\"#000000\" fill-rule=\"evenodd\" fill-opacity=\"1\" /><path clip-path=\"url(#clip530)\" d=\"M238.514 1100.55 Q234.903 1100.55 233.074 1104.11 Q231.269 1107.65 231.269 1114.78 Q231.269 1121.89 233.074 1125.45 Q234.903 1129 238.514 1129 Q242.149 1129 243.954 1125.45 Q245.783 1121.89 245.783 1114.78 Q245.783 1107.65 243.954 1104.11 Q242.149 1100.55 238.514 1100.55 M238.514 1096.84 Q244.324 1096.84 247.38 1101.45 Q250.459 1106.03 250.459 1114.78 Q250.459 1123.51 247.38 1128.12 Q244.324 1132.7 238.514 1132.7 Q232.704 1132.7 229.625 1128.12 Q226.57 1123.51 226.57 1114.78 Q226.57 1106.03 229.625 1101.45 Q232.704 1096.84 238.514 1096.84 Z\" fill=\"#000000\" fill-rule=\"evenodd\" fill-opacity=\"1\" /><path clip-path=\"url(#clip530)\" d=\"M251.644 1076.54 L266.558 1076.54 L266.558 1079.74 L255.123 1079.74 L255.123 1086.62 Q255.951 1086.34 256.778 1086.21 Q257.606 1086.05 258.433 1086.05 Q263.135 1086.05 265.881 1088.63 Q268.627 1091.21 268.627 1095.61 Q268.627 1100.14 265.806 1102.66 Q262.985 1105.16 257.85 1105.16 Q256.082 1105.16 254.239 1104.86 Q252.415 1104.56 250.459 1103.96 L250.459 1100.14 Q252.151 1101.06 253.957 1101.51 Q255.762 1101.97 257.775 1101.97 Q261.029 1101.97 262.928 1100.25 Q264.828 1098.54 264.828 1095.61 Q264.828 1092.67 262.928 1090.96 Q261.029 1089.25 257.775 1089.25 Q256.251 1089.25 254.728 1089.59 Q253.223 1089.93 251.644 1090.64 L251.644 1076.54 Z\" fill=\"#000000\" fill-rule=\"evenodd\" fill-opacity=\"1\" /><path clip-path=\"url(#clip530)\" d=\"M51.8949 907.119 L74.117 907.119 L74.117 909.109 L61.5708 941.679 L56.6865 941.679 L68.492 911.054 L51.8949 911.054 L51.8949 907.119 Z\" fill=\"#000000\" fill-rule=\"evenodd\" fill-opacity=\"1\" /><path clip-path=\"url(#clip530)\" d=\"M83.2373 935.799 L88.1216 935.799 L88.1216 941.679 L83.2373 941.679 L83.2373 935.799 Z\" fill=\"#000000\" fill-rule=\"evenodd\" fill-opacity=\"1\" /><path clip-path=\"url(#clip530)\" d=\"M108.307 910.197 Q104.696 910.197 102.867 913.762 Q101.061 917.304 101.061 924.433 Q101.061 931.54 102.867 935.104 Q104.696 938.646 108.307 938.646 Q111.941 938.646 113.746 935.104 Q115.575 931.54 115.575 924.433 Q115.575 917.304 113.746 913.762 Q111.941 910.197 108.307 910.197 M108.307 906.494 Q114.117 906.494 117.172 911.1 Q120.251 915.683 120.251 924.433 Q120.251 933.16 117.172 937.767 Q114.117 942.35 108.307 942.35 Q102.496 942.35 99.4178 937.767 Q96.3623 933.16 96.3623 924.433 Q96.3623 915.683 99.4178 911.1 Q102.496 906.494 108.307 906.494 Z\" fill=\"#000000\" fill-rule=\"evenodd\" fill-opacity=\"1\" /><path clip-path=\"url(#clip530)\" d=\"M138.469 910.197 Q134.857 910.197 133.029 913.762 Q131.223 917.304 131.223 924.433 Q131.223 931.54 133.029 935.104 Q134.857 938.646 138.469 938.646 Q142.103 938.646 143.908 935.104 Q145.737 931.54 145.737 924.433 Q145.737 917.304 143.908 913.762 Q142.103 910.197 138.469 910.197 M138.469 906.494 Q144.279 906.494 147.334 911.1 Q150.413 915.683 150.413 924.433 Q150.413 933.16 147.334 937.767 Q144.279 942.35 138.469 942.35 Q132.658 942.35 129.58 937.767 Q126.524 933.16 126.524 924.433 Q126.524 915.683 129.58 911.1 Q132.658 906.494 138.469 906.494 Z\" fill=\"#000000\" fill-rule=\"evenodd\" fill-opacity=\"1\" /><path clip-path=\"url(#clip530)\" d=\"M186.802 916.216 L176.223 926.841 L186.802 937.419 L184.047 940.22 L173.422 929.595 L162.797 940.22 L160.066 937.419 L170.621 926.841 L160.066 916.216 L162.797 913.415 L173.422 924.04 L184.047 913.415 L186.802 916.216 Z\" fill=\"#000000\" fill-rule=\"evenodd\" fill-opacity=\"1\" /><path clip-path=\"url(#clip530)\" d=\"M199.163 937.743 L206.801 937.743 L206.801 911.378 L198.491 913.044 L198.491 908.785 L206.755 907.119 L211.431 907.119 L211.431 937.743 L219.07 937.743 L219.07 941.679 L199.163 941.679 L199.163 937.743 Z\" fill=\"#000000\" fill-rule=\"evenodd\" fill-opacity=\"1\" /><path clip-path=\"url(#clip530)\" d=\"M238.514 910.197 Q234.903 910.197 233.074 913.762 Q231.269 917.304 231.269 924.433 Q231.269 931.54 233.074 935.104 Q234.903 938.646 238.514 938.646 Q242.149 938.646 243.954 935.104 Q245.783 931.54 245.783 924.433 Q245.783 917.304 243.954 913.762 Q242.149 910.197 238.514 910.197 M238.514 906.494 Q244.324 906.494 247.38 911.1 Q250.459 915.683 250.459 924.433 Q250.459 933.16 247.38 937.767 Q244.324 942.35 238.514 942.35 Q232.704 942.35 229.625 937.767 Q226.57 933.16 226.57 924.433 Q226.57 915.683 229.625 911.1 Q232.704 906.494 238.514 906.494 Z\" fill=\"#000000\" fill-rule=\"evenodd\" fill-opacity=\"1\" /><path clip-path=\"url(#clip530)\" d=\"M251.644 886.188 L266.558 886.188 L266.558 889.385 L255.123 889.385 L255.123 896.269 Q255.951 895.987 256.778 895.855 Q257.606 895.705 258.433 895.705 Q263.135 895.705 265.881 898.282 Q268.627 900.858 268.627 905.259 Q268.627 909.792 265.806 912.312 Q262.985 914.814 257.85 914.814 Q256.082 914.814 254.239 914.513 Q252.415 914.212 250.459 913.61 L250.459 909.792 Q252.151 910.713 253.957 911.165 Q255.762 911.616 257.775 911.616 Q261.029 911.616 262.928 909.905 Q264.828 908.193 264.828 905.259 Q264.828 902.325 262.928 900.614 Q261.029 898.902 257.775 898.902 Q256.251 898.902 254.728 899.241 Q253.223 899.579 251.644 900.294 L251.644 886.188 Z\" fill=\"#000000\" fill-rule=\"evenodd\" fill-opacity=\"1\" /><path clip-path=\"url(#clip530)\" d=\"M63.0754 734.917 Q59.7421 734.917 57.8208 736.699 Q55.9227 738.482 55.9227 741.607 Q55.9227 744.732 57.8208 746.514 Q59.7421 748.296 63.0754 748.296 Q66.4087 748.296 68.33 746.514 Q70.2513 744.708 70.2513 741.607 Q70.2513 738.482 68.33 736.699 Q66.4319 734.917 63.0754 734.917 M58.3995 732.926 Q55.3903 732.185 53.7004 730.125 Q52.0338 728.065 52.0338 725.102 Q52.0338 720.959 54.9736 718.551 Q57.9365 716.144 63.0754 716.144 Q68.2374 716.144 71.1772 718.551 Q74.117 720.959 74.117 725.102 Q74.117 728.065 72.4272 730.125 Q70.7605 732.185 67.7744 732.926 Q71.1541 733.713 73.029 736.005 Q74.9272 738.296 74.9272 741.607 Q74.9272 746.63 71.8485 749.315 Q68.793 752 63.0754 752 Q57.3578 752 54.2791 749.315 Q51.2236 746.63 51.2236 741.607 Q51.2236 738.296 53.1217 736.005 Q55.0199 733.713 58.3995 732.926 M56.6865 725.542 Q56.6865 728.227 58.3532 729.732 Q60.043 731.236 63.0754 731.236 Q66.0846 731.236 67.7744 729.732 Q69.4874 728.227 69.4874 725.542 Q69.4874 722.857 67.7744 721.352 Q66.0846 719.848 63.0754 719.848 Q60.043 719.848 58.3532 721.352 Q56.6865 722.857 56.6865 725.542 Z\" fill=\"#000000\" fill-rule=\"evenodd\" fill-opacity=\"1\" /><path clip-path=\"url(#clip530)\" d=\"M83.2373 745.449 L88.1216 745.449 L88.1216 751.329 L83.2373 751.329 L83.2373 745.449 Z\" fill=\"#000000\" fill-rule=\"evenodd\" fill-opacity=\"1\" /><path clip-path=\"url(#clip530)\" d=\"M108.307 719.848 Q104.696 719.848 102.867 723.412 Q101.061 726.954 101.061 734.084 Q101.061 741.19 102.867 744.755 Q104.696 748.296 108.307 748.296 Q111.941 748.296 113.746 744.755 Q115.575 741.19 115.575 734.084 Q115.575 726.954 113.746 723.412 Q111.941 719.848 108.307 719.848 M108.307 716.144 Q114.117 716.144 117.172 720.75 Q120.251 725.334 120.251 734.084 Q120.251 742.81 117.172 747.417 Q114.117 752 108.307 752 Q102.496 752 99.4178 747.417 Q96.3623 742.81 96.3623 734.084 Q96.3623 725.334 99.4178 720.75 Q102.496 716.144 108.307 716.144 Z\" fill=\"#000000\" fill-rule=\"evenodd\" fill-opacity=\"1\" /><path clip-path=\"url(#clip530)\" d=\"M138.469 719.848 Q134.857 719.848 133.029 723.412 Q131.223 726.954 131.223 734.084 Q131.223 741.19 133.029 744.755 Q134.857 748.296 138.469 748.296 Q142.103 748.296 143.908 744.755 Q145.737 741.19 145.737 734.084 Q145.737 726.954 143.908 723.412 Q142.103 719.848 138.469 719.848 M138.469 716.144 Q144.279 716.144 147.334 720.75 Q150.413 725.334 150.413 734.084 Q150.413 742.81 147.334 747.417 Q144.279 752 138.469 752 Q132.658 752 129.58 747.417 Q126.524 742.81 126.524 734.084 Q126.524 725.334 129.58 720.75 Q132.658 716.144 138.469 716.144 Z\" fill=\"#000000\" fill-rule=\"evenodd\" fill-opacity=\"1\" /><path clip-path=\"url(#clip530)\" d=\"M186.802 725.866 L176.223 736.491 L186.802 747.07 L184.047 749.87 L173.422 739.246 L162.797 749.87 L160.066 747.07 L170.621 736.491 L160.066 725.866 L162.797 723.065 L173.422 733.69 L184.047 723.065 L186.802 725.866 Z\" fill=\"#000000\" fill-rule=\"evenodd\" fill-opacity=\"1\" /><path clip-path=\"url(#clip530)\" d=\"M199.163 747.394 L206.801 747.394 L206.801 721.028 L198.491 722.695 L198.491 718.435 L206.755 716.769 L211.431 716.769 L211.431 747.394 L219.07 747.394 L219.07 751.329 L199.163 751.329 L199.163 747.394 Z\" fill=\"#000000\" fill-rule=\"evenodd\" fill-opacity=\"1\" /><path clip-path=\"url(#clip530)\" d=\"M238.514 719.848 Q234.903 719.848 233.074 723.412 Q231.269 726.954 231.269 734.084 Q231.269 741.19 233.074 744.755 Q234.903 748.296 238.514 748.296 Q242.149 748.296 243.954 744.755 Q245.783 741.19 245.783 734.084 Q245.783 726.954 243.954 723.412 Q242.149 719.848 238.514 719.848 M238.514 716.144 Q244.324 716.144 247.38 720.75 Q250.459 725.334 250.459 734.084 Q250.459 742.81 247.38 747.417 Q244.324 752 238.514 752 Q232.704 752 229.625 747.417 Q226.57 742.81 226.57 734.084 Q226.57 725.334 229.625 720.75 Q232.704 716.144 238.514 716.144 Z\" fill=\"#000000\" fill-rule=\"evenodd\" fill-opacity=\"1\" /><path clip-path=\"url(#clip530)\" d=\"M251.644 695.838 L266.558 695.838 L266.558 699.036 L255.123 699.036 L255.123 705.919 Q255.951 705.637 256.778 705.506 Q257.606 705.355 258.433 705.355 Q263.135 705.355 265.881 707.932 Q268.627 710.508 268.627 714.91 Q268.627 719.442 265.806 721.962 Q262.985 724.464 257.85 724.464 Q256.082 724.464 254.239 724.163 Q252.415 723.862 250.459 723.26 L250.459 719.442 Q252.151 720.364 253.957 720.815 Q255.762 721.267 257.775 721.267 Q261.029 721.267 262.928 719.555 Q264.828 717.844 264.828 714.91 Q264.828 711.975 262.928 710.264 Q261.029 708.552 257.775 708.552 Q256.251 708.552 254.728 708.891 Q253.223 709.23 251.644 709.944 L251.644 695.838 Z\" fill=\"#000000\" fill-rule=\"evenodd\" fill-opacity=\"1\" /><path clip-path=\"url(#clip530)\" d=\"M53.2143 560.262 L53.2143 556.002 Q54.9736 556.836 56.7791 557.275 Q58.5847 557.715 60.3208 557.715 Q64.9504 557.715 67.3809 554.613 Q69.8346 551.488 70.1818 545.146 Q68.8393 547.137 66.7791 548.201 Q64.7189 549.266 62.2189 549.266 Q57.0338 549.266 54.0014 546.141 Q50.9921 542.993 50.9921 537.553 Q50.9921 532.229 54.1403 529.012 Q57.2884 525.794 62.5198 525.794 Q68.5152 525.794 71.6633 530.401 Q74.8346 534.984 74.8346 543.734 Q74.8346 551.905 70.9457 556.789 Q67.08 561.65 60.5291 561.65 Q58.7699 561.65 56.9643 561.303 Q55.1588 560.956 53.2143 560.262 M62.5198 545.609 Q65.668 545.609 67.4967 543.456 Q69.3485 541.303 69.3485 537.553 Q69.3485 533.826 67.4967 531.674 Q65.668 529.498 62.5198 529.498 Q59.3717 529.498 57.5199 531.674 Q55.6912 533.826 55.6912 537.553 Q55.6912 541.303 57.5199 543.456 Q59.3717 545.609 62.5198 545.609 Z\" fill=\"#000000\" fill-rule=\"evenodd\" fill-opacity=\"1\" /><path clip-path=\"url(#clip530)\" d=\"M83.2373 555.1 L88.1216 555.1 L88.1216 560.979 L83.2373 560.979 L83.2373 555.1 Z\" fill=\"#000000\" fill-rule=\"evenodd\" fill-opacity=\"1\" /><path clip-path=\"url(#clip530)\" d=\"M108.307 529.498 Q104.696 529.498 102.867 533.063 Q101.061 536.604 101.061 543.734 Q101.061 550.84 102.867 554.405 Q104.696 557.947 108.307 557.947 Q111.941 557.947 113.746 554.405 Q115.575 550.84 115.575 543.734 Q115.575 536.604 113.746 533.063 Q111.941 529.498 108.307 529.498 M108.307 525.794 Q114.117 525.794 117.172 530.401 Q120.251 534.984 120.251 543.734 Q120.251 552.461 117.172 557.067 Q114.117 561.65 108.307 561.65 Q102.496 561.65 99.4178 557.067 Q96.3623 552.461 96.3623 543.734 Q96.3623 534.984 99.4178 530.401 Q102.496 525.794 108.307 525.794 Z\" fill=\"#000000\" fill-rule=\"evenodd\" fill-opacity=\"1\" /><path clip-path=\"url(#clip530)\" d=\"M138.469 529.498 Q134.857 529.498 133.029 533.063 Q131.223 536.604 131.223 543.734 Q131.223 550.84 133.029 554.405 Q134.857 557.947 138.469 557.947 Q142.103 557.947 143.908 554.405 Q145.737 550.84 145.737 543.734 Q145.737 536.604 143.908 533.063 Q142.103 529.498 138.469 529.498 M138.469 525.794 Q144.279 525.794 147.334 530.401 Q150.413 534.984 150.413 543.734 Q150.413 552.461 147.334 557.067 Q144.279 561.65 138.469 561.65 Q132.658 561.65 129.58 557.067 Q126.524 552.461 126.524 543.734 Q126.524 534.984 129.58 530.401 Q132.658 525.794 138.469 525.794 Z\" fill=\"#000000\" fill-rule=\"evenodd\" fill-opacity=\"1\" /><path clip-path=\"url(#clip530)\" d=\"M186.802 535.516 L176.223 546.141 L186.802 556.72 L184.047 559.521 L173.422 548.896 L162.797 559.521 L160.066 556.72 L170.621 546.141 L160.066 535.516 L162.797 532.715 L173.422 543.34 L184.047 532.715 L186.802 535.516 Z\" fill=\"#000000\" fill-rule=\"evenodd\" fill-opacity=\"1\" /><path clip-path=\"url(#clip530)\" d=\"M199.163 557.044 L206.801 557.044 L206.801 530.678 L198.491 532.345 L198.491 528.086 L206.755 526.419 L211.431 526.419 L211.431 557.044 L219.07 557.044 L219.07 560.979 L199.163 560.979 L199.163 557.044 Z\" fill=\"#000000\" fill-rule=\"evenodd\" fill-opacity=\"1\" /><path clip-path=\"url(#clip530)\" d=\"M238.514 529.498 Q234.903 529.498 233.074 533.063 Q231.269 536.604 231.269 543.734 Q231.269 550.84 233.074 554.405 Q234.903 557.947 238.514 557.947 Q242.149 557.947 243.954 554.405 Q245.783 550.84 245.783 543.734 Q245.783 536.604 243.954 533.063 Q242.149 529.498 238.514 529.498 M238.514 525.794 Q244.324 525.794 247.38 530.401 Q250.459 534.984 250.459 543.734 Q250.459 552.461 247.38 557.067 Q244.324 561.65 238.514 561.65 Q232.704 561.65 229.625 557.067 Q226.57 552.461 226.57 543.734 Q226.57 534.984 229.625 530.401 Q232.704 525.794 238.514 525.794 Z\" fill=\"#000000\" fill-rule=\"evenodd\" fill-opacity=\"1\" /><path clip-path=\"url(#clip530)\" d=\"M251.644 505.489 L266.558 505.489 L266.558 508.686 L255.123 508.686 L255.123 515.57 Q255.951 515.288 256.778 515.156 Q257.606 515.005 258.433 515.005 Q263.135 515.005 265.881 517.582 Q268.627 520.159 268.627 524.56 Q268.627 529.092 265.806 531.613 Q262.985 534.114 257.85 534.114 Q256.082 534.114 254.239 533.813 Q252.415 533.512 250.459 532.91 L250.459 529.092 Q252.151 530.014 253.957 530.465 Q255.762 530.917 257.775 530.917 Q261.029 530.917 262.928 529.205 Q264.828 527.494 264.828 524.56 Q264.828 521.626 262.928 519.914 Q261.029 518.203 257.775 518.203 Q256.251 518.203 254.728 518.541 Q253.223 518.88 251.644 519.595 L251.644 505.489 Z\" fill=\"#000000\" fill-rule=\"evenodd\" fill-opacity=\"1\" /><path clip-path=\"url(#clip530)\" d=\"M52.6631 366.694 L60.302 366.694 L60.302 340.329 L51.9918 341.995 L51.9918 337.736 L60.2557 336.069 L64.9316 336.069 L64.9316 366.694 L72.5704 366.694 L72.5704 370.629 L52.6631 370.629 L52.6631 366.694 Z\" fill=\"#000000\" fill-rule=\"evenodd\" fill-opacity=\"1\" /><path clip-path=\"url(#clip530)\" d=\"M82.0148 364.75 L86.8991 364.75 L86.8991 370.629 L82.0148 370.629 L82.0148 364.75 Z\" fill=\"#000000\" fill-rule=\"evenodd\" fill-opacity=\"1\" /><path clip-path=\"url(#clip530)\" d=\"M107.084 339.148 Q103.473 339.148 101.644 342.713 Q99.8388 346.255 99.8388 353.384 Q99.8388 360.491 101.644 364.055 Q103.473 367.597 107.084 367.597 Q110.718 367.597 112.524 364.055 Q114.353 360.491 114.353 353.384 Q114.353 346.255 112.524 342.713 Q110.718 339.148 107.084 339.148 M107.084 335.444 Q112.894 335.444 115.95 340.051 Q119.029 344.634 119.029 353.384 Q119.029 362.111 115.95 366.717 Q112.894 371.301 107.084 371.301 Q101.274 371.301 98.1953 366.717 Q95.1397 362.111 95.1397 353.384 Q95.1397 344.634 98.1953 340.051 Q101.274 335.444 107.084 335.444 Z\" fill=\"#000000\" fill-rule=\"evenodd\" fill-opacity=\"1\" /><path clip-path=\"url(#clip530)\" d=\"M137.246 339.148 Q133.635 339.148 131.806 342.713 Q130.001 346.255 130.001 353.384 Q130.001 360.491 131.806 364.055 Q133.635 367.597 137.246 367.597 Q140.88 367.597 142.686 364.055 Q144.514 360.491 144.514 353.384 Q144.514 346.255 142.686 342.713 Q140.88 339.148 137.246 339.148 M137.246 335.444 Q143.056 335.444 146.112 340.051 Q149.19 344.634 149.19 353.384 Q149.19 362.111 146.112 366.717 Q143.056 371.301 137.246 371.301 Q131.436 371.301 128.357 366.717 Q125.302 362.111 125.302 353.384 Q125.302 344.634 128.357 340.051 Q131.436 335.444 137.246 335.444 Z\" fill=\"#000000\" fill-rule=\"evenodd\" fill-opacity=\"1\" /><path clip-path=\"url(#clip530)\" d=\"M185.579 345.167 L175 355.792 L185.579 366.37 L182.824 369.171 L172.2 358.546 L161.575 369.171 L158.843 366.37 L169.399 355.792 L158.843 345.167 L161.575 342.366 L172.2 352.991 L182.824 342.366 L185.579 345.167 Z\" fill=\"#000000\" fill-rule=\"evenodd\" fill-opacity=\"1\" /><path clip-path=\"url(#clip530)\" d=\"M197.94 366.694 L205.579 366.694 L205.579 340.329 L197.269 341.995 L197.269 337.736 L205.533 336.069 L210.209 336.069 L210.209 366.694 L217.847 366.694 L217.847 370.629 L197.94 370.629 L197.94 366.694 Z\" fill=\"#000000\" fill-rule=\"evenodd\" fill-opacity=\"1\" /><path clip-path=\"url(#clip530)\" d=\"M237.292 339.148 Q233.681 339.148 231.852 342.713 Q230.046 346.255 230.046 353.384 Q230.046 360.491 231.852 364.055 Q233.681 367.597 237.292 367.597 Q240.926 367.597 242.732 364.055 Q244.56 360.491 244.56 353.384 Q244.56 346.255 242.732 342.713 Q240.926 339.148 237.292 339.148 M237.292 335.444 Q243.102 335.444 246.157 340.051 Q249.236 344.634 249.236 353.384 Q249.236 362.111 246.157 366.717 Q243.102 371.301 237.292 371.301 Q231.482 371.301 228.403 366.717 Q225.347 362.111 225.347 353.384 Q225.347 344.634 228.403 340.051 Q231.482 335.444 237.292 335.444 Z\" fill=\"#000000\" fill-rule=\"evenodd\" fill-opacity=\"1\" /><path clip-path=\"url(#clip530)\" d=\"M259.261 327.665 Q256.703 327.665 255.198 329.414 Q253.712 331.163 253.712 334.21 Q253.712 337.238 255.198 339.006 Q256.703 340.755 259.261 340.755 Q261.819 340.755 263.304 339.006 Q264.809 337.238 264.809 334.21 Q264.809 331.163 263.304 329.414 Q261.819 327.665 259.261 327.665 M266.803 315.76 L266.803 319.22 Q265.373 318.543 263.906 318.186 Q262.458 317.829 261.029 317.829 Q257.267 317.829 255.273 320.368 Q253.299 322.907 253.017 328.041 Q254.126 326.405 255.8 325.54 Q257.474 324.656 259.486 324.656 Q263.718 324.656 266.163 327.232 Q268.627 329.79 268.627 334.21 Q268.627 338.536 266.069 341.15 Q263.511 343.764 259.261 343.764 Q254.389 343.764 251.813 340.041 Q249.236 336.298 249.236 329.207 Q249.236 322.549 252.396 318.6 Q255.556 314.631 260.878 314.631 Q262.308 314.631 263.756 314.913 Q265.223 315.195 266.803 315.76 Z\" fill=\"#000000\" fill-rule=\"evenodd\" fill-opacity=\"1\" /><path clip-path=\"url(#clip530)\" d=\"M52.6631 176.345 L60.302 176.345 L60.302 149.979 L51.9918 151.646 L51.9918 147.386 L60.2557 145.72 L64.9316 145.72 L64.9316 176.345 L72.5704 176.345 L72.5704 180.28 L52.6631 180.28 L52.6631 176.345 Z\" fill=\"#000000\" fill-rule=\"evenodd\" fill-opacity=\"1\" /><path clip-path=\"url(#clip530)\" d=\"M82.0148 174.4 L86.8991 174.4 L86.8991 180.28 L82.0148 180.28 L82.0148 174.4 Z\" fill=\"#000000\" fill-rule=\"evenodd\" fill-opacity=\"1\" /><path clip-path=\"url(#clip530)\" d=\"M97.8944 176.345 L105.533 176.345 L105.533 149.979 L97.2231 151.646 L97.2231 147.386 L105.487 145.72 L110.163 145.72 L110.163 176.345 L117.802 176.345 L117.802 180.28 L97.8944 180.28 L97.8944 176.345 Z\" fill=\"#000000\" fill-rule=\"evenodd\" fill-opacity=\"1\" /><path clip-path=\"url(#clip530)\" d=\"M137.246 148.798 Q133.635 148.798 131.806 152.363 Q130.001 155.905 130.001 163.034 Q130.001 170.141 131.806 173.706 Q133.635 177.247 137.246 177.247 Q140.88 177.247 142.686 173.706 Q144.514 170.141 144.514 163.034 Q144.514 155.905 142.686 152.363 Q140.88 148.798 137.246 148.798 M137.246 145.095 Q143.056 145.095 146.112 149.701 Q149.19 154.284 149.19 163.034 Q149.19 171.761 146.112 176.368 Q143.056 180.951 137.246 180.951 Q131.436 180.951 128.357 176.368 Q125.302 171.761 125.302 163.034 Q125.302 154.284 128.357 149.701 Q131.436 145.095 137.246 145.095 Z\" fill=\"#000000\" fill-rule=\"evenodd\" fill-opacity=\"1\" /><path clip-path=\"url(#clip530)\" d=\"M185.579 154.817 L175 165.442 L185.579 176.02 L182.824 178.821 L172.2 168.196 L161.575 178.821 L158.843 176.02 L169.399 165.442 L158.843 154.817 L161.575 152.016 L172.2 162.641 L182.824 152.016 L185.579 154.817 Z\" fill=\"#000000\" fill-rule=\"evenodd\" fill-opacity=\"1\" /><path clip-path=\"url(#clip530)\" d=\"M197.94 176.345 L205.579 176.345 L205.579 149.979 L197.269 151.646 L197.269 147.386 L205.533 145.72 L210.209 145.72 L210.209 176.345 L217.847 176.345 L217.847 180.28 L197.94 180.28 L197.94 176.345 Z\" fill=\"#000000\" fill-rule=\"evenodd\" fill-opacity=\"1\" /><path clip-path=\"url(#clip530)\" d=\"M237.292 148.798 Q233.681 148.798 231.852 152.363 Q230.046 155.905 230.046 163.034 Q230.046 170.141 231.852 173.706 Q233.681 177.247 237.292 177.247 Q240.926 177.247 242.732 173.706 Q244.56 170.141 244.56 163.034 Q244.56 155.905 242.732 152.363 Q240.926 148.798 237.292 148.798 M237.292 145.095 Q243.102 145.095 246.157 149.701 Q249.236 154.284 249.236 163.034 Q249.236 171.761 246.157 176.368 Q243.102 180.951 237.292 180.951 Q231.482 180.951 228.403 176.368 Q225.347 171.761 225.347 163.034 Q225.347 154.284 228.403 149.701 Q231.482 145.095 237.292 145.095 Z\" fill=\"#000000\" fill-rule=\"evenodd\" fill-opacity=\"1\" /><path clip-path=\"url(#clip530)\" d=\"M259.261 137.315 Q256.703 137.315 255.198 139.064 Q253.712 140.814 253.712 143.86 Q253.712 146.888 255.198 148.656 Q256.703 150.406 259.261 150.406 Q261.819 150.406 263.304 148.656 Q264.809 146.888 264.809 143.86 Q264.809 140.814 263.304 139.064 Q261.819 137.315 259.261 137.315 M266.803 125.41 L266.803 128.871 Q265.373 128.194 263.906 127.836 Q262.458 127.479 261.029 127.479 Q257.267 127.479 255.273 130.018 Q253.299 132.557 253.017 137.691 Q254.126 136.055 255.8 135.19 Q257.474 134.306 259.486 134.306 Q263.718 134.306 266.163 136.883 Q268.627 139.441 268.627 143.86 Q268.627 148.186 266.069 150.8 Q263.511 153.415 259.261 153.415 Q254.389 153.415 251.813 149.691 Q249.236 145.948 249.236 138.858 Q249.236 132.2 252.396 128.25 Q255.556 124.282 260.878 124.282 Q262.308 124.282 263.756 124.564 Q265.223 124.846 266.803 125.41 Z\" fill=\"#000000\" fill-rule=\"evenodd\" fill-opacity=\"1\" /><path clip-path=\"url(#clip530)\" d=\"M1091.69 20.1573 L1080.59 50.2555 L1102.83 50.2555 L1091.69 20.1573 M1087.08 12.096 L1096.35 12.096 L1119.4 72.576 L1110.89 72.576 L1105.39 57.061 L1078.12 57.061 L1072.61 72.576 L1063.99 72.576 L1087.08 12.096 Z\" fill=\"#000000\" fill-rule=\"evenodd\" fill-opacity=\"1\" /><path clip-path=\"url(#clip530)\" d=\"M1135.12 65.7705 L1135.12 89.8329 L1127.62 89.8329 L1127.62 27.2059 L1135.12 27.2059 L1135.12 34.0924 Q1137.47 30.0415 1141.03 28.0971 Q1144.64 26.1121 1149.62 26.1121 Q1157.89 26.1121 1163.03 32.6746 Q1168.21 39.2371 1168.21 49.9314 Q1168.21 60.6258 1163.03 67.1883 Q1157.89 73.7508 1149.62 73.7508 Q1144.64 73.7508 1141.03 71.8063 Q1137.47 69.8214 1135.12 65.7705 M1160.48 49.9314 Q1160.48 41.7081 1157.07 37.0496 Q1153.71 32.3505 1147.8 32.3505 Q1141.88 32.3505 1138.48 37.0496 Q1135.12 41.7081 1135.12 49.9314 Q1135.12 58.1548 1138.48 62.8538 Q1141.88 67.5124 1147.8 67.5124 Q1153.71 67.5124 1157.07 62.8538 Q1160.48 58.1548 1160.48 49.9314 Z\" fill=\"#000000\" fill-rule=\"evenodd\" fill-opacity=\"1\" /><path clip-path=\"url(#clip530)\" d=\"M1187.94 14.324 L1187.94 27.2059 L1203.3 27.2059 L1203.3 32.9987 L1187.94 32.9987 L1187.94 57.6282 Q1187.94 63.1779 1189.44 64.7578 Q1190.98 66.3376 1195.64 66.3376 L1203.3 66.3376 L1203.3 72.576 L1195.64 72.576 Q1187.01 72.576 1183.73 69.3758 Q1180.45 66.1351 1180.45 57.6282 L1180.45 32.9987 L1174.98 32.9987 L1174.98 27.2059 L1180.45 27.2059 L1180.45 14.324 L1187.94 14.324 Z\" fill=\"#000000\" fill-rule=\"evenodd\" fill-opacity=\"1\" /><path clip-path=\"url(#clip530)\" d=\"M1241.94 65.6895 L1255.31 65.6895 L1255.31 19.5497 L1240.77 22.4663 L1240.77 15.0127 L1255.23 12.096 L1263.41 12.096 L1263.41 65.6895 L1276.78 65.6895 L1276.78 72.576 L1241.94 72.576 L1241.94 65.6895 Z\" fill=\"#000000\" fill-rule=\"evenodd\" fill-opacity=\"1\" /><path clip-path=\"url(#clip530)\" d=\"M1300.76 43.6931 L1300.76 65.8515 L1313.89 65.8515 Q1320.49 65.8515 1323.65 63.1374 Q1326.85 60.3828 1326.85 54.752 Q1326.85 49.0808 1323.65 46.4072 Q1320.49 43.6931 1313.89 43.6931 L1300.76 43.6931 M1300.76 18.8205 L1300.76 37.0496 L1312.87 37.0496 Q1318.87 37.0496 1321.78 34.8216 Q1324.74 32.5531 1324.74 27.935 Q1324.74 23.3575 1321.78 21.089 Q1318.87 18.8205 1312.87 18.8205 L1300.76 18.8205 M1292.58 12.096 L1313.48 12.096 Q1322.84 12.096 1327.9 15.9849 Q1332.97 19.8737 1332.97 27.0438 Q1332.97 32.5936 1330.37 35.8748 Q1327.78 39.156 1322.76 39.9662 Q1328.79 41.2625 1332.11 45.3944 Q1335.48 49.4858 1335.48 55.6432 Q1335.48 63.745 1329.97 68.1605 Q1324.46 72.576 1314.29 72.576 L1292.58 72.576 L1292.58 12.096 Z\" fill=\"#000000\" fill-rule=\"evenodd\" fill-opacity=\"1\" /><path clip-path=\"url(#clip530)\" d=\"M1375.86 12.096 L1384.05 12.096 L1384.05 72.576 L1375.86 72.576 L1375.86 12.096 Z\" fill=\"#000000\" fill-rule=\"evenodd\" fill-opacity=\"1\" /><path clip-path=\"url(#clip530)\" d=\"M1437.72 45.1919 L1437.72 72.576 L1430.27 72.576 L1430.27 45.4349 Q1430.27 38.994 1427.76 35.7938 Q1425.24 32.5936 1420.22 32.5936 Q1414.19 32.5936 1410.7 36.4419 Q1407.22 40.2903 1407.22 46.9338 L1407.22 72.576 L1399.72 72.576 L1399.72 27.2059 L1407.22 27.2059 L1407.22 34.2544 Q1409.89 30.163 1413.5 28.1376 Q1417.14 26.1121 1421.88 26.1121 Q1429.7 26.1121 1433.71 30.9732 Q1437.72 35.7938 1437.72 45.1919 Z\" fill=\"#000000\" fill-rule=\"evenodd\" fill-opacity=\"1\" /><path clip-path=\"url(#clip530)\" d=\"M1482.44 34.0924 L1482.44 9.54393 L1489.9 9.54393 L1489.9 72.576 L1482.44 72.576 L1482.44 65.7705 Q1480.09 69.8214 1476.49 71.8063 Q1472.92 73.7508 1467.9 73.7508 Q1459.68 73.7508 1454.49 67.1883 Q1449.35 60.6258 1449.35 49.9314 Q1449.35 39.2371 1454.49 32.6746 Q1459.68 26.1121 1467.9 26.1121 Q1472.92 26.1121 1476.49 28.0971 Q1480.09 30.0415 1482.44 34.0924 M1457.04 49.9314 Q1457.04 58.1548 1460.41 62.8538 Q1463.81 67.5124 1469.72 67.5124 Q1475.64 67.5124 1479.04 62.8538 Q1482.44 58.1548 1482.44 49.9314 Q1482.44 41.7081 1479.04 37.0496 Q1475.64 32.3505 1469.72 32.3505 Q1463.81 32.3505 1460.41 37.0496 Q1457.04 41.7081 1457.04 49.9314 Z\" fill=\"#000000\" fill-rule=\"evenodd\" fill-opacity=\"1\" /><path clip-path=\"url(#clip530)\" d=\"M1544.06 48.0275 L1544.06 51.6733 L1509.79 51.6733 Q1510.27 59.3701 1514.41 63.421 Q1518.58 67.4314 1525.99 67.4314 Q1530.28 67.4314 1534.3 66.3781 Q1538.35 65.3249 1542.32 63.2184 L1542.32 70.267 Q1538.31 71.9684 1534.09 72.8596 Q1529.88 73.7508 1525.55 73.7508 Q1514.69 73.7508 1508.33 67.4314 Q1502.01 61.1119 1502.01 50.3365 Q1502.01 39.1965 1508 32.6746 Q1514.04 26.1121 1524.25 26.1121 Q1533.4 26.1121 1538.71 32.0264 Q1544.06 37.9003 1544.06 48.0275 M1536.6 45.84 Q1536.52 39.7232 1533.16 36.0774 Q1529.84 32.4315 1524.33 32.4315 Q1518.09 32.4315 1514.32 35.9558 Q1510.6 39.4801 1510.03 45.8805 L1536.6 45.84 Z\" fill=\"#000000\" fill-rule=\"evenodd\" fill-opacity=\"1\" /><path clip-path=\"url(#clip530)\" d=\"M1592.55 27.2059 L1576.14 49.2833 L1593.4 72.576 L1584.61 72.576 L1571.4 54.752 L1558.2 72.576 L1549.4 72.576 L1567.03 48.8377 L1550.9 27.2059 L1559.69 27.2059 L1571.73 43.369 L1583.76 27.2059 L1592.55 27.2059 Z\" fill=\"#000000\" fill-rule=\"evenodd\" fill-opacity=\"1\" /><polyline clip-path=\"url(#clip532)\" style=\"stroke:#009af9; stroke-linecap:butt; stroke-linejoin:round; stroke-width:4; stroke-opacity:1; fill:none\" points=\"\n",
       "  362.593,1447.87 388.261,1383.28 414.212,1367.66 440.163,1335.49 465.831,1266.84 491.5,1193.4 517.451,1136.54 543.401,1150.78 568.788,1058.56 594.457,1016.36 \n",
       "  620.407,957.855 646.358,897.202 671.744,929.93 697.413,884.989 723.364,851.028 749.314,793.105 774.701,813.738 800.37,754.464 826.32,691.194 852.271,817.446 \n",
       "  877.939,660.958 903.608,718.214 929.559,609.432 955.509,663.301 980.896,772.425 1006.56,782.7 1032.52,795.775 1058.47,834.775 1083.85,816.094 1109.52,766.943 \n",
       "  1135.47,751.743 1161.42,713.277 1186.81,709.782 1212.48,705.765 1238.43,675.307 1264.38,673.075 1290.05,627.927 1315.72,629.279 1341.67,636.306 1367.62,596.063 \n",
       "  1393,580.217 1418.67,526.031 1444.62,435.751 1470.57,442.843 1495.96,287.386 1521.63,264.267 1547.58,216.523 1573.53,210.834 1598.92,180.281 1624.59,164.283 \n",
       "  1650.54,162.047 1676.49,198.096 1702.16,279.565 1727.82,176.194 1753.77,194.531 1779.73,221.997 1805.11,227.586 1830.78,189.73 1856.73,179.145 1882.68,191.306 \n",
       "  1908.07,218.983 1933.74,177.85 1959.69,251.727 1985.64,244.238 2011.02,207.053 2036.69,271.739 2062.64,318.223 2088.59,354.291 2114.26,322.989 2139.93,554.715 \n",
       "  2165.88,592.774 2191.83,555.678 2217.22,417.549 2242.89,285.227 2268.84,242.919 2294.79,212.202 \n",
       "  \"/>\n",
       "<path clip-path=\"url(#clip530)\" d=\"\n",
       "M372.898 272.585 L708.939 272.585 L708.939 168.905 L372.898 168.905  Z\n",
       "  \" fill=\"#ffffff\" fill-rule=\"evenodd\" fill-opacity=\"1\"/>\n",
       "<polyline clip-path=\"url(#clip530)\" style=\"stroke:#000000; stroke-linecap:butt; stroke-linejoin:round; stroke-width:4; stroke-opacity:1; fill:none\" points=\"\n",
       "  372.898,272.585 708.939,272.585 708.939,168.905 372.898,168.905 372.898,272.585 \n",
       "  \"/>\n",
       "<polyline clip-path=\"url(#clip530)\" style=\"stroke:#009af9; stroke-linecap:butt; stroke-linejoin:round; stroke-width:4; stroke-opacity:1; fill:none\" points=\"\n",
       "  395.655,220.745 532.197,220.745 \n",
       "  \"/>\n",
       "<path clip-path=\"url(#clip530)\" d=\"M559.63 207.307 L559.63 220.293 L565.509 220.293 Q568.773 220.293 570.556 218.603 Q572.338 216.914 572.338 213.789 Q572.338 210.687 570.556 208.997 Q568.773 207.307 565.509 207.307 L559.63 207.307 M554.954 203.465 L565.509 203.465 Q571.319 203.465 574.282 206.104 Q577.269 208.719 577.269 213.789 Q577.269 218.904 574.282 221.52 Q571.319 224.136 565.509 224.136 L559.63 224.136 L559.63 238.025 L554.954 238.025 L554.954 203.465 Z\" fill=\"#000000\" fill-rule=\"evenodd\" fill-opacity=\"1\" /><path clip-path=\"url(#clip530)\" d=\"M597.546 216.08 Q596.829 215.664 595.972 215.478 Q595.139 215.27 594.12 215.27 Q590.509 215.27 588.565 217.631 Q586.643 219.969 586.643 224.367 L586.643 238.025 L582.361 238.025 L582.361 212.099 L586.643 212.099 L586.643 216.127 Q587.986 213.766 590.139 212.631 Q592.292 211.474 595.37 211.474 Q595.81 211.474 596.342 211.543 Q596.875 211.59 597.523 211.705 L597.546 216.08 Z\" fill=\"#000000\" fill-rule=\"evenodd\" fill-opacity=\"1\" /><path clip-path=\"url(#clip530)\" d=\"M602.014 212.099 L606.273 212.099 L606.273 238.025 L602.014 238.025 L602.014 212.099 M602.014 202.006 L606.273 202.006 L606.273 207.4 L602.014 207.4 L602.014 202.006 Z\" fill=\"#000000\" fill-rule=\"evenodd\" fill-opacity=\"1\" /><path clip-path=\"url(#clip530)\" d=\"M633.842 213.094 L633.842 217.076 Q632.037 216.08 630.208 215.594 Q628.403 215.085 626.551 215.085 Q622.407 215.085 620.116 217.724 Q617.824 220.34 617.824 225.085 Q617.824 229.83 620.116 232.469 Q622.407 235.085 626.551 235.085 Q628.403 235.085 630.208 234.599 Q632.037 234.089 633.842 233.094 L633.842 237.029 Q632.06 237.863 630.139 238.279 Q628.24 238.696 626.088 238.696 Q620.231 238.696 616.782 235.015 Q613.333 231.335 613.333 225.085 Q613.333 218.742 616.805 215.108 Q620.301 211.474 626.365 211.474 Q628.333 211.474 630.208 211.891 Q632.083 212.284 633.842 213.094 Z\" fill=\"#000000\" fill-rule=\"evenodd\" fill-opacity=\"1\" /><path clip-path=\"url(#clip530)\" d=\"M663.425 223.997 L663.425 226.08 L643.842 226.08 Q644.12 230.478 646.481 232.793 Q648.865 235.085 653.101 235.085 Q655.555 235.085 657.847 234.483 Q660.162 233.881 662.43 232.677 L662.43 236.705 Q660.138 237.677 657.731 238.187 Q655.324 238.696 652.847 238.696 Q646.643 238.696 643.009 235.085 Q639.398 231.474 639.398 225.316 Q639.398 218.951 642.824 215.224 Q646.273 211.474 652.106 211.474 Q657.338 211.474 660.37 214.853 Q663.425 218.21 663.425 223.997 M659.166 222.747 Q659.12 219.252 657.199 217.168 Q655.301 215.085 652.152 215.085 Q648.588 215.085 646.435 217.099 Q644.305 219.113 643.981 222.77 L659.166 222.747 Z\" fill=\"#000000\" fill-rule=\"evenodd\" fill-opacity=\"1\" /></svg>\n"
      ]
     },
     "execution_count": 111,
     "metadata": {},
     "output_type": "execute_result"
    }
   ],
   "source": [
    "idxₐ = outerjoin(apt, idx, on = :sale_date => :dates)\n",
    "f = idxₐ.sale_price[1] / idxₐ.index[1]\n",
    "transform!(idxₐ, :index => x -> x * f; renamecols=false)\n",
    "sort!(idxₐ, :sale_date)\n",
    "plot(idxₐ.sale_date, idxₐ.index, label=\"Price\", legend=:topleft, title=\"Apt 1B Index\")"
   ]
  },
  {
   "cell_type": "code",
   "execution_count": 113,
   "id": "controlled-silver",
   "metadata": {},
   "outputs": [
    {
     "data": {
      "text/html": [
       "<div class=\"data-frame\"><p>5 rows × 3 columns</p><table class=\"data-frame\"><thead><tr><th></th><th>sale_price</th><th>sale_date</th><th>index</th></tr><tr><th></th><th title=\"Union{Missing, Int64}\">Int64?</th><th title=\"Date\">Date</th><th title=\"Float64\">Float64</th></tr></thead><tbody><tr><th>1</th><td>967338</td><td>2020-12-31</td><td>8.9032e5</td></tr><tr><th>2</th><td><em>missing</em></td><td>2021-03-31</td><td>9.62886e5</td></tr><tr><th>3</th><td><em>missing</em></td><td>2021-06-30</td><td>1.0324e6</td></tr><tr><th>4</th><td><em>missing</em></td><td>2021-09-30</td><td>1.05463e6</td></tr><tr><th>5</th><td><em>missing</em></td><td>2021-12-31</td><td>1.07076e6</td></tr></tbody></table></div>"
      ],
      "text/latex": [
       "\\begin{tabular}{r|ccc}\n",
       "\t& sale\\_price & sale\\_date & index\\\\\n",
       "\t\\hline\n",
       "\t& Int64? & Date & Float64\\\\\n",
       "\t\\hline\n",
       "\t1 & 967338 & 2020-12-31 & 8.9032e5 \\\\\n",
       "\t2 & \\emph{missing} & 2021-03-31 & 9.62886e5 \\\\\n",
       "\t3 & \\emph{missing} & 2021-06-30 & 1.0324e6 \\\\\n",
       "\t4 & \\emph{missing} & 2021-09-30 & 1.05463e6 \\\\\n",
       "\t5 & \\emph{missing} & 2021-12-31 & 1.07076e6 \\\\\n",
       "\\end{tabular}\n"
      ],
      "text/plain": [
       "\u001b[1m5×3 DataFrame\u001b[0m\n",
       "\u001b[1m Row \u001b[0m│\u001b[1m sale_price \u001b[0m\u001b[1m sale_date  \u001b[0m\u001b[1m index     \u001b[0m\n",
       "\u001b[1m     \u001b[0m│\u001b[90m Int64?     \u001b[0m\u001b[90m Date       \u001b[0m\u001b[90m Float64   \u001b[0m\n",
       "─────┼───────────────────────────────────\n",
       "   1 │     967338  2020-12-31  8.9032e5\n",
       "   2 │\u001b[90m    missing \u001b[0m 2021-03-31  9.62886e5\n",
       "   3 │\u001b[90m    missing \u001b[0m 2021-06-30  1.0324e6\n",
       "   4 │\u001b[90m    missing \u001b[0m 2021-09-30  1.05463e6\n",
       "   5 │\u001b[90m    missing \u001b[0m 2021-12-31  1.07076e6"
      ]
     },
     "execution_count": 113,
     "metadata": {},
     "output_type": "execute_result"
    }
   ],
   "source": [
    "last(idxₐ, 5)"
   ]
  }
 ],
 "metadata": {
  "kernelspec": {
   "display_name": "Julia 1.5.3",
   "language": "julia",
   "name": "julia-1.5"
  },
  "language_info": {
   "file_extension": ".jl",
   "mimetype": "application/julia",
   "name": "julia",
   "version": "1.7.1"
  }
 },
 "nbformat": 4,
 "nbformat_minor": 5
}
