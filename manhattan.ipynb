{
 "cells": [
  {
   "cell_type": "code",
   "execution_count": 1,
   "id": "abandoned-lease",
   "metadata": {},
   "outputs": [],
   "source": [
    "using CSV, DataFrames, LinearAlgebra, Dates, Statistics, VegaLite, Plots, CategoricalArrays, StatsPlots, URIParser\n",
    "using FilePaths, URIParser, Distributions"
   ]
  },
  {
   "cell_type": "code",
   "execution_count": 2,
   "id": "according-driver",
   "metadata": {},
   "outputs": [
    {
     "data": {
      "text/plain": [
       "pct_change (generic function with 1 method)"
      ]
     },
     "execution_count": 2,
     "metadata": {},
     "output_type": "execute_result"
    }
   ],
   "source": [
    "function pct_change(input, t)\n",
    "    res = @view(input[t + 1:end]) ./ @view(input[1:end - t]) .- 1\n",
    "    [repeat([missing], t)..., res]'\n",
    "end"
   ]
  },
  {
   "cell_type": "code",
   "execution_count": 4,
   "id": "enclosed-appraisal",
   "metadata": {},
   "outputs": [
    {
     "data": {
      "text/plain": [
       "\"nyc_lotblock.geojson\""
      ]
     },
     "execution_count": 4,
     "metadata": {},
     "output_type": "execute_result"
    }
   ],
   "source": [
    "transactions = \"https://drive.google.com/uc?export=download&id=1qY0aUZd98KS0J7JOqWdPoa27DbiwPz1i\"\n",
    "geojson = \"https://drive.google.com/uc?export=download&id=1T12uhUyAwBdwZ4EKzAjXb3X1PiY3RBIp\"\n",
    "transactions_filename = \"nyc_real_estate_211231.csv\"\n",
    "geojson_filename = \"nyc_lotblock.geojson\"\n",
    "\n",
    "#download(transactions, transactions_filename)\n",
    "#download(geojson, geojson_filename)"
   ]
  },
  {
   "cell_type": "code",
   "execution_count": null,
   "id": "acknowledged-press",
   "metadata": {},
   "outputs": [
    {
     "data": {
      "text/plain": [
       "calc_index (generic function with 1 method)"
      ]
     },
     "execution_count": 179,
     "metadata": {},
     "output_type": "execute_result"
    }
   ],
   "source": [
    "df = CSV.read(transactions_filename, \n",
    "    DataFrame; select=[:block, :lot, :uid, :sale_price, :sale_date, :borough, :house_class, :neighborhood],\n",
    "    types=Dict(:uid=>String, :sale_price=>Int64, :sale_date=>Date)) |> \n",
    "    df -> sort(df, [:uid, :sale_date]) |>\n",
    "    df -> df #[df.sale_date .> Date(\"2018-12-31\"), :]\n",
    "df.sale_date = Dates.lastdayofquarter.(df.sale_date)\n",
    "dropmissing!(df)\n",
    "\n",
    "grouped = groupby(df, [:borough, :uid])\n",
    "df = df[combine(grouped, :sale_price => (x -> median(x) / 4 .< x .< median(x) * 4) => :is_clean).is_clean, :]\n",
    "grouped = groupby(df, [:borough, :uid])\n",
    "grouped = grouped[combine(grouped, nrow).nrow .> 1]\n",
    "df = combine(grouped, names(df)...)\n",
    "\n",
    "function calc_index(df)\n",
    "    grouped = groupby(df, [:borough, :uid])\n",
    "\n",
    "    rng = sort(unique(df.sale_date))\n",
    "\n",
    "    n = sum(combine(grouped, gp -> nrow(gp) - 1).x1)\n",
    "    p = size(rng, 1)  # degrees of freedom aka num of periods\n",
    "    X = zeros(Int64, (n, p))   # first column of X will become Y vector\n",
    "    Δ = zeros(Int64, (n, 1))\n",
    "    row = 1\n",
    "\n",
    "    for group in grouped\n",
    "        for i in 1:size(group,1)-1\n",
    "            buy = group[i, :]\n",
    "            sell = group[i+1, :]\n",
    "            q₁ = findfirst(rng .== buy.sale_date)\n",
    "            q₂ = findfirst(rng .== sell.sale_date)\n",
    "            X[row, q₁] = -buy.sale_price\n",
    "            X[row, q₂] = sell.sale_price\n",
    "            Δ[row] = q₂ - q₁ \n",
    "            row += 1\n",
    "        end\n",
    "    end\n",
    "\n",
    "    Y = -X[:, 1]\n",
    "    X = X[:, 2:end]\n",
    "    Z = sign.(X)\n",
    "    \n",
    "    # check for periods with no transactions (leads to singular matrix)\n",
    "    s = sum(Z, dims=1)\n",
    "    skip = [i for (i, k) in enumerate(s) if k == 0]\n",
    "    X = X[:, setdiff(1:end, skip)]\n",
    "    Z = Z[:, setdiff(1:end, skip)]\n",
    "    rng = rng[setdiff(1:end, skip)]\n",
    "\n",
    "    β = inv(Z'X)Z'Y\n",
    "\n",
    "    e = (Y - X * β)[:]\n",
    "    h = inv(Δ' * Δ) * Δ' * e.^2\n",
    "    h = max.(h, 0)\n",
    "\n",
    "    w = 1 ./ wsqrt.(Δ * h)[:]\n",
    "    ω = 1 ./ w\n",
    "    Ω = Diagonal(w)\n",
    "\n",
    "    β = inv(Z' * inv(Ω) * X) * Z' * inv(Ω) * Y\n",
    "    \n",
    "    # compute confidence interval\n",
    "    û = Y - X * β\n",
    "    V = Z' * û * û' * Z\n",
    "    Var = inv(Z' * X) * V * inv(X' * Z)\n",
    "    t = quantile(TDist(p), 0.90)\n",
    "    se = sqrt.(diag(Var))\n",
    "    insert!(β, 1, 1)    # index starts at 1\n",
    "    insert!(se, 1, 0)   # std error of first period is 0\n",
    "    return DataFrame(index=1 ./ β, \n",
    "        ci₀ = 1 ./ (β - t * se), \n",
    "        ci₁ = 1 ./ (β + t * se), \n",
    "        dates=rng)\n",
    "end"
   ]
  },
  {
   "cell_type": "code",
   "execution_count": 180,
   "id": "stuck-youth",
   "metadata": {
    "scrolled": false
   },
   "outputs": [
    {
     "data": {
      "application/vnd.vegalite.v4+json": {
       "data": {
        "values": [
         {
          "ci₀": 1,
          "ci₁": 1,
          "dates": "2003-03-31",
          "index": 1
         },
         {
          "ci₀": 1.0777306196564238,
          "ci₁": 1.0378285606228173,
          "dates": "2003-06-30",
          "index": 1.057403289081734
         },
         {
          "ci₀": 1.1429680175329904,
          "ci₁": 1.0794236328163194,
          "dates": "2003-09-30",
          "index": 1.1102873694512037
         },
         {
          "ci₀": 1.2009330310271589,
          "ci₁": 1.1163543111995382,
          "dates": "2003-12-31",
          "index": 1.1571001508693712
         },
         {
          "ci₀": 1.271786735047668,
          "ci₁": 1.1456051321041225,
          "dates": "2004-03-31",
          "index": 1.205402756921801
         },
         {
          "ci₀": 1.3649354459980239,
          "ci₁": 1.212465601919799,
          "dates": "2004-06-30",
          "index": 1.2841907381473439
         },
         {
          "ci₀": 1.4388615643760576,
          "ci₁": 1.2839659505078556,
          "dates": "2004-09-30",
          "index": 1.3570079236048047
         },
         {
          "ci₀": 1.4630813685698878,
          "ci₁": 1.2978449278362973,
          "dates": "2004-12-31",
          "index": 1.3755185972779476
         },
         {
          "ci₀": 1.5390424949962058,
          "ci₁": 1.3546966164422771,
          "dates": "2005-03-31",
          "index": 1.4409976713455794
         },
         {
          "ci₀": 1.6458690060242718,
          "ci₁": 1.4084766449546022,
          "dates": "2005-06-30",
          "index": 1.5179474234665566
         },
         {
          "ci₀": 1.7197396746582565,
          "ci₁": 1.4878921949563528,
          "dates": "2005-09-30",
          "index": 1.5954369723781492
         },
         {
          "ci₀": 1.8011089276031205,
          "ci₁": 1.5581242305478697,
          "dates": "2005-12-31",
          "index": 1.670828626554282
         },
         {
          "ci₀": 1.7428428501498365,
          "ci₁": 1.5563124007494618,
          "dates": "2006-03-31",
          "index": 1.6443045167434096
         },
         {
          "ci₀": 1.8282024820881426,
          "ci₁": 1.5866534927804685,
          "dates": "2006-06-30",
          "index": 1.6988850335491417
         },
         {
          "ci₀": 1.9422927771700629,
          "ci₁": 1.6549867222750692,
          "dates": "2006-09-30",
          "index": 1.787166528196124
         },
         {
          "ci₀": 1.85992441483006,
          "ci₁": 1.6699907455191834,
          "dates": "2006-12-31",
          "index": 1.7598477125008722
         },
         {
          "ci₀": 1.9681975973890191,
          "ci₁": 1.612171885914296,
          "dates": "2007-03-31",
          "index": 1.7724834530245774
         },
         {
          "ci₀": 1.9422605576381027,
          "ci₁": 1.650091413351981,
          "dates": "2007-06-30",
          "index": 1.7842947988014453
         },
         {
          "ci₀": 2.0041936629078005,
          "ci₁": 1.6791446408414894,
          "dates": "2007-09-30",
          "index": 1.8273266101321832
         },
         {
          "ci₀": 1.9223139555954065,
          "ci₁": 1.6448399220360863,
          "dates": "2007-12-31",
          "index": 1.77278516448517
         },
         {
          "ci₀": 2.0675392157699126,
          "ci₁": 1.6486929408558186,
          "dates": "2008-03-31",
          "index": 1.834512574196925
         },
         {
          "ci₀": 1.9799913701288476,
          "ci₁": 1.6553747059020683,
          "dates": "2008-06-30",
          "index": 1.8031898650460976
         },
         {
          "ci₀": 2.079239771361171,
          "ci₁": 1.682757587255528,
          "dates": "2008-09-30",
          "index": 1.8601057722528564
         },
         {
          "ci₀": 1.9694616545501666,
          "ci₁": 1.6436492936246432,
          "dates": "2008-12-31",
          "index": 1.791865405604248
         },
         {
          "ci₀": 1.8313248603935262,
          "ci₁": 1.5364209881539748,
          "dates": "2009-03-31",
          "index": 1.6709609799387302
         },
         {
          "ci₀": 1.7930805853648317,
          "ci₁": 1.5231947205488687,
          "dates": "2009-06-30",
          "index": 1.6471556967999574
         },
         {
          "ci₀": 1.7829581689295677,
          "ci₁": 1.519138082334995,
          "dates": "2009-09-30",
          "index": 1.6405092084120285
         },
         {
          "ci₀": 1.8009400849755137,
          "ci₁": 1.5263860619715777,
          "dates": "2009-12-31",
          "index": 1.6523356729996233
         },
         {
          "ci₀": 1.7919687412252163,
          "ci₁": 1.522977648051309,
          "dates": "2010-03-31",
          "index": 1.6465595629063954
         },
         {
          "ci₀": 1.837582850763931,
          "ci₁": 1.553798717851713,
          "dates": "2010-06-30",
          "index": 1.683817535535403
         },
         {
          "ci₀": 1.8635389860546725,
          "ci₁": 1.5651467752528563,
          "dates": "2010-09-30",
          "index": 1.701358618218288
         },
         {
          "ci₀": 1.7926231710194451,
          "ci₁": 1.5598149405579604,
          "dates": "2010-12-31",
          "index": 1.6681354356939078
         },
         {
          "ci₀": 1.8326021017676846,
          "ci₁": 1.5548012173556829,
          "dates": "2011-03-31",
          "index": 1.6823104368300394
         },
         {
          "ci₀": 1.9138620097950556,
          "ci₁": 1.577939990247869,
          "dates": "2011-06-30",
          "index": 1.729742637775368
         },
         {
          "ci₀": 1.8678404745126873,
          "ci₁": 1.6101394464464847,
          "dates": "2011-09-30",
          "index": 1.729442777721834
         },
         {
          "ci₀": 1.8876520742774223,
          "ci₁": 1.5974008739928778,
          "dates": "2011-12-31",
          "index": 1.7304397482636777
         },
         {
          "ci₀": 1.9111150755939037,
          "ci₁": 1.6254693699413085,
          "dates": "2012-03-31",
          "index": 1.7567565913675447
         },
         {
          "ci₀": 1.9705610006572187,
          "ci₁": 1.647673613540199,
          "dates": "2012-06-30",
          "index": 1.7947102445563616
         },
         {
          "ci₀": 2.052028522067156,
          "ci₁": 1.6836214413644919,
          "dates": "2012-09-30",
          "index": 1.8496589626240378
         },
         {
          "ci₀": 2.030282412345012,
          "ci₁": 1.7254947621588526,
          "dates": "2012-12-31",
          "index": 1.8655215714001103
         },
         {
          "ci₀": 2.0195641307301755,
          "ci₁": 1.7025563044171481,
          "dates": "2013-03-31",
          "index": 1.847560659499887
         },
         {
          "ci₀": 2.1103691690291795,
          "ci₁": 1.7863293089448171,
          "dates": "2013-06-30",
          "index": 1.934876060151503
         },
         {
          "ci₀": 2.255409227079685,
          "ci₁": 1.865561875030822,
          "dates": "2013-09-30",
          "index": 2.0420456064240384
         },
         {
          "ci₀": 2.1677540726321483,
          "ci₁": 1.8418327874159397,
          "dates": "2013-12-31",
          "index": 1.9915470922011351
         },
         {
          "ci₀": 2.3223645791293386,
          "ci₁": 1.9787587631621033,
          "dates": "2014-03-31",
          "index": 2.136836773325933
         },
         {
          "ci₀": 2.4174006436959083,
          "ci₁": 2.002752073523316,
          "dates": "2014-06-30",
          "index": 2.1906275467986096
         },
         {
          "ci₀": 2.4445528604632174,
          "ci₁": 2.0487306305860713,
          "dates": "2014-09-30",
          "index": 2.229207363966368
         },
         {
          "ci₀": 2.4708307461434345,
          "ci₁": 2.0648751653397452,
          "dates": "2014-12-31",
          "index": 2.2496860003875807
         },
         {
          "ci₀": 2.4823332135095635,
          "ci₁": 2.101777544418971,
          "dates": "2015-03-31",
          "index": 2.2762592273304407
         },
         {
          "ci₀": 2.543601895512623,
          "ci₁": 2.0900021893292373,
          "dates": "2015-06-30",
          "index": 2.294599811750992
         },
         {
          "ci₀": 2.6223037306909966,
          "ci₁": 2.1438982883360715,
          "dates": "2015-09-30",
          "index": 2.3590911410311306
         },
         {
          "ci₀": 2.535171824999087,
          "ci₁": 2.127403052914391,
          "dates": "2015-12-31",
          "index": 2.3134565862797016
         },
         {
          "ci₀": 2.5700443551786103,
          "ci₁": 2.080510057687553,
          "dates": "2016-03-31",
          "index": 2.299512124773455
         },
         {
          "ci₀": 2.575761898979201,
          "ci₁": 2.1333476800715734,
          "dates": "2016-06-30",
          "index": 2.3337726928459657
         },
         {
          "ci₀": 2.660373306066891,
          "ci₁": 2.1493019579735346,
          "dates": "2016-09-30",
          "index": 2.3776846634201516
         },
         {
          "ci₀": 2.591533751029248,
          "ci₁": 2.11878339717403,
          "dates": "2016-12-31",
          "index": 2.3314348109198453
         },
         {
          "ci₀": 2.623599155161513,
          "ci₁": 2.2079893426546766,
          "dates": "2017-03-31",
          "index": 2.3979190183984973
         },
         {
          "ci₀": 2.677942644425595,
          "ci₁": 2.1706012035006235,
          "dates": "2017-06-30",
          "index": 2.3977283527639006
         },
         {
          "ci₀": 2.6800636569612153,
          "ci₁": 2.1844107562286084,
          "dates": "2017-09-30",
          "index": 2.4069855784499965
         },
         {
          "ci₀": 2.7156249433507225,
          "ci₁": 2.195989106539778,
          "dates": "2017-12-31",
          "index": 2.4283189731403416
         },
         {
          "ci₀": 2.6627162253366294,
          "ci₁": 2.1553577378009643,
          "dates": "2018-03-31",
          "index": 2.382323751671964
         },
         {
          "ci₀": 2.7896854183871644,
          "ci₁": 2.2228919456263947,
          "dates": "2018-06-30",
          "index": 2.474243805944559
         },
         {
          "ci₀": 2.707275361767644,
          "ci₁": 2.1948296852467544,
          "dates": "2018-09-30",
          "index": 2.4242680534819305
         },
         {
          "ci₀": 2.7523131027457497,
          "ci₁": 2.208407364373604,
          "dates": "2018-12-31",
          "index": 2.450542644139451
         },
         {
          "ci₀": 2.6845486695221616,
          "ci₁": 2.205636046712058,
          "dates": "2019-03-31",
          "index": 2.4216415772574993
         },
         {
          "ci₀": 2.7514573393174557,
          "ci₁": 2.2038950629299023,
          "dates": "2019-06-30",
          "index": 2.4474236154158753
         },
         {
          "ci₀": 2.6907815888939557,
          "ci₁": 2.2163211154473488,
          "dates": "2019-09-30",
          "index": 2.4306139128682283
         },
         {
          "ci₀": 2.7107332569918725,
          "ci₁": 2.1688125171409385,
          "dates": "2019-12-31",
          "index": 2.409680117997877
         },
         {
          "ci₀": 2.776891957898618,
          "ci₁": 2.198933445354132,
          "dates": "2020-03-31",
          "index": 2.45434680902047
         },
         {
          "ci₀": 2.5938130877999943,
          "ci₁": 2.0879995773005073,
          "dates": "2020-06-30",
          "index": 2.3135828015052167
         },
         {
          "ci₀": 2.6964028124637913,
          "ci₁": 2.06765332328987,
          "dates": "2020-09-30",
          "index": 2.3405375911830744
         },
         {
          "ci₀": 2.6194960799574876,
          "ci₁": 2.1183711739899813,
          "dates": "2020-12-31",
          "index": 2.342431600015116
         },
         {
          "ci₀": 2.7072392599300534,
          "ci₁": 2.1888090302376595,
          "dates": "2021-03-31",
          "index": 2.4205765090384097
         },
         {
          "ci₀": 2.961832737380842,
          "ci₁": 2.233802317986773,
          "dates": "2021-06-30",
          "index": 2.546810452907113
         },
         {
          "ci₀": 3.0674579967536126,
          "ci₁": 2.2657312197881745,
          "dates": "2021-09-30",
          "index": 2.606333683821622
         },
         {
          "ci₀": 3.020065471766593,
          "ci₁": 2.3140876085388062,
          "dates": "2021-12-31",
          "index": 2.6203582761786244
         }
        ]
       },
       "encoding": {
        "x": {
         "field": "dates",
         "type": "temporal"
        }
       },
       "layer": [
        {
         "encoding": {
          "y": {
           "field": "ci₀",
           "scale": {
            "zero": false
           },
           "title": "NYC Price Index",
           "type": "quantitative"
          },
          "y2": {
           "field": "ci₁",
           "type": "quantitative"
          }
         },
         "mark": "errorband"
        },
        {
         "encoding": {
          "y": {
           "field": "index",
           "type": "quantitative"
          }
         },
         "height": 400,
         "mark": "line",
         "width": 800
        }
       ]
      },
      "image/png": "[encoded data removed]",
      "image/svg+xml": [
       "<?xml version=\"1.0\" encoding=\"utf-8\"?>\n",
       "<!DOCTYPE svg PUBLIC \"-//W3C//DTD SVG 1.1//EN\" \"http://www.w3.org/Graphics/SVG/1.1/DTD/svg11.dtd\">\n",
       "<svg xmlns=\"http://www.w3.org/2000/svg\" xmlns:xlink=\"http://www.w3.org/1999/xlink\" version=\"1.1\" class=\"marks\" width=\"849\" height=\"447\" viewBox=\"0 0 849 447\"><rect width=\"849\" height=\"447\" fill=\"white\"/><g fill=\"none\" stroke-miterlimit=\"10\" transform=\"translate(42,10)\"><g class=\"mark-group role-frame root\" role=\"graphics-object\" aria-roledescription=\"group mark container\"><g transform=\"translate(0,0)\"><path class=\"background\" aria-hidden=\"true\" d=\"M0.5,0.5h800v400h-800Z\" stroke=\"#ddd\"/><g><g class=\"mark-group role-axis\" aria-hidden=\"true\"><g transform=\"translate(0.5,400.5)\"><path class=\"background\" aria-hidden=\"true\" d=\"M0,0h0v0h0Z\" pointer-events=\"none\"/><g><g class=\"mark-rule role-axis-grid\" pointer-events=\"none\"><line transform=\"translate(32,-400)\" x2=\"0\" y2=\"400\" stroke=\"#ddd\" stroke-width=\"1\" opacity=\"1\"/><line transform=\"translate(75,-400)\" x2=\"0\" y2=\"400\" stroke=\"#ddd\" stroke-width=\"1\" opacity=\"1\"/><line transform=\"translate(118,-400)\" x2=\"0\" y2=\"400\" stroke=\"#ddd\" stroke-width=\"1\" opacity=\"1\"/><line transform=\"translate(160,-400)\" x2=\"0\" y2=\"400\" stroke=\"#ddd\" stroke-width=\"1\" opacity=\"1\"/><line transform=\"translate(203,-400)\" x2=\"0\" y2=\"400\" stroke=\"#ddd\" stroke-width=\"1\" opacity=\"1\"/><line transform=\"translate(246,-400)\" x2=\"0\" y2=\"400\" stroke=\"#ddd\" stroke-width=\"1\" opacity=\"1\"/><line transform=\"translate(288,-400)\" x2=\"0\" y2=\"400\" stroke=\"#ddd\" stroke-width=\"1\" opacity=\"1\"/><line transform=\"translate(331,-400)\" x2=\"0\" y2=\"400\" stroke=\"#ddd\" stroke-width=\"1\" opacity=\"1\"/><line transform=\"translate(374,-400)\" x2=\"0\" y2=\"400\" stroke=\"#ddd\" stroke-width=\"1\" opacity=\"1\"/><line transform=\"translate(416,-400)\" x2=\"0\" y2=\"400\" stroke=\"#ddd\" stroke-width=\"1\" opacity=\"1\"/><line transform=\"translate(459,-400)\" x2=\"0\" y2=\"400\" stroke=\"#ddd\" stroke-width=\"1\" opacity=\"1\"/><line transform=\"translate(502,-400)\" x2=\"0\" y2=\"400\" stroke=\"#ddd\" stroke-width=\"1\" opacity=\"1\"/><line transform=\"translate(544,-400)\" x2=\"0\" y2=\"400\" stroke=\"#ddd\" stroke-width=\"1\" opacity=\"1\"/><line transform=\"translate(587,-400)\" x2=\"0\" y2=\"400\" stroke=\"#ddd\" stroke-width=\"1\" opacity=\"1\"/><line transform=\"translate(630,-400)\" x2=\"0\" y2=\"400\" stroke=\"#ddd\" stroke-width=\"1\" opacity=\"1\"/><line transform=\"translate(672,-400)\" x2=\"0\" y2=\"400\" stroke=\"#ddd\" stroke-width=\"1\" opacity=\"1\"/><line transform=\"translate(715,-400)\" x2=\"0\" y2=\"400\" stroke=\"#ddd\" stroke-width=\"1\" opacity=\"1\"/><line transform=\"translate(758,-400)\" x2=\"0\" y2=\"400\" stroke=\"#ddd\" stroke-width=\"1\" opacity=\"1\"/></g></g><path class=\"foreground\" aria-hidden=\"true\" d=\"\" pointer-events=\"none\" display=\"none\"/></g></g><g class=\"mark-group role-axis\" aria-hidden=\"true\"><g transform=\"translate(0.5,0.5)\"><path class=\"background\" aria-hidden=\"true\" d=\"M0,0h0v0h0Z\" pointer-events=\"none\"/><g><g class=\"mark-rule role-axis-grid\" pointer-events=\"none\"><line transform=\"translate(0,400)\" x2=\"800\" y2=\"0\" stroke=\"#ddd\" stroke-width=\"1\" opacity=\"1\"/><line transform=\"translate(0,364)\" x2=\"800\" y2=\"0\" stroke=\"#ddd\" stroke-width=\"1\" opacity=\"1\"/><line transform=\"translate(0,327)\" x2=\"800\" y2=\"0\" stroke=\"#ddd\" stroke-width=\"1\" opacity=\"1\"/><line transform=\"translate(0,291)\" x2=\"800\" y2=\"0\" stroke=\"#ddd\" stroke-width=\"1\" opacity=\"1\"/><line transform=\"translate(0,255)\" x2=\"800\" y2=\"0\" stroke=\"#ddd\" stroke-width=\"1\" opacity=\"1\"/><line transform=\"translate(0,218)\" x2=\"800\" y2=\"0\" stroke=\"#ddd\" stroke-width=\"1\" opacity=\"1\"/><line transform=\"translate(0,182)\" x2=\"800\" y2=\"0\" stroke=\"#ddd\" stroke-width=\"1\" opacity=\"1\"/><line transform=\"translate(0,145)\" x2=\"800\" y2=\"0\" stroke=\"#ddd\" stroke-width=\"1\" opacity=\"1\"/><line transform=\"translate(0,109)\" x2=\"800\" y2=\"0\" stroke=\"#ddd\" stroke-width=\"1\" opacity=\"1\"/><line transform=\"translate(0,73)\" x2=\"800\" y2=\"0\" stroke=\"#ddd\" stroke-width=\"1\" opacity=\"1\"/><line transform=\"translate(0,36)\" x2=\"800\" y2=\"0\" stroke=\"#ddd\" stroke-width=\"1\" opacity=\"1\"/><line transform=\"translate(0,0)\" x2=\"800\" y2=\"0\" stroke=\"#ddd\" stroke-width=\"1\" opacity=\"1\"/></g></g><path class=\"foreground\" aria-hidden=\"true\" d=\"\" pointer-events=\"none\" display=\"none\"/></g></g><g class=\"mark-group role-axis\" role=\"graphics-symbol\" aria-roledescription=\"axis\" aria-label=\"X-axis titled 'dates' for a time scale with values from Sunday, 30 March 2003, 7:00:00 PM to Thursday, 30 December 2021, 7:00:00 PM\"><g transform=\"translate(0.5,400.5)\"><path class=\"background\" aria-hidden=\"true\" d=\"M0,0h0v0h0Z\" pointer-events=\"none\"/><g><g class=\"mark-rule role-axis-tick\" pointer-events=\"none\"><line transform=\"translate(32,0)\" x2=\"0\" y2=\"5\" stroke=\"#888\" stroke-width=\"1\" opacity=\"1\"/><line transform=\"translate(75,0)\" x2=\"0\" y2=\"5\" stroke=\"#888\" stroke-width=\"1\" opacity=\"1\"/><line transform=\"translate(118,0)\" x2=\"0\" y2=\"5\" stroke=\"#888\" stroke-width=\"1\" opacity=\"1\"/><line transform=\"translate(160,0)\" x2=\"0\" y2=\"5\" stroke=\"#888\" stroke-width=\"1\" opacity=\"1\"/><line transform=\"translate(203,0)\" x2=\"0\" y2=\"5\" stroke=\"#888\" stroke-width=\"1\" opacity=\"1\"/><line transform=\"translate(246,0)\" x2=\"0\" y2=\"5\" stroke=\"#888\" stroke-width=\"1\" opacity=\"1\"/><line transform=\"translate(288,0)\" x2=\"0\" y2=\"5\" stroke=\"#888\" stroke-width=\"1\" opacity=\"1\"/><line transform=\"translate(331,0)\" x2=\"0\" y2=\"5\" stroke=\"#888\" stroke-width=\"1\" opacity=\"1\"/><line transform=\"translate(374,0)\" x2=\"0\" y2=\"5\" stroke=\"#888\" stroke-width=\"1\" opacity=\"1\"/><line transform=\"translate(416,0)\" x2=\"0\" y2=\"5\" stroke=\"#888\" stroke-width=\"1\" opacity=\"1\"/><line transform=\"translate(459,0)\" x2=\"0\" y2=\"5\" stroke=\"#888\" stroke-width=\"1\" opacity=\"1\"/><line transform=\"translate(502,0)\" x2=\"0\" y2=\"5\" stroke=\"#888\" stroke-width=\"1\" opacity=\"1\"/><line transform=\"translate(544,0)\" x2=\"0\" y2=\"5\" stroke=\"#888\" stroke-width=\"1\" opacity=\"1\"/><line transform=\"translate(587,0)\" x2=\"0\" y2=\"5\" stroke=\"#888\" stroke-width=\"1\" opacity=\"1\"/><line transform=\"translate(630,0)\" x2=\"0\" y2=\"5\" stroke=\"#888\" stroke-width=\"1\" opacity=\"1\"/><line transform=\"translate(672,0)\" x2=\"0\" y2=\"5\" stroke=\"#888\" stroke-width=\"1\" opacity=\"1\"/><line transform=\"translate(715,0)\" x2=\"0\" y2=\"5\" stroke=\"#888\" stroke-width=\"1\" opacity=\"1\"/><line transform=\"translate(758,0)\" x2=\"0\" y2=\"5\" stroke=\"#888\" stroke-width=\"1\" opacity=\"1\"/></g><g class=\"mark-text role-axis-label\" pointer-events=\"none\"><text text-anchor=\"middle\" transform=\"translate(32.257907542579076,15)\" font-family=\"sans-serif\" font-size=\"10px\" fill=\"#000\" opacity=\"1\">2004</text><text text-anchor=\"middle\" transform=\"translate(75.00243309002434,15)\" font-family=\"sans-serif\" font-size=\"10px\" fill=\"#000\" opacity=\"1\">2005</text><text text-anchor=\"middle\" transform=\"translate(117.6301703163017,15)\" font-family=\"sans-serif\" font-size=\"10px\" fill=\"#000\" opacity=\"1\">2006</text><text text-anchor=\"middle\" transform=\"translate(160.25790754257906,15)\" font-family=\"sans-serif\" font-size=\"10px\" fill=\"#000\" opacity=\"1\">2007</text><text text-anchor=\"middle\" transform=\"translate(202.88564476885648,15)\" font-family=\"sans-serif\" font-size=\"10px\" fill=\"#000\" opacity=\"1\">2008</text><text text-anchor=\"middle\" transform=\"translate(245.6301703163017,15)\" font-family=\"sans-serif\" font-size=\"10px\" fill=\"#000\" opacity=\"1\">2009</text><text text-anchor=\"middle\" transform=\"translate(288.25790754257906,15)\" font-family=\"sans-serif\" font-size=\"10px\" fill=\"#000\" opacity=\"1\">2010</text><text text-anchor=\"middle\" transform=\"translate(330.8856447688564,15)\" font-family=\"sans-serif\" font-size=\"10px\" fill=\"#000\" opacity=\"1\">2011</text><text text-anchor=\"middle\" transform=\"translate(373.51338199513384,15)\" font-family=\"sans-serif\" font-size=\"10px\" fill=\"#000\" opacity=\"1\">2012</text><text text-anchor=\"middle\" transform=\"translate(416.2579075425791,15)\" font-family=\"sans-serif\" font-size=\"10px\" fill=\"#000\" opacity=\"1\">2013</text><text text-anchor=\"middle\" transform=\"translate(458.8856447688564,15)\" font-family=\"sans-serif\" font-size=\"10px\" fill=\"#000\" opacity=\"1\">2014</text><text text-anchor=\"middle\" transform=\"translate(501.51338199513384,15)\" font-family=\"sans-serif\" font-size=\"10px\" fill=\"#000\" opacity=\"1\">2015</text><text text-anchor=\"middle\" transform=\"translate(544.1411192214111,15)\" font-family=\"sans-serif\" font-size=\"10px\" fill=\"#000\" opacity=\"1\">2016</text><text text-anchor=\"middle\" transform=\"translate(586.8856447688564,15)\" font-family=\"sans-serif\" font-size=\"10px\" fill=\"#000\" opacity=\"1\">2017</text><text text-anchor=\"middle\" transform=\"translate(629.5133819951337,15)\" font-family=\"sans-serif\" font-size=\"10px\" fill=\"#000\" opacity=\"1\">2018</text><text text-anchor=\"middle\" transform=\"translate(672.1411192214111,15)\" font-family=\"sans-serif\" font-size=\"10px\" fill=\"#000\" opacity=\"1\">2019</text><text text-anchor=\"middle\" transform=\"translate(714.7688564476886,15)\" font-family=\"sans-serif\" font-size=\"10px\" fill=\"#000\" opacity=\"1\">2020</text><text text-anchor=\"middle\" transform=\"translate(757.5133819951338,15)\" font-family=\"sans-serif\" font-size=\"10px\" fill=\"#000\" opacity=\"1\">2021</text></g><g class=\"mark-rule role-axis-domain\" pointer-events=\"none\"><line transform=\"translate(0,0)\" x2=\"800\" y2=\"0\" stroke=\"#888\" stroke-width=\"1\" opacity=\"1\"/></g><g class=\"mark-text role-axis-title\" pointer-events=\"none\"><text text-anchor=\"middle\" transform=\"translate(400,30)\" font-family=\"sans-serif\" font-size=\"11px\" font-weight=\"bold\" fill=\"#000\" opacity=\"1\">dates</text></g></g><path class=\"foreground\" aria-hidden=\"true\" d=\"\" pointer-events=\"none\" display=\"none\"/></g></g><g class=\"mark-group role-axis\" role=\"graphics-symbol\" aria-roledescription=\"axis\" aria-label=\"Y-axis titled 'NYC Price Index' for a linear scale with values from 1.0 to 3.2\"><g transform=\"translate(0.5,0.5)\"><path class=\"background\" aria-hidden=\"true\" d=\"M0,0h0v0h0Z\" pointer-events=\"none\"/><g><g class=\"mark-rule role-axis-tick\" pointer-events=\"none\"><line transform=\"translate(0,400)\" x2=\"-5\" y2=\"0\" stroke=\"#888\" stroke-width=\"1\" opacity=\"1\"/><line transform=\"translate(0,364)\" x2=\"-5\" y2=\"0\" stroke=\"#888\" stroke-width=\"1\" opacity=\"1\"/><line transform=\"translate(0,327)\" x2=\"-5\" y2=\"0\" stroke=\"#888\" stroke-width=\"1\" opacity=\"1\"/><line transform=\"translate(0,291)\" x2=\"-5\" y2=\"0\" stroke=\"#888\" stroke-width=\"1\" opacity=\"1\"/><line transform=\"translate(0,255)\" x2=\"-5\" y2=\"0\" stroke=\"#888\" stroke-width=\"1\" opacity=\"1\"/><line transform=\"translate(0,218)\" x2=\"-5\" y2=\"0\" stroke=\"#888\" stroke-width=\"1\" opacity=\"1\"/><line transform=\"translate(0,182)\" x2=\"-5\" y2=\"0\" stroke=\"#888\" stroke-width=\"1\" opacity=\"1\"/><line transform=\"translate(0,145)\" x2=\"-5\" y2=\"0\" stroke=\"#888\" stroke-width=\"1\" opacity=\"1\"/><line transform=\"translate(0,109)\" x2=\"-5\" y2=\"0\" stroke=\"#888\" stroke-width=\"1\" opacity=\"1\"/><line transform=\"translate(0,73)\" x2=\"-5\" y2=\"0\" stroke=\"#888\" stroke-width=\"1\" opacity=\"1\"/><line transform=\"translate(0,36)\" x2=\"-5\" y2=\"0\" stroke=\"#888\" stroke-width=\"1\" opacity=\"1\"/><line transform=\"translate(0,0)\" x2=\"-5\" y2=\"0\" stroke=\"#888\" stroke-width=\"1\" opacity=\"1\"/></g><g class=\"mark-text role-axis-label\" pointer-events=\"none\"><text text-anchor=\"end\" transform=\"translate(-7,403)\" font-family=\"sans-serif\" font-size=\"10px\" fill=\"#000\" opacity=\"1\">1.0</text><text text-anchor=\"end\" transform=\"translate(-7,366.6363636363637)\" font-family=\"sans-serif\" font-size=\"10px\" fill=\"#000\" opacity=\"1\">1.2</text><text text-anchor=\"end\" transform=\"translate(-7,330.2727272727273)\" font-family=\"sans-serif\" font-size=\"10px\" fill=\"#000\" opacity=\"1\">1.4</text><text text-anchor=\"end\" transform=\"translate(-7,293.90909090909093)\" font-family=\"sans-serif\" font-size=\"10px\" fill=\"#000\" opacity=\"1\">1.6</text><text text-anchor=\"end\" transform=\"translate(-7,257.5454545454545)\" font-family=\"sans-serif\" font-size=\"10px\" fill=\"#000\" opacity=\"1\">1.8</text><text text-anchor=\"end\" transform=\"translate(-7,221.18181818181816)\" font-family=\"sans-serif\" font-size=\"10px\" fill=\"#000\" opacity=\"1\">2.0</text><text text-anchor=\"end\" transform=\"translate(-7,184.81818181818178)\" font-family=\"sans-serif\" font-size=\"10px\" fill=\"#000\" opacity=\"1\">2.2</text><text text-anchor=\"end\" transform=\"translate(-7,148.4545454545455)\" font-family=\"sans-serif\" font-size=\"10px\" fill=\"#000\" opacity=\"1\">2.4</text><text text-anchor=\"end\" transform=\"translate(-7,112.09090909090908)\" font-family=\"sans-serif\" font-size=\"10px\" fill=\"#000\" opacity=\"1\">2.6</text><text text-anchor=\"end\" transform=\"translate(-7,75.72727272727279)\" font-family=\"sans-serif\" font-size=\"10px\" fill=\"#000\" opacity=\"1\">2.8</text><text text-anchor=\"end\" transform=\"translate(-7,39.363636363636374)\" font-family=\"sans-serif\" font-size=\"10px\" fill=\"#000\" opacity=\"1\">3.0</text><text text-anchor=\"end\" transform=\"translate(-7,3)\" font-family=\"sans-serif\" font-size=\"10px\" fill=\"#000\" opacity=\"1\">3.2</text></g><g class=\"mark-rule role-axis-domain\" pointer-events=\"none\"><line transform=\"translate(0,400)\" x2=\"0\" y2=\"-400\" stroke=\"#888\" stroke-width=\"1\" opacity=\"1\"/></g><g class=\"mark-text role-axis-title\" pointer-events=\"none\"><text text-anchor=\"middle\" transform=\"translate(-26,200) rotate(-90) translate(0,-2)\" font-family=\"sans-serif\" font-size=\"11px\" font-weight=\"bold\" fill=\"#000\" opacity=\"1\">NYC Price Index</text></g></g><path class=\"foreground\" aria-hidden=\"true\" d=\"\" pointer-events=\"none\" display=\"none\"/></g></g><g class=\"mark-area role-mark layer_0_layer_0_marks\" role=\"graphics-object\" aria-roledescription=\"area mark container\"><path aria-label=\"NYC Price Index: 1; upper_ci₀: 1; dates: Mar 30, 2003; ci₁: 1; ci₀: 1\" role=\"graphics-symbol\" aria-roledescription=\"errorband\" d=\"M0,400L10.627737226277373,385.8671600624684L21.37226277372263,374.00581499400175L32.11678832116788,363.4667216314257L42.74452554744526,350.5842299913331L53.372262773722625,333.648100727632L64.11678832116789,320.2069882952623L74.86131386861314,315.8033875327477L85.37226277372262,301.9922736370535L96,282.5692716319506L106.74452554744525,269.1382409712261L117.48905109489051,254.34383134488723L128,264.93766360912065L138.62773722627736,249.41773052942864L149.3722627737226,228.67404051453403L160.1167883211679,243.65010639453456L170.6277372262774,223.9640732019965L181.25547445255475,228.67989861125406L192,217.41933401676351L202.74452554744525,232.3065535281079L213.37226277372264,205.90196076910684L224.00000000000003,221.8197508856641L234.74452554744528,203.7745870252416L245.48905109489053,223.73424462724242L256,248.85002538299528L266.62773722627736,255.80352993366694L277.37226277372264,257.64396928553316L288.1167883211679,254.37453000445208L298.62773722627736,256.005683413597L309.2554744525547,247.7122089520126L320,242.9929116264232L330.7445255474453,255.88669617828273L341.2554744525548,248.61779967860284L351.8832116788321,233.8432709463535L362.6277372262774,242.21082281587502L373.37226277372264,238.60871376774142L384,234.34271352838118L394.62773722627736,223.5343635168693L405.37226277372264,208.72208689688074L416.11678832116786,212.67592502817965L426.6277372262774,214.6247035036045L437.2554744525547,198.1146965401492L448.00000000000006,171.74377689460272L458.7445255474453,187.6810777032458L469.2554744525547,159.57007652193846L479.88321167883214,142.29079205528942L490.62773722627736,137.35402537032414L501.37226277372264,132.57622797392102L511.88321167883214,130.48487027098847L522.5109489051094,119.34510990679583L533.2554744525547,105.03568532890975L544,120.87785000016606L554.6277372262773,114.5373899675254L565.2554744525547,113.49783654923624L576,98.11394435147443L586.7445255474453,110.63022708559127L597.2554744525547,104.80015360699765L607.8832116788321,94.91951919534638L618.6277372262774,94.53388055250636L629.3722627737227,88.06819211805048L639.8832116788321,97.68795902970378L650.5109489051094,74.60265120233376L661.2554744525547,89.5862978604284L672,81.39761768259098L682.5109489051096,93.71842372324335L693.1386861313869,81.55321103318988L703.8832116788321,92.58516565564446L714.6277372262774,88.9575896378414L725.2554744525548,76.92873492752396L735.8832116788321,110.21580221818286L746.6277372262773,91.56312500658342L757.3722627737227,105.54616728045683L767.8832116788321,89.59286183089938L778.5109489051094,43.30313865802875L789.2554744525547,24.09854604479773L800,32.71536876971037L800,161.0749802656716L789.2554744525547,169.86705094760467L778.5109489051094,175.67230582058673L767.8832116788321,183.85290359315283L757.3722627737227,196.65978654727616L746.6277372262773,205.8812139472964L735.8832116788321,202.18189503627144L725.2554744525548,182.01210084470327L714.6277372262774,187.4886332471021L703.8832116788321,178.85070628230025L693.1386861313869,181.10998855819957L682.5109489051096,180.79344605235312L672,180.2895701138902L661.2554744525547,182.75823904604468L650.5109489051094,177.65600988611004L639.8832116788321,189.93495676346103L629.3722627737227,182.54743517458584L618.6277372262774,184.6525897766167L607.8832116788321,187.1634175453412L597.2554744525547,180.3655740627861L586.7445255474453,196.58483687744908L576,191.03600764117553L565.2554744525547,193.93678544153215L554.6277372262773,203.5436258749904L544,195.01762674283808L533.2554744525547,192.01849302980517L522.5109489051094,201.8177837583205L511.88321167883214,199.67681010564164L501.37226277372264,206.3863335745918L490.62773722627736,209.32170352980526L479.88321167883214,217.68144117757893L469.2554744525547,222.04386124325396L458.7445255474453,246.93949319710188L448.00000000000006,242.62511363075964L437.2554744525547,257.031034737306L426.6277372262774,272.26249010597303L416.11678832116786,268.0918614256632L405.37226277372264,275.7051924791833L394.62773722627736,282.2411611745093L384,286.27829637430756L373.37226277372264,291.3816592740222L362.6277372262774,289.0655551915483L351.8832116788321,294.92000177311473L341.2554744525548,299.1270513898758L330.7445255474453,298.21546535309807L320,297.24604086311706L309.2554744525547,299.3093240269613L298.62773722627736,304.913154899762L288.1167883211679,304.293443277895L277.37226277372264,305.6112577572736L266.62773722627736,304.87368717293293L256,302.4689112447318L245.48905109489053,282.97285570461037L234.74452554744528,275.8622568626313L224.00000000000003,280.84096256326035L213.37226277372264,282.0558289353057L202.74452554744525,282.75637781162067L192,276.5191562106383L181.25547445255475,281.8015612087307L170.6277372262774,288.6960207428553L160.1167883211679,278.1835008146939L149.3722627737226,280.91150504089654L138.62773722627736,293.33572858536934L128,298.85229077282514L117.48905109489051,298.5228671731146L106.74452554744525,311.292328189754L96,325.7315190991632L85.37226277372262,335.50970610140416L74.86131386861314,345.84637675703686L64.11678832116789,348.3698271803899L53.372262773722625,361.36989056003654L42.74452554744526,373.5263396174323L32.11678832116788,378.84467069099304L21.37226277372263,385.55933948794194L10.627737226277373,393.1220798867605L0,400Z\" fill=\"#4c78a8\" opacity=\"0.3\"/></g><g class=\"mark-line role-mark layer_1_marks\" role=\"graphics-object\" aria-roledescription=\"line mark container\"><path aria-label=\"dates: Mar 30, 2003; index: 1\" role=\"graphics-symbol\" aria-roledescription=\"line mark\" d=\"M0,400L10.627737226277373,389.56303834877565L21.37226277372263,379.94775100887205L32.11678832116788,371.43633620556886L42.74452554744526,362.6540441960361L53.372262773722625,348.32895670048293L64.11678832116789,335.08946843549006L74.86131386861314,331.7238914040095L85.37226277372262,319.81860520989466L96,305.8277411878988L106.74452554744525,291.73873229488197L117.48905109489051,278.0311588083124L128,282.853724228471L138.62773722627736,272.9299939001561L149.3722627737226,256.8788130552502L160.1167883211679,261.8458704543869L170.6277372262774,259.5484630864405L181.25547445255475,257.4009456724645L192,249.5769799759667L202.74452554744525,259.4936064572418L213.37226277372264,248.27044105510456L224.00000000000003,253.96547908252774L234.74452554744528,243.61713231766248L245.48905109489053,256.0244717083186L256,278.00709455659455L266.62773722627736,282.3353278545532L277.37226277372264,283.5437802887221L288.1167883211679,281.39351400006854L298.62773722627736,282.44371583520086L309.2554744525547,275.6695389935631L320,272.4802512330386L330.7445255474453,278.52082987383494L341.2554744525548,275.94355693999285L351.8832116788321,267.31952040447857L362.6277372262774,267.374040414212L373.37226277372264,267.1927730429677L384,262.40789247862824L394.62773722627736,255.50722826247974L405.37226277372264,245.51655225017495L416.11678832116786,242.63244156361628L426.6277372262774,245.89806190911148L437.2554744525547,230.02253451790855L448.00000000000006,210.5371624683567L458.7445255474453,219.71871050888456L469.2554744525547,193.30240484983042L479.88321167883214,183.52226421843466L490.62773722627736,176.50775200611494L501.37226277372264,172.7843635658944L511.88321167883214,167.9528677581017L522.5109489051094,164.61821604527418L533.2554744525547,152.89251981252173L544,161.1897115855088L554.6277372262773,163.72506822300815L565.2554744525547,157.49587402800626L576,149.51187937815428L586.7445255474453,157.92094346911907L597.2554744525547,145.8329057457278L607.8832116788321,145.86757222474537L618.6277372262774,144.18444028181884L629.3722627737227,140.30564124721064L639.8832116788321,148.66840878691562L650.5109489051094,131.95567164644385L661.2554744525547,141.04217209419448L672,136.26497379282708L682.5109489051096,141.51971322590927L693.1386861313869,136.83206992438636L703.8832116788321,139.88837947850396L714.6277372262774,143.694524000386L725.2554744525548,135.57330745082368L735.8832116788321,161.1667633626879L746.6277372262773,156.2658925121683L757.3722627737227,155.9215272699789L767.8832116788321,141.71336199301643L778.5109489051094,118.76173583507041L789.2554744525547,107.93933021425062L800,105.38940433115923\" stroke=\"#4c78a8\" stroke-width=\"2\"/></g></g><path class=\"foreground\" aria-hidden=\"true\" d=\"\" display=\"none\"/></g></g></g></svg>\n"
      ],
      "text/plain": [
       "@vlplot(\n",
       "    encoding={\n",
       "        x={\n",
       "            field=\"dates\"\n",
       "        }\n",
       "    },\n",
       "    layer=[\n",
       "        {\n",
       "            mark=\"errorband\",\n",
       "            encoding={\n",
       "                y={\n",
       "                    title=\"NYC Price Index\",\n",
       "                    scale={\n",
       "                        zero=false\n",
       "                    },\n",
       "                    field=\"ci₀\"\n",
       "                },\n",
       "                y2={\n",
       "                    field=\"ci₁\"\n",
       "                }\n",
       "            }\n",
       "        },\n",
       "        {\n",
       "            width=800,\n",
       "            height=400,\n",
       "            mark=\"line\",\n",
       "            encoding={\n",
       "                y={\n",
       "                    field=\"index\"\n",
       "                }\n",
       "            }\n",
       "        }\n",
       "    ],\n",
       "    data={\n",
       "        values=...\n",
       "    }\n",
       ")"
      ]
     },
     "execution_count": 180,
     "metadata": {},
     "output_type": "execute_result"
    }
   ],
   "source": [
    "idx = calc_index(df)\n",
    "plot(idx.dates, idx.index, label=\"NYC\", legend=:topleft, title=\"Real Estate Price Index\", palette=:seaborn_colorblind)\n",
    "idx\n",
    "\n",
    "idx |>\n",
    "@vlplot(x=:dates) +\n",
    "@vlplot(\n",
    "    mark=:errorband,\n",
    "    y={\n",
    "        :ci₀,\n",
    "        title=\"NYC Price Index\",\n",
    "        scale= {zero = false }\n",
    "    },\n",
    "    y2={\n",
    "        :ci₁\n",
    "    }\n",
    ") +\n",
    "@vlplot(\n",
    "    :line,\n",
    "    y = :index,\n",
    "    width=800,\n",
    "    height=400\n",
    ")"
   ]
  },
  {
   "cell_type": "code",
   "execution_count": 181,
   "id": "increased-socket",
   "metadata": {
    "scrolled": false
   },
   "outputs": [
    {
     "data": {
      "application/vnd.vegalite.v4+json": {
       "data": {
        "values": [
         {
          "borough": "Queens",
          "ci₀": 1,
          "ci₁": 1,
          "dates": "2003-03-31",
          "house_class": "SFH",
          "index": 1
         },
         {
          "borough": "Queens",
          "ci₀": 1.1834232496124542,
          "ci₁": 1.0328361187421784,
          "dates": "2003-06-30",
          "house_class": "SFH",
          "index": 1.1030137477694362
         },
         {
          "borough": "Queens",
          "ci₀": 1.2820408547148385,
          "ci₁": 1.0790802052487483,
          "dates": "2003-09-30",
          "house_class": "SFH",
          "index": 1.171837337865517
         },
         {
          "borough": "Queens",
          "ci₀": 1.3836346793770162,
          "ci₁": 1.1133173341768925,
          "dates": "2003-12-31",
          "house_class": "SFH",
          "index": 1.2338438739367161
         },
         {
          "borough": "Queens",
          "ci₀": 1.463868480548234,
          "ci₁": 1.1426430617256984,
          "dates": "2004-03-31",
          "house_class": "SFH",
          "index": 1.2834619263708513
         },
         {
          "borough": "Queens",
          "ci₀": 1.5539468126972045,
          "ci₁": 1.1925879942805289,
          "dates": "2004-06-30",
          "house_class": "SFH",
          "index": 1.3494955955882806
         },
         {
          "borough": "Queens",
          "ci₀": 1.6584457427375716,
          "ci₁": 1.262797988812463,
          "dates": "2004-09-30",
          "house_class": "SFH",
          "index": 1.4338289721360253
         },
         {
          "borough": "Queens",
          "ci₀": 1.6661375522159119,
          "ci₁": 1.3021885343634374,
          "dates": "2004-12-31",
          "house_class": "SFH",
          "index": 1.461850992030437
         },
         {
          "borough": "Queens",
          "ci₀": 1.793570161496757,
          "ci₁": 1.3442076436890757,
          "dates": "2005-03-31",
          "house_class": "SFH",
          "index": 1.5367122022419972
         },
         {
          "borough": "Queens",
          "ci₀": 1.934903344188254,
          "ci₁": 1.4209215083535949,
          "dates": "2005-06-30",
          "house_class": "SFH",
          "index": 1.6385514138259711
         },
         {
          "borough": "Queens",
          "ci₀": 2.0244637957999614,
          "ci₁": 1.4921576791231754,
          "dates": "2005-09-30",
          "house_class": "SFH",
          "index": 1.7180235180562282
         },
         {
          "borough": "Queens",
          "ci₀": 2.0660559794023747,
          "ci₁": 1.537352889074095,
          "dates": "2005-12-31",
          "house_class": "SFH",
          "index": 1.7629179728727142
         },
         {
          "borough": "Queens",
          "ci₀": 2.122372490493709,
          "ci₁": 1.6118350341467231,
          "dates": "2006-03-31",
          "house_class": "SFH",
          "index": 1.8322036539821893
         },
         {
          "borough": "Queens",
          "ci₀": 2.2729531318831,
          "ci₁": 1.625124699550766,
          "dates": "2006-06-30",
          "house_class": "SFH",
          "index": 1.8952070406381596
         },
         {
          "borough": "Queens",
          "ci₀": 2.4025630767788413,
          "ci₁": 1.71475909839178,
          "dates": "2006-09-30",
          "house_class": "SFH",
          "index": 2.001211816850811
         },
         {
          "borough": "Queens",
          "ci₀": 2.4179528811340534,
          "ci₁": 1.7336905183573936,
          "dates": "2006-12-31",
          "house_class": "SFH",
          "index": 2.019432586320176
         },
         {
          "borough": "Queens",
          "ci₀": 2.4395801831461217,
          "ci₁": 1.6855257550894973,
          "dates": "2007-03-31",
          "house_class": "SFH",
          "index": 1.9936337596495792
         },
         {
          "borough": "Queens",
          "ci₀": 2.4091699212772197,
          "ci₁": 1.6812368142081755,
          "dates": "2007-06-30",
          "house_class": "SFH",
          "index": 1.980431495086333
         },
         {
          "borough": "Queens",
          "ci₀": 2.3900963721657265,
          "ci₁": 1.6270391622912042,
          "dates": "2007-09-30",
          "house_class": "SFH",
          "index": 1.9360961888429224
         },
         {
          "borough": "Queens",
          "ci₀": 2.4297266404713924,
          "ci₁": 1.609346414210751,
          "dates": "2007-12-31",
          "house_class": "SFH",
          "index": 1.9362223972760952
         },
         {
          "borough": "Queens",
          "ci₀": 2.368170093587283,
          "ci₁": 1.5699545281165674,
          "dates": "2008-03-31",
          "house_class": "SFH",
          "index": 1.8881674496979288
         },
         {
          "borough": "Queens",
          "ci₀": 2.3004350005116527,
          "ci₁": 1.545284678302049,
          "dates": "2008-06-30",
          "house_class": "SFH",
          "index": 1.8487187089085957
         },
         {
          "borough": "Queens",
          "ci₀": 2.1371876353057457,
          "ci₁": 1.4850666409831792,
          "dates": "2008-09-30",
          "house_class": "SFH",
          "index": 1.7524258766096232
         },
         {
          "borough": "Queens",
          "ci₀": 1.923169912719818,
          "ci₁": 1.4436217173558281,
          "dates": "2008-12-31",
          "house_class": "SFH",
          "index": 1.6492436463050506
         },
         {
          "borough": "Queens",
          "ci₀": 1.9336587069832467,
          "ci₁": 1.372486973942197,
          "dates": "2009-03-31",
          "house_class": "SFH",
          "index": 1.605447335667037
         },
         {
          "borough": "Queens",
          "ci₀": 1.8484741139514902,
          "ci₁": 1.3205578301727072,
          "dates": "2009-06-30",
          "house_class": "SFH",
          "index": 1.540544247006512
         },
         {
          "borough": "Queens",
          "ci₀": 1.6982493182926588,
          "ci₁": 1.326288258256484,
          "dates": "2009-09-30",
          "house_class": "SFH",
          "index": 1.4893966918496542
         },
         {
          "borough": "Queens",
          "ci₀": 1.701276381704542,
          "ci₁": 1.325896710300764,
          "dates": "2009-12-31",
          "house_class": "SFH",
          "index": 1.49031237346271
         },
         {
          "borough": "Queens",
          "ci₀": 1.6116097650775858,
          "ci₁": 1.2920652107722952,
          "dates": "2010-03-31",
          "house_class": "SFH",
          "index": 1.4342548171654006
         },
         {
          "borough": "Queens",
          "ci₀": 1.7130810154110272,
          "ci₁": 1.2941303366138257,
          "dates": "2010-06-30",
          "house_class": "SFH",
          "index": 1.4744225474061758
         },
         {
          "borough": "Queens",
          "ci₀": 1.7938965910977522,
          "ci₁": 1.3395287920587748,
          "dates": "2010-09-30",
          "house_class": "SFH",
          "index": 1.5337694949868783
         },
         {
          "borough": "Queens",
          "ci₀": 1.6509103346869076,
          "ci₁": 1.2486591900953818,
          "dates": "2010-12-31",
          "house_class": "SFH",
          "index": 1.4218830373346742
         },
         {
          "borough": "Queens",
          "ci₀": 1.6527520963223903,
          "ci₁": 1.2536075726317935,
          "dates": "2011-03-31",
          "house_class": "SFH",
          "index": 1.4257716040894328
         },
         {
          "borough": "Queens",
          "ci₀": 1.6998442341174924,
          "ci₁": 1.259769928850989,
          "dates": "2011-06-30",
          "house_class": "SFH",
          "index": 1.4470890676669343
         },
         {
          "borough": "Queens",
          "ci₀": 1.5967917015272193,
          "ci₁": 1.2872487042628638,
          "dates": "2011-09-30",
          "house_class": "SFH",
          "index": 1.4254086348041375
         },
         {
          "borough": "Queens",
          "ci₀": 1.6487420327842774,
          "ci₁": 1.2465759799887668,
          "dates": "2011-12-31",
          "house_class": "SFH",
          "index": 1.419728130864801
         },
         {
          "borough": "Queens",
          "ci₀": 1.7444400396432858,
          "ci₁": 1.2412649074052093,
          "dates": "2012-03-31",
          "house_class": "SFH",
          "index": 1.450452903206174
         },
         {
          "borough": "Queens",
          "ci₀": 1.8803916895042865,
          "ci₁": 1.3423419826469734,
          "dates": "2012-06-30",
          "house_class": "SFH",
          "index": 1.566451941377553
         },
         {
          "borough": "Queens",
          "ci₀": 1.921490973388029,
          "ci₁": 1.3409798569108478,
          "dates": "2012-09-30",
          "house_class": "SFH",
          "index": 1.5795884926353891
         },
         {
          "borough": "Queens",
          "ci₀": 1.7874886262507805,
          "ci₁": 1.319168904855451,
          "dates": "2012-12-31",
          "house_class": "SFH",
          "index": 1.5180298374846424
         },
         {
          "borough": "Queens",
          "ci₀": 1.9086697019774392,
          "ci₁": 1.3634346122907963,
          "dates": "2013-03-31",
          "house_class": "SFH",
          "index": 1.590625533397019
         },
         {
          "borough": "Queens",
          "ci₀": 1.837753227823548,
          "ci₁": 1.3956456510984108,
          "dates": "2013-06-30",
          "house_class": "SFH",
          "index": 1.5864744167036664
         },
         {
          "borough": "Queens",
          "ci₀": 2.050135884706616,
          "ci₁": 1.4627240479729229,
          "dates": "2013-09-30",
          "house_class": "SFH",
          "index": 1.707317181807018
         },
         {
          "borough": "Queens",
          "ci₀": 1.948041977379658,
          "ci₁": 1.4693431731235183,
          "dates": "2013-12-31",
          "house_class": "SFH",
          "index": 1.6751651068650475
         },
         {
          "borough": "Queens",
          "ci₀": 2.124978521261423,
          "ci₁": 1.4992552668330823,
          "dates": "2014-03-31",
          "house_class": "SFH",
          "index": 1.758101395320521
         },
         {
          "borough": "Queens",
          "ci₀": 2.186437287511522,
          "ci₁": 1.5146011170526334,
          "dates": "2014-06-30",
          "house_class": "SFH",
          "index": 1.7895412022456232
         },
         {
          "borough": "Queens",
          "ci₀": 2.0417646670561465,
          "ci₁": 1.5455253712278272,
          "dates": "2014-09-30",
          "house_class": "SFH",
          "index": 1.7593219735983954
         },
         {
          "borough": "Queens",
          "ci₀": 2.1812857619877093,
          "ci₁": 1.6005553445965484,
          "dates": "2014-12-31",
          "house_class": "SFH",
          "index": 1.8463327707572998
         },
         {
          "borough": "Queens",
          "ci₀": 2.1809617493181306,
          "ci₁": 1.5495088725816082,
          "dates": "2015-03-31",
          "house_class": "SFH",
          "index": 1.8117926255688255
         },
         {
          "borough": "Queens",
          "ci₀": 2.1996161841239696,
          "ci₁": 1.5655874984571647,
          "dates": "2015-06-30",
          "house_class": "SFH",
          "index": 1.8292192877639013
         },
         {
          "borough": "Queens",
          "ci₀": 2.289107333385999,
          "ci₁": 1.6241067376228973,
          "dates": "2015-09-30",
          "house_class": "SFH",
          "index": 1.9001028698313358
         },
         {
          "borough": "Queens",
          "ci₀": 2.2873338170936948,
          "ci₁": 1.660480051384884,
          "dates": "2015-12-31",
          "house_class": "SFH",
          "index": 1.924139435482471
         },
         {
          "borough": "Queens",
          "ci₀": 2.3906186258616375,
          "ci₁": 1.707086865688088,
          "dates": "2016-03-31",
          "house_class": "SFH",
          "index": 1.9918433208504214
         },
         {
          "borough": "Queens",
          "ci₀": 2.4374331091937154,
          "ci₁": 1.69340180365473,
          "dates": "2016-06-30",
          "house_class": "SFH",
          "index": 1.9984113190087334
         },
         {
          "borough": "Queens",
          "ci₀": 2.4208432887038764,
          "ci₁": 1.7354811127421865,
          "dates": "2016-09-30",
          "house_class": "SFH",
          "index": 2.0216553852209116
         },
         {
          "borough": "Queens",
          "ci₀": 2.3332153833141085,
          "ci₁": 1.7892623258984939,
          "dates": "2016-12-31",
          "house_class": "SFH",
          "index": 2.0253520712756634
         },
         {
          "borough": "Queens",
          "ci₀": 2.574197401888067,
          "ci₁": 1.77284200955919,
          "dates": "2017-03-31",
          "house_class": "SFH",
          "index": 2.099656737846743
         },
         {
          "borough": "Queens",
          "ci₀": 2.6903251701567896,
          "ci₁": 1.7961448655974268,
          "dates": "2017-06-30",
          "house_class": "SFH",
          "index": 2.154127277193462
         },
         {
          "borough": "Queens",
          "ci₀": 2.5824091057220437,
          "ci₁": 1.8816944515880902,
          "dates": "2017-09-30",
          "house_class": "SFH",
          "index": 2.1770574197412786
         },
         {
          "borough": "Queens",
          "ci₀": 2.902085436194467,
          "ci₁": 1.9277054573183365,
          "dates": "2017-12-31",
          "house_class": "SFH",
          "index": 2.3166079262231762
         },
         {
          "borough": "Queens",
          "ci₀": 2.8606332739746096,
          "ci₁": 1.8846068263707052,
          "dates": "2018-03-31",
          "house_class": "SFH",
          "index": 2.27224287153917
         },
         {
          "borough": "Queens",
          "ci₀": 3.2428090629447275,
          "ci₁": 1.969304382180391,
          "dates": "2018-06-30",
          "house_class": "SFH",
          "index": 2.4504754800393793
         },
         {
          "borough": "Queens",
          "ci₀": 3.025217978910462,
          "ci₁": 2.011067405832172,
          "dates": "2018-09-30",
          "house_class": "SFH",
          "index": 2.4160335676589986
         },
         {
          "borough": "Queens",
          "ci₀": 3.3750970240092877,
          "ci₁": 2.0380884992131376,
          "dates": "2018-12-31",
          "house_class": "SFH",
          "index": 2.541478173564225
         },
         {
          "borough": "Queens",
          "ci₀": 3.247981752356565,
          "ci₁": 1.978556542371379,
          "dates": "2019-03-31",
          "house_class": "SFH",
          "index": 2.459109714018634
         },
         {
          "borough": "Queens",
          "ci₀": 3.493790057937856,
          "ci₁": 2.089159928601043,
          "dates": "2019-06-30",
          "house_class": "SFH",
          "index": 2.614777565834327
         },
         {
          "borough": "Queens",
          "ci₀": 3.4330780381039627,
          "ci₁": 2.049061287359035,
          "dates": "2019-09-30",
          "house_class": "SFH",
          "index": 2.5663657512999176
         },
         {
          "borough": "Queens",
          "ci₀": 3.606171318733783,
          "ci₁": 2.096832642265407,
          "dates": "2019-12-31",
          "house_class": "SFH",
          "index": 2.651773621913274
         },
         {
          "borough": "Queens",
          "ci₀": 3.8377664199357833,
          "ci₁": 2.151536904240819,
          "dates": "2020-03-31",
          "house_class": "SFH",
          "index": 2.757280984256437
         },
         {
          "borough": "Queens",
          "ci₀": 3.797985414512434,
          "ci₁": 2.2457171325121013,
          "dates": "2020-06-30",
          "house_class": "SFH",
          "index": 2.822508503037028
         },
         {
          "borough": "Queens",
          "ci₀": 3.856516131128136,
          "ci₁": 2.2381750167871375,
          "dates": "2020-09-30",
          "house_class": "SFH",
          "index": 2.832484156143026
         },
         {
          "borough": "Queens",
          "ci₀": 3.9020313138970426,
          "ci₁": 2.2307046138037374,
          "dates": "2020-12-31",
          "house_class": "SFH",
          "index": 2.8386284222024565
         },
         {
          "borough": "Queens",
          "ci₀": 4.126084137516476,
          "ci₁": 2.2256978232164863,
          "dates": "2021-03-31",
          "house_class": "SFH",
          "index": 2.8916031879087916
         },
         {
          "borough": "Queens",
          "ci₀": 4.532167403414174,
          "ci₁": 2.3692886239950863,
          "dates": "2021-06-30",
          "house_class": "SFH",
          "index": 3.111810791318335
         },
         {
          "borough": "Queens",
          "ci₀": 4.813467267176868,
          "ci₁": 2.441014157907531,
          "dates": "2021-09-30",
          "house_class": "SFH",
          "index": 3.239305764068866
         },
         {
          "borough": "Queens",
          "ci₀": 5.1650784460407255,
          "ci₁": 2.459649709695061,
          "dates": "2021-12-31",
          "house_class": "SFH",
          "index": 3.332389939908703
         },
         {
          "borough": "Brooklyn",
          "ci₀": 1,
          "ci₁": 1,
          "dates": "2003-03-31",
          "house_class": "SFH",
          "index": 1
         },
         {
          "borough": "Brooklyn",
          "ci₀": 1.101354327630838,
          "ci₁": 1.032163864960547,
          "dates": "2003-06-30",
          "house_class": "SFH",
          "index": 1.0656371653599375
         },
         {
          "borough": "Brooklyn",
          "ci₀": 1.2167459139819088,
          "ci₁": 1.1537249704923103,
          "dates": "2003-09-30",
          "house_class": "SFH",
          "index": 1.18439771009192
         },
         {
          "borough": "Brooklyn",
          "ci₀": 1.3000990039497589,
          "ci₁": 1.1670406601214196,
          "dates": "2003-12-31",
          "house_class": "SFH",
          "index": 1.2299817654335703
         },
         {
          "borough": "Brooklyn",
          "ci₀": 1.2934158465720236,
          "ci₁": 1.1648665765384243,
          "dates": "2004-03-31",
          "house_class": "SFH",
          "index": 1.225780142324362
         },
         {
          "borough": "Brooklyn",
          "ci₀": 1.4959014184698045,
          "ci₁": 1.2796807403015122,
          "dates": "2004-06-30",
          "house_class": "SFH",
          "index": 1.3793691738189624
         },
         {
          "borough": "Brooklyn",
          "ci₀": 1.410922654841711,
          "ci₁": 1.3758095595892326,
          "dates": "2004-09-30",
          "house_class": "SFH",
          "index": 1.3931448930184591
         },
         {
          "borough": "Brooklyn",
          "ci₀": 1.5494234776240743,
          "ci₁": 1.3336926638389544,
          "dates": "2004-12-31",
          "house_class": "SFH",
          "index": 1.4334869799857954
         },
         {
          "borough": "Brooklyn",
          "ci₀": 1.6954801895634972,
          "ci₁": 1.476608362084339,
          "dates": "2005-03-31",
          "house_class": "SFH",
          "index": 1.5784932765242325
         },
         {
          "borough": "Brooklyn",
          "ci₀": 1.7500651392917324,
          "ci₁": 1.5314432513335645,
          "dates": "2005-06-30",
          "house_class": "SFH",
          "index": 1.6334716404316465
         },
         {
          "borough": "Brooklyn",
          "ci₀": 1.864603926065496,
          "ci₁": 1.5632949865641081,
          "dates": "2005-09-30",
          "house_class": "SFH",
          "index": 1.700707076749734
         },
         {
          "borough": "Brooklyn",
          "ci₀": 1.9686599729088803,
          "ci₁": 1.6606505461564636,
          "dates": "2005-12-31",
          "house_class": "SFH",
          "index": 1.8015853105065434
         },
         {
          "borough": "Brooklyn",
          "ci₀": 2.0292664878706077,
          "ci₁": 1.7774134896153138,
          "dates": "2006-03-31",
          "house_class": "SFH",
          "index": 1.895008590634198
         },
         {
          "borough": "Brooklyn",
          "ci₀": 2.042596221435476,
          "ci₁": 1.7466986263134165,
          "dates": "2006-06-30",
          "house_class": "SFH",
          "index": 1.8830944317852936
         },
         {
          "borough": "Brooklyn",
          "ci₀": 2.1628864167619515,
          "ci₁": 1.7993237586008115,
          "dates": "2006-09-30",
          "house_class": "SFH",
          "index": 1.9644252801296413
         },
         {
          "borough": "Brooklyn",
          "ci₀": 2.145460783389353,
          "ci₁": 1.7325954085718378,
          "dates": "2006-12-31",
          "house_class": "SFH",
          "index": 1.9170508721749489
         },
         {
          "borough": "Brooklyn",
          "ci₀": 2.1754945902256475,
          "ci₁": 1.7774450972687332,
          "dates": "2007-03-31",
          "house_class": "SFH",
          "index": 1.9564286324754232
         },
         {
          "borough": "Brooklyn",
          "ci₀": 2.214191257442486,
          "ci₁": 1.781499573643341,
          "dates": "2007-06-30",
          "house_class": "SFH",
          "index": 1.9744174150864742
         },
         {
          "borough": "Brooklyn",
          "ci₀": 2.2833628273625735,
          "ci₁": 1.7915417464886225,
          "dates": "2007-09-30",
          "house_class": "SFH",
          "index": 2.0077720856830674
         },
         {
          "borough": "Brooklyn",
          "ci₀": 2.178111614141766,
          "ci₁": 1.7213362032232924,
          "dates": "2007-12-31",
          "house_class": "SFH",
          "index": 1.9229709187988582
         },
         {
          "borough": "Brooklyn",
          "ci₀": 2.080441130842486,
          "ci₁": 1.8153453709308531,
          "dates": "2008-03-31",
          "house_class": "SFH",
          "index": 1.9388737933405316
         },
         {
          "borough": "Brooklyn",
          "ci₀": 1.9984220072097212,
          "ci₁": 1.5655083241042531,
          "dates": "2008-06-30",
          "house_class": "SFH",
          "index": 1.755671966913278
         },
         {
          "borough": "Brooklyn",
          "ci₀": 2.045645589937983,
          "ci₁": 1.591221217375784,
          "dates": "2008-09-30",
          "house_class": "SFH",
          "index": 1.7900433743652866
         },
         {
          "borough": "Brooklyn",
          "ci₀": 1.8699979200093864,
          "ci₁": 1.7189066287850923,
          "dates": "2008-12-31",
          "house_class": "SFH",
          "index": 1.7912718361920086
         },
         {
          "borough": "Brooklyn",
          "ci₀": 1.9282284896694968,
          "ci₁": 1.5456088447275351,
          "dates": "2009-03-31",
          "house_class": "SFH",
          "index": 1.7158471864982079
         },
         {
          "borough": "Brooklyn",
          "ci₀": 1.6324412185361232,
          "ci₁": 1.4256592731736766,
          "dates": "2009-06-30",
          "house_class": "SFH",
          "index": 1.5220591785168918
         },
         {
          "borough": "Brooklyn",
          "ci₀": 1.7812737162628665,
          "ci₁": 1.5388855964661432,
          "dates": "2009-09-30",
          "house_class": "SFH",
          "index": 1.6512318880671608
         },
         {
          "borough": "Brooklyn",
          "ci₀": 1.8849784985002356,
          "ci₁": 1.553771750472559,
          "dates": "2009-12-31",
          "house_class": "SFH",
          "index": 1.7034248661081046
         },
         {
          "borough": "Brooklyn",
          "ci₀": 1.8325909232734605,
          "ci₁": 1.4833805114340461,
          "dates": "2010-03-31",
          "house_class": "SFH",
          "index": 1.6395977556149017
         },
         {
          "borough": "Brooklyn",
          "ci₀": 1.6931682595412723,
          "ci₁": 1.4360458383846204,
          "dates": "2010-06-30",
          "house_class": "SFH",
          "index": 1.554043383871242
         },
         {
          "borough": "Brooklyn",
          "ci₀": 1.6362294774765753,
          "ci₁": 1.3888851466234462,
          "dates": "2010-09-30",
          "house_class": "SFH",
          "index": 1.502445427773331
         },
         {
          "borough": "Brooklyn",
          "ci₀": 1.5699179381493729,
          "ci₁": 1.52215056868595,
          "dates": "2010-12-31",
          "house_class": "SFH",
          "index": 1.5456652897966403
         },
         {
          "borough": "Brooklyn",
          "ci₀": 1.520454206485269,
          "ci₁": 1.4357924916896154,
          "dates": "2011-03-31",
          "house_class": "SFH",
          "index": 1.4769110676569774
         },
         {
          "borough": "Brooklyn",
          "ci₀": 1.8536220551107039,
          "ci₁": 1.4937566109663234,
          "dates": "2011-06-30",
          "house_class": "SFH",
          "index": 1.654345370074054
         },
         {
          "borough": "Brooklyn",
          "ci₀": 1.6137350904219414,
          "ci₁": 1.4347258240671763,
          "dates": "2011-09-30",
          "house_class": "SFH",
          "index": 1.518974638269061
         },
         {
          "borough": "Brooklyn",
          "ci₀": 1.585433177148615,
          "ci₁": 1.4022327095759841,
          "dates": "2011-12-31",
          "house_class": "SFH",
          "index": 1.4882161152778806
         },
         {
          "borough": "Brooklyn",
          "ci₀": 1.720633008913424,
          "ci₁": 1.4052134720351823,
          "dates": "2012-03-31",
          "house_class": "SFH",
          "index": 1.547009233684326
         },
         {
          "borough": "Brooklyn",
          "ci₀": 1.832114808386201,
          "ci₁": 1.5288097102827938,
          "dates": "2012-06-30",
          "house_class": "SFH",
          "index": 1.666776444311798
         },
         {
          "borough": "Brooklyn",
          "ci₀": 1.8963577915536884,
          "ci₁": 1.618944308466915,
          "dates": "2012-09-30",
          "house_class": "SFH",
          "index": 1.746704872639389
         },
         {
          "borough": "Brooklyn",
          "ci₀": 1.7008506989435819,
          "ci₁": 1.5936965230372027,
          "dates": "2012-12-31",
          "house_class": "SFH",
          "index": 1.6455310320196663
         },
         {
          "borough": "Brooklyn",
          "ci₀": 1.9611751956114054,
          "ci₁": 1.5899955590883181,
          "dates": "2013-03-31",
          "house_class": "SFH",
          "index": 1.756186940596704
         },
         {
          "borough": "Brooklyn",
          "ci₀": 1.8942534930465647,
          "ci₁": 1.648455794906644,
          "dates": "2013-06-30",
          "house_class": "SFH",
          "index": 1.7628277647578767
         },
         {
          "borough": "Brooklyn",
          "ci₀": 1.9366877278985821,
          "ci₁": 1.7525182244612514,
          "dates": "2013-09-30",
          "house_class": "SFH",
          "index": 1.840005996987869
         },
         {
          "borough": "Brooklyn",
          "ci₀": 1.7989973052290145,
          "ci₁": 1.5465898812832624,
          "dates": "2013-12-31",
          "house_class": "SFH",
          "index": 1.663272169345894
         },
         {
          "borough": "Brooklyn",
          "ci₀": 1.9484640281132264,
          "ci₁": 1.686940041185718,
          "dates": "2014-03-31",
          "house_class": "SFH",
          "index": 1.8082952679689739
         },
         {
          "borough": "Brooklyn",
          "ci₀": 2.4518121936227737,
          "ci₁": 1.726975437120976,
          "dates": "2014-06-30",
          "house_class": "SFH",
          "index": 2.026530089095058
         },
         {
          "borough": "Brooklyn",
          "ci₀": 2.2143719668475894,
          "ci₁": 1.8863859856405008,
          "dates": "2014-09-30",
          "house_class": "SFH",
          "index": 2.0372625225158867
         },
         {
          "borough": "Brooklyn",
          "ci₀": 2.2021814480798505,
          "ci₁": 1.9374220969678775,
          "dates": "2014-12-31",
          "house_class": "SFH",
          "index": 2.061335078402262
         },
         {
          "borough": "Brooklyn",
          "ci₀": 2.6820047242979292,
          "ci₁": 2.067439731927948,
          "dates": "2015-03-31",
          "house_class": "SFH",
          "index": 2.3349607219696655
         },
         {
          "borough": "Brooklyn",
          "ci₀": 2.4131375112091096,
          "ci₁": 2.0336178022157942,
          "dates": "2015-06-30",
          "house_class": "SFH",
          "index": 2.2071821164407033
         },
         {
          "borough": "Brooklyn",
          "ci₀": 2.6766504653751357,
          "ci₁": 2.1366560227933427,
          "dates": "2015-09-30",
          "house_class": "SFH",
          "index": 2.376362839895769
         },
         {
          "borough": "Brooklyn",
          "ci₀": 2.560014861516678,
          "ci₁": 2.105767287838575,
          "dates": "2015-12-31",
          "house_class": "SFH",
          "index": 2.3107789344632623
         },
         {
          "borough": "Brooklyn",
          "ci₀": 2.927741619959668,
          "ci₁": 2.1996651631382855,
          "dates": "2016-03-31",
          "house_class": "SFH",
          "index": 2.5120110498446877
         },
         {
          "borough": "Brooklyn",
          "ci₀": 2.5517634194580743,
          "ci₁": 2.0843193676723484,
          "dates": "2016-06-30",
          "house_class": "SFH",
          "index": 2.294475815513368
         },
         {
          "borough": "Brooklyn",
          "ci₀": 3.1343441557868803,
          "ci₁": 2.2296542314404473,
          "dates": "2016-09-30",
          "house_class": "SFH",
          "index": 2.6057068646335817
         },
         {
          "borough": "Brooklyn",
          "ci₀": 3.044093549054379,
          "ci₁": 2.2432875042216076,
          "dates": "2016-12-31",
          "house_class": "SFH",
          "index": 2.583047051637892
         },
         {
          "borough": "Brooklyn",
          "ci₀": 2.8287893991862214,
          "ci₁": 2.327038136541778,
          "dates": "2017-03-31",
          "house_class": "SFH",
          "index": 2.553499226471689
         },
         {
          "borough": "Brooklyn",
          "ci₀": 3.1738777160041667,
          "ci₁": 2.2549931124512415,
          "dates": "2017-06-30",
          "house_class": "SFH",
          "index": 2.636670724172733
         },
         {
          "borough": "Brooklyn",
          "ci₀": 3.135013323932507,
          "ci₁": 2.3781222427985793,
          "dates": "2017-09-30",
          "house_class": "SFH",
          "index": 2.704611496261237
         },
         {
          "borough": "Brooklyn",
          "ci₀": 3.2581783402489153,
          "ci₁": 2.426289960076272,
          "dates": "2017-12-31",
          "house_class": "SFH",
          "index": 2.7813631732739834
         },
         {
          "borough": "Brooklyn",
          "ci₀": 3.5649850419391913,
          "ci₁": 2.496804931475252,
          "dates": "2018-03-31",
          "house_class": "SFH",
          "index": 2.936780149885512
         },
         {
          "borough": "Brooklyn",
          "ci₀": 2.939371057261906,
          "ci₁": 2.32747162203628,
          "dates": "2018-06-30",
          "house_class": "SFH",
          "index": 2.59787623780837
         },
         {
          "borough": "Brooklyn",
          "ci₀": 3.3387199357611195,
          "ci₁": 2.5691272954711573,
          "dates": "2018-09-30",
          "house_class": "SFH",
          "index": 2.903797672205027
         },
         {
          "borough": "Brooklyn",
          "ci₀": 3.441036574816771,
          "ci₁": 2.6277031053488855,
          "dates": "2018-12-31",
          "house_class": "SFH",
          "index": 2.9798682987892815
         },
         {
          "borough": "Brooklyn",
          "ci₀": 3.636157028365704,
          "ci₁": 2.4292929709453914,
          "dates": "2019-03-31",
          "house_class": "SFH",
          "index": 2.9126579928169414
         },
         {
          "borough": "Brooklyn",
          "ci₀": 3.531220234825925,
          "ci₁": 2.7441245833791266,
          "dates": "2019-06-30",
          "house_class": "SFH",
          "index": 3.0883110128387536
         },
         {
          "borough": "Brooklyn",
          "ci₀": 3.989087917392485,
          "ci₁": 2.616530034258863,
          "dates": "2019-09-30",
          "house_class": "SFH",
          "index": 3.1602095130395096
         },
         {
          "borough": "Brooklyn",
          "ci₀": 3.6069506652816146,
          "ci₁": 2.6930487069588347,
          "dates": "2019-12-31",
          "house_class": "SFH",
          "index": 3.0837126327352347
         },
         {
          "borough": "Brooklyn",
          "ci₀": 4.115459209183582,
          "ci₁": 2.60433056401675,
          "dates": "2020-03-31",
          "house_class": "SFH",
          "index": 3.1899855695445365
         },
         {
          "borough": "Brooklyn",
          "ci₀": 3.975402188081477,
          "ci₁": 2.493703936162478,
          "dates": "2020-06-30",
          "house_class": "SFH",
          "index": 3.0648673538050195
         },
         {
          "borough": "Brooklyn",
          "ci₀": 3.2907869592585044,
          "ci₁": 2.5183426789595864,
          "dates": "2020-09-30",
          "house_class": "SFH",
          "index": 2.8532085744281694
         },
         {
          "borough": "Brooklyn",
          "ci₀": 3.6510008628031034,
          "ci₁": 2.6205396512886745,
          "dates": "2020-12-31",
          "house_class": "SFH",
          "index": 3.05111399866329
         },
         {
          "borough": "Brooklyn",
          "ci₀": 4.015311243850016,
          "ci₁": 2.7481515712475852,
          "dates": "2021-03-31",
          "house_class": "SFH",
          "index": 3.2630278913347674
         },
         {
          "borough": "Brooklyn",
          "ci₀": 3.9901134443861164,
          "ci₁": 2.8374743962855873,
          "dates": "2021-06-30",
          "house_class": "SFH",
          "index": 3.316499179776689
         },
         {
          "borough": "Brooklyn",
          "ci₀": 4.0863510434473795,
          "ci₁": 2.8812805866319406,
          "dates": "2021-09-30",
          "house_class": "SFH",
          "index": 3.379605741732955
         },
         {
          "borough": "Brooklyn",
          "ci₀": 4.98211825288724,
          "ci₁": 2.9780836604428873,
          "dates": "2021-12-31",
          "house_class": "SFH",
          "index": 3.7278363350234844
         },
         {
          "borough": "Manhattan",
          "ci₀": 1,
          "ci₁": 1,
          "dates": "2003-03-31",
          "house_class": "Condo",
          "index": 1
         },
         {
          "borough": "Manhattan",
          "ci₀": 1.1039644021760444,
          "ci₁": 1.057996264231607,
          "dates": "2003-06-30",
          "house_class": "Condo",
          "index": 1.0804916402921296
         },
         {
          "borough": "Manhattan",
          "ci₀": 1.1131327943050464,
          "ci₁": 1.0870728502689946,
          "dates": "2003-09-30",
          "house_class": "Condo",
          "index": 1.0999484911032884
         },
         {
          "borough": "Manhattan",
          "ci₀": 1.1637219737024391,
          "ci₁": 1.117285245985483,
          "dates": "2003-12-31",
          "house_class": "Condo",
          "index": 1.1400309305682343
         },
         {
          "borough": "Manhattan",
          "ci₀": 1.2761541389849738,
          "ci₁": 1.1788688730584735,
          "dates": "2004-03-31",
          "house_class": "Condo",
          "index": 1.2255839430375965
         },
         {
          "borough": "Manhattan",
          "ci₀": 1.373493713410239,
          "ci₁": 1.2651376305424193,
          "dates": "2004-06-30",
          "house_class": "Condo",
          "index": 1.3170908366045053
         },
         {
          "borough": "Manhattan",
          "ci₀": 1.4695528879602513,
          "ci₁": 1.3149124232956453,
          "dates": "2004-09-30",
          "house_class": "Condo",
          "index": 1.3879385325848246
         },
         {
          "borough": "Manhattan",
          "ci₀": 1.4384669267586974,
          "ci₁": 1.3081102225180832,
          "dates": "2004-12-31",
          "house_class": "Condo",
          "index": 1.3701951114991973
         },
         {
          "borough": "Manhattan",
          "ci₀": 1.5541240713287432,
          "ci₁": 1.4219703421840384,
          "dates": "2005-03-31",
          "house_class": "Condo",
          "index": 1.4851130578853815
         },
         {
          "borough": "Manhattan",
          "ci₀": 1.6344727061653868,
          "ci₁": 1.4517439601322966,
          "dates": "2005-06-30",
          "house_class": "Condo",
          "index": 1.5376988304733732
         },
         {
          "borough": "Manhattan",
          "ci₀": 1.708204099078048,
          "ci₁": 1.523538239850632,
          "dates": "2005-09-30",
          "house_class": "Condo",
          "index": 1.6105951486700114
         },
         {
          "borough": "Manhattan",
          "ci₀": 1.7847495957028106,
          "ci₁": 1.5979139198337626,
          "dates": "2005-12-31",
          "house_class": "Condo",
          "index": 1.6861719821037675
         },
         {
          "borough": "Manhattan",
          "ci₀": 1.6991071406025413,
          "ci₁": 1.5949673186383844,
          "dates": "2006-03-31",
          "house_class": "Condo",
          "index": 1.6453910764061204
         },
         {
          "borough": "Manhattan",
          "ci₀": 1.782359302246085,
          "ci₁": 1.6274589170156737,
          "dates": "2006-06-30",
          "house_class": "Condo",
          "index": 1.7013907212885053
         },
         {
          "borough": "Manhattan",
          "ci₀": 1.7991373068140313,
          "ci₁": 1.691591570895418,
          "dates": "2006-09-30",
          "house_class": "Condo",
          "index": 1.7437077525695002
         },
         {
          "borough": "Manhattan",
          "ci₀": 1.8741793409587078,
          "ci₁": 1.7611073095551657,
          "dates": "2006-12-31",
          "house_class": "Condo",
          "index": 1.8158848278515236
         },
         {
          "borough": "Manhattan",
          "ci₀": 1.8912900711662426,
          "ci₁": 1.699322722289728,
          "dates": "2007-03-31",
          "house_class": "Condo",
          "index": 1.7901747569279711
         },
         {
          "borough": "Manhattan",
          "ci₀": 1.9600502213888258,
          "ci₁": 1.7769836487164008,
          "dates": "2007-06-30",
          "house_class": "Condo",
          "index": 1.8640329818433419
         },
         {
          "borough": "Manhattan",
          "ci₀": 2.08070656443415,
          "ci₁": 1.8221640908568149,
          "dates": "2007-09-30",
          "house_class": "Condo",
          "index": 1.942871860322671
         },
         {
          "borough": "Manhattan",
          "ci₀": 1.8218164802028693,
          "ci₁": 1.7507072022120096,
          "dates": "2007-12-31",
          "house_class": "Condo",
          "index": 1.7855541440910745
         },
         {
          "borough": "Manhattan",
          "ci₀": 2.1731052035335567,
          "ci₁": 1.8193382390894968,
          "dates": "2008-03-31",
          "house_class": "Condo",
          "index": 1.9805482287585878
         },
         {
          "borough": "Manhattan",
          "ci₀": 2.019549602764331,
          "ci₁": 1.810291649194251,
          "dates": "2008-06-30",
          "house_class": "Condo",
          "index": 1.9092038236040039
         },
         {
          "borough": "Manhattan",
          "ci₀": 2.253789116326413,
          "ci₁": 1.8712011027210722,
          "dates": "2008-09-30",
          "house_class": "Condo",
          "index": 2.0447528143446427
         },
         {
          "borough": "Manhattan",
          "ci₀": 2.1680169288991507,
          "ci₁": 1.8179798208148936,
          "dates": "2008-12-31",
          "house_class": "Condo",
          "index": 1.9776288218029736
         },
         {
          "borough": "Manhattan",
          "ci₀": 1.9466246673698033,
          "ci₁": 1.7474231841476267,
          "dates": "2009-03-31",
          "house_class": "Condo",
          "index": 1.8416529570391822
         },
         {
          "borough": "Manhattan",
          "ci₀": 1.9603263827555326,
          "ci₁": 1.7139009502838785,
          "dates": "2009-06-30",
          "house_class": "Condo",
          "index": 1.8288499571374925
         },
         {
          "borough": "Manhattan",
          "ci₀": 1.940154692204224,
          "ci₁": 1.7007077048473125,
          "dates": "2009-09-30",
          "house_class": "Condo",
          "index": 1.8125573964561361
         },
         {
          "borough": "Manhattan",
          "ci₀": 1.8819698920871675,
          "ci₁": 1.6598777274366068,
          "dates": "2009-12-31",
          "house_class": "Condo",
          "index": 1.763960646055002
         },
         {
          "borough": "Manhattan",
          "ci₀": 1.9080601189076385,
          "ci₁": 1.680807616483295,
          "dates": "2010-03-31",
          "house_class": "Condo",
          "index": 1.7872388825823555
         },
         {
          "borough": "Manhattan",
          "ci₀": 1.9812159754764251,
          "ci₁": 1.7324200126012823,
          "dates": "2010-06-30",
          "house_class": "Condo",
          "index": 1.8484839204595245
         },
         {
          "borough": "Manhattan",
          "ci₀": 1.9988190335837734,
          "ci₁": 1.7522391546452403,
          "dates": "2010-09-30",
          "house_class": "Condo",
          "index": 1.8674244962055568
         },
         {
          "borough": "Manhattan",
          "ci₀": 2.030326687392108,
          "ci₁": 1.8127073305141335,
          "dates": "2010-12-31",
          "house_class": "Condo",
          "index": 1.9153554469857637
         },
         {
          "borough": "Manhattan",
          "ci₀": 2.058248398367679,
          "ci₁": 1.7986462878192913,
          "dates": "2011-03-31",
          "house_class": "Condo",
          "index": 1.9197106181781616
         },
         {
          "borough": "Manhattan",
          "ci₀": 2.0436027023452854,
          "ci₁": 1.8189006068570552,
          "dates": "2011-06-30",
          "house_class": "Condo",
          "index": 1.9247156043152704
         },
         {
          "borough": "Manhattan",
          "ci₀": 2.0797092774441523,
          "ci₁": 1.8580988278121129,
          "dates": "2011-09-30",
          "house_class": "Condo",
          "index": 1.9626681988138546
         },
         {
          "borough": "Manhattan",
          "ci₀": 2.1063767136153397,
          "ci₁": 1.8421966302858985,
          "dates": "2011-12-31",
          "house_class": "Condo",
          "index": 1.9654491614943748
         },
         {
          "borough": "Manhattan",
          "ci₀": 2.128879227234269,
          "ci₁": 1.9248077323190214,
          "dates": "2012-03-31",
          "house_class": "Condo",
          "index": 2.0217067763937164
         },
         {
          "borough": "Manhattan",
          "ci₀": 2.1617405669539895,
          "ci₁": 1.8957415240404927,
          "dates": "2012-06-30",
          "house_class": "Condo",
          "index": 2.0200219077112807
         },
         {
          "borough": "Manhattan",
          "ci₀": 2.1507999532835558,
          "ci₁": 1.8887346799753064,
          "dates": "2012-09-30",
          "house_class": "Condo",
          "index": 2.01126655927626
         },
         {
          "borough": "Manhattan",
          "ci₀": 2.1683529479552996,
          "ci₁": 1.9645236602472635,
          "dates": "2012-12-31",
          "house_class": "Condo",
          "index": 2.061411977106047
         },
         {
          "borough": "Manhattan",
          "ci₀": 2.2549306027173888,
          "ci₁": 1.9322501800403122,
          "dates": "2013-03-31",
          "house_class": "Condo",
          "index": 2.081156887718366
         },
         {
          "borough": "Manhattan",
          "ci₀": 2.2991820033623873,
          "ci₁": 2.016663366194672,
          "dates": "2013-06-30",
          "house_class": "Condo",
          "index": 2.1486757385243713
         },
         {
          "borough": "Manhattan",
          "ci₀": 2.429765185213239,
          "ci₁": 2.1144550492096927,
          "dates": "2013-09-30",
          "house_class": "Condo",
          "index": 2.2611708936771997
         },
         {
          "borough": "Manhattan",
          "ci₀": 2.4113042120243224,
          "ci₁": 2.113027870316855,
          "dates": "2013-12-31",
          "house_class": "Condo",
          "index": 2.252333785889235
         },
         {
          "borough": "Manhattan",
          "ci₀": 2.5858116813938827,
          "ci₁": 2.3206093587701373,
          "dates": "2014-03-31",
          "house_class": "Condo",
          "index": 2.4460431498798516
         },
         {
          "borough": "Manhattan",
          "ci₀": 2.633247579136357,
          "ci₁": 2.334430409960024,
          "dates": "2014-06-30",
          "house_class": "Condo",
          "index": 2.4748517271779478
         },
         {
          "borough": "Manhattan",
          "ci₀": 2.728914260475688,
          "ci₁": 2.365671176676872,
          "dates": "2014-09-30",
          "house_class": "Condo",
          "index": 2.5343431332218516
         },
         {
          "borough": "Manhattan",
          "ci₀": 2.6985231006828796,
          "ci₁": 2.4016248986376594,
          "dates": "2014-12-31",
          "house_class": "Condo",
          "index": 2.5414322364811004
         },
         {
          "borough": "Manhattan",
          "ci₀": 2.7374655526880862,
          "ci₁": 2.4387757126288077,
          "dates": "2015-03-31",
          "house_class": "Condo",
          "index": 2.579502832986664
         },
         {
          "borough": "Manhattan",
          "ci₀": 2.8302215613461916,
          "ci₁": 2.403454481518264,
          "dates": "2015-06-30",
          "house_class": "Condo",
          "index": 2.599438192045274
         },
         {
          "borough": "Manhattan",
          "ci₀": 2.8178986126006236,
          "ci₁": 2.4172170028608795,
          "dates": "2015-09-30",
          "house_class": "Condo",
          "index": 2.602224263624345
         },
         {
          "borough": "Manhattan",
          "ci₀": 2.6915808851326815,
          "ci₁": 2.43578832075845,
          "dates": "2015-12-31",
          "house_class": "Condo",
          "index": 2.5573041538924755
         },
         {
          "borough": "Manhattan",
          "ci₀": 2.6102553065002025,
          "ci₁": 2.318583588862361,
          "dates": "2016-03-31",
          "house_class": "Condo",
          "index": 2.455789383615904
         },
         {
          "borough": "Manhattan",
          "ci₀": 2.8049283436631143,
          "ci₁": 2.39635757907638,
          "dates": "2016-06-30",
          "house_class": "Condo",
          "index": 2.5845959614398657
         },
         {
          "borough": "Manhattan",
          "ci₀": 2.761900688487089,
          "ci₁": 2.388642064123931,
          "dates": "2016-09-30",
          "house_class": "Condo",
          "index": 2.561746393856733
         },
         {
          "borough": "Manhattan",
          "ci₀": 2.7588130984331247,
          "ci₁": 2.3320142604344762,
          "dates": "2016-12-31",
          "house_class": "Condo",
          "index": 2.527522948195419
         },
         {
          "borough": "Manhattan",
          "ci₀": 2.655300424488889,
          "ci₁": 2.3988302365572722,
          "dates": "2017-03-31",
          "house_class": "Condo",
          "index": 2.520558083114081
         },
         {
          "borough": "Manhattan",
          "ci₀": 2.763328219403618,
          "ci₁": 2.39798961052487,
          "dates": "2017-06-30",
          "house_class": "Condo",
          "index": 2.567728854896687
         },
         {
          "borough": "Manhattan",
          "ci₀": 2.809813669703797,
          "ci₁": 2.386506879494732,
          "dates": "2017-09-30",
          "house_class": "Condo",
          "index": 2.5809183976845755
         },
         {
          "borough": "Manhattan",
          "ci₀": 2.772510235594084,
          "ci₁": 2.387715728761179,
          "dates": "2017-12-31",
          "house_class": "Condo",
          "index": 2.565766051102174
         },
         {
          "borough": "Manhattan",
          "ci₀": 2.715128195109367,
          "ci₁": 2.370747230521171,
          "dates": "2018-03-31",
          "house_class": "Condo",
          "index": 2.531278142058481
         },
         {
          "borough": "Manhattan",
          "ci₀": 2.7963293447344424,
          "ci₁": 2.3991051464691138,
          "dates": "2018-06-30",
          "house_class": "Condo",
          "index": 2.5825320802460525
         },
         {
          "borough": "Manhattan",
          "ci₀": 2.6948553550247425,
          "ci₁": 2.3149134752881846,
          "dates": "2018-09-30",
          "house_class": "Condo",
          "index": 2.490476980715149
         },
         {
          "borough": "Manhattan",
          "ci₀": 2.7396662252428516,
          "ci₁": 2.298569820188882,
          "dates": "2018-12-31",
          "house_class": "Condo",
          "index": 2.4998090783951703
         },
         {
          "borough": "Manhattan",
          "ci₀": 2.6877366739899524,
          "ci₁": 2.4187224331712187,
          "dates": "2019-03-31",
          "house_class": "Condo",
          "index": 2.5461435610910157
         },
         {
          "borough": "Manhattan",
          "ci₀": 2.63653286067566,
          "ci₁": 2.3153765932774006,
          "dates": "2019-06-30",
          "house_class": "Condo",
          "index": 2.4655404262862333
         },
         {
          "borough": "Manhattan",
          "ci₀": 2.590216970651592,
          "ci₁": 2.249070218475944,
          "dates": "2019-09-30",
          "house_class": "Condo",
          "index": 2.407618982056634
         },
         {
          "borough": "Manhattan",
          "ci₀": 2.5502388440997326,
          "ci₁": 2.200812275256842,
          "dates": "2019-12-31",
          "house_class": "Condo",
          "index": 2.3626758845278912
         },
         {
          "borough": "Manhattan",
          "ci₀": 2.556035682857919,
          "ci₁": 2.264904428556153,
          "dates": "2020-03-31",
          "house_class": "Condo",
          "index": 2.401679508088466
         },
         {
          "borough": "Manhattan",
          "ci₀": 2.165523166143785,
          "ci₁": 2.0628383363376956,
          "dates": "2020-06-30",
          "house_class": "Condo",
          "index": 2.11293391197852
         },
         {
          "borough": "Manhattan",
          "ci₀": 2.209815882454755,
          "ci₁": 1.9388963328281452,
          "dates": "2020-09-30",
          "house_class": "Condo",
          "index": 2.065510302176864
         },
         {
          "borough": "Manhattan",
          "ci₀": 2.2361190767599295,
          "ci₁": 2.000457695043453,
          "dates": "2020-12-31",
          "house_class": "Condo",
          "index": 2.1117340036936145
         },
         {
          "borough": "Manhattan",
          "ci₀": 2.4369927292739066,
          "ci₁": 2.1488193667575404,
          "dates": "2021-03-31",
          "house_class": "Condo",
          "index": 2.283851611732142
         },
         {
          "borough": "Manhattan",
          "ci₀": 2.711430942866131,
          "ci₁": 2.2324438950056815,
          "dates": "2021-06-30",
          "house_class": "Condo",
          "index": 2.4487341017462634
         },
         {
          "borough": "Manhattan",
          "ci₀": 2.8198267155567707,
          "ci₁": 2.2476767262286,
          "dates": "2021-09-30",
          "house_class": "Condo",
          "index": 2.501452225288111
         },
         {
          "borough": "Manhattan",
          "ci₀": 2.774825673427794,
          "ci₁": 2.3413565087264345,
          "dates": "2021-12-31",
          "house_class": "Condo",
          "index": 2.5397282269279158
         },
         {
          "borough": "Staten Island",
          "ci₀": 1,
          "ci₁": 1,
          "dates": "2003-03-31",
          "house_class": "SFH",
          "index": 1
         },
         {
          "borough": "Staten Island",
          "ci₀": 1.7150070605990002,
          "ci₁": 1.6759395140163948,
          "dates": "2003-06-30",
          "house_class": "SFH",
          "index": 1.6952482361070373
         },
         {
          "borough": "Staten Island",
          "ci₀": 1.8641066713003167,
          "ci₁": 1.6863607373326495,
          "dates": "2003-09-30",
          "house_class": "SFH",
          "index": 1.7707844849031154
         },
         {
          "borough": "Staten Island",
          "ci₀": 1.8838995000420005,
          "ci₁": 1.7367531267176686,
          "dates": "2003-12-31",
          "house_class": "SFH",
          "index": 1.8073362370849593
         },
         {
          "borough": "Staten Island",
          "ci₀": 1.9397612572067828,
          "ci₁": 1.765681235469903,
          "dates": "2004-03-31",
          "house_class": "SFH",
          "index": 1.8486321457750763
         },
         {
          "borough": "Staten Island",
          "ci₀": 1.923377281683023,
          "ci₁": 1.8043249246106525,
          "dates": "2004-06-30",
          "house_class": "SFH",
          "index": 1.861950003898545
         },
         {
          "borough": "Staten Island",
          "ci₀": 2.1894839887605007,
          "ci₁": 1.936894215104096,
          "dates": "2004-09-30",
          "house_class": "SFH",
          "index": 2.0554581584022023
         },
         {
          "borough": "Staten Island",
          "ci₀": 2.0984904064303955,
          "ci₁": 1.9662615751999006,
          "dates": "2004-12-31",
          "house_class": "SFH",
          "index": 2.030225249037101
         },
         {
          "borough": "Staten Island",
          "ci₀": 2.3367163692528345,
          "ci₁": 2.0292338619207606,
          "dates": "2005-03-31",
          "house_class": "SFH",
          "index": 2.1721475193810336
         },
         {
          "borough": "Staten Island",
          "ci₀": 2.41063022630042,
          "ci₁": 2.123075007990245,
          "dates": "2005-06-30",
          "house_class": "SFH",
          "index": 2.2577333648666444
         },
         {
          "borough": "Staten Island",
          "ci₀": 2.518559675497789,
          "ci₁": 2.2038690817833073,
          "dates": "2005-09-30",
          "house_class": "SFH",
          "index": 2.3507292898374947
         },
         {
          "borough": "Staten Island",
          "ci₀": 2.634091181864019,
          "ci₁": 2.233618897397422,
          "dates": "2005-12-31",
          "house_class": "SFH",
          "index": 2.417381374599891
         },
         {
          "borough": "Staten Island",
          "ci₀": 2.587689703807294,
          "ci₁": 2.2169982430574984,
          "dates": "2006-03-31",
          "house_class": "SFH",
          "index": 2.3880441728425907
         },
         {
          "borough": "Staten Island",
          "ci₀": 2.692724728232802,
          "ci₁": 2.257030587996448,
          "dates": "2006-06-30",
          "house_class": "SFH",
          "index": 2.455702025006673
         },
         {
          "borough": "Staten Island",
          "ci₀": 2.7399834044586564,
          "ci₁": 2.3109744540645347,
          "dates": "2006-09-30",
          "house_class": "SFH",
          "index": 2.5072597434483845
         },
         {
          "borough": "Staten Island",
          "ci₀": 2.814959349196784,
          "ci₁": 2.280996958387609,
          "dates": "2006-12-31",
          "house_class": "SFH",
          "index": 2.5200034403537876
         },
         {
          "borough": "Staten Island",
          "ci₀": 2.67316976995599,
          "ci₁": 2.2596474406673384,
          "dates": "2007-03-31",
          "house_class": "SFH",
          "index": 2.449075638214075
         },
         {
          "borough": "Staten Island",
          "ci₀": 2.743328921904549,
          "ci₁": 2.236529041058793,
          "dates": "2007-06-30",
          "house_class": "SFH",
          "index": 2.4641404829807585
         },
         {
          "borough": "Staten Island",
          "ci₀": 2.832022469409795,
          "ci₁": 2.275385856527603,
          "dates": "2007-09-30",
          "house_class": "SFH",
          "index": 2.523371330832736
         },
         {
          "borough": "Staten Island",
          "ci₀": 2.6892484202974076,
          "ci₁": 2.161621813035997,
          "dates": "2007-12-31",
          "house_class": "SFH",
          "index": 2.3967402822040946
         },
         {
          "borough": "Staten Island",
          "ci₀": 2.5578381966418298,
          "ci₁": 2.15376022646417,
          "dates": "2008-03-31",
          "house_class": "SFH",
          "index": 2.3384718640882665
         },
         {
          "borough": "Staten Island",
          "ci₀": 2.528831818777811,
          "ci₁": 2.0762833215182783,
          "dates": "2008-06-30",
          "house_class": "SFH",
          "index": 2.2803214114275168
         },
         {
          "borough": "Staten Island",
          "ci₀": 2.7142289085153513,
          "ci₁": 2.1480878671526904,
          "dates": "2008-09-30",
          "house_class": "SFH",
          "index": 2.3981992354892867
         },
         {
          "borough": "Staten Island",
          "ci₀": 2.5042967733115886,
          "ci₁": 2.066787093837122,
          "dates": "2008-12-31",
          "house_class": "SFH",
          "index": 2.264604369837065
         },
         {
          "borough": "Staten Island",
          "ci₀": 2.439146883865097,
          "ci₁": 1.9652914178534306,
          "dates": "2009-03-31",
          "house_class": "SFH",
          "index": 2.1767290670747412
         },
         {
          "borough": "Staten Island",
          "ci₀": 2.4437459459949644,
          "ci₁": 1.9475720146772095,
          "dates": "2009-06-30",
          "house_class": "SFH",
          "index": 2.1676276953865417
         },
         {
          "borough": "Staten Island",
          "ci₀": 2.3190714582251633,
          "ci₁": 1.958873962967962,
          "dates": "2009-09-30",
          "house_class": "SFH",
          "index": 2.1238086279803126
         },
         {
          "borough": "Staten Island",
          "ci₀": 2.4173426625465826,
          "ci₁": 1.9719665077564656,
          "dates": "2009-12-31",
          "house_class": "SFH",
          "index": 2.1720587834479574
         },
         {
          "borough": "Staten Island",
          "ci₀": 2.5688151957721255,
          "ci₁": 2.027152384774783,
          "dates": "2010-03-31",
          "house_class": "SFH",
          "index": 2.26606465728616
         },
         {
          "borough": "Staten Island",
          "ci₀": 2.441338671278925,
          "ci₁": 1.9957693318655156,
          "dates": "2010-06-30",
          "house_class": "SFH",
          "index": 2.1961822184102364
         },
         {
          "borough": "Staten Island",
          "ci₀": 2.5143246063918507,
          "ci₁": 1.9929543110671506,
          "dates": "2010-09-30",
          "house_class": "SFH",
          "index": 2.2234852359905837
         },
         {
          "borough": "Staten Island",
          "ci₀": 2.568271398976826,
          "ci₁": 2.0015465922933076,
          "dates": "2010-12-31",
          "house_class": "SFH",
          "index": 2.2497678798265133
         },
         {
          "borough": "Staten Island",
          "ci₀": 2.5072733922904327,
          "ci₁": 1.9478325699814178,
          "dates": "2011-06-30",
          "house_class": "SFH",
          "index": 2.1924276624211503
         },
         {
          "borough": "Staten Island",
          "ci₀": 2.6038708460424296,
          "ci₁": 1.9617142511088812,
          "dates": "2011-09-30",
          "house_class": "SFH",
          "index": 2.2376323901685824
         },
         {
          "borough": "Staten Island",
          "ci₀": 2.4823546408534067,
          "ci₁": 1.9607296752828085,
          "dates": "2011-12-31",
          "house_class": "SFH",
          "index": 2.1909223694993476
         },
         {
          "borough": "Staten Island",
          "ci₀": 2.402022985824223,
          "ci₁": 1.9007073497183375,
          "dates": "2012-03-31",
          "house_class": "SFH",
          "index": 2.1221607618004654
         },
         {
          "borough": "Staten Island",
          "ci₀": 2.319034848829782,
          "ci₁": 1.9097879292732292,
          "dates": "2012-06-30",
          "house_class": "SFH",
          "index": 2.094608828155154
         },
         {
          "borough": "Staten Island",
          "ci₀": 2.4568714247879457,
          "ci₁": 1.9810895843429381,
          "dates": "2012-09-30",
          "house_class": "SFH",
          "index": 2.193476860072904
         },
         {
          "borough": "Staten Island",
          "ci₀": 2.1775730160265714,
          "ci₁": 1.8899246584225855,
          "dates": "2012-12-31",
          "house_class": "SFH",
          "index": 2.023577770852245
         },
         {
          "borough": "Staten Island",
          "ci₀": 2.554994204036839,
          "ci₁": 1.938939139105676,
          "dates": "2013-03-31",
          "house_class": "SFH",
          "index": 2.2047404285400307
         },
         {
          "borough": "Staten Island",
          "ci₀": 2.3762281353276564,
          "ci₁": 1.9287709727260534,
          "dates": "2013-06-30",
          "house_class": "SFH",
          "index": 2.1292454362746684
         },
         {
          "borough": "Staten Island",
          "ci₀": 2.524634085688068,
          "ci₁": 2.066864232570131,
          "dates": "2013-09-30",
          "house_class": "SFH",
          "index": 2.272929458031712
         },
         {
          "borough": "Staten Island",
          "ci₀": 2.277871909167426,
          "ci₁": 1.9929716299167035,
          "dates": "2013-12-31",
          "house_class": "SFH",
          "index": 2.1259191773288006
         },
         {
          "borough": "Staten Island",
          "ci₀": 2.528796655276879,
          "ci₁": 2.0407588421266087,
          "dates": "2014-03-31",
          "house_class": "SFH",
          "index": 2.2587160335962113
         },
         {
          "borough": "Staten Island",
          "ci₀": 2.509054129873004,
          "ci₁": 2.0181044204781196,
          "dates": "2014-06-30",
          "house_class": "SFH",
          "index": 2.2369586460906548
         },
         {
          "borough": "Staten Island",
          "ci₀": 2.570850486938326,
          "ci₁": 2.090940138030266,
          "dates": "2014-09-30",
          "house_class": "SFH",
          "index": 2.306193007992596
         },
         {
          "borough": "Staten Island",
          "ci₀": 2.559273040636362,
          "ci₁": 2.08148984435752,
          "dates": "2014-12-31",
          "house_class": "SFH",
          "index": 2.2957866950056856
         },
         {
          "borough": "Staten Island",
          "ci₀": 2.512050413699599,
          "ci₁": 2.0595288315150433,
          "dates": "2015-03-31",
          "house_class": "SFH",
          "index": 2.2633930096034924
         },
         {
          "borough": "Staten Island",
          "ci₀": 2.5895794878515948,
          "ci₁": 2.125920445467571,
          "dates": "2015-06-30",
          "house_class": "SFH",
          "index": 2.3349549597012063
         },
         {
          "borough": "Staten Island",
          "ci₀": 2.714872576344095,
          "ci₁": 2.2334142824780856,
          "dates": "2015-09-30",
          "house_class": "SFH",
          "index": 2.4507209707556172
         },
         {
          "borough": "Staten Island",
          "ci₀": 2.6223595761128227,
          "ci₁": 2.2617006431350046,
          "dates": "2015-12-31",
          "house_class": "SFH",
          "index": 2.4287138460954583
         },
         {
          "borough": "Staten Island",
          "ci₀": 2.8596568595836374,
          "ci₁": 2.2428203548629155,
          "dates": "2016-03-31",
          "house_class": "SFH",
          "index": 2.5139540435138286
         },
         {
          "borough": "Staten Island",
          "ci₀": 2.6136000744020706,
          "ci₁": 2.268671271533112,
          "dates": "2016-06-30",
          "house_class": "SFH",
          "index": 2.428951192567125
         },
         {
          "borough": "Staten Island",
          "ci₀": 2.8601255455163885,
          "ci₁": 2.346779567000651,
          "dates": "2016-09-30",
          "house_class": "SFH",
          "index": 2.5781473041016496
         },
         {
          "borough": "Staten Island",
          "ci₀": 3.01348185773743,
          "ci₁": 2.4904018571980195,
          "dates": "2016-12-31",
          "house_class": "SFH",
          "index": 2.7270855286337934
         },
         {
          "borough": "Staten Island",
          "ci₀": 3.0448704278435583,
          "ci₁": 2.454324040400784,
          "dates": "2017-03-31",
          "house_class": "SFH",
          "index": 2.717888495893729
         },
         {
          "borough": "Staten Island",
          "ci₀": 3.187638848745164,
          "ci₁": 2.5410188177819615,
          "dates": "2017-06-30",
          "house_class": "SFH",
          "index": 2.8278353396057083
         },
         {
          "borough": "Staten Island",
          "ci₀": 3.0225017138145187,
          "ci₁": 2.552092055728576,
          "dates": "2017-09-30",
          "house_class": "SFH",
          "index": 2.767449228101968
         },
         {
          "borough": "Staten Island",
          "ci₀": 3.4099134672698583,
          "ci₁": 2.5903359305220284,
          "dates": "2017-12-31",
          "house_class": "SFH",
          "index": 2.944151413936419
         },
         {
          "borough": "Staten Island",
          "ci₀": 3.371540165330842,
          "ci₁": 2.6614368294501727,
          "dates": "2018-03-31",
          "house_class": "SFH",
          "index": 2.97469762465346
         },
         {
          "borough": "Staten Island",
          "ci₀": 3.3050496708156394,
          "ci₁": 2.660927381377985,
          "dates": "2018-06-30",
          "house_class": "SFH",
          "index": 2.9482168935443656
         },
         {
          "borough": "Staten Island",
          "ci₀": 3.428291685379099,
          "ci₁": 2.740644368300766,
          "dates": "2018-09-30",
          "house_class": "SFH",
          "index": 3.046142225715526
         },
         {
          "borough": "Staten Island",
          "ci₀": 3.6220243719299465,
          "ci₁": 2.7881387269126985,
          "dates": "2018-12-31",
          "house_class": "SFH",
          "index": 3.1508422689035323
         },
         {
          "borough": "Staten Island",
          "ci₀": 3.322415890565752,
          "ci₁": 2.7450961820378383,
          "dates": "2019-03-31",
          "house_class": "SFH",
          "index": 3.0062902445681714
         },
         {
          "borough": "Staten Island",
          "ci₀": 3.8207524834368987,
          "ci₁": 2.900178837756334,
          "dates": "2019-06-30",
          "house_class": "SFH",
          "index": 3.297419648323785
         },
         {
          "borough": "Staten Island",
          "ci₀": 3.6598547441828675,
          "ci₁": 2.7943806710440597,
          "dates": "2019-09-30",
          "house_class": "SFH",
          "index": 3.169090278871996
         },
         {
          "borough": "Staten Island",
          "ci₀": 3.726382043235307,
          "ci₁": 2.9019561151958904,
          "dates": "2019-12-31",
          "house_class": "SFH",
          "index": 3.2628984519046558
         },
         {
          "borough": "Staten Island",
          "ci₀": 3.8101646612456395,
          "ci₁": 2.8733242254831755,
          "dates": "2020-03-31",
          "house_class": "SFH",
          "index": 3.2760848741667714
         },
         {
          "borough": "Staten Island",
          "ci₀": 3.714709821672712,
          "ci₁": 2.9145327911010726,
          "dates": "2020-06-30",
          "house_class": "SFH",
          "index": 3.26632896609596
         },
         {
          "borough": "Staten Island",
          "ci₀": 3.5184662043446693,
          "ci₁": 2.833721513431655,
          "dates": "2020-09-30",
          "house_class": "SFH",
          "index": 3.1391872597316675
         },
         {
          "borough": "Staten Island",
          "ci₀": 3.596964936554791,
          "ci₁": 2.8979677244885105,
          "dates": "2020-12-31",
          "house_class": "SFH",
          "index": 3.2098526147238684
         },
         {
          "borough": "Staten Island",
          "ci₀": 3.926820660924689,
          "ci₁": 2.9412883466654636,
          "dates": "2021-03-31",
          "house_class": "SFH",
          "index": 3.3633455254303066
         },
         {
          "borough": "Staten Island",
          "ci₀": 4.159106768200645,
          "ci₁": 3.0807619873172434,
          "dates": "2021-06-30",
          "house_class": "SFH",
          "index": 3.5396271577163003
         },
         {
          "borough": "Staten Island",
          "ci₀": 4.437702407605442,
          "ci₁": 3.0988004428227334,
          "dates": "2021-09-30",
          "house_class": "SFH",
          "index": 3.6493197066918057
         },
         {
          "borough": "Staten Island",
          "ci₀": 4.591295587763662,
          "ci₁": 3.2955955536457404,
          "dates": "2021-12-31",
          "house_class": "SFH",
          "index": 3.8370133562673425
         },
         {
          "borough": "Queens",
          "ci₀": 1,
          "ci₁": 1,
          "dates": "2003-03-31",
          "house_class": "Condo",
          "index": 1
         },
         {
          "borough": "Queens",
          "ci₀": 1.0457304401860563,
          "ci₁": 1.040985536908842,
          "dates": "2003-06-30",
          "house_class": "Condo",
          "index": 1.0433525939208308
         },
         {
          "borough": "Queens",
          "ci₀": 1.0946366189415415,
          "ci₁": 1.0607232338055164,
          "dates": "2003-09-30",
          "house_class": "Condo",
          "index": 1.0774131222735273
         },
         {
          "borough": "Queens",
          "ci₀": 1.1414147431987889,
          "ci₁": 1.1114485504191036,
          "dates": "2003-12-31",
          "house_class": "Condo",
          "index": 1.1262323509368326
         },
         {
          "borough": "Queens",
          "ci₀": 1.1720213156532264,
          "ci₁": 1.15018963795916,
          "dates": "2004-03-31",
          "house_class": "Condo",
          "index": 1.1610028543139954
         },
         {
          "borough": "Queens",
          "ci₀": 1.3000508341845005,
          "ci₁": 1.2468977017254652,
          "dates": "2004-06-30",
          "house_class": "Condo",
          "index": 1.2729196325843866
         },
         {
          "borough": "Queens",
          "ci₀": 1.2501852123773487,
          "ci₁": 1.2301917634197401,
          "dates": "2004-09-30",
          "house_class": "Condo",
          "index": 1.2401079078082757
         },
         {
          "borough": "Queens",
          "ci₀": 1.3268664503190624,
          "ci₁": 1.291208190668118,
          "dates": "2004-12-31",
          "house_class": "Condo",
          "index": 1.308794487179859
         },
         {
          "borough": "Queens",
          "ci₀": 1.3804216141332315,
          "ci₁": 1.3598754148618442,
          "dates": "2005-03-31",
          "house_class": "Condo",
          "index": 1.3700714888503118
         },
         {
          "borough": "Queens",
          "ci₀": 1.4683970458898885,
          "ci₁": 1.4148039132083505,
          "dates": "2005-06-30",
          "house_class": "Condo",
          "index": 1.4411023831778698
         },
         {
          "borough": "Queens",
          "ci₀": 1.559730885640308,
          "ci₁": 1.5180127382189958,
          "dates": "2005-09-30",
          "house_class": "Condo",
          "index": 1.5385890717087358
         },
         {
          "borough": "Queens",
          "ci₀": 1.5199249448301029,
          "ci₁": 1.5003442678714884,
          "dates": "2005-12-31",
          "house_class": "Condo",
          "index": 1.51007113470586
         },
         {
          "borough": "Queens",
          "ci₀": 1.604300426285922,
          "ci₁": 1.5800849982287648,
          "dates": "2006-03-31",
          "house_class": "Condo",
          "index": 1.592100640023958
         },
         {
          "borough": "Queens",
          "ci₀": 1.6567058426871266,
          "ci₁": 1.590633005809526,
          "dates": "2006-06-30",
          "house_class": "Condo",
          "index": 1.622997240042007
         },
         {
          "borough": "Queens",
          "ci₀": 1.6807350843698639,
          "ci₁": 1.6642975602763828,
          "dates": "2006-09-30",
          "house_class": "Condo",
          "index": 1.6724759352436795
         },
         {
          "borough": "Queens",
          "ci₀": 1.5876403545513729,
          "ci₁": 1.5275570899282698,
          "dates": "2006-12-31",
          "house_class": "Condo",
          "index": 1.5570193049232453
         },
         {
          "borough": "Queens",
          "ci₀": 1.5736768906322407,
          "ci₁": 1.4989999827494547,
          "dates": "2007-03-31",
          "house_class": "Condo",
          "index": 1.5354309802935864
         },
         {
          "borough": "Queens",
          "ci₀": 1.8077419956362522,
          "ci₁": 1.6717215432524648,
          "dates": "2007-06-30",
          "house_class": "Condo",
          "index": 1.737073088981134
         },
         {
          "borough": "Queens",
          "ci₀": 1.6919522011395214,
          "ci₁": 1.6094341533218308,
          "dates": "2007-09-30",
          "house_class": "Condo",
          "index": 1.6496619092292135
         },
         {
          "borough": "Queens",
          "ci₀": 1.7313216522846044,
          "ci₁": 1.6348771189699471,
          "dates": "2007-12-31",
          "house_class": "Condo",
          "index": 1.6817177755919872
         },
         {
          "borough": "Queens",
          "ci₀": 1.4610858535986382,
          "ci₁": 1.4449107400937846,
          "dates": "2008-03-31",
          "house_class": "Condo",
          "index": 1.4529532805689276
         },
         {
          "borough": "Queens",
          "ci₀": 1.7625616337912722,
          "ci₁": 1.606437487988066,
          "dates": "2008-06-30",
          "house_class": "Condo",
          "index": 1.6808820549150894
         },
         {
          "borough": "Queens",
          "ci₀": 1.713366875190853,
          "ci₁": 1.5912823099913875,
          "dates": "2008-09-30",
          "house_class": "Condo",
          "index": 1.6500694907293594
         },
         {
          "borough": "Queens",
          "ci₀": 1.6431552600486816,
          "ci₁": 1.5490026390732505,
          "dates": "2008-12-31",
          "house_class": "Condo",
          "index": 1.5946904349077622
         },
         {
          "borough": "Queens",
          "ci₀": 1.4281358094805343,
          "ci₁": 1.411942483135762,
          "dates": "2009-03-31",
          "house_class": "Condo",
          "index": 1.4199929814156538
         },
         {
          "borough": "Queens",
          "ci₀": 1.4603670144743202,
          "ci₁": 1.4065732417131718,
          "dates": "2009-06-30",
          "house_class": "Condo",
          "index": 1.4329654489359518
         },
         {
          "borough": "Queens",
          "ci₀": 1.5806142413376023,
          "ci₁": 1.38687059459013,
          "dates": "2009-09-30",
          "house_class": "Condo",
          "index": 1.477417768853524
         },
         {
          "borough": "Queens",
          "ci₀": 1.565461303277562,
          "ci₁": 1.542123477457165,
          "dates": "2009-12-31",
          "house_class": "Condo",
          "index": 1.5537047573416454
         },
         {
          "borough": "Queens",
          "ci₀": 1.5212092847514493,
          "ci₁": 1.4223162792924904,
          "dates": "2010-03-31",
          "house_class": "Condo",
          "index": 1.47010153833376
         },
         {
          "borough": "Queens",
          "ci₀": 1.4715321729857949,
          "ci₁": 1.3851426841236267,
          "dates": "2010-06-30",
          "house_class": "Condo",
          "index": 1.4270311644261044
         },
         {
          "borough": "Queens",
          "ci₀": 1.4760325507628884,
          "ci₁": 1.383205852083571,
          "dates": "2010-09-30",
          "house_class": "Condo",
          "index": 1.4281123672993032
         },
         {
          "borough": "Queens",
          "ci₀": 1.5482944800051521,
          "ci₁": 1.4055729906762946,
          "dates": "2010-12-31",
          "house_class": "Condo",
          "index": 1.4734858109300273
         },
         {
          "borough": "Queens",
          "ci₀": 1.4299002226338238,
          "ci₁": 1.3834867502874304,
          "dates": "2011-03-31",
          "house_class": "Condo",
          "index": 1.4063106364588351
         },
         {
          "borough": "Queens",
          "ci₀": 1.4917741264854967,
          "ci₁": 1.362887891126842,
          "dates": "2011-06-30",
          "house_class": "Condo",
          "index": 1.4244214416555858
         },
         {
          "borough": "Queens",
          "ci₀": 1.5318283487313995,
          "ci₁": 1.4162465633816774,
          "dates": "2011-09-30",
          "house_class": "Condo",
          "index": 1.4717717149368439
         },
         {
          "borough": "Queens",
          "ci₀": 1.567666676324779,
          "ci₁": 1.440886159683314,
          "dates": "2011-12-31",
          "house_class": "Condo",
          "index": 1.501605150408626
         },
         {
          "borough": "Queens",
          "ci₀": 1.4684897381582396,
          "ci₁": 1.4018204843388722,
          "dates": "2012-03-31",
          "house_class": "Condo",
          "index": 1.4343808413856691
         },
         {
          "borough": "Queens",
          "ci₀": 1.4826371905267064,
          "ci₁": 1.4376481252369313,
          "dates": "2012-06-30",
          "house_class": "Condo",
          "index": 1.4597961136615123
         },
         {
          "borough": "Queens",
          "ci₀": 1.5124900472510532,
          "ci₁": 1.5040413701637614,
          "dates": "2012-09-30",
          "house_class": "Condo",
          "index": 1.508253877213773
         },
         {
          "borough": "Queens",
          "ci₀": 1.5413647830431363,
          "ci₁": 1.4975359940436568,
          "dates": "2012-12-31",
          "house_class": "Condo",
          "index": 1.5191343264396837
         },
         {
          "borough": "Queens",
          "ci₀": 1.538478329373908,
          "ci₁": 1.5058943252705255,
          "dates": "2013-03-31",
          "house_class": "Condo",
          "index": 1.522011953576974
         },
         {
          "borough": "Queens",
          "ci₀": 1.6573553336556834,
          "ci₁": 1.5558236198438309,
          "dates": "2013-06-30",
          "house_class": "Condo",
          "index": 1.6049853505777079
         },
         {
          "borough": "Queens",
          "ci₀": 1.6733207050592092,
          "ci₁": 1.6100505885769951,
          "dates": "2013-09-30",
          "house_class": "Condo",
          "index": 1.6410760435655805
         },
         {
          "borough": "Queens",
          "ci₀": 1.791144234418503,
          "ci₁": 1.681628322066014,
          "dates": "2013-12-31",
          "house_class": "Condo",
          "index": 1.734659454089032
         },
         {
          "borough": "Queens",
          "ci₀": 1.816271101230547,
          "ci₁": 1.6751922929373477,
          "dates": "2014-03-31",
          "house_class": "Condo",
          "index": 1.7428814265952641
         },
         {
          "borough": "Queens",
          "ci₀": 1.893897014590232,
          "ci₁": 1.7866038031017881,
          "dates": "2014-06-30",
          "house_class": "Condo",
          "index": 1.8386865139032122
         },
         {
          "borough": "Queens",
          "ci₀": 1.8269638417345118,
          "ci₁": 1.7655635579337332,
          "dates": "2014-09-30",
          "house_class": "Condo",
          "index": 1.7957390003076603
         },
         {
          "borough": "Queens",
          "ci₀": 1.895656197005803,
          "ci₁": 1.7910513929982232,
          "dates": "2014-12-31",
          "house_class": "Condo",
          "index": 1.841869792710764
         },
         {
          "borough": "Queens",
          "ci₀": 1.9695590889118528,
          "ci₁": 1.8755000077808768,
          "dates": "2015-03-31",
          "house_class": "Condo",
          "index": 1.9213790964910458
         },
         {
          "borough": "Queens",
          "ci₀": 2.0304851733477816,
          "ci₁": 1.9178262910534338,
          "dates": "2015-06-30",
          "house_class": "Condo",
          "index": 1.9725484598420002
         },
         {
          "borough": "Queens",
          "ci₀": 2.1899978903108557,
          "ci₁": 1.9818087949554866,
          "dates": "2015-09-30",
          "house_class": "Condo",
          "index": 2.0807086269266692
         },
         {
          "borough": "Queens",
          "ci₀": 2.117315574660755,
          "ci₁": 2.0109551747721284,
          "dates": "2015-12-31",
          "house_class": "Condo",
          "index": 2.0627652447817684
         },
         {
          "borough": "Queens",
          "ci₀": 2.2156872849404325,
          "ci₁": 2.0545089038991486,
          "dates": "2016-03-31",
          "house_class": "Condo",
          "index": 2.13205625870941
         },
         {
          "borough": "Queens",
          "ci₀": 2.2260975453153495,
          "ci₁": 2.067094610711045,
          "dates": "2016-06-30",
          "house_class": "Condo",
          "index": 2.143651656671924
         },
         {
          "borough": "Queens",
          "ci₀": 2.2855979658120433,
          "ci₁": 2.1429653540860443,
          "dates": "2016-09-30",
          "house_class": "Condo",
          "index": 2.211984745525762
         },
         {
          "borough": "Queens",
          "ci₀": 2.2050290420800454,
          "ci₁": 2.12170179986713,
          "dates": "2016-12-31",
          "house_class": "Condo",
          "index": 2.162563033495784
         },
         {
          "borough": "Queens",
          "ci₀": 2.3611927053732704,
          "ci₁": 2.1947210650206634,
          "dates": "2017-03-31",
          "house_class": "Condo",
          "index": 2.2749154747973916
         },
         {
          "borough": "Queens",
          "ci₀": 2.351741267928939,
          "ci₁": 2.094135254828828,
          "dates": "2017-06-30",
          "house_class": "Condo",
          "index": 2.215475069627421
         },
         {
          "borough": "Queens",
          "ci₀": 2.3402262667027927,
          "ci₁": 2.2297149639124947,
          "dates": "2017-09-30",
          "house_class": "Condo",
          "index": 2.283634411248542
         },
         {
          "borough": "Queens",
          "ci₀": 2.379844714238957,
          "ci₁": 2.2115170534420603,
          "dates": "2017-12-31",
          "house_class": "Condo",
          "index": 2.292595284967773
         },
         {
          "borough": "Queens",
          "ci₀": 2.421418763909488,
          "ci₁": 2.211235197040135,
          "dates": "2018-03-31",
          "house_class": "Condo",
          "index": 2.3115589649750237
         },
         {
          "borough": "Queens",
          "ci₀": 2.471899310397558,
          "ci₁": 2.2592386062457055,
          "dates": "2018-06-30",
          "house_class": "Condo",
          "index": 2.360789497662572
         },
         {
          "borough": "Queens",
          "ci₀": 2.5097285932457516,
          "ci₁": 2.2651641692306894,
          "dates": "2018-09-30",
          "house_class": "Condo",
          "index": 2.381183229323705
         },
         {
          "borough": "Queens",
          "ci₀": 2.4354162076837826,
          "ci₁": 2.292352366320699,
          "dates": "2018-12-31",
          "house_class": "Condo",
          "index": 2.361719707414092
         },
         {
          "borough": "Queens",
          "ci₀": 2.4197274775803224,
          "ci₁": 2.2547666955070698,
          "dates": "2019-03-31",
          "house_class": "Condo",
          "index": 2.3343363909032044
         },
         {
          "borough": "Queens",
          "ci₀": 2.4524095026431914,
          "ci₁": 2.2175947724976623,
          "dates": "2019-06-30",
          "house_class": "Condo",
          "index": 2.3290987214015355
         },
         {
          "borough": "Queens",
          "ci₀": 2.530966845547486,
          "ci₁": 2.320919997228756,
          "dates": "2019-09-30",
          "house_class": "Condo",
          "index": 2.42139676975358
         },
         {
          "borough": "Queens",
          "ci₀": 2.3824462950130214,
          "ci₁": 2.182044141356979,
          "dates": "2019-12-31",
          "house_class": "Condo",
          "index": 2.277845929398022
         },
         {
          "borough": "Queens",
          "ci₀": 2.478488881929762,
          "ci₁": 2.275116352102506,
          "dates": "2020-03-31",
          "house_class": "Condo",
          "index": 2.3724521941421197
         },
         {
          "borough": "Queens",
          "ci₀": 2.336589510973739,
          "ci₁": 2.269336136012216,
          "dates": "2020-06-30",
          "house_class": "Condo",
          "index": 2.3024718237688857
         },
         {
          "borough": "Queens",
          "ci₀": 3.2707876221535503,
          "ci₁": 2.361540186343114,
          "dates": "2020-09-30",
          "house_class": "Condo",
          "index": 2.742772321972112
         },
         {
          "borough": "Queens",
          "ci₀": 2.246000671081502,
          "ci₁": 2.098795035842109,
          "dates": "2020-12-31",
          "house_class": "Condo",
          "index": 2.16990412297274
         },
         {
          "borough": "Queens",
          "ci₀": 2.380171721363887,
          "ci₁": 2.2294242049739075,
          "dates": "2021-03-31",
          "house_class": "Condo",
          "index": 2.3023330167765352
         },
         {
          "borough": "Queens",
          "ci₀": 2.4472464472685425,
          "ci₁": 2.355851195481779,
          "dates": "2021-06-30",
          "house_class": "Condo",
          "index": 2.4006792687790592
         },
         {
          "borough": "Queens",
          "ci₀": 2.4621515940256793,
          "ci₁": 2.2534625028536404,
          "dates": "2021-09-30",
          "house_class": "Condo",
          "index": 2.353189289662173
         },
         {
          "borough": "Queens",
          "ci₀": 2.539267012609869,
          "ci₁": 2.275268078025899,
          "dates": "2021-12-31",
          "house_class": "Condo",
          "index": 2.4000295216926095
         },
         {
          "borough": "Brooklyn",
          "ci₀": 1,
          "ci₁": 1,
          "dates": "2003-03-31",
          "house_class": "Condo",
          "index": 1
         },
         {
          "borough": "Brooklyn",
          "ci₀": 0.9206057065656997,
          "ci₁": 0.7731960769091489,
          "dates": "2003-06-30",
          "house_class": "Condo",
          "index": 0.8404864461017305
         },
         {
          "borough": "Brooklyn",
          "ci₀": 0.9979742510711633,
          "ci₁": 0.916707047145497,
          "dates": "2003-09-30",
          "house_class": "Condo",
          "index": 0.9556159865130337
         },
         {
          "borough": "Brooklyn",
          "ci₀": 1.085230399424791,
          "ci₁": 0.9730663129304691,
          "dates": "2003-12-31",
          "house_class": "Condo",
          "index": 1.0260922413270384
         },
         {
          "borough": "Brooklyn",
          "ci₀": 1.124974737187712,
          "ci₁": 1.118815299718391,
          "dates": "2004-03-31",
          "house_class": "Condo",
          "index": 1.1218865643041973
         },
         {
          "borough": "Brooklyn",
          "ci₀": 1.1132963962601539,
          "ci₁": 1.0934632580329133,
          "dates": "2004-06-30",
          "house_class": "Condo",
          "index": 1.103290702494654
         },
         {
          "borough": "Brooklyn",
          "ci₀": 1.224225026024289,
          "ci₁": 1.118571965529803,
          "dates": "2004-09-30",
          "house_class": "Condo",
          "index": 1.1690161789924305
         },
         {
          "borough": "Brooklyn",
          "ci₀": 1.498635976145214,
          "ci₁": 1.3184880710417353,
          "dates": "2004-12-31",
          "house_class": "Condo",
          "index": 1.4028020238260561
         },
         {
          "borough": "Brooklyn",
          "ci₀": 1.249778821195371,
          "ci₁": 1.2032694333123508,
          "dates": "2005-03-31",
          "house_class": "Condo",
          "index": 1.2260832221152689
         },
         {
          "borough": "Brooklyn",
          "ci₀": 1.330373604506431,
          "ci₁": 1.2437267805223688,
          "dates": "2005-06-30",
          "house_class": "Condo",
          "index": 1.2855918826228763
         },
         {
          "borough": "Brooklyn",
          "ci₀": 1.4271340953684495,
          "ci₁": 1.423639022080982,
          "dates": "2005-09-30",
          "house_class": "Condo",
          "index": 1.4253844162291924
         },
         {
          "borough": "Brooklyn",
          "ci₀": 1.4952547568004146,
          "ci₁": 1.4361930116352561,
          "dates": "2005-12-31",
          "house_class": "Condo",
          "index": 1.4651289069203521
         },
         {
          "borough": "Brooklyn",
          "ci₀": 1.42884742507518,
          "ci₁": 1.3587559976224703,
          "dates": "2006-03-31",
          "house_class": "Condo",
          "index": 1.3929205228407402
         },
         {
          "borough": "Brooklyn",
          "ci₀": 1.5642319397324247,
          "ci₁": 1.5249517496943177,
          "dates": "2006-06-30",
          "house_class": "Condo",
          "index": 1.5443421131524557
         },
         {
          "borough": "Brooklyn",
          "ci₀": 1.5689283108413457,
          "ci₁": 1.5683305416028595,
          "dates": "2006-09-30",
          "house_class": "Condo",
          "index": 1.5686293692730142
         },
         {
          "borough": "Brooklyn",
          "ci₀": 1.5822269146971886,
          "ci₁": 1.5725206355593544,
          "dates": "2006-12-31",
          "house_class": "Condo",
          "index": 1.5773588433701513
         },
         {
          "borough": "Brooklyn",
          "ci₀": 1.505031706562625,
          "ci₁": 1.5036814638066631,
          "dates": "2007-03-31",
          "house_class": "Condo",
          "index": 1.5043562822053642
         },
         {
          "borough": "Brooklyn",
          "ci₀": 1.4912740468193344,
          "ci₁": 1.4752331988395775,
          "dates": "2007-06-30",
          "house_class": "Condo",
          "index": 1.4832102538465743
         },
         {
          "borough": "Brooklyn",
          "ci₀": 1.5625277207357724,
          "ci₁": 1.5175380598205026,
          "dates": "2007-09-30",
          "house_class": "Condo",
          "index": 1.5397043145701041
         },
         {
          "borough": "Brooklyn",
          "ci₀": 1.5592254901247629,
          "ci₁": 1.541887483250576,
          "dates": "2007-12-31",
          "house_class": "Condo",
          "index": 1.5505080191721434
         },
         {
          "borough": "Brooklyn",
          "ci₀": 1.5569212003853234,
          "ci₁": 1.5536748106500065,
          "dates": "2008-03-31",
          "house_class": "Condo",
          "index": 1.5552963114618834
         },
         {
          "borough": "Brooklyn",
          "ci₀": 1.6653627878408717,
          "ci₁": 1.6238646301343571,
          "dates": "2008-06-30",
          "house_class": "Condo",
          "index": 1.6443519306314534
         },
         {
          "borough": "Brooklyn",
          "ci₀": 1.636719949365216,
          "ci₁": 1.5816239967623547,
          "dates": "2008-09-30",
          "house_class": "Condo",
          "index": 1.608700369648484
         },
         {
          "borough": "Brooklyn",
          "ci₀": 1.5142408223230863,
          "ci₁": 1.4618450302288868,
          "dates": "2008-12-31",
          "house_class": "Condo",
          "index": 1.4875816964652229
         },
         {
          "borough": "Brooklyn",
          "ci₀": 1.5168520704362927,
          "ci₁": 1.4552665381388252,
          "dates": "2009-03-31",
          "house_class": "Condo",
          "index": 1.485421244659417
         },
         {
          "borough": "Brooklyn",
          "ci₀": 1.4739081914081738,
          "ci₁": 1.4339685446961035,
          "dates": "2009-06-30",
          "house_class": "Condo",
          "index": 1.453664082804817
         },
         {
          "borough": "Brooklyn",
          "ci₀": 1.3831278312420927,
          "ci₁": 1.3709462022202445,
          "dates": "2009-09-30",
          "house_class": "Condo",
          "index": 1.3770100762633701
         },
         {
          "borough": "Brooklyn",
          "ci₀": 1.4273542152742473,
          "ci₁": 1.41292869844658,
          "dates": "2009-12-31",
          "house_class": "Condo",
          "index": 1.4201048239717073
         },
         {
          "borough": "Brooklyn",
          "ci₀": 1.4462138929116188,
          "ci₁": 1.418850153283997,
          "dates": "2010-03-31",
          "house_class": "Condo",
          "index": 1.4324013498852137
         },
         {
          "borough": "Brooklyn",
          "ci₀": 1.442234243652,
          "ci₁": 1.4241823808933838,
          "dates": "2010-06-30",
          "house_class": "Condo",
          "index": 1.4331514695677157
         },
         {
          "borough": "Brooklyn",
          "ci₀": 1.4438477033290371,
          "ci₁": 1.4124723121921436,
          "dates": "2010-09-30",
          "house_class": "Condo",
          "index": 1.4279876854781353
         },
         {
          "borough": "Brooklyn",
          "ci₀": 1.3981571740088432,
          "ci₁": 1.3324308109703649,
          "dates": "2010-12-31",
          "house_class": "Condo",
          "index": 1.3645029623484715
         },
         {
          "borough": "Brooklyn",
          "ci₀": 1.3904823862560596,
          "ci₁": 1.3762265160226004,
          "dates": "2011-03-31",
          "house_class": "Condo",
          "index": 1.383317723416376
         },
         {
          "borough": "Brooklyn",
          "ci₀": 1.4032885095366752,
          "ci₁": 1.3806285149562274,
          "dates": "2011-06-30",
          "house_class": "Condo",
          "index": 1.391866290504591
         },
         {
          "borough": "Brooklyn",
          "ci₀": 1.4994091257955422,
          "ci₁": 1.474819491794569,
          "dates": "2011-09-30",
          "house_class": "Condo",
          "index": 1.4870126605732736
         },
         {
          "borough": "Brooklyn",
          "ci₀": 1.4733473045665384,
          "ci₁": 1.4569632883508568,
          "dates": "2011-12-31",
          "house_class": "Condo",
          "index": 1.4651094931250843
         },
         {
          "borough": "Brooklyn",
          "ci₀": 1.5475744782012668,
          "ci₁": 1.5308723640006312,
          "dates": "2012-03-31",
          "house_class": "Condo",
          "index": 1.5391781124383228
         },
         {
          "borough": "Brooklyn",
          "ci₀": 1.5380287136363258,
          "ci₁": 1.5095196353274616,
          "dates": "2012-06-30",
          "house_class": "Condo",
          "index": 1.5236408267129735
         },
         {
          "borough": "Brooklyn",
          "ci₀": 1.6889718703718017,
          "ci₁": 1.6383647390491531,
          "dates": "2012-09-30",
          "house_class": "Condo",
          "index": 1.6632834500892983
         },
         {
          "borough": "Brooklyn",
          "ci₀": 1.6631001760562274,
          "ci₁": 1.6616908446742638,
          "dates": "2012-12-31",
          "house_class": "Condo",
          "index": 1.6623952116675331
         },
         {
          "borough": "Brooklyn",
          "ci₀": 1.918054272944112,
          "ci₁": 1.843767495701393,
          "dates": "2013-03-31",
          "house_class": "Condo",
          "index": 1.8801773932627686
         },
         {
          "borough": "Brooklyn",
          "ci₀": 1.8884760546927377,
          "ci₁": 1.8743286397962582,
          "dates": "2013-06-30",
          "house_class": "Condo",
          "index": 1.8813757514782408
         },
         {
          "borough": "Brooklyn",
          "ci₀": 1.9394577896870604,
          "ci₁": 1.927717927975967,
          "dates": "2013-09-30",
          "house_class": "Condo",
          "index": 1.9335700390628947
         },
         {
          "borough": "Brooklyn",
          "ci₀": 1.9829575788558749,
          "ci₁": 1.9660911134336823,
          "dates": "2013-12-31",
          "house_class": "Condo",
          "index": 1.974488327640323
         },
         {
          "borough": "Brooklyn",
          "ci₀": 2.088071559003736,
          "ci₁": 2.012220519738342,
          "dates": "2014-03-31",
          "house_class": "Condo",
          "index": 2.0494444576242814
         },
         {
          "borough": "Brooklyn",
          "ci₀": 2.1373500656833064,
          "ci₁": 2.1073449981167824,
          "dates": "2014-06-30",
          "house_class": "Condo",
          "index": 2.122241481398637
         },
         {
          "borough": "Brooklyn",
          "ci₀": 2.1207114637819657,
          "ci₁": 2.095351724144782,
          "dates": "2014-09-30",
          "house_class": "Condo",
          "index": 2.107955324186831
         },
         {
          "borough": "Brooklyn",
          "ci₀": 2.208998611401069,
          "ci₁": 2.1235841802392694,
          "dates": "2014-12-31",
          "house_class": "Condo",
          "index": 2.1654494471025627
         },
         {
          "borough": "Brooklyn",
          "ci₀": 2.3263144683869648,
          "ci₁": 2.259369941705635,
          "dates": "2015-03-31",
          "house_class": "Condo",
          "index": 2.292353557196622
         },
         {
          "borough": "Brooklyn",
          "ci₀": 2.3253472482819886,
          "ci₁": 2.2875149163018342,
          "dates": "2015-06-30",
          "house_class": "Condo",
          "index": 2.306275941590543
         },
         {
          "borough": "Brooklyn",
          "ci₀": 2.4278589304667024,
          "ci₁": 2.423555834724659,
          "dates": "2015-09-30",
          "house_class": "Condo",
          "index": 2.425705474221128
         },
         {
          "borough": "Brooklyn",
          "ci₀": 2.259165894614668,
          "ci₁": 2.2583432774003542,
          "dates": "2015-12-31",
          "house_class": "Condo",
          "index": 2.2587545111101446
         },
         {
          "borough": "Brooklyn",
          "ci₀": 2.4446505178374007,
          "ci₁": 2.32587365434212,
          "dates": "2016-03-31",
          "house_class": "Condo",
          "index": 2.383783428525876
         },
         {
          "borough": "Brooklyn",
          "ci₀": 2.50011128177237,
          "ci₁": 2.444686162968892,
          "dates": "2016-06-30",
          "house_class": "Condo",
          "index": 2.472088098545418
         },
         {
          "borough": "Brooklyn",
          "ci₀": 2.470095900899113,
          "ci₁": 2.414858849027095,
          "dates": "2016-09-30",
          "house_class": "Condo",
          "index": 2.442165076072356
         },
         {
          "borough": "Brooklyn",
          "ci₀": 2.6025172372998577,
          "ci₁": 2.458767264007184,
          "dates": "2016-12-31",
          "house_class": "Condo",
          "index": 2.5286008662167925
         },
         {
          "borough": "Brooklyn",
          "ci₀": 2.434355601717152,
          "ci₁": 2.393365168677542,
          "dates": "2017-03-31",
          "house_class": "Condo",
          "index": 2.413686367717807
         },
         {
          "borough": "Brooklyn",
          "ci₀": 2.5310914068733883,
          "ci₁": 2.4544284500045754,
          "dates": "2017-06-30",
          "house_class": "Condo",
          "index": 2.492170500543337
         },
         {
          "borough": "Brooklyn",
          "ci₀": 2.4483827094544037,
          "ci₁": 2.404570412834629,
          "dates": "2017-09-30",
          "house_class": "Condo",
          "index": 2.426278793178627
         },
         {
          "borough": "Brooklyn",
          "ci₀": 2.509682344168336,
          "ci₁": 2.4436349092415233,
          "dates": "2017-12-31",
          "house_class": "Condo",
          "index": 2.4762182891051716
         },
         {
          "borough": "Brooklyn",
          "ci₀": 2.5630248516707934,
          "ci₁": 2.449994253436869,
          "dates": "2018-03-31",
          "house_class": "Condo",
          "index": 2.5052352789205927
         },
         {
          "borough": "Brooklyn",
          "ci₀": 2.657901242473571,
          "ci₁": 2.559389653078445,
          "dates": "2018-06-30",
          "house_class": "Condo",
          "index": 2.6077154121081265
         },
         {
          "borough": "Brooklyn",
          "ci₀": 2.5911702583895346,
          "ci₁": 2.5310015328895568,
          "dates": "2018-09-30",
          "house_class": "Condo",
          "index": 2.5607325030088597
         },
         {
          "borough": "Brooklyn",
          "ci₀": 2.5969739784574246,
          "ci₁": 2.5186813124063563,
          "dates": "2018-12-31",
          "house_class": "Condo",
          "index": 2.557228529462493
         },
         {
          "borough": "Brooklyn",
          "ci₀": 2.4919508350354236,
          "ci₁": 2.3721910351323836,
          "dates": "2019-03-31",
          "house_class": "Condo",
          "index": 2.4305966349857937
         },
         {
          "borough": "Brooklyn",
          "ci₀": 2.45978956677324,
          "ci₁": 2.405896730340518,
          "dates": "2019-06-30",
          "house_class": "Condo",
          "index": 2.432544687287347
         },
         {
          "borough": "Brooklyn",
          "ci₀": 2.66191529080389,
          "ci₁": 2.5935239309510245,
          "dates": "2019-09-30",
          "house_class": "Condo",
          "index": 2.627274607338727
         },
         {
          "borough": "Brooklyn",
          "ci₀": 2.6010997295073945,
          "ci₁": 2.5531452505179524,
          "dates": "2019-12-31",
          "house_class": "Condo",
          "index": 2.576899408643427
         },
         {
          "borough": "Brooklyn",
          "ci₀": 2.5763950131870055,
          "ci₁": 2.469886172261771,
          "dates": "2020-03-31",
          "house_class": "Condo",
          "index": 2.5220165835007298
         },
         {
          "borough": "Brooklyn",
          "ci₀": 2.5648882794532843,
          "ci₁": 2.4150389241672685,
          "dates": "2020-06-30",
          "house_class": "Condo",
          "index": 2.4877090679223803
         },
         {
          "borough": "Brooklyn",
          "ci₀": 3.9113097092330618,
          "ci₁": 2.5315685303334887,
          "dates": "2020-09-30",
          "house_class": "Condo",
          "index": 3.073703461125286
         },
         {
          "borough": "Brooklyn",
          "ci₀": 2.424936678499794,
          "ci₁": 2.306957717751886,
          "dates": "2020-12-31",
          "house_class": "Condo",
          "index": 2.364476430393768
         },
         {
          "borough": "Brooklyn",
          "ci₀": 2.5120017195231137,
          "ci₁": 2.3578919341429208,
          "dates": "2021-03-31",
          "house_class": "Condo",
          "index": 2.4325083930971956
         },
         {
          "borough": "Brooklyn",
          "ci₀": 2.6780404305012993,
          "ci₁": 2.5860849844513196,
          "dates": "2021-06-30",
          "house_class": "Condo",
          "index": 2.631259553733597
         },
         {
          "borough": "Brooklyn",
          "ci₀": 2.7544063113893094,
          "ci₁": 2.663808219512583,
          "dates": "2021-09-30",
          "house_class": "Condo",
          "index": 2.708349819044488
         },
         {
          "borough": "Brooklyn",
          "ci₀": 2.7137546631986575,
          "ci₁": 2.59465545104671,
          "dates": "2021-12-31",
          "house_class": "Condo",
          "index": 2.652869005270063
         }
        ]
       },
       "facet": {
        "column": {
         "field": "house_class"
        },
        "row": {
         "field": "borough"
        }
       },
       "spec": {
        "layer": [
         {
          "encoding": {
           "x": {
            "field": "dates",
            "type": "temporal"
           },
           "y": {
            "field": "ci₀",
            "scale": {
             "zero": false
            },
            "title": "NYC Price Index",
            "type": "quantitative"
           },
           "y2": {
            "field": "ci₁",
            "type": "quantitative"
           }
          },
          "height": 150,
          "mark": "errorband",
          "width": 300
         },
         {
          "encoding": {
           "x": {
            "field": "dates",
            "type": "temporal"
           },
           "y": {
            "field": "index",
            "scale": {
             "zero": false
            },
            "title": "NYC Price Index",
            "type": "quantitative"
           }
          },
          "mark": "line"
         }
        ]
       }
      },
      "image/png": "[encoded data removed]",
      "image/svg+xml": [
       "<?xml version=\"1.0\" encoding=\"utf-8\"?>\n",
       "<!DOCTYPE svg PUBLIC \"-//W3C//DTD SVG 1.1//EN\" \"http://www.w3.org/Graphics/SVG/1.1/DTD/svg11.dtd\">\n",
       "<svg xmlns=\"http://www.w3.org/2000/svg\" xmlns:xlink=\"http://www.w3.org/1999/xlink\" version=\"1.1\" class=\"marks\" width=\"721\" height=\"761\" viewBox=\"0 0 721 761\"><rect width=\"721\" height=\"761\" fill=\"white\"/><g fill=\"none\" stroke-miterlimit=\"10\" transform=\"translate(87,57)\"><g class=\"mark-group role-frame root\" role=\"graphics-object\" aria-roledescription=\"group mark container\"><g transform=\"translate(0,0)\"><path class=\"background\" aria-hidden=\"true\" d=\"M0,0h0v0h0Z\"/><g><g class=\"mark-group role-row-title row-title\" role=\"graphics-object\" aria-roledescription=\"group mark container\"><g transform=\"translate(-61,333)\"><path class=\"background\" aria-hidden=\"true\" d=\"M0,0h0v0h0Z\"/><g><g class=\"mark-group role-title\"><g transform=\"translate(-21.000000000000004,0)\"><path class=\"background\" aria-hidden=\"true\" d=\"M0,0h0v0h0Z\" pointer-events=\"none\"/><g><g class=\"mark-text role-title-text\" role=\"graphics-symbol\" aria-roledescription=\"title\" aria-label=\"Title text 'borough'\" pointer-events=\"none\"><text text-anchor=\"middle\" transform=\"translate(0,0) rotate(-90) translate(0,9)\" font-family=\"sans-serif\" font-size=\"11px\" font-weight=\"bold\" fill=\"#000\" opacity=\"1\">borough</text></g></g><path class=\"foreground\" aria-hidden=\"true\" d=\"\" pointer-events=\"none\" display=\"none\"/></g></g></g><path class=\"foreground\" aria-hidden=\"true\" d=\"\" display=\"none\"/></g></g><g class=\"mark-group role-column-title column-title\" role=\"graphics-object\" aria-roledescription=\"group mark container\"><g transform=\"translate(313,-31)\"><path class=\"background\" aria-hidden=\"true\" d=\"M0,0h0v0h0Z\"/><g><g class=\"mark-group role-title\"><g transform=\"translate(0,-21)\"><path class=\"background\" aria-hidden=\"true\" d=\"M0,0h0v0h0Z\" pointer-events=\"none\"/><g><g class=\"mark-text role-title-text\" role=\"graphics-symbol\" aria-roledescription=\"title\" aria-label=\"Title text 'house_class'\" pointer-events=\"none\"><text text-anchor=\"middle\" transform=\"translate(0,9)\" font-family=\"sans-serif\" font-size=\"11px\" font-weight=\"bold\" fill=\"#000\" opacity=\"1\">house_class</text></g></g><path class=\"foreground\" aria-hidden=\"true\" d=\"\" pointer-events=\"none\" display=\"none\"/></g></g></g><path class=\"foreground\" aria-hidden=\"true\" d=\"\" display=\"none\"/></g></g><g class=\"mark-group role-row-header row_header\" role=\"graphics-object\" aria-roledescription=\"group mark container\"><g transform=\"translate(-3,0)\"><path class=\"background\" aria-hidden=\"true\" d=\"M0,0h0v150h0Z\"/><g><g class=\"mark-group role-axis\" role=\"graphics-symbol\" aria-roledescription=\"axis\" aria-label=\"Y-axis titled 'NYC Price Index' for a linear scale with values from 1 to 6\"><g transform=\"translate(0.5,0.5)\"><path class=\"background\" aria-hidden=\"true\" d=\"M0,0h0v0h0Z\" pointer-events=\"none\"/><g><g class=\"mark-rule role-axis-tick\" pointer-events=\"none\"><line transform=\"translate(0,135)\" x2=\"-5\" y2=\"0\" stroke=\"#888\" stroke-width=\"1\" opacity=\"1\"/><line transform=\"translate(0,105)\" x2=\"-5\" y2=\"0\" stroke=\"#888\" stroke-width=\"1\" opacity=\"1\"/><line transform=\"translate(0,75)\" x2=\"-5\" y2=\"0\" stroke=\"#888\" stroke-width=\"1\" opacity=\"1\"/><line transform=\"translate(0,45)\" x2=\"-5\" y2=\"0\" stroke=\"#888\" stroke-width=\"1\" opacity=\"1\"/><line transform=\"translate(0,15)\" x2=\"-5\" y2=\"0\" stroke=\"#888\" stroke-width=\"1\" opacity=\"1\"/></g><g class=\"mark-text role-axis-label\" pointer-events=\"none\"><text text-anchor=\"end\" transform=\"translate(-7,138)\" font-family=\"sans-serif\" font-size=\"10px\" fill=\"#000\" opacity=\"1\">1</text><text text-anchor=\"end\" transform=\"translate(-7,108)\" font-family=\"sans-serif\" font-size=\"10px\" fill=\"#000\" opacity=\"1\">2</text><text text-anchor=\"end\" transform=\"translate(-7,78)\" font-family=\"sans-serif\" font-size=\"10px\" fill=\"#000\" opacity=\"1\">3</text><text text-anchor=\"end\" transform=\"translate(-7,48.00000000000001)\" font-family=\"sans-serif\" font-size=\"10px\" fill=\"#000\" opacity=\"1\">4</text><text text-anchor=\"end\" transform=\"translate(-7,17.999999999999996)\" font-family=\"sans-serif\" font-size=\"10px\" fill=\"#000\" opacity=\"1\">5</text></g><g class=\"mark-rule role-axis-domain\" pointer-events=\"none\"><line transform=\"translate(0,150)\" x2=\"0\" y2=\"-150\" stroke=\"#888\" stroke-width=\"1\" opacity=\"1\"/></g><g class=\"mark-text role-axis-title\" pointer-events=\"none\"><text text-anchor=\"middle\" transform=\"translate(-17,75) rotate(-90) translate(0,-2)\" font-family=\"sans-serif\" font-size=\"11px\" font-weight=\"bold\" fill=\"#000\" opacity=\"1\">NYC Price Index</text></g></g><path class=\"foreground\" aria-hidden=\"true\" d=\"\" pointer-events=\"none\" display=\"none\"/></g></g><g class=\"mark-group role-title\"><g transform=\"translate(-48,75)\"><path class=\"background\" aria-hidden=\"true\" d=\"M0,0h0v0h0Z\" pointer-events=\"none\"/><g><g class=\"mark-text role-title-text\" role=\"graphics-symbol\" aria-roledescription=\"title\" aria-label=\"Title text 'Brooklyn'\" pointer-events=\"none\"><text text-anchor=\"middle\" transform=\"translate(0,0) rotate(-90) translate(0,8)\" font-family=\"sans-serif\" font-size=\"10px\" fill=\"#000\" opacity=\"1\">Brooklyn</text></g></g><path class=\"foreground\" aria-hidden=\"true\" d=\"\" pointer-events=\"none\" display=\"none\"/></g></g></g><path class=\"foreground\" aria-hidden=\"true\" d=\"\" display=\"none\"/></g><g transform=\"translate(-3,172)\"><path class=\"background\" aria-hidden=\"true\" d=\"M0,0h0v150h0Z\"/><g><g class=\"mark-group role-axis\" role=\"graphics-symbol\" aria-roledescription=\"axis\" aria-label=\"Y-axis titled 'NYC Price Index' for a linear scale with values from 1 to 6\"><g transform=\"translate(0.5,0.5)\"><path class=\"background\" aria-hidden=\"true\" d=\"M0,0h0v0h0Z\" pointer-events=\"none\"/><g><g class=\"mark-rule role-axis-tick\" pointer-events=\"none\"><line transform=\"translate(0,135)\" x2=\"-5\" y2=\"0\" stroke=\"#888\" stroke-width=\"1\" opacity=\"1\"/><line transform=\"translate(0,105)\" x2=\"-5\" y2=\"0\" stroke=\"#888\" stroke-width=\"1\" opacity=\"1\"/><line transform=\"translate(0,75)\" x2=\"-5\" y2=\"0\" stroke=\"#888\" stroke-width=\"1\" opacity=\"1\"/><line transform=\"translate(0,45)\" x2=\"-5\" y2=\"0\" stroke=\"#888\" stroke-width=\"1\" opacity=\"1\"/><line transform=\"translate(0,15)\" x2=\"-5\" y2=\"0\" stroke=\"#888\" stroke-width=\"1\" opacity=\"1\"/></g><g class=\"mark-text role-axis-label\" pointer-events=\"none\"><text text-anchor=\"end\" transform=\"translate(-7,138)\" font-family=\"sans-serif\" font-size=\"10px\" fill=\"#000\" opacity=\"1\">1</text><text text-anchor=\"end\" transform=\"translate(-7,108)\" font-family=\"sans-serif\" font-size=\"10px\" fill=\"#000\" opacity=\"1\">2</text><text text-anchor=\"end\" transform=\"translate(-7,78)\" font-family=\"sans-serif\" font-size=\"10px\" fill=\"#000\" opacity=\"1\">3</text><text text-anchor=\"end\" transform=\"translate(-7,48.00000000000001)\" font-family=\"sans-serif\" font-size=\"10px\" fill=\"#000\" opacity=\"1\">4</text><text text-anchor=\"end\" transform=\"translate(-7,17.999999999999996)\" font-family=\"sans-serif\" font-size=\"10px\" fill=\"#000\" opacity=\"1\">5</text></g><g class=\"mark-rule role-axis-domain\" pointer-events=\"none\"><line transform=\"translate(0,150)\" x2=\"0\" y2=\"-150\" stroke=\"#888\" stroke-width=\"1\" opacity=\"1\"/></g><g class=\"mark-text role-axis-title\" pointer-events=\"none\"><text text-anchor=\"middle\" transform=\"translate(-17,75) rotate(-90) translate(0,-2)\" font-family=\"sans-serif\" font-size=\"11px\" font-weight=\"bold\" fill=\"#000\" opacity=\"1\">NYC Price Index</text></g></g><path class=\"foreground\" aria-hidden=\"true\" d=\"\" pointer-events=\"none\" display=\"none\"/></g></g><g class=\"mark-group role-title\"><g transform=\"translate(-48,75)\"><path class=\"background\" aria-hidden=\"true\" d=\"M0,0h0v0h0Z\" pointer-events=\"none\"/><g><g class=\"mark-text role-title-text\" role=\"graphics-symbol\" aria-roledescription=\"title\" aria-label=\"Title text 'Manhattan'\" pointer-events=\"none\"><text text-anchor=\"middle\" transform=\"translate(0,0) rotate(-90) translate(0,8)\" font-family=\"sans-serif\" font-size=\"10px\" fill=\"#000\" opacity=\"1\">Manhattan</text></g></g><path class=\"foreground\" aria-hidden=\"true\" d=\"\" pointer-events=\"none\" display=\"none\"/></g></g></g><path class=\"foreground\" aria-hidden=\"true\" d=\"\" display=\"none\"/></g><g transform=\"translate(-3,344)\"><path class=\"background\" aria-hidden=\"true\" d=\"M0,0h0v150h0Z\"/><g><g class=\"mark-group role-axis\" role=\"graphics-symbol\" aria-roledescription=\"axis\" aria-label=\"Y-axis titled 'NYC Price Index' for a linear scale with values from 1 to 6\"><g transform=\"translate(0.5,0.5)\"><path class=\"background\" aria-hidden=\"true\" d=\"M0,0h0v0h0Z\" pointer-events=\"none\"/><g><g class=\"mark-rule role-axis-tick\" pointer-events=\"none\"><line transform=\"translate(0,135)\" x2=\"-5\" y2=\"0\" stroke=\"#888\" stroke-width=\"1\" opacity=\"1\"/><line transform=\"translate(0,105)\" x2=\"-5\" y2=\"0\" stroke=\"#888\" stroke-width=\"1\" opacity=\"1\"/><line transform=\"translate(0,75)\" x2=\"-5\" y2=\"0\" stroke=\"#888\" stroke-width=\"1\" opacity=\"1\"/><line transform=\"translate(0,45)\" x2=\"-5\" y2=\"0\" stroke=\"#888\" stroke-width=\"1\" opacity=\"1\"/><line transform=\"translate(0,15)\" x2=\"-5\" y2=\"0\" stroke=\"#888\" stroke-width=\"1\" opacity=\"1\"/></g><g class=\"mark-text role-axis-label\" pointer-events=\"none\"><text text-anchor=\"end\" transform=\"translate(-7,138)\" font-family=\"sans-serif\" font-size=\"10px\" fill=\"#000\" opacity=\"1\">1</text><text text-anchor=\"end\" transform=\"translate(-7,108)\" font-family=\"sans-serif\" font-size=\"10px\" fill=\"#000\" opacity=\"1\">2</text><text text-anchor=\"end\" transform=\"translate(-7,78)\" font-family=\"sans-serif\" font-size=\"10px\" fill=\"#000\" opacity=\"1\">3</text><text text-anchor=\"end\" transform=\"translate(-7,48.00000000000001)\" font-family=\"sans-serif\" font-size=\"10px\" fill=\"#000\" opacity=\"1\">4</text><text text-anchor=\"end\" transform=\"translate(-7,17.999999999999996)\" font-family=\"sans-serif\" font-size=\"10px\" fill=\"#000\" opacity=\"1\">5</text></g><g class=\"mark-rule role-axis-domain\" pointer-events=\"none\"><line transform=\"translate(0,150)\" x2=\"0\" y2=\"-150\" stroke=\"#888\" stroke-width=\"1\" opacity=\"1\"/></g><g class=\"mark-text role-axis-title\" pointer-events=\"none\"><text text-anchor=\"middle\" transform=\"translate(-17,75) rotate(-90) translate(0,-2)\" font-family=\"sans-serif\" font-size=\"11px\" font-weight=\"bold\" fill=\"#000\" opacity=\"1\">NYC Price Index</text></g></g><path class=\"foreground\" aria-hidden=\"true\" d=\"\" pointer-events=\"none\" display=\"none\"/></g></g><g class=\"mark-group role-title\"><g transform=\"translate(-48,75)\"><path class=\"background\" aria-hidden=\"true\" d=\"M0,0h0v0h0Z\" pointer-events=\"none\"/><g><g class=\"mark-text role-title-text\" role=\"graphics-symbol\" aria-roledescription=\"title\" aria-label=\"Title text 'Queens'\" pointer-events=\"none\"><text text-anchor=\"middle\" transform=\"translate(0,0) rotate(-90) translate(0,8)\" font-family=\"sans-serif\" font-size=\"10px\" fill=\"#000\" opacity=\"1\">Queens</text></g></g><path class=\"foreground\" aria-hidden=\"true\" d=\"\" pointer-events=\"none\" display=\"none\"/></g></g></g><path class=\"foreground\" aria-hidden=\"true\" d=\"\" display=\"none\"/></g><g transform=\"translate(-3,516)\"><path class=\"background\" aria-hidden=\"true\" d=\"M0,0h0v150h0Z\"/><g><g class=\"mark-group role-axis\" role=\"graphics-symbol\" aria-roledescription=\"axis\" aria-label=\"Y-axis titled 'NYC Price Index' for a linear scale with values from 1 to 6\"><g transform=\"translate(0.5,0.5)\"><path class=\"background\" aria-hidden=\"true\" d=\"M0,0h0v0h0Z\" pointer-events=\"none\"/><g><g class=\"mark-rule role-axis-tick\" pointer-events=\"none\"><line transform=\"translate(0,135)\" x2=\"-5\" y2=\"0\" stroke=\"#888\" stroke-width=\"1\" opacity=\"1\"/><line transform=\"translate(0,105)\" x2=\"-5\" y2=\"0\" stroke=\"#888\" stroke-width=\"1\" opacity=\"1\"/><line transform=\"translate(0,75)\" x2=\"-5\" y2=\"0\" stroke=\"#888\" stroke-width=\"1\" opacity=\"1\"/><line transform=\"translate(0,45)\" x2=\"-5\" y2=\"0\" stroke=\"#888\" stroke-width=\"1\" opacity=\"1\"/><line transform=\"translate(0,15)\" x2=\"-5\" y2=\"0\" stroke=\"#888\" stroke-width=\"1\" opacity=\"1\"/></g><g class=\"mark-text role-axis-label\" pointer-events=\"none\"><text text-anchor=\"end\" transform=\"translate(-7,138)\" font-family=\"sans-serif\" font-size=\"10px\" fill=\"#000\" opacity=\"1\">1</text><text text-anchor=\"end\" transform=\"translate(-7,108)\" font-family=\"sans-serif\" font-size=\"10px\" fill=\"#000\" opacity=\"1\">2</text><text text-anchor=\"end\" transform=\"translate(-7,78)\" font-family=\"sans-serif\" font-size=\"10px\" fill=\"#000\" opacity=\"1\">3</text><text text-anchor=\"end\" transform=\"translate(-7,48.00000000000001)\" font-family=\"sans-serif\" font-size=\"10px\" fill=\"#000\" opacity=\"1\">4</text><text text-anchor=\"end\" transform=\"translate(-7,17.999999999999996)\" font-family=\"sans-serif\" font-size=\"10px\" fill=\"#000\" opacity=\"1\">5</text></g><g class=\"mark-rule role-axis-domain\" pointer-events=\"none\"><line transform=\"translate(0,150)\" x2=\"0\" y2=\"-150\" stroke=\"#888\" stroke-width=\"1\" opacity=\"1\"/></g><g class=\"mark-text role-axis-title\" pointer-events=\"none\"><text text-anchor=\"middle\" transform=\"translate(-17,75) rotate(-90) translate(0,-2)\" font-family=\"sans-serif\" font-size=\"11px\" font-weight=\"bold\" fill=\"#000\" opacity=\"1\">NYC Price Index</text></g></g><path class=\"foreground\" aria-hidden=\"true\" d=\"\" pointer-events=\"none\" display=\"none\"/></g></g><g class=\"mark-group role-title\"><g transform=\"translate(-48,75)\"><path class=\"background\" aria-hidden=\"true\" d=\"M0,0h0v0h0Z\" pointer-events=\"none\"/><g><g class=\"mark-text role-title-text\" role=\"graphics-symbol\" aria-roledescription=\"title\" aria-label=\"Title text 'Staten Island'\" pointer-events=\"none\"><text text-anchor=\"middle\" transform=\"translate(0,0) rotate(-90) translate(0,8)\" font-family=\"sans-serif\" font-size=\"10px\" fill=\"#000\" opacity=\"1\">Staten Island</text></g></g><path class=\"foreground\" aria-hidden=\"true\" d=\"\" pointer-events=\"none\" display=\"none\"/></g></g></g><path class=\"foreground\" aria-hidden=\"true\" d=\"\" display=\"none\"/></g></g><g class=\"mark-group role-column-header column_header\" role=\"graphics-object\" aria-roledescription=\"group mark container\"><g transform=\"translate(0,-1)\"><path class=\"background\" aria-hidden=\"true\" d=\"M0,0h300v0h-300Z\"/><g><g class=\"mark-group role-title\"><g transform=\"translate(150,-20)\"><path class=\"background\" aria-hidden=\"true\" d=\"M0,0h0v0h0Z\" pointer-events=\"none\"/><g><g class=\"mark-text role-title-text\" role=\"graphics-symbol\" aria-roledescription=\"title\" aria-label=\"Title text 'Condo'\" pointer-events=\"none\"><text text-anchor=\"middle\" transform=\"translate(0,8)\" font-family=\"sans-serif\" font-size=\"10px\" fill=\"#000\" opacity=\"1\">Condo</text></g></g><path class=\"foreground\" aria-hidden=\"true\" d=\"\" pointer-events=\"none\" display=\"none\"/></g></g></g><path class=\"foreground\" aria-hidden=\"true\" d=\"\" display=\"none\"/></g><g transform=\"translate(326,-1)\"><path class=\"background\" aria-hidden=\"true\" d=\"M0,0h300v0h-300Z\"/><g><g class=\"mark-group role-title\"><g transform=\"translate(150,-20)\"><path class=\"background\" aria-hidden=\"true\" d=\"M0,0h0v0h0Z\" pointer-events=\"none\"/><g><g class=\"mark-text role-title-text\" role=\"graphics-symbol\" aria-roledescription=\"title\" aria-label=\"Title text 'SFH'\" pointer-events=\"none\"><text text-anchor=\"middle\" transform=\"translate(0,8)\" font-family=\"sans-serif\" font-size=\"10px\" fill=\"#000\" opacity=\"1\">SFH</text></g></g><path class=\"foreground\" aria-hidden=\"true\" d=\"\" pointer-events=\"none\" display=\"none\"/></g></g></g><path class=\"foreground\" aria-hidden=\"true\" d=\"\" display=\"none\"/></g></g><g class=\"mark-group role-column-footer column_footer\" role=\"graphics-object\" aria-roledescription=\"group mark container\"><g transform=\"translate(0,667)\"><path class=\"background\" aria-hidden=\"true\" d=\"M0,0h300v0h-300Z\"/><g><g class=\"mark-group role-axis\" role=\"graphics-symbol\" aria-roledescription=\"axis\" aria-label=\"X-axis titled 'dates' for a time scale with values from Sunday, 30 March 2003, 7:00:00 PM to Thursday, 30 December 2021, 7:00:00 PM\"><g transform=\"translate(0.5,0.5)\"><path class=\"background\" aria-hidden=\"true\" d=\"M0,0h0v0h0Z\" pointer-events=\"none\"/><g><g class=\"mark-rule role-axis-tick\" pointer-events=\"none\"><line transform=\"translate(12,0)\" x2=\"0\" y2=\"5\" stroke=\"#888\" stroke-width=\"1\" opacity=\"1\"/><line transform=\"translate(44,0)\" x2=\"0\" y2=\"5\" stroke=\"#888\" stroke-width=\"1\" opacity=\"1\"/><line transform=\"translate(76,0)\" x2=\"0\" y2=\"5\" stroke=\"#888\" stroke-width=\"1\" opacity=\"1\"/><line transform=\"translate(108,0)\" x2=\"0\" y2=\"5\" stroke=\"#888\" stroke-width=\"1\" opacity=\"1\"/><line transform=\"translate(140,0)\" x2=\"0\" y2=\"5\" stroke=\"#888\" stroke-width=\"1\" opacity=\"1\"/><line transform=\"translate(172,0)\" x2=\"0\" y2=\"5\" stroke=\"#888\" stroke-width=\"1\" opacity=\"1\"/><line transform=\"translate(204,0)\" x2=\"0\" y2=\"5\" stroke=\"#888\" stroke-width=\"1\" opacity=\"1\"/><line transform=\"translate(236,0)\" x2=\"0\" y2=\"5\" stroke=\"#888\" stroke-width=\"1\" opacity=\"1\"/><line transform=\"translate(268,0)\" x2=\"0\" y2=\"5\" stroke=\"#888\" stroke-width=\"1\" opacity=\"1\"/></g><g class=\"mark-text role-axis-label\" pointer-events=\"none\"><text text-anchor=\"middle\" transform=\"translate(12.096715328467152,15)\" font-family=\"sans-serif\" font-size=\"10px\" fill=\"#000\" opacity=\"1\">2004</text><text text-anchor=\"middle\" transform=\"translate(44.11131386861314,15)\" font-family=\"sans-serif\" font-size=\"10px\" fill=\"#000\" opacity=\"1\">2006</text><text text-anchor=\"middle\" transform=\"translate(76.08211678832117,15)\" font-family=\"sans-serif\" font-size=\"10px\" fill=\"#000\" opacity=\"1\">2008</text><text text-anchor=\"middle\" transform=\"translate(108.09671532846716,15)\" font-family=\"sans-serif\" font-size=\"10px\" fill=\"#000\" opacity=\"1\">2010</text><text text-anchor=\"middle\" transform=\"translate(140.0675182481752,15)\" font-family=\"sans-serif\" font-size=\"10px\" fill=\"#000\" opacity=\"1\">2012</text><text text-anchor=\"middle\" transform=\"translate(172.08211678832117,15)\" font-family=\"sans-serif\" font-size=\"10px\" fill=\"#000\" opacity=\"1\">2014</text><text text-anchor=\"middle\" transform=\"translate(204.05291970802918,15)\" font-family=\"sans-serif\" font-size=\"10px\" fill=\"#000\" opacity=\"1\">2016</text><text text-anchor=\"middle\" transform=\"translate(236.06751824817516,15)\" font-family=\"sans-serif\" font-size=\"10px\" fill=\"#000\" opacity=\"1\">2018</text><text text-anchor=\"middle\" transform=\"translate(268.0383211678832,15)\" font-family=\"sans-serif\" font-size=\"10px\" fill=\"#000\" opacity=\"1\">2020</text></g><g class=\"mark-rule role-axis-domain\" pointer-events=\"none\"><line transform=\"translate(0,0)\" x2=\"300\" y2=\"0\" stroke=\"#888\" stroke-width=\"1\" opacity=\"1\"/></g><g class=\"mark-text role-axis-title\" pointer-events=\"none\"><text text-anchor=\"middle\" transform=\"translate(150,30)\" font-family=\"sans-serif\" font-size=\"11px\" font-weight=\"bold\" fill=\"#000\" opacity=\"1\">dates</text></g></g><path class=\"foreground\" aria-hidden=\"true\" d=\"\" pointer-events=\"none\" display=\"none\"/></g></g></g><path class=\"foreground\" aria-hidden=\"true\" d=\"\" display=\"none\"/></g><g transform=\"translate(326,667)\"><path class=\"background\" aria-hidden=\"true\" d=\"M0,0h300v0h-300Z\"/><g><g class=\"mark-group role-axis\" role=\"graphics-symbol\" aria-roledescription=\"axis\" aria-label=\"X-axis titled 'dates' for a time scale with values from Sunday, 30 March 2003, 7:00:00 PM to Thursday, 30 December 2021, 7:00:00 PM\"><g transform=\"translate(0.5,0.5)\"><path class=\"background\" aria-hidden=\"true\" d=\"M0,0h0v0h0Z\" pointer-events=\"none\"/><g><g class=\"mark-rule role-axis-tick\" pointer-events=\"none\"><line transform=\"translate(12,0)\" x2=\"0\" y2=\"5\" stroke=\"#888\" stroke-width=\"1\" opacity=\"1\"/><line transform=\"translate(44,0)\" x2=\"0\" y2=\"5\" stroke=\"#888\" stroke-width=\"1\" opacity=\"1\"/><line transform=\"translate(76,0)\" x2=\"0\" y2=\"5\" stroke=\"#888\" stroke-width=\"1\" opacity=\"1\"/><line transform=\"translate(108,0)\" x2=\"0\" y2=\"5\" stroke=\"#888\" stroke-width=\"1\" opacity=\"1\"/><line transform=\"translate(140,0)\" x2=\"0\" y2=\"5\" stroke=\"#888\" stroke-width=\"1\" opacity=\"1\"/><line transform=\"translate(172,0)\" x2=\"0\" y2=\"5\" stroke=\"#888\" stroke-width=\"1\" opacity=\"1\"/><line transform=\"translate(204,0)\" x2=\"0\" y2=\"5\" stroke=\"#888\" stroke-width=\"1\" opacity=\"1\"/><line transform=\"translate(236,0)\" x2=\"0\" y2=\"5\" stroke=\"#888\" stroke-width=\"1\" opacity=\"1\"/><line transform=\"translate(268,0)\" x2=\"0\" y2=\"5\" stroke=\"#888\" stroke-width=\"1\" opacity=\"1\"/></g><g class=\"mark-text role-axis-label\" pointer-events=\"none\"><text text-anchor=\"middle\" transform=\"translate(12.096715328467152,15)\" font-family=\"sans-serif\" font-size=\"10px\" fill=\"#000\" opacity=\"1\">2004</text><text text-anchor=\"middle\" transform=\"translate(44.11131386861314,15)\" font-family=\"sans-serif\" font-size=\"10px\" fill=\"#000\" opacity=\"1\">2006</text><text text-anchor=\"middle\" transform=\"translate(76.08211678832117,15)\" font-family=\"sans-serif\" font-size=\"10px\" fill=\"#000\" opacity=\"1\">2008</text><text text-anchor=\"middle\" transform=\"translate(108.09671532846716,15)\" font-family=\"sans-serif\" font-size=\"10px\" fill=\"#000\" opacity=\"1\">2010</text><text text-anchor=\"middle\" transform=\"translate(140.0675182481752,15)\" font-family=\"sans-serif\" font-size=\"10px\" fill=\"#000\" opacity=\"1\">2012</text><text text-anchor=\"middle\" transform=\"translate(172.08211678832117,15)\" font-family=\"sans-serif\" font-size=\"10px\" fill=\"#000\" opacity=\"1\">2014</text><text text-anchor=\"middle\" transform=\"translate(204.05291970802918,15)\" font-family=\"sans-serif\" font-size=\"10px\" fill=\"#000\" opacity=\"1\">2016</text><text text-anchor=\"middle\" transform=\"translate(236.06751824817516,15)\" font-family=\"sans-serif\" font-size=\"10px\" fill=\"#000\" opacity=\"1\">2018</text><text text-anchor=\"middle\" transform=\"translate(268.0383211678832,15)\" font-family=\"sans-serif\" font-size=\"10px\" fill=\"#000\" opacity=\"1\">2020</text></g><g class=\"mark-rule role-axis-domain\" pointer-events=\"none\"><line transform=\"translate(0,0)\" x2=\"300\" y2=\"0\" stroke=\"#888\" stroke-width=\"1\" opacity=\"1\"/></g><g class=\"mark-text role-axis-title\" pointer-events=\"none\"><text text-anchor=\"middle\" transform=\"translate(150,30)\" font-family=\"sans-serif\" font-size=\"11px\" font-weight=\"bold\" fill=\"#000\" opacity=\"1\">dates</text></g></g><path class=\"foreground\" aria-hidden=\"true\" d=\"\" pointer-events=\"none\" display=\"none\"/></g></g></g><path class=\"foreground\" aria-hidden=\"true\" d=\"\" display=\"none\"/></g></g><g class=\"mark-group role-scope cell\" role=\"graphics-object\" aria-roledescription=\"group mark container\"><g transform=\"translate(0,0)\"><path class=\"background\" aria-hidden=\"true\" d=\"M0.5,0.5h300v150h-300Z\" stroke=\"#ddd\"/><g><g class=\"mark-group role-axis\" aria-hidden=\"true\"><g transform=\"translate(0.5,150.5)\"><path class=\"background\" aria-hidden=\"true\" d=\"M0,0h0v0h0Z\" pointer-events=\"none\"/><g><g class=\"mark-rule role-axis-grid\" pointer-events=\"none\"><line transform=\"translate(12,-150)\" x2=\"0\" y2=\"150\" stroke=\"#ddd\" stroke-width=\"1\" opacity=\"1\"/><line transform=\"translate(44,-150)\" x2=\"0\" y2=\"150\" stroke=\"#ddd\" stroke-width=\"1\" opacity=\"1\"/><line transform=\"translate(76,-150)\" x2=\"0\" y2=\"150\" stroke=\"#ddd\" stroke-width=\"1\" opacity=\"1\"/><line transform=\"translate(108,-150)\" x2=\"0\" y2=\"150\" stroke=\"#ddd\" stroke-width=\"1\" opacity=\"1\"/><line transform=\"translate(140,-150)\" x2=\"0\" y2=\"150\" stroke=\"#ddd\" stroke-width=\"1\" opacity=\"1\"/><line transform=\"translate(172,-150)\" x2=\"0\" y2=\"150\" stroke=\"#ddd\" stroke-width=\"1\" opacity=\"1\"/><line transform=\"translate(204,-150)\" x2=\"0\" y2=\"150\" stroke=\"#ddd\" stroke-width=\"1\" opacity=\"1\"/><line transform=\"translate(236,-150)\" x2=\"0\" y2=\"150\" stroke=\"#ddd\" stroke-width=\"1\" opacity=\"1\"/><line transform=\"translate(268,-150)\" x2=\"0\" y2=\"150\" stroke=\"#ddd\" stroke-width=\"1\" opacity=\"1\"/></g></g><path class=\"foreground\" aria-hidden=\"true\" d=\"\" pointer-events=\"none\" display=\"none\"/></g></g><g class=\"mark-group role-axis\" aria-hidden=\"true\"><g transform=\"translate(0.5,0.5)\"><path class=\"background\" aria-hidden=\"true\" d=\"M0,0h0v0h0Z\" pointer-events=\"none\"/><g><g class=\"mark-rule role-axis-grid\" pointer-events=\"none\"><line transform=\"translate(0,135)\" x2=\"300\" y2=\"0\" stroke=\"#ddd\" stroke-width=\"1\" opacity=\"1\"/><line transform=\"translate(0,105)\" x2=\"300\" y2=\"0\" stroke=\"#ddd\" stroke-width=\"1\" opacity=\"1\"/><line transform=\"translate(0,75)\" x2=\"300\" y2=\"0\" stroke=\"#ddd\" stroke-width=\"1\" opacity=\"1\"/><line transform=\"translate(0,45)\" x2=\"300\" y2=\"0\" stroke=\"#ddd\" stroke-width=\"1\" opacity=\"1\"/><line transform=\"translate(0,15)\" x2=\"300\" y2=\"0\" stroke=\"#ddd\" stroke-width=\"1\" opacity=\"1\"/></g></g><path class=\"foreground\" aria-hidden=\"true\" d=\"\" pointer-events=\"none\" display=\"none\"/></g></g><g class=\"mark-area role-mark child_layer_0_layer_0_marks\" role=\"graphics-object\" aria-roledescription=\"area mark container\"><path aria-label=\"NYC Price Index: 1; upper_ci₀: 1; dates: Mar 30, 2003; ci₁: 1; ci₀: 1\" role=\"graphics-symbol\" aria-roledescription=\"errorband\" d=\"M0,135L3.985401459854015,137.381828803029L8.014598540145986,135.0607724678651L12.043795620437956,132.44308801725626L16.029197080291972,131.25075788436865L20.014598540145982,131.6011081121954L24.043795620437955,128.27324921927132L28.07299270072993,120.04092071564358L32.01459854014598,127.50663536413887L36,125.08879186480708L40.029197080291965,122.18597713894653L44.058394160583944,120.14235729598757L48,122.1345772477446L51.98540145985401,118.07304180802726L56.01459854014598,117.93215067475964L60.04379562043796,117.53319255908434L63.98540145985402,119.84904880312125L67.97080291970804,120.26177859541997L72,118.12416837792682L76.02919708029196,118.22323529625712L80.01459854014598,118.2923639884403L84.00000000000001,115.03911636477385L88.02919708029198,115.89840151904353L92.05839416058394,119.57277533030741L96,119.49443788691121L99.985401459854,120.78275425775479L104.014598540146,123.50616506273722L108.04379562043796,122.17937354177258L111.98540145985402,121.61358321265143L115.97080291970802,121.73297269044001L120,121.68456890012888L124.02919708029198,123.05528477973469L127.97080291970804,123.28552841231821L131.95620437956202,122.90134471389975L135.98540145985402,120.01772622613373L140.01459854014598,120.79958086300384L144,118.572765653962L147.98540145985402,118.85913859091022L152.01459854014598,114.33084388884595L156.04379562043795,115.10699471831317L159.98540145985402,107.45837181167664L163.970802919708,108.34571835921787L168.00000000000003,106.8162663093882L172.029197080292,105.51127263432376L175.97080291970804,102.35785322988792L179.95620437956205,100.87949802950081L183.98540145985402,101.37865608654103L188.01459854014598,98.73004165796793L191.95620437956205,95.21056594839106L195.94160583941604,95.23958255154034L199.970802919708,92.16423208599892L204.00000000000003,97.22502316155996L207.985401459854,91.66048446487798L211.97080291970804,89.9966615468289L216,90.89712297302663L220.02919708029196,86.92448288100427L223.97080291970804,91.96933194848543L227.95620437956205,89.06725779379835L231.98540145985402,91.5485187163679L236.01459854014598,89.70952967494992L239.95620437956202,88.1092544498762L243.94160583941604,85.26296272579287L247.97080291970804,87.26489224831396L252,87.09078064627725L255.94160583941607,90.2414749489373L259.9270072992701,91.2063129968028L263.95620437956205,85.1425412758833L267.985401459854,86.96700811477817L271.97080291970804,87.70814960438983L275.95620437956205,88.05335161640147L279.985401459854,47.66070872300814L284.014598540146,92.25189964500618L287.95620437956205,89.63994841430659L291.94160583941607,84.65878708496103L295.97080291970804,82.36781065832072L300,83.58736010404027L300,87.16033646859869L295.97080291970804,85.08575341462252L291.94160583941607,87.41745046646041L287.95620437956205,94.26324197571238L284.014598540146,95.79126846744343L279.985401459854,89.05294408999535L275.95620437956205,92.54883227498195L271.97080291970804,90.90341483214686L267.985401459854,88.40564248446142L263.95620437956205,87.19428207146926L259.9270072992701,92.82309808978445L255.94160583941607,93.8342689460285L252,89.43956062780931L247.97080291970804,89.06995401331329L243.94160583941604,88.21831040764665L239.95620437956202,91.50017239689393L236.01459854014598,91.6909527227543L231.98540145985402,92.86288761496114L227.95620437956205,91.36714649986273L223.97080291970804,93.19904493967374L220.02919708029196,91.23698207978448L216,92.55423452918714L211.97080291970804,91.65941511093324L207.985401459854,95.2237903697364L204.00000000000003,97.24970167798936L199.970802919708,92.29332495826023L195.94160583941604,96.37455251094497L191.95620437956205,97.21890174883094L188.01459854014598,101.29247459282192L183.98540145985402,102.13944827565655L179.95620437956205,101.77965005649652L175.97080291970804,104.63338440784973L172.029197080292,106.01726659698953L168.00000000000003,107.16846216072098L163.970802919708,108.77014080611225L159.98540145985402,109.68697512895821L156.04379562043795,115.14927465977209L152.01459854014598,115.8490578285254L147.98540145985402,119.71441094017615L144,119.07382907998107L140.01459854014598,121.2911013494743L135.98540145985402,120.75541524616293L131.95620437956202,123.58114455131317L127.97080291970804,123.71320451932199L124.02919708029198,125.02707567088905L120,122.6258306342357L115.97080291970802,122.2745285731985L111.98540145985402,122.43449540148009L108.04379562043796,122.61213904660259L104.014598540146,123.87161393339267L99.985401459854,121.9809436591169L96,121.34200385583524L92.05839416058394,121.1446490931334L88.02919708029198,117.55128009712935L84.00000000000001,116.28406109596929L80.01459854014598,118.3897556804998L76.02919708029196,118.74337550248272L72,119.47385820538493L67.97080291970804,120.74300403481269L63.98540145985402,119.88955608580011L60.04379562043796,117.82438093321937L56.01459854014598,117.95008375191422L51.98540145985401,119.25144750917046L48,124.2373200713259L44.058394160583944,121.91420965094231L40.029197080291965,122.29082933757054L36,127.68819658432892L32.01459854014598,128.90191700062948L28.07299270072993,125.44535786874795L24.043795620437955,131.44284103410592L20.014598540145982,132.1961022590126L16.029197080291972,131.43554100844827L12.043795620437956,135.80801061208592L8.014598540145986,137.49878858563508L3.985401459854015,141.80411769272553L0,135Z\" fill=\"#4c78a8\" opacity=\"0.3\"/></g><g class=\"mark-line role-mark child_layer_1_marks\" role=\"graphics-object\" aria-roledescription=\"line mark container\"><path aria-label=\"dates: Mar 30, 2003; NYC Price Index: 1\" role=\"graphics-symbol\" aria-roledescription=\"line mark\" d=\"M0,135L3.985401459854015,139.78540661694808L8.014598540145986,136.331520404609L12.043795620437956,134.21723276018884L16.029197080291972,131.34340307087407L20.014598540145982,131.90127892516037L24.043795620437955,129.9295146302271L28.07299270072993,122.91593928521833L32.01459854014598,128.21750333654194L36,126.43224352131371L40.029197080291965,122.23846751312422L44.058394160583944,121.04613279238943L48,123.21238431477781L51.98540145985401,118.66973660542634L56.01459854014598,117.94111892180958L60.04379562043796,117.67923469889546L63.98540145985402,119.86931153383907L67.97080291970804,120.50369238460277L72,118.80887056289689L76.02919708029196,118.4847594248357L80.01459854014598,118.3411106561435L84.00000000000001,115.6694420810564L88.02919708029198,116.73898891054547L92.05839416058394,120.37254910604331L96,120.4373626602175L99.985401459854,121.3900775158555L104.014598540146,123.68969771209889L108.04379562043796,122.39685528084878L111.98540145985402,122.0279595034436L115.97080291970802,122.00545591296853L120,122.16036943565594L124.02919708029198,124.06491112954586L127.97080291970804,123.50046829750873L131.95620437956202,123.24401128486227L135.98540145985402,120.38962018280179L140.01459854014598,121.04671520624747L144,118.82465662685033L147.98540145985402,119.29077519861079L152.01459854014598,115.10149649732104L156.04379562043795,115.128143649974L159.98540145985402,108.59467820211694L163.970802919708,108.55872745565277L168.00000000000003,106.99289882811316L172.029197080292,105.76535017079031L175.97080291970804,103.51666627127155L179.95620437956205,101.33275555804087L183.98540145985402,101.76134027439507L188.01459854014598,100.03651658692311L191.95620437956205,96.22939328410133L195.94160583941604,95.8117217522837L199.970802919708,92.22883577336617L204.00000000000003,97.23736466669567L207.985401459854,93.48649714422372L211.97080291970804,90.83735704363745L216,91.7350477178293L220.02919708029196,89.14197401349622L223.97080291970804,92.58940896846578L227.95620437956205,90.23488498369989L231.98540145985402,92.21163620464118L236.01459854014598,90.71345132684485L239.95620437956202,89.8429416323822L243.94160583941604,86.76853763675621L247.97080291970804,88.1780249097342L252,88.28314411612523L255.94160583941607,92.08210095042618L259.9270072992701,92.02365938137959L263.95620437956205,86.18176177983818L267.985401459854,87.69301774069719L271.97080291970804,89.3395024949781L275.95620437956205,90.36872796232859L279.985401459854,72.78889616624141L284.014598540146,94.06570708818697L287.95620437956205,92.02474820708414L291.94160583941607,86.06221338799209L295.97080291970804,83.74950542866537L300,85.41392984189812\" stroke=\"#4c78a8\" stroke-width=\"2\"/></g></g><path class=\"foreground\" aria-hidden=\"true\" d=\"\" display=\"none\"/></g><g transform=\"translate(326,0)\"><path class=\"background\" aria-hidden=\"true\" d=\"M0.5,0.5h300v150h-300Z\" stroke=\"#ddd\"/><g><g class=\"mark-group role-axis\" aria-hidden=\"true\"><g transform=\"translate(0.5,150.5)\"><path class=\"background\" aria-hidden=\"true\" d=\"M0,0h0v0h0Z\" pointer-events=\"none\"/><g><g class=\"mark-rule role-axis-grid\" pointer-events=\"none\"><line transform=\"translate(12,-150)\" x2=\"0\" y2=\"150\" stroke=\"#ddd\" stroke-width=\"1\" opacity=\"1\"/><line transform=\"translate(44,-150)\" x2=\"0\" y2=\"150\" stroke=\"#ddd\" stroke-width=\"1\" opacity=\"1\"/><line transform=\"translate(76,-150)\" x2=\"0\" y2=\"150\" stroke=\"#ddd\" stroke-width=\"1\" opacity=\"1\"/><line transform=\"translate(108,-150)\" x2=\"0\" y2=\"150\" stroke=\"#ddd\" stroke-width=\"1\" opacity=\"1\"/><line transform=\"translate(140,-150)\" x2=\"0\" y2=\"150\" stroke=\"#ddd\" stroke-width=\"1\" opacity=\"1\"/><line transform=\"translate(172,-150)\" x2=\"0\" y2=\"150\" stroke=\"#ddd\" stroke-width=\"1\" opacity=\"1\"/><line transform=\"translate(204,-150)\" x2=\"0\" y2=\"150\" stroke=\"#ddd\" stroke-width=\"1\" opacity=\"1\"/><line transform=\"translate(236,-150)\" x2=\"0\" y2=\"150\" stroke=\"#ddd\" stroke-width=\"1\" opacity=\"1\"/><line transform=\"translate(268,-150)\" x2=\"0\" y2=\"150\" stroke=\"#ddd\" stroke-width=\"1\" opacity=\"1\"/></g></g><path class=\"foreground\" aria-hidden=\"true\" d=\"\" pointer-events=\"none\" display=\"none\"/></g></g><g class=\"mark-group role-axis\" aria-hidden=\"true\"><g transform=\"translate(0.5,0.5)\"><path class=\"background\" aria-hidden=\"true\" d=\"M0,0h0v0h0Z\" pointer-events=\"none\"/><g><g class=\"mark-rule role-axis-grid\" pointer-events=\"none\"><line transform=\"translate(0,135)\" x2=\"300\" y2=\"0\" stroke=\"#ddd\" stroke-width=\"1\" opacity=\"1\"/><line transform=\"translate(0,105)\" x2=\"300\" y2=\"0\" stroke=\"#ddd\" stroke-width=\"1\" opacity=\"1\"/><line transform=\"translate(0,75)\" x2=\"300\" y2=\"0\" stroke=\"#ddd\" stroke-width=\"1\" opacity=\"1\"/><line transform=\"translate(0,45)\" x2=\"300\" y2=\"0\" stroke=\"#ddd\" stroke-width=\"1\" opacity=\"1\"/><line transform=\"translate(0,15)\" x2=\"300\" y2=\"0\" stroke=\"#ddd\" stroke-width=\"1\" opacity=\"1\"/></g></g><path class=\"foreground\" aria-hidden=\"true\" d=\"\" pointer-events=\"none\" display=\"none\"/></g></g><g class=\"mark-area role-mark child_layer_0_layer_0_marks\" role=\"graphics-object\" aria-roledescription=\"area mark container\"><path aria-label=\"NYC Price Index: 1; upper_ci₀: 1; dates: Mar 30, 2003; ci₁: 1; ci₀: 1\" role=\"graphics-symbol\" aria-roledescription=\"errorband\" d=\"M0,135L3.985401459854015,131.95937017107485L8.014598540145986,128.49762258054272L12.043795620437956,125.99702988150723L16.029197080291972,126.1975246028393L20.014598540145982,120.12295744590587L24.043795620437955,122.67232035474868L28.07299270072993,118.51729567127778L32.01459854014598,114.13559431309508L36,112.49804582124803L40.029197080291965,109.06188221803511L44.058394160583944,105.9402008127336L48,104.12200536388177L51.98540145985401,103.72211335693572L56.01459854014598,100.11340749714145L60.04379562043796,100.6361764983194L63.98540145985402,99.73516229323057L67.97080291970804,98.57426227672542L72,96.4991151791228L76.02919708029196,99.65665157574703L80.01459854014598,102.58676607472542L84.00000000000001,105.04733978370837L88.02919708029198,103.63063230186052L92.05839416058394,108.90006239971841L96,107.15314530991509L99.985401459854,116.02676344391631L104.014598540146,111.561788512114L108.04379562043796,108.45064504499294L111.98540145985402,110.02227230179618L115.97080291970802,114.20495221376183L120,115.91311567570274L124.02919708029198,117.90246185551881L127.97080291970804,119.38637380544193L131.95620437956202,109.39133834667889L135.98540145985402,116.58794728734176L140.01459854014598,117.43700468554155L144,113.38100973259728L147.98540145985402,110.03655574841396L152.01459854014598,108.10926625338935L156.04379562043795,113.97447903169254L159.98540145985402,106.16474413165784L163.970802919708,108.17239520860306L168.00000000000003,106.89936816304252L172.029197080292,111.03008084312957L175.97080291970804,106.5460791566032L179.95620437956205,91.44563419131678L183.98540145985402,98.56884099457233L188.01459854014598,98.9345565576045L191.95620437956205,84.53985827106213L195.94160583941604,92.60587466372671L199.970802919708,84.70048603874594L204.00000000000003,88.19955415449967L207.985401459854,77.16775140120996L211.97080291970804,88.44709741625778L216,70.9696753263936L220.02919708029196,73.67719352836862L223.97080291970804,80.13631802441336L227.95620437956205,69.78366851987501L231.98540145985402,70.94960028202479L236.01459854014598,67.25464979253255L239.95620437956202,58.05044874182427L243.94160583941604,76.81886828214282L247.97080291970804,64.83840192716642L252,61.76890275549687L255.94160583941607,55.915289149028894L259.9270072992701,59.06339295522224L263.95620437956205,45.32736247822545L267.985401459854,56.79148004155156L271.97080291970804,41.536223724492544L275.95620437956205,45.7379343575557L279.985401459854,66.27639122224487L284.014598540146,55.4699741159069L287.95620437956205,44.540662684499516L291.94160583941607,45.296596668416505L295.97080291970804,42.409468696578614L300,15.5364524133828L300,75.65749018671337L295.97080291970804,78.56158240104178L291.94160583941607,79.8757681114324L287.95620437956205,82.55545286257244L284.014598540146,86.38381046133978L279.985401459854,89.4497196312124L275.95620437956205,90.18888191512566L271.97080291970804,86.8700830794975L267.985401459854,84.20853879123497L263.95620437956205,86.50409897223412L259.9270072992701,82.6762624986262L255.94160583941607,92.12121087163825L252,86.16890683953343L247.97080291970804,87.92618113586529L243.94160583941604,95.17585133891161L239.95620437956202,90.09585205574243L236.01459854014598,92.21130119771185L231.98540145985402,93.65633271604261L227.95620437956205,97.35020662646276L223.97080291970804,95.18885590374667L220.02919708029196,97.70137487335177L216,98.11037305678659L211.97080291970804,102.47041896982955L207.985401459854,99.01004510585145L204.00000000000003,101.82698136484275L199.970802919708,100.90031931619973L195.94160583941604,103.99146593352617L191.95620437956205,102.97680804216157L188.01459854014598,106.87733709096368L183.98540145985402,108.40842043078497L179.95620437956205,113.19073688637071L175.97080291970804,114.39179876442847L172.029197080292,118.60230356150213L168.00000000000003,112.42445326616246L163.970802919708,115.54632615280067L159.98540145985402,117.30013322735046L156.04379562043795,117.18910430888393L152.01459854014598,116.43167074599255L147.98540145985402,119.13570869151619L144,122.84359583894454L140.01459854014598,122.93301871272048L135.98540145985402,121.95822527798471L131.95620437956202,120.1873016710103L127.97080291970804,121.92622524931154L124.02919708029198,119.3354829394215L120,123.33344560129662L115.97080291970802,121.91862484846139L111.98540145985402,120.49858465697862L108.04379562043796,118.38684748582322L104.014598540146,118.8334321060157L99.985401459854,122.2302218047897L96,118.63173465817394L92.05839416058394,113.43280113644722L88.02919708029198,117.26336347872648L84.00000000000001,118.03475027687242L80.01459854014598,110.5396388720744L76.02919708029196,113.35991390330123L72,111.25374760534132L67.97080291970804,111.55501279069978L63.98540145985402,111.676647081938L60.04379562043796,113.02213774284488L56.01459854014598,111.02028724197565L51.98540145985401,112.5990412105975L48,111.67759531154059L44.058394160583944,115.18048361530609L40.029197080291965,118.10115040307674L36,119.05670245999306L32.01459854014598,120.70174913746983L28.07299270072993,124.98922008483137L24.043795620437955,123.72571321232303L20.014598540145982,126.60957779095463L16.029197080291972,130.05400270384726L12.043795620437956,129.98878019635742L8.014598540145986,130.3882508852307L3.985401459854015,134.0350840511836L0,135Z\" fill=\"#4c78a8\" opacity=\"0.3\"/></g><g class=\"mark-line role-mark child_layer_1_marks\" role=\"graphics-object\" aria-roledescription=\"line mark container\"><path aria-label=\"dates: Mar 30, 2003; NYC Price Index: 1\" role=\"graphics-symbol\" aria-roledescription=\"line mark\" d=\"M0,135L3.985401459854015,133.03088503920188L8.014598540145986,129.4680686972424L12.043795620437956,128.10054703699288L16.029197080291972,128.22659573026914L20.014598540145982,123.61892478543113L24.043795620437955,123.20565320944623L28.07299270072993,121.99539060042613L32.01459854014598,117.64520170427302L36,115.99585078705061L40.029197080291965,113.97878769750798L44.058394160583944,110.9524406848037L48,108.14974228097405L51.98540145985401,108.5071670464412L56.01459854014598,106.06724159611076L60.04379562043796,107.48847383475155L63.98540145985402,106.3071410257373L67.97080291970804,105.76747754740578L72,104.76683742950799L76.02919708029196,107.31087243603426L80.01459854014598,106.83378619978406L84.00000000000001,112.32984099260166L88.02919708029198,111.2986987690414L92.05839416058394,111.26184491423975L96,113.52458440505376L99.985401459854,119.33822464449324L104.014598540146,115.46304335798519L108.04379562043796,113.89725401675686L111.98540145985402,115.81206733155295L115.97080291970802,118.37869848386273L120,119.92663716680008L124.02919708029198,118.6300413061008L127.97080291970804,120.69266797029067L131.95620437956202,115.36963889777837L135.98540145985402,119.43076085192817L140.01459854014598,120.35351654166358L144,118.58972298947022L147.98540145985402,114.99670667064606L152.01459854014598,112.59885382081832L156.04379562043795,115.63406903941001L159.98540145985402,112.31439178209888L163.970802919708,112.1151670572637L168.00000000000003,109.79982009036392L172.029197080292,115.10183491962317L175.97080291970804,110.75114196093078L179.95620437956205,104.20409732714825L183.98540145985402,103.8821243245234L188.01459854014598,103.15994764793213L191.95620437956205,94.95117834091003L195.94160583941604,98.7845365067789L199.970802919708,93.70911480312694L204.00000000000003,95.67663196610212L207.985401459854,89.63966850465937L211.97080291970804,96.16572553459895L216,86.82879406099254L220.02919708029196,87.50858845086324L223.97080291970804,88.39502320584933L227.95620437956205,85.89987827481801L231.98540145985402,83.8616551121629L236.01459854014598,81.55910480178049L239.95620437956202,76.89659550343463L243.94160583941604,87.06371286574888L247.97080291970804,77.88606983384919L252,75.60395103632155L255.94160583941607,77.62026021549177L259.9270072992701,72.35066961483739L263.95620437956205,70.1937146088147L267.985401459854,72.48862101794296L271.97080291970804,69.30043291366391L275.95620437956205,73.05397938584942L279.985401459854,79.40374276715491L284.014598540146,73.4665800401013L287.95620437956205,67.10916325995699L291.94160583941607,65.50502460669932L295.97080291970804,63.611827748011365L300,53.16490994929546\" stroke=\"#4c78a8\" stroke-width=\"2\"/></g></g><path class=\"foreground\" aria-hidden=\"true\" d=\"\" display=\"none\"/></g><g transform=\"translate(0,172)\"><path class=\"background\" aria-hidden=\"true\" d=\"M0.5,0.5h300v150h-300Z\" stroke=\"#ddd\"/><g><g class=\"mark-group role-axis\" aria-hidden=\"true\"><g transform=\"translate(0.5,150.5)\"><path class=\"background\" aria-hidden=\"true\" d=\"M0,0h0v0h0Z\" pointer-events=\"none\"/><g><g class=\"mark-rule role-axis-grid\" pointer-events=\"none\"><line transform=\"translate(12,-150)\" x2=\"0\" y2=\"150\" stroke=\"#ddd\" stroke-width=\"1\" opacity=\"1\"/><line transform=\"translate(44,-150)\" x2=\"0\" y2=\"150\" stroke=\"#ddd\" stroke-width=\"1\" opacity=\"1\"/><line transform=\"translate(76,-150)\" x2=\"0\" y2=\"150\" stroke=\"#ddd\" stroke-width=\"1\" opacity=\"1\"/><line transform=\"translate(108,-150)\" x2=\"0\" y2=\"150\" stroke=\"#ddd\" stroke-width=\"1\" opacity=\"1\"/><line transform=\"translate(140,-150)\" x2=\"0\" y2=\"150\" stroke=\"#ddd\" stroke-width=\"1\" opacity=\"1\"/><line transform=\"translate(172,-150)\" x2=\"0\" y2=\"150\" stroke=\"#ddd\" stroke-width=\"1\" opacity=\"1\"/><line transform=\"translate(204,-150)\" x2=\"0\" y2=\"150\" stroke=\"#ddd\" stroke-width=\"1\" opacity=\"1\"/><line transform=\"translate(236,-150)\" x2=\"0\" y2=\"150\" stroke=\"#ddd\" stroke-width=\"1\" opacity=\"1\"/><line transform=\"translate(268,-150)\" x2=\"0\" y2=\"150\" stroke=\"#ddd\" stroke-width=\"1\" opacity=\"1\"/></g></g><path class=\"foreground\" aria-hidden=\"true\" d=\"\" pointer-events=\"none\" display=\"none\"/></g></g><g class=\"mark-group role-axis\" aria-hidden=\"true\"><g transform=\"translate(0.5,0.5)\"><path class=\"background\" aria-hidden=\"true\" d=\"M0,0h0v0h0Z\" pointer-events=\"none\"/><g><g class=\"mark-rule role-axis-grid\" pointer-events=\"none\"><line transform=\"translate(0,135)\" x2=\"300\" y2=\"0\" stroke=\"#ddd\" stroke-width=\"1\" opacity=\"1\"/><line transform=\"translate(0,105)\" x2=\"300\" y2=\"0\" stroke=\"#ddd\" stroke-width=\"1\" opacity=\"1\"/><line transform=\"translate(0,75)\" x2=\"300\" y2=\"0\" stroke=\"#ddd\" stroke-width=\"1\" opacity=\"1\"/><line transform=\"translate(0,45)\" x2=\"300\" y2=\"0\" stroke=\"#ddd\" stroke-width=\"1\" opacity=\"1\"/><line transform=\"translate(0,15)\" x2=\"300\" y2=\"0\" stroke=\"#ddd\" stroke-width=\"1\" opacity=\"1\"/></g></g><path class=\"foreground\" aria-hidden=\"true\" d=\"\" pointer-events=\"none\" display=\"none\"/></g></g><g class=\"mark-area role-mark child_layer_0_layer_0_marks\" role=\"graphics-object\" aria-roledescription=\"area mark container\"><path aria-label=\"NYC Price Index: 1; upper_ci₀: 1; dates: Mar 30, 2003; ci₁: 1; ci₀: 1\" role=\"graphics-symbol\" aria-roledescription=\"errorband\" d=\"M0,135L3.985401459854015,131.88106793471866L8.014598540145986,131.60601617084862L12.043795620437956,130.0883407889268L16.029197080291972,126.7153758304508L20.014598540145982,123.79518859769283L24.043795620437955,120.91341336119247L28.07299270072993,121.84599219723907L32.01459854014598,118.3762778601377L36,115.96581881503839L40.029197080291965,113.75387702765856L44.058394160583944,111.45751212891568L48,114.02678578192376L51.98540145985401,111.52922093261745L56.01459854014598,111.02588079557907L60.04379562043796,108.77461977123876L63.98540145985402,108.26129786501272L67.97080291970804,106.19849335833523L72,102.5788030669755L76.02919708029196,110.34550559391393L80.01459854014598,99.80684389399329L84.00000000000001,104.41351191707008L88.02919708029198,97.38632651020761L92.05839416058394,99.95949213302548L96,106.60125997890589L99.985401459854,106.19020851733403L104.014598540146,106.79535923387327L108.04379562043796,108.54090323738497L111.98540145985402,107.75819643277084L115.97080291970802,105.56352073570724L120,105.03542899248679L124.02919708029198,104.09019937823675L127.97080291970804,103.25254804896963L131.95620437956202,103.69191892964145L135.98540145985402,102.60872167667543L140.01459854014598,101.80869859153981L144,101.13362318297193L147.98540145985402,100.14778299138031L152.01459854014598,100.47600140149332L156.04379562043795,99.94941156134102L159.98540145985402,97.35208191847833L163.970802919708,96.02453989912838L168.00000000000003,92.10704444360283L172.029197080292,92.66087363927033L175.97080291970804,87.42564955818352L179.95620437956205,86.0025726259093L183.98540145985402,83.13257218572934L188.01459854014598,84.0443069795136L191.95620437956205,82.87603341935743L195.94160583941604,80.09335315961424L199.970802919708,80.46304162198129L204.00000000000003,84.25257344601957L207.985401459854,86.69234080499392L211.97080291970804,80.85214969010657L216,82.14297934538733L220.02919708029196,82.23560704700627L223.97080291970804,85.34098726533333L227.95620437956205,82.10015341789146L231.98540145985402,80.7055899088861L236.01459854014598,81.82469293217748L239.95620437956202,83.54615414671899L243.94160583941604,81.11011965796673L247.97080291970804,84.15433934925773L252,82.81001324271445L255.94160583941607,84.36789978030143L259.9270072992701,85.9040141797302L263.95620437956205,87.29349088045225L267.985401459854,88.49283467700802L271.97080291970804,88.31892951426242L275.95620437956205,100.03430501568646L279.985401459854,98.70552352635735L284.014598540146,97.91642769720212L287.95620437956205,91.89021812178281L291.94160583941607,83.65707171401607L295.97080291970804,80.40519853329687L300,81.75522979716618L300,94.75930473820696L295.97080291970804,97.56969821314199L291.94160583941607,98.02668314982955L287.95620437956205,100.5354189972738L284.014598540146,104.98626914869641L279.985401459854,106.83311001515564L275.95620437956205,103.11484990986912L271.97080291970804,97.05286714331542L267.985401459854,98.97563174229474L263.95620437956205,97.52789344572167L259.9270072992701,95.53870220167798L255.94160583941607,92.43832700486344L252,96.04290539433354L247.97080291970804,95.55259574135447L243.94160583941604,93.02684560592658L239.95620437956202,93.87758308436486L236.01459854014598,93.36852813716463L231.98540145985402,93.40479361515804L227.95620437956205,93.0603116842539L223.97080291970804,93.03509290328184L220.02919708029196,95.03957218696571L216,93.34073807628207L211.97080291970804,93.1092726277086L207.985401459854,95.44249233412917L204.00000000000003,91.9263503772465L199.970802919708,92.48348991417362L195.94160583941604,92.89636555445207L191.95620437956205,91.83672862113578L188.01459854014598,92.95125304087021L183.98540145985402,94.02986469969385L179.95620437956205,94.96708770119928L175.97080291970804,95.38171923689589L172.029197080292,101.60916389049436L168.00000000000003,101.56634852370922L163.970802919708,104.50009901415986L159.98540145985402,107.03249459879063L156.04379562043795,106.0642901925821L152.01459854014598,108.3379596007408L147.98540145985402,108.12775427878523L144,107.25576803042937L140.01459854014598,109.73410109142304L135.98540145985402,109.25703516563661L131.95620437956202,110.43298179428834L127.97080291970804,111.04061136542127L124.02919708029198,110.618780084576L120,112.43282536064278L115.97080291970802,113.02739962196152L111.98540145985402,114.57577150550115L108.04379562043796,115.2036681769018L104.014598540146,113.97876885458062L99.985401459854,113.58297149148365L96,112.5773044755712L92.05839416058394,110.4606053755532L88.02919708029198,108.86396691836782L84.00000000000001,110.69125052417247L80.01459854014598,110.4198528273151L76.02919708029196,112.4787839336397L72,110.33507727429556L67.97080291970804,111.69049053850797L63.98540145985402,114.02031833130816L60.04379562043796,112.16678071334503L56.01459854014598,114.25225287313746L51.98540145985401,116.1762324895298L48,117.15098044084846L44.058394160583944,117.06258240498711L40.029197080291965,119.29385280448103L36,121.44768119603111L32.01459854014598,122.34088973447884L28.07299270072993,125.7566933244575L24.043795620437955,125.55262730113064L20.014598540145982,127.04587108372742L16.029197080291972,129.63393380824579L12.043795620437956,131.48144262043553L8.014598540145986,132.38781449193016L3.985401459854015,133.26011207305177L0,135Z\" fill=\"#4c78a8\" opacity=\"0.3\"/></g><g class=\"mark-line role-mark child_layer_1_marks\" role=\"graphics-object\" aria-roledescription=\"line mark container\"><path aria-label=\"dates: Mar 30, 2003; NYC Price Index: 1\" role=\"graphics-symbol\" aria-roledescription=\"line mark\" d=\"M0,135L3.985401459854015,132.58525079123612L8.014598540145986,132.00154526690136L12.043795620437956,130.79907208295296L16.029197080291972,128.23248170887211L20.014598540145982,125.48727490186484L24.043795620437955,123.36184402245527L28.07299270072993,123.89414665502407L32.01459854014598,120.44660826343855L36,118.86903508579881L40.029197080291965,116.68214553989965L44.058394160583944,114.41484053688697L48,115.63826770781638L51.98540145985401,113.95827836134484L56.01459854014598,112.68876742291499L60.04379562043796,110.5234551644543L63.98540145985402,111.29475729216087L67.97080291970804,109.07901054469976L72,106.71384419031988L76.02919708029196,111.43337567726776L80.01459854014598,105.58355313724236L84.00000000000001,107.72388529187988L88.02919708029198,103.65741556966073L92.05839416058394,105.67113534591078L96,109.75041128882454L99.985401459854,110.13450128587523L104.014598540146,110.62327810631592L108.04379562043796,112.08118061834995L111.98540145985402,111.38283352252934L115.97080291970802,109.54548238621426L120,108.97726511383328L124.02919708029198,107.53933659042708L127.97080291970804,107.40868145465515L131.95620437956202,107.25853187054189L135.98540145985402,106.11995403558436L140.01459854014598,106.03652515516876L144,104.3487967081885L147.98540145985402,104.39934276866157L152.01459854014598,104.66200322171221L156.04379562043795,103.1576406868186L159.98540145985402,102.56529336844903L163.970802919708,100.53972784426887L168.00000000000003,97.16487318968402L172.029197080292,97.42998642332294L175.97080291970804,91.61870550360446L179.95620437956205,90.75444818466157L183.98540145985402,88.96970600334446L188.01459854014598,88.75703290556699L191.95620437956205,87.61491501040008L195.94160583941604,87.01685423864177L199.970802919708,86.93327209126966L204.00000000000003,88.28087538322575L207.985401459854,91.32631849152288L211.97080291970804,87.46212115680403L216,88.14760818429802L220.02919708029196,89.17431155413743L223.97080291970804,89.38325750657758L227.95620437956205,87.96813435309939L231.98540145985402,87.57244806946272L236.01459854014598,88.02701846693478L239.95620437956202,89.06165573824558L243.94160583941604,87.52403759261843L247.97080291970804,90.28569057854553L252,90.00572764814488L255.94160583941607,88.61569316726953L259.9270072992701,91.03378721141301L263.95620437956205,92.77143053830098L267.985401459854,94.11972346416326L271.97080291970804,92.94961475734601L275.95620437956205,101.6119826406444L279.985401459854,103.03469093469408L284.014598540146,101.64797988919156L287.95620437956205,96.48445164803573L291.94160583941607,91.5379769476121L295.97080291970804,89.95643324135668L300,88.80815319216252\" stroke=\"#4c78a8\" stroke-width=\"2\"/></g></g><path class=\"foreground\" aria-hidden=\"true\" d=\"\" display=\"none\"/></g><g transform=\"translate(326,172)\"><path class=\"background\" aria-hidden=\"true\" d=\"M0.5,0.5h300v150h-300Z\" stroke=\"#ddd\"/><g/><path class=\"foreground\" aria-hidden=\"true\" d=\"\" display=\"none\"/></g><g transform=\"translate(0,344)\"><path class=\"background\" aria-hidden=\"true\" d=\"M0.5,0.5h300v150h-300Z\" stroke=\"#ddd\"/><g><g class=\"mark-group role-axis\" aria-hidden=\"true\"><g transform=\"translate(0.5,150.5)\"><path class=\"background\" aria-hidden=\"true\" d=\"M0,0h0v0h0Z\" pointer-events=\"none\"/><g><g class=\"mark-rule role-axis-grid\" pointer-events=\"none\"><line transform=\"translate(12,-150)\" x2=\"0\" y2=\"150\" stroke=\"#ddd\" stroke-width=\"1\" opacity=\"1\"/><line transform=\"translate(44,-150)\" x2=\"0\" y2=\"150\" stroke=\"#ddd\" stroke-width=\"1\" opacity=\"1\"/><line transform=\"translate(76,-150)\" x2=\"0\" y2=\"150\" stroke=\"#ddd\" stroke-width=\"1\" opacity=\"1\"/><line transform=\"translate(108,-150)\" x2=\"0\" y2=\"150\" stroke=\"#ddd\" stroke-width=\"1\" opacity=\"1\"/><line transform=\"translate(140,-150)\" x2=\"0\" y2=\"150\" stroke=\"#ddd\" stroke-width=\"1\" opacity=\"1\"/><line transform=\"translate(172,-150)\" x2=\"0\" y2=\"150\" stroke=\"#ddd\" stroke-width=\"1\" opacity=\"1\"/><line transform=\"translate(204,-150)\" x2=\"0\" y2=\"150\" stroke=\"#ddd\" stroke-width=\"1\" opacity=\"1\"/><line transform=\"translate(236,-150)\" x2=\"0\" y2=\"150\" stroke=\"#ddd\" stroke-width=\"1\" opacity=\"1\"/><line transform=\"translate(268,-150)\" x2=\"0\" y2=\"150\" stroke=\"#ddd\" stroke-width=\"1\" opacity=\"1\"/></g></g><path class=\"foreground\" aria-hidden=\"true\" d=\"\" pointer-events=\"none\" display=\"none\"/></g></g><g class=\"mark-group role-axis\" aria-hidden=\"true\"><g transform=\"translate(0.5,0.5)\"><path class=\"background\" aria-hidden=\"true\" d=\"M0,0h0v0h0Z\" pointer-events=\"none\"/><g><g class=\"mark-rule role-axis-grid\" pointer-events=\"none\"><line transform=\"translate(0,135)\" x2=\"300\" y2=\"0\" stroke=\"#ddd\" stroke-width=\"1\" opacity=\"1\"/><line transform=\"translate(0,105)\" x2=\"300\" y2=\"0\" stroke=\"#ddd\" stroke-width=\"1\" opacity=\"1\"/><line transform=\"translate(0,75)\" x2=\"300\" y2=\"0\" stroke=\"#ddd\" stroke-width=\"1\" opacity=\"1\"/><line transform=\"translate(0,45)\" x2=\"300\" y2=\"0\" stroke=\"#ddd\" stroke-width=\"1\" opacity=\"1\"/><line transform=\"translate(0,15)\" x2=\"300\" y2=\"0\" stroke=\"#ddd\" stroke-width=\"1\" opacity=\"1\"/></g></g><path class=\"foreground\" aria-hidden=\"true\" d=\"\" pointer-events=\"none\" display=\"none\"/></g></g><g class=\"mark-area role-mark child_layer_0_layer_0_marks\" role=\"graphics-object\" aria-roledescription=\"area mark container\"><path aria-label=\"NYC Price Index: 1; upper_ci₀: 1; dates: Mar 30, 2003; ci₁: 1; ci₀: 1\" role=\"graphics-symbol\" aria-roledescription=\"errorband\" d=\"M0,135L3.985401459854015,133.62808679441832L8.014598540145986,132.16090143175376L12.043795620437956,130.75755770403634L16.029197080291972,129.8393605304032L20.014598540145982,125.998474974465L24.043795620437955,127.49444362867953L28.07299270072993,125.19400649042812L32.01459854014598,123.58735157600306L36,120.94808862330335L40.029197080291965,118.20807343079076L44.058394160583944,119.40225165509692L48,116.87098721142235L51.98540145985401,115.29882471938619L56.01459854014598,114.57794746890409L60.04379562043796,117.37078936345881L63.98540145985402,117.78969328103278L67.97080291970804,110.76774013091243L72,114.24143396581437L76.02919708029196,113.06035043146187L80.01459854014598,121.16742439204086L84.00000000000001,112.12315098626183L88.02919708029198,113.5989937442744L92.05839416058394,115.70534219853955L96,122.15592571558398L99.985401459854,121.18898956577038L104.014598540146,117.58157275987193L108.04379562043796,118.03616090167314L111.98540145985402,119.36372145745652L115.97080291970802,120.85403481042614L120,120.71902347711334L124.02919708029198,118.55116559984545L127.97080291970804,122.10299332098529L131.95620437956202,120.2467762054351L135.98540145985402,119.04514953805801L140.01459854014598,117.96999971025663L144,120.9453078552528L147.98540145985402,120.52088428419881L152.01459854014598,119.6252985824684L156.04379562043795,118.75905650870592L159.98540145985402,118.84565011878276L163.970802919708,115.27933999032949L168.00000000000003,114.80037884822372L172.029197080292,111.2656729674449L175.97080291970804,110.51186696308358L179.95620437956205,108.18308956229305L183.98540145985402,110.19108474796464L188.01459854014598,108.13031408982592L191.95620437956205,105.91322733264442L195.94160583941604,104.08544479956656L199.970802919708,99.30006329067432L204.00000000000003,101.48053276017735L207.985401459854,98.52938145178702L211.97080291970804,98.21707364053952L216,96.43206102563869L220.02919708029196,98.84912873759865L223.97080291970804,94.1642188388019L227.95620437956205,94.44776196213182L231.98540145985402,94.79321199891622L236.01459854014598,93.60465857283128L239.95620437956202,92.35743708271535L243.94160583941604,90.84302068807327L247.97080291970804,89.70814220262746L252,91.93751376948651L255.94160583941607,92.40817567259033L259.9270072992701,91.42771492070426L263.95620437956205,89.07099463357542L267.985401459854,93.52661114960935L271.97080291970804,90.64533354210714L275.95620437956205,94.90231467078783L279.985401459854,66.87637133539349L284.014598540146,97.61997986755495L287.95620437956205,93.5948483590834L291.94160583941607,91.58260658194372L295.97080291970804,91.13545217922962L300,88.82198962170393L300,96.74195765922303L295.97080291970804,97.39612491439078L291.94160583941607,94.32446413554662L287.95620437956205,98.11727385078278L284.014598540146,102.03614892473674L279.985401459854,94.15379440970658L275.95620437956205,96.91991591963351L271.97080291970804,96.74650943692482L267.985401459854,99.53867575929064L263.95620437956205,95.37240008313732L259.9270072992701,98.47215682507013L255.94160583941607,97.35699913478791L252,96.22942901037904L247.97080291970804,97.04507492307931L243.94160583941604,97.22284181262883L239.95620437956202,98.66294408879594L236.01459854014598,98.65448839673819L231.98540145985402,98.10855108262516L227.95620437956205,102.17594235513516L223.97080291970804,99.1583680493801L220.02919708029196,101.3489460039861L216,100.71103937741867L211.97080291970804,102.98716167866864L207.985401459854,103.36473288302554L204.00000000000003,104.67134475683615L199.970802919708,105.5457361513354L195.94160583941604,107.46521126839698L191.95620437956205,108.73499976657371L188.01459854014598,111.26845821005331L183.98540145985402,112.033093261988L179.95620437956205,111.40188590694636L175.97080291970804,114.74423121187957L172.029197080292,114.55115033801958L168.00000000000003,116.69848234269014L163.970802919708,118.32529140468507L159.98540145985402,119.82317024188424L156.04379562043795,120.0739201786903L152.01459854014598,119.87875889508716L147.98540145985402,121.87055624289206L144,122.94538546983384L140.01459854014598,121.77341520950058L135.98540145985402,122.51260309854968L131.95620437956202,124.11336326619474L127.97080291970804,123.49539749137709L124.02919708029198,122.83281027971117L120,123.50382443749287L115.97080291970802,123.4457194762912L111.98540145985402,122.33051162122528L108.04379562043796,118.73629567628504L104.014598540146,123.3938821622961L99.985401459854,122.80280274860485L96,122.64172550592714L92.05839416058394,118.52992082780248L88.02919708029198,117.26153070025838L84.00000000000001,116.80687536035802L80.01459854014598,121.65267779718647L76.02919708029196,115.9536864309016L72,116.71697540034506L67.97080291970804,114.84835370242605L63.98540145985402,120.03000051751637L60.04379562043796,119.1732873021519L56.01459854014598,115.07107319170852L51.98540145985401,117.28100982571422L48,117.59745005313705L44.058394160583944,119.98967196385534L40.029197080291965,119.45961785343013L36,122.55588260374948L32.01459854014598,124.20373755414467L28.07299270072993,126.26375427995646L24.043795620437955,128.0942470974078L20.014598540145982,127.59306894823604L16.029197080291972,130.49431086122522L12.043795620437956,131.6565434874269L8.014598540145986,133.1783029858345L3.985401459854015,133.77043389273473L0,135Z\" fill=\"#4c78a8\" opacity=\"0.3\"/></g><g class=\"mark-line role-mark child_layer_1_marks\" role=\"graphics-object\" aria-roledescription=\"line mark container\"><path aria-label=\"dates: Mar 30, 2003; NYC Price Index: 1\" role=\"graphics-symbol\" aria-roledescription=\"line mark\" d=\"M0,135L3.985401459854015,133.6994221823751L8.014598540145986,132.67760633179418L12.043795620437956,131.21302947189503L16.029197080291972,130.16991437058013L20.014598540145982,126.8124110224684L24.043795620437955,127.79676276575174L28.07299270072993,125.73616538460422L32.01459854014598,123.89785533449064L36,121.76692850466391L40.029197080291965,118.84232784873792L44.058394160583944,119.6978659588242L48,117.23698079928126L51.98540145985401,116.3100827987398L56.01459854014598,114.82572194268961L60.04379562043796,118.28942085230264L63.98540145985402,118.93707059119241L67.97080291970804,112.88780733056598L72,115.5101427231236L76.02919708029196,114.54846673224039L80.01459854014598,121.41140158293217L84.00000000000001,114.57353835254732L88.02919708029198,115.49791527811921L92.05839416058394,117.15928695276713L96,122.40021055753039L99.985401459854,122.01103653192145L104.014598540146,120.67746693439427L108.04379562043796,118.38885727975064L111.98540145985402,120.89695384998721L115.97080291970802,122.18906506721687L120,122.15662898102092L124.02919708029198,120.79542567209919L127.97080291970804,122.81068090623494L131.95620437956202,122.26735675033243L135.98540145985402,120.84684855189468L140.01459854014598,119.95184548774122L144,121.96857475842992L147.98540145985402,121.20611659015462L152.01459854014598,119.75238368358681L156.04379562043795,119.4259702068095L159.98540145985402,119.33964139269078L163.970802919708,116.85043948266876L168.00000000000003,115.76771869303259L172.029197080292,112.96021637732903L175.97080291970804,112.71355720214207L179.95620437956205,109.83940458290363L183.98540145985402,111.1278299907702L188.01459854014598,109.7439062186771L191.95620437956205,107.35862710526864L195.94160583941604,105.82354620474L199.970802919708,102.57874119219993L204.00000000000003,103.11704265654694L207.985401459854,101.0383122387177L211.97080291970804,100.69045029984228L216,98.64045763422715L220.02919708029196,100.12310899512647L223.97080291970804,96.75253575607825L227.95620437956205,98.53574791117738L231.98540145985402,96.49096766254374L236.01459854014598,96.22214145096682L239.95620437956202,95.6532310507493L243.94160583941604,94.17631507012284L247.97080291970804,93.56450312028885L252,94.14840877757723L255.94160583941607,94.96990827290387L259.9270072992701,95.12703835795394L263.95620437956205,92.3580969073926L267.985401459854,96.66462211805934L271.97080291970804,93.82643417573641L275.95620437956205,95.92584528693342L279.985401459854,82.71683034083665L284.014598540146,99.90287631081782L287.95620437956205,95.93000949670395L291.94160583941607,92.97962193662822L295.97080291970804,94.40432131013482L300,92.99911434922171\" stroke=\"#4c78a8\" stroke-width=\"2\"/></g></g><path class=\"foreground\" aria-hidden=\"true\" d=\"\" display=\"none\"/></g><g transform=\"translate(326,344)\"><path class=\"background\" aria-hidden=\"true\" d=\"M0.5,0.5h300v150h-300Z\" stroke=\"#ddd\"/><g><g class=\"mark-group role-axis\" aria-hidden=\"true\"><g transform=\"translate(0.5,150.5)\"><path class=\"background\" aria-hidden=\"true\" d=\"M0,0h0v0h0Z\" pointer-events=\"none\"/><g><g class=\"mark-rule role-axis-grid\" pointer-events=\"none\"><line transform=\"translate(12,-150)\" x2=\"0\" y2=\"150\" stroke=\"#ddd\" stroke-width=\"1\" opacity=\"1\"/><line transform=\"translate(44,-150)\" x2=\"0\" y2=\"150\" stroke=\"#ddd\" stroke-width=\"1\" opacity=\"1\"/><line transform=\"translate(76,-150)\" x2=\"0\" y2=\"150\" stroke=\"#ddd\" stroke-width=\"1\" opacity=\"1\"/><line transform=\"translate(108,-150)\" x2=\"0\" y2=\"150\" stroke=\"#ddd\" stroke-width=\"1\" opacity=\"1\"/><line transform=\"translate(140,-150)\" x2=\"0\" y2=\"150\" stroke=\"#ddd\" stroke-width=\"1\" opacity=\"1\"/><line transform=\"translate(172,-150)\" x2=\"0\" y2=\"150\" stroke=\"#ddd\" stroke-width=\"1\" opacity=\"1\"/><line transform=\"translate(204,-150)\" x2=\"0\" y2=\"150\" stroke=\"#ddd\" stroke-width=\"1\" opacity=\"1\"/><line transform=\"translate(236,-150)\" x2=\"0\" y2=\"150\" stroke=\"#ddd\" stroke-width=\"1\" opacity=\"1\"/><line transform=\"translate(268,-150)\" x2=\"0\" y2=\"150\" stroke=\"#ddd\" stroke-width=\"1\" opacity=\"1\"/></g></g><path class=\"foreground\" aria-hidden=\"true\" d=\"\" pointer-events=\"none\" display=\"none\"/></g></g><g class=\"mark-group role-axis\" aria-hidden=\"true\"><g transform=\"translate(0.5,0.5)\"><path class=\"background\" aria-hidden=\"true\" d=\"M0,0h0v0h0Z\" pointer-events=\"none\"/><g><g class=\"mark-rule role-axis-grid\" pointer-events=\"none\"><line transform=\"translate(0,135)\" x2=\"300\" y2=\"0\" stroke=\"#ddd\" stroke-width=\"1\" opacity=\"1\"/><line transform=\"translate(0,105)\" x2=\"300\" y2=\"0\" stroke=\"#ddd\" stroke-width=\"1\" opacity=\"1\"/><line transform=\"translate(0,75)\" x2=\"300\" y2=\"0\" stroke=\"#ddd\" stroke-width=\"1\" opacity=\"1\"/><line transform=\"translate(0,45)\" x2=\"300\" y2=\"0\" stroke=\"#ddd\" stroke-width=\"1\" opacity=\"1\"/><line transform=\"translate(0,15)\" x2=\"300\" y2=\"0\" stroke=\"#ddd\" stroke-width=\"1\" opacity=\"1\"/></g></g><path class=\"foreground\" aria-hidden=\"true\" d=\"\" pointer-events=\"none\" display=\"none\"/></g></g><g class=\"mark-area role-mark child_layer_0_layer_0_marks\" role=\"graphics-object\" aria-roledescription=\"area mark container\"><path aria-label=\"NYC Price Index: 1; upper_ci₀: 1; dates: Mar 30, 2003; ci₁: 1; ci₀: 1\" role=\"graphics-symbol\" aria-roledescription=\"errorband\" d=\"M0,135L3.985401459854015,129.49730251162637L8.014598540145986,126.53877435855485L12.043795620437956,123.49095961868952L16.029197080291972,121.08394558355299L20.014598540145982,118.38159561908387L24.043795620437955,115.24662771787285L28.07299270072993,115.01587343352264L32.01459854014598,111.19289515509729L36,106.95289967435238L40.029197080291965,104.26608612600116L44.058394160583944,103.01832061792875L48,101.32882528518873L51.98540145985401,96.81140604350699L56.01459854014598,92.92310769663476L60.04379562043796,92.46141356597839L63.98540145985402,91.81259450561635L67.97080291970804,92.72490236168342L72,93.2971088350282L76.02919708029196,92.10820078585823L80.01459854014598,93.95489719238151L84.00000000000001,95.98694998465042L88.02919708029198,100.88437094082762L92.05839416058394,107.30490261840545L96,106.9902387905026L99.985401459854,109.5457765814553L104.014598540146,114.05252045122023L108.04379562043796,113.96170854886374L111.98540145985402,116.65170704767243L115.97080291970802,113.60756953766918L120,111.18310226706743L124.02919708029198,115.47268995939277L127.97080291970804,115.4174371103283L131.95620437956202,114.00467297647522L135.98540145985402,117.09624895418342L140.01459854014598,115.53773901647168L144,112.66679881070142L147.98540145985402,108.5882493148714L152.01459854014598,107.35527079835914L156.04379562043795,111.37534121247658L159.98540145985402,107.73990894067683L163.970802919708,109.86740316529355L168.00000000000003,103.49592345880151L172.029197080292,106.55874067861025L175.97080291970804,101.2506443621573L179.95620437956205,99.40688137465435L183.98540145985402,103.74705998831561L188.01459854014598,99.56142714036872L191.95620437956205,99.57114752045608L195.94160583941604,99.01151447628091L199.970802919708,96.32677999842004L204.00000000000003,96.37998548718916L207.985401459854,93.28144122415087L211.97080291970804,91.87700672418855L216,92.37470133888371L220.02919708029196,95.00353850057675L223.97080291970804,87.77407794335798L227.95620437956205,84.29024489529631L231.98540145985402,87.52772682833869L236.01459854014598,77.937436914166L239.95620437956202,79.18100178076172L243.94160583941604,67.71572811165817L247.97080291970804,74.24346063268614L252,63.74708927972137L255.94160583941607,67.56054742930306L259.9270072992701,60.186298261864316L263.95620437956205,62.007658856881115L267.985401459854,56.81486043798651L271.97080291970804,49.86700740192651L275.95620437956205,51.06043756462699L279.985401459854,49.30451606615592L284.014598540146,47.93906058308872L287.95620437956205,41.21747587450572L291.94160583941607,29.034977897574777L295.97080291970804,20.595981984693957L300,10.047646618778227L300,91.21050870914817L295.97080291970804,91.76957526277405L291.94160583941607,93.92134128014742L287.95620437956205,98.22906530350541L284.014598540146,98.07886158588788L279.985401459854,97.85474949638588L275.95620437956205,97.62848602463696L271.97080291970804,100.45389287277543L267.985401459854,102.09502073203778L263.95620437956205,103.52816137922896L259.9270072992701,102.3252021419687L255.94160583941607,105.64330372885864L252,103.85734502360587L247.97080291970804,104.66797782503484L243.94160583941604,105.92086853458828L239.95620437956202,108.46179520887885L236.01459854014598,107.1688362804499L231.98540145985402,108.5491664523573L227.95620437956205,111.1156540320772L223.97080291970804,111.81473971322431L220.02919708029196,111.32213022304519L216,112.9355666177344L211.97080291970804,114.1979458903581L207.985401459854,113.78739402935736L204.00000000000003,115.18559845845348L199.970802919708,116.27679787131308L195.94160583941604,118.03237504628507L191.95620437956205,118.51473382255176L188.01459854014598,116.98333966210355L183.98540145985402,118.63423886316518L179.95620437956205,119.56196648842099L175.97080291970804,120.02234199500754L172.029197080292,120.91970480629446L168.00000000000003,121.11827856081231L163.970802919708,123.13063046704768L159.98540145985402,124.0969616312761L156.04379562043795,125.42493285433648L152.01459854014598,124.77060429267456L147.98540145985402,124.7297405205908L144,127.76205277784372L140.01459854014598,127.602720600337L135.98540145985402,126.38253887211408L131.95620437956202,127.20690213447033L127.97080291970804,127.39177282104619L124.02919708029198,127.54022429713854L120,124.81413623823676L115.97080291970802,126.17608990158523L111.98540145985402,126.23804367683114L108.04379562043796,125.22309869097708L104.014598540146,125.21135225230547L99.985401459854,125.38326509481878L96,123.82539078173409L92.05839416058394,121.69134847932516L88.02919708029198,120.44800077050462L84.00000000000001,118.64145965093853L80.01459854014598,117.90136415650298L76.02919708029196,116.71960757367746L72,116.18882513126388L67.97080291970804,114.56289557375474L63.98540145985402,114.43422734731509L60.04379562043796,112.98928444927819L56.01459854014598,113.5572270482466L51.98540145985401,116.24625901347703L48,116.64494897559831L44.058394160583944,118.87941332777714L40.029197080291965,120.23526962630473L36,122.37235474939216L32.01459854014598,124.67377068932774L28.07299270072993,125.93434396909689L24.043795620437955,127.1160603356261L20.014598540145982,129.2223601715841L16.029197080291972,130.72070814822905L12.043795620437956,131.60047997469323L8.014598540145986,132.62759384253755L3.985401459854015,134.01491643773466L0,135Z\" fill=\"#4c78a8\" opacity=\"0.3\"/></g><g class=\"mark-line role-mark child_layer_1_marks\" role=\"graphics-object\" aria-roledescription=\"line mark container\"><path aria-label=\"dates: Mar 30, 2003; NYC Price Index: 1\" role=\"graphics-symbol\" aria-roledescription=\"line mark\" d=\"M0,135L3.985401459854015,131.9095875669169L8.014598540145986,129.84487986403448L12.043795620437956,127.98468378189853L16.029197080291972,126.49614220887446L20.014598540145982,124.51513213235158L24.043795620437955,121.98513083591924L28.07299270072993,121.1444702390869L32.01459854014598,118.89863393274008L36,115.84345758522086L40.029197080291965,113.45929445831315L44.058394160583944,112.11246081381857L48,110.03389038053433L51.98540145985401,108.14378878085522L56.01459854014598,104.96364549447567L60.04379562043796,104.41702241039471L63.98540145985402,105.19098721051263L67.97080291970804,105.58705514741001L72,106.91711433471232L76.02919708029196,106.91332808171714L80.01459854014598,108.35497650906213L84.00000000000001,109.53843873274214L88.02919708029198,112.42722370171131L92.05839416058394,115.52269061084849L96,116.83657992998889L99.985401459854,118.78367258980464L104.014598540146,120.31809924451036L108.04379562043796,120.2906287961187L111.98540145985402,121.97235548503798L115.97080291970802,120.76732357781472L120,118.98691515039366L124.02919708029198,122.34350887995977L127.97080291970804,122.22685187731702L131.95620437956202,121.58732796999197L135.98540145985402,122.23774095587588L140.01459854014598,122.40815607405597L144,121.4864129038148L147.98540145985402,118.0064417586734L152.01459854014598,117.61234522093832L156.04379562043795,119.45910487546072L159.98540145985402,117.28123399808943L163.970802919708,117.40576749889L168.00000000000003,113.78048454578945L172.029197080292,114.74504679404858L175.97080291970804,112.25695814038437L179.95620437956205,111.3137639326313L183.98540145985402,112.22034079204815L188.01459854014598,109.61001687728101L191.95620437956205,110.64622123293523L195.94160583941604,110.12342136708295L199.970802919708,107.99691390505993L204.00000000000003,107.27581693552587L207.985401459854,105.24470037448737L211.97080291970804,105.047660429738L216,104.35033844337266L220.02919708029196,104.2394378617301L223.97080291970804,102.0102978645977L227.95620437956205,100.37618168419614L231.98540145985402,99.68827740776165L236.01459854014598,95.50176221330472L239.95620437956202,96.8327138538249L243.94160583941604,91.48573559881862L247.97080291970804,92.51899297023004L252,88.75565479307325L255.94160583941607,91.22670857944098L259.9270072992701,86.5566730249702L263.95620437956205,88.00902746100246L267.985401459854,85.44679134260177L271.97080291970804,82.2815704723069L275.95620437956205,80.32474490888916L279.985401459854,80.02547531570922L284.014598540146,79.8411473339263L287.95620437956205,78.25190436273624L291.94160583941607,71.64567626044995L295.97080291970804,67.82082707793403L300,65.02830180273892\" stroke=\"#4c78a8\" stroke-width=\"2\"/></g></g><path class=\"foreground\" aria-hidden=\"true\" d=\"\" display=\"none\"/></g><g transform=\"translate(0,516)\"><path class=\"background\" aria-hidden=\"true\" d=\"M0.5,0.5h300v150h-300Z\" stroke=\"#ddd\"/><g/><path class=\"foreground\" aria-hidden=\"true\" d=\"\" display=\"none\"/></g><g transform=\"translate(326,516)\"><path class=\"background\" aria-hidden=\"true\" d=\"M0.5,0.5h300v150h-300Z\" stroke=\"#ddd\"/><g><g class=\"mark-group role-axis\" aria-hidden=\"true\"><g transform=\"translate(0.5,150.5)\"><path class=\"background\" aria-hidden=\"true\" d=\"M0,0h0v0h0Z\" pointer-events=\"none\"/><g><g class=\"mark-rule role-axis-grid\" pointer-events=\"none\"><line transform=\"translate(12,-150)\" x2=\"0\" y2=\"150\" stroke=\"#ddd\" stroke-width=\"1\" opacity=\"1\"/><line transform=\"translate(44,-150)\" x2=\"0\" y2=\"150\" stroke=\"#ddd\" stroke-width=\"1\" opacity=\"1\"/><line transform=\"translate(76,-150)\" x2=\"0\" y2=\"150\" stroke=\"#ddd\" stroke-width=\"1\" opacity=\"1\"/><line transform=\"translate(108,-150)\" x2=\"0\" y2=\"150\" stroke=\"#ddd\" stroke-width=\"1\" opacity=\"1\"/><line transform=\"translate(140,-150)\" x2=\"0\" y2=\"150\" stroke=\"#ddd\" stroke-width=\"1\" opacity=\"1\"/><line transform=\"translate(172,-150)\" x2=\"0\" y2=\"150\" stroke=\"#ddd\" stroke-width=\"1\" opacity=\"1\"/><line transform=\"translate(204,-150)\" x2=\"0\" y2=\"150\" stroke=\"#ddd\" stroke-width=\"1\" opacity=\"1\"/><line transform=\"translate(236,-150)\" x2=\"0\" y2=\"150\" stroke=\"#ddd\" stroke-width=\"1\" opacity=\"1\"/><line transform=\"translate(268,-150)\" x2=\"0\" y2=\"150\" stroke=\"#ddd\" stroke-width=\"1\" opacity=\"1\"/></g></g><path class=\"foreground\" aria-hidden=\"true\" d=\"\" pointer-events=\"none\" display=\"none\"/></g></g><g class=\"mark-group role-axis\" aria-hidden=\"true\"><g transform=\"translate(0.5,0.5)\"><path class=\"background\" aria-hidden=\"true\" d=\"M0,0h0v0h0Z\" pointer-events=\"none\"/><g><g class=\"mark-rule role-axis-grid\" pointer-events=\"none\"><line transform=\"translate(0,135)\" x2=\"300\" y2=\"0\" stroke=\"#ddd\" stroke-width=\"1\" opacity=\"1\"/><line transform=\"translate(0,105)\" x2=\"300\" y2=\"0\" stroke=\"#ddd\" stroke-width=\"1\" opacity=\"1\"/><line transform=\"translate(0,75)\" x2=\"300\" y2=\"0\" stroke=\"#ddd\" stroke-width=\"1\" opacity=\"1\"/><line transform=\"translate(0,45)\" x2=\"300\" y2=\"0\" stroke=\"#ddd\" stroke-width=\"1\" opacity=\"1\"/><line transform=\"translate(0,15)\" x2=\"300\" y2=\"0\" stroke=\"#ddd\" stroke-width=\"1\" opacity=\"1\"/></g></g><path class=\"foreground\" aria-hidden=\"true\" d=\"\" pointer-events=\"none\" display=\"none\"/></g></g><g class=\"mark-area role-mark child_layer_0_layer_0_marks\" role=\"graphics-object\" aria-roledescription=\"area mark container\"><path aria-label=\"NYC Price Index: 1; upper_ci₀: 1; dates: Mar 30, 2003; ci₁: 1; ci₀: 1\" role=\"graphics-symbol\" aria-roledescription=\"errorband\" d=\"M0,135L3.985401459854015,113.54978818202999L8.014598540145986,109.07679986099049L12.043795620437956,108.48301499873997L16.029197080291972,106.80716228379652L20.014598540145982,107.29868154950931L24.043795620437955,99.31548033718498L28.07299270072993,102.04528780708813L32.01459854014598,94.89850892241498L36,92.6810932109874L40.029197080291965,89.44320973506633L44.058394160583944,85.97726454407943L48,87.36930888578118L51.98540145985401,84.21825815301594L56.01459854014598,82.8004978662403L60.04379562043796,80.55121952409648L63.98540145985402,84.8049069013203L67.97080291970804,82.70013234286353L72,80.03932591770617L76.02919708029196,84.32254739107776L80.01459854014598,88.26485410074511L84.00000000000001,89.13504543666568L88.02919708029198,83.57313274453946L92.05839416058394,89.87109680065234L96,91.82559348404709L99.985401459854,91.68762162015106L104.014598540146,95.4278562532451L108.04379562043796,92.47972012360252L111.98540145985402,87.93554412683623L115.97080291970802,91.75983986163226L120,89.57026180824448L124.02919708029198,87.95185803069522L131.95620437956202,89.78179823128701L135.98540145985402,86.88387461872712L140.01459854014598,90.5293607743978L144,92.93931042527332L147.98540145985402,95.42895453510654L152.01459854014598,91.29385725636162L156.04379562043795,99.67280951920287L159.98540145985402,88.35017387889482L163.970802919708,93.7131559401703L168.00000000000003,89.26097742935796L172.029197080292,96.66384272497721L175.97080291970804,89.13610034169363L179.95620437956205,89.7283761038099L183.98540145985402,87.87448539185021L188.01459854014598,88.22180878090914L191.95620437956205,89.63848758901204L195.94160583941604,87.31261536445216L199.970802919708,83.55382270967716L204.00000000000003,86.32921271661532L207.985401459854,79.21029421249088L211.97080291970804,86.59199776793788L216,79.19623363450835L220.02919708029196,74.5955442678771L223.97080291970804,73.65388716469324L227.95620437956205,69.37083453764508L231.98540145985402,74.32494858556443L236.01459854014598,62.702595981904246L239.95620437956202,63.85379504007474L243.94160583941604,65.84850987553082L247.97080291970804,62.151249438627026L252,56.339268842101596L255.94160583941607,65.32752328302743L259.9270072992701,50.377425496893046L263.95620437956205,55.20435767451398L267.985401459854,53.20853870294079L271.97080291970804,50.695060162630824L275.95620437956205,53.55870534981864L279.985401459854,59.44601386965992L284.014598540146,57.091051903356274L287.95620437956205,47.19538017225934L291.94160583941607,40.226796953980646L295.97080291970804,31.86892777183675L300,27.261132367090124L300,66.13213339062779L295.97080291970804,72.03598671531799L291.94160583941607,72.5771403804827L287.95620437956205,76.7613496000361L284.014598540146,78.06096826534468L279.985401459854,79.98835459705035L275.95620437956205,77.56401626696781L271.97080291970804,78.80027323550473L267.985401459854,77.9413165441233L263.95620437956205,81.16857986867821L259.9270072992701,77.99463486730998L255.94160583941607,82.64711453886484L252,81.35583819261905L247.97080291970804,82.78066895097702L243.94160583941604,85.17217855866045L239.95620437956202,85.15689511649481L236.01459854014598,87.28992208433915L231.98540145985402,88.43723832814273L227.95620437956205,88.76943546654115L223.97080291970804,91.37027878797649L220.02919708029196,90.2879442840594L216,94.59661298998047L211.97080291970804,96.93986185400664L207.985401459854,97.71538935411253L204.00000000000003,97.14898070594987L199.970802919708,97.99757152565743L195.94160583941604,101.22238663597287L191.95620437956205,103.21413505454869L188.01459854014598,102.5553046692744L183.98540145985402,102.27179585909201L179.95620437956205,104.45686738565641L175.97080291970804,103.77723473620173L172.029197080292,105.21085110249889L168.00000000000003,102.99407302289607L163.970802919708,107.1368708182184L159.98540145985402,106.83182582682971L156.04379562043795,108.30226024732244L152.01459854014598,105.56731246971185L147.98540145985402,107.70636212180312L144,107.97877950844988L140.01459854014598,106.17810974151574L135.98540145985402,106.14857246673357L131.95620437956202,106.56502290055747L124.02919708029198,104.95360223120078L120,105.21137066798548L115.97080291970802,105.12692004403453L111.98540145985402,104.18542845675651L108.04379562043796,105.84100476730602L104.014598540146,106.23378111096115L99.985401459854,106.5728395596837L96,106.04125746439709L92.05839416058394,102.99638718488634L88.02919708029198,100.55736398541929L84.00000000000001,102.71150035445166L80.01459854014598,100.38719320607488L76.02919708029196,100.15134560892008L72,96.7384243041719L67.97080291970804,97.9041287682362L63.98540145985402,97.21057677997985L60.04379562043796,96.57009124837172L56.01459854014598,95.67076637806396L51.98540145985401,97.28908236010658L48,98.49005270827506L44.058394160583944,97.99143307807734L40.029197080291965,98.88392754650077L36,101.30774976029265L32.01459854014598,104.12298414237718L28.07299270072993,106.01215274400298L24.043795620437955,106.89317354687712L20.014598540145982,110.87025226168042L16.029197080291972,112.0295629359029L12.043795620437956,112.89740619846995L8.014598540145986,114.40917788002051L3.985401459854015,114.72181457950816L0,135Z\" fill=\"#4c78a8\" opacity=\"0.3\"/></g><g class=\"mark-line role-mark child_layer_1_marks\" role=\"graphics-object\" aria-roledescription=\"line mark container\"><path aria-label=\"dates: Mar 30, 2003; NYC Price Index: 1\" role=\"graphics-symbol\" aria-roledescription=\"line mark\" d=\"M0,135L3.985401459854015,114.14255291678889L8.014598540145986,111.87646545290654L12.043795620437956,110.77991288745122L16.029197080291972,109.54103562674771L20.014598540145982,109.14149988304365L24.043795620437955,103.33625524793393L28.07299270072993,104.09324252888698L32.01459854014598,99.835574418569L36,97.26799905400067L40.029197080291965,94.47812130487515L44.058394160583944,92.47855876200327L48,93.35867481472228L51.98540145985401,91.32893924979982L56.01459854014598,89.78220769654845L60.04379562043796,89.39989678938637L63.98540145985402,91.52773085357775L67.97080291970804,91.07578551057725L72,89.29886007501791L76.02919708029196,93.09779153387716L80.01459854014598,94.84584407735201L84.00000000000001,96.5903576571745L88.02919708029198,93.0540229353214L92.05839416058394,97.06186890488804L96,99.69812798775776L99.985401459854,99.97116913840375L104.014598540146,101.28574116059062L108.04379562043796,99.83823649656128L111.98540145985402,97.0180602814152L115.97080291970802,99.1145334476929L120,98.29544292028248L124.02919708029198,97.5069636052046L131.95620437956202,99.22717012736548L135.98540145985402,97.87102829494252L140.01459854014598,99.27232891501957L144,101.33517714598604L147.98540145985402,102.16173515534538L152.01459854014598,99.19569419781288L156.04379562043795,104.29266687443264L159.98540145985402,98.85778714379907L163.970802919708,101.12263691175995L168.00000000000003,96.81211625904864L172.029197080292,101.22242468013599L175.97080291970804,97.23851899211365L179.95620437956205,97.89124061728035L183.98540145985402,95.81420976022213L188.01459854014598,96.12639914982944L191.95620437956205,97.09820971189524L195.94160583941604,94.95135120896381L199.970802919708,91.47837087733149L204.00000000000003,92.13858461713625L207.985401459854,89.58137869458514L211.97080291970804,92.13146422298625L216,87.65558087695051L220.02919708029196,83.1874341409862L223.97080291970804,83.46334512318813L227.95620437956205,80.16493981182875L231.98540145985402,81.97652315694096L236.01459854014598,76.67545758190742L239.95620437956202,75.7590712603962L243.94160583941604,76.55349319366904L247.97080291970804,73.61573322853422L252,70.47473193289403L255.94160583941607,74.81129266295487L259.9270072992701,66.07741055028644L263.95620437956205,69.92729163384011L267.985401459854,67.11304644286032L271.97080291970804,66.71745377499686L275.95620437956205,67.0101310171212L279.985401459854,70.82438220804998L284.014598540146,68.70442155828395L287.95620437956205,64.09963423709081L291.94160583941607,58.81118526851099L295.97080291970804,55.520408799245835L300,49.88959931197972\" stroke=\"#4c78a8\" stroke-width=\"2\"/></g></g><path class=\"foreground\" aria-hidden=\"true\" d=\"\" display=\"none\"/></g></g></g><path class=\"foreground\" aria-hidden=\"true\" d=\"\" display=\"none\"/></g></g></g></svg>\n"
      ],
      "text/plain": [
       "@vlplot(\n",
       "    facet={\n",
       "        row={\n",
       "            field=\"borough\"\n",
       "        },\n",
       "        column={\n",
       "            field=\"house_class\"\n",
       "        }\n",
       "    },\n",
       "    spec={\n",
       "        layer=[\n",
       "            {\n",
       "                mark=\"errorband\",\n",
       "                width=300,\n",
       "                height=150,\n",
       "                encoding={\n",
       "                    x={\n",
       "                        field=\"dates\"\n",
       "                    },\n",
       "                    y={\n",
       "                        title=\"NYC Price Index\",\n",
       "                        scale={\n",
       "                            zero=false\n",
       "                        },\n",
       "                        field=\"ci₀\"\n",
       "                    },\n",
       "                    y2={\n",
       "                        field=\"ci₁\"\n",
       "                    }\n",
       "                }\n",
       "            },\n",
       "            {\n",
       "                mark=\"line\",\n",
       "                encoding={\n",
       "                    x={\n",
       "                        field=\"dates\"\n",
       "                    },\n",
       "                    y={\n",
       "                        title=\"NYC Price Index\",\n",
       "                        scale={\n",
       "                            zero=false\n",
       "                        },\n",
       "                        field=\"index\"\n",
       "                    }\n",
       "                }\n",
       "            }\n",
       "        ]\n",
       "    },\n",
       "    data={\n",
       "        values=...\n",
       "    }\n",
       ")"
      ]
     },
     "execution_count": 181,
     "metadata": {},
     "output_type": "execute_result"
    }
   ],
   "source": [
    "gdf = groupby(df[((df.house_class .!= \"Coop\") \n",
    "            .& (df.borough .!= \"Bronx\")\n",
    "            .& .!((df.house_class .== \"SFH\") .& (df.borough .== \"Manhattan\")) \n",
    "            .& .!((df.house_class .== \"Condo\") .& (df.borough .== \"Staten Island\"))\n",
    "            ), :], [:borough, :house_class])\n",
    "idxb = combine(gdf) do sdf\n",
    "    calc_index(sdf)\n",
    "end\n",
    "\n",
    "idxb |> @vlplot(\n",
    "    facet = {row = {field = :borough},\n",
    "             column = {field = :house_class},\n",
    "    },\n",
    "    spec = {\n",
    "        layer = [\n",
    "            {\n",
    "                mark = :errorband,\n",
    "                x = :dates,\n",
    "                y = {\n",
    "                    :ci₀,\n",
    "                    title=\"NYC Price Index\",\n",
    "                    scale= {zero = false }\n",
    "                },\n",
    "                y2 =:ci₁,\n",
    "                width=300,\n",
    "                height=150\n",
    "            },\n",
    "            {\n",
    "                mark = :line,\n",
    "                x = :dates,\n",
    "                y = {\n",
    "                    :index,\n",
    "                    title=\"NYC Price Index\",\n",
    "                    scale= {zero = false }\n",
    "                }\n",
    "            }\n",
    "        ]\n",
    "     }\n",
    " )"
   ]
  },
  {
   "cell_type": "code",
   "execution_count": 152,
   "id": "circular-foundation",
   "metadata": {
    "scrolled": true
   },
   "outputs": [
    {
     "data": {
      "text/html": [
       "<div class=\"data-frame\"><p>905 rows × 8 columns (omitted printing of 1 columns)</p><table class=\"data-frame\"><thead><tr><th></th><th>borough</th><th>uid</th><th>neighborhood</th><th>block</th><th>lot</th><th>sale_price</th><th>sale_date</th></tr><tr><th></th><th title=\"String15\">String15</th><th title=\"String\">String</th><th title=\"String31\">String31</th><th title=\"Int64\">Int64</th><th title=\"Int64\">Int64</th><th title=\"Int64\">Int64</th><th title=\"Date\">Date</th></tr></thead><tbody><tr><th>1</th><td>Manhattan</td><td>1123_114</td><td>Upper West Side (59-79)</td><td>1123</td><td>114</td><td>15000000</td><td>2009-06-30</td></tr><tr><th>2</th><td>Manhattan</td><td>1123_114</td><td>Upper West Side (59-79)</td><td>1123</td><td>114</td><td>15000000</td><td>2017-12-31</td></tr><tr><th>3</th><td>Manhattan</td><td>1123_45</td><td>Upper West Side (59-79)</td><td>1123</td><td>45</td><td>13715675</td><td>2017-12-31</td></tr><tr><th>4</th><td>Manhattan</td><td>1123_45</td><td>Upper West Side (59-79)</td><td>1123</td><td>45</td><td>9500000</td><td>2018-12-31</td></tr><tr><th>5</th><td>Manhattan</td><td>1127_46</td><td>Upper West Side (59-79)</td><td>1127</td><td>46</td><td>14500000</td><td>2007-12-31</td></tr><tr><th>6</th><td>Manhattan</td><td>1127_46</td><td>Upper West Side (59-79)</td><td>1127</td><td>46</td><td>18850000</td><td>2010-09-30</td></tr><tr><th>7</th><td>Manhattan</td><td>1128_49</td><td>Upper West Side (59-79)</td><td>1128</td><td>49</td><td>13100000</td><td>2018-03-31</td></tr><tr><th>8</th><td>Manhattan</td><td>1128_49</td><td>Upper West Side (59-79)</td><td>1128</td><td>49</td><td>13900000</td><td>2021-09-30</td></tr><tr><th>9</th><td>Manhattan</td><td>1128_59</td><td>Upper West Side (59-79)</td><td>1128</td><td>59</td><td>7500000</td><td>2010-03-31</td></tr><tr><th>10</th><td>Manhattan</td><td>1128_59</td><td>Upper West Side (59-79)</td><td>1128</td><td>59</td><td>18500000</td><td>2015-09-30</td></tr><tr><th>11</th><td>Manhattan</td><td>1142_39</td><td>Upper West Side (59-79)</td><td>1142</td><td>39</td><td>11800000</td><td>2013-03-31</td></tr><tr><th>12</th><td>Manhattan</td><td>1142_39</td><td>Upper West Side (59-79)</td><td>1142</td><td>39</td><td>10500000</td><td>2020-12-31</td></tr><tr><th>13</th><td>Manhattan</td><td>1182_117</td><td>Upper West Side (59-79)</td><td>1182</td><td>117</td><td>3465000</td><td>2003-12-31</td></tr><tr><th>14</th><td>Manhattan</td><td>1182_117</td><td>Upper West Side (59-79)</td><td>1182</td><td>117</td><td>4650000</td><td>2007-12-31</td></tr><tr><th>15</th><td>Manhattan</td><td>1182_117</td><td>Upper West Side (59-79)</td><td>1182</td><td>117</td><td>4550000</td><td>2009-06-30</td></tr><tr><th>16</th><td>Manhattan</td><td>1198_108</td><td>Upper West Side (79-96)</td><td>1198</td><td>108</td><td>10700000</td><td>2012-09-30</td></tr><tr><th>17</th><td>Manhattan</td><td>1198_108</td><td>Upper West Side (79-96)</td><td>1198</td><td>108</td><td>8750000</td><td>2019-03-31</td></tr><tr><th>18</th><td>Manhattan</td><td>1198_34</td><td>Upper West Side (79-96)</td><td>1198</td><td>34</td><td>15500000</td><td>2006-12-31</td></tr><tr><th>19</th><td>Manhattan</td><td>1198_34</td><td>Upper West Side (79-96)</td><td>1198</td><td>34</td><td>22375000</td><td>2011-12-31</td></tr><tr><th>20</th><td>Manhattan</td><td>1198_34</td><td>Upper West Side (79-96)</td><td>1198</td><td>34</td><td>25000000</td><td>2015-03-31</td></tr><tr><th>21</th><td>Manhattan</td><td>1198_35</td><td>Upper West Side (79-96)</td><td>1198</td><td>35</td><td>7500000</td><td>2004-03-31</td></tr><tr><th>22</th><td>Manhattan</td><td>1198_35</td><td>Upper West Side (79-96)</td><td>1198</td><td>35</td><td>16250000</td><td>2019-06-30</td></tr><tr><th>23</th><td>Manhattan</td><td>1202_22</td><td>Upper West Side (79-96)</td><td>1202</td><td>22</td><td>6550000</td><td>2007-09-30</td></tr><tr><th>24</th><td>Manhattan</td><td>1202_22</td><td>Upper West Side (79-96)</td><td>1202</td><td>22</td><td>5350000</td><td>2011-09-30</td></tr><tr><th>25</th><td>Manhattan</td><td>1209_15</td><td>Upper West Side (79-96)</td><td>1209</td><td>15</td><td>5750000</td><td>2010-09-30</td></tr><tr><th>26</th><td>Manhattan</td><td>1209_15</td><td>Upper West Side (79-96)</td><td>1209</td><td>15</td><td>6999999</td><td>2013-03-31</td></tr><tr><th>27</th><td>Manhattan</td><td>1216_21</td><td>Upper West Side (79-96)</td><td>1216</td><td>21</td><td>4150000</td><td>2005-06-30</td></tr><tr><th>28</th><td>Manhattan</td><td>1216_21</td><td>Upper West Side (79-96)</td><td>1216</td><td>21</td><td>8000000</td><td>2007-09-30</td></tr><tr><th>29</th><td>Manhattan</td><td>1216_21</td><td>Upper West Side (79-96)</td><td>1216</td><td>21</td><td>7100000</td><td>2020-06-30</td></tr><tr><th>30</th><td>Manhattan</td><td>1218_13</td><td>Upper West Side (79-96)</td><td>1218</td><td>13</td><td>3305000</td><td>2003-03-31</td></tr><tr><th>&vellip;</th><td>&vellip;</td><td>&vellip;</td><td>&vellip;</td><td>&vellip;</td><td>&vellip;</td><td>&vellip;</td><td>&vellip;</td></tr></tbody></table></div>"
      ],
      "text/latex": [
       "\\begin{tabular}{r|cccccccc}\n",
       "\t& borough & uid & neighborhood & block & lot & sale\\_price & sale\\_date & \\\\\n",
       "\t\\hline\n",
       "\t& String15 & String & String31 & Int64 & Int64 & Int64 & Date & \\\\\n",
       "\t\\hline\n",
       "\t1 & Manhattan & 1123\\_114 & Upper West Side (59-79) & 1123 & 114 & 15000000 & 2009-06-30 & $\\dots$ \\\\\n",
       "\t2 & Manhattan & 1123\\_114 & Upper West Side (59-79) & 1123 & 114 & 15000000 & 2017-12-31 & $\\dots$ \\\\\n",
       "\t3 & Manhattan & 1123\\_45 & Upper West Side (59-79) & 1123 & 45 & 13715675 & 2017-12-31 & $\\dots$ \\\\\n",
       "\t4 & Manhattan & 1123\\_45 & Upper West Side (59-79) & 1123 & 45 & 9500000 & 2018-12-31 & $\\dots$ \\\\\n",
       "\t5 & Manhattan & 1127\\_46 & Upper West Side (59-79) & 1127 & 46 & 14500000 & 2007-12-31 & $\\dots$ \\\\\n",
       "\t6 & Manhattan & 1127\\_46 & Upper West Side (59-79) & 1127 & 46 & 18850000 & 2010-09-30 & $\\dots$ \\\\\n",
       "\t7 & Manhattan & 1128\\_49 & Upper West Side (59-79) & 1128 & 49 & 13100000 & 2018-03-31 & $\\dots$ \\\\\n",
       "\t8 & Manhattan & 1128\\_49 & Upper West Side (59-79) & 1128 & 49 & 13900000 & 2021-09-30 & $\\dots$ \\\\\n",
       "\t9 & Manhattan & 1128\\_59 & Upper West Side (59-79) & 1128 & 59 & 7500000 & 2010-03-31 & $\\dots$ \\\\\n",
       "\t10 & Manhattan & 1128\\_59 & Upper West Side (59-79) & 1128 & 59 & 18500000 & 2015-09-30 & $\\dots$ \\\\\n",
       "\t11 & Manhattan & 1142\\_39 & Upper West Side (59-79) & 1142 & 39 & 11800000 & 2013-03-31 & $\\dots$ \\\\\n",
       "\t12 & Manhattan & 1142\\_39 & Upper West Side (59-79) & 1142 & 39 & 10500000 & 2020-12-31 & $\\dots$ \\\\\n",
       "\t13 & Manhattan & 1182\\_117 & Upper West Side (59-79) & 1182 & 117 & 3465000 & 2003-12-31 & $\\dots$ \\\\\n",
       "\t14 & Manhattan & 1182\\_117 & Upper West Side (59-79) & 1182 & 117 & 4650000 & 2007-12-31 & $\\dots$ \\\\\n",
       "\t15 & Manhattan & 1182\\_117 & Upper West Side (59-79) & 1182 & 117 & 4550000 & 2009-06-30 & $\\dots$ \\\\\n",
       "\t16 & Manhattan & 1198\\_108 & Upper West Side (79-96) & 1198 & 108 & 10700000 & 2012-09-30 & $\\dots$ \\\\\n",
       "\t17 & Manhattan & 1198\\_108 & Upper West Side (79-96) & 1198 & 108 & 8750000 & 2019-03-31 & $\\dots$ \\\\\n",
       "\t18 & Manhattan & 1198\\_34 & Upper West Side (79-96) & 1198 & 34 & 15500000 & 2006-12-31 & $\\dots$ \\\\\n",
       "\t19 & Manhattan & 1198\\_34 & Upper West Side (79-96) & 1198 & 34 & 22375000 & 2011-12-31 & $\\dots$ \\\\\n",
       "\t20 & Manhattan & 1198\\_34 & Upper West Side (79-96) & 1198 & 34 & 25000000 & 2015-03-31 & $\\dots$ \\\\\n",
       "\t21 & Manhattan & 1198\\_35 & Upper West Side (79-96) & 1198 & 35 & 7500000 & 2004-03-31 & $\\dots$ \\\\\n",
       "\t22 & Manhattan & 1198\\_35 & Upper West Side (79-96) & 1198 & 35 & 16250000 & 2019-06-30 & $\\dots$ \\\\\n",
       "\t23 & Manhattan & 1202\\_22 & Upper West Side (79-96) & 1202 & 22 & 6550000 & 2007-09-30 & $\\dots$ \\\\\n",
       "\t24 & Manhattan & 1202\\_22 & Upper West Side (79-96) & 1202 & 22 & 5350000 & 2011-09-30 & $\\dots$ \\\\\n",
       "\t25 & Manhattan & 1209\\_15 & Upper West Side (79-96) & 1209 & 15 & 5750000 & 2010-09-30 & $\\dots$ \\\\\n",
       "\t26 & Manhattan & 1209\\_15 & Upper West Side (79-96) & 1209 & 15 & 6999999 & 2013-03-31 & $\\dots$ \\\\\n",
       "\t27 & Manhattan & 1216\\_21 & Upper West Side (79-96) & 1216 & 21 & 4150000 & 2005-06-30 & $\\dots$ \\\\\n",
       "\t28 & Manhattan & 1216\\_21 & Upper West Side (79-96) & 1216 & 21 & 8000000 & 2007-09-30 & $\\dots$ \\\\\n",
       "\t29 & Manhattan & 1216\\_21 & Upper West Side (79-96) & 1216 & 21 & 7100000 & 2020-06-30 & $\\dots$ \\\\\n",
       "\t30 & Manhattan & 1218\\_13 & Upper West Side (79-96) & 1218 & 13 & 3305000 & 2003-03-31 & $\\dots$ \\\\\n",
       "\t$\\dots$ & $\\dots$ & $\\dots$ & $\\dots$ & $\\dots$ & $\\dots$ & $\\dots$ & $\\dots$ &  \\\\\n",
       "\\end{tabular}\n"
      ],
      "text/plain": [
       "\u001b[1m905×8 DataFrame\u001b[0m\n",
       "\u001b[1m Row \u001b[0m│\u001b[1m borough   \u001b[0m\u001b[1m uid      \u001b[0m\u001b[1m neighborhood            \u001b[0m\u001b[1m block \u001b[0m\u001b[1m lot   \u001b[0m\u001b[1m sale_price \u001b[0m\u001b[1m\u001b[0m ⋯\n",
       "\u001b[1m     \u001b[0m│\u001b[90m String15  \u001b[0m\u001b[90m String   \u001b[0m\u001b[90m String31                \u001b[0m\u001b[90m Int64 \u001b[0m\u001b[90m Int64 \u001b[0m\u001b[90m Int64      \u001b[0m\u001b[90m\u001b[0m ⋯\n",
       "─────┼──────────────────────────────────────────────────────────────────────────\n",
       "   1 │ Manhattan  1123_114  Upper West Side (59-79)   1123    114    15000000  ⋯\n",
       "   2 │ Manhattan  1123_114  Upper West Side (59-79)   1123    114    15000000\n",
       "   3 │ Manhattan  1123_45   Upper West Side (59-79)   1123     45    13715675\n",
       "   4 │ Manhattan  1123_45   Upper West Side (59-79)   1123     45     9500000\n",
       "   5 │ Manhattan  1127_46   Upper West Side (59-79)   1127     46    14500000  ⋯\n",
       "   6 │ Manhattan  1127_46   Upper West Side (59-79)   1127     46    18850000\n",
       "   7 │ Manhattan  1128_49   Upper West Side (59-79)   1128     49    13100000\n",
       "   8 │ Manhattan  1128_49   Upper West Side (59-79)   1128     49    13900000\n",
       "   9 │ Manhattan  1128_59   Upper West Side (59-79)   1128     59     7500000  ⋯\n",
       "  10 │ Manhattan  1128_59   Upper West Side (59-79)   1128     59    18500000\n",
       "  11 │ Manhattan  1142_39   Upper West Side (59-79)   1142     39    11800000\n",
       "  ⋮  │     ⋮         ⋮                 ⋮               ⋮      ⋮        ⋮       ⋱\n",
       " 896 │ Manhattan  898_50    Flatiron                   898     50     3550000\n",
       " 897 │ Manhattan  898_50    Flatiron                   898     50     9900000  ⋯\n",
       " 898 │ Manhattan  906_30    Flatiron                   906     30     1400000\n",
       " 899 │ Manhattan  906_30    Flatiron                   906     30     2400500\n",
       " 900 │ Manhattan  909_33    Murray Hill                909     33     5100000\n",
       " 901 │ Manhattan  909_33    Murray Hill                909     33     7425000  ⋯\n",
       " 902 │ Manhattan  913_23    Murray Hill                913     23     3402000\n",
       " 903 │ Manhattan  913_23    Murray Hill                913     23     5200000\n",
       " 904 │ Manhattan  97_44     Financial                   97     44     1550000\n",
       " 905 │ Manhattan  97_44     Financial                   97     44     2131197  ⋯\n",
       "\u001b[36m                                                  2 columns and 884 rows omitted\u001b[0m"
      ]
     },
     "execution_count": 152,
     "metadata": {},
     "output_type": "execute_result"
    }
   ],
   "source": [
    "df[(df.house_class .== \"SFH\") .& (df.borough .== \"Manhattan\"), :]"
   ]
  },
  {
   "cell_type": "code",
   "execution_count": 9,
   "id": "miniature-ready",
   "metadata": {},
   "outputs": [],
   "source": [
    "@vlplot(\n",
    "    :geoshape,\n",
    "    width=500, height=300,\n",
    "    data={\n",
    "        url=URI(geojson),\n",
    "        format={\n",
    "            type=:topojson,\n",
    "            feature=:BORO\n",
    "        }\n",
    "    }, \n",
    "    mark={\n",
    "        :geoshape,\n",
    "        stroke=:black,\n",
    "        strokeWidth=2\n",
    "    },\n",
    "    projection={type=:albersUsa}\n",
    ") |> save(\"blocks.pdf\")"
   ]
  },
  {
   "cell_type": "code",
   "execution_count": 83,
   "id": "6a71b9e4",
   "metadata": {},
   "outputs": [
    {
     "data": {
      "text/html": [
       "<div class=\"data-frame\"><p>71 rows × 4 columns</p><table class=\"data-frame\"><thead><tr><th></th><th>borough</th><th>block</th><th>uid</th><th>sale_price</th></tr><tr><th></th><th title=\"String15\">String15</th><th title=\"Int64\">Int64</th><th title=\"String\">String</th><th title=\"Float64\">Float64</th></tr></thead><tbody><tr><th>1</th><td>Manhattan</td><td>1056</td><td>1056_2a</td><td>-0.1854</td></tr><tr><th>2</th><td>Brooklyn</td><td>1059</td><td>1059_4</td><td>0.263441</td></tr><tr><th>3</th><td>Brooklyn</td><td>1063</td><td>1063_3</td><td>0.0855615</td></tr><tr><th>4</th><td>Queens</td><td>11051</td><td>11051_85</td><td>0.195431</td></tr><tr><th>5</th><td>Queens</td><td>11227</td><td>11227_66</td><td>0.924322</td></tr><tr><th>6</th><td>Staten Island</td><td>1123</td><td>1123_25</td><td>0.761895</td></tr><tr><th>7</th><td>Queens</td><td>11332</td><td>11332_17</td><td>0.548889</td></tr><tr><th>8</th><td>Manhattan</td><td>1158</td><td>1158_7h</td><td>-0.375439</td></tr><tr><th>9</th><td>Manhattan</td><td>1197</td><td>1197_3f</td><td>-0.372727</td></tr><tr><th>10</th><td>Queens</td><td>12186</td><td>12186_18</td><td>0.628571</td></tr><tr><th>11</th><td>Queens</td><td>12359</td><td>12359_3</td><td>2.05742</td></tr><tr><th>12</th><td>Queens</td><td>12362</td><td>12362_45</td><td>1.50667</td></tr><tr><th>13</th><td>Queens</td><td>12366</td><td>12366_6</td><td>1.10909</td></tr><tr><th>14</th><td>Manhattan</td><td>123</td><td>123_1030</td><td>0.1996</td></tr><tr><th>15</th><td>Queens</td><td>12571</td><td>12571_74</td><td>0.621622</td></tr><tr><th>16</th><td>Staten Island</td><td>1260</td><td>1260_154</td><td>1.44</td></tr><tr><th>17</th><td>Queens</td><td>1278</td><td>1278_22</td><td>0.0735294</td></tr><tr><th>18</th><td>Queens</td><td>12892</td><td>12892_3</td><td>2.76984</td></tr><tr><th>19</th><td>Queens</td><td>1332</td><td>1332_96</td><td>0.254167</td></tr><tr><th>20</th><td>Queens</td><td>13575</td><td>13575_4</td><td>1.58586</td></tr><tr><th>21</th><td>Queens</td><td>13649</td><td>13649_47</td><td>0.739683</td></tr><tr><th>22</th><td>Staten Island</td><td>141</td><td>141_40</td><td>0.0714286</td></tr><tr><th>23</th><td>Manhattan</td><td>1527</td><td>1527_1127</td><td>0.248187</td></tr><tr><th>24</th><td>Queens</td><td>16340</td><td>16340_50</td><td>0.631579</td></tr><tr><th>25</th><td>Queens</td><td>16350</td><td>16350_300</td><td>-0.316239</td></tr><tr><th>26</th><td>Queens</td><td>16350</td><td>16350_400</td><td>1.0375</td></tr><tr><th>27</th><td>Brooklyn</td><td>1734</td><td>1734_1306</td><td>0.454376</td></tr><tr><th>28</th><td>Queens</td><td>2186</td><td>2186_3c</td><td>0.0313901</td></tr><tr><th>29</th><td>Brooklyn</td><td>2250</td><td>2250_1013</td><td>0.16129</td></tr><tr><th>30</th><td>Queens</td><td>2296</td><td>2296_8</td><td>0.857143</td></tr><tr><th>&vellip;</th><td>&vellip;</td><td>&vellip;</td><td>&vellip;</td><td>&vellip;</td></tr></tbody></table></div>"
      ],
      "text/latex": [
       "\\begin{tabular}{r|cccc}\n",
       "\t& borough & block & uid & sale\\_price\\\\\n",
       "\t\\hline\n",
       "\t& String15 & Int64 & String & Float64\\\\\n",
       "\t\\hline\n",
       "\t1 & Manhattan & 1056 & 1056\\_2a & -0.1854 \\\\\n",
       "\t2 & Brooklyn & 1059 & 1059\\_4 & 0.263441 \\\\\n",
       "\t3 & Brooklyn & 1063 & 1063\\_3 & 0.0855615 \\\\\n",
       "\t4 & Queens & 11051 & 11051\\_85 & 0.195431 \\\\\n",
       "\t5 & Queens & 11227 & 11227\\_66 & 0.924322 \\\\\n",
       "\t6 & Staten Island & 1123 & 1123\\_25 & 0.761895 \\\\\n",
       "\t7 & Queens & 11332 & 11332\\_17 & 0.548889 \\\\\n",
       "\t8 & Manhattan & 1158 & 1158\\_7h & -0.375439 \\\\\n",
       "\t9 & Manhattan & 1197 & 1197\\_3f & -0.372727 \\\\\n",
       "\t10 & Queens & 12186 & 12186\\_18 & 0.628571 \\\\\n",
       "\t11 & Queens & 12359 & 12359\\_3 & 2.05742 \\\\\n",
       "\t12 & Queens & 12362 & 12362\\_45 & 1.50667 \\\\\n",
       "\t13 & Queens & 12366 & 12366\\_6 & 1.10909 \\\\\n",
       "\t14 & Manhattan & 123 & 123\\_1030 & 0.1996 \\\\\n",
       "\t15 & Queens & 12571 & 12571\\_74 & 0.621622 \\\\\n",
       "\t16 & Staten Island & 1260 & 1260\\_154 & 1.44 \\\\\n",
       "\t17 & Queens & 1278 & 1278\\_22 & 0.0735294 \\\\\n",
       "\t18 & Queens & 12892 & 12892\\_3 & 2.76984 \\\\\n",
       "\t19 & Queens & 1332 & 1332\\_96 & 0.254167 \\\\\n",
       "\t20 & Queens & 13575 & 13575\\_4 & 1.58586 \\\\\n",
       "\t21 & Queens & 13649 & 13649\\_47 & 0.739683 \\\\\n",
       "\t22 & Staten Island & 141 & 141\\_40 & 0.0714286 \\\\\n",
       "\t23 & Manhattan & 1527 & 1527\\_1127 & 0.248187 \\\\\n",
       "\t24 & Queens & 16340 & 16340\\_50 & 0.631579 \\\\\n",
       "\t25 & Queens & 16350 & 16350\\_300 & -0.316239 \\\\\n",
       "\t26 & Queens & 16350 & 16350\\_400 & 1.0375 \\\\\n",
       "\t27 & Brooklyn & 1734 & 1734\\_1306 & 0.454376 \\\\\n",
       "\t28 & Queens & 2186 & 2186\\_3c & 0.0313901 \\\\\n",
       "\t29 & Brooklyn & 2250 & 2250\\_1013 & 0.16129 \\\\\n",
       "\t30 & Queens & 2296 & 2296\\_8 & 0.857143 \\\\\n",
       "\t$\\dots$ & $\\dots$ & $\\dots$ & $\\dots$ & $\\dots$ \\\\\n",
       "\\end{tabular}\n"
      ],
      "text/plain": [
       "\u001b[1m71×4 DataFrame\u001b[0m\n",
       "\u001b[1m Row \u001b[0m│\u001b[1m borough       \u001b[0m\u001b[1m block \u001b[0m\u001b[1m uid      \u001b[0m\u001b[1m sale_price \u001b[0m\n",
       "\u001b[1m     \u001b[0m│\u001b[90m String15      \u001b[0m\u001b[90m Int64 \u001b[0m\u001b[90m String   \u001b[0m\u001b[90m Float64    \u001b[0m\n",
       "─────┼────────────────────────────────────────────\n",
       "   1 │ Manhattan       1056  1056_2a   -0.1854\n",
       "   2 │ Brooklyn        1059  1059_4     0.263441\n",
       "   3 │ Brooklyn        1063  1063_3     0.0855615\n",
       "   4 │ Queens         11051  11051_85   0.195431\n",
       "   5 │ Queens         11227  11227_66   0.924322\n",
       "   6 │ Staten Island   1123  1123_25    0.761895\n",
       "   7 │ Queens         11332  11332_17   0.548889\n",
       "   8 │ Manhattan       1158  1158_7h   -0.375439\n",
       "   9 │ Manhattan       1197  1197_3f   -0.372727\n",
       "  10 │ Queens         12186  12186_18   0.628571\n",
       "  11 │ Queens         12359  12359_3    2.05742\n",
       "  ⋮  │       ⋮          ⋮       ⋮          ⋮\n",
       "  62 │ Manhattan        721  721_14e    0.333692\n",
       "  63 │ Queens          7349  7349_2c    0.347458\n",
       "  64 │ Queens          7680  7680_8     1.0\n",
       "  65 │ Brooklyn        7724  7724_59    0.779144\n",
       "  66 │ Queens          7840  7840_a    -0.275109\n",
       "  67 │ Queens          7844  7844_a    -0.221557\n",
       "  68 │ Brooklyn        7889  7889_13    0.495238\n",
       "  69 │ Manhattan        888  888_1007   0.274194\n",
       "  70 │ Manhattan        915  915_1270  -0.0408674\n",
       "  71 │ Queens          9324  9324_29    0.717391\n",
       "\u001b[36m                                   50 rows omitted\u001b[0m"
      ]
     },
     "execution_count": 83,
     "metadata": {},
     "output_type": "execute_result"
    }
   ],
   "source": [
    "yy = df[(df.sale_date .== Date(\"2021-12-31\")) .| (df.sale_date .== Date(\"2020-12-31\")), :]\n",
    "gdf = groupby(yy, [:borough, :uid])\n",
    "gdf = gdf[combine(gdf, nrow).nrow .> 1]\n",
    "yy = combine(gdf, names(yy)...)\n",
    "combine(groupby(yy, [:borough, :block, :uid]), \n",
    "    :sale_price => x -> size(x, 1) > 1 ? (x[2] / x[1] - 1) : nothing => :yy_px; renamecols=false)\n"
   ]
  },
  {
   "cell_type": "code",
   "execution_count": 157,
   "id": "personalized-nothing",
   "metadata": {},
   "outputs": [
    {
     "data": {
      "text/html": [
       "<div class=\"data-frame\"><p>2 rows × 2 columns</p><table class=\"data-frame\"><thead><tr><th></th><th>sale_price</th><th>sale_date</th></tr><tr><th></th><th title=\"Int64\">Int64</th><th title=\"Date\">Date</th></tr></thead><tbody><tr><th>1</th><td>1050000</td><td>2018-09-30</td></tr><tr><th>2</th><td>967338</td><td>2020-12-31</td></tr></tbody></table></div>"
      ],
      "text/latex": [
       "\\begin{tabular}{r|cc}\n",
       "\t& sale\\_price & sale\\_date\\\\\n",
       "\t\\hline\n",
       "\t& Int64 & Date\\\\\n",
       "\t\\hline\n",
       "\t1 & 1050000 & 2018-09-30 \\\\\n",
       "\t2 & 967338 & 2020-12-31 \\\\\n",
       "\\end{tabular}\n"
      ],
      "text/plain": [
       "\u001b[1m2×2 DataFrame\u001b[0m\n",
       "\u001b[1m Row \u001b[0m│\u001b[1m sale_price \u001b[0m\u001b[1m sale_date  \u001b[0m\n",
       "\u001b[1m     \u001b[0m│\u001b[90m Int64      \u001b[0m\u001b[90m Date       \u001b[0m\n",
       "─────┼────────────────────────\n",
       "   1 │    1050000  2018-09-30\n",
       "   2 │     967338  2020-12-31"
      ]
     },
     "execution_count": 157,
     "metadata": {},
     "output_type": "execute_result"
    }
   ],
   "source": [
    "apt = df[(df.block .== 886) .& (df.lot .== 1202), [\"sale_price\", \"sale_date\"]]"
   ]
  },
  {
   "cell_type": "code",
   "execution_count": 174,
   "id": "revised-couple",
   "metadata": {},
   "outputs": [
    {
     "data": {
      "text/html": [
       "<div class=\"data-frame\"><p>5 rows × 5 columns</p><table class=\"data-frame\"><thead><tr><th></th><th>sale_price</th><th>sale_date</th><th>index</th><th>ci₀</th><th>ci₁</th></tr><tr><th></th><th title=\"Union{Missing, Int64}\">Int64?</th><th title=\"Date\">Date</th><th title=\"Union{Missing, Float64}\">Float64?</th><th title=\"Union{Missing, Float64}\">Float64?</th><th title=\"Union{Missing, Float64}\">Float64?</th></tr></thead><tbody><tr><th>1</th><td>967338</td><td>2020-12-31</td><td>8.9032e5</td><td>9.08679e5</td><td>8.72687e5</td></tr><tr><th>2</th><td><em>missing</em></td><td>2021-03-31</td><td>9.62886e5</td><td>9.85377e5</td><td>9.41398e5</td></tr><tr><th>3</th><td><em>missing</em></td><td>2021-06-30</td><td>1.0324e6</td><td>1.07006e6</td><td>9.97304e5</td></tr><tr><th>4</th><td><em>missing</em></td><td>2021-09-30</td><td>1.05463e6</td><td>1.09973e6</td><td>1.01308e6</td></tr><tr><th>5</th><td><em>missing</em></td><td>2021-12-31</td><td>1.07076e6</td><td>1.10476e6</td><td>1.0388e6</td></tr></tbody></table></div>"
      ],
      "text/latex": [
       "\\begin{tabular}{r|ccccc}\n",
       "\t& sale\\_price & sale\\_date & index & ci₀ & ci₁\\\\\n",
       "\t\\hline\n",
       "\t& Int64? & Date & Float64? & Float64? & Float64?\\\\\n",
       "\t\\hline\n",
       "\t1 & 967338 & 2020-12-31 & 8.9032e5 & 9.08679e5 & 8.72687e5 \\\\\n",
       "\t2 & \\emph{missing} & 2021-03-31 & 9.62886e5 & 9.85377e5 & 9.41398e5 \\\\\n",
       "\t3 & \\emph{missing} & 2021-06-30 & 1.0324e6 & 1.07006e6 & 9.97304e5 \\\\\n",
       "\t4 & \\emph{missing} & 2021-09-30 & 1.05463e6 & 1.09973e6 & 1.01308e6 \\\\\n",
       "\t5 & \\emph{missing} & 2021-12-31 & 1.07076e6 & 1.10476e6 & 1.0388e6 \\\\\n",
       "\\end{tabular}\n"
      ],
      "text/plain": [
       "\u001b[1m5×5 DataFrame\u001b[0m\n",
       "\u001b[1m Row \u001b[0m│\u001b[1m sale_price \u001b[0m\u001b[1m sale_date  \u001b[0m\u001b[1m index     \u001b[0m\u001b[1m ci₀       \u001b[0m\u001b[1m ci₁       \u001b[0m\n",
       "\u001b[1m     \u001b[0m│\u001b[90m Int64?     \u001b[0m\u001b[90m Date       \u001b[0m\u001b[90m Float64?  \u001b[0m\u001b[90m Float64?  \u001b[0m\u001b[90m Float64?  \u001b[0m\n",
       "─────┼─────────────────────────────────────────────────────────\n",
       "   1 │     967338  2020-12-31  8.9032e5   9.08679e5  8.72687e5\n",
       "   2 │\u001b[90m    missing \u001b[0m 2021-03-31  9.62886e5  9.85377e5  9.41398e5\n",
       "   3 │\u001b[90m    missing \u001b[0m 2021-06-30  1.0324e6   1.07006e6  9.97304e5\n",
       "   4 │\u001b[90m    missing \u001b[0m 2021-09-30  1.05463e6  1.09973e6  1.01308e6\n",
       "   5 │\u001b[90m    missing \u001b[0m 2021-12-31  1.07076e6  1.10476e6  1.0388e6"
      ]
     },
     "execution_count": 174,
     "metadata": {},
     "output_type": "execute_result"
    }
   ],
   "source": [
    "idx = calc_index(df[(df.borough .== \"Manhattan\") .& (df.house_class .== \"Condo\"), :])\n",
    "idxₐ = outerjoin(apt, idx, on = :sale_date => :dates)\n",
    "f = idxₐ.sale_price[1] / idxₐ.index[1]\n",
    "idxₐ[:, [:index, :ci₀, :ci₁]] .*= f\n",
    "sort!(idxₐ, :sale_date)\n",
    "last(idxₐ, 5)"
   ]
  }
 ],
 "metadata": {
  "kernelspec": {
   "display_name": "Julia 1.5.3",
   "language": "julia",
   "name": "julia-1.5"
  },
  "language_info": {
   "file_extension": ".jl",
   "mimetype": "application/julia",
   "name": "julia",
   "version": "1.7.1"
  }
 },
 "nbformat": 4,
 "nbformat_minor": 5
}
