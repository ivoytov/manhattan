{
  "nbformat": 4,
  "nbformat_minor": 0,
  "metadata": {
    "colab": {
      "name": "loans.ipynb",
      "provenance": [],
      "collapsed_sections": [],
      "mount_file_id": "1x2qbpBgre0ogzI-jKnVwkevTcTtI7uOA",
      "authorship_tag": "ABX9TyNT9FxVG9rQ9WFEVPWZh4fa",
      "include_colab_link": true
    },
    "kernelspec": {
      "display_name": "Python 3",
      "name": "python3"
    }
  },
  "cells": [
    {
      "cell_type": "markdown",
      "metadata": {
        "id": "view-in-github",
        "colab_type": "text"
      },
      "source": [
        "<a href=\"https://colab.research.google.com/github/ivoytov/manhattan/blob/master/loans.ipynb\" target=\"_parent\"><img src=\"https://colab.research.google.com/assets/colab-badge.svg\" alt=\"Open In Colab\"/></a>"
      ]
    },
    {
      "cell_type": "code",
      "metadata": {
        "id": "sBPemmImCQ5Q"
      },
      "source": [
        "import numpy as np\n",
        "import pandas as pd"
      ],
      "execution_count": 104,
      "outputs": []
    },
    {
      "cell_type": "markdown",
      "metadata": {
        "id": "zGwN_DLlCj8J"
      },
      "source": [
        "### Data Sources ###\r\n",
        "Loan data is from Bloomberg BVAL, based on end of day price valuation. Loan list is compiled by screening for:\r\n",
        "\r\n",
        "1.   Active Loans\r\n",
        "2.   First Lien Rank\r\n",
        "3.   Incorporated in the U.S.\r\n",
        "4.   Denominated in USD\r\n",
        "5.   \\>= $1B outstanding\r\n",
        "6.   Non-Investment Grade Rating from either S&P *or* Moody's\r\n",
        "\r\n",
        "The screen is run as of the last day of every quarter (3/31, 6/30, 9/30, and 12/31). Loans that mature or expire during a quarter are included in that quarterly period, but are removed from the screen for the following quarter.\r\n",
        "\r\n",
        "### Data Format\r\n",
        "\r\n",
        "* `loan_data` - Loan IDs are arranged as separate columns, with the first column containing the date index. Price is listed as values in XX.XX format (% of par). If price is unavailable, then #N/A is listed. Trading days only. There are two files, one for loans from 12-31-2018 to 10-15-2020 period, and one for the 12-31-2015 to 12-31-2018 period.\r\n",
        "\r\n",
        "* `loan_desc` - Loan IDs are arranged in the first column, with subsequent columns containing metadata on the loan.\r\n",
        "\r\n",
        "* `periods` - Quarters are listed as separate columns. Loan IDs from the above-mentioned screen are listed under the column header with the `as of` date."
      ]
    },
    {
      "cell_type": "code",
      "metadata": {
        "id": "DC8gVkkgHmoA",
        "colab": {
          "base_uri": "https://localhost:8080/"
        },
        "outputId": "b5980787-afad-44d8-9fd9-922aee2d0aaf"
      },
      "source": [
        "# read in historical prices\r\n",
        "prices_2019_2020 = pd.read_csv('/content/drive/MyDrive/loans/loan_data_2019-2020.csv', parse_dates=['Dates'], index_col='Dates')\r\n",
        "prices_2016_2018 = pd.read_csv('/content/drive/MyDrive/loans/price_data_2016-2018.csv', parse_dates=['Dates'], index_col='Dates')\r\n",
        "\r\n",
        "prices = pd.concat([prices_2016_2018, prices_2019_2020], join=\"outer\", verify_integrity=True)\r\n",
        "print(\"(# dates, # tickers)\",prices_2016_2018.shape, prices_2019_2020.shape, prices.shape)\r\n",
        "prices = prices.fillna(method=\"pad\")\r\n",
        "\r\n",
        "# not used yet\r\n",
        "#desc = pd.read_csv('/content/drive/MyDrive/loans/loan_desc.csv', parse_dates=['FUNDING_DATE', 'MATURITY', ], index_col='ID')"
      ],
      "execution_count": 105,
      "outputs": [
        {
          "output_type": "stream",
          "text": [
            "(# dates, # tickers) (749, 946) (463, 530) (1212, 1202)\n"
          ],
          "name": "stdout"
        }
      ]
    },
    {
      "cell_type": "markdown",
      "metadata": {
        "id": "h5VaHR7JO5Ex"
      },
      "source": [
        "The trading strategy is to buy every loan that has appreciated by at least 3 points (`BIG_MOVE`) and to short every loan that did the opposite. We exclude loans that are trading at too low prices from the short signals (too much risk of the loan trading up) and vice versa. This is especially relevant on the long side, as we don't want to long loans trading at par or above as there is no upside left."
      ]
    },
    {
      "cell_type": "code",
      "metadata": {
        "id": "GpLULDX7Pzli"
      },
      "source": [
        "LOOKBACK_DAYS = 5\n",
        "HOLD_DAYS = 5\n",
        "BIG_MOVE = .05\n",
        "PRICE_RANGE = [85, 85]\n",
        "price_chg = prices.pct_change(periods=LOOKBACK_DAYS)\n",
        "sell = (price_chg.shift(1) > BIG_MOVE) & (prices > PRICE_RANGE[0])\n",
        "buy = (price_chg.shift(1) < -BIG_MOVE) & (prices < PRICE_RANGE[1])\n",
        "labels = buy*1.0 - sell*1.0"
      ],
      "execution_count": 106,
      "outputs": []
    },
    {
      "cell_type": "markdown",
      "metadata": {
        "id": "tWSB2XjFNePB"
      },
      "source": [
        "Demonstration of some sample `labels` output. `1` means we are long the loan in the quarter that start on the day shown on the left (index) column. So we are short the loan BL312818 starting 2020-03-31, and we are long the loan BL323453 starging 2020-03-20. `0` means we have no position in the loan, either because it didn't exist or because it didn't have a big move in the lookback period. To avoid lookback bias, the date shown below is one trading day after the loan met the buy or sell criteria."
      ]
    },
    {
      "cell_type": "code",
      "metadata": {
        "colab": {
          "base_uri": "https://localhost:8080/",
          "height": 452
        },
        "id": "F3bS_CZ6AsWf",
        "outputId": "14ca10ec-25a1-47d3-aad0-1eebbf3e2a0d"
      },
      "source": [
        "labels.loc['2020-03-15':'2020-03-31', labels.columns[-6:-3]]"
      ],
      "execution_count": 107,
      "outputs": [
        {
          "output_type": "execute_result",
          "data": {
            "text/html": [
              "<div>\n",
              "<style scoped>\n",
              "    .dataframe tbody tr th:only-of-type {\n",
              "        vertical-align: middle;\n",
              "    }\n",
              "\n",
              "    .dataframe tbody tr th {\n",
              "        vertical-align: top;\n",
              "    }\n",
              "\n",
              "    .dataframe thead th {\n",
              "        text-align: right;\n",
              "    }\n",
              "</style>\n",
              "<table border=\"1\" class=\"dataframe\">\n",
              "  <thead>\n",
              "    <tr style=\"text-align: right;\">\n",
              "      <th></th>\n",
              "      <th>BL312818</th>\n",
              "      <th>BL323453</th>\n",
              "      <th>BL320288</th>\n",
              "    </tr>\n",
              "    <tr>\n",
              "      <th>Dates</th>\n",
              "      <th></th>\n",
              "      <th></th>\n",
              "      <th></th>\n",
              "    </tr>\n",
              "  </thead>\n",
              "  <tbody>\n",
              "    <tr>\n",
              "      <th>2020-03-16</th>\n",
              "      <td>0.0</td>\n",
              "      <td>0.0</td>\n",
              "      <td>0.0</td>\n",
              "    </tr>\n",
              "    <tr>\n",
              "      <th>2020-03-17</th>\n",
              "      <td>0.0</td>\n",
              "      <td>0.0</td>\n",
              "      <td>0.0</td>\n",
              "    </tr>\n",
              "    <tr>\n",
              "      <th>2020-03-18</th>\n",
              "      <td>0.0</td>\n",
              "      <td>0.0</td>\n",
              "      <td>0.0</td>\n",
              "    </tr>\n",
              "    <tr>\n",
              "      <th>2020-03-19</th>\n",
              "      <td>0.0</td>\n",
              "      <td>0.0</td>\n",
              "      <td>0.0</td>\n",
              "    </tr>\n",
              "    <tr>\n",
              "      <th>2020-03-20</th>\n",
              "      <td>1.0</td>\n",
              "      <td>1.0</td>\n",
              "      <td>0.0</td>\n",
              "    </tr>\n",
              "    <tr>\n",
              "      <th>2020-03-23</th>\n",
              "      <td>1.0</td>\n",
              "      <td>1.0</td>\n",
              "      <td>0.0</td>\n",
              "    </tr>\n",
              "    <tr>\n",
              "      <th>2020-03-24</th>\n",
              "      <td>1.0</td>\n",
              "      <td>1.0</td>\n",
              "      <td>0.0</td>\n",
              "    </tr>\n",
              "    <tr>\n",
              "      <th>2020-03-25</th>\n",
              "      <td>1.0</td>\n",
              "      <td>1.0</td>\n",
              "      <td>0.0</td>\n",
              "    </tr>\n",
              "    <tr>\n",
              "      <th>2020-03-26</th>\n",
              "      <td>0.0</td>\n",
              "      <td>0.0</td>\n",
              "      <td>0.0</td>\n",
              "    </tr>\n",
              "    <tr>\n",
              "      <th>2020-03-27</th>\n",
              "      <td>0.0</td>\n",
              "      <td>0.0</td>\n",
              "      <td>0.0</td>\n",
              "    </tr>\n",
              "    <tr>\n",
              "      <th>2020-03-30</th>\n",
              "      <td>0.0</td>\n",
              "      <td>-1.0</td>\n",
              "      <td>0.0</td>\n",
              "    </tr>\n",
              "    <tr>\n",
              "      <th>2020-03-31</th>\n",
              "      <td>-1.0</td>\n",
              "      <td>-1.0</td>\n",
              "      <td>0.0</td>\n",
              "    </tr>\n",
              "  </tbody>\n",
              "</table>\n",
              "</div>"
            ],
            "text/plain": [
              "            BL312818  BL323453  BL320288\n",
              "Dates                                   \n",
              "2020-03-16       0.0       0.0       0.0\n",
              "2020-03-17       0.0       0.0       0.0\n",
              "2020-03-18       0.0       0.0       0.0\n",
              "2020-03-19       0.0       0.0       0.0\n",
              "2020-03-20       1.0       1.0       0.0\n",
              "2020-03-23       1.0       1.0       0.0\n",
              "2020-03-24       1.0       1.0       0.0\n",
              "2020-03-25       1.0       1.0       0.0\n",
              "2020-03-26       0.0       0.0       0.0\n",
              "2020-03-27       0.0       0.0       0.0\n",
              "2020-03-30       0.0      -1.0       0.0\n",
              "2020-03-31      -1.0      -1.0       0.0"
            ]
          },
          "metadata": {
            "tags": []
          },
          "execution_count": 107
        }
      ]
    },
    {
      "cell_type": "markdown",
      "metadata": {
        "id": "sSyVlSWzJOD_"
      },
      "source": [
        "Functions to:\r\n",
        "* Generate labels between {-1, 0, 1} that mean we are short, neutral, or long the loan ID for that entire period\r\n",
        "\r\n",
        "* Generate bins between {0, 1} that mean that the trade was good (\\>$0 PNL, or `1`) or bad (negative PNL, or `0`) based on the side we picked in `labels` and the actual price change in the following period. Ignores interest income."
      ]
    },
    {
      "cell_type": "code",
      "metadata": {
        "id": "Pl7A7tu-U2-e"
      },
      "source": [
        "# triple barrier method function\n",
        "# close:  a pandas series of prices\n",
        "# events: a pandas dataframe wiht columns\n",
        "#   - t1:   the timestamp of vertical barrier. When np.nan, no vertical barrier\n",
        "#.  - trgt: the unit width of the horizontal barriers\n",
        "# ptSl: a list of two non negative floats\n",
        "#   - ptSl[0] the factor that multiplies trgt to set the width of the upper barrier. if 0, no upper barrier\n",
        "#   - ptSl[1] the factor tha multiplesi trgt ot set the width of the lower barrier. if 0, no lower barrier\n",
        "# molecule a list with the subset of event indices that will be processed by single thread\n",
        "\n",
        "def applyPtSlOnT1(close, events, ptSl, molecule):\n",
        "    # apply stop loss/profit taking, if it takes place before t1 (end of event)\n",
        "    events_ = events.loc[molecule]\n",
        "    out = events_[['t1']].copy(deep=True)\n",
        "    if ptSl[0]>0:\n",
        "        pt = ptSl[0] * events_['trgt']\n",
        "    else:\n",
        "        pt = pd.Series(index=events.index) #NaNs\n",
        "\n",
        "    if ptSl[1] > 0:\n",
        "        sl = -ptSl[1] * events_['trgt']\n",
        "    else:\n",
        "        sl = pd.Series(index = events.index) #NaNs\n",
        "\n",
        "    for loc, t1 in events_['t1'].fillna(close.index[-1]).iteritems():\n",
        "        df0 = close[loc:t1] #path prices\n",
        "        df0 = (df0 / close[loc] -1) * events_.at[loc,'side'] # path returns\n",
        "        out.loc[loc, 'sl'] = df0[df0 < sl[loc]].index.min() # earliest stop loss\n",
        "        out.loc[loc, 'pt'] = df0[df0 > pt[loc]].index.min() # earliest profit taking\n",
        "    return out\n",
        "\n",
        "def getVertBarrier(gRaw, tEvents, numDays: int) -> pd.Series:\n",
        "    t1 = gRaw.index.searchsorted(tEvents + pd.Timedelta(days = numDays))\n",
        "    t1 = t1[t1 < gRaw.shape[0]]\n",
        "    t1 = pd.Series(gRaw.index[t1], index=tEvents[:t1.shape[0]]) #NaNs at the end\n",
        "    t1 = t1.rename('t1')\n",
        "    return t1\n",
        "\n",
        "def getBins(events: pd.DataFrame, close: pd.Series) -> pd.DataFrame:\n",
        "    '''\n",
        "    Compute event's outcome (including side info, if provided)\n",
        "    events is a dataframe where:\n",
        "    -events.index is event's starttime\n",
        "    -events['t1'] is event's endtime\n",
        "    -events['trgt'] is event's target return\n",
        "    -events['side'] (optional) implies the algo's position side\n",
        "    Case 1: ('side' not in events) bin in (-1, 1) <- label by price action\n",
        "    Case 2: ('side' in events) bin in (0,1) <- label by pnl (meta labeling)\n",
        "    '''\n",
        "    #1) prices aligned with events\n",
        "    events_ = events.dropna(subset=['t1'])\n",
        "    px = events_.index.union(events_['t1']).drop_duplicates()\n",
        "    px = close.reindex(px, method='bfill')\n",
        "\n",
        "    #2) create out object\n",
        "    out = pd.DataFrame(index = events_.index)\n",
        "    out['ret'] = px.loc[events_['t1']].values / px.loc[events_.index] - 1 \n",
        "    out['t1'] = events_['t1']\n",
        "    if 'side' in events_:\n",
        "        out['ret'] *= events_['side']     # meta-labeling\n",
        "\n",
        "    out['bin'] = np.sign(out['ret'])\n",
        "    if 'side' in events_:\n",
        "        out.loc[out['ret'] <= 0, 'bin'] = 0    # meta-labeling\n",
        "        out['side'] = events_['side']\n",
        "    return out\n",
        "\n",
        "# find the time of the first barrier touch\n",
        "#  close: pandas series of prices\n",
        "#  tEvents pandas timeindex of timestamps that will seed every ttriple barrier\n",
        "#  ptSl a non negative flat that sets the width of th two barriers (symm)\n",
        "# t1 pandas series with the timestamps of the vert barriers. pass false to disable\n",
        "# trgt: pandas series of targets, expressed in terms of absolute returns\n",
        "# minRet minimum target return required for running a triple barrier search\n",
        "# numThreads  not used yet\n",
        "\n",
        "# output:\n",
        "# - t1: timestamp of when the first barrier is touched\n",
        "# - trgt: the target that was used to generate the horizontal barrier\n",
        "\n",
        "def getEvents(close, tEvents, ptSl, trgt, minRet, numThreads, t1=False, side=None):\n",
        "    #1) get target\n",
        "    trgt = trgt.loc[tEvents]\n",
        "    trgt = trgt[trgt > minRet]\n",
        "\n",
        "    #2) get t1 (max holding period)\n",
        "    if t1 is False:\n",
        "        t1 = pd.Series(pd.NaT, index=tEvents, dtype='datetime64')\n",
        "\n",
        "    #3) form events object, apply stop loss on t1\n",
        "    if side is None:\n",
        "        side_ = pd.Series(1., index=trgt.index)\n",
        "        ptSl_ = [ptSl, ptSl]\n",
        "    else:\n",
        "        side_ = side.loc[trgt.index]\n",
        "        ptSl_ = ptSl[:2]\n",
        "\n",
        "    events = pd.concat({'t1': t1, 'trgt': trgt, 'side': side_ }, axis = 1).dropna(subset=['trgt'])\n",
        "\n",
        "    df0 = applyPtSlOnT1(close, events, ptSl_, events.index)\n",
        "    events['t1'] = df0.dropna(how='all').apply(lambda x: x.min(),axis=1)\n",
        "    if side is None:\n",
        "        events = events.drop('side', axis = 1)\n",
        "    events = events.dropna(subset=['t1'])\n",
        "    return events\n",
        "\n",
        "# daily vol, reindexed to close\n",
        "def getDailyVol(close, span=14):\n",
        "    df0 = close.index.searchsorted(close.index - pd.Timedelta(days = 1))\n",
        "    df0 = df0[df0 > 0]\n",
        "    df0 = pd.Series(close.index[df0 - 1], index=close.index[close.shape[0] - df0.shape[0]:])\n",
        "    df0 = close.loc[df0.index] / close.loc[df0].values - 1 # daily returns\n",
        "    df0 = df0.ewm(span=span).std().rename('trgt')\n",
        "    return df0\n",
        "\n",
        "def getBins(events, close):\n",
        "    '''\n",
        "    Compute event's outcome (including side info, if provided)\n",
        "    events is a dataframe where:\n",
        "    -events.index is event's starttime\n",
        "    -events['t1'] is event's endtime\n",
        "    -events['trgt'] is event's target return\n",
        "    -events['side'] (optional) implies the algo's position side\n",
        "    Case 1: ('side' not in events) bin in (-1, 1) <- label by price action\n",
        "    Case 2: ('side' in events) bin in (0,1) <- label by pnl (meta labeling)\n",
        "    '''\n",
        "    #1) prices aligned with events\n",
        "    events_ = events.dropna(subset=['t1'])\n",
        "    px = events_.index.union(events_['t1']).drop_duplicates()\n",
        "    px = close.reindex(px, method='bfill')\n",
        "\n",
        "    #2) create out object\n",
        "    out = pd.DataFrame(index = events_.index)\n",
        "    out['ret'] = px.loc[events_['t1']].values / px.loc[events_.index] - 1 \n",
        "    out['t1'] = events_['t1']\n",
        "    if 'side' in events_:\n",
        "        out['ret'] *= events_['side']     # meta-labeling\n",
        "\n",
        "    out['bin'] = np.sign(out['ret'])\n",
        "    if 'side' in events_:\n",
        "        out.loc[out['ret'] <= 0, 'bin'] = 0    # meta-labeling\n",
        "        out['side'] = events_['side']\n",
        "    return out"
      ],
      "execution_count": 108,
      "outputs": []
    },
    {
      "cell_type": "markdown",
      "metadata": {
        "id": "pmq-p8VMOZy7"
      },
      "source": [
        "The trading strategy is to observer trading prices of loans trading below 85 (`PRICE_RANGE`), when one of them gains 3 percent (`BIG_MOVE`) in any 5 day period (`LOOKBACK_DAYS`), then we buy the loan on the following days close. We hold the loan for 5 days (`HOLD_DAYS`) and sell. If the position moves in our favor or against us by 3%, then we stop loss or harvest early.\n",
        "\n",
        "The `getBins` function returns a table of trade outcomes for each loan in {0,1} - 1 if trade made money, 0 if the trade lost money. "
      ]
    },
    {
      "cell_type": "code",
      "metadata": {
        "colab": {
          "base_uri": "https://localhost:8080/",
          "height": 450
        },
        "id": "QaoH9GTFWa78",
        "outputId": "62c00cd2-f70f-4d10-b32f-b65e4f9498ac"
      },
      "source": [
        "out = pd.DataFrame()\n",
        "for ticker in labels.columns:\n",
        "  dates = labels[ticker][labels[ticker] != 0].index\n",
        "  t1 = getVertBarrier(prices[ticker], dates, HOLD_DAYS)\n",
        "  trgt = getDailyVol(prices[ticker])\n",
        "  events = getEvents(prices[ticker], dates, ptSl=[.03,.03], trgt=trgt, minRet=0.01, numThreads=1, t1=t1, side=labels[ticker])\n",
        "  bins = getBins(events, prices[ticker])\n",
        "  bins['ticker'] = ticker   \n",
        "  out = pd.concat([out, bins])\n",
        "\n",
        "bins = out.set_index('ticker', append=True)\n",
        "bins"
      ],
      "execution_count": 109,
      "outputs": [
        {
          "output_type": "execute_result",
          "data": {
            "text/html": [
              "<div>\n",
              "<style scoped>\n",
              "    .dataframe tbody tr th:only-of-type {\n",
              "        vertical-align: middle;\n",
              "    }\n",
              "\n",
              "    .dataframe tbody tr th {\n",
              "        vertical-align: top;\n",
              "    }\n",
              "\n",
              "    .dataframe thead th {\n",
              "        text-align: right;\n",
              "    }\n",
              "</style>\n",
              "<table border=\"1\" class=\"dataframe\">\n",
              "  <thead>\n",
              "    <tr style=\"text-align: right;\">\n",
              "      <th></th>\n",
              "      <th></th>\n",
              "      <th>ret</th>\n",
              "      <th>t1</th>\n",
              "      <th>bin</th>\n",
              "      <th>side</th>\n",
              "    </tr>\n",
              "    <tr>\n",
              "      <th>Dates</th>\n",
              "      <th>ticker</th>\n",
              "      <th></th>\n",
              "      <th></th>\n",
              "      <th></th>\n",
              "      <th></th>\n",
              "    </tr>\n",
              "  </thead>\n",
              "  <tbody>\n",
              "    <tr>\n",
              "      <th>2016-12-21</th>\n",
              "      <th>BL101755</th>\n",
              "      <td>0.021684</td>\n",
              "      <td>2016-12-22</td>\n",
              "      <td>1.0</td>\n",
              "      <td>-1.0</td>\n",
              "    </tr>\n",
              "    <tr>\n",
              "      <th>2016-12-22</th>\n",
              "      <th>BL101755</th>\n",
              "      <td>-0.014999</td>\n",
              "      <td>2016-12-23</td>\n",
              "      <td>0.0</td>\n",
              "      <td>-1.0</td>\n",
              "    </tr>\n",
              "    <tr>\n",
              "      <th>2016-06-21</th>\n",
              "      <th>BL787561</th>\n",
              "      <td>0.039761</td>\n",
              "      <td>2016-06-22</td>\n",
              "      <td>1.0</td>\n",
              "      <td>1.0</td>\n",
              "    </tr>\n",
              "    <tr>\n",
              "      <th>2016-06-22</th>\n",
              "      <th>BL787561</th>\n",
              "      <td>0.015296</td>\n",
              "      <td>2016-06-23</td>\n",
              "      <td>1.0</td>\n",
              "      <td>1.0</td>\n",
              "    </tr>\n",
              "    <tr>\n",
              "      <th>2016-06-23</th>\n",
              "      <th>BL787561</th>\n",
              "      <td>-0.003766</td>\n",
              "      <td>2016-06-24</td>\n",
              "      <td>0.0</td>\n",
              "      <td>1.0</td>\n",
              "    </tr>\n",
              "    <tr>\n",
              "      <th>...</th>\n",
              "      <th>...</th>\n",
              "      <td>...</td>\n",
              "      <td>...</td>\n",
              "      <td>...</td>\n",
              "      <td>...</td>\n",
              "    </tr>\n",
              "    <tr>\n",
              "      <th>2020-04-13</th>\n",
              "      <th>BL320288</th>\n",
              "      <td>-0.002334</td>\n",
              "      <td>2020-04-20</td>\n",
              "      <td>0.0</td>\n",
              "      <td>-1.0</td>\n",
              "    </tr>\n",
              "    <tr>\n",
              "      <th>2020-04-14</th>\n",
              "      <th>BL320288</th>\n",
              "      <td>-0.002470</td>\n",
              "      <td>2020-04-20</td>\n",
              "      <td>0.0</td>\n",
              "      <td>-1.0</td>\n",
              "    </tr>\n",
              "    <tr>\n",
              "      <th>2020-04-15</th>\n",
              "      <th>BL320288</th>\n",
              "      <td>-0.002586</td>\n",
              "      <td>2020-04-20</td>\n",
              "      <td>0.0</td>\n",
              "      <td>-1.0</td>\n",
              "    </tr>\n",
              "    <tr>\n",
              "      <th>2020-04-16</th>\n",
              "      <th>BL320288</th>\n",
              "      <td>-0.002670</td>\n",
              "      <td>2020-04-20</td>\n",
              "      <td>0.0</td>\n",
              "      <td>-1.0</td>\n",
              "    </tr>\n",
              "    <tr>\n",
              "      <th>2020-04-17</th>\n",
              "      <th>BL320288</th>\n",
              "      <td>-0.002754</td>\n",
              "      <td>2020-04-20</td>\n",
              "      <td>0.0</td>\n",
              "      <td>-1.0</td>\n",
              "    </tr>\n",
              "  </tbody>\n",
              "</table>\n",
              "<p>4894 rows × 4 columns</p>\n",
              "</div>"
            ],
            "text/plain": [
              "                          ret         t1  bin  side\n",
              "Dates      ticker                                  \n",
              "2016-12-21 BL101755  0.021684 2016-12-22  1.0  -1.0\n",
              "2016-12-22 BL101755 -0.014999 2016-12-23  0.0  -1.0\n",
              "2016-06-21 BL787561  0.039761 2016-06-22  1.0   1.0\n",
              "2016-06-22 BL787561  0.015296 2016-06-23  1.0   1.0\n",
              "2016-06-23 BL787561 -0.003766 2016-06-24  0.0   1.0\n",
              "...                       ...        ...  ...   ...\n",
              "2020-04-13 BL320288 -0.002334 2020-04-20  0.0  -1.0\n",
              "2020-04-14 BL320288 -0.002470 2020-04-20  0.0  -1.0\n",
              "2020-04-15 BL320288 -0.002586 2020-04-20  0.0  -1.0\n",
              "2020-04-16 BL320288 -0.002670 2020-04-20  0.0  -1.0\n",
              "2020-04-17 BL320288 -0.002754 2020-04-20  0.0  -1.0\n",
              "\n",
              "[4894 rows x 4 columns]"
            ]
          },
          "metadata": {
            "tags": []
          },
          "execution_count": 109
        }
      ]
    },
    {
      "cell_type": "markdown",
      "metadata": {
        "id": "m8jXy6aJCciI"
      },
      "source": [
        "Group the events by side and calculate how often the trade makes money. Both events triggered thousands of times so this is a robust sample - but do note that there is some overlap in the events. There were more long than short events. The long trades generated a median return of 4 bps in the reasonably short holding period, while the short trades lost 2 bps. This is before trading fees, which on a $1B+ loan can be estimated at ~30 bps each side (60bps round trip)."
      ]
    },
    {
      "cell_type": "code",
      "metadata": {
        "colab": {
          "base_uri": "https://localhost:8080/",
          "height": 173
        },
        "id": "sPNqAFfqUEJI",
        "outputId": "79a973bf-810b-4702-ae5a-a3ed0d3e54bb"
      },
      "source": [
        "def percentile(n):\n",
        "    def percentile_(x):\n",
        "        return np.percentile(x, n)\n",
        "    percentile_.__name__ = 'percentile_%s' % n\n",
        "    return percentile_\n",
        "\n",
        "pd.pivot_table(bins, index=['side'], values='ret', aggfunc=[len, np.mean,  percentile(25), \n",
        "                                                            percentile(50), percentile(75), \n",
        "                                                            max, min, np.sum])"
      ],
      "execution_count": 110,
      "outputs": [
        {
          "output_type": "execute_result",
          "data": {
            "text/html": [
              "<div>\n",
              "<style scoped>\n",
              "    .dataframe tbody tr th:only-of-type {\n",
              "        vertical-align: middle;\n",
              "    }\n",
              "\n",
              "    .dataframe tbody tr th {\n",
              "        vertical-align: top;\n",
              "    }\n",
              "\n",
              "    .dataframe thead tr th {\n",
              "        text-align: left;\n",
              "    }\n",
              "\n",
              "    .dataframe thead tr:last-of-type th {\n",
              "        text-align: right;\n",
              "    }\n",
              "</style>\n",
              "<table border=\"1\" class=\"dataframe\">\n",
              "  <thead>\n",
              "    <tr>\n",
              "      <th></th>\n",
              "      <th>len</th>\n",
              "      <th>mean</th>\n",
              "      <th>percentile_25</th>\n",
              "      <th>percentile_50</th>\n",
              "      <th>percentile_75</th>\n",
              "      <th>max</th>\n",
              "      <th>min</th>\n",
              "      <th>sum</th>\n",
              "    </tr>\n",
              "    <tr>\n",
              "      <th></th>\n",
              "      <th>ret</th>\n",
              "      <th>ret</th>\n",
              "      <th>ret</th>\n",
              "      <th>ret</th>\n",
              "      <th>ret</th>\n",
              "      <th>ret</th>\n",
              "      <th>ret</th>\n",
              "      <th>ret</th>\n",
              "    </tr>\n",
              "    <tr>\n",
              "      <th>side</th>\n",
              "      <th></th>\n",
              "      <th></th>\n",
              "      <th></th>\n",
              "      <th></th>\n",
              "      <th></th>\n",
              "      <th></th>\n",
              "      <th></th>\n",
              "      <th></th>\n",
              "    </tr>\n",
              "  </thead>\n",
              "  <tbody>\n",
              "    <tr>\n",
              "      <th>-1.0</th>\n",
              "      <td>1998.0</td>\n",
              "      <td>-0.002880</td>\n",
              "      <td>-0.007551</td>\n",
              "      <td>-0.001952</td>\n",
              "      <td>0.002062</td>\n",
              "      <td>0.237430</td>\n",
              "      <td>-0.108274</td>\n",
              "      <td>-5.753618</td>\n",
              "    </tr>\n",
              "    <tr>\n",
              "      <th>1.0</th>\n",
              "      <td>2896.0</td>\n",
              "      <td>0.001714</td>\n",
              "      <td>-0.010024</td>\n",
              "      <td>0.000433</td>\n",
              "      <td>0.012274</td>\n",
              "      <td>0.652025</td>\n",
              "      <td>-0.488593</td>\n",
              "      <td>4.964335</td>\n",
              "    </tr>\n",
              "  </tbody>\n",
              "</table>\n",
              "</div>"
            ],
            "text/plain": [
              "         len      mean percentile_25  ...       max       min       sum\n",
              "         ret       ret           ret  ...       ret       ret       ret\n",
              "side                                  ...                              \n",
              "-1.0  1998.0 -0.002880     -0.007551  ...  0.237430 -0.108274 -5.753618\n",
              " 1.0  2896.0  0.001714     -0.010024  ...  0.652025 -0.488593  4.964335\n",
              "\n",
              "[2 rows x 8 columns]"
            ]
          },
          "metadata": {
            "tags": []
          },
          "execution_count": 110
        }
      ]
    },
    {
      "cell_type": "markdown",
      "metadata": {
        "id": "oaaMF4pnqh9_"
      },
      "source": [
        "Plot the histogram of the returns from the long trades and then the short trades. We clip the histogram window at +/- 10% return to avoid showing the huge outliers."
      ]
    },
    {
      "cell_type": "code",
      "metadata": {
        "colab": {
          "base_uri": "https://localhost:8080/",
          "height": 282
        },
        "id": "uLzRrJCLR-NE",
        "outputId": "6ff8350a-ea62-4c9d-b7b9-248fdf112520"
      },
      "source": [
        "bins[(bins.side == 1) & (bins.ret <.1) & (bins.ret >-.1)].ret.plot.hist(bins=20)"
      ],
      "execution_count": 112,
      "outputs": [
        {
          "output_type": "execute_result",
          "data": {
            "text/plain": [
              "<matplotlib.axes._subplots.AxesSubplot at 0x7f39d3cc30b8>"
            ]
          },
          "metadata": {
            "tags": []
          },
          "execution_count": 112
        },
        {
          "output_type": "display_data",
          "data": {
            "image/png": "[encoded data removed]",
            "text/plain": [
              "<Figure size 432x288 with 1 Axes>"
            ]
          },
          "metadata": {
            "tags": [],
            "needs_background": "light"
          }
        }
      ]
    },
    {
      "cell_type": "code",
      "metadata": {
        "colab": {
          "base_uri": "https://localhost:8080/",
          "height": 282
        },
        "id": "EwmL6y-lf6H4",
        "outputId": "52aa24f1-ec8e-4cee-b6ae-abb3eac4f2f4"
      },
      "source": [
        "bins[(bins.side == -1) & (bins.ret <.1) & (bins.ret >-.1)].ret.plot.hist(bins=20)"
      ],
      "execution_count": 113,
      "outputs": [
        {
          "output_type": "execute_result",
          "data": {
            "text/plain": [
              "<matplotlib.axes._subplots.AxesSubplot at 0x7f39d460c470>"
            ]
          },
          "metadata": {
            "tags": []
          },
          "execution_count": 113
        },
        {
          "output_type": "display_data",
          "data": {
            "image/png": "[encoded data removed]",
            "text/plain": [
              "<Figure size 432x288 with 1 Axes>"
            ]
          },
          "metadata": {
            "tags": [],
            "needs_background": "light"
          }
        }
      ]
    }
  ]
}